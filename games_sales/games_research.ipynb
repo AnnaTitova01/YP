{
 "cells": [
  {
   "cell_type": "markdown",
   "metadata": {
    "id": "II472EmoWl57"
   },
   "source": [
    "**Описание проекта**"
   ]
  },
  {
   "cell_type": "markdown",
   "metadata": {
    "id": "FiMeqQ14W6Ve"
   },
   "source": [
    "Из открытых источников доступны исторические данные о продажах игр, оценки пользователей и экспертов, жанры и платформы. Нужно выявить определяющие успешность игры закономерности. Это позволит сделать ставку на потенциально популярный продукт и спланировать рекламные компании."
   ]
  },
  {
   "cell_type": "markdown",
   "metadata": {
    "id": "4KAORekXYAX1"
   },
   "source": [
    "**Шаг 1. Общая информация**"
   ]
  },
  {
   "cell_type": "markdown",
   "metadata": {},
   "source": [
    "Импорт библиотек"
   ]
  },
  {
   "cell_type": "code",
   "execution_count": 5,
   "metadata": {
    "id": "lbQ7IiBRYWZ_"
   },
   "outputs": [],
   "source": [
    "import pandas as pd\n",
    "import numpy as np\n",
    "import matplotlib.pyplot as plt\n",
    "import seaborn as sns\n",
    "from scipy import stats as st"
   ]
  },
  {
   "cell_type": "code",
   "execution_count": 6,
   "metadata": {
    "colab": {
     "base_uri": "https://localhost:8080/"
    },
    "id": "qeBID8D8UIkv",
    "outputId": "23bb7035-6f06-437f-eb9d-067a6b30bace"
   },
   "outputs": [
    {
     "name": "stdout",
     "output_type": "stream",
     "text": [
      "<class 'pandas.core.frame.DataFrame'>\n",
      "RangeIndex: 16715 entries, 0 to 16714\n",
      "Data columns (total 11 columns):\n",
      " #   Column           Non-Null Count  Dtype  \n",
      "---  ------           --------------  -----  \n",
      " 0   Name             16713 non-null  object \n",
      " 1   Platform         16715 non-null  object \n",
      " 2   Year_of_Release  16446 non-null  float64\n",
      " 3   Genre            16713 non-null  object \n",
      " 4   NA_sales         16715 non-null  float64\n",
      " 5   EU_sales         16715 non-null  float64\n",
      " 6   JP_sales         16715 non-null  float64\n",
      " 7   Other_sales      16715 non-null  float64\n",
      " 8   Critic_Score     8137 non-null   float64\n",
      " 9   User_Score       10014 non-null  object \n",
      " 10  Rating           9949 non-null   object \n",
      "dtypes: float64(6), object(5)\n",
      "memory usage: 1.4+ MB\n"
     ]
    },
    {
     "data": {
      "text/html": [
       "<div>\n",
       "<style scoped>\n",
       "    .dataframe tbody tr th:only-of-type {\n",
       "        vertical-align: middle;\n",
       "    }\n",
       "\n",
       "    .dataframe tbody tr th {\n",
       "        vertical-align: top;\n",
       "    }\n",
       "\n",
       "    .dataframe thead th {\n",
       "        text-align: right;\n",
       "    }\n",
       "</style>\n",
       "<table border=\"1\" class=\"dataframe\">\n",
       "  <thead>\n",
       "    <tr style=\"text-align: right;\">\n",
       "      <th></th>\n",
       "      <th>Name</th>\n",
       "      <th>Platform</th>\n",
       "      <th>Year_of_Release</th>\n",
       "      <th>Genre</th>\n",
       "      <th>NA_sales</th>\n",
       "      <th>EU_sales</th>\n",
       "      <th>JP_sales</th>\n",
       "      <th>Other_sales</th>\n",
       "      <th>Critic_Score</th>\n",
       "      <th>User_Score</th>\n",
       "      <th>Rating</th>\n",
       "    </tr>\n",
       "  </thead>\n",
       "  <tbody>\n",
       "    <tr>\n",
       "      <th>0</th>\n",
       "      <td>Wii Sports</td>\n",
       "      <td>Wii</td>\n",
       "      <td>2006.0</td>\n",
       "      <td>Sports</td>\n",
       "      <td>41.36</td>\n",
       "      <td>28.96</td>\n",
       "      <td>3.77</td>\n",
       "      <td>8.45</td>\n",
       "      <td>76.0</td>\n",
       "      <td>8</td>\n",
       "      <td>E</td>\n",
       "    </tr>\n",
       "    <tr>\n",
       "      <th>1</th>\n",
       "      <td>Super Mario Bros.</td>\n",
       "      <td>NES</td>\n",
       "      <td>1985.0</td>\n",
       "      <td>Platform</td>\n",
       "      <td>29.08</td>\n",
       "      <td>3.58</td>\n",
       "      <td>6.81</td>\n",
       "      <td>0.77</td>\n",
       "      <td>NaN</td>\n",
       "      <td>NaN</td>\n",
       "      <td>NaN</td>\n",
       "    </tr>\n",
       "    <tr>\n",
       "      <th>2</th>\n",
       "      <td>Mario Kart Wii</td>\n",
       "      <td>Wii</td>\n",
       "      <td>2008.0</td>\n",
       "      <td>Racing</td>\n",
       "      <td>15.68</td>\n",
       "      <td>12.76</td>\n",
       "      <td>3.79</td>\n",
       "      <td>3.29</td>\n",
       "      <td>82.0</td>\n",
       "      <td>8.3</td>\n",
       "      <td>E</td>\n",
       "    </tr>\n",
       "    <tr>\n",
       "      <th>3</th>\n",
       "      <td>Wii Sports Resort</td>\n",
       "      <td>Wii</td>\n",
       "      <td>2009.0</td>\n",
       "      <td>Sports</td>\n",
       "      <td>15.61</td>\n",
       "      <td>10.93</td>\n",
       "      <td>3.28</td>\n",
       "      <td>2.95</td>\n",
       "      <td>80.0</td>\n",
       "      <td>8</td>\n",
       "      <td>E</td>\n",
       "    </tr>\n",
       "    <tr>\n",
       "      <th>4</th>\n",
       "      <td>Pokemon Red/Pokemon Blue</td>\n",
       "      <td>GB</td>\n",
       "      <td>1996.0</td>\n",
       "      <td>Role-Playing</td>\n",
       "      <td>11.27</td>\n",
       "      <td>8.89</td>\n",
       "      <td>10.22</td>\n",
       "      <td>1.00</td>\n",
       "      <td>NaN</td>\n",
       "      <td>NaN</td>\n",
       "      <td>NaN</td>\n",
       "    </tr>\n",
       "  </tbody>\n",
       "</table>\n",
       "</div>"
      ],
      "text/plain": [
       "                       Name Platform  Year_of_Release         Genre  NA_sales  \\\n",
       "0                Wii Sports      Wii           2006.0        Sports     41.36   \n",
       "1         Super Mario Bros.      NES           1985.0      Platform     29.08   \n",
       "2            Mario Kart Wii      Wii           2008.0        Racing     15.68   \n",
       "3         Wii Sports Resort      Wii           2009.0        Sports     15.61   \n",
       "4  Pokemon Red/Pokemon Blue       GB           1996.0  Role-Playing     11.27   \n",
       "\n",
       "   EU_sales  JP_sales  Other_sales  Critic_Score User_Score Rating  \n",
       "0     28.96      3.77         8.45          76.0          8      E  \n",
       "1      3.58      6.81         0.77           NaN        NaN    NaN  \n",
       "2     12.76      3.79         3.29          82.0        8.3      E  \n",
       "3     10.93      3.28         2.95          80.0          8      E  \n",
       "4      8.89     10.22         1.00           NaN        NaN    NaN  "
      ]
     },
     "execution_count": 6,
     "metadata": {},
     "output_type": "execute_result"
    }
   ],
   "source": [
    "df = pd.read_csv('(датасет) games.csv')\n",
    "df.info()\n",
    "df.head()"
   ]
  },
  {
   "cell_type": "markdown",
   "metadata": {
    "id": "kUdHvx7NYPy9"
   },
   "source": [
    "В таблице более 16 тыс строк в 10 колонках. \n",
    "\n",
    "\n",
    "1.  Названия колонок не в нижнем регистре. При обработке данных я исправлю это переименованием.\n",
    "2.  Есть пропуски и больше всего их в столбцах оценки пользователей и экспертов, а также возрастной рейтинг, и я заметила, что обычно наличие этих пропусков по строке сопадает, т.е. если пропуск в оценке пользователей, то проуски и в оценке критиков, и в рейтинге. У меня предположение, что либо игра, либо платформа, на которой она выпущена, не собирает эти данные. Возможно, по какой-то другой причине не заполняются эти данные. Что касается заполнения этих пропусков, то вероятно, можно посмотреть подробнее: если есть данные по рейтингу в одной стране, но нет в другой, то можно было бы заполнить их. Однако я воздержусь, в разных странах могут быть отличающиеся законы относительно возрастной категории игр. Аналигочно с оценкой пользователей и критиков - заполнить средним или медианой, это если вообще такие данные есть, из которых это можно рассчитать. Оценка пользователей по странам могут отличаться: то, что нравится в Японии, может совсем не нравится в Европе. На данном этапе я не нахожу достаточных оснований, чтобы заполнить пропуски каким бы то ни было значением.\n",
    "3.  Предстоит делать расчеты по годам, поэтому приведу тип данных в колонке год выпуска к удобному. В столбцах о продажах данные типа float. Лучше перевести в целочесиленный, однако там измерения в млн и десятые и сотые доли нельзя терять. Либо добавлять нули и переводить в int, либо оставлять float. Пока не ясно, повредит ли это исследованию. С вещественными можно проводить математические операции. В столбцах оценка экспертов и рейтинг строчные данные. Для рейтинга это нормально - он обозначается буквами (Е, М и тп), а вот оценка пользователя (на предварительном просмотре) в числах,  как и оценка экспертов. И для расчетов нужен тип данных int иил float\n",
    "\n",
    " "
   ]
  },
  {
   "cell_type": "markdown",
   "metadata": {
    "id": "COz-9tspnSjk"
   },
   "source": [
    "**Шаг 2. Предобработка данных**"
   ]
  },
  {
   "cell_type": "markdown",
   "metadata": {
    "id": "uoW_n_HHG1HG"
   },
   "source": [
    "В этом шаге предстоит выполнить:\n",
    "\n",
    "\n",
    "*   Переименование\n",
    "*   Обработка дубликатов\n",
    "*   Обработка пропусков\n",
    "*   Изменение типа данных \n",
    "\n"
   ]
  },
  {
   "cell_type": "markdown",
   "metadata": {},
   "source": [
    "Меняю регистр в названиях колонок"
   ]
  },
  {
   "cell_type": "code",
   "execution_count": 8,
   "metadata": {
    "colab": {
     "base_uri": "https://localhost:8080/"
    },
    "id": "wdXKBso8QB2H",
    "outputId": "09f57a16-6c65-472a-8e69-998a44ca4607"
   },
   "outputs": [
    {
     "name": "stdout",
     "output_type": "stream",
     "text": [
      "<class 'pandas.core.frame.DataFrame'>\n",
      "RangeIndex: 16715 entries, 0 to 16714\n",
      "Data columns (total 11 columns):\n",
      " #   Column           Non-Null Count  Dtype  \n",
      "---  ------           --------------  -----  \n",
      " 0   name             16713 non-null  object \n",
      " 1   platform         16715 non-null  object \n",
      " 2   year_of_release  16446 non-null  float64\n",
      " 3   genre            16713 non-null  object \n",
      " 4   na_sales         16715 non-null  float64\n",
      " 5   eu_sales         16715 non-null  float64\n",
      " 6   jp_sales         16715 non-null  float64\n",
      " 7   other_sales      16715 non-null  float64\n",
      " 8   critic_score     8137 non-null   float64\n",
      " 9   user_score       10014 non-null  object \n",
      " 10  rating           9949 non-null   object \n",
      "dtypes: float64(6), object(5)\n",
      "memory usage: 1.4+ MB\n"
     ]
    }
   ],
   "source": [
    "df.columns = df.columns.str.lower()\n",
    "df.info()"
   ]
  },
  {
   "cell_type": "markdown",
   "metadata": {
    "id": "3GelFOPNJe5D"
   },
   "source": [
    "Проверяю на дубликаты"
   ]
  },
  {
   "cell_type": "code",
   "execution_count": 9,
   "metadata": {
    "colab": {
     "base_uri": "https://localhost:8080/"
    },
    "id": "uPiI9FFwWPCG",
    "outputId": "ca1f171e-6bdb-4479-b9d1-c002d64c7dcd"
   },
   "outputs": [
    {
     "data": {
      "text/plain": [
       "0"
      ]
     },
     "execution_count": 9,
     "metadata": {},
     "output_type": "execute_result"
    }
   ],
   "source": [
    "df.duplicated().sum()"
   ]
  },
  {
   "cell_type": "markdown",
   "metadata": {
    "id": "H_uzg24BKHMZ"
   },
   "source": [
    "Дубликатов нет"
   ]
  },
  {
   "cell_type": "code",
   "execution_count": 10,
   "metadata": {
    "colab": {
     "base_uri": "https://localhost:8080/"
    },
    "id": "7RcSXk15KE8y",
    "outputId": "13b5526c-f6bf-4962-fa24-4d0572060edb"
   },
   "outputs": [
    {
     "data": {
      "text/plain": [
       "name                  2\n",
       "platform              0\n",
       "year_of_release     269\n",
       "genre                 2\n",
       "na_sales              0\n",
       "eu_sales              0\n",
       "jp_sales              0\n",
       "other_sales           0\n",
       "critic_score       8578\n",
       "user_score         6701\n",
       "rating             6766\n",
       "dtype: int64"
      ]
     },
     "execution_count": 10,
     "metadata": {},
     "output_type": "execute_result"
    }
   ],
   "source": [
    "df.isna().sum()"
   ]
  },
  {
   "cell_type": "markdown",
   "metadata": {
    "id": "_gYiubtOKyw5"
   },
   "source": [
    "Подробнее рассмотрим пропуски"
   ]
  },
  {
   "cell_type": "code",
   "execution_count": 6,
   "metadata": {
    "colab": {
     "base_uri": "https://localhost:8080/",
     "height": 112
    },
    "id": "KO8Gtr3AKUQr",
    "outputId": "4e4a6e2a-00df-4513-fb91-76bc3974f801"
   },
   "outputs": [
    {
     "data": {
      "text/html": [
       "<div>\n",
       "<style scoped>\n",
       "    .dataframe tbody tr th:only-of-type {\n",
       "        vertical-align: middle;\n",
       "    }\n",
       "\n",
       "    .dataframe tbody tr th {\n",
       "        vertical-align: top;\n",
       "    }\n",
       "\n",
       "    .dataframe thead th {\n",
       "        text-align: right;\n",
       "    }\n",
       "</style>\n",
       "<table border=\"1\" class=\"dataframe\">\n",
       "  <thead>\n",
       "    <tr style=\"text-align: right;\">\n",
       "      <th></th>\n",
       "      <th>name</th>\n",
       "      <th>platform</th>\n",
       "      <th>year_of_release</th>\n",
       "      <th>genre</th>\n",
       "      <th>na_sales</th>\n",
       "      <th>eu_sales</th>\n",
       "      <th>jp_sales</th>\n",
       "      <th>other_sales</th>\n",
       "      <th>critic_score</th>\n",
       "      <th>user_score</th>\n",
       "      <th>rating</th>\n",
       "    </tr>\n",
       "  </thead>\n",
       "  <tbody>\n",
       "    <tr>\n",
       "      <td>659</td>\n",
       "      <td>NaN</td>\n",
       "      <td>GEN</td>\n",
       "      <td>1993.0</td>\n",
       "      <td>NaN</td>\n",
       "      <td>1.78</td>\n",
       "      <td>0.53</td>\n",
       "      <td>0.00</td>\n",
       "      <td>0.08</td>\n",
       "      <td>NaN</td>\n",
       "      <td>NaN</td>\n",
       "      <td>NaN</td>\n",
       "    </tr>\n",
       "    <tr>\n",
       "      <td>14244</td>\n",
       "      <td>NaN</td>\n",
       "      <td>GEN</td>\n",
       "      <td>1993.0</td>\n",
       "      <td>NaN</td>\n",
       "      <td>0.00</td>\n",
       "      <td>0.00</td>\n",
       "      <td>0.03</td>\n",
       "      <td>0.00</td>\n",
       "      <td>NaN</td>\n",
       "      <td>NaN</td>\n",
       "      <td>NaN</td>\n",
       "    </tr>\n",
       "  </tbody>\n",
       "</table>\n",
       "</div>"
      ],
      "text/plain": [
       "      name platform  year_of_release genre  na_sales  eu_sales  jp_sales  \\\n",
       "659    NaN      GEN           1993.0   NaN      1.78      0.53      0.00   \n",
       "14244  NaN      GEN           1993.0   NaN      0.00      0.00      0.03   \n",
       "\n",
       "       other_sales  critic_score user_score rating  \n",
       "659           0.08           NaN        NaN    NaN  \n",
       "14244         0.00           NaN        NaN    NaN  "
      ]
     },
     "execution_count": 6,
     "metadata": {},
     "output_type": "execute_result"
    }
   ],
   "source": [
    "df[df['name'].isna()]"
   ]
  },
  {
   "cell_type": "markdown",
   "metadata": {
    "id": "RAa6xjjKMhDS"
   },
   "source": [
    "Две игры 1993 года, никаких данных в оценках, рейтинге и жанре, продажи в 3 случаях из 6 нулевые. Полагаю, эти строки никак не повлияют на исследование (2 и более чем 16 тыс), поэтому я их удалю методом dropna()"
   ]
  },
  {
   "cell_type": "code",
   "execution_count": 11,
   "metadata": {
    "colab": {
     "base_uri": "https://localhost:8080/"
    },
    "id": "G7bm7NekLBEy",
    "outputId": "55433aa8-c8c5-4974-b806-dcc1ee3a3a9c"
   },
   "outputs": [
    {
     "data": {
      "text/plain": [
       "0"
      ]
     },
     "execution_count": 11,
     "metadata": {},
     "output_type": "execute_result"
    }
   ],
   "source": [
    "df = df.dropna(subset=['name'])\n",
    "df['name'].isna().sum()"
   ]
  },
  {
   "cell_type": "markdown",
   "metadata": {
    "id": "3b7-Sl1Ddi30"
   },
   "source": [
    "В колонке год выпуска 269 пропусков. Посмотрю подробнее, сделав срез"
   ]
  },
  {
   "cell_type": "code",
   "execution_count": 12,
   "metadata": {
    "colab": {
     "base_uri": "https://localhost:8080/",
     "height": 424
    },
    "id": "46kIT_-0PDiL",
    "outputId": "10c0bcf9-db3c-48ea-e67c-531cedd5100a"
   },
   "outputs": [
    {
     "data": {
      "text/html": [
       "<div>\n",
       "<style scoped>\n",
       "    .dataframe tbody tr th:only-of-type {\n",
       "        vertical-align: middle;\n",
       "    }\n",
       "\n",
       "    .dataframe tbody tr th {\n",
       "        vertical-align: top;\n",
       "    }\n",
       "\n",
       "    .dataframe thead th {\n",
       "        text-align: right;\n",
       "    }\n",
       "</style>\n",
       "<table border=\"1\" class=\"dataframe\">\n",
       "  <thead>\n",
       "    <tr style=\"text-align: right;\">\n",
       "      <th></th>\n",
       "      <th>name</th>\n",
       "      <th>platform</th>\n",
       "      <th>year_of_release</th>\n",
       "      <th>genre</th>\n",
       "      <th>na_sales</th>\n",
       "      <th>eu_sales</th>\n",
       "      <th>jp_sales</th>\n",
       "      <th>other_sales</th>\n",
       "      <th>critic_score</th>\n",
       "      <th>user_score</th>\n",
       "      <th>rating</th>\n",
       "    </tr>\n",
       "  </thead>\n",
       "  <tbody>\n",
       "    <tr>\n",
       "      <th>183</th>\n",
       "      <td>Madden NFL 2004</td>\n",
       "      <td>PS2</td>\n",
       "      <td>NaN</td>\n",
       "      <td>Sports</td>\n",
       "      <td>4.26</td>\n",
       "      <td>0.26</td>\n",
       "      <td>0.01</td>\n",
       "      <td>0.71</td>\n",
       "      <td>94.0</td>\n",
       "      <td>8.5</td>\n",
       "      <td>E</td>\n",
       "    </tr>\n",
       "    <tr>\n",
       "      <th>377</th>\n",
       "      <td>FIFA Soccer 2004</td>\n",
       "      <td>PS2</td>\n",
       "      <td>NaN</td>\n",
       "      <td>Sports</td>\n",
       "      <td>0.59</td>\n",
       "      <td>2.36</td>\n",
       "      <td>0.04</td>\n",
       "      <td>0.51</td>\n",
       "      <td>84.0</td>\n",
       "      <td>6.4</td>\n",
       "      <td>E</td>\n",
       "    </tr>\n",
       "    <tr>\n",
       "      <th>456</th>\n",
       "      <td>LEGO Batman: The Videogame</td>\n",
       "      <td>Wii</td>\n",
       "      <td>NaN</td>\n",
       "      <td>Action</td>\n",
       "      <td>1.80</td>\n",
       "      <td>0.97</td>\n",
       "      <td>0.00</td>\n",
       "      <td>0.29</td>\n",
       "      <td>74.0</td>\n",
       "      <td>7.9</td>\n",
       "      <td>E10+</td>\n",
       "    </tr>\n",
       "    <tr>\n",
       "      <th>475</th>\n",
       "      <td>wwe Smackdown vs. Raw 2006</td>\n",
       "      <td>PS2</td>\n",
       "      <td>NaN</td>\n",
       "      <td>Fighting</td>\n",
       "      <td>1.57</td>\n",
       "      <td>1.02</td>\n",
       "      <td>0.00</td>\n",
       "      <td>0.41</td>\n",
       "      <td>NaN</td>\n",
       "      <td>NaN</td>\n",
       "      <td>NaN</td>\n",
       "    </tr>\n",
       "    <tr>\n",
       "      <th>609</th>\n",
       "      <td>Space Invaders</td>\n",
       "      <td>2600</td>\n",
       "      <td>NaN</td>\n",
       "      <td>Shooter</td>\n",
       "      <td>2.36</td>\n",
       "      <td>0.14</td>\n",
       "      <td>0.00</td>\n",
       "      <td>0.03</td>\n",
       "      <td>NaN</td>\n",
       "      <td>NaN</td>\n",
       "      <td>NaN</td>\n",
       "    </tr>\n",
       "    <tr>\n",
       "      <th>...</th>\n",
       "      <td>...</td>\n",
       "      <td>...</td>\n",
       "      <td>...</td>\n",
       "      <td>...</td>\n",
       "      <td>...</td>\n",
       "      <td>...</td>\n",
       "      <td>...</td>\n",
       "      <td>...</td>\n",
       "      <td>...</td>\n",
       "      <td>...</td>\n",
       "      <td>...</td>\n",
       "    </tr>\n",
       "    <tr>\n",
       "      <th>16373</th>\n",
       "      <td>PDC World Championship Darts 2008</td>\n",
       "      <td>PSP</td>\n",
       "      <td>NaN</td>\n",
       "      <td>Sports</td>\n",
       "      <td>0.01</td>\n",
       "      <td>0.00</td>\n",
       "      <td>0.00</td>\n",
       "      <td>0.00</td>\n",
       "      <td>43.0</td>\n",
       "      <td>tbd</td>\n",
       "      <td>E10+</td>\n",
       "    </tr>\n",
       "    <tr>\n",
       "      <th>16405</th>\n",
       "      <td>Freaky Flyers</td>\n",
       "      <td>GC</td>\n",
       "      <td>NaN</td>\n",
       "      <td>Racing</td>\n",
       "      <td>0.01</td>\n",
       "      <td>0.00</td>\n",
       "      <td>0.00</td>\n",
       "      <td>0.00</td>\n",
       "      <td>69.0</td>\n",
       "      <td>6.5</td>\n",
       "      <td>T</td>\n",
       "    </tr>\n",
       "    <tr>\n",
       "      <th>16448</th>\n",
       "      <td>Inversion</td>\n",
       "      <td>PC</td>\n",
       "      <td>NaN</td>\n",
       "      <td>Shooter</td>\n",
       "      <td>0.01</td>\n",
       "      <td>0.00</td>\n",
       "      <td>0.00</td>\n",
       "      <td>0.00</td>\n",
       "      <td>59.0</td>\n",
       "      <td>6.7</td>\n",
       "      <td>M</td>\n",
       "    </tr>\n",
       "    <tr>\n",
       "      <th>16458</th>\n",
       "      <td>Hakuouki: Shinsengumi Kitan</td>\n",
       "      <td>PS3</td>\n",
       "      <td>NaN</td>\n",
       "      <td>Adventure</td>\n",
       "      <td>0.01</td>\n",
       "      <td>0.00</td>\n",
       "      <td>0.00</td>\n",
       "      <td>0.00</td>\n",
       "      <td>NaN</td>\n",
       "      <td>NaN</td>\n",
       "      <td>NaN</td>\n",
       "    </tr>\n",
       "    <tr>\n",
       "      <th>16522</th>\n",
       "      <td>Virtua Quest</td>\n",
       "      <td>GC</td>\n",
       "      <td>NaN</td>\n",
       "      <td>Role-Playing</td>\n",
       "      <td>0.01</td>\n",
       "      <td>0.00</td>\n",
       "      <td>0.00</td>\n",
       "      <td>0.00</td>\n",
       "      <td>55.0</td>\n",
       "      <td>5.5</td>\n",
       "      <td>T</td>\n",
       "    </tr>\n",
       "  </tbody>\n",
       "</table>\n",
       "<p>269 rows × 11 columns</p>\n",
       "</div>"
      ],
      "text/plain": [
       "                                    name platform  year_of_release  \\\n",
       "183                      Madden NFL 2004      PS2              NaN   \n",
       "377                     FIFA Soccer 2004      PS2              NaN   \n",
       "456           LEGO Batman: The Videogame      Wii              NaN   \n",
       "475           wwe Smackdown vs. Raw 2006      PS2              NaN   \n",
       "609                       Space Invaders     2600              NaN   \n",
       "...                                  ...      ...              ...   \n",
       "16373  PDC World Championship Darts 2008      PSP              NaN   \n",
       "16405                      Freaky Flyers       GC              NaN   \n",
       "16448                          Inversion       PC              NaN   \n",
       "16458        Hakuouki: Shinsengumi Kitan      PS3              NaN   \n",
       "16522                       Virtua Quest       GC              NaN   \n",
       "\n",
       "              genre  na_sales  eu_sales  jp_sales  other_sales  critic_score  \\\n",
       "183          Sports      4.26      0.26      0.01         0.71          94.0   \n",
       "377          Sports      0.59      2.36      0.04         0.51          84.0   \n",
       "456          Action      1.80      0.97      0.00         0.29          74.0   \n",
       "475        Fighting      1.57      1.02      0.00         0.41           NaN   \n",
       "609         Shooter      2.36      0.14      0.00         0.03           NaN   \n",
       "...             ...       ...       ...       ...          ...           ...   \n",
       "16373        Sports      0.01      0.00      0.00         0.00          43.0   \n",
       "16405        Racing      0.01      0.00      0.00         0.00          69.0   \n",
       "16448       Shooter      0.01      0.00      0.00         0.00          59.0   \n",
       "16458     Adventure      0.01      0.00      0.00         0.00           NaN   \n",
       "16522  Role-Playing      0.01      0.00      0.00         0.00          55.0   \n",
       "\n",
       "      user_score rating  \n",
       "183          8.5      E  \n",
       "377          6.4      E  \n",
       "456          7.9   E10+  \n",
       "475          NaN    NaN  \n",
       "609          NaN    NaN  \n",
       "...          ...    ...  \n",
       "16373        tbd   E10+  \n",
       "16405        6.5      T  \n",
       "16448        6.7      M  \n",
       "16458        NaN    NaN  \n",
       "16522        5.5      T  \n",
       "\n",
       "[269 rows x 11 columns]"
      ]
     },
     "execution_count": 12,
     "metadata": {},
     "output_type": "execute_result"
    }
   ],
   "source": [
    "df[df['year_of_release'].isna()]\n",
    "\n",
    "\n"
   ]
  },
  {
   "cell_type": "markdown",
   "metadata": {
    "id": "aZw6UxFId4Kx"
   },
   "source": [
    "Заполню пропуски по названию игры. Игры, которые выходили на разных платформах, иногда имеют сведения о годе выпуска, иногда - нет."
   ]
  },
  {
   "cell_type": "code",
   "execution_count": 13,
   "metadata": {
    "colab": {
     "base_uri": "https://localhost:8080/"
    },
    "id": "am-nl_olhLJm",
    "outputId": "d77a1eb9-5d96-4437-8367-5ca979472d9c"
   },
   "outputs": [
    {
     "data": {
      "text/plain": [
       "146"
      ]
     },
     "execution_count": 13,
     "metadata": {},
     "output_type": "execute_result"
    }
   ],
   "source": [
    "df_t1 = df.groupby('name')['year_of_release'].transform('min')\n",
    "df['year_of_release'] = df['year_of_release'].fillna(df_t1)\n",
    "df['year_of_release'].isna().sum()"
   ]
  },
  {
   "cell_type": "markdown",
   "metadata": {
    "id": "KfGapqqcepvo"
   },
   "source": [
    "Удалось таким образом заполнить 123 пропуска (269-146)"
   ]
  },
  {
   "cell_type": "markdown",
   "metadata": {
    "id": "9shqyEW6fW4w"
   },
   "source": [
    "Пропуски в пользовательском и экспертном рейтинге заполню не характерным значением, в дальнейшем буду делать срез, чтобы не включать их в исследование."
   ]
  },
  {
   "cell_type": "code",
   "execution_count": 14,
   "metadata": {
    "colab": {
     "base_uri": "https://localhost:8080/"
    },
    "id": "4nHwV8T5PUJY",
    "outputId": "e03dc711-2a6c-42d6-9844-d2412ea4df77"
   },
   "outputs": [
    {
     "data": {
      "text/plain": [
       "-1.0     8576\n",
       " 70.0     256\n",
       " 71.0     254\n",
       " 75.0     245\n",
       " 78.0     240\n",
       "         ... \n",
       " 20.0       3\n",
       " 21.0       1\n",
       " 17.0       1\n",
       " 22.0       1\n",
       " 13.0       1\n",
       "Name: critic_score, Length: 83, dtype: int64"
      ]
     },
     "execution_count": 14,
     "metadata": {},
     "output_type": "execute_result"
    }
   ],
   "source": [
    "df['critic_score'] = df['critic_score'].fillna(-1)\n",
    "df['critic_score'].value_counts()\n"
   ]
  },
  {
   "cell_type": "code",
   "execution_count": 15,
   "metadata": {
    "colab": {
     "base_uri": "https://localhost:8080/"
    },
    "id": "b7QRqMnaQlcg",
    "outputId": "4e4868f8-d051-4b64-c597-fda15c944706"
   },
   "outputs": [
    {
     "data": {
      "text/plain": [
       "no rating    6764\n",
       "E            3990\n",
       "T            2961\n",
       "M            1563\n",
       "E10+         1420\n",
       "EC              8\n",
       "K-A             3\n",
       "RP              3\n",
       "AO              1\n",
       "Name: rating, dtype: int64"
      ]
     },
     "execution_count": 15,
     "metadata": {},
     "output_type": "execute_result"
    }
   ],
   "source": [
    "df['rating'] = df['rating'].fillna('no rating')\n",
    "df['rating'].value_counts()"
   ]
  },
  {
   "cell_type": "markdown",
   "metadata": {
    "id": "llRIQp64gkWw"
   },
   "source": [
    "Пропуски в возрастном рейтинге: здесь строковые значения, к тому же рейтинг присваивает специальная организация, по каким криетриям - мне неизвестно, заполнить на свое усмотрение будет ошибкой. Однако можно заполнить пропуски значением \"no rating\", чтобы также можно было учитывать эту позицию при исследовании"
   ]
  },
  {
   "cell_type": "code",
   "execution_count": 16,
   "metadata": {
    "colab": {
     "base_uri": "https://localhost:8080/"
    },
    "id": "rmBweEz8R1Pz",
    "outputId": "fcc2e0b8-b0c5-4350-b0fa-d0e4d8c321fe"
   },
   "outputs": [
    {
     "data": {
      "text/plain": [
       "9123"
      ]
     },
     "execution_count": 16,
     "metadata": {},
     "output_type": "execute_result"
    }
   ],
   "source": [
    "df['user_score'] = df['user_score'].replace('tbd', '')\n",
    "df['user_score'] = pd.to_numeric(df['user_score'])\n",
    "df['user_score'].isna().sum()\n"
   ]
  },
  {
   "cell_type": "markdown",
   "metadata": {
    "id": "Xq3W1NadVnJP"
   },
   "source": [
    " В столбце оценка пользователя 2424 строки с значением tbd. Вероятно, это to be determined (пока не определено). 14% данных с таким значением. И из-за него данные имеют тип object. Хотелось бы перевести его в float, чтобы можно было выполнять математические операции. Больше всего это значение (tbd) походит на Nan, на его я и заменю. А потом заполню пропуски по аналогии с экпертным рейтингом.\n",
    " "
   ]
  },
  {
   "cell_type": "code",
   "execution_count": 17,
   "metadata": {
    "colab": {
     "base_uri": "https://localhost:8080/"
    },
    "id": "avj0psEDhx7a",
    "outputId": "5fea0964-e749-40ad-fdb0-2d240fb78aaf"
   },
   "outputs": [
    {
     "data": {
      "text/plain": [
       "0"
      ]
     },
     "execution_count": 17,
     "metadata": {},
     "output_type": "execute_result"
    }
   ],
   "source": [
    "df['user_score'] = df['user_score'].fillna(-1)\n",
    "df['user_score'].isna().sum()\n"
   ]
  },
  {
   "cell_type": "markdown",
   "metadata": {
    "id": "pe1WEYCziS-F"
   },
   "source": [
    "Подсчет суммарных продаж по всем регионам сохраню в отдельном столбце"
   ]
  },
  {
   "cell_type": "code",
   "execution_count": 20,
   "metadata": {
    "colab": {
     "base_uri": "https://localhost:8080/",
     "height": 206
    },
    "id": "RGehdbk4SZpp",
    "outputId": "d3b975e0-61a4-42d0-e6aa-fc1c9dddf095"
   },
   "outputs": [
    {
     "data": {
      "text/html": [
       "<div>\n",
       "<style scoped>\n",
       "    .dataframe tbody tr th:only-of-type {\n",
       "        vertical-align: middle;\n",
       "    }\n",
       "\n",
       "    .dataframe tbody tr th {\n",
       "        vertical-align: top;\n",
       "    }\n",
       "\n",
       "    .dataframe thead th {\n",
       "        text-align: right;\n",
       "    }\n",
       "</style>\n",
       "<table border=\"1\" class=\"dataframe\">\n",
       "  <thead>\n",
       "    <tr style=\"text-align: right;\">\n",
       "      <th></th>\n",
       "      <th>name</th>\n",
       "      <th>platform</th>\n",
       "      <th>year_of_release</th>\n",
       "      <th>genre</th>\n",
       "      <th>na_sales</th>\n",
       "      <th>eu_sales</th>\n",
       "      <th>jp_sales</th>\n",
       "      <th>other_sales</th>\n",
       "      <th>critic_score</th>\n",
       "      <th>user_score</th>\n",
       "      <th>rating</th>\n",
       "      <th>total_sales</th>\n",
       "    </tr>\n",
       "  </thead>\n",
       "  <tbody>\n",
       "    <tr>\n",
       "      <th>0</th>\n",
       "      <td>Wii Sports</td>\n",
       "      <td>Wii</td>\n",
       "      <td>2006.0</td>\n",
       "      <td>Sports</td>\n",
       "      <td>41.36</td>\n",
       "      <td>28.96</td>\n",
       "      <td>3.77</td>\n",
       "      <td>8.45</td>\n",
       "      <td>76.0</td>\n",
       "      <td>8.0</td>\n",
       "      <td>E</td>\n",
       "      <td>82.54</td>\n",
       "    </tr>\n",
       "    <tr>\n",
       "      <th>1</th>\n",
       "      <td>Super Mario Bros.</td>\n",
       "      <td>NES</td>\n",
       "      <td>1985.0</td>\n",
       "      <td>Platform</td>\n",
       "      <td>29.08</td>\n",
       "      <td>3.58</td>\n",
       "      <td>6.81</td>\n",
       "      <td>0.77</td>\n",
       "      <td>-1.0</td>\n",
       "      <td>-1.0</td>\n",
       "      <td>no rating</td>\n",
       "      <td>40.24</td>\n",
       "    </tr>\n",
       "    <tr>\n",
       "      <th>2</th>\n",
       "      <td>Mario Kart Wii</td>\n",
       "      <td>Wii</td>\n",
       "      <td>2008.0</td>\n",
       "      <td>Racing</td>\n",
       "      <td>15.68</td>\n",
       "      <td>12.76</td>\n",
       "      <td>3.79</td>\n",
       "      <td>3.29</td>\n",
       "      <td>82.0</td>\n",
       "      <td>8.3</td>\n",
       "      <td>E</td>\n",
       "      <td>35.52</td>\n",
       "    </tr>\n",
       "    <tr>\n",
       "      <th>3</th>\n",
       "      <td>Wii Sports Resort</td>\n",
       "      <td>Wii</td>\n",
       "      <td>2009.0</td>\n",
       "      <td>Sports</td>\n",
       "      <td>15.61</td>\n",
       "      <td>10.93</td>\n",
       "      <td>3.28</td>\n",
       "      <td>2.95</td>\n",
       "      <td>80.0</td>\n",
       "      <td>8.0</td>\n",
       "      <td>E</td>\n",
       "      <td>32.77</td>\n",
       "    </tr>\n",
       "    <tr>\n",
       "      <th>4</th>\n",
       "      <td>Pokemon Red/Pokemon Blue</td>\n",
       "      <td>GB</td>\n",
       "      <td>1996.0</td>\n",
       "      <td>Role-Playing</td>\n",
       "      <td>11.27</td>\n",
       "      <td>8.89</td>\n",
       "      <td>10.22</td>\n",
       "      <td>1.00</td>\n",
       "      <td>-1.0</td>\n",
       "      <td>-1.0</td>\n",
       "      <td>no rating</td>\n",
       "      <td>31.38</td>\n",
       "    </tr>\n",
       "  </tbody>\n",
       "</table>\n",
       "</div>"
      ],
      "text/plain": [
       "                       name platform  year_of_release         genre  na_sales  \\\n",
       "0                Wii Sports      Wii           2006.0        Sports     41.36   \n",
       "1         Super Mario Bros.      NES           1985.0      Platform     29.08   \n",
       "2            Mario Kart Wii      Wii           2008.0        Racing     15.68   \n",
       "3         Wii Sports Resort      Wii           2009.0        Sports     15.61   \n",
       "4  Pokemon Red/Pokemon Blue       GB           1996.0  Role-Playing     11.27   \n",
       "\n",
       "   eu_sales  jp_sales  other_sales  critic_score  user_score     rating  \\\n",
       "0     28.96      3.77         8.45          76.0         8.0          E   \n",
       "1      3.58      6.81         0.77          -1.0        -1.0  no rating   \n",
       "2     12.76      3.79         3.29          82.0         8.3          E   \n",
       "3     10.93      3.28         2.95          80.0         8.0          E   \n",
       "4      8.89     10.22         1.00          -1.0        -1.0  no rating   \n",
       "\n",
       "   total_sales  \n",
       "0        82.54  \n",
       "1        40.24  \n",
       "2        35.52  \n",
       "3        32.77  \n",
       "4        31.38  "
      ]
     },
     "execution_count": 20,
     "metadata": {},
     "output_type": "execute_result"
    }
   ],
   "source": [
    "df['total_sales'] = df['na_sales'] + df['eu_sales'] + df['jp_sales'] + df['other_sales']\n",
    "df.head()"
   ]
  },
  {
   "cell_type": "markdown",
   "metadata": {},
   "source": [
    "*Вывод по шагу Предобработка*"
   ]
  },
  {
   "cell_type": "markdown",
   "metadata": {},
   "source": [
    "В предобработке были проведены шаги согласно плану\n",
    "- Заменены названия столбцов\n",
    "- Обработаны пропуски \n",
    "- Посчитаны суммарные продажи\n",
    "\n",
    "Пропуски были обработаны в колонках год выпуска (по году выпуска на других платформах), в пользовательском рейтинге помимо числовых значений было строковое значение tbd, предположительно to be determined. Для проведения математических операций нужно, чтобы тип данных был хотя бы float, поэтому значение было заменено на пропуски. Пропусков в экспертном и пользовательском рейтинге довольно много, около половины данных. Заполнять их каким-либо числовым значением нет достаточных оснований. Для возможности дальнейших расчетов они были заменены нехарактерным одинаковым значением (-1), чтобы в дальнейшем множно было эту часть \"срезать\" и не включать в исследование."
   ]
  },
  {
   "cell_type": "markdown",
   "metadata": {
    "id": "CFnjgNFqi7H_"
   },
   "source": [
    "**Шаг 3. Исследовательский анализ**"
   ]
  },
  {
   "cell_type": "markdown",
   "metadata": {},
   "source": [
    "Посмотрю на гистограмму значений по году выпуска"
   ]
  },
  {
   "cell_type": "code",
   "execution_count": 21,
   "metadata": {
    "colab": {
     "base_uri": "https://localhost:8080/",
     "height": 265
    },
    "id": "sC_7Eb7XjNwb",
    "outputId": "3de7f773-3d1f-497a-ba6e-2906f628f56a"
   },
   "outputs": [
    {
     "data": {
      "image/png": "[encoded data removed]",
      "text/plain": [
       "<Figure size 432x288 with 1 Axes>"
      ]
     },
     "metadata": {
      "needs_background": "light"
     },
     "output_type": "display_data"
    }
   ],
   "source": [
    "df['year_of_release'].hist(bins=50)\n",
    "plt.show()"
   ]
  },
  {
   "cell_type": "markdown",
   "metadata": {
    "id": "CksX-lpOjzCJ"
   },
   "source": [
    "Больше всего игр выпускалось в 2008-2009 гг., основная часть значений распределена в периоде с 2000 по 2015 гг. Период до 1995 года, полагаю, не важен для исследования. Там не много значений, это выбросы. Считаю, что для исследования следует брать период 1995-2015"
   ]
  },
  {
   "cell_type": "markdown",
   "metadata": {
    "id": "HpM8LldLsqVQ"
   },
   "source": [
    "Находим платформы с наибольшими суммарными продажами"
   ]
  },
  {
   "cell_type": "code",
   "execution_count": 22,
   "metadata": {
    "colab": {
     "base_uri": "https://localhost:8080/",
     "height": 394
    },
    "id": "3yw2ZtB2lNkV",
    "outputId": "0bdeb496-765c-4214-c874-8b3abfa903ee"
   },
   "outputs": [
    {
     "data": {
      "text/html": [
       "<div>\n",
       "<style scoped>\n",
       "    .dataframe tbody tr th:only-of-type {\n",
       "        vertical-align: middle;\n",
       "    }\n",
       "\n",
       "    .dataframe tbody tr th {\n",
       "        vertical-align: top;\n",
       "    }\n",
       "\n",
       "    .dataframe thead th {\n",
       "        text-align: right;\n",
       "    }\n",
       "</style>\n",
       "<table border=\"1\" class=\"dataframe\">\n",
       "  <thead>\n",
       "    <tr style=\"text-align: right;\">\n",
       "      <th></th>\n",
       "      <th>total_sales</th>\n",
       "    </tr>\n",
       "    <tr>\n",
       "      <th>platform</th>\n",
       "      <th></th>\n",
       "    </tr>\n",
       "  </thead>\n",
       "  <tbody>\n",
       "    <tr>\n",
       "      <th>PS2</th>\n",
       "      <td>1255.77</td>\n",
       "    </tr>\n",
       "    <tr>\n",
       "      <th>X360</th>\n",
       "      <td>971.42</td>\n",
       "    </tr>\n",
       "    <tr>\n",
       "      <th>PS3</th>\n",
       "      <td>939.65</td>\n",
       "    </tr>\n",
       "    <tr>\n",
       "      <th>Wii</th>\n",
       "      <td>907.51</td>\n",
       "    </tr>\n",
       "    <tr>\n",
       "      <th>DS</th>\n",
       "      <td>806.12</td>\n",
       "    </tr>\n",
       "    <tr>\n",
       "      <th>PS</th>\n",
       "      <td>730.86</td>\n",
       "    </tr>\n",
       "    <tr>\n",
       "      <th>GBA</th>\n",
       "      <td>317.85</td>\n",
       "    </tr>\n",
       "    <tr>\n",
       "      <th>PS4</th>\n",
       "      <td>314.14</td>\n",
       "    </tr>\n",
       "    <tr>\n",
       "      <th>PSP</th>\n",
       "      <td>294.05</td>\n",
       "    </tr>\n",
       "    <tr>\n",
       "      <th>PC</th>\n",
       "      <td>259.52</td>\n",
       "    </tr>\n",
       "  </tbody>\n",
       "</table>\n",
       "</div>"
      ],
      "text/plain": [
       "          total_sales\n",
       "platform             \n",
       "PS2           1255.77\n",
       "X360           971.42\n",
       "PS3            939.65\n",
       "Wii            907.51\n",
       "DS             806.12\n",
       "PS             730.86\n",
       "GBA            317.85\n",
       "PS4            314.14\n",
       "PSP            294.05\n",
       "PC             259.52"
      ]
     },
     "execution_count": 22,
     "metadata": {},
     "output_type": "execute_result"
    }
   ],
   "source": [
    "top = df.groupby('platform')['total_sales'].sum().sort_values(ascending=False).to_frame()\n",
    "top.head(10)"
   ]
  },
  {
   "cell_type": "markdown",
   "metadata": {
    "id": "3bql5T7ywWE0"
   },
   "source": [
    "Далее нахожу суммарные продажи по годам и по платформам. Сначала делаю срез по таблице с топовыми платформами, далее сводной таблицей подсчитываю суммарные продажи по годам."
   ]
  },
  {
   "cell_type": "code",
   "execution_count": 23,
   "metadata": {
    "colab": {
     "base_uri": "https://localhost:8080/",
     "height": 571
    },
    "id": "zJk94uXwtBY4",
    "outputId": "699aebd8-6de4-440b-f899-d11babc079e6"
   },
   "outputs": [
    {
     "data": {
      "image/png": "[encoded data removed]",
      "text/plain": [
       "<Figure size 1080x360 with 1 Axes>"
      ]
     },
     "metadata": {
      "needs_background": "light"
     },
     "output_type": "display_data"
    }
   ],
   "source": [
    "top_sales = df[df['platform'].isin(['PS2','X360','Wii','PS3','DS','PS','GBA','PS4','PSP','XB'])]\n",
    "top_sales_pivot = top_sales.pivot_table(index='year_of_release', columns='platform', values='total_sales', aggfunc='sum')\n",
    "top_sales_pivot.plot(figsize=(15,5))\n",
    "plt.xlim(1995,2016)\n",
    "plt.show()\n"
   ]
  },
  {
   "cell_type": "markdown",
   "metadata": {
    "id": "yzj8ym6vwrId"
   },
   "source": [
    "График показывает распределение суммарных продаж по платфрмам по годам. По нему можно сделать вывод, что характерный срок, когда появляются новые и исчезают старые платформы - 8-10 лет."
   ]
  },
  {
   "cell_type": "markdown",
   "metadata": {
    "id": "Yxg5l2F_3ov2"
   },
   "source": [
    "Исходя из вышесказанного, для исследования я выберу период не более 5 последних лет. Как показали результаты исследований по годам, высокие продажи 10-летней давности могут не иметь никакого значения, так как, например, сама платформа устарела/исчезла и более не делает продаж, несмотря на то, что она лидировала по продажам."
   ]
  },
  {
   "cell_type": "markdown",
   "metadata": {
    "id": "9vgQRiut45og"
   },
   "source": [
    "Сохраняю срез по актуальным данным"
   ]
  },
  {
   "cell_type": "code",
   "execution_count": 24,
   "metadata": {
    "colab": {
     "base_uri": "https://localhost:8080/",
     "height": 250
    },
    "id": "0ZCy6FzWw-VO",
    "outputId": "d0f95d63-a919-40e9-a171-7def70c14488"
   },
   "outputs": [
    {
     "data": {
      "text/html": [
       "<div>\n",
       "<style scoped>\n",
       "    .dataframe tbody tr th:only-of-type {\n",
       "        vertical-align: middle;\n",
       "    }\n",
       "\n",
       "    .dataframe tbody tr th {\n",
       "        vertical-align: top;\n",
       "    }\n",
       "\n",
       "    .dataframe thead th {\n",
       "        text-align: right;\n",
       "    }\n",
       "</style>\n",
       "<table border=\"1\" class=\"dataframe\">\n",
       "  <thead>\n",
       "    <tr style=\"text-align: right;\">\n",
       "      <th></th>\n",
       "      <th>name</th>\n",
       "      <th>platform</th>\n",
       "      <th>year_of_release</th>\n",
       "      <th>genre</th>\n",
       "      <th>na_sales</th>\n",
       "      <th>eu_sales</th>\n",
       "      <th>jp_sales</th>\n",
       "      <th>other_sales</th>\n",
       "      <th>critic_score</th>\n",
       "      <th>user_score</th>\n",
       "      <th>rating</th>\n",
       "      <th>total_sales</th>\n",
       "    </tr>\n",
       "  </thead>\n",
       "  <tbody>\n",
       "    <tr>\n",
       "      <th>16</th>\n",
       "      <td>Grand Theft Auto V</td>\n",
       "      <td>PS3</td>\n",
       "      <td>2013.0</td>\n",
       "      <td>Action</td>\n",
       "      <td>7.02</td>\n",
       "      <td>9.09</td>\n",
       "      <td>0.98</td>\n",
       "      <td>3.96</td>\n",
       "      <td>97.0</td>\n",
       "      <td>8.2</td>\n",
       "      <td>M</td>\n",
       "      <td>21.05</td>\n",
       "    </tr>\n",
       "    <tr>\n",
       "      <th>23</th>\n",
       "      <td>Grand Theft Auto V</td>\n",
       "      <td>X360</td>\n",
       "      <td>2013.0</td>\n",
       "      <td>Action</td>\n",
       "      <td>9.66</td>\n",
       "      <td>5.14</td>\n",
       "      <td>0.06</td>\n",
       "      <td>1.41</td>\n",
       "      <td>97.0</td>\n",
       "      <td>8.1</td>\n",
       "      <td>M</td>\n",
       "      <td>16.27</td>\n",
       "    </tr>\n",
       "    <tr>\n",
       "      <th>29</th>\n",
       "      <td>Call of Duty: Modern Warfare 3</td>\n",
       "      <td>X360</td>\n",
       "      <td>2011.0</td>\n",
       "      <td>Shooter</td>\n",
       "      <td>9.04</td>\n",
       "      <td>4.24</td>\n",
       "      <td>0.13</td>\n",
       "      <td>1.32</td>\n",
       "      <td>88.0</td>\n",
       "      <td>3.4</td>\n",
       "      <td>M</td>\n",
       "      <td>14.73</td>\n",
       "    </tr>\n",
       "    <tr>\n",
       "      <th>31</th>\n",
       "      <td>Call of Duty: Black Ops 3</td>\n",
       "      <td>PS4</td>\n",
       "      <td>2015.0</td>\n",
       "      <td>Shooter</td>\n",
       "      <td>6.03</td>\n",
       "      <td>5.86</td>\n",
       "      <td>0.36</td>\n",
       "      <td>2.38</td>\n",
       "      <td>-1.0</td>\n",
       "      <td>-1.0</td>\n",
       "      <td>no rating</td>\n",
       "      <td>14.63</td>\n",
       "    </tr>\n",
       "    <tr>\n",
       "      <th>33</th>\n",
       "      <td>Pokemon X/Pokemon Y</td>\n",
       "      <td>3DS</td>\n",
       "      <td>2013.0</td>\n",
       "      <td>Role-Playing</td>\n",
       "      <td>5.28</td>\n",
       "      <td>4.19</td>\n",
       "      <td>4.35</td>\n",
       "      <td>0.78</td>\n",
       "      <td>-1.0</td>\n",
       "      <td>-1.0</td>\n",
       "      <td>no rating</td>\n",
       "      <td>14.60</td>\n",
       "    </tr>\n",
       "  </tbody>\n",
       "</table>\n",
       "</div>"
      ],
      "text/plain": [
       "                              name platform  year_of_release         genre  \\\n",
       "16              Grand Theft Auto V      PS3           2013.0        Action   \n",
       "23              Grand Theft Auto V     X360           2013.0        Action   \n",
       "29  Call of Duty: Modern Warfare 3     X360           2011.0       Shooter   \n",
       "31       Call of Duty: Black Ops 3      PS4           2015.0       Shooter   \n",
       "33             Pokemon X/Pokemon Y      3DS           2013.0  Role-Playing   \n",
       "\n",
       "    na_sales  eu_sales  jp_sales  other_sales  critic_score  user_score  \\\n",
       "16      7.02      9.09      0.98         3.96          97.0         8.2   \n",
       "23      9.66      5.14      0.06         1.41          97.0         8.1   \n",
       "29      9.04      4.24      0.13         1.32          88.0         3.4   \n",
       "31      6.03      5.86      0.36         2.38          -1.0        -1.0   \n",
       "33      5.28      4.19      4.35         0.78          -1.0        -1.0   \n",
       "\n",
       "       rating  total_sales  \n",
       "16          M        21.05  \n",
       "23          M        16.27  \n",
       "29          M        14.73  \n",
       "31  no rating        14.63  \n",
       "33  no rating        14.60  "
      ]
     },
     "execution_count": 24,
     "metadata": {},
     "output_type": "execute_result"
    }
   ],
   "source": [
    "df_actual = df.query('year_of_release > 2010')\n",
    "df_actual.head()"
   ]
  },
  {
   "cell_type": "markdown",
   "metadata": {
    "id": "h9fVB6De7YA3"
   },
   "source": [
    "Нахожу лидеров по продажам"
   ]
  },
  {
   "cell_type": "code",
   "execution_count": 25,
   "metadata": {
    "colab": {
     "base_uri": "https://localhost:8080/",
     "height": 457
    },
    "id": "iZzluOVB5pxg",
    "outputId": "deb39bcd-0626-4f14-95a1-abc6dc599847"
   },
   "outputs": [
    {
     "data": {
      "text/html": [
       "<div>\n",
       "<style scoped>\n",
       "    .dataframe tbody tr th:only-of-type {\n",
       "        vertical-align: middle;\n",
       "    }\n",
       "\n",
       "    .dataframe tbody tr th {\n",
       "        vertical-align: top;\n",
       "    }\n",
       "\n",
       "    .dataframe thead th {\n",
       "        text-align: right;\n",
       "    }\n",
       "</style>\n",
       "<table border=\"1\" class=\"dataframe\">\n",
       "  <thead>\n",
       "    <tr style=\"text-align: right;\">\n",
       "      <th></th>\n",
       "      <th>total_sales</th>\n",
       "    </tr>\n",
       "    <tr>\n",
       "      <th>platform</th>\n",
       "      <th></th>\n",
       "    </tr>\n",
       "  </thead>\n",
       "  <tbody>\n",
       "    <tr>\n",
       "      <th>PS3</th>\n",
       "      <td>447.69</td>\n",
       "    </tr>\n",
       "    <tr>\n",
       "      <th>X360</th>\n",
       "      <td>382.75</td>\n",
       "    </tr>\n",
       "    <tr>\n",
       "      <th>PS4</th>\n",
       "      <td>314.14</td>\n",
       "    </tr>\n",
       "    <tr>\n",
       "      <th>3DS</th>\n",
       "      <td>258.21</td>\n",
       "    </tr>\n",
       "    <tr>\n",
       "      <th>XOne</th>\n",
       "      <td>159.32</td>\n",
       "    </tr>\n",
       "    <tr>\n",
       "      <th>PC</th>\n",
       "      <td>98.67</td>\n",
       "    </tr>\n",
       "    <tr>\n",
       "      <th>Wii</th>\n",
       "      <td>96.39</td>\n",
       "    </tr>\n",
       "    <tr>\n",
       "      <th>WiiU</th>\n",
       "      <td>82.19</td>\n",
       "    </tr>\n",
       "    <tr>\n",
       "      <th>PSV</th>\n",
       "      <td>53.81</td>\n",
       "    </tr>\n",
       "    <tr>\n",
       "      <th>DS</th>\n",
       "      <td>39.54</td>\n",
       "    </tr>\n",
       "    <tr>\n",
       "      <th>PSP</th>\n",
       "      <td>29.51</td>\n",
       "    </tr>\n",
       "    <tr>\n",
       "      <th>PS2</th>\n",
       "      <td>0.45</td>\n",
       "    </tr>\n",
       "  </tbody>\n",
       "</table>\n",
       "</div>"
      ],
      "text/plain": [
       "          total_sales\n",
       "platform             \n",
       "PS3            447.69\n",
       "X360           382.75\n",
       "PS4            314.14\n",
       "3DS            258.21\n",
       "XOne           159.32\n",
       "PC              98.67\n",
       "Wii             96.39\n",
       "WiiU            82.19\n",
       "PSV             53.81\n",
       "DS              39.54\n",
       "PSP             29.51\n",
       "PS2              0.45"
      ]
     },
     "execution_count": 25,
     "metadata": {},
     "output_type": "execute_result"
    }
   ],
   "source": [
    "top_actual = df_actual.groupby('platform')['total_sales'].sum().sort_values(ascending=False).to_frame()\n",
    "top_actual"
   ]
  },
  {
   "cell_type": "markdown",
   "metadata": {
    "id": "aDzhbTwE6Zpb"
   },
   "source": [
    "В лидерах по продажам в актуальной таблице PS3, X360 и PS4. Выводы отличаются от выводов по общей таблице за все года, там первое место было у PS2, а PS3 только 4-ая. Зато в актуальных данных PS2 на 10м месте. Устаревание платформы налицо."
   ]
  },
  {
   "cell_type": "code",
   "execution_count": 26,
   "metadata": {
    "colab": {
     "base_uri": "https://localhost:8080/",
     "height": 509
    },
    "id": "IPCtz2fY6MZf",
    "outputId": "0d911cd9-f0ff-475e-96f4-8c323d75cf80"
   },
   "outputs": [
    {
     "data": {
      "image/png": "[encoded data removed]",
      "text/plain": [
       "<Figure size 504x360 with 1 Axes>"
      ]
     },
     "metadata": {
      "needs_background": "light"
     },
     "output_type": "display_data"
    }
   ],
   "source": [
    "df_actual_pivot = df_actual.pivot_table(index='year_of_release',columns='platform', values='total_sales', aggfunc='sum')\n",
    "df_actual_pivot.plot(figsize=(7,5))\n",
    "plt.show()"
   ]
  },
  {
   "cell_type": "markdown",
   "metadata": {
    "id": "90tK8WMZ9FTs"
   },
   "source": [
    "Оба лидера PS3 и X360 самые высокие продажи показывали в 2011 и с тех пор продажи падали. Вероятно, можно сказать, что эти платформы находятся в завершающей стадии цикла и скоро исчезнут, их заменят более новые. Потенциально прибыльной назвала бы XOne - у нее с 2013 рост, если учитывать что данный по продажам за 2016 еще неполные. В 2017-2018 она может выйти на пик продаж. Также потенциально прибыльной можно считать WiiU, которая с 2012 показывает рост продаж, однако более плавный, нежели у XOne."
   ]
  },
  {
   "cell_type": "markdown",
   "metadata": {},
   "source": [
    "График \"ящик с усами\" по продажам с топовых платформ также показывает лидерство указанных ранее платформ. У предположительно набирающих обороты Xone и WiiU очевидно разный объем продаж, а по медианному значению они равны."
   ]
  },
  {
   "cell_type": "code",
   "execution_count": 27,
   "metadata": {
    "colab": {
     "base_uri": "https://localhost:8080/",
     "height": 382
    },
    "id": "45Aucic98jdy",
    "outputId": "6e65687b-d953-43c7-ea8b-c0cb78d44694"
   },
   "outputs": [
    {
     "data": {
      "image/png": "[encoded data removed]",
      "text/plain": [
       "<Figure size 432x288 with 1 Axes>"
      ]
     },
     "metadata": {
      "needs_background": "light"
     },
     "output_type": "display_data"
    }
   ],
   "source": [
    "sns.boxplot(x=df_actual['platform'], y=df_actual['total_sales'])\n",
    "plt.ylim(0,1.5)\n",
    "plt.show()"
   ]
  },
  {
   "cell_type": "markdown",
   "metadata": {
    "id": "RwfADHo5QN3i"
   },
   "source": [
    "Рассмотрим одну из популярных платформ"
   ]
  },
  {
   "cell_type": "code",
   "execution_count": 30,
   "metadata": {
    "colab": {
     "base_uri": "https://localhost:8080/",
     "height": 577
    },
    "id": "kaG_D9_lGtDx",
    "outputId": "88d277db-1fdb-4625-8f10-14e9f4585a1e"
   },
   "outputs": [
    {
     "data": {
      "text/plain": [
       "0.02495036920171559"
      ]
     },
     "metadata": {},
     "output_type": "display_data"
    },
    {
     "data": {
      "text/plain": [
       "0.37613768367126116"
      ]
     },
     "execution_count": 30,
     "metadata": {},
     "output_type": "execute_result"
    },
    {
     "data": {
      "image/png": "[encoded data removed]",
      "text/plain": [
       "<Figure size 432x288 with 1 Axes>"
      ]
     },
     "metadata": {
      "needs_background": "light"
     },
     "output_type": "display_data"
    },
    {
     "data": {
      "image/png": "[encoded data removed]",
      "text/plain": [
       "<Figure size 432x288 with 1 Axes>"
      ]
     },
     "metadata": {
      "needs_background": "light"
     },
     "output_type": "display_data"
    }
   ],
   "source": [
    "ps3 = df_actual.query('platform == \"PS3\" and user_score>0 and critic_score>0')\n",
    "ps3.plot(x='user_score', y='total_sales', kind='scatter')\n",
    "ps3.plot(x='critic_score', y='total_sales', kind='scatter')\n",
    "display(ps3['user_score'].corr(ps3['total_sales']))\n",
    "ps3['critic_score'].corr(ps3['total_sales'])"
   ]
  },
  {
   "cell_type": "markdown",
   "metadata": {
    "id": "vtd8EtQm5XIZ"
   },
   "source": [
    "Показатель корреляции между продажами и отзывами пользователей - 0.02. Можно сказать нулевая. Это также и отображается на диаграмме рассеяния. А вот корреляция с отзывами эспертов уже - 0.3. Однако надо помнить, что данных по отзывам изначально было очень мало. И корреляция - лишь один способ смотреть на взаимосвязь. На графике же можно заметить, что высокие продажи у платформы PS3 случаются при экспертном рейтинге больше 70."
   ]
  },
  {
   "cell_type": "markdown",
   "metadata": {
    "id": "BXhJ2ixOBEOe"
   },
   "source": [
    "Посмотрим на другие платформы"
   ]
  },
  {
   "cell_type": "code",
   "execution_count": 31,
   "metadata": {
    "colab": {
     "base_uri": "https://localhost:8080/",
     "height": 577
    },
    "id": "kCKbFtjs6jip",
    "outputId": "d8b6d3ea-6ec2-45d7-bec0-fae425fa16f7"
   },
   "outputs": [
    {
     "data": {
      "text/plain": [
       "0.3918479505297127"
      ]
     },
     "metadata": {},
     "output_type": "display_data"
    },
    {
     "data": {
      "text/plain": [
       "0.3508824224886429"
      ]
     },
     "execution_count": 31,
     "metadata": {},
     "output_type": "execute_result"
    },
    {
     "data": {
      "image/png": "[encoded data removed]",
      "text/plain": [
       "<Figure size 432x288 with 1 Axes>"
      ]
     },
     "metadata": {
      "needs_background": "light"
     },
     "output_type": "display_data"
    },
    {
     "data": {
      "image/png": "[encoded data removed]",
      "text/plain": [
       "<Figure size 432x288 with 1 Axes>"
      ]
     },
     "metadata": {
      "needs_background": "light"
     },
     "output_type": "display_data"
    }
   ],
   "source": [
    "wiiu = df_actual.query('platform == \"WiiU\" and user_score>0 and critic_score>0')\n",
    "wiiu.plot(x='user_score', y='total_sales', kind='scatter')\n",
    "wiiu.plot(x='critic_score', y='total_sales', kind='scatter')\n",
    "display(wiiu['user_score'].corr(wiiu['total_sales']))\n",
    "wiiu['critic_score'].corr(wiiu['total_sales'])"
   ]
  },
  {
   "cell_type": "code",
   "execution_count": 32,
   "metadata": {
    "colab": {
     "base_uri": "https://localhost:8080/",
     "height": 577
    },
    "id": "mMxN1pkl9Beq",
    "outputId": "1835c29e-51f8-423b-979d-ca23c55c5552",
    "scrolled": true
   },
   "outputs": [
    {
     "data": {
      "text/plain": [
       "0.022846157392019666"
      ]
     },
     "metadata": {},
     "output_type": "display_data"
    },
    {
     "data": {
      "text/plain": [
       "0.3893352638493179"
      ]
     },
     "execution_count": 32,
     "metadata": {},
     "output_type": "execute_result"
    },
    {
     "data": {
      "image/png": "[encoded data removed]",
      "text/plain": [
       "<Figure size 432x288 with 1 Axes>"
      ]
     },
     "metadata": {
      "needs_background": "light"
     },
     "output_type": "display_data"
    },
    {
     "data": {
      "image/png": "[encoded data removed]",
      "text/plain": [
       "<Figure size 432x288 with 1 Axes>"
      ]
     },
     "metadata": {
      "needs_background": "light"
     },
     "output_type": "display_data"
    }
   ],
   "source": [
    "x360 = df_actual.query('platform == \"X360\" and user_score>0 and critic_score>0')\n",
    "x360.plot(x='user_score', y='total_sales', kind='scatter')\n",
    "x360.plot(x='critic_score', y='total_sales', kind='scatter')\n",
    "display(x360['user_score'].corr(x360['total_sales']))\n",
    "x360['critic_score'].corr(x360['total_sales'])"
   ]
  },
  {
   "cell_type": "markdown",
   "metadata": {
    "id": "H1l1USveBfsP"
   },
   "source": [
    "Похожие данные показывает диаграмма и корреляция по х360 (0.04 с отзывами пользователей и 0.3 с отзывами экспертов). А вот у платформы WiiU почти одинаковая корреляция с отзывами пользователей и экспертов - 0.3. Тем не менее это слабая взаимосвязь. Однако на графике можно заметить, что высокие продажи у платформы WiiU случаются при рейтинге пользователей больше 8 и экспертном рейтинге больше 70"
   ]
  },
  {
   "cell_type": "code",
   "execution_count": 33,
   "metadata": {
    "colab": {
     "base_uri": "https://localhost:8080/",
     "height": 248
    },
    "id": "oFMj_yZVHFB6",
    "outputId": "7e192f69-e53e-4a19-df05-c73f63f2c022"
   },
   "outputs": [
    {
     "data": {
      "image/png": "[encoded data removed]",
      "text/plain": [
       "<Figure size 432x288 with 1 Axes>"
      ]
     },
     "metadata": {},
     "output_type": "display_data"
    }
   ],
   "source": [
    "df_actual.groupby('genre')['name'].count().plot(kind='pie')\n",
    "plt.show()\n"
   ]
  },
  {
   "cell_type": "markdown",
   "metadata": {
    "id": "vCqauQaFVO0v"
   },
   "source": [
    "По количеству игр лидирует action, меньшие доли у приключений, спортивных и ролевых игр, самая малая доля у головоломок."
   ]
  },
  {
   "cell_type": "code",
   "execution_count": 34,
   "metadata": {
    "colab": {
     "base_uri": "https://localhost:8080/",
     "height": 248
    },
    "id": "Fvw33YddT-mK",
    "outputId": "45c5fb2b-7520-4665-d795-d2509e1da5d3"
   },
   "outputs": [
    {
     "data": {
      "image/png": "[encoded data removed]",
      "text/plain": [
       "<Figure size 432x288 with 1 Axes>"
      ]
     },
     "metadata": {},
     "output_type": "display_data"
    }
   ],
   "source": [
    "df_actual.groupby('genre')['total_sales'].sum().plot(kind='pie')\n",
    "plt.show()"
   ]
  },
  {
   "cell_type": "markdown",
   "metadata": {
    "id": "1adhZOKSVm3k"
   },
   "source": [
    "По продажам немного другая картина, хотя лидер тот же - это action. Большая доля продаж в жанре шутеры, ролевые и спортивные игры. Самые низкие продажи у головоломок."
   ]
  },
  {
   "cell_type": "markdown",
   "metadata": {},
   "source": [
    "Рассматрим подробнее средние и медианные значения в продажах по жанрам"
   ]
  },
  {
   "cell_type": "code",
   "execution_count": 35,
   "metadata": {},
   "outputs": [
    {
     "data": {
      "text/html": [
       "<div>\n",
       "<style scoped>\n",
       "    .dataframe tbody tr th:only-of-type {\n",
       "        vertical-align: middle;\n",
       "    }\n",
       "\n",
       "    .dataframe tbody tr th {\n",
       "        vertical-align: top;\n",
       "    }\n",
       "\n",
       "    .dataframe thead tr th {\n",
       "        text-align: left;\n",
       "    }\n",
       "\n",
       "    .dataframe thead tr:last-of-type th {\n",
       "        text-align: right;\n",
       "    }\n",
       "</style>\n",
       "<table border=\"1\" class=\"dataframe\">\n",
       "  <thead>\n",
       "    <tr>\n",
       "      <th></th>\n",
       "      <th>mean</th>\n",
       "      <th>median</th>\n",
       "    </tr>\n",
       "    <tr>\n",
       "      <th></th>\n",
       "      <th>total_sales</th>\n",
       "      <th>total_sales</th>\n",
       "    </tr>\n",
       "    <tr>\n",
       "      <th>genre</th>\n",
       "      <th></th>\n",
       "      <th></th>\n",
       "    </tr>\n",
       "  </thead>\n",
       "  <tbody>\n",
       "    <tr>\n",
       "      <th>Action</th>\n",
       "      <td>0.439176</td>\n",
       "      <td>0.130</td>\n",
       "    </tr>\n",
       "    <tr>\n",
       "      <th>Adventure</th>\n",
       "      <td>0.109854</td>\n",
       "      <td>0.030</td>\n",
       "    </tr>\n",
       "    <tr>\n",
       "      <th>Fighting</th>\n",
       "      <td>0.420755</td>\n",
       "      <td>0.180</td>\n",
       "    </tr>\n",
       "    <tr>\n",
       "      <th>Misc</th>\n",
       "      <td>0.366257</td>\n",
       "      <td>0.120</td>\n",
       "    </tr>\n",
       "    <tr>\n",
       "      <th>Platform</th>\n",
       "      <td>0.726885</td>\n",
       "      <td>0.185</td>\n",
       "    </tr>\n",
       "    <tr>\n",
       "      <th>Puzzle</th>\n",
       "      <td>0.138732</td>\n",
       "      <td>0.050</td>\n",
       "    </tr>\n",
       "    <tr>\n",
       "      <th>Racing</th>\n",
       "      <td>0.490611</td>\n",
       "      <td>0.160</td>\n",
       "    </tr>\n",
       "    <tr>\n",
       "      <th>Role-Playing</th>\n",
       "      <td>0.528237</td>\n",
       "      <td>0.150</td>\n",
       "    </tr>\n",
       "    <tr>\n",
       "      <th>Shooter</th>\n",
       "      <td>1.213735</td>\n",
       "      <td>0.410</td>\n",
       "    </tr>\n",
       "    <tr>\n",
       "      <th>Simulation</th>\n",
       "      <td>0.369559</td>\n",
       "      <td>0.110</td>\n",
       "    </tr>\n",
       "    <tr>\n",
       "      <th>Sports</th>\n",
       "      <td>0.608718</td>\n",
       "      <td>0.200</td>\n",
       "    </tr>\n",
       "    <tr>\n",
       "      <th>Strategy</th>\n",
       "      <td>0.190763</td>\n",
       "      <td>0.080</td>\n",
       "    </tr>\n",
       "  </tbody>\n",
       "</table>\n",
       "</div>"
      ],
      "text/plain": [
       "                    mean      median\n",
       "             total_sales total_sales\n",
       "genre                               \n",
       "Action          0.439176       0.130\n",
       "Adventure       0.109854       0.030\n",
       "Fighting        0.420755       0.180\n",
       "Misc            0.366257       0.120\n",
       "Platform        0.726885       0.185\n",
       "Puzzle          0.138732       0.050\n",
       "Racing          0.490611       0.160\n",
       "Role-Playing    0.528237       0.150\n",
       "Shooter         1.213735       0.410\n",
       "Simulation      0.369559       0.110\n",
       "Sports          0.608718       0.200\n",
       "Strategy        0.190763       0.080"
      ]
     },
     "execution_count": 35,
     "metadata": {},
     "output_type": "execute_result"
    }
   ],
   "source": [
    "genre_sales = df_actual.pivot_table(index='genre', values='total_sales', aggfunc=['mean','median'])\n",
    "genre_sales"
   ]
  },
  {
   "cell_type": "code",
   "execution_count": 36,
   "metadata": {
    "scrolled": true
   },
   "outputs": [
    {
     "data": {
      "image/png": "[encoded data removed]",
      "text/plain": [
       "<Figure size 432x288 with 1 Axes>"
      ]
     },
     "metadata": {
      "needs_background": "light"
     },
     "output_type": "display_data"
    }
   ],
   "source": [
    "genre_sales.plot(kind='bar')\n",
    "plt.show()"
   ]
  },
  {
   "cell_type": "markdown",
   "metadata": {},
   "source": [
    "Сводная таблица показывает, что наиболее высокие средние продажи у шутеров, почти в два раза первышают следующие за ней по продажам платформенные и спортивные"
   ]
  },
  {
   "cell_type": "markdown",
   "metadata": {},
   "source": [
    "*Вывод по шагу Исследовательский анализ*"
   ]
  },
  {
   "cell_type": "markdown",
   "metadata": {},
   "source": [
    "1) В исследовательском анализе был рассчитан актуальный период для исследования, исходя из данных о количестве игр, выпускавшихся в разные годы на разных платформах. \n",
    "\n",
    "2) Были определены потенциальные прибыльные платформы на основе актуального периода.\n",
    "\n",
    "3) Проанализированы связи между продажами и пользовательскими и экспертными рейтингами.\n",
    "\n",
    "Сфера игр быстро меняется. Это показали графики, на смену одним платформам приходят другие, поэтому следует учитывать более короткие временные отрезки, так как сфера быстрообновляющаяся, а для построения прогнозов, вероятно, стоит брать отрезок 1-2 года. Исследование показало, что можно считать \"набирающими обороты\"/растущими в продажах, а следовательно потенциально прибыльными XOne, WiiU, а также PC. Ислледования взаимосвязи по двум факторам не показали в корреляции сильного значения, однако на графиках можно увидеть связи между высокими продажами и экспертными и пользовательскими рейтингами"
   ]
  },
  {
   "cell_type": "markdown",
   "metadata": {
    "id": "RFSLJn1zElub"
   },
   "source": [
    "**Шаг 4. Портрет пользователя**"
   ]
  },
  {
   "cell_type": "code",
   "execution_count": 37,
   "metadata": {
    "colab": {
     "base_uri": "https://localhost:8080/",
     "height": 679
    },
    "id": "BGGReTwBU9JI",
    "outputId": "c92472ca-ddce-4a11-ee6b-ca3e48ad32d4"
   },
   "outputs": [
    {
     "data": {
      "text/html": [
       "<div>\n",
       "<style scoped>\n",
       "    .dataframe tbody tr th:only-of-type {\n",
       "        vertical-align: middle;\n",
       "    }\n",
       "\n",
       "    .dataframe tbody tr th {\n",
       "        vertical-align: top;\n",
       "    }\n",
       "\n",
       "    .dataframe thead th {\n",
       "        text-align: right;\n",
       "    }\n",
       "</style>\n",
       "<table border=\"1\" class=\"dataframe\">\n",
       "  <thead>\n",
       "    <tr style=\"text-align: right;\">\n",
       "      <th></th>\n",
       "      <th>na_sales</th>\n",
       "    </tr>\n",
       "    <tr>\n",
       "      <th>platform</th>\n",
       "      <th></th>\n",
       "    </tr>\n",
       "  </thead>\n",
       "  <tbody>\n",
       "    <tr>\n",
       "      <th>X360</th>\n",
       "      <td>228.18</td>\n",
       "    </tr>\n",
       "    <tr>\n",
       "      <th>PS3</th>\n",
       "      <td>168.96</td>\n",
       "    </tr>\n",
       "    <tr>\n",
       "      <th>PS4</th>\n",
       "      <td>108.74</td>\n",
       "    </tr>\n",
       "    <tr>\n",
       "      <th>XOne</th>\n",
       "      <td>93.12</td>\n",
       "    </tr>\n",
       "    <tr>\n",
       "      <th>3DS</th>\n",
       "      <td>82.83</td>\n",
       "    </tr>\n",
       "  </tbody>\n",
       "</table>\n",
       "</div>"
      ],
      "text/plain": [
       "          na_sales\n",
       "platform          \n",
       "X360        228.18\n",
       "PS3         168.96\n",
       "PS4         108.74\n",
       "XOne         93.12\n",
       "3DS          82.83"
      ]
     },
     "metadata": {},
     "output_type": "display_data"
    },
    {
     "data": {
      "text/html": [
       "<div>\n",
       "<style scoped>\n",
       "    .dataframe tbody tr th:only-of-type {\n",
       "        vertical-align: middle;\n",
       "    }\n",
       "\n",
       "    .dataframe tbody tr th {\n",
       "        vertical-align: top;\n",
       "    }\n",
       "\n",
       "    .dataframe thead th {\n",
       "        text-align: right;\n",
       "    }\n",
       "</style>\n",
       "<table border=\"1\" class=\"dataframe\">\n",
       "  <thead>\n",
       "    <tr style=\"text-align: right;\">\n",
       "      <th></th>\n",
       "      <th>eu_sales</th>\n",
       "    </tr>\n",
       "    <tr>\n",
       "      <th>platform</th>\n",
       "      <th></th>\n",
       "    </tr>\n",
       "  </thead>\n",
       "  <tbody>\n",
       "    <tr>\n",
       "      <th>PS3</th>\n",
       "      <td>164.15</td>\n",
       "    </tr>\n",
       "    <tr>\n",
       "      <th>PS4</th>\n",
       "      <td>141.09</td>\n",
       "    </tr>\n",
       "    <tr>\n",
       "      <th>X360</th>\n",
       "      <td>117.87</td>\n",
       "    </tr>\n",
       "    <tr>\n",
       "      <th>3DS</th>\n",
       "      <td>61.46</td>\n",
       "    </tr>\n",
       "    <tr>\n",
       "      <th>PC</th>\n",
       "      <td>57.38</td>\n",
       "    </tr>\n",
       "  </tbody>\n",
       "</table>\n",
       "</div>"
      ],
      "text/plain": [
       "          eu_sales\n",
       "platform          \n",
       "PS3         164.15\n",
       "PS4         141.09\n",
       "X360        117.87\n",
       "3DS          61.46\n",
       "PC           57.38"
      ]
     },
     "metadata": {},
     "output_type": "display_data"
    },
    {
     "data": {
      "text/html": [
       "<div>\n",
       "<style scoped>\n",
       "    .dataframe tbody tr th:only-of-type {\n",
       "        vertical-align: middle;\n",
       "    }\n",
       "\n",
       "    .dataframe tbody tr th {\n",
       "        vertical-align: top;\n",
       "    }\n",
       "\n",
       "    .dataframe thead th {\n",
       "        text-align: right;\n",
       "    }\n",
       "</style>\n",
       "<table border=\"1\" class=\"dataframe\">\n",
       "  <thead>\n",
       "    <tr style=\"text-align: right;\">\n",
       "      <th></th>\n",
       "      <th>jp_sales</th>\n",
       "    </tr>\n",
       "    <tr>\n",
       "      <th>platform</th>\n",
       "      <th></th>\n",
       "    </tr>\n",
       "  </thead>\n",
       "  <tbody>\n",
       "    <tr>\n",
       "      <th>3DS</th>\n",
       "      <td>100.62</td>\n",
       "    </tr>\n",
       "    <tr>\n",
       "      <th>PS3</th>\n",
       "      <td>49.40</td>\n",
       "    </tr>\n",
       "    <tr>\n",
       "      <th>PSP</th>\n",
       "      <td>24.28</td>\n",
       "    </tr>\n",
       "    <tr>\n",
       "      <th>PSV</th>\n",
       "      <td>21.84</td>\n",
       "    </tr>\n",
       "    <tr>\n",
       "      <th>PS4</th>\n",
       "      <td>15.96</td>\n",
       "    </tr>\n",
       "  </tbody>\n",
       "</table>\n",
       "</div>"
      ],
      "text/plain": [
       "          jp_sales\n",
       "platform          \n",
       "3DS         100.62\n",
       "PS3          49.40\n",
       "PSP          24.28\n",
       "PSV          21.84\n",
       "PS4          15.96"
      ]
     },
     "metadata": {},
     "output_type": "display_data"
    }
   ],
   "source": [
    "na = df_actual.groupby('platform')['na_sales'].sum().sort_values(ascending=False).to_frame().head(5)\n",
    "eu = df_actual.groupby('platform')['eu_sales'].sum().sort_values(ascending=False).to_frame().head(5)\n",
    "jp = df_actual.groupby('platform')['jp_sales'].sum().sort_values(ascending=False).to_frame().head(5)\n",
    "display(na,eu,jp)\n"
   ]
  },
  {
   "cell_type": "markdown",
   "metadata": {
    "id": "Vk2Ha9DoHRPy"
   },
   "source": [
    "Платформы PS3 и PS4 есть во всех трех страновых группах, в Европе они занимают первые места по продажам, в Америке - 2е и 3е, в Японии - 2-е и 5-е. В Америке уверенно лидирет х360, а в Японии так же уверенно - 3DS."
   ]
  },
  {
   "cell_type": "code",
   "execution_count": 38,
   "metadata": {
    "colab": {
     "base_uri": "https://localhost:8080/",
     "height": 679
    },
    "id": "ll4-1JGbFaPt",
    "outputId": "33f0e357-260f-4bec-df74-05e2a05f3602"
   },
   "outputs": [
    {
     "data": {
      "text/html": [
       "<div>\n",
       "<style scoped>\n",
       "    .dataframe tbody tr th:only-of-type {\n",
       "        vertical-align: middle;\n",
       "    }\n",
       "\n",
       "    .dataframe tbody tr th {\n",
       "        vertical-align: top;\n",
       "    }\n",
       "\n",
       "    .dataframe thead th {\n",
       "        text-align: right;\n",
       "    }\n",
       "</style>\n",
       "<table border=\"1\" class=\"dataframe\">\n",
       "  <thead>\n",
       "    <tr style=\"text-align: right;\">\n",
       "      <th></th>\n",
       "      <th>na_sales</th>\n",
       "    </tr>\n",
       "    <tr>\n",
       "      <th>genre</th>\n",
       "      <th></th>\n",
       "    </tr>\n",
       "  </thead>\n",
       "  <tbody>\n",
       "    <tr>\n",
       "      <th>Action</th>\n",
       "      <td>234.41</td>\n",
       "    </tr>\n",
       "    <tr>\n",
       "      <th>Shooter</th>\n",
       "      <td>194.45</td>\n",
       "    </tr>\n",
       "    <tr>\n",
       "      <th>Sports</th>\n",
       "      <td>108.70</td>\n",
       "    </tr>\n",
       "    <tr>\n",
       "      <th>Role-Playing</th>\n",
       "      <td>83.78</td>\n",
       "    </tr>\n",
       "    <tr>\n",
       "      <th>Misc</th>\n",
       "      <td>69.81</td>\n",
       "    </tr>\n",
       "  </tbody>\n",
       "</table>\n",
       "</div>"
      ],
      "text/plain": [
       "              na_sales\n",
       "genre                 \n",
       "Action          234.41\n",
       "Shooter         194.45\n",
       "Sports          108.70\n",
       "Role-Playing     83.78\n",
       "Misc             69.81"
      ]
     },
     "metadata": {},
     "output_type": "display_data"
    },
    {
     "data": {
      "text/html": [
       "<div>\n",
       "<style scoped>\n",
       "    .dataframe tbody tr th:only-of-type {\n",
       "        vertical-align: middle;\n",
       "    }\n",
       "\n",
       "    .dataframe tbody tr th {\n",
       "        vertical-align: top;\n",
       "    }\n",
       "\n",
       "    .dataframe thead th {\n",
       "        text-align: right;\n",
       "    }\n",
       "</style>\n",
       "<table border=\"1\" class=\"dataframe\">\n",
       "  <thead>\n",
       "    <tr style=\"text-align: right;\">\n",
       "      <th></th>\n",
       "      <th>eu_sales</th>\n",
       "    </tr>\n",
       "    <tr>\n",
       "      <th>genre</th>\n",
       "      <th></th>\n",
       "    </tr>\n",
       "  </thead>\n",
       "  <tbody>\n",
       "    <tr>\n",
       "      <th>Action</th>\n",
       "      <td>202.17</td>\n",
       "    </tr>\n",
       "    <tr>\n",
       "      <th>Shooter</th>\n",
       "      <td>148.05</td>\n",
       "    </tr>\n",
       "    <tr>\n",
       "      <th>Sports</th>\n",
       "      <td>88.67</td>\n",
       "    </tr>\n",
       "    <tr>\n",
       "      <th>Role-Playing</th>\n",
       "      <td>62.30</td>\n",
       "    </tr>\n",
       "    <tr>\n",
       "      <th>Racing</th>\n",
       "      <td>40.58</td>\n",
       "    </tr>\n",
       "  </tbody>\n",
       "</table>\n",
       "</div>"
      ],
      "text/plain": [
       "              eu_sales\n",
       "genre                 \n",
       "Action          202.17\n",
       "Shooter         148.05\n",
       "Sports           88.67\n",
       "Role-Playing     62.30\n",
       "Racing           40.58"
      ]
     },
     "metadata": {},
     "output_type": "display_data"
    },
    {
     "data": {
      "text/html": [
       "<div>\n",
       "<style scoped>\n",
       "    .dataframe tbody tr th:only-of-type {\n",
       "        vertical-align: middle;\n",
       "    }\n",
       "\n",
       "    .dataframe tbody tr th {\n",
       "        vertical-align: top;\n",
       "    }\n",
       "\n",
       "    .dataframe thead th {\n",
       "        text-align: right;\n",
       "    }\n",
       "</style>\n",
       "<table border=\"1\" class=\"dataframe\">\n",
       "  <thead>\n",
       "    <tr style=\"text-align: right;\">\n",
       "      <th></th>\n",
       "      <th>jp_sales</th>\n",
       "    </tr>\n",
       "    <tr>\n",
       "      <th>genre</th>\n",
       "      <th></th>\n",
       "    </tr>\n",
       "  </thead>\n",
       "  <tbody>\n",
       "    <tr>\n",
       "      <th>Role-Playing</th>\n",
       "      <td>79.87</td>\n",
       "    </tr>\n",
       "    <tr>\n",
       "      <th>Action</th>\n",
       "      <td>63.63</td>\n",
       "    </tr>\n",
       "    <tr>\n",
       "      <th>Misc</th>\n",
       "      <td>17.85</td>\n",
       "    </tr>\n",
       "    <tr>\n",
       "      <th>Fighting</th>\n",
       "      <td>12.38</td>\n",
       "    </tr>\n",
       "    <tr>\n",
       "      <th>Platform</th>\n",
       "      <td>12.13</td>\n",
       "    </tr>\n",
       "  </tbody>\n",
       "</table>\n",
       "</div>"
      ],
      "text/plain": [
       "              jp_sales\n",
       "genre                 \n",
       "Role-Playing     79.87\n",
       "Action           63.63\n",
       "Misc             17.85\n",
       "Fighting         12.38\n",
       "Platform         12.13"
      ]
     },
     "metadata": {},
     "output_type": "display_data"
    }
   ],
   "source": [
    "na = df_actual.groupby('genre')['na_sales'].sum().sort_values(ascending=False).to_frame().head(5)\n",
    "eu = df_actual.groupby('genre')['eu_sales'].sum().sort_values(ascending=False).to_frame().head(5)\n",
    "jp = df_actual.groupby('genre')['jp_sales'].sum().sort_values(ascending=False).to_frame().head(5)\n",
    "display(na,eu,jp)"
   ]
  },
  {
   "cell_type": "markdown",
   "metadata": {
    "id": "9Gc7t6GsIkDc"
   },
   "source": [
    "По жанрам на первом месте в Европе и Америке action. Отрыв от второго места около 20%. А вот в Японии action только на втором месте, там лидируют ролевые игры, также примерно с 20%-м отрывом. Картина по Европе и Америке во многом похожа: первые 4 места там распределились одинаково - 1)экшн 2) шутеры 3) спортивные 4) ролевые. И лишь на пятом месте разные: в Европе - гонки, в Америке - \"разное\". Япония имеет совпадение с западом лишь в двух случаях - ролевые и экшн, как и в Америке здесь любят игры из категории \"разное\", а также борьба и платформенные, но на их долю приходится значительно меньше продаж."
   ]
  },
  {
   "cell_type": "code",
   "execution_count": 39,
   "metadata": {
    "colab": {
     "base_uri": "https://localhost:8080/",
     "height": 679
    },
    "id": "tCQ-YUuVIeVN",
    "outputId": "cf3a90fd-e694-4ba8-d9bc-24e3c83b93fd"
   },
   "outputs": [
    {
     "data": {
      "text/html": [
       "<div>\n",
       "<style scoped>\n",
       "    .dataframe tbody tr th:only-of-type {\n",
       "        vertical-align: middle;\n",
       "    }\n",
       "\n",
       "    .dataframe tbody tr th {\n",
       "        vertical-align: top;\n",
       "    }\n",
       "\n",
       "    .dataframe thead th {\n",
       "        text-align: right;\n",
       "    }\n",
       "</style>\n",
       "<table border=\"1\" class=\"dataframe\">\n",
       "  <thead>\n",
       "    <tr style=\"text-align: right;\">\n",
       "      <th></th>\n",
       "      <th>na_sales</th>\n",
       "    </tr>\n",
       "    <tr>\n",
       "      <th>rating</th>\n",
       "      <th></th>\n",
       "    </tr>\n",
       "  </thead>\n",
       "  <tbody>\n",
       "    <tr>\n",
       "      <th>M</th>\n",
       "      <td>309.32</td>\n",
       "    </tr>\n",
       "    <tr>\n",
       "      <th>E</th>\n",
       "      <td>170.25</td>\n",
       "    </tr>\n",
       "    <tr>\n",
       "      <th>no rating</th>\n",
       "      <td>124.03</td>\n",
       "    </tr>\n",
       "    <tr>\n",
       "      <th>E10+</th>\n",
       "      <td>119.95</td>\n",
       "    </tr>\n",
       "    <tr>\n",
       "      <th>T</th>\n",
       "      <td>109.62</td>\n",
       "    </tr>\n",
       "  </tbody>\n",
       "</table>\n",
       "</div>"
      ],
      "text/plain": [
       "           na_sales\n",
       "rating             \n",
       "M            309.32\n",
       "E            170.25\n",
       "no rating    124.03\n",
       "E10+         119.95\n",
       "T            109.62"
      ]
     },
     "metadata": {},
     "output_type": "display_data"
    },
    {
     "data": {
      "text/html": [
       "<div>\n",
       "<style scoped>\n",
       "    .dataframe tbody tr th:only-of-type {\n",
       "        vertical-align: middle;\n",
       "    }\n",
       "\n",
       "    .dataframe tbody tr th {\n",
       "        vertical-align: top;\n",
       "    }\n",
       "\n",
       "    .dataframe thead th {\n",
       "        text-align: right;\n",
       "    }\n",
       "</style>\n",
       "<table border=\"1\" class=\"dataframe\">\n",
       "  <thead>\n",
       "    <tr style=\"text-align: right;\">\n",
       "      <th></th>\n",
       "      <th>eu_sales</th>\n",
       "    </tr>\n",
       "    <tr>\n",
       "      <th>rating</th>\n",
       "      <th></th>\n",
       "    </tr>\n",
       "  </thead>\n",
       "  <tbody>\n",
       "    <tr>\n",
       "      <th>M</th>\n",
       "      <td>251.40</td>\n",
       "    </tr>\n",
       "    <tr>\n",
       "      <th>E</th>\n",
       "      <td>141.93</td>\n",
       "    </tr>\n",
       "    <tr>\n",
       "      <th>no rating</th>\n",
       "      <td>116.67</td>\n",
       "    </tr>\n",
       "    <tr>\n",
       "      <th>T</th>\n",
       "      <td>83.37</td>\n",
       "    </tr>\n",
       "    <tr>\n",
       "      <th>E10+</th>\n",
       "      <td>79.88</td>\n",
       "    </tr>\n",
       "  </tbody>\n",
       "</table>\n",
       "</div>"
      ],
      "text/plain": [
       "           eu_sales\n",
       "rating             \n",
       "M            251.40\n",
       "E            141.93\n",
       "no rating    116.67\n",
       "T             83.37\n",
       "E10+          79.88"
      ]
     },
     "metadata": {},
     "output_type": "display_data"
    },
    {
     "data": {
      "text/html": [
       "<div>\n",
       "<style scoped>\n",
       "    .dataframe tbody tr th:only-of-type {\n",
       "        vertical-align: middle;\n",
       "    }\n",
       "\n",
       "    .dataframe tbody tr th {\n",
       "        vertical-align: top;\n",
       "    }\n",
       "\n",
       "    .dataframe thead th {\n",
       "        text-align: right;\n",
       "    }\n",
       "</style>\n",
       "<table border=\"1\" class=\"dataframe\">\n",
       "  <thead>\n",
       "    <tr style=\"text-align: right;\">\n",
       "      <th></th>\n",
       "      <th>jp_sales</th>\n",
       "    </tr>\n",
       "    <tr>\n",
       "      <th>rating</th>\n",
       "      <th></th>\n",
       "    </tr>\n",
       "  </thead>\n",
       "  <tbody>\n",
       "    <tr>\n",
       "      <th>no rating</th>\n",
       "      <td>138.46</td>\n",
       "    </tr>\n",
       "    <tr>\n",
       "      <th>E</th>\n",
       "      <td>36.68</td>\n",
       "    </tr>\n",
       "    <tr>\n",
       "      <th>T</th>\n",
       "      <td>33.39</td>\n",
       "    </tr>\n",
       "    <tr>\n",
       "      <th>M</th>\n",
       "      <td>26.15</td>\n",
       "    </tr>\n",
       "    <tr>\n",
       "      <th>E10+</th>\n",
       "      <td>11.23</td>\n",
       "    </tr>\n",
       "  </tbody>\n",
       "</table>\n",
       "</div>"
      ],
      "text/plain": [
       "           jp_sales\n",
       "rating             \n",
       "no rating    138.46\n",
       "E             36.68\n",
       "T             33.39\n",
       "M             26.15\n",
       "E10+          11.23"
      ]
     },
     "metadata": {},
     "output_type": "display_data"
    }
   ],
   "source": [
    "na = df_actual.groupby('rating')['na_sales'].sum().sort_values(ascending=False).to_frame().head(5)\n",
    "eu = df_actual.groupby('rating')['eu_sales'].sum().sort_values(ascending=False).to_frame().head(5)\n",
    "jp = df_actual.groupby('rating')['jp_sales'].sum().sort_values(ascending=False).to_frame().head(5)\n",
    "display(na,eu,jp)"
   ]
  },
  {
   "cell_type": "markdown",
   "metadata": {
    "id": "Eiy5iJTvMXcf"
   },
   "source": [
    "Здесь также можно заметить отличие результатов по Японии от Европы и Америки. В Европе и Америке на 1м и 2м месте соответственно M(mature) для взрослых и E(everyone) для всех. У Японии на первом месте игры, где возрастной рейтинг не определен, на втором E(everyone) для всех. Также доли продаж по рейтингам У Японии меньше, чем у Америки и Европы."
   ]
  },
  {
   "cell_type": "markdown",
   "metadata": {
    "id": "ox-Zzhc1SP7b"
   },
   "source": [
    "**Шаг 5. Проверка гипотез**"
   ]
  },
  {
   "cell_type": "markdown",
   "metadata": {
    "id": "XFhMlSskSVsj"
   },
   "source": [
    "Нужно проверить две гипотезы:\n",
    "- средние пользовательские рейтинги Xbox One и PC одинаковые\n",
    "- средние пользовательские рейтинги жанров Action и Sports разные"
   ]
  },
  {
   "cell_type": "markdown",
   "metadata": {
    "id": "B17dopHYSzP9"
   },
   "source": [
    "*Формулирование гипотез*"
   ]
  },
  {
   "cell_type": "markdown",
   "metadata": {
    "id": "KhhdYYM-S6rC"
   },
   "source": [
    "1) - Нулевая гипотеза (Н0) - средние пользовательские рейтинги Xbox one и PC равны\n",
    "\n",
    "Альтернативная гипотеза (Н1) = средние пользовательские рейтинги Xbox one и PC  не равны\n",
    "\n",
    "2) - Нулевая гипотеза (Н0) - средние пользовательские рейтинги Action и Sports равны\n",
    "\n",
    "Альтернативная гипотеза (Н1) - средние пользовательские рейтинги Action и Sports не равны"
   ]
  },
  {
   "cell_type": "code",
   "execution_count": 40,
   "metadata": {
    "id": "ZgH6Yx72LDcu"
   },
   "outputs": [],
   "source": [
    "df_actual['platform'].value_counts()\n",
    "xbox = df_actual.query('platform == \"XOne\" and user_score>0')\n",
    "pc = df_actual.query('platform == \"PC\" and user_score>0')   \n",
    "sample_xbox = xbox['user_score']\n",
    "sample_pc = pc['user_score']"
   ]
  },
  {
   "cell_type": "markdown",
   "metadata": {
    "id": "3dPq6QpxVSnI"
   },
   "source": [
    "Делаю срезы с двумя выборками. Данные для теста сохраняю в переменных sample. Так как надо сравнить две средние совокупности, взятые по выборкам, я буду использовать тест ttest_ind"
   ]
  },
  {
   "cell_type": "code",
   "execution_count": 41,
   "metadata": {
    "colab": {
     "base_uri": "https://localhost:8080/",
     "height": 143
    },
    "id": "iFkqeDnFSJbs",
    "outputId": "0791793e-449d-4f73-da2f-da6500e086dc"
   },
   "outputs": [
    {
     "data": {
      "text/plain": [
       "'p-значение:'"
      ]
     },
     "metadata": {},
     "output_type": "display_data"
    },
    {
     "data": {
      "text/plain": [
       "0.6981816747159801"
      ]
     },
     "metadata": {},
     "output_type": "display_data"
    },
    {
     "data": {
      "text/plain": [
       "'Не отвергаем нулевую гипотезу'"
      ]
     },
     "metadata": {},
     "output_type": "display_data"
    },
    {
     "data": {
      "text/plain": [
       "'Xbox рейтинг Среднее'"
      ]
     },
     "metadata": {},
     "output_type": "display_data"
    },
    {
     "data": {
      "text/plain": [
       "6.52142857142857"
      ]
     },
     "metadata": {},
     "output_type": "display_data"
    },
    {
     "data": {
      "text/plain": [
       "'PC рейтинг Среднее'"
      ]
     },
     "metadata": {},
     "output_type": "display_data"
    },
    {
     "data": {
      "text/plain": [
       "6.466242038216563"
      ]
     },
     "metadata": {},
     "output_type": "display_data"
    }
   ],
   "source": [
    "alpha = .05\n",
    "results = st.ttest_ind(sample_xbox,sample_pc)\n",
    "results.pvalue\n",
    "\n",
    "display('p-значение:',results.pvalue)\n",
    "\n",
    "if results.pvalue < alpha:\n",
    "    display('Отвергаем нулевую гипотезу')\n",
    "else:\n",
    "    display('Не отвергаем нулевую гипотезу')\n",
    "\n",
    "display ('Xbox рейтинг Среднее', sample_xbox.mean())\n",
    "display ('PC рейтинг Среднее', sample_pc.mean())"
   ]
  },
  {
   "cell_type": "code",
   "execution_count": 42,
   "metadata": {
    "id": "9vn32m3FWZ2b"
   },
   "outputs": [],
   "source": [
    "action = df_actual.query('genre == \"Action\" and user_score>0')\n",
    "sports = df_actual.query('genre == \"Sports\" and user_score>0')   \n",
    "sample_action = action['user_score']\n",
    "sample_sports = sports['user_score']"
   ]
  },
  {
   "cell_type": "code",
   "execution_count": 43,
   "metadata": {
    "colab": {
     "base_uri": "https://localhost:8080/",
     "height": 143
    },
    "id": "r3-o0yjMWDwc",
    "outputId": "b15fb88c-edea-4beb-ad39-3eec95d32971"
   },
   "outputs": [
    {
     "data": {
      "text/plain": [
       "'p-значение:'"
      ]
     },
     "metadata": {},
     "output_type": "display_data"
    },
    {
     "data": {
      "text/plain": [
       "1.551415375928656e-24"
      ]
     },
     "metadata": {},
     "output_type": "display_data"
    },
    {
     "data": {
      "text/plain": [
       "'Отвергаем нулевую гипотезу'"
      ]
     },
     "metadata": {},
     "output_type": "display_data"
    },
    {
     "data": {
      "text/plain": [
       "'Action рейтинг Среднее'"
      ]
     },
     "metadata": {},
     "output_type": "display_data"
    },
    {
     "data": {
      "text/plain": [
       "6.783851851851868"
      ]
     },
     "metadata": {},
     "output_type": "display_data"
    },
    {
     "data": {
      "text/plain": [
       "'Sports рейтинг Среднее'"
      ]
     },
     "metadata": {},
     "output_type": "display_data"
    },
    {
     "data": {
      "text/plain": [
       "5.650813008130081"
      ]
     },
     "metadata": {},
     "output_type": "display_data"
    }
   ],
   "source": [
    "alpha = .05\n",
    "results = st.ttest_ind(sample_action,sample_sports)\n",
    "results.pvalue\n",
    "\n",
    "display('p-значение:',results.pvalue)\n",
    "\n",
    "if results.pvalue < alpha:\n",
    "    display('Отвергаем нулевую гипотезу')\n",
    "else:\n",
    "    display('Не отвергаем нулевую гипотезу')\n",
    "\n",
    "display ('Action рейтинг Среднее', sample_action.mean())\n",
    "display ('Sports рейтинг Среднее', sample_sports.mean())"
   ]
  },
  {
   "cell_type": "markdown",
   "metadata": {
    "id": "7i5pm2f3Ybbw"
   },
   "source": [
    "Для первого теста осталась в силе нулевая гипотеза: средние пользовательские рейтинги Xbox One и PC равны. Для второго теста - альтернативная гипотеза: пользвотельские средние рейтинги в жанрах action и sports не равны"
   ]
  },
  {
   "cell_type": "markdown",
   "metadata": {
    "id": "eiFvQDrsaOW9"
   },
   "source": [
    "**Шаг 6. Общий вывод**"
   ]
  },
  {
   "cell_type": "markdown",
   "metadata": {
    "id": "MWaT0R2Da4jr"
   },
   "source": [
    "В исследовании была проведена:\n",
    "- подготовка данных\n",
    "- исследовательский анализ\n",
    "- составлен портрет пользователя по регионам\n",
    "- проверены две гипотезы\n",
    "\n",
    "а)Исследовательский анализ показал, что в данном случае смотреть на данные за все периоды не является целесообразным, так как в игровой индустрии изменения происходят постоянно - обновляются платформы, появляются новые игры. Графики показали, что характерный срок, за который появляются новые и исчезают старые платформы - 8-10 лет. В лидерах платформы Xbox, PS, PC, Wii, а на актуальный период ожидается рост Xbox One и WiiU. \n",
    "\n",
    "b)Что касается потрета пользователя, то заметны отличия аудитории из Японии по сравнению с Америкой и Европой. Там в лидерах разные платформы и разные жанры, к примеру, в Европе и Америке на первом месте Action, тогда как в Японии ролевые игры.\n",
    "\n",
    "c)Тесты на равенство средних рейтингов по платформам Xbox One и PC и по жанрам action и sports показали, что средние по платформам равны, а по жанрам - нет."
   ]
  }
 ],
 "metadata": {
  "ExecuteTimeLog": [
   {
    "duration": 1275,
    "start_time": "2022-03-12T21:16:14.700Z"
   },
   {
    "duration": 49,
    "start_time": "2022-03-12T21:16:15.978Z"
   },
   {
    "duration": 15,
    "start_time": "2022-03-12T21:16:16.030Z"
   },
   {
    "duration": 22,
    "start_time": "2022-03-12T21:16:16.047Z"
   },
   {
    "duration": 39,
    "start_time": "2022-03-12T21:16:16.072Z"
   },
   {
    "duration": 27,
    "start_time": "2022-03-12T21:16:16.113Z"
   },
   {
    "duration": 19,
    "start_time": "2022-03-12T21:16:16.142Z"
   },
   {
    "duration": 38,
    "start_time": "2022-03-12T21:16:16.165Z"
   },
   {
    "duration": 20,
    "start_time": "2022-03-12T21:16:16.205Z"
   },
   {
    "duration": 23,
    "start_time": "2022-03-12T21:16:16.227Z"
   },
   {
    "duration": 7,
    "start_time": "2022-03-12T21:16:16.252Z"
   },
   {
    "duration": 49,
    "start_time": "2022-03-12T21:16:16.262Z"
   },
   {
    "duration": 56,
    "start_time": "2022-03-12T21:16:16.313Z"
   },
   {
    "duration": 17,
    "start_time": "2022-03-12T21:16:16.372Z"
   },
   {
    "duration": 362,
    "start_time": "2022-03-12T21:16:16.391Z"
   },
   {
    "duration": 12,
    "start_time": "2022-03-12T21:16:16.755Z"
   },
   {
    "duration": 2564,
    "start_time": "2022-03-12T21:16:16.769Z"
   },
   {
    "duration": 24,
    "start_time": "2022-03-12T21:16:19.335Z"
   },
   {
    "duration": 11,
    "start_time": "2022-03-12T21:16:19.361Z"
   },
   {
    "duration": 1142,
    "start_time": "2022-03-12T21:16:19.374Z"
   },
   {
    "duration": 382,
    "start_time": "2022-03-12T21:16:20.519Z"
   },
   {
    "duration": 878,
    "start_time": "2022-03-12T21:16:20.903Z"
   },
   {
    "duration": 620,
    "start_time": "2022-03-12T21:16:21.785Z"
   },
   {
    "duration": 610,
    "start_time": "2022-03-12T21:16:22.408Z"
   },
   {
    "duration": 118,
    "start_time": "2022-03-12T21:16:23.020Z"
   },
   {
    "duration": 153,
    "start_time": "2022-03-12T21:16:23.140Z"
   },
   {
    "duration": 31,
    "start_time": "2022-03-12T21:16:23.300Z"
   },
   {
    "duration": 28,
    "start_time": "2022-03-12T21:16:23.333Z"
   },
   {
    "duration": 60,
    "start_time": "2022-03-12T21:16:23.363Z"
   },
   {
    "duration": 10,
    "start_time": "2022-03-12T21:16:23.425Z"
   },
   {
    "duration": 21,
    "start_time": "2022-03-12T21:16:23.438Z"
   },
   {
    "duration": 46,
    "start_time": "2022-03-12T21:16:23.461Z"
   },
   {
    "duration": 22,
    "start_time": "2022-03-12T21:16:23.509Z"
   },
   {
    "duration": 383,
    "start_time": "2022-03-14T12:20:50.181Z"
   },
   {
    "duration": 1565,
    "start_time": "2022-03-14T12:21:11.761Z"
   },
   {
    "duration": 69,
    "start_time": "2022-03-14T12:21:13.329Z"
   },
   {
    "duration": 23,
    "start_time": "2022-03-14T12:21:13.403Z"
   },
   {
    "duration": 51,
    "start_time": "2022-03-14T12:21:13.429Z"
   },
   {
    "duration": 16,
    "start_time": "2022-03-14T12:21:13.483Z"
   },
   {
    "duration": 33,
    "start_time": "2022-03-14T12:21:13.502Z"
   },
   {
    "duration": 38,
    "start_time": "2022-03-14T12:21:13.538Z"
   },
   {
    "duration": 35,
    "start_time": "2022-03-14T12:21:13.581Z"
   },
   {
    "duration": 56,
    "start_time": "2022-03-14T12:21:13.619Z"
   },
   {
    "duration": 38,
    "start_time": "2022-03-14T12:21:13.677Z"
   },
   {
    "duration": 9,
    "start_time": "2022-03-14T12:21:13.718Z"
   },
   {
    "duration": 47,
    "start_time": "2022-03-14T12:21:13.729Z"
   },
   {
    "duration": 32,
    "start_time": "2022-03-14T12:21:13.779Z"
   },
   {
    "duration": 29,
    "start_time": "2022-03-14T12:21:13.813Z"
   },
   {
    "duration": 1014,
    "start_time": "2022-03-14T12:21:13.845Z"
   },
   {
    "duration": 27,
    "start_time": "2022-03-14T12:21:14.863Z"
   },
   {
    "duration": 2880,
    "start_time": "2022-03-14T12:21:14.893Z"
   },
   {
    "duration": 30,
    "start_time": "2022-03-14T12:21:17.775Z"
   },
   {
    "duration": 13,
    "start_time": "2022-03-14T12:21:17.808Z"
   },
   {
    "duration": 1786,
    "start_time": "2022-03-14T12:21:17.824Z"
   },
   {
    "duration": 566,
    "start_time": "2022-03-14T12:21:19.613Z"
   },
   {
    "duration": 965,
    "start_time": "2022-03-14T12:21:20.182Z"
   },
   {
    "duration": 825,
    "start_time": "2022-03-14T12:21:21.153Z"
   },
   {
    "duration": 920,
    "start_time": "2022-03-14T12:21:21.982Z"
   },
   {
    "duration": 173,
    "start_time": "2022-03-14T12:21:22.905Z"
   },
   {
    "duration": 177,
    "start_time": "2022-03-14T12:21:23.081Z"
   },
   {
    "duration": 43,
    "start_time": "2022-03-14T12:21:23.261Z"
   },
   {
    "duration": 68,
    "start_time": "2022-03-14T12:21:23.307Z"
   },
   {
    "duration": 36,
    "start_time": "2022-03-14T12:21:23.377Z"
   },
   {
    "duration": 12,
    "start_time": "2022-03-14T12:21:23.416Z"
   },
   {
    "duration": 62,
    "start_time": "2022-03-14T12:21:23.431Z"
   },
   {
    "duration": 11,
    "start_time": "2022-03-14T12:21:23.498Z"
   },
   {
    "duration": 65,
    "start_time": "2022-03-14T12:21:23.511Z"
   },
   {
    "duration": 1050,
    "start_time": "2022-03-15T06:07:15.089Z"
   },
   {
    "duration": 42,
    "start_time": "2022-03-15T06:07:16.141Z"
   },
   {
    "duration": 68,
    "start_time": "2022-03-15T06:07:16.185Z"
   },
   {
    "duration": -1633,
    "start_time": "2022-03-15T06:07:17.889Z"
   },
   {
    "duration": -1652,
    "start_time": "2022-03-15T06:07:17.909Z"
   },
   {
    "duration": -1667,
    "start_time": "2022-03-15T06:07:17.926Z"
   },
   {
    "duration": -1679,
    "start_time": "2022-03-15T06:07:17.939Z"
   },
   {
    "duration": -1755,
    "start_time": "2022-03-15T06:07:18.016Z"
   },
   {
    "duration": -1767,
    "start_time": "2022-03-15T06:07:18.030Z"
   },
   {
    "duration": -1781,
    "start_time": "2022-03-15T06:07:18.045Z"
   },
   {
    "duration": -1792,
    "start_time": "2022-03-15T06:07:18.058Z"
   },
   {
    "duration": -1806,
    "start_time": "2022-03-15T06:07:18.073Z"
   },
   {
    "duration": -1819,
    "start_time": "2022-03-15T06:07:18.087Z"
   },
   {
    "duration": -1832,
    "start_time": "2022-03-15T06:07:18.102Z"
   },
   {
    "duration": -1861,
    "start_time": "2022-03-15T06:07:18.132Z"
   },
   {
    "duration": -1875,
    "start_time": "2022-03-15T06:07:18.148Z"
   },
   {
    "duration": -1887,
    "start_time": "2022-03-15T06:07:18.161Z"
   },
   {
    "duration": -1902,
    "start_time": "2022-03-15T06:07:18.177Z"
   },
   {
    "duration": -1913,
    "start_time": "2022-03-15T06:07:18.189Z"
   },
   {
    "duration": -1926,
    "start_time": "2022-03-15T06:07:18.203Z"
   },
   {
    "duration": -1940,
    "start_time": "2022-03-15T06:07:18.217Z"
   },
   {
    "duration": -1970,
    "start_time": "2022-03-15T06:07:18.248Z"
   },
   {
    "duration": -1984,
    "start_time": "2022-03-15T06:07:18.263Z"
   },
   {
    "duration": -1999,
    "start_time": "2022-03-15T06:07:18.279Z"
   },
   {
    "duration": -2015,
    "start_time": "2022-03-15T06:07:18.296Z"
   },
   {
    "duration": -2035,
    "start_time": "2022-03-15T06:07:18.318Z"
   },
   {
    "duration": -2053,
    "start_time": "2022-03-15T06:07:18.336Z"
   },
   {
    "duration": -2089,
    "start_time": "2022-03-15T06:07:18.373Z"
   },
   {
    "duration": -2105,
    "start_time": "2022-03-15T06:07:18.390Z"
   },
   {
    "duration": -2119,
    "start_time": "2022-03-15T06:07:18.405Z"
   },
   {
    "duration": -2136,
    "start_time": "2022-03-15T06:07:18.423Z"
   },
   {
    "duration": -2150,
    "start_time": "2022-03-15T06:07:18.437Z"
   },
   {
    "duration": -2168,
    "start_time": "2022-03-15T06:07:18.456Z"
   },
   {
    "duration": 12,
    "start_time": "2022-03-15T06:08:18.237Z"
   },
   {
    "duration": 21,
    "start_time": "2022-03-15T06:12:49.873Z"
   },
   {
    "duration": 6,
    "start_time": "2022-03-15T06:46:49.079Z"
   },
   {
    "duration": 8,
    "start_time": "2022-03-15T06:47:05.424Z"
   },
   {
    "duration": 11,
    "start_time": "2022-03-15T07:26:54.388Z"
   },
   {
    "duration": 6,
    "start_time": "2022-03-15T07:28:08.212Z"
   },
   {
    "duration": 20,
    "start_time": "2022-03-15T07:29:29.874Z"
   },
   {
    "duration": 372,
    "start_time": "2022-03-15T07:58:20.408Z"
   },
   {
    "duration": 314,
    "start_time": "2022-03-15T07:58:56.320Z"
   },
   {
    "duration": 301,
    "start_time": "2022-03-15T07:59:51.119Z"
   },
   {
    "duration": 38,
    "start_time": "2022-03-15T08:09:37.509Z"
   },
   {
    "duration": 16,
    "start_time": "2022-03-15T08:09:37.562Z"
   },
   {
    "duration": 47,
    "start_time": "2022-03-15T08:09:37.595Z"
   },
   {
    "duration": 10,
    "start_time": "2022-03-15T08:09:37.656Z"
   },
   {
    "duration": 12,
    "start_time": "2022-03-15T08:09:37.693Z"
   },
   {
    "duration": 20,
    "start_time": "2022-03-15T08:09:37.760Z"
   },
   {
    "duration": 49,
    "start_time": "2022-03-15T08:09:37.795Z"
   },
   {
    "duration": 11,
    "start_time": "2022-03-15T08:09:37.855Z"
   },
   {
    "duration": 7,
    "start_time": "2022-03-15T08:09:37.882Z"
   },
   {
    "duration": 8,
    "start_time": "2022-03-15T08:09:37.899Z"
   },
   {
    "duration": 9,
    "start_time": "2022-03-15T08:09:37.957Z"
   },
   {
    "duration": -313,
    "start_time": "2022-03-15T08:16:00.635Z"
   },
   {
    "duration": -336,
    "start_time": "2022-03-15T08:16:00.660Z"
   },
   {
    "duration": -396,
    "start_time": "2022-03-15T08:16:00.722Z"
   },
   {
    "duration": -419,
    "start_time": "2022-03-15T08:16:00.748Z"
   },
   {
    "duration": -436,
    "start_time": "2022-03-15T08:16:00.768Z"
   },
   {
    "duration": -452,
    "start_time": "2022-03-15T08:16:00.786Z"
   },
   {
    "duration": -481,
    "start_time": "2022-03-15T08:16:00.816Z"
   },
   {
    "duration": -495,
    "start_time": "2022-03-15T08:16:00.833Z"
   },
   {
    "duration": -527,
    "start_time": "2022-03-15T08:16:00.867Z"
   },
   {
    "duration": -552,
    "start_time": "2022-03-15T08:16:00.898Z"
   },
   {
    "duration": -589,
    "start_time": "2022-03-15T08:16:00.938Z"
   },
   {
    "duration": -619,
    "start_time": "2022-03-15T08:16:00.970Z"
   },
   {
    "duration": -637,
    "start_time": "2022-03-15T08:16:00.992Z"
   },
   {
    "duration": -663,
    "start_time": "2022-03-15T08:16:01.019Z"
   },
   {
    "duration": -691,
    "start_time": "2022-03-15T08:16:01.049Z"
   },
   {
    "duration": -709,
    "start_time": "2022-03-15T08:16:01.068Z"
   },
   {
    "duration": -726,
    "start_time": "2022-03-15T08:16:01.087Z"
   },
   {
    "duration": -750,
    "start_time": "2022-03-15T08:16:01.113Z"
   },
   {
    "duration": -762,
    "start_time": "2022-03-15T08:16:01.127Z"
   },
   {
    "duration": -772,
    "start_time": "2022-03-15T08:16:01.139Z"
   },
   {
    "duration": -785,
    "start_time": "2022-03-15T08:16:01.153Z"
   },
   {
    "duration": -798,
    "start_time": "2022-03-15T08:16:01.168Z"
   },
   {
    "duration": -809,
    "start_time": "2022-03-15T08:16:01.181Z"
   },
   {
    "duration": -821,
    "start_time": "2022-03-15T08:16:01.195Z"
   },
   {
    "duration": -836,
    "start_time": "2022-03-15T08:16:01.211Z"
   },
   {
    "duration": -845,
    "start_time": "2022-03-15T08:16:01.222Z"
   },
   {
    "duration": -857,
    "start_time": "2022-03-15T08:16:01.236Z"
   },
   {
    "duration": -867,
    "start_time": "2022-03-15T08:16:01.248Z"
   },
   {
    "duration": -881,
    "start_time": "2022-03-15T08:16:01.263Z"
   },
   {
    "duration": -862,
    "start_time": "2022-03-15T08:16:01.308Z"
   },
   {
    "duration": -874,
    "start_time": "2022-03-15T08:16:01.325Z"
   },
   {
    "duration": -890,
    "start_time": "2022-03-15T08:16:01.346Z"
   },
   {
    "duration": -904,
    "start_time": "2022-03-15T08:16:01.361Z"
   },
   {
    "duration": 93,
    "start_time": "2022-03-15T08:16:21.388Z"
   },
   {
    "duration": 44,
    "start_time": "2022-03-15T08:16:21.483Z"
   },
   {
    "duration": 18,
    "start_time": "2022-03-15T08:16:21.530Z"
   },
   {
    "duration": 32,
    "start_time": "2022-03-15T08:16:21.550Z"
   },
   {
    "duration": 9,
    "start_time": "2022-03-15T08:16:21.584Z"
   },
   {
    "duration": 19,
    "start_time": "2022-03-15T08:16:21.595Z"
   },
   {
    "duration": 27,
    "start_time": "2022-03-15T08:16:21.615Z"
   },
   {
    "duration": 23,
    "start_time": "2022-03-15T08:16:21.651Z"
   },
   {
    "duration": 19,
    "start_time": "2022-03-15T08:16:21.676Z"
   },
   {
    "duration": 7,
    "start_time": "2022-03-15T08:16:21.696Z"
   },
   {
    "duration": 42,
    "start_time": "2022-03-15T08:16:21.705Z"
   },
   {
    "duration": 16,
    "start_time": "2022-03-15T08:16:21.752Z"
   },
   {
    "duration": 6,
    "start_time": "2022-03-15T08:16:21.770Z"
   },
   {
    "duration": 20,
    "start_time": "2022-03-15T08:16:21.778Z"
   },
   {
    "duration": 11,
    "start_time": "2022-03-15T08:19:27.705Z"
   },
   {
    "duration": 1775,
    "start_time": "2022-03-15T08:19:27.718Z"
   },
   {
    "duration": 18,
    "start_time": "2022-03-15T08:19:29.495Z"
   },
   {
    "duration": 27,
    "start_time": "2022-03-15T08:19:29.515Z"
   },
   {
    "duration": 1202,
    "start_time": "2022-03-15T08:19:29.544Z"
   },
   {
    "duration": 381,
    "start_time": "2022-03-15T08:19:30.749Z"
   },
   {
    "duration": 585,
    "start_time": "2022-03-15T08:19:31.132Z"
   },
   {
    "duration": 589,
    "start_time": "2022-03-15T08:19:31.721Z"
   },
   {
    "duration": 559,
    "start_time": "2022-03-15T08:19:32.312Z"
   },
   {
    "duration": 113,
    "start_time": "2022-03-15T08:19:32.873Z"
   },
   {
    "duration": 120,
    "start_time": "2022-03-15T08:19:32.988Z"
   },
   {
    "duration": 36,
    "start_time": "2022-03-15T08:19:33.110Z"
   },
   {
    "duration": 23,
    "start_time": "2022-03-15T08:19:33.149Z"
   },
   {
    "duration": 21,
    "start_time": "2022-03-15T08:19:33.174Z"
   },
   {
    "duration": 9,
    "start_time": "2022-03-15T08:19:33.196Z"
   },
   {
    "duration": 49,
    "start_time": "2022-03-15T08:19:33.206Z"
   },
   {
    "duration": 16,
    "start_time": "2022-03-15T08:19:33.257Z"
   },
   {
    "duration": 74,
    "start_time": "2022-03-15T08:19:33.275Z"
   },
   {
    "duration": 199,
    "start_time": "2022-03-15T08:22:40.689Z"
   },
   {
    "duration": 23,
    "start_time": "2022-03-15T08:24:52.552Z"
   },
   {
    "duration": 249,
    "start_time": "2022-03-15T12:11:12.036Z"
   },
   {
    "duration": 251,
    "start_time": "2022-03-15T12:12:01.157Z"
   },
   {
    "duration": 189,
    "start_time": "2022-03-15T12:12:19.136Z"
   },
   {
    "duration": 3,
    "start_time": "2022-03-15T12:15:18.637Z"
   },
   {
    "duration": 66,
    "start_time": "2022-03-15T12:15:18.642Z"
   },
   {
    "duration": 12,
    "start_time": "2022-03-15T12:15:18.710Z"
   },
   {
    "duration": 15,
    "start_time": "2022-03-15T12:15:18.725Z"
   },
   {
    "duration": 9,
    "start_time": "2022-03-15T12:15:18.741Z"
   },
   {
    "duration": 13,
    "start_time": "2022-03-15T12:15:18.752Z"
   },
   {
    "duration": 40,
    "start_time": "2022-03-15T12:15:18.767Z"
   },
   {
    "duration": 22,
    "start_time": "2022-03-15T12:15:18.809Z"
   },
   {
    "duration": 18,
    "start_time": "2022-03-15T12:15:18.833Z"
   },
   {
    "duration": 7,
    "start_time": "2022-03-15T12:15:18.853Z"
   },
   {
    "duration": 43,
    "start_time": "2022-03-15T12:15:18.862Z"
   },
   {
    "duration": 14,
    "start_time": "2022-03-15T12:15:18.907Z"
   },
   {
    "duration": 4,
    "start_time": "2022-03-15T12:15:18.923Z"
   },
   {
    "duration": 13,
    "start_time": "2022-03-15T12:15:18.929Z"
   },
   {
    "duration": 263,
    "start_time": "2022-03-15T12:15:18.944Z"
   },
   {
    "duration": 13,
    "start_time": "2022-03-15T12:15:19.209Z"
   },
   {
    "duration": 264,
    "start_time": "2022-03-15T12:15:19.223Z"
   },
   {
    "duration": 25,
    "start_time": "2022-03-15T12:15:19.489Z"
   },
   {
    "duration": 10,
    "start_time": "2022-03-15T12:15:19.516Z"
   },
   {
    "duration": 363,
    "start_time": "2022-03-15T12:15:19.527Z"
   },
   {
    "duration": 316,
    "start_time": "2022-03-15T12:15:19.892Z"
   },
   {
    "duration": 530,
    "start_time": "2022-03-15T12:15:20.210Z"
   },
   {
    "duration": 530,
    "start_time": "2022-03-15T12:15:20.742Z"
   },
   {
    "duration": 581,
    "start_time": "2022-03-15T12:15:21.275Z"
   },
   {
    "duration": 99,
    "start_time": "2022-03-15T12:15:21.858Z"
   },
   {
    "duration": 111,
    "start_time": "2022-03-15T12:15:21.958Z"
   },
   {
    "duration": 19,
    "start_time": "2022-03-15T12:15:22.070Z"
   },
   {
    "duration": 174,
    "start_time": "2022-03-15T12:15:22.090Z"
   },
   {
    "duration": 19,
    "start_time": "2022-03-15T12:15:22.265Z"
   },
   {
    "duration": 24,
    "start_time": "2022-03-15T12:15:22.305Z"
   },
   {
    "duration": 19,
    "start_time": "2022-03-15T12:15:22.331Z"
   },
   {
    "duration": 10,
    "start_time": "2022-03-15T12:15:22.351Z"
   },
   {
    "duration": 54,
    "start_time": "2022-03-15T12:15:22.363Z"
   },
   {
    "duration": 11,
    "start_time": "2022-03-15T12:15:22.420Z"
   },
   {
    "duration": 10,
    "start_time": "2022-03-15T12:15:22.432Z"
   },
   {
    "duration": 1524,
    "start_time": "2022-03-16T05:16:26.333Z"
   },
   {
    "duration": 56,
    "start_time": "2022-03-16T05:16:27.860Z"
   },
   {
    "duration": 14,
    "start_time": "2022-03-16T05:16:27.920Z"
   },
   {
    "duration": 50,
    "start_time": "2022-03-16T05:16:27.937Z"
   },
   {
    "duration": 12,
    "start_time": "2022-03-16T05:16:27.989Z"
   },
   {
    "duration": 21,
    "start_time": "2022-03-16T05:16:28.003Z"
   },
   {
    "duration": 14,
    "start_time": "2022-03-16T05:16:28.026Z"
   },
   {
    "duration": 31,
    "start_time": "2022-03-16T05:16:28.076Z"
   },
   {
    "duration": 30,
    "start_time": "2022-03-16T05:16:28.109Z"
   },
   {
    "duration": 34,
    "start_time": "2022-03-16T05:16:28.141Z"
   },
   {
    "duration": 12,
    "start_time": "2022-03-16T05:16:28.177Z"
   },
   {
    "duration": 21,
    "start_time": "2022-03-16T05:16:28.191Z"
   },
   {
    "duration": 7,
    "start_time": "2022-03-16T05:16:28.214Z"
   },
   {
    "duration": 64,
    "start_time": "2022-03-16T05:16:28.223Z"
   },
   {
    "duration": 440,
    "start_time": "2022-03-16T05:16:28.290Z"
   },
   {
    "duration": 22,
    "start_time": "2022-03-16T05:16:28.733Z"
   },
   {
    "duration": 470,
    "start_time": "2022-03-16T05:16:28.758Z"
   },
   {
    "duration": 43,
    "start_time": "2022-03-16T05:16:29.230Z"
   },
   {
    "duration": 13,
    "start_time": "2022-03-16T05:16:29.275Z"
   },
   {
    "duration": 476,
    "start_time": "2022-03-16T05:16:29.291Z"
   },
   {
    "duration": 547,
    "start_time": "2022-03-16T05:16:29.773Z"
   },
   {
    "duration": 889,
    "start_time": "2022-03-16T05:16:30.323Z"
   },
   {
    "duration": 1005,
    "start_time": "2022-03-16T05:16:31.217Z"
   },
   {
    "duration": 909,
    "start_time": "2022-03-16T05:16:32.225Z"
   },
   {
    "duration": 160,
    "start_time": "2022-03-16T05:16:33.137Z"
   },
   {
    "duration": 164,
    "start_time": "2022-03-16T05:16:33.300Z"
   },
   {
    "duration": 31,
    "start_time": "2022-03-16T05:16:33.473Z"
   },
   {
    "duration": 404,
    "start_time": "2022-03-16T05:16:33.506Z"
   },
   {
    "duration": 28,
    "start_time": "2022-03-16T05:16:33.912Z"
   },
   {
    "duration": 52,
    "start_time": "2022-03-16T05:16:33.942Z"
   },
   {
    "duration": 28,
    "start_time": "2022-03-16T05:16:33.996Z"
   },
   {
    "duration": 48,
    "start_time": "2022-03-16T05:16:34.026Z"
   },
   {
    "duration": 24,
    "start_time": "2022-03-16T05:16:34.077Z"
   },
   {
    "duration": 14,
    "start_time": "2022-03-16T05:16:34.103Z"
   },
   {
    "duration": 60,
    "start_time": "2022-03-16T05:16:34.119Z"
   },
   {
    "duration": 794,
    "start_time": "2022-03-16T05:19:35.919Z"
   },
   {
    "duration": 816,
    "start_time": "2022-03-16T05:20:30.308Z"
   },
   {
    "duration": 840,
    "start_time": "2022-03-16T05:21:04.180Z"
   },
   {
    "duration": 876,
    "start_time": "2022-03-16T05:21:26.756Z"
   },
   {
    "duration": 861,
    "start_time": "2022-03-16T05:21:46.307Z"
   },
   {
    "duration": 4033,
    "start_time": "2022-03-16T05:26:13.389Z"
   },
   {
    "duration": 35,
    "start_time": "2022-03-16T05:26:59.460Z"
   },
   {
    "duration": 362,
    "start_time": "2022-03-16T05:27:52.886Z"
   },
   {
    "duration": 245,
    "start_time": "2022-03-16T05:36:06.061Z"
   },
   {
    "duration": 270,
    "start_time": "2022-03-16T05:36:31.261Z"
   },
   {
    "duration": 204,
    "start_time": "2022-03-16T05:36:46.433Z"
   },
   {
    "duration": 249,
    "start_time": "2022-03-16T05:36:54.461Z"
   },
   {
    "duration": 222,
    "start_time": "2022-03-16T05:37:18.102Z"
   },
   {
    "duration": 239,
    "start_time": "2022-03-16T05:37:52.062Z"
   },
   {
    "duration": 185,
    "start_time": "2022-03-16T05:38:05.742Z"
   },
   {
    "duration": 192,
    "start_time": "2022-03-16T05:39:23.592Z"
   },
   {
    "duration": 4783,
    "start_time": "2022-03-16T05:39:55.667Z"
   },
   {
    "duration": 176,
    "start_time": "2022-03-16T05:43:56.507Z"
   },
   {
    "duration": 264,
    "start_time": "2022-03-16T05:44:38.635Z"
   },
   {
    "duration": 1614,
    "start_time": "2022-03-16T05:46:18.616Z"
   },
   {
    "duration": 57,
    "start_time": "2022-03-16T05:52:03.938Z"
   },
   {
    "duration": 576,
    "start_time": "2022-03-16T05:52:28.865Z"
   },
   {
    "duration": 398,
    "start_time": "2022-03-16T05:53:20.639Z"
   },
   {
    "duration": 408,
    "start_time": "2022-03-16T05:53:41.854Z"
   },
   {
    "duration": 422,
    "start_time": "2022-03-16T05:54:26.602Z"
   },
   {
    "duration": 613,
    "start_time": "2022-03-16T05:54:58.503Z"
   },
   {
    "duration": 609,
    "start_time": "2022-03-16T05:55:16.546Z"
   },
   {
    "duration": 614,
    "start_time": "2022-03-16T05:59:25.493Z"
   },
   {
    "duration": 522,
    "start_time": "2022-03-16T05:59:45.138Z"
   },
   {
    "duration": 425,
    "start_time": "2022-03-16T06:00:33.122Z"
   },
   {
    "duration": 454,
    "start_time": "2022-03-16T06:00:54.706Z"
   },
   {
    "duration": 1458,
    "start_time": "2022-03-16T06:02:52.422Z"
   },
   {
    "duration": 61,
    "start_time": "2022-03-16T06:02:53.883Z"
   },
   {
    "duration": 29,
    "start_time": "2022-03-16T06:02:53.948Z"
   },
   {
    "duration": 26,
    "start_time": "2022-03-16T06:02:53.981Z"
   },
   {
    "duration": 12,
    "start_time": "2022-03-16T06:02:54.010Z"
   },
   {
    "duration": 55,
    "start_time": "2022-03-16T06:02:54.025Z"
   },
   {
    "duration": 23,
    "start_time": "2022-03-16T06:02:54.082Z"
   },
   {
    "duration": 31,
    "start_time": "2022-03-16T06:02:54.109Z"
   },
   {
    "duration": 55,
    "start_time": "2022-03-16T06:02:54.143Z"
   },
   {
    "duration": 10,
    "start_time": "2022-03-16T06:02:54.200Z"
   },
   {
    "duration": 11,
    "start_time": "2022-03-16T06:02:54.212Z"
   },
   {
    "duration": 52,
    "start_time": "2022-03-16T06:02:54.226Z"
   },
   {
    "duration": 7,
    "start_time": "2022-03-16T06:02:54.280Z"
   },
   {
    "duration": 30,
    "start_time": "2022-03-16T06:02:54.289Z"
   },
   {
    "duration": 461,
    "start_time": "2022-03-16T06:02:54.321Z"
   },
   {
    "duration": 18,
    "start_time": "2022-03-16T06:02:54.785Z"
   },
   {
    "duration": 555,
    "start_time": "2022-03-16T06:02:54.806Z"
   },
   {
    "duration": 30,
    "start_time": "2022-03-16T06:02:55.363Z"
   },
   {
    "duration": 13,
    "start_time": "2022-03-16T06:02:55.395Z"
   },
   {
    "duration": 484,
    "start_time": "2022-03-16T06:02:55.410Z"
   },
   {
    "duration": 536,
    "start_time": "2022-03-16T06:02:55.896Z"
   },
   {
    "duration": 763,
    "start_time": "2022-03-16T06:02:56.434Z"
   },
   {
    "duration": 888,
    "start_time": "2022-03-16T06:02:57.201Z"
   },
   {
    "duration": 836,
    "start_time": "2022-03-16T06:02:58.092Z"
   },
   {
    "duration": 161,
    "start_time": "2022-03-16T06:02:58.931Z"
   },
   {
    "duration": 154,
    "start_time": "2022-03-16T06:02:59.094Z"
   },
   {
    "duration": 44,
    "start_time": "2022-03-16T06:02:59.251Z"
   },
   {
    "duration": 398,
    "start_time": "2022-03-16T06:02:59.297Z"
   },
   {
    "duration": 30,
    "start_time": "2022-03-16T06:02:59.698Z"
   },
   {
    "duration": 59,
    "start_time": "2022-03-16T06:02:59.731Z"
   },
   {
    "duration": 29,
    "start_time": "2022-03-16T06:02:59.792Z"
   },
   {
    "duration": 57,
    "start_time": "2022-03-16T06:02:59.824Z"
   },
   {
    "duration": 19,
    "start_time": "2022-03-16T06:02:59.884Z"
   },
   {
    "duration": 13,
    "start_time": "2022-03-16T06:02:59.905Z"
   },
   {
    "duration": 61,
    "start_time": "2022-03-16T06:02:59.920Z"
   }
  ],
  "colab": {
   "collapsed_sections": [],
   "name": "Sborny1.ipynb",
   "provenance": []
  },
  "kernelspec": {
   "display_name": "Python 3 (ipykernel)",
   "language": "python",
   "name": "python3"
  },
  "language_info": {
   "codemirror_mode": {
    "name": "ipython",
    "version": 3
   },
   "file_extension": ".py",
   "mimetype": "text/x-python",
   "name": "python",
   "nbconvert_exporter": "python",
   "pygments_lexer": "ipython3",
   "version": "3.9.7"
  },
  "toc": {
   "base_numbering": 1,
   "nav_menu": {},
   "number_sections": false,
   "sideBar": true,
   "skip_h1_title": false,
   "title_cell": "Table of Contents",
   "title_sidebar": "Contents",
   "toc_cell": false,
   "toc_position": {},
   "toc_section_display": true,
   "toc_window_display": true
  }
 },
 "nbformat": 4,
 "nbformat_minor": 1
}
