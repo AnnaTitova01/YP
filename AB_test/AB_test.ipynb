{
 "cells": [
  {
   "cell_type": "markdown",
   "metadata": {},
   "source": [
    "<div class = \"alert alert-info\" style=\"border-left: 7px solid blue\">\n",
    "<h>Описание проекта</h>\n",
    "</div>"
   ]
  },
  {
   "cell_type": "markdown",
   "metadata": {},
   "source": [
    "Вместе с отделом маркетинга подготовлен список гипотез для увеличения выручки.\n",
    "Нужно приоритизировать гипотезы, запустить A/B-тест и проанализировать результаты."
   ]
  },
  {
   "cell_type": "markdown",
   "metadata": {},
   "source": [
    "#  Шаг Общая информация\n"
   ]
  },
  {
   "cell_type": "markdown",
   "metadata": {},
   "source": [
    "## Загрузка данных"
   ]
  },
  {
   "cell_type": "markdown",
   "metadata": {},
   "source": [
    "Импортирую библиоткеи"
   ]
  },
  {
   "cell_type": "code",
   "execution_count": 1,
   "metadata": {},
   "outputs": [],
   "source": [
    "import pandas as pd\n",
    "pd.set_option('display.max_colwidth', 150)\n",
    "import datetime as dt\n",
    "import scipy.stats as stats\n",
    "import numpy as np\n",
    "import matplotlib.pyplot as plt\n",
    "from pandas.plotting import register_matplotlib_converters\n",
    "import warnings"
   ]
  },
  {
   "cell_type": "markdown",
   "metadata": {},
   "source": [
    "Загружаю датасеты"
   ]
  },
  {
   "cell_type": "code",
   "execution_count": 2,
   "metadata": {},
   "outputs": [
    {
     "data": {
      "text/html": [
       "<div>\n",
       "<style scoped>\n",
       "    .dataframe tbody tr th:only-of-type {\n",
       "        vertical-align: middle;\n",
       "    }\n",
       "\n",
       "    .dataframe tbody tr th {\n",
       "        vertical-align: top;\n",
       "    }\n",
       "\n",
       "    .dataframe thead th {\n",
       "        text-align: right;\n",
       "    }\n",
       "</style>\n",
       "<table border=\"1\" class=\"dataframe\">\n",
       "  <thead>\n",
       "    <tr style=\"text-align: right;\">\n",
       "      <th></th>\n",
       "      <th>Hypothesis</th>\n",
       "      <th>Reach</th>\n",
       "      <th>Impact</th>\n",
       "      <th>Confidence</th>\n",
       "      <th>Efforts</th>\n",
       "    </tr>\n",
       "  </thead>\n",
       "  <tbody>\n",
       "    <tr>\n",
       "      <th>0</th>\n",
       "      <td>Добавить два новых канала привлечения трафика, что позволит привлекать на 30% больше пользователей</td>\n",
       "      <td>3</td>\n",
       "      <td>10</td>\n",
       "      <td>8</td>\n",
       "      <td>6</td>\n",
       "    </tr>\n",
       "    <tr>\n",
       "      <th>1</th>\n",
       "      <td>Запустить собственную службу доставки, что сократит срок доставки заказов</td>\n",
       "      <td>2</td>\n",
       "      <td>5</td>\n",
       "      <td>4</td>\n",
       "      <td>10</td>\n",
       "    </tr>\n",
       "    <tr>\n",
       "      <th>2</th>\n",
       "      <td>Добавить блоки рекомендаций товаров на сайт интернет магазина, чтобы повысить конверсию и средний чек заказа</td>\n",
       "      <td>8</td>\n",
       "      <td>3</td>\n",
       "      <td>7</td>\n",
       "      <td>3</td>\n",
       "    </tr>\n",
       "    <tr>\n",
       "      <th>3</th>\n",
       "      <td>Изменить структура категорий, что увеличит конверсию, т.к. пользователи быстрее найдут нужный товар</td>\n",
       "      <td>8</td>\n",
       "      <td>3</td>\n",
       "      <td>3</td>\n",
       "      <td>8</td>\n",
       "    </tr>\n",
       "    <tr>\n",
       "      <th>4</th>\n",
       "      <td>Изменить цвет фона главной страницы, чтобы увеличить вовлеченность пользователей</td>\n",
       "      <td>3</td>\n",
       "      <td>1</td>\n",
       "      <td>1</td>\n",
       "      <td>1</td>\n",
       "    </tr>\n",
       "  </tbody>\n",
       "</table>\n",
       "</div>"
      ],
      "text/plain": [
       "                                                                                                     Hypothesis  \\\n",
       "0            Добавить два новых канала привлечения трафика, что позволит привлекать на 30% больше пользователей   \n",
       "1                                     Запустить собственную службу доставки, что сократит срок доставки заказов   \n",
       "2  Добавить блоки рекомендаций товаров на сайт интернет магазина, чтобы повысить конверсию и средний чек заказа   \n",
       "3           Изменить структура категорий, что увеличит конверсию, т.к. пользователи быстрее найдут нужный товар   \n",
       "4                              Изменить цвет фона главной страницы, чтобы увеличить вовлеченность пользователей   \n",
       "\n",
       "   Reach  Impact  Confidence  Efforts  \n",
       "0      3      10           8        6  \n",
       "1      2       5           4       10  \n",
       "2      8       3           7        3  \n",
       "3      8       3           3        8  \n",
       "4      3       1           1        1  "
      ]
     },
     "execution_count": 2,
     "metadata": {},
     "output_type": "execute_result"
    }
   ],
   "source": [
    "hypothesis = pd.read_csv('hypothesis.csv')\n",
    "hypothesis.head()"
   ]
  },
  {
   "cell_type": "code",
   "execution_count": 3,
   "metadata": {},
   "outputs": [
    {
     "data": {
      "text/html": [
       "<div>\n",
       "<style scoped>\n",
       "    .dataframe tbody tr th:only-of-type {\n",
       "        vertical-align: middle;\n",
       "    }\n",
       "\n",
       "    .dataframe tbody tr th {\n",
       "        vertical-align: top;\n",
       "    }\n",
       "\n",
       "    .dataframe thead th {\n",
       "        text-align: right;\n",
       "    }\n",
       "</style>\n",
       "<table border=\"1\" class=\"dataframe\">\n",
       "  <thead>\n",
       "    <tr style=\"text-align: right;\">\n",
       "      <th></th>\n",
       "      <th>transactionId</th>\n",
       "      <th>visitorId</th>\n",
       "      <th>date</th>\n",
       "      <th>revenue</th>\n",
       "      <th>group</th>\n",
       "    </tr>\n",
       "  </thead>\n",
       "  <tbody>\n",
       "    <tr>\n",
       "      <th>0</th>\n",
       "      <td>3667963787</td>\n",
       "      <td>3312258926</td>\n",
       "      <td>2019-08-15</td>\n",
       "      <td>1650</td>\n",
       "      <td>B</td>\n",
       "    </tr>\n",
       "    <tr>\n",
       "      <th>1</th>\n",
       "      <td>2804400009</td>\n",
       "      <td>3642806036</td>\n",
       "      <td>2019-08-15</td>\n",
       "      <td>730</td>\n",
       "      <td>B</td>\n",
       "    </tr>\n",
       "    <tr>\n",
       "      <th>2</th>\n",
       "      <td>2961555356</td>\n",
       "      <td>4069496402</td>\n",
       "      <td>2019-08-15</td>\n",
       "      <td>400</td>\n",
       "      <td>A</td>\n",
       "    </tr>\n",
       "    <tr>\n",
       "      <th>3</th>\n",
       "      <td>3797467345</td>\n",
       "      <td>1196621759</td>\n",
       "      <td>2019-08-15</td>\n",
       "      <td>9759</td>\n",
       "      <td>B</td>\n",
       "    </tr>\n",
       "    <tr>\n",
       "      <th>4</th>\n",
       "      <td>2282983706</td>\n",
       "      <td>2322279887</td>\n",
       "      <td>2019-08-15</td>\n",
       "      <td>2308</td>\n",
       "      <td>B</td>\n",
       "    </tr>\n",
       "  </tbody>\n",
       "</table>\n",
       "</div>"
      ],
      "text/plain": [
       "   transactionId   visitorId        date  revenue group\n",
       "0     3667963787  3312258926  2019-08-15     1650     B\n",
       "1     2804400009  3642806036  2019-08-15      730     B\n",
       "2     2961555356  4069496402  2019-08-15      400     A\n",
       "3     3797467345  1196621759  2019-08-15     9759     B\n",
       "4     2282983706  2322279887  2019-08-15     2308     B"
      ]
     },
     "execution_count": 3,
     "metadata": {},
     "output_type": "execute_result"
    }
   ],
   "source": [
    "orders = pd.read_csv('orders.csv')\n",
    "orders.head()"
   ]
  },
  {
   "cell_type": "code",
   "execution_count": 4,
   "metadata": {},
   "outputs": [
    {
     "data": {
      "text/html": [
       "<div>\n",
       "<style scoped>\n",
       "    .dataframe tbody tr th:only-of-type {\n",
       "        vertical-align: middle;\n",
       "    }\n",
       "\n",
       "    .dataframe tbody tr th {\n",
       "        vertical-align: top;\n",
       "    }\n",
       "\n",
       "    .dataframe thead th {\n",
       "        text-align: right;\n",
       "    }\n",
       "</style>\n",
       "<table border=\"1\" class=\"dataframe\">\n",
       "  <thead>\n",
       "    <tr style=\"text-align: right;\">\n",
       "      <th></th>\n",
       "      <th>date</th>\n",
       "      <th>group</th>\n",
       "      <th>visitors</th>\n",
       "    </tr>\n",
       "  </thead>\n",
       "  <tbody>\n",
       "    <tr>\n",
       "      <th>0</th>\n",
       "      <td>2019-08-01</td>\n",
       "      <td>A</td>\n",
       "      <td>719</td>\n",
       "    </tr>\n",
       "    <tr>\n",
       "      <th>1</th>\n",
       "      <td>2019-08-02</td>\n",
       "      <td>A</td>\n",
       "      <td>619</td>\n",
       "    </tr>\n",
       "    <tr>\n",
       "      <th>2</th>\n",
       "      <td>2019-08-03</td>\n",
       "      <td>A</td>\n",
       "      <td>507</td>\n",
       "    </tr>\n",
       "    <tr>\n",
       "      <th>3</th>\n",
       "      <td>2019-08-04</td>\n",
       "      <td>A</td>\n",
       "      <td>717</td>\n",
       "    </tr>\n",
       "    <tr>\n",
       "      <th>4</th>\n",
       "      <td>2019-08-05</td>\n",
       "      <td>A</td>\n",
       "      <td>756</td>\n",
       "    </tr>\n",
       "  </tbody>\n",
       "</table>\n",
       "</div>"
      ],
      "text/plain": [
       "         date group  visitors\n",
       "0  2019-08-01     A       719\n",
       "1  2019-08-02     A       619\n",
       "2  2019-08-03     A       507\n",
       "3  2019-08-04     A       717\n",
       "4  2019-08-05     A       756"
      ]
     },
     "execution_count": 4,
     "metadata": {},
     "output_type": "execute_result"
    }
   ],
   "source": [
    "visitors = pd.read_csv('visitors.csv')\n",
    "visitors.head()"
   ]
  },
  {
   "cell_type": "markdown",
   "metadata": {},
   "source": [
    "Загружены три датасета:\n",
    "1) Гипотезы. Содержит описание гипотезы, охват пользователей, влияние, уверенность в гипотезе, затраты ресурсов на проверку, все по 10-бальной шкале;\n",
    "\n",
    "2) Заказы. Содержит идентификатор заказа, идентификатор пользователя, дата заказа, выручка и группа А/В теста;\n",
    "\n",
    "3) Пользователи. Содержит дату, группу А/В теста и количество пользователей"
   ]
  },
  {
   "cell_type": "markdown",
   "metadata": {},
   "source": [
    "## Предобработка данных"
   ]
  },
  {
   "cell_type": "markdown",
   "metadata": {},
   "source": [
    "Рассмотрю подробнее данные, применив info()"
   ]
  },
  {
   "cell_type": "code",
   "execution_count": 5,
   "metadata": {},
   "outputs": [
    {
     "name": "stdout",
     "output_type": "stream",
     "text": [
      "<class 'pandas.core.frame.DataFrame'>\n",
      "RangeIndex: 9 entries, 0 to 8\n",
      "Data columns (total 5 columns):\n",
      " #   Column      Non-Null Count  Dtype \n",
      "---  ------      --------------  ----- \n",
      " 0   Hypothesis  9 non-null      object\n",
      " 1   Reach       9 non-null      int64 \n",
      " 2   Impact      9 non-null      int64 \n",
      " 3   Confidence  9 non-null      int64 \n",
      " 4   Efforts     9 non-null      int64 \n",
      "dtypes: int64(4), object(1)\n",
      "memory usage: 488.0+ bytes\n"
     ]
    }
   ],
   "source": [
    "hypothesis.info()"
   ]
  },
  {
   "cell_type": "code",
   "execution_count": 6,
   "metadata": {},
   "outputs": [
    {
     "name": "stdout",
     "output_type": "stream",
     "text": [
      "<class 'pandas.core.frame.DataFrame'>\n",
      "RangeIndex: 1197 entries, 0 to 1196\n",
      "Data columns (total 5 columns):\n",
      " #   Column         Non-Null Count  Dtype \n",
      "---  ------         --------------  ----- \n",
      " 0   transactionId  1197 non-null   int64 \n",
      " 1   visitorId      1197 non-null   int64 \n",
      " 2   date           1197 non-null   object\n",
      " 3   revenue        1197 non-null   int64 \n",
      " 4   group          1197 non-null   object\n",
      "dtypes: int64(3), object(2)\n",
      "memory usage: 46.9+ KB\n"
     ]
    }
   ],
   "source": [
    "orders.info()"
   ]
  },
  {
   "cell_type": "code",
   "execution_count": 7,
   "metadata": {},
   "outputs": [
    {
     "name": "stdout",
     "output_type": "stream",
     "text": [
      "<class 'pandas.core.frame.DataFrame'>\n",
      "RangeIndex: 62 entries, 0 to 61\n",
      "Data columns (total 3 columns):\n",
      " #   Column    Non-Null Count  Dtype \n",
      "---  ------    --------------  ----- \n",
      " 0   date      62 non-null     object\n",
      " 1   group     62 non-null     object\n",
      " 2   visitors  62 non-null     int64 \n",
      "dtypes: int64(1), object(2)\n",
      "memory usage: 1.6+ KB\n"
     ]
    }
   ],
   "source": [
    "visitors.info()"
   ]
  },
  {
   "cell_type": "markdown",
   "metadata": {},
   "source": [
    "Пропусков нет. Количественные данные типа int. Изменение типа данных не потребуется. Регистр в названиях колонок таблицы гипотез лучше изменить."
   ]
  },
  {
   "cell_type": "markdown",
   "metadata": {},
   "source": [
    "Изменение регистра в названия колонок"
   ]
  },
  {
   "cell_type": "code",
   "execution_count": 8,
   "metadata": {
    "scrolled": true
   },
   "outputs": [
    {
     "name": "stdout",
     "output_type": "stream",
     "text": [
      "<class 'pandas.core.frame.DataFrame'>\n",
      "RangeIndex: 9 entries, 0 to 8\n",
      "Data columns (total 5 columns):\n",
      " #   Column      Non-Null Count  Dtype \n",
      "---  ------      --------------  ----- \n",
      " 0   hypothesis  9 non-null      object\n",
      " 1   reach       9 non-null      int64 \n",
      " 2   impact      9 non-null      int64 \n",
      " 3   confidence  9 non-null      int64 \n",
      " 4   efforts     9 non-null      int64 \n",
      "dtypes: int64(4), object(1)\n",
      "memory usage: 488.0+ bytes\n"
     ]
    }
   ],
   "source": [
    "hypothesis.columns = hypothesis.columns.str.lower()\n",
    "hypothesis.info()"
   ]
  },
  {
   "cell_type": "markdown",
   "metadata": {},
   "source": [
    "## Общий вывод по шагу 1"
   ]
  },
  {
   "cell_type": "markdown",
   "metadata": {},
   "source": [
    "Данные представлены в трех таблицах, не имеют пропусков, изменения типа данных не требуется. В предобработке данных:\n",
    "- Изменен регистр названия колонок\n",
    "\n",
    "Данные готовы к дальнейшему анализу"
   ]
  },
  {
   "cell_type": "markdown",
   "metadata": {},
   "source": [
    "# Шаг Приоритизация гипотез"
   ]
  },
  {
   "cell_type": "markdown",
   "metadata": {},
   "source": [
    "Применю фреймворк ICE для приоритизации"
   ]
  },
  {
   "cell_type": "code",
   "execution_count": 9,
   "metadata": {},
   "outputs": [
    {
     "data": {
      "text/html": [
       "<div>\n",
       "<style scoped>\n",
       "    .dataframe tbody tr th:only-of-type {\n",
       "        vertical-align: middle;\n",
       "    }\n",
       "\n",
       "    .dataframe tbody tr th {\n",
       "        vertical-align: top;\n",
       "    }\n",
       "\n",
       "    .dataframe thead th {\n",
       "        text-align: right;\n",
       "    }\n",
       "</style>\n",
       "<table border=\"1\" class=\"dataframe\">\n",
       "  <thead>\n",
       "    <tr style=\"text-align: right;\">\n",
       "      <th></th>\n",
       "      <th>hypothesis</th>\n",
       "      <th>ICE</th>\n",
       "    </tr>\n",
       "  </thead>\n",
       "  <tbody>\n",
       "    <tr>\n",
       "      <th>8</th>\n",
       "      <td>Запустить акцию, дающую скидку на товар в день рождения</td>\n",
       "      <td>16.0</td>\n",
       "    </tr>\n",
       "    <tr>\n",
       "      <th>0</th>\n",
       "      <td>Добавить два новых канала привлечения трафика, что позволит привлекать на 30% больше пользователей</td>\n",
       "      <td>13.0</td>\n",
       "    </tr>\n",
       "    <tr>\n",
       "      <th>7</th>\n",
       "      <td>Добавить форму подписки на все основные страницы, чтобы собрать базу клиентов для email-рассылок</td>\n",
       "      <td>11.0</td>\n",
       "    </tr>\n",
       "    <tr>\n",
       "      <th>6</th>\n",
       "      <td>Показать на главной странице баннеры с актуальными акциями и распродажами, чтобы увеличить конверсию</td>\n",
       "      <td>8.0</td>\n",
       "    </tr>\n",
       "    <tr>\n",
       "      <th>2</th>\n",
       "      <td>Добавить блоки рекомендаций товаров на сайт интернет магазина, чтобы повысить конверсию и средний чек заказа</td>\n",
       "      <td>7.0</td>\n",
       "    </tr>\n",
       "    <tr>\n",
       "      <th>1</th>\n",
       "      <td>Запустить собственную службу доставки, что сократит срок доставки заказов</td>\n",
       "      <td>2.0</td>\n",
       "    </tr>\n",
       "    <tr>\n",
       "      <th>3</th>\n",
       "      <td>Изменить структура категорий, что увеличит конверсию, т.к. пользователи быстрее найдут нужный товар</td>\n",
       "      <td>1.0</td>\n",
       "    </tr>\n",
       "    <tr>\n",
       "      <th>4</th>\n",
       "      <td>Изменить цвет фона главной страницы, чтобы увеличить вовлеченность пользователей</td>\n",
       "      <td>1.0</td>\n",
       "    </tr>\n",
       "    <tr>\n",
       "      <th>5</th>\n",
       "      <td>Добавить страницу отзывов клиентов о магазине, что позволит увеличить количество заказов</td>\n",
       "      <td>1.0</td>\n",
       "    </tr>\n",
       "  </tbody>\n",
       "</table>\n",
       "</div>"
      ],
      "text/plain": [
       "                                                                                                     hypothesis  \\\n",
       "8                                                       Запустить акцию, дающую скидку на товар в день рождения   \n",
       "0            Добавить два новых канала привлечения трафика, что позволит привлекать на 30% больше пользователей   \n",
       "7              Добавить форму подписки на все основные страницы, чтобы собрать базу клиентов для email-рассылок   \n",
       "6          Показать на главной странице баннеры с актуальными акциями и распродажами, чтобы увеличить конверсию   \n",
       "2  Добавить блоки рекомендаций товаров на сайт интернет магазина, чтобы повысить конверсию и средний чек заказа   \n",
       "1                                     Запустить собственную службу доставки, что сократит срок доставки заказов   \n",
       "3           Изменить структура категорий, что увеличит конверсию, т.к. пользователи быстрее найдут нужный товар   \n",
       "4                              Изменить цвет фона главной страницы, чтобы увеличить вовлеченность пользователей   \n",
       "5                      Добавить страницу отзывов клиентов о магазине, что позволит увеличить количество заказов   \n",
       "\n",
       "    ICE  \n",
       "8  16.0  \n",
       "0  13.0  \n",
       "7  11.0  \n",
       "6   8.0  \n",
       "2   7.0  \n",
       "1   2.0  \n",
       "3   1.0  \n",
       "4   1.0  \n",
       "5   1.0  "
      ]
     },
     "execution_count": 9,
     "metadata": {},
     "output_type": "execute_result"
    }
   ],
   "source": [
    "hypothesis['ICE'] = round(hypothesis['impact']*hypothesis['confidence']/hypothesis['efforts'])\n",
    "hypothesis[['hypothesis','ICE']].sort_values(by='ICE',ascending=False)"
   ]
  },
  {
   "cell_type": "markdown",
   "metadata": {},
   "source": [
    "После применения ICE можно сказать, что наиболее перспективные гипотезы 8,0, 7 и 6"
   ]
  },
  {
   "cell_type": "code",
   "execution_count": 10,
   "metadata": {},
   "outputs": [
    {
     "data": {
      "text/html": [
       "<div>\n",
       "<style scoped>\n",
       "    .dataframe tbody tr th:only-of-type {\n",
       "        vertical-align: middle;\n",
       "    }\n",
       "\n",
       "    .dataframe tbody tr th {\n",
       "        vertical-align: top;\n",
       "    }\n",
       "\n",
       "    .dataframe thead th {\n",
       "        text-align: right;\n",
       "    }\n",
       "</style>\n",
       "<table border=\"1\" class=\"dataframe\">\n",
       "  <thead>\n",
       "    <tr style=\"text-align: right;\">\n",
       "      <th></th>\n",
       "      <th>hypothesis</th>\n",
       "      <th>RICE</th>\n",
       "    </tr>\n",
       "  </thead>\n",
       "  <tbody>\n",
       "    <tr>\n",
       "      <th>7</th>\n",
       "      <td>Добавить форму подписки на все основные страницы, чтобы собрать базу клиентов для email-рассылок</td>\n",
       "      <td>112.0</td>\n",
       "    </tr>\n",
       "    <tr>\n",
       "      <th>2</th>\n",
       "      <td>Добавить блоки рекомендаций товаров на сайт интернет магазина, чтобы повысить конверсию и средний чек заказа</td>\n",
       "      <td>56.0</td>\n",
       "    </tr>\n",
       "    <tr>\n",
       "      <th>0</th>\n",
       "      <td>Добавить два новых канала привлечения трафика, что позволит привлекать на 30% больше пользователей</td>\n",
       "      <td>40.0</td>\n",
       "    </tr>\n",
       "    <tr>\n",
       "      <th>6</th>\n",
       "      <td>Показать на главной странице баннеры с актуальными акциями и распродажами, чтобы увеличить конверсию</td>\n",
       "      <td>40.0</td>\n",
       "    </tr>\n",
       "    <tr>\n",
       "      <th>8</th>\n",
       "      <td>Запустить акцию, дающую скидку на товар в день рождения</td>\n",
       "      <td>16.2</td>\n",
       "    </tr>\n",
       "    <tr>\n",
       "      <th>3</th>\n",
       "      <td>Изменить структура категорий, что увеличит конверсию, т.к. пользователи быстрее найдут нужный товар</td>\n",
       "      <td>9.0</td>\n",
       "    </tr>\n",
       "    <tr>\n",
       "      <th>1</th>\n",
       "      <td>Запустить собственную службу доставки, что сократит срок доставки заказов</td>\n",
       "      <td>4.0</td>\n",
       "    </tr>\n",
       "    <tr>\n",
       "      <th>5</th>\n",
       "      <td>Добавить страницу отзывов клиентов о магазине, что позволит увеличить количество заказов</td>\n",
       "      <td>4.0</td>\n",
       "    </tr>\n",
       "    <tr>\n",
       "      <th>4</th>\n",
       "      <td>Изменить цвет фона главной страницы, чтобы увеличить вовлеченность пользователей</td>\n",
       "      <td>3.0</td>\n",
       "    </tr>\n",
       "  </tbody>\n",
       "</table>\n",
       "</div>"
      ],
      "text/plain": [
       "                                                                                                     hypothesis  \\\n",
       "7              Добавить форму подписки на все основные страницы, чтобы собрать базу клиентов для email-рассылок   \n",
       "2  Добавить блоки рекомендаций товаров на сайт интернет магазина, чтобы повысить конверсию и средний чек заказа   \n",
       "0            Добавить два новых канала привлечения трафика, что позволит привлекать на 30% больше пользователей   \n",
       "6          Показать на главной странице баннеры с актуальными акциями и распродажами, чтобы увеличить конверсию   \n",
       "8                                                       Запустить акцию, дающую скидку на товар в день рождения   \n",
       "3           Изменить структура категорий, что увеличит конверсию, т.к. пользователи быстрее найдут нужный товар   \n",
       "1                                     Запустить собственную службу доставки, что сократит срок доставки заказов   \n",
       "5                      Добавить страницу отзывов клиентов о магазине, что позволит увеличить количество заказов   \n",
       "4                              Изменить цвет фона главной страницы, чтобы увеличить вовлеченность пользователей   \n",
       "\n",
       "    RICE  \n",
       "7  112.0  \n",
       "2   56.0  \n",
       "0   40.0  \n",
       "6   40.0  \n",
       "8   16.2  \n",
       "3    9.0  \n",
       "1    4.0  \n",
       "5    4.0  \n",
       "4    3.0  "
      ]
     },
     "execution_count": 10,
     "metadata": {},
     "output_type": "execute_result"
    }
   ],
   "source": [
    "hypothesis['RICE'] = hypothesis['reach']*hypothesis['impact']*hypothesis['confidence']/hypothesis['efforts']\n",
    "hypothesis[['hypothesis','RICE']].sort_values(by='RICE', ascending=False)"
   ]
  },
  {
   "cell_type": "markdown",
   "metadata": {},
   "source": [
    "Наиболее приоритетные гипотезы по RICE - 7,2,0 и 6"
   ]
  },
  {
   "cell_type": "markdown",
   "metadata": {},
   "source": [
    "## Общий вывод по шагу 2"
   ]
  },
  {
   "cell_type": "markdown",
   "metadata": {},
   "source": [
    "Применение фреймворка ICE показало, что приоритетные гипотезы 8,0, 7 и 6. При применении RICE в лидерах также 7,0,6, а на второе место вышла гипотеза 2. 8-ая гипотеза при этому ушла на 5-ое место. Это происходит из-за того, что при применении RICE тажке учитывается параметр Reach - охват аудитории: у 2ой гипотезы он 8, а у 8-ой - 1. Это и повлияло на изменение мест в списке."
   ]
  },
  {
   "cell_type": "markdown",
   "metadata": {},
   "source": [
    "# Шаг Анализ А/В теста"
   ]
  },
  {
   "cell_type": "markdown",
   "metadata": {},
   "source": [
    "## График кумулятивной выручки по группам"
   ]
  },
  {
   "cell_type": "markdown",
   "metadata": {},
   "source": [
    "Собираю кумулятивные данные по таблицам заказы и пользователи"
   ]
  },
  {
   "cell_type": "code",
   "execution_count": 11,
   "metadata": {},
   "outputs": [
    {
     "name": "stdout",
     "output_type": "stream",
     "text": [
      "         date group  orders  buyers  revenue  visitors\n",
      "0  2019-08-01     A      24      20   148579       719\n",
      "1  2019-08-01     B      21      20   101217       713\n",
      "2  2019-08-02     A      44      38   242401      1338\n",
      "3  2019-08-02     B      45      43   266748      1294\n",
      "4  2019-08-03     A      68      62   354874      1845\n"
     ]
    }
   ],
   "source": [
    "datesGroups = orders[['date','group']].drop_duplicates() \n",
    "\n",
    "ordersAggregated = datesGroups.apply(lambda x: orders[np.logical_and(orders['date'] <= x['date'], orders['group'] == x['group'])]\\\n",
    ".agg({'date' : 'max', 'group' : 'max', 'transactionId' : 'nunique', 'visitorId' : 'nunique', 'revenue' : 'sum'}), axis=1).sort_values(by=['date','group']) \n",
    "\n",
    "visitorsAggregated = datesGroups.apply(lambda x: visitors[np.logical_and(visitors['date'] <= x['date'], visitors['group'] == x['group'])].agg({'date' : 'max', 'group' : 'max', 'visitors' : 'sum'}), axis=1).sort_values(by=['date','group'])\n",
    "\n",
    "cumulativeData = ordersAggregated.merge(visitorsAggregated, left_on=['date', 'group'], right_on=['date', 'group'])\n",
    "cumulativeData.columns = ['date', 'group', 'orders', 'buyers', 'revenue', 'visitors']\n",
    "\n",
    "print(cumulativeData.head(5)) "
   ]
  },
  {
   "cell_type": "markdown",
   "metadata": {},
   "source": [
    "Разделю данные по группам, сохраняю в переменных cumulativeRevenueA и cumulativeRevenueB и оставляю три столбца: дата, выручка, заказы"
   ]
  },
  {
   "cell_type": "code",
   "execution_count": 12,
   "metadata": {},
   "outputs": [],
   "source": [
    "cumulativeRevenueA = cumulativeData[cumulativeData['group']=='A'][['date','revenue', 'orders']]\n",
    "cumulativeRevenueB = cumulativeData[cumulativeData['group']=='B'][['date','revenue', 'orders']]"
   ]
  },
  {
   "cell_type": "markdown",
   "metadata": {},
   "source": [
    "Строю график кумулятивной выручки по группам"
   ]
  },
  {
   "cell_type": "code",
   "execution_count": 13,
   "metadata": {},
   "outputs": [
    {
     "data": {
      "image/png": "[encoded data removed]",
      "text/plain": [
       "<Figure size 720x360 with 1 Axes>"
      ]
     },
     "metadata": {
      "needs_background": "light"
     },
     "output_type": "display_data"
    }
   ],
   "source": [
    "plt.figure(figsize = (10,5))\n",
    "plt.plot(cumulativeRevenueA['date'], cumulativeRevenueA['revenue'], label='A')\n",
    "plt.plot(cumulativeRevenueB['date'], cumulativeRevenueB['revenue'], label='B')\n",
    "plt.xticks(rotation=45)\n",
    "plt.xlabel('Дата')\n",
    "plt.ylabel('Выручка')\n",
    "plt.suptitle(\"График кумулятивной выручки по группам\")\n",
    "plt.legend()\n",
    "plt.grid()\n",
    "plt.show()"
   ]
  },
  {
   "cell_type": "markdown",
   "metadata": {},
   "source": [
    "Сначала обе группы идут относительно вровень, затем группа В начинает лидировать, а в середите теста резкий скачок и также продолжает лидировать группа В. Возможно наличие аномально большых заказов, которые влияют на результаты."
   ]
  },
  {
   "cell_type": "markdown",
   "metadata": {},
   "source": [
    "## График среднего чека по группам"
   ]
  },
  {
   "cell_type": "code",
   "execution_count": 14,
   "metadata": {},
   "outputs": [
    {
     "data": {
      "image/png": "[encoded data removed]",
      "text/plain": [
       "<Figure size 720x360 with 1 Axes>"
      ]
     },
     "metadata": {
      "needs_background": "light"
     },
     "output_type": "display_data"
    }
   ],
   "source": [
    "plt.figure(figsize = (10,5))\n",
    "plt.plot(cumulativeRevenueA['date'], cumulativeRevenueA['revenue']/cumulativeRevenueA['orders'], label='A')\n",
    "plt.plot(cumulativeRevenueB['date'], cumulativeRevenueB['revenue']/cumulativeRevenueB['orders'], label='B')\n",
    "plt.xticks(rotation=45)\n",
    "plt.xlabel('Дата')\n",
    "plt.ylabel('Средний чек')\n",
    "plt.suptitle(\"График кумулятивного среднего чека по группам\")\n",
    "plt.legend() \n",
    "plt.grid()\n",
    "plt.show()"
   ]
  },
  {
   "cell_type": "markdown",
   "metadata": {},
   "source": [
    "По графику среднего чека также налицо резкий скачок в середине теста в группе В. Лидерство сохраняется, хотя дальше показатель по В снижается"
   ]
  },
  {
   "cell_type": "markdown",
   "metadata": {},
   "source": [
    "## График относительного изменения кумулятивного среднего чека группы В к А"
   ]
  },
  {
   "cell_type": "markdown",
   "metadata": {},
   "source": [
    "Для построения графика относительного изменения кумулятивного среднего чека объединяю таблицы с помощью merge() и оставляю столбцы дата, выручка по А и В и заказы по А и В"
   ]
  },
  {
   "cell_type": "code",
   "execution_count": 15,
   "metadata": {},
   "outputs": [
    {
     "data": {
      "image/png": "[encoded data removed]",
      "text/plain": [
       "<Figure size 720x360 with 1 Axes>"
      ]
     },
     "metadata": {
      "needs_background": "light"
     },
     "output_type": "display_data"
    }
   ],
   "source": [
    "mergedCumulativeRevenue = cumulativeRevenueA.merge(cumulativeRevenueB, left_on='date', right_on='date', how='left', suffixes=['A', 'B'])\n",
    "\n",
    "#строим график\n",
    "plt.figure(figsize = (10,5))\n",
    "plt.plot(mergedCumulativeRevenue['date'], (mergedCumulativeRevenue['revenueB']/mergedCumulativeRevenue['ordersB'])/(mergedCumulativeRevenue['revenueA']/mergedCumulativeRevenue['ordersA'])-1)\n",
    "plt.axhline(y=0, color='black', linestyle='--') \n",
    "plt.xticks(rotation=45)\n",
    "plt.grid()\n",
    "plt.suptitle(\"График относительного изменения среднего чека В к А\")\n",
    "plt.show()"
   ]
  },
  {
   "cell_type": "markdown",
   "metadata": {},
   "source": [
    "Результаты теста менялись на проятежнии теста в несколько дат. Сохраняется предположение об аномально большых покупках в эти даты, например, 17 августа"
   ]
  },
  {
   "cell_type": "markdown",
   "metadata": {},
   "source": [
    "## График кумулятивной конверсии по группам"
   ]
  },
  {
   "cell_type": "markdown",
   "metadata": {},
   "source": [
    "Для построения графика сначала рассчитаю конверсию как соотношение заказов к пользователям и добавляю столбец к таблице кумулятивных данных"
   ]
  },
  {
   "cell_type": "code",
   "execution_count": 16,
   "metadata": {},
   "outputs": [],
   "source": [
    "cumulativeData['conversion'] = cumulativeData['orders']/cumulativeData['visitors']"
   ]
  },
  {
   "cell_type": "markdown",
   "metadata": {},
   "source": [
    "Снова делю группы, сделав срезы, и строю график"
   ]
  },
  {
   "cell_type": "code",
   "execution_count": 17,
   "metadata": {},
   "outputs": [
    {
     "data": {
      "image/png": "[encoded data removed]",
      "text/plain": [
       "<Figure size 720x360 with 1 Axes>"
      ]
     },
     "metadata": {
      "needs_background": "light"
     },
     "output_type": "display_data"
    }
   ],
   "source": [
    "cumulativeDataA = cumulativeData[cumulativeData['group']=='A']\n",
    "cumulativeDataB = cumulativeData[cumulativeData['group']=='B']\n",
    "\n",
    "plt.figure(figsize = (10,5))\n",
    "plt.plot(cumulativeDataA['date'], cumulativeDataA['conversion'], label='A')\n",
    "plt.plot(cumulativeDataB['date'], cumulativeDataB['conversion'], label='B')\n",
    "plt.legend()\n",
    "plt.xticks(rotation=45)\n",
    "plt.xlabel('Дата')\n",
    "plt.ylabel('Конверсия')\n",
    "plt.suptitle(\"График кумулятивной конверсии по группам\")\n",
    "\n",
    "plt.axis([\"2019-08-01\",\"2019-09-01\",0.028, 0.038])\n",
    "plt.grid()\n",
    "plt.show()"
   ]
  },
  {
   "cell_type": "markdown",
   "metadata": {},
   "source": [
    "По конверсии сначала группа В снижалась, а А росла, однако потом симметричные изменения - В растет, А падает и фиксируются в районе 0.028 (для А) и 0.034(для В)"
   ]
  },
  {
   "cell_type": "markdown",
   "metadata": {},
   "source": [
    "## График относительного изменения кумулятивной конверсии группы В к группе А"
   ]
  },
  {
   "cell_type": "markdown",
   "metadata": {},
   "source": [
    "По аналогии со средним чеком объединяю таблицы с конверсией так, чтобы итоговая таблица содержала дату, конверсию А и конверсию В, задав suffixes"
   ]
  },
  {
   "cell_type": "code",
   "execution_count": 18,
   "metadata": {},
   "outputs": [],
   "source": [
    "mergedCumulativeConversions = cumulativeDataA[['date','conversion']].merge(cumulativeDataB[['date','conversion']], left_on='date', right_on='date', how='left', suffixes=['A', 'B'])"
   ]
  },
  {
   "cell_type": "code",
   "execution_count": 19,
   "metadata": {},
   "outputs": [
    {
     "data": {
      "image/png": "[encoded data removed]",
      "text/plain": [
       "<Figure size 720x360 with 1 Axes>"
      ]
     },
     "metadata": {
      "needs_background": "light"
     },
     "output_type": "display_data"
    }
   ],
   "source": [
    "plt.figure(figsize = (10,5))\n",
    "plt.plot(mergedCumulativeConversions['date'], mergedCumulativeConversions['conversionB']/mergedCumulativeConversions['conversionA']-1, label=\"Относительный прирост конверсии группы B относительно группы A\")\n",
    "plt.legend()\n",
    "plt.grid()\n",
    "plt.xticks(rotation=45)\n",
    "plt.suptitle(\"График относительного изменения кумулятивной конверсии В к А\")\n",
    "\n",
    "plt.axhline(y=0, color='black', linestyle='--')\n",
    "plt.axhline(y=0.2, color='grey', linestyle='--')\n",
    "plt.axis([\"2019-08-01\",\"2019-09-01\",-0.12, 0.22])\n",
    "plt.show()"
   ]
  },
  {
   "cell_type": "markdown",
   "metadata": {},
   "source": [
    "С самого начала теста можно зафиксировать резкий скачок по группе В и падение относительно А примерно на 7%, однако затем следует рост, который достигает в середине теста прироста в 20%, фиксируется на 15%. Можно заключить вывод о лидерстве группы В по показателю кумулятивной конверсии"
   ]
  },
  {
   "cell_type": "markdown",
   "metadata": {},
   "source": [
    "## Точечный график количества заказов по пользователям"
   ]
  },
  {
   "cell_type": "markdown",
   "metadata": {},
   "source": [
    "Для построения графика рассчитываю количество заказов. Для этого сгруппирую данные из таблицы заказы по пользователю, создаю датафрейм с двумя колонками: идентификатором пользователя и количеством заказов, сохраняю в переменной ordersByUsers"
   ]
  },
  {
   "cell_type": "code",
   "execution_count": 20,
   "metadata": {},
   "outputs": [
    {
     "data": {
      "text/html": [
       "<div>\n",
       "<style scoped>\n",
       "    .dataframe tbody tr th:only-of-type {\n",
       "        vertical-align: middle;\n",
       "    }\n",
       "\n",
       "    .dataframe tbody tr th {\n",
       "        vertical-align: top;\n",
       "    }\n",
       "\n",
       "    .dataframe thead th {\n",
       "        text-align: right;\n",
       "    }\n",
       "</style>\n",
       "<table border=\"1\" class=\"dataframe\">\n",
       "  <thead>\n",
       "    <tr style=\"text-align: right;\">\n",
       "      <th></th>\n",
       "      <th>userId</th>\n",
       "      <th>orders</th>\n",
       "    </tr>\n",
       "  </thead>\n",
       "  <tbody>\n",
       "    <tr>\n",
       "      <th>1023</th>\n",
       "      <td>4256040402</td>\n",
       "      <td>11</td>\n",
       "    </tr>\n",
       "    <tr>\n",
       "      <th>591</th>\n",
       "      <td>2458001652</td>\n",
       "      <td>11</td>\n",
       "    </tr>\n",
       "    <tr>\n",
       "      <th>569</th>\n",
       "      <td>2378935119</td>\n",
       "      <td>9</td>\n",
       "    </tr>\n",
       "    <tr>\n",
       "      <th>487</th>\n",
       "      <td>2038680547</td>\n",
       "      <td>8</td>\n",
       "    </tr>\n",
       "    <tr>\n",
       "      <th>44</th>\n",
       "      <td>199603092</td>\n",
       "      <td>5</td>\n",
       "    </tr>\n",
       "    <tr>\n",
       "      <th>...</th>\n",
       "      <td>...</td>\n",
       "      <td>...</td>\n",
       "    </tr>\n",
       "    <tr>\n",
       "      <th>359</th>\n",
       "      <td>1484903144</td>\n",
       "      <td>1</td>\n",
       "    </tr>\n",
       "    <tr>\n",
       "      <th>360</th>\n",
       "      <td>1485964287</td>\n",
       "      <td>1</td>\n",
       "    </tr>\n",
       "    <tr>\n",
       "      <th>361</th>\n",
       "      <td>1494664757</td>\n",
       "      <td>1</td>\n",
       "    </tr>\n",
       "    <tr>\n",
       "      <th>362</th>\n",
       "      <td>1495112755</td>\n",
       "      <td>1</td>\n",
       "    </tr>\n",
       "    <tr>\n",
       "      <th>1030</th>\n",
       "      <td>4283872382</td>\n",
       "      <td>1</td>\n",
       "    </tr>\n",
       "  </tbody>\n",
       "</table>\n",
       "<p>1031 rows × 2 columns</p>\n",
       "</div>"
      ],
      "text/plain": [
       "          userId  orders\n",
       "1023  4256040402      11\n",
       "591   2458001652      11\n",
       "569   2378935119       9\n",
       "487   2038680547       8\n",
       "44     199603092       5\n",
       "...          ...     ...\n",
       "359   1484903144       1\n",
       "360   1485964287       1\n",
       "361   1494664757       1\n",
       "362   1495112755       1\n",
       "1030  4283872382       1\n",
       "\n",
       "[1031 rows x 2 columns]"
      ]
     },
     "execution_count": 20,
     "metadata": {},
     "output_type": "execute_result"
    }
   ],
   "source": [
    "ordersByUsers  = (\n",
    "    orders.groupby('visitorId', as_index=False) #сгруппирует заказы по пользователям\n",
    "    .agg({'transactionId' : 'nunique',}))\n",
    "ordersByUsers.columns = ['userId', 'orders']    \n",
    "    \n",
    "ordersByUsers.sort_values(by='orders',ascending=False)"
   ]
  },
  {
   "cell_type": "markdown",
   "metadata": {},
   "source": [
    "Построю график по этим данным. Для графика нужны данные по оси X и Y. В переменной x_values сохраняю серию количества наблюдений"
   ]
  },
  {
   "cell_type": "code",
   "execution_count": 21,
   "metadata": {},
   "outputs": [
    {
     "data": {
      "image/png": "[encoded data removed]",
      "text/plain": [
       "<Figure size 720x360 with 1 Axes>"
      ]
     },
     "metadata": {
      "needs_background": "light"
     },
     "output_type": "display_data"
    }
   ],
   "source": [
    "# серия из чисел от 0 до количества наблюдений в ordersByUsers\n",
    "x_values = pd.Series(range(0, len(ordersByUsers)))\n",
    "plt.figure(figsize=(10,5))\n",
    "plt.scatter(x_values, ordersByUsers['orders']) \n",
    "plt.suptitle(\"Точечный график количества заказов по пользователям\")\n",
    "plt.xlabel('Пользователи')\n",
    "plt.ylabel('Количество заказов')\n",
    "plt.show()"
   ]
  },
  {
   "cell_type": "markdown",
   "metadata": {},
   "source": [
    "Пользователей, заказавших более 2х раз, меньше. Однако, чтобы посчитать, какое количество заказов считать нормальным и большим, расссчитаем перцентили"
   ]
  },
  {
   "cell_type": "markdown",
   "metadata": {},
   "source": [
    "## 95-й и 99-й перцентили количества заказов"
   ]
  },
  {
   "cell_type": "markdown",
   "metadata": {},
   "source": [
    "Для расчета перцентилей буду использовать встренный в библиотеку numpy метод дял расчета перцентилей"
   ]
  },
  {
   "cell_type": "code",
   "execution_count": 22,
   "metadata": {},
   "outputs": [
    {
     "data": {
      "text/plain": [
       "array([2., 4.])"
      ]
     },
     "execution_count": 22,
     "metadata": {},
     "output_type": "execute_result"
    }
   ],
   "source": [
    "np.percentile(ordersByUsers['orders'], [95,99])"
   ]
  },
  {
   "cell_type": "markdown",
   "metadata": {},
   "source": [
    "Больше 2х заказов совершали не более 5% пользователей (95 перцентиль = 2) и больше 4 заказов совершали не более 1% пользователей. Границей предположительно можно считать количество заказов 3 и более"
   ]
  },
  {
   "cell_type": "markdown",
   "metadata": {},
   "source": [
    "## Точечный график стоимостей заказов"
   ]
  },
  {
   "cell_type": "code",
   "execution_count": 23,
   "metadata": {},
   "outputs": [
    {
     "data": {
      "text/html": [
       "<div>\n",
       "<style scoped>\n",
       "    .dataframe tbody tr th:only-of-type {\n",
       "        vertical-align: middle;\n",
       "    }\n",
       "\n",
       "    .dataframe tbody tr th {\n",
       "        vertical-align: top;\n",
       "    }\n",
       "\n",
       "    .dataframe thead th {\n",
       "        text-align: right;\n",
       "    }\n",
       "</style>\n",
       "<table border=\"1\" class=\"dataframe\">\n",
       "  <thead>\n",
       "    <tr style=\"text-align: right;\">\n",
       "      <th></th>\n",
       "      <th>transactionId</th>\n",
       "      <th>visitorId</th>\n",
       "      <th>date</th>\n",
       "      <th>revenue</th>\n",
       "      <th>group</th>\n",
       "    </tr>\n",
       "  </thead>\n",
       "  <tbody>\n",
       "    <tr>\n",
       "      <th>425</th>\n",
       "      <td>590470918</td>\n",
       "      <td>1920142716</td>\n",
       "      <td>2019-08-19</td>\n",
       "      <td>1294500</td>\n",
       "      <td>B</td>\n",
       "    </tr>\n",
       "    <tr>\n",
       "      <th>1196</th>\n",
       "      <td>3936777065</td>\n",
       "      <td>2108080724</td>\n",
       "      <td>2019-08-15</td>\n",
       "      <td>202740</td>\n",
       "      <td>B</td>\n",
       "    </tr>\n",
       "    <tr>\n",
       "      <th>858</th>\n",
       "      <td>192721366</td>\n",
       "      <td>1316129916</td>\n",
       "      <td>2019-08-27</td>\n",
       "      <td>93940</td>\n",
       "      <td>A</td>\n",
       "    </tr>\n",
       "    <tr>\n",
       "      <th>1136</th>\n",
       "      <td>666610489</td>\n",
       "      <td>1307669133</td>\n",
       "      <td>2019-08-13</td>\n",
       "      <td>92550</td>\n",
       "      <td>A</td>\n",
       "    </tr>\n",
       "    <tr>\n",
       "      <th>744</th>\n",
       "      <td>3668308183</td>\n",
       "      <td>888512513</td>\n",
       "      <td>2019-08-27</td>\n",
       "      <td>86620</td>\n",
       "      <td>B</td>\n",
       "    </tr>\n",
       "  </tbody>\n",
       "</table>\n",
       "</div>"
      ],
      "text/plain": [
       "      transactionId   visitorId        date  revenue group\n",
       "425       590470918  1920142716  2019-08-19  1294500     B\n",
       "1196     3936777065  2108080724  2019-08-15   202740     B\n",
       "858       192721366  1316129916  2019-08-27    93940     A\n",
       "1136      666610489  1307669133  2019-08-13    92550     A\n",
       "744      3668308183   888512513  2019-08-27    86620     B"
      ]
     },
     "execution_count": 23,
     "metadata": {},
     "output_type": "execute_result"
    }
   ],
   "source": [
    "orders.sort_values(by='revenue', ascending=False).head()"
   ]
  },
  {
   "cell_type": "markdown",
   "metadata": {},
   "source": [
    "Среди самых крупных стоимостей есть заказы в районе 80-95т, однако явно выбивается заказ на более, чем 1млн"
   ]
  },
  {
   "cell_type": "markdown",
   "metadata": {},
   "source": [
    "Построю график, снова задав по оси x номера наблюдений"
   ]
  },
  {
   "cell_type": "code",
   "execution_count": 24,
   "metadata": {},
   "outputs": [
    {
     "data": {
      "image/png": "[encoded data removed]",
      "text/plain": [
       "<Figure size 720x360 with 1 Axes>"
      ]
     },
     "metadata": {
      "needs_background": "light"
     },
     "output_type": "display_data"
    }
   ],
   "source": [
    "x_values = pd.Series(range(0, len(orders['revenue'])))\n",
    "plt.figure(figsize=(10,5))\n",
    "plt.scatter(x_values, orders['revenue']) \n",
    "plt.suptitle(\"Точечный график стоимостей заказов\")\n",
    "plt.xlabel('Заказы')\n",
    "plt.ylabel('Стоимость')\n",
    "plt.show()"
   ]
  },
  {
   "cell_type": "markdown",
   "metadata": {},
   "source": [
    "На графике также можно увидеть выбивающийся заказ в более, чем 1 млн и 200т. Большинство заказов не превышает 40т"
   ]
  },
  {
   "cell_type": "markdown",
   "metadata": {},
   "source": [
    "## 95-й и 99-й перцентили стоимостей заказов"
   ]
  },
  {
   "cell_type": "markdown",
   "metadata": {},
   "source": [
    "Вновь применяю медом np.percentile() для расчета перцентилей"
   ]
  },
  {
   "cell_type": "code",
   "execution_count": 25,
   "metadata": {},
   "outputs": [
    {
     "data": {
      "text/plain": [
       "array([28000. , 58233.2])"
      ]
     },
     "execution_count": 25,
     "metadata": {},
     "output_type": "execute_result"
    }
   ],
   "source": [
    "np.percentile(orders['revenue'], [95, 99])"
   ]
  },
  {
   "cell_type": "markdown",
   "metadata": {},
   "source": [
    "Не больше 5% пользователей сделали заказ более 28т и не больше 1% пользователей совершили заказ более 58т. Обозначив границу на 99-м перцентиле при дальнейшем срезе можно будет убрать не более 1% пользователей с крупными заказами"
   ]
  },
  {
   "cell_type": "markdown",
   "metadata": {},
   "source": [
    "Сохраним значение 99 перцентиля в переменной для дальнейшего среза и расчетов"
   ]
  },
  {
   "cell_type": "code",
   "execution_count": 26,
   "metadata": {},
   "outputs": [],
   "source": [
    "rev_99_percentile = 58234\n"
   ]
  },
  {
   "cell_type": "markdown",
   "metadata": {},
   "source": [
    "## Статистическая значимость различий в конверсии по \"сырым\" данным"
   ]
  },
  {
   "cell_type": "markdown",
   "metadata": {},
   "source": [
    "Посчитаю статистическую значимость различий в конверсии между группами по «сырым» данным — без удаления аномальных пользователей.\n",
    "\n",
    "Гипотезы:\n",
    "- Нулевая: различий в конверсии между группами нет.\n",
    "- Альтернативная: различия в конверсии между группами есть."
   ]
  },
  {
   "cell_type": "markdown",
   "metadata": {},
   "source": [
    "Готовлю данные"
   ]
  },
  {
   "cell_type": "code",
   "execution_count": 27,
   "metadata": {},
   "outputs": [
    {
     "name": "stdout",
     "output_type": "stream",
     "text": [
      "         date  ordersPerDateA  revenuePerDateA  ordersPerDateB  \\\n",
      "0  2019-08-01              24           148579              21   \n",
      "1  2019-08-02              20            93822              24   \n",
      "2  2019-08-03              24           112473              16   \n",
      "3  2019-08-04              16            70825              17   \n",
      "4  2019-08-05              25           124218              23   \n",
      "\n",
      "   revenuePerDateB  ordersCummulativeA  revenueCummulativeA  \\\n",
      "0           101217                  24               148579   \n",
      "1           165531                  44               242401   \n",
      "2           114248                  68               354874   \n",
      "3           108571                  84               425699   \n",
      "4            92428                 109               549917   \n",
      "\n",
      "   ordersCummulativeB  revenueCummulativeB  visitorsPerDateA  \\\n",
      "0                  21               101217               719   \n",
      "1                  45               266748               619   \n",
      "2                  61               380996               507   \n",
      "3                  78               489567               717   \n",
      "4                 101               581995               756   \n",
      "\n",
      "   visitorsPerDateB  visitorsCummulativeA  visitorsCummulativeB  \n",
      "0               713                   719                   713  \n",
      "1               581                  1338                  1294  \n",
      "2               509                  1845                  1803  \n",
      "3               770                  2562                  2573  \n",
      "4               707                  3318                  3280  \n"
     ]
    }
   ],
   "source": [
    "visitorsADaily = visitors[visitors['group'] == 'A'][['date', 'visitors']]\n",
    "visitorsADaily.columns = ['date', 'visitorsPerDateA']\n",
    "\n",
    "visitorsACummulative = visitorsADaily.apply(\n",
    "    lambda x: visitorsADaily[visitorsADaily['date'] <= x['date']].agg(\n",
    "        {'date': 'max', 'visitorsPerDateA': 'sum'}\n",
    "    ),\n",
    "    axis=1,\n",
    ")\n",
    "visitorsACummulative.columns = ['date', 'visitorsCummulativeA']\n",
    "\n",
    "visitorsBDaily = visitors[visitors['group'] == 'B'][['date', 'visitors']]\n",
    "visitorsBDaily.columns = ['date', 'visitorsPerDateB']\n",
    "\n",
    "visitorsBCummulative = visitorsBDaily.apply(\n",
    "    lambda x: visitorsBDaily[visitorsBDaily['date'] <= x['date']].agg(\n",
    "        {'date': 'max', 'visitorsPerDateB': 'sum'}\n",
    "    ),\n",
    "    axis=1,\n",
    ")\n",
    "visitorsBCummulative.columns = ['date', 'visitorsCummulativeB']\n",
    "\n",
    "ordersADaily = (\n",
    "    orders[orders['group'] == 'A'][['date', 'transactionId', 'visitorId', 'revenue']]\n",
    "    .groupby('date', as_index=False)\n",
    "    .agg({'transactionId': pd.Series.nunique, 'revenue': 'sum'})\n",
    ")\n",
    "ordersADaily.columns = ['date', 'ordersPerDateA', 'revenuePerDateA']\n",
    "\n",
    "ordersACummulative = ordersADaily.apply(\n",
    "    lambda x: ordersADaily[ordersADaily['date'] <= x['date']].agg(\n",
    "        {'date': 'max', 'ordersPerDateA': 'sum', 'revenuePerDateA': 'sum'}\n",
    "    ),\n",
    "    axis=1,\n",
    ").sort_values(by=['date'])\n",
    "ordersACummulative.columns = [\n",
    "    'date',\n",
    "    'ordersCummulativeA',\n",
    "    'revenueCummulativeA',\n",
    "]\n",
    "\n",
    "ordersBDaily = (\n",
    "    orders[orders['group'] == 'B'][['date', 'transactionId', 'visitorId', 'revenue']]\n",
    "    .groupby('date', as_index=False)\n",
    "    .agg({'transactionId': pd.Series.nunique, 'revenue': 'sum'})\n",
    ")\n",
    "ordersBDaily.columns = ['date', 'ordersPerDateB', 'revenuePerDateB']\n",
    "\n",
    "ordersBCummulative = ordersBDaily.apply(\n",
    "    lambda x: ordersBDaily[ordersBDaily['date'] <= x['date']].agg(\n",
    "        {'date': 'max', 'ordersPerDateB': 'sum', 'revenuePerDateB': 'sum'}\n",
    "    ),\n",
    "    axis=1,\n",
    ").sort_values(by=['date'])\n",
    "ordersBCummulative.columns = [\n",
    "    'date',\n",
    "    'ordersCummulativeB',\n",
    "    'revenueCummulativeB',\n",
    "]\n",
    "\n",
    "data = (\n",
    "    ordersADaily.merge(\n",
    "        ordersBDaily, left_on='date', right_on='date', how='left'\n",
    "    )\n",
    "    .merge(ordersACummulative, left_on='date', right_on='date', how='left')\n",
    "    .merge(ordersBCummulative, left_on='date', right_on='date', how='left')\n",
    "    .merge(visitorsADaily, left_on='date', right_on='date', how='left')\n",
    "    .merge(visitorsBDaily, left_on='date', right_on='date', how='left')\n",
    "    .merge(visitorsACummulative, left_on='date', right_on='date', how='left')\n",
    "    .merge(visitorsBCummulative, left_on='date', right_on='date', how='left')\n",
    ")\n",
    "\n",
    "print(data.head(5))"
   ]
  },
  {
   "cell_type": "markdown",
   "metadata": {},
   "source": [
    "Сохраняю в двух переменных ordersByUserA и ordersByUserB данный из таблицы заказов, где для пользователей, совершивших хотя бы 1 заказ, будет указано количество заказов"
   ]
  },
  {
   "cell_type": "code",
   "execution_count": 28,
   "metadata": {},
   "outputs": [],
   "source": [
    "ordersByUsersA = (\n",
    "    orders[orders['group'] == 'A']\n",
    "    .groupby('visitorId', as_index=False)\n",
    "    .agg({'transactionId': pd.Series.nunique})\n",
    ")\n",
    "ordersByUsersA.columns = ['userId', 'orders']\n",
    "\n",
    "ordersByUsersB = (\n",
    "    orders[orders['group'] == 'B']\n",
    "    .groupby('visitorId', as_index=False)\n",
    "    .agg({'transactionId': pd.Series.nunique})\n",
    ")\n",
    "ordersByUsersB.columns = ['userId', 'orders']"
   ]
  },
  {
   "cell_type": "markdown",
   "metadata": {},
   "source": [
    "Создаю переменные для статистического теста sampleA и sampleB, в которых будет указано для пользователя совершивших заказ - количество заказов, а для пользователей без заказов - нули."
   ]
  },
  {
   "cell_type": "code",
   "execution_count": 29,
   "metadata": {},
   "outputs": [],
   "source": [
    "sampleA = pd.concat([ordersByUsersA['orders'],pd.Series(0, index=np.arange(data['visitorsPerDateA'].sum() - len(ordersByUsersA['orders'])), name='orders')],axis=0)\n",
    "sampleB = pd.concat([ordersByUsersB['orders'],pd.Series(0, index=np.arange(data['visitorsPerDateB'].sum() - len(ordersByUsersB['orders'])), name='orders')],axis=0)"
   ]
  },
  {
   "cell_type": "markdown",
   "metadata": {},
   "source": [
    "Применяю тест Манна-Уитни для расчета статистической значимости"
   ]
  },
  {
   "cell_type": "code",
   "execution_count": 30,
   "metadata": {},
   "outputs": [
    {
     "name": "stdout",
     "output_type": "stream",
     "text": [
      "0.017\n",
      "0.138\n"
     ]
    }
   ],
   "source": [
    "sampleA = pd.concat(\n",
    "    [\n",
    "        ordersByUsersA['orders'],\n",
    "        pd.Series(\n",
    "            0,\n",
    "            index=np.arange(\n",
    "                data['visitorsPerDateA'].sum() - len(ordersByUsersA['orders'])\n",
    "            ),\n",
    "            name='orders',\n",
    "        ),\n",
    "    ],\n",
    "    axis=0,\n",
    ")\n",
    "\n",
    "sampleB = pd.concat(\n",
    "    [\n",
    "        ordersByUsersB['orders'],\n",
    "        pd.Series(\n",
    "            0,\n",
    "            index=np.arange(\n",
    "                data['visitorsPerDateB'].sum() - len(ordersByUsersB['orders'])\n",
    "            ),\n",
    "            name='orders',\n",
    "        ),\n",
    "    ],\n",
    "    axis=0,\n",
    ")\n",
    "\n",
    "print(\"{0:.3f}\".format(stats.mannwhitneyu(sampleA, sampleB)[1]))\n",
    "\n",
    "print(\"{0:.3f}\".format(sampleB.mean() / sampleA.mean() - 1))"
   ]
  },
  {
   "cell_type": "markdown",
   "metadata": {},
   "source": [
    "Первое число — p-value = 0.017 меньше 0.05. Нулевую гипотезу о том, что статистически значимых различий в конверсии между группами нет, отвергаем. Выигрыш группы B равен 13.8% — второе число в выводе."
   ]
  },
  {
   "cell_type": "markdown",
   "metadata": {},
   "source": [
    "## Статистическая значимость различий в среднем чеке заказа по \"сырым\" данным"
   ]
  },
  {
   "cell_type": "markdown",
   "metadata": {},
   "source": [
    "Применяю тест Манна-Уитни к столбцу revenue - данным о стоимости заказа"
   ]
  },
  {
   "cell_type": "code",
   "execution_count": 31,
   "metadata": {},
   "outputs": [
    {
     "name": "stdout",
     "output_type": "stream",
     "text": [
      "0.729\n",
      "0.259\n"
     ]
    }
   ],
   "source": [
    "print('{0:.3f}'.format(stats.mannwhitneyu(orders[orders['group']=='A']['revenue'], orders[orders['group']=='B']['revenue'])[1]))\n",
    "print('{0:.3f}'.format(orders[orders['group']=='B']['revenue'].mean()/orders[orders['group']=='A']['revenue'].mean()-1))"
   ]
  },
  {
   "cell_type": "markdown",
   "metadata": {},
   "source": [
    "P-value (первое значение) = 0.729. Это больше 0.05. Нулевую гипотезу не отвергаем. Нет оснований считать, что в среднем чеке есть различия. Однако относительное различие среднего чека по сегментам - 25% в пользу группы В. Нужен анализ без аномальных данных."
   ]
  },
  {
   "cell_type": "markdown",
   "metadata": {},
   "source": [
    "## Статистическая значимость различий в конверсии по \"очищенным\" данным"
   ]
  },
  {
   "cell_type": "markdown",
   "metadata": {},
   "source": [
    "Сделаю срезы пользователей с числом заказов больше 2 и стоимостью заказа больше 30т"
   ]
  },
  {
   "cell_type": "code",
   "execution_count": 32,
   "metadata": {},
   "outputs": [
    {
     "data": {
      "text/plain": [
       "1099    148427295\n",
       "18      199603092\n",
       "23      237748145\n",
       "37      249864742\n",
       "68      457167155\n",
       "dtype: int64"
      ]
     },
     "execution_count": 32,
     "metadata": {},
     "output_type": "execute_result"
    }
   ],
   "source": [
    "usersWithManyOrders = pd.concat(\n",
    "    [\n",
    "        ordersByUsersA[ordersByUsersA['orders'] > 2]['userId'],\n",
    "        ordersByUsersB[ordersByUsersB['orders'] > 2]['userId'],\n",
    "    ],\n",
    "    axis=0,\n",
    ")\n",
    "usersWithExpensiveOrders = orders[orders['revenue'] > rev_99_percentile]['visitorId']\n",
    "abnormalUsers = (\n",
    "    pd.concat([usersWithManyOrders, usersWithExpensiveOrders], axis=0)\n",
    "    .drop_duplicates()\n",
    "    .sort_values()\n",
    ")\n",
    "abnormalUsers.head()\n"
   ]
  },
  {
   "cell_type": "code",
   "execution_count": 33,
   "metadata": {},
   "outputs": [
    {
     "data": {
      "text/plain": [
       "(31,)"
      ]
     },
     "execution_count": 33,
     "metadata": {},
     "output_type": "execute_result"
    }
   ],
   "source": [
    "abnormalUsers.shape"
   ]
  },
  {
   "cell_type": "markdown",
   "metadata": {},
   "source": [
    "Таких пользователей (с заказами больше 2 и стоимостью больше 58т) - 31"
   ]
  },
  {
   "cell_type": "markdown",
   "metadata": {},
   "source": [
    "Сохраняю данные для статистического теста в переменных sampleAFiltered и sampleBFiltered, убрав при этом аномальные данные метедом isin() применительно к ранее сохраненным abnormalUsers"
   ]
  },
  {
   "cell_type": "code",
   "execution_count": 34,
   "metadata": {},
   "outputs": [],
   "source": [
    "sampleAFiltered = pd.concat(\n",
    "    [\n",
    "        ordersByUsersA[\n",
    "            np.logical_not(ordersByUsersA['userId'].isin(abnormalUsers))\n",
    "        ]['orders'],\n",
    "        pd.Series(\n",
    "            0,\n",
    "            index=np.arange(\n",
    "                data['visitorsPerDateA'].sum() - len(ordersByUsersA['orders'])\n",
    "            ),\n",
    "            name='orders',\n",
    "        ),\n",
    "    ],\n",
    "    axis=0,\n",
    ")\n",
    "\n",
    "sampleBFiltered = pd.concat(\n",
    "    [\n",
    "        ordersByUsersB[\n",
    "            np.logical_not(ordersByUsersB['userId'].isin(abnormalUsers))\n",
    "        ]['orders'],\n",
    "        pd.Series(\n",
    "            0,\n",
    "            index=np.arange(\n",
    "                data['visitorsPerDateB'].sum() - len(ordersByUsersB['orders'])\n",
    "            ),\n",
    "            name='orders',\n",
    "        ),\n",
    "    ],\n",
    "    axis=0,\n",
    ")"
   ]
  },
  {
   "cell_type": "markdown",
   "metadata": {},
   "source": [
    "Тест Манна-Уитни"
   ]
  },
  {
   "cell_type": "code",
   "execution_count": 35,
   "metadata": {},
   "outputs": [
    {
     "name": "stdout",
     "output_type": "stream",
     "text": [
      "0.010\n",
      "0.174\n"
     ]
    }
   ],
   "source": [
    "print('{0:.3f}'.format(stats.mannwhitneyu(sampleAFiltered, sampleBFiltered)[1]))\n",
    "print('{0:.3f}'.format(sampleBFiltered.mean()/sampleAFiltered.mean()-1)) "
   ]
  },
  {
   "cell_type": "markdown",
   "metadata": {},
   "source": [
    "По очищенным данным p-value (0.010) меньше, чем 0.017(по сырым) и меньше 0.05 (статистически значимое)\n",
    "То есть, подтверждается,что нулевую гипотезу отвергаем. Различия в конверсии есть. Выигрыш группы B по очищенным данным равен 17% "
   ]
  },
  {
   "cell_type": "markdown",
   "metadata": {},
   "source": [
    "##  Статистическая значимость различий в среднем чеке заказа по \"очищенным\" данным"
   ]
  },
  {
   "cell_type": "markdown",
   "metadata": {},
   "source": [
    "Применяем тест Манна-Уитни к очищенным данным по среднему чеку"
   ]
  },
  {
   "cell_type": "code",
   "execution_count": 36,
   "metadata": {},
   "outputs": [
    {
     "name": "stdout",
     "output_type": "stream",
     "text": [
      "0.798\n",
      "-0.020\n"
     ]
    }
   ],
   "source": [
    "print(\n",
    "    '{0:.3f}'.format(\n",
    "        stats.mannwhitneyu(\n",
    "            orders[\n",
    "                np.logical_and(\n",
    "                    orders['group'] == 'A',\n",
    "                    np.logical_not(orders['visitorId'].isin(abnormalUsers)),\n",
    "                )\n",
    "            ]['revenue'],\n",
    "            orders[\n",
    "                np.logical_and(\n",
    "                    orders['group'] == 'B',\n",
    "                    np.logical_not(orders['visitorId'].isin(abnormalUsers)),\n",
    "                )\n",
    "            ]['revenue'],\n",
    "        )[1]\n",
    "    )\n",
    ")\n",
    "\n",
    "print(\n",
    "    \"{0:.3f}\".format(\n",
    "        orders[\n",
    "            np.logical_and(\n",
    "                orders['group'] == 'B',\n",
    "                np.logical_not(orders['visitorId'].isin(abnormalUsers)),\n",
    "            )\n",
    "        ]['revenue'].mean()\n",
    "        / orders[\n",
    "            np.logical_and(\n",
    "                orders['group'] == 'A',\n",
    "                np.logical_not(orders['visitorId'].isin(abnormalUsers)),\n",
    "            )\n",
    "        ]['revenue'].mean()\n",
    "        - 1\n",
    "    )\n",
    ")"
   ]
  },
  {
   "cell_type": "markdown",
   "metadata": {},
   "source": [
    "P-value = 0.798, увеличилась 0.07. Относительно различие среднего чека уменьшилось до -2%. И хотя это не меняет общих выводов, такие различия показывают, как влияют аномалии на результаты теста."
   ]
  },
  {
   "cell_type": "markdown",
   "metadata": {},
   "source": [
    "# Общий вывод "
   ]
  },
  {
   "cell_type": "markdown",
   "metadata": {},
   "source": [
    "Результаты теста:\n",
    "- Есть статистически значимое различие по конверсии между группами и по «сырым», и по данным после фильтрации аномалий (в сторону улучшения показателей группы В). Выигрыш - 20%;\n",
    "- Нет статистически значимого различия по среднему чеку между группами ни по «сырым», ни по данным после фильтрации аномалий, относительное различие между группами менее 1% ;\n",
    "- График различия конверсии показывает лидерство группы B. И хотя во время теста была \"просадка\" на 5%, тем не менее есть тенденция к улучшению\n",
    "- На графике различий среднего чека по группам также можно констатировать выигрышное положение группы B. Присутсвовал момент падения среднего чека, ниже А, однако относительно быстро восстановился и закрепился в лучшей позиции относительно показателя группы А"
   ]
  },
  {
   "cell_type": "markdown",
   "metadata": {},
   "source": [
    "Решение:\n",
    "- Тест следует остановить и признать его успешным для группы В\n",
    "\n",
    "Несмотря на отсутсвие статистически значимого различия в среднем чеке, сегмент B не проигрывает в этом А, а по конверсии В в выигрыше. График конверсии показывает уверенное лидерство В, а график среднего чека показывает скачки, однако есть тенденция к \"успокоению\" графика, где по-прежнему у В сохраняются лидирующая позиция."
   ]
  }
 ],
 "metadata": {
  "ExecuteTimeLog": [
   {
    "duration": 167,
    "start_time": "2022-04-16T15:32:34.673Z"
   },
   {
    "duration": 403,
    "start_time": "2022-04-16T15:47:03.599Z"
   },
   {
    "duration": 27,
    "start_time": "2022-04-16T15:49:30.593Z"
   },
   {
    "duration": 48,
    "start_time": "2022-04-16T15:54:52.965Z"
   },
   {
    "duration": 29,
    "start_time": "2022-04-16T15:55:39.005Z"
   },
   {
    "duration": 12,
    "start_time": "2022-04-16T16:02:09.203Z"
   },
   {
    "duration": 11,
    "start_time": "2022-04-16T16:02:18.722Z"
   },
   {
    "duration": 11,
    "start_time": "2022-04-16T16:02:31.947Z"
   },
   {
    "duration": 11,
    "start_time": "2022-04-16T16:05:41.753Z"
   },
   {
    "duration": 11,
    "start_time": "2022-04-16T16:05:53.565Z"
   },
   {
    "duration": 10,
    "start_time": "2022-04-16T16:06:03.421Z"
   },
   {
    "duration": 9,
    "start_time": "2022-04-16T16:15:12.480Z"
   },
   {
    "duration": 21,
    "start_time": "2022-04-16T16:15:22.616Z"
   },
   {
    "duration": 39,
    "start_time": "2022-04-16T16:15:28.392Z"
   },
   {
    "duration": 20,
    "start_time": "2022-04-16T16:15:33.066Z"
   },
   {
    "duration": 2813,
    "start_time": "2022-04-16T16:29:06.874Z"
   },
   {
    "duration": 2671,
    "start_time": "2022-04-16T16:30:13.560Z"
   },
   {
    "duration": 11,
    "start_time": "2022-04-16T16:30:49.052Z"
   },
   {
    "duration": 14,
    "start_time": "2022-04-16T16:34:48.515Z"
   },
   {
    "duration": 5,
    "start_time": "2022-04-16T16:37:59.173Z"
   },
   {
    "duration": 13,
    "start_time": "2022-04-16T16:38:03.321Z"
   },
   {
    "duration": 12,
    "start_time": "2022-04-16T16:38:31.307Z"
   },
   {
    "duration": 21,
    "start_time": "2022-04-16T16:46:43.283Z"
   },
   {
    "duration": 21,
    "start_time": "2022-04-16T16:47:18.044Z"
   },
   {
    "duration": 659,
    "start_time": "2022-04-16T17:39:22.554Z"
   },
   {
    "duration": 3,
    "start_time": "2022-04-16T17:39:56.994Z"
   },
   {
    "duration": 27,
    "start_time": "2022-04-16T17:39:57.002Z"
   },
   {
    "duration": 59,
    "start_time": "2022-04-16T17:39:57.032Z"
   },
   {
    "duration": 24,
    "start_time": "2022-04-16T17:39:57.093Z"
   },
   {
    "duration": 23,
    "start_time": "2022-04-16T17:39:57.120Z"
   },
   {
    "duration": 23,
    "start_time": "2022-04-16T17:39:57.146Z"
   },
   {
    "duration": 14,
    "start_time": "2022-04-16T17:39:57.171Z"
   },
   {
    "duration": 15,
    "start_time": "2022-04-16T17:39:57.187Z"
   },
   {
    "duration": 746,
    "start_time": "2022-04-16T17:39:57.204Z"
   },
   {
    "duration": 0,
    "start_time": "2022-04-16T17:39:57.953Z"
   },
   {
    "duration": 0,
    "start_time": "2022-04-16T17:39:57.954Z"
   },
   {
    "duration": 3,
    "start_time": "2022-04-16T17:41:04.252Z"
   },
   {
    "duration": 21,
    "start_time": "2022-04-16T17:41:04.259Z"
   },
   {
    "duration": 39,
    "start_time": "2022-04-16T17:41:04.283Z"
   },
   {
    "duration": 31,
    "start_time": "2022-04-16T17:41:04.324Z"
   },
   {
    "duration": 11,
    "start_time": "2022-04-16T17:41:04.358Z"
   },
   {
    "duration": 15,
    "start_time": "2022-04-16T17:41:04.370Z"
   },
   {
    "duration": 13,
    "start_time": "2022-04-16T17:41:04.387Z"
   },
   {
    "duration": 15,
    "start_time": "2022-04-16T17:41:04.402Z"
   },
   {
    "duration": 33,
    "start_time": "2022-04-16T17:41:04.419Z"
   },
   {
    "duration": 16,
    "start_time": "2022-04-16T17:41:04.454Z"
   },
   {
    "duration": 31,
    "start_time": "2022-04-16T17:41:04.473Z"
   },
   {
    "duration": 280,
    "start_time": "2022-04-16T17:43:03.446Z"
   },
   {
    "duration": 7,
    "start_time": "2022-04-16T18:00:41.416Z"
   },
   {
    "duration": 9,
    "start_time": "2022-04-16T18:01:29.401Z"
   },
   {
    "duration": 489,
    "start_time": "2022-04-16T18:02:21.839Z"
   },
   {
    "duration": 28,
    "start_time": "2022-04-16T18:02:22.331Z"
   },
   {
    "duration": 39,
    "start_time": "2022-04-16T18:02:22.361Z"
   },
   {
    "duration": 19,
    "start_time": "2022-04-16T18:02:22.403Z"
   },
   {
    "duration": 19,
    "start_time": "2022-04-16T18:02:22.425Z"
   },
   {
    "duration": 16,
    "start_time": "2022-04-16T18:02:22.446Z"
   },
   {
    "duration": 11,
    "start_time": "2022-04-16T18:02:22.465Z"
   },
   {
    "duration": 14,
    "start_time": "2022-04-16T18:02:22.478Z"
   },
   {
    "duration": 12,
    "start_time": "2022-04-16T18:02:22.494Z"
   },
   {
    "duration": 36,
    "start_time": "2022-04-16T18:02:22.509Z"
   },
   {
    "duration": 289,
    "start_time": "2022-04-16T18:02:22.547Z"
   },
   {
    "duration": 7,
    "start_time": "2022-04-16T18:02:22.839Z"
   },
   {
    "duration": 311,
    "start_time": "2022-04-16T18:02:22.848Z"
   },
   {
    "duration": 3,
    "start_time": "2022-04-16T18:03:02.846Z"
   },
   {
    "duration": 37,
    "start_time": "2022-04-16T18:03:02.855Z"
   },
   {
    "duration": 39,
    "start_time": "2022-04-16T18:03:02.895Z"
   },
   {
    "duration": 26,
    "start_time": "2022-04-16T18:03:02.936Z"
   },
   {
    "duration": 11,
    "start_time": "2022-04-16T18:03:02.964Z"
   },
   {
    "duration": 14,
    "start_time": "2022-04-16T18:03:02.977Z"
   },
   {
    "duration": 14,
    "start_time": "2022-04-16T18:03:02.993Z"
   },
   {
    "duration": 35,
    "start_time": "2022-04-16T18:03:03.009Z"
   },
   {
    "duration": 26,
    "start_time": "2022-04-16T18:03:03.046Z"
   },
   {
    "duration": 21,
    "start_time": "2022-04-16T18:03:03.074Z"
   },
   {
    "duration": 288,
    "start_time": "2022-04-16T18:03:03.098Z"
   },
   {
    "duration": 6,
    "start_time": "2022-04-16T18:03:03.388Z"
   },
   {
    "duration": 310,
    "start_time": "2022-04-16T18:03:03.397Z"
   },
   {
    "duration": 336,
    "start_time": "2022-04-16T18:04:46.266Z"
   },
   {
    "duration": 270,
    "start_time": "2022-04-16T18:05:59.446Z"
   },
   {
    "duration": 176,
    "start_time": "2022-04-16T18:06:35.475Z"
   },
   {
    "duration": 266,
    "start_time": "2022-04-16T18:06:39.470Z"
   },
   {
    "duration": 290,
    "start_time": "2022-04-16T18:08:30.708Z"
   },
   {
    "duration": 284,
    "start_time": "2022-04-16T18:09:02.688Z"
   },
   {
    "duration": 401,
    "start_time": "2022-04-16T18:10:56.985Z"
   },
   {
    "duration": 297,
    "start_time": "2022-04-16T18:11:15.297Z"
   },
   {
    "duration": 137,
    "start_time": "2022-04-16T18:12:00.113Z"
   },
   {
    "duration": 268,
    "start_time": "2022-04-16T18:12:21.445Z"
   },
   {
    "duration": 275,
    "start_time": "2022-04-16T18:15:08.230Z"
   },
   {
    "duration": 361,
    "start_time": "2022-04-16T18:15:17.308Z"
   },
   {
    "duration": 292,
    "start_time": "2022-04-16T18:17:03.528Z"
   },
   {
    "duration": 5,
    "start_time": "2022-04-16T18:18:41.201Z"
   },
   {
    "duration": 294,
    "start_time": "2022-04-16T18:18:59.129Z"
   },
   {
    "duration": 310,
    "start_time": "2022-04-16T18:19:37.075Z"
   },
   {
    "duration": 320,
    "start_time": "2022-04-16T18:21:01.999Z"
   },
   {
    "duration": 3,
    "start_time": "2022-04-16T18:23:48.274Z"
   },
   {
    "duration": 38,
    "start_time": "2022-04-16T18:23:48.281Z"
   },
   {
    "duration": 39,
    "start_time": "2022-04-16T18:23:48.321Z"
   },
   {
    "duration": 20,
    "start_time": "2022-04-16T18:23:48.362Z"
   },
   {
    "duration": 11,
    "start_time": "2022-04-16T18:23:48.385Z"
   },
   {
    "duration": 18,
    "start_time": "2022-04-16T18:23:48.399Z"
   },
   {
    "duration": 13,
    "start_time": "2022-04-16T18:23:48.419Z"
   },
   {
    "duration": 12,
    "start_time": "2022-04-16T18:23:48.433Z"
   },
   {
    "duration": 16,
    "start_time": "2022-04-16T18:23:48.447Z"
   },
   {
    "duration": 16,
    "start_time": "2022-04-16T18:23:48.465Z"
   },
   {
    "duration": 300,
    "start_time": "2022-04-16T18:23:48.484Z"
   },
   {
    "duration": 7,
    "start_time": "2022-04-16T18:23:48.786Z"
   },
   {
    "duration": 311,
    "start_time": "2022-04-16T18:23:48.794Z"
   },
   {
    "duration": 306,
    "start_time": "2022-04-16T18:40:24.427Z"
   },
   {
    "duration": 281,
    "start_time": "2022-04-16T18:44:37.114Z"
   },
   {
    "duration": 281,
    "start_time": "2022-04-16T18:44:46.109Z"
   },
   {
    "duration": 6,
    "start_time": "2022-04-16T18:51:16.171Z"
   },
   {
    "duration": 300,
    "start_time": "2022-04-16T18:51:17.273Z"
   },
   {
    "duration": 360,
    "start_time": "2022-04-16T18:51:39.516Z"
   },
   {
    "duration": 267,
    "start_time": "2022-04-16T18:51:53.672Z"
   },
   {
    "duration": 309,
    "start_time": "2022-04-16T18:52:14.729Z"
   },
   {
    "duration": 316,
    "start_time": "2022-04-16T18:52:50.762Z"
   },
   {
    "duration": 396,
    "start_time": "2022-04-16T18:58:57.057Z"
   },
   {
    "duration": 375,
    "start_time": "2022-04-16T19:01:41.680Z"
   },
   {
    "duration": 425,
    "start_time": "2022-04-16T19:03:31.528Z"
   },
   {
    "duration": 4,
    "start_time": "2022-04-16T19:08:54.269Z"
   },
   {
    "duration": 333,
    "start_time": "2022-04-16T19:14:37.641Z"
   },
   {
    "duration": 301,
    "start_time": "2022-04-16T19:15:56.222Z"
   },
   {
    "duration": 321,
    "start_time": "2022-04-16T19:18:06.147Z"
   },
   {
    "duration": 329,
    "start_time": "2022-04-16T19:19:39.646Z"
   },
   {
    "duration": 444,
    "start_time": "2022-04-16T19:19:52.981Z"
   },
   {
    "duration": 6,
    "start_time": "2022-04-16T19:23:01.323Z"
   },
   {
    "duration": 339,
    "start_time": "2022-04-16T19:24:01.952Z"
   },
   {
    "duration": 332,
    "start_time": "2022-04-16T19:25:19.360Z"
   },
   {
    "duration": 311,
    "start_time": "2022-04-16T19:25:29.860Z"
   },
   {
    "duration": 186,
    "start_time": "2022-04-16T19:41:23.488Z"
   },
   {
    "duration": 174,
    "start_time": "2022-04-16T19:41:34.416Z"
   },
   {
    "duration": 8,
    "start_time": "2022-04-16T19:41:55.061Z"
   },
   {
    "duration": 410,
    "start_time": "2022-04-16T19:42:54.750Z"
   },
   {
    "duration": 392,
    "start_time": "2022-04-16T19:43:41.878Z"
   },
   {
    "duration": 409,
    "start_time": "2022-04-16T19:45:27.732Z"
   },
   {
    "duration": 405,
    "start_time": "2022-04-16T19:45:37.332Z"
   },
   {
    "duration": 67,
    "start_time": "2022-04-17T09:29:35.711Z"
   },
   {
    "duration": 1125,
    "start_time": "2022-04-17T09:29:41.645Z"
   },
   {
    "duration": 43,
    "start_time": "2022-04-17T09:29:42.772Z"
   },
   {
    "duration": 47,
    "start_time": "2022-04-17T09:29:42.818Z"
   },
   {
    "duration": 23,
    "start_time": "2022-04-17T09:29:42.867Z"
   },
   {
    "duration": 14,
    "start_time": "2022-04-17T09:29:42.892Z"
   },
   {
    "duration": 37,
    "start_time": "2022-04-17T09:29:42.909Z"
   },
   {
    "duration": 10,
    "start_time": "2022-04-17T09:29:42.950Z"
   },
   {
    "duration": 23,
    "start_time": "2022-04-17T09:29:42.961Z"
   },
   {
    "duration": 20,
    "start_time": "2022-04-17T09:29:42.986Z"
   },
   {
    "duration": 23,
    "start_time": "2022-04-17T09:29:43.009Z"
   },
   {
    "duration": 333,
    "start_time": "2022-04-17T09:29:43.034Z"
   },
   {
    "duration": 6,
    "start_time": "2022-04-17T09:29:43.368Z"
   },
   {
    "duration": 445,
    "start_time": "2022-04-17T09:29:43.376Z"
   },
   {
    "duration": 290,
    "start_time": "2022-04-17T09:29:43.824Z"
   },
   {
    "duration": 503,
    "start_time": "2022-04-17T09:29:44.116Z"
   },
   {
    "duration": 5,
    "start_time": "2022-04-17T09:29:44.621Z"
   },
   {
    "duration": 291,
    "start_time": "2022-04-17T09:29:44.631Z"
   },
   {
    "duration": 12,
    "start_time": "2022-04-17T09:29:44.924Z"
   },
   {
    "duration": 460,
    "start_time": "2022-04-17T09:29:44.938Z"
   },
   {
    "duration": 393,
    "start_time": "2022-04-17T09:30:04.001Z"
   },
   {
    "duration": 425,
    "start_time": "2022-04-17T09:30:16.894Z"
   },
   {
    "duration": 557,
    "start_time": "2022-04-17T09:30:27.462Z"
   },
   {
    "duration": 37,
    "start_time": "2022-04-17T09:33:04.256Z"
   },
   {
    "duration": 14,
    "start_time": "2022-04-17T09:33:52.361Z"
   },
   {
    "duration": 14,
    "start_time": "2022-04-17T09:34:59.670Z"
   },
   {
    "duration": 14,
    "start_time": "2022-04-17T09:37:47.549Z"
   },
   {
    "duration": 107,
    "start_time": "2022-04-17T09:39:32.653Z"
   },
   {
    "duration": 115,
    "start_time": "2022-04-17T09:43:42.852Z"
   },
   {
    "duration": 126,
    "start_time": "2022-04-17T09:44:10.240Z"
   },
   {
    "duration": 5,
    "start_time": "2022-04-17T09:49:36.944Z"
   },
   {
    "duration": 15,
    "start_time": "2022-04-17T09:59:00.901Z"
   },
   {
    "duration": 17,
    "start_time": "2022-04-17T09:59:41.633Z"
   },
   {
    "duration": 9,
    "start_time": "2022-04-17T10:00:13.907Z"
   },
   {
    "duration": 8,
    "start_time": "2022-04-17T10:02:33.289Z"
   },
   {
    "duration": 8,
    "start_time": "2022-04-17T10:02:47.293Z"
   },
   {
    "duration": 124,
    "start_time": "2022-04-17T10:02:59.844Z"
   },
   {
    "duration": 139,
    "start_time": "2022-04-17T10:04:12.714Z"
   },
   {
    "duration": 189,
    "start_time": "2022-04-17T10:04:45.023Z"
   },
   {
    "duration": 128,
    "start_time": "2022-04-17T10:05:10.879Z"
   },
   {
    "duration": 11,
    "start_time": "2022-04-17T10:08:33.231Z"
   },
   {
    "duration": 5,
    "start_time": "2022-04-17T10:08:44.366Z"
   },
   {
    "duration": 19,
    "start_time": "2022-04-17T10:19:19.825Z"
   },
   {
    "duration": 121,
    "start_time": "2022-04-17T10:19:48.467Z"
   },
   {
    "duration": 10,
    "start_time": "2022-04-17T10:36:34.790Z"
   },
   {
    "duration": 241,
    "start_time": "2022-04-17T10:39:37.441Z"
   },
   {
    "duration": 94,
    "start_time": "2022-04-17T10:41:34.217Z"
   },
   {
    "duration": 95,
    "start_time": "2022-04-17T10:41:56.146Z"
   },
   {
    "duration": 201,
    "start_time": "2022-04-17T10:43:35.467Z"
   },
   {
    "duration": 142,
    "start_time": "2022-04-17T10:44:43.851Z"
   },
   {
    "duration": 6,
    "start_time": "2022-04-17T10:44:49.331Z"
   },
   {
    "duration": 14,
    "start_time": "2022-04-17T10:47:28.849Z"
   },
   {
    "duration": 541,
    "start_time": "2022-04-17T10:48:08.482Z"
   },
   {
    "duration": 37,
    "start_time": "2022-04-17T10:48:09.026Z"
   },
   {
    "duration": 78,
    "start_time": "2022-04-17T10:48:09.065Z"
   },
   {
    "duration": 21,
    "start_time": "2022-04-17T10:48:09.146Z"
   },
   {
    "duration": 12,
    "start_time": "2022-04-17T10:48:09.168Z"
   },
   {
    "duration": 9,
    "start_time": "2022-04-17T10:48:09.182Z"
   },
   {
    "duration": 10,
    "start_time": "2022-04-17T10:48:09.193Z"
   },
   {
    "duration": 17,
    "start_time": "2022-04-17T10:48:09.205Z"
   },
   {
    "duration": 14,
    "start_time": "2022-04-17T10:48:09.225Z"
   },
   {
    "duration": 18,
    "start_time": "2022-04-17T10:48:09.243Z"
   },
   {
    "duration": 267,
    "start_time": "2022-04-17T10:48:09.263Z"
   },
   {
    "duration": 6,
    "start_time": "2022-04-17T10:48:09.531Z"
   },
   {
    "duration": 276,
    "start_time": "2022-04-17T10:48:09.539Z"
   },
   {
    "duration": 279,
    "start_time": "2022-04-17T10:48:09.816Z"
   },
   {
    "duration": 410,
    "start_time": "2022-04-17T10:48:10.096Z"
   },
   {
    "duration": 5,
    "start_time": "2022-04-17T10:48:10.508Z"
   },
   {
    "duration": 269,
    "start_time": "2022-04-17T10:48:10.522Z"
   },
   {
    "duration": 7,
    "start_time": "2022-04-17T10:48:10.793Z"
   },
   {
    "duration": 466,
    "start_time": "2022-04-17T10:48:10.801Z"
   },
   {
    "duration": 19,
    "start_time": "2022-04-17T10:48:11.269Z"
   },
   {
    "duration": 192,
    "start_time": "2022-04-17T10:48:11.291Z"
   },
   {
    "duration": 6,
    "start_time": "2022-04-17T10:48:11.485Z"
   },
   {
    "duration": 18,
    "start_time": "2022-04-17T10:48:11.493Z"
   },
   {
    "duration": 217,
    "start_time": "2022-04-17T10:48:11.523Z"
   },
   {
    "duration": 7,
    "start_time": "2022-04-17T10:48:11.742Z"
   },
   {
    "duration": 354,
    "start_time": "2022-04-17T10:48:11.751Z"
   },
   {
    "duration": 246,
    "start_time": "2022-04-17T10:48:12.107Z"
   },
   {
    "duration": 8,
    "start_time": "2022-04-17T10:48:12.357Z"
   },
   {
    "duration": 46,
    "start_time": "2022-04-17T10:48:12.367Z"
   },
   {
    "duration": 10,
    "start_time": "2022-04-17T10:55:46.611Z"
   },
   {
    "duration": 11,
    "start_time": "2022-04-17T10:56:09.502Z"
   },
   {
    "duration": 10,
    "start_time": "2022-04-17T10:56:34.343Z"
   },
   {
    "duration": 3227,
    "start_time": "2022-04-17T11:07:27.195Z"
   },
   {
    "duration": 3361,
    "start_time": "2022-04-17T11:08:15.268Z"
   },
   {
    "duration": 12,
    "start_time": "2022-04-17T11:08:58.141Z"
   },
   {
    "duration": 11,
    "start_time": "2022-04-17T11:09:13.832Z"
   },
   {
    "duration": 9,
    "start_time": "2022-04-17T11:12:56.059Z"
   },
   {
    "duration": 24,
    "start_time": "2022-04-17T11:14:00.264Z"
   },
   {
    "duration": 13,
    "start_time": "2022-04-17T11:14:47.893Z"
   },
   {
    "duration": 15,
    "start_time": "2022-04-17T11:15:12.500Z"
   },
   {
    "duration": 5,
    "start_time": "2022-04-17T11:16:05.377Z"
   },
   {
    "duration": 3172,
    "start_time": "2022-04-17T11:24:02.931Z"
   },
   {
    "duration": 13,
    "start_time": "2022-04-17T11:24:57.462Z"
   },
   {
    "duration": 1031,
    "start_time": "2022-04-17T11:55:34.462Z"
   },
   {
    "duration": 82,
    "start_time": "2022-04-17T11:55:35.495Z"
   },
   {
    "duration": 44,
    "start_time": "2022-04-17T11:55:35.578Z"
   },
   {
    "duration": 20,
    "start_time": "2022-04-17T11:55:35.624Z"
   },
   {
    "duration": 11,
    "start_time": "2022-04-17T11:55:35.646Z"
   },
   {
    "duration": 13,
    "start_time": "2022-04-17T11:55:35.659Z"
   },
   {
    "duration": 10,
    "start_time": "2022-04-17T11:55:35.674Z"
   },
   {
    "duration": 11,
    "start_time": "2022-04-17T11:55:35.686Z"
   },
   {
    "duration": 33,
    "start_time": "2022-04-17T11:55:35.699Z"
   },
   {
    "duration": 9,
    "start_time": "2022-04-17T11:55:35.735Z"
   },
   {
    "duration": 259,
    "start_time": "2022-04-17T11:55:35.746Z"
   },
   {
    "duration": 6,
    "start_time": "2022-04-17T11:55:36.007Z"
   },
   {
    "duration": 256,
    "start_time": "2022-04-17T11:55:36.022Z"
   },
   {
    "duration": 255,
    "start_time": "2022-04-17T11:55:36.279Z"
   },
   {
    "duration": 343,
    "start_time": "2022-04-17T11:55:36.536Z"
   },
   {
    "duration": 4,
    "start_time": "2022-04-17T11:55:36.881Z"
   },
   {
    "duration": 343,
    "start_time": "2022-04-17T11:55:36.886Z"
   },
   {
    "duration": 7,
    "start_time": "2022-04-17T11:55:37.231Z"
   },
   {
    "duration": 375,
    "start_time": "2022-04-17T11:55:37.239Z"
   },
   {
    "duration": 17,
    "start_time": "2022-04-17T11:55:37.615Z"
   },
   {
    "duration": 134,
    "start_time": "2022-04-17T11:55:37.633Z"
   },
   {
    "duration": 4,
    "start_time": "2022-04-17T11:55:37.768Z"
   },
   {
    "duration": 10,
    "start_time": "2022-04-17T11:55:37.774Z"
   },
   {
    "duration": 152,
    "start_time": "2022-04-17T11:55:37.785Z"
   },
   {
    "duration": 4,
    "start_time": "2022-04-17T11:55:37.939Z"
   },
   {
    "duration": 220,
    "start_time": "2022-04-17T11:55:37.945Z"
   },
   {
    "duration": 146,
    "start_time": "2022-04-17T11:55:38.167Z"
   },
   {
    "duration": 9,
    "start_time": "2022-04-17T11:55:38.317Z"
   },
   {
    "duration": 26,
    "start_time": "2022-04-17T11:55:38.327Z"
   },
   {
    "duration": 11,
    "start_time": "2022-04-17T11:55:38.355Z"
   },
   {
    "duration": 11,
    "start_time": "2022-04-17T11:55:38.368Z"
   },
   {
    "duration": 5,
    "start_time": "2022-04-17T11:55:38.380Z"
   },
   {
    "duration": 10,
    "start_time": "2022-04-17T11:55:38.423Z"
   },
   {
    "duration": 23,
    "start_time": "2022-04-17T11:55:38.434Z"
   },
   {
    "duration": 13,
    "start_time": "2022-04-17T11:55:38.459Z"
   },
   {
    "duration": 79,
    "start_time": "2022-04-19T06:25:04.216Z"
   },
   {
    "duration": 1735,
    "start_time": "2022-04-19T06:25:09.027Z"
   },
   {
    "duration": 102,
    "start_time": "2022-04-19T06:25:10.765Z"
   },
   {
    "duration": 30,
    "start_time": "2022-04-19T06:25:10.870Z"
   },
   {
    "duration": 19,
    "start_time": "2022-04-19T06:25:10.902Z"
   },
   {
    "duration": 17,
    "start_time": "2022-04-19T06:25:10.925Z"
   },
   {
    "duration": 17,
    "start_time": "2022-04-19T06:25:10.944Z"
   },
   {
    "duration": 14,
    "start_time": "2022-04-19T06:25:10.963Z"
   },
   {
    "duration": 52,
    "start_time": "2022-04-19T06:25:10.979Z"
   },
   {
    "duration": 25,
    "start_time": "2022-04-19T06:25:11.034Z"
   },
   {
    "duration": 16,
    "start_time": "2022-04-19T06:25:11.062Z"
   },
   {
    "duration": 471,
    "start_time": "2022-04-19T06:25:11.081Z"
   },
   {
    "duration": 10,
    "start_time": "2022-04-19T06:25:11.554Z"
   },
   {
    "duration": 461,
    "start_time": "2022-04-19T06:25:11.566Z"
   },
   {
    "duration": 440,
    "start_time": "2022-04-19T06:25:12.031Z"
   },
   {
    "duration": 602,
    "start_time": "2022-04-19T06:25:12.473Z"
   },
   {
    "duration": 5,
    "start_time": "2022-04-19T06:25:13.077Z"
   },
   {
    "duration": 448,
    "start_time": "2022-04-19T06:25:13.085Z"
   },
   {
    "duration": 11,
    "start_time": "2022-04-19T06:25:13.535Z"
   },
   {
    "duration": 596,
    "start_time": "2022-04-19T06:25:13.548Z"
   },
   {
    "duration": 19,
    "start_time": "2022-04-19T06:25:14.146Z"
   },
   {
    "duration": 238,
    "start_time": "2022-04-19T06:25:14.167Z"
   },
   {
    "duration": 17,
    "start_time": "2022-04-19T06:25:14.407Z"
   },
   {
    "duration": 14,
    "start_time": "2022-04-19T06:25:14.426Z"
   },
   {
    "duration": 253,
    "start_time": "2022-04-19T06:25:14.442Z"
   },
   {
    "duration": 7,
    "start_time": "2022-04-19T06:25:14.697Z"
   },
   {
    "duration": 21,
    "start_time": "2022-04-19T06:25:14.707Z"
   },
   {
    "duration": 363,
    "start_time": "2022-04-19T06:25:14.730Z"
   },
   {
    "duration": 306,
    "start_time": "2022-04-19T06:25:15.095Z"
   },
   {
    "duration": 25,
    "start_time": "2022-04-19T06:25:15.404Z"
   },
   {
    "duration": 35,
    "start_time": "2022-04-19T06:25:15.431Z"
   },
   {
    "duration": 14,
    "start_time": "2022-04-19T06:25:15.469Z"
   },
   {
    "duration": 48,
    "start_time": "2022-04-19T06:25:15.485Z"
   },
   {
    "duration": 11,
    "start_time": "2022-04-19T06:25:15.536Z"
   },
   {
    "duration": 13,
    "start_time": "2022-04-19T06:25:15.550Z"
   },
   {
    "duration": 30,
    "start_time": "2022-04-19T06:25:15.566Z"
   },
   {
    "duration": 21,
    "start_time": "2022-04-19T06:25:15.624Z"
   },
   {
    "duration": 8,
    "start_time": "2022-04-19T06:25:38.696Z"
   },
   {
    "duration": 5,
    "start_time": "2022-04-19T06:25:43.393Z"
   },
   {
    "duration": 111,
    "start_time": "2022-04-19T06:31:06.426Z"
   },
   {
    "duration": 5,
    "start_time": "2022-04-19T06:32:28.057Z"
   },
   {
    "duration": 23,
    "start_time": "2022-04-19T06:32:28.086Z"
   },
   {
    "duration": 42,
    "start_time": "2022-04-19T06:32:28.112Z"
   },
   {
    "duration": 18,
    "start_time": "2022-04-19T06:32:28.156Z"
   },
   {
    "duration": 16,
    "start_time": "2022-04-19T06:32:28.177Z"
   },
   {
    "duration": 34,
    "start_time": "2022-04-19T06:32:28.195Z"
   },
   {
    "duration": 23,
    "start_time": "2022-04-19T06:32:28.232Z"
   },
   {
    "duration": 28,
    "start_time": "2022-04-19T06:32:28.257Z"
   },
   {
    "duration": 44,
    "start_time": "2022-04-19T06:32:28.288Z"
   },
   {
    "duration": 50,
    "start_time": "2022-04-19T06:32:28.334Z"
   },
   {
    "duration": 495,
    "start_time": "2022-04-19T06:32:28.386Z"
   },
   {
    "duration": 9,
    "start_time": "2022-04-19T06:32:28.885Z"
   },
   {
    "duration": 482,
    "start_time": "2022-04-19T06:32:28.897Z"
   },
   {
    "duration": 461,
    "start_time": "2022-04-19T06:32:29.382Z"
   },
   {
    "duration": 641,
    "start_time": "2022-04-19T06:32:29.846Z"
   },
   {
    "duration": 6,
    "start_time": "2022-04-19T06:32:30.489Z"
   },
   {
    "duration": 475,
    "start_time": "2022-04-19T06:32:30.497Z"
   },
   {
    "duration": 12,
    "start_time": "2022-04-19T06:32:30.975Z"
   },
   {
    "duration": 583,
    "start_time": "2022-04-19T06:32:30.990Z"
   },
   {
    "duration": 21,
    "start_time": "2022-04-19T06:32:31.579Z"
   },
   {
    "duration": 267,
    "start_time": "2022-04-19T06:32:31.602Z"
   },
   {
    "duration": 8,
    "start_time": "2022-04-19T06:32:31.872Z"
   },
   {
    "duration": 34,
    "start_time": "2022-04-19T06:32:31.882Z"
   },
   {
    "duration": 243,
    "start_time": "2022-04-19T06:32:31.923Z"
   },
   {
    "duration": 8,
    "start_time": "2022-04-19T06:32:32.169Z"
   },
   {
    "duration": 41,
    "start_time": "2022-04-19T06:32:32.180Z"
   },
   {
    "duration": 355,
    "start_time": "2022-04-19T06:32:32.224Z"
   },
   {
    "duration": 350,
    "start_time": "2022-04-19T06:32:32.581Z"
   },
   {
    "duration": 9,
    "start_time": "2022-04-19T06:32:32.933Z"
   },
   {
    "duration": 60,
    "start_time": "2022-04-19T06:32:32.945Z"
   },
   {
    "duration": 20,
    "start_time": "2022-04-19T06:32:33.008Z"
   },
   {
    "duration": 72,
    "start_time": "2022-04-19T06:32:33.030Z"
   },
   {
    "duration": 0,
    "start_time": "2022-04-19T06:32:33.104Z"
   },
   {
    "duration": 0,
    "start_time": "2022-04-19T06:32:33.106Z"
   },
   {
    "duration": 0,
    "start_time": "2022-04-19T06:32:33.108Z"
   },
   {
    "duration": 0,
    "start_time": "2022-04-19T06:32:33.110Z"
   },
   {
    "duration": 5,
    "start_time": "2022-04-19T06:33:46.330Z"
   },
   {
    "duration": 24,
    "start_time": "2022-04-19T06:33:46.345Z"
   },
   {
    "duration": 30,
    "start_time": "2022-04-19T06:33:46.372Z"
   },
   {
    "duration": 18,
    "start_time": "2022-04-19T06:33:46.404Z"
   },
   {
    "duration": 16,
    "start_time": "2022-04-19T06:33:46.425Z"
   },
   {
    "duration": 17,
    "start_time": "2022-04-19T06:33:46.443Z"
   },
   {
    "duration": 24,
    "start_time": "2022-04-19T06:33:46.462Z"
   },
   {
    "duration": 43,
    "start_time": "2022-04-19T06:33:46.489Z"
   },
   {
    "duration": 19,
    "start_time": "2022-04-19T06:33:46.534Z"
   },
   {
    "duration": 21,
    "start_time": "2022-04-19T06:33:46.555Z"
   },
   {
    "duration": 487,
    "start_time": "2022-04-19T06:33:46.578Z"
   },
   {
    "duration": 10,
    "start_time": "2022-04-19T06:33:47.067Z"
   },
   {
    "duration": 460,
    "start_time": "2022-04-19T06:33:47.080Z"
   },
   {
    "duration": 439,
    "start_time": "2022-04-19T06:33:47.543Z"
   },
   {
    "duration": 557,
    "start_time": "2022-04-19T06:33:47.985Z"
   },
   {
    "duration": 6,
    "start_time": "2022-04-19T06:33:48.544Z"
   },
   {
    "duration": 451,
    "start_time": "2022-04-19T06:33:48.552Z"
   },
   {
    "duration": 19,
    "start_time": "2022-04-19T06:33:49.005Z"
   },
   {
    "duration": 607,
    "start_time": "2022-04-19T06:33:49.027Z"
   },
   {
    "duration": 18,
    "start_time": "2022-04-19T06:33:49.636Z"
   },
   {
    "duration": 329,
    "start_time": "2022-04-19T06:33:49.656Z"
   },
   {
    "duration": 6,
    "start_time": "2022-04-19T06:33:49.987Z"
   },
   {
    "duration": 33,
    "start_time": "2022-04-19T06:33:49.995Z"
   },
   {
    "duration": 244,
    "start_time": "2022-04-19T06:33:50.031Z"
   },
   {
    "duration": 7,
    "start_time": "2022-04-19T06:33:50.277Z"
   },
   {
    "duration": 3,
    "start_time": "2022-04-19T06:33:50.288Z"
   },
   {
    "duration": 369,
    "start_time": "2022-04-19T06:33:50.293Z"
   },
   {
    "duration": 270,
    "start_time": "2022-04-19T06:33:50.664Z"
   },
   {
    "duration": 9,
    "start_time": "2022-04-19T06:33:50.936Z"
   },
   {
    "duration": 50,
    "start_time": "2022-04-19T06:33:50.947Z"
   },
   {
    "duration": 42,
    "start_time": "2022-04-19T06:33:50.999Z"
   },
   {
    "duration": 40,
    "start_time": "2022-04-19T06:33:51.043Z"
   },
   {
    "duration": 10,
    "start_time": "2022-04-19T06:33:51.085Z"
   },
   {
    "duration": 27,
    "start_time": "2022-04-19T06:33:51.097Z"
   },
   {
    "duration": 49,
    "start_time": "2022-04-19T06:33:51.126Z"
   },
   {
    "duration": 26,
    "start_time": "2022-04-19T06:33:51.177Z"
   },
   {
    "duration": 4,
    "start_time": "2022-04-19T06:35:05.807Z"
   },
   {
    "duration": 341,
    "start_time": "2022-04-19T06:35:21.824Z"
   },
   {
    "duration": 8,
    "start_time": "2022-04-19T06:36:14.940Z"
   },
   {
    "duration": 4,
    "start_time": "2022-04-19T06:38:41.074Z"
   },
   {
    "duration": 6,
    "start_time": "2022-04-19T06:40:48.500Z"
   },
   {
    "duration": 15,
    "start_time": "2022-04-19T06:40:51.224Z"
   },
   {
    "duration": 29,
    "start_time": "2022-04-19T06:40:52.819Z"
   },
   {
    "duration": 12,
    "start_time": "2022-04-19T06:42:14.541Z"
   },
   {
    "duration": 31,
    "start_time": "2022-04-19T06:42:17.661Z"
   },
   {
    "duration": 21,
    "start_time": "2022-04-19T06:42:33.693Z"
   },
   {
    "duration": 16,
    "start_time": "2022-04-19T06:49:52.158Z"
   },
   {
    "duration": 5,
    "start_time": "2022-04-19T06:51:46.988Z"
   },
   {
    "duration": 21,
    "start_time": "2022-04-19T06:51:47.178Z"
   },
   {
    "duration": 33,
    "start_time": "2022-04-19T06:51:47.202Z"
   },
   {
    "duration": 20,
    "start_time": "2022-04-19T06:51:47.238Z"
   },
   {
    "duration": 15,
    "start_time": "2022-04-19T06:51:47.261Z"
   },
   {
    "duration": 52,
    "start_time": "2022-04-19T06:51:47.278Z"
   },
   {
    "duration": 18,
    "start_time": "2022-04-19T06:51:47.333Z"
   },
   {
    "duration": 21,
    "start_time": "2022-04-19T06:51:47.353Z"
   },
   {
    "duration": 48,
    "start_time": "2022-04-19T06:51:47.377Z"
   },
   {
    "duration": 17,
    "start_time": "2022-04-19T06:51:47.427Z"
   },
   {
    "duration": 487,
    "start_time": "2022-04-19T06:51:47.446Z"
   },
   {
    "duration": 9,
    "start_time": "2022-04-19T06:51:47.936Z"
   },
   {
    "duration": 448,
    "start_time": "2022-04-19T06:51:47.947Z"
   },
   {
    "duration": 448,
    "start_time": "2022-04-19T06:51:48.398Z"
   },
   {
    "duration": 528,
    "start_time": "2022-04-19T06:51:48.848Z"
   },
   {
    "duration": 5,
    "start_time": "2022-04-19T06:51:49.379Z"
   },
   {
    "duration": 458,
    "start_time": "2022-04-19T06:51:49.388Z"
   },
   {
    "duration": 12,
    "start_time": "2022-04-19T06:51:49.848Z"
   },
   {
    "duration": 596,
    "start_time": "2022-04-19T06:51:49.862Z"
   },
   {
    "duration": 19,
    "start_time": "2022-04-19T06:51:50.460Z"
   },
   {
    "duration": 240,
    "start_time": "2022-04-19T06:51:50.481Z"
   },
   {
    "duration": 7,
    "start_time": "2022-04-19T06:51:50.725Z"
   },
   {
    "duration": 15,
    "start_time": "2022-04-19T06:51:50.735Z"
   },
   {
    "duration": 247,
    "start_time": "2022-04-19T06:51:50.753Z"
   },
   {
    "duration": 8,
    "start_time": "2022-04-19T06:51:51.002Z"
   },
   {
    "duration": 17,
    "start_time": "2022-04-19T06:51:51.012Z"
   },
   {
    "duration": 380,
    "start_time": "2022-04-19T06:51:51.032Z"
   },
   {
    "duration": 291,
    "start_time": "2022-04-19T06:51:51.415Z"
   },
   {
    "duration": 22,
    "start_time": "2022-04-19T06:51:51.708Z"
   },
   {
    "duration": 38,
    "start_time": "2022-04-19T06:51:51.733Z"
   },
   {
    "duration": 14,
    "start_time": "2022-04-19T06:51:51.773Z"
   },
   {
    "duration": 15,
    "start_time": "2022-04-19T06:51:51.825Z"
   },
   {
    "duration": 11,
    "start_time": "2022-04-19T06:51:51.842Z"
   },
   {
    "duration": 12,
    "start_time": "2022-04-19T06:51:51.856Z"
   },
   {
    "duration": 61,
    "start_time": "2022-04-19T06:51:51.870Z"
   },
   {
    "duration": 20,
    "start_time": "2022-04-19T06:51:51.933Z"
   },
   {
    "duration": 477,
    "start_time": "2022-04-19T06:55:58.798Z"
   },
   {
    "duration": 424,
    "start_time": "2022-04-19T06:56:13.566Z"
   },
   {
    "duration": 440,
    "start_time": "2022-04-19T06:56:52.071Z"
   },
   {
    "duration": 442,
    "start_time": "2022-04-19T06:57:11.333Z"
   },
   {
    "duration": 439,
    "start_time": "2022-04-19T06:59:16.489Z"
   },
   {
    "duration": 442,
    "start_time": "2022-04-19T07:01:22.022Z"
   },
   {
    "duration": 603,
    "start_time": "2022-04-19T07:02:38.535Z"
   },
   {
    "duration": 538,
    "start_time": "2022-04-19T07:02:47.698Z"
   },
   {
    "duration": 20,
    "start_time": "2022-04-19T07:03:04.484Z"
   },
   {
    "duration": 247,
    "start_time": "2022-04-19T07:03:30.164Z"
   },
   {
    "duration": 556,
    "start_time": "2022-04-19T07:03:44.512Z"
   },
   {
    "duration": 554,
    "start_time": "2022-04-19T07:05:19.512Z"
   },
   {
    "duration": 719,
    "start_time": "2022-04-19T07:05:40.814Z"
   },
   {
    "duration": 587,
    "start_time": "2022-04-19T07:05:50.427Z"
   },
   {
    "duration": 698,
    "start_time": "2022-04-19T07:05:55.912Z"
   },
   {
    "duration": 599,
    "start_time": "2022-04-19T07:06:03.659Z"
   },
   {
    "duration": 571,
    "start_time": "2022-04-19T07:06:13.799Z"
   },
   {
    "duration": 533,
    "start_time": "2022-04-19T07:06:58.551Z"
   },
   {
    "duration": 482,
    "start_time": "2022-04-19T07:07:42.784Z"
   },
   {
    "duration": 468,
    "start_time": "2022-04-19T07:08:13.966Z"
   },
   {
    "duration": 442,
    "start_time": "2022-04-19T07:08:28.547Z"
   },
   {
    "duration": 493,
    "start_time": "2022-04-19T07:08:42.636Z"
   },
   {
    "duration": 511,
    "start_time": "2022-04-19T07:08:53.216Z"
   },
   {
    "duration": 342,
    "start_time": "2022-04-19T07:10:41.993Z"
   },
   {
    "duration": 232,
    "start_time": "2022-04-19T07:11:38.382Z"
   },
   {
    "duration": 1446,
    "start_time": "2022-04-19T07:13:09.015Z"
   },
   {
    "duration": 87,
    "start_time": "2022-04-19T07:13:10.464Z"
   },
   {
    "duration": 30,
    "start_time": "2022-04-19T07:13:10.553Z"
   },
   {
    "duration": 24,
    "start_time": "2022-04-19T07:13:10.588Z"
   },
   {
    "duration": 31,
    "start_time": "2022-04-19T07:13:10.614Z"
   },
   {
    "duration": 38,
    "start_time": "2022-04-19T07:13:10.647Z"
   },
   {
    "duration": 37,
    "start_time": "2022-04-19T07:13:10.688Z"
   },
   {
    "duration": 36,
    "start_time": "2022-04-19T07:13:10.728Z"
   },
   {
    "duration": 37,
    "start_time": "2022-04-19T07:13:10.766Z"
   },
   {
    "duration": 22,
    "start_time": "2022-04-19T07:13:10.808Z"
   },
   {
    "duration": 675,
    "start_time": "2022-04-19T07:13:10.832Z"
   },
   {
    "duration": 16,
    "start_time": "2022-04-19T07:13:11.509Z"
   },
   {
    "duration": 507,
    "start_time": "2022-04-19T07:13:11.528Z"
   },
   {
    "duration": 466,
    "start_time": "2022-04-19T07:13:12.038Z"
   },
   {
    "duration": 563,
    "start_time": "2022-04-19T07:13:12.507Z"
   },
   {
    "duration": 5,
    "start_time": "2022-04-19T07:13:13.072Z"
   },
   {
    "duration": 488,
    "start_time": "2022-04-19T07:13:13.079Z"
   },
   {
    "duration": 11,
    "start_time": "2022-04-19T07:13:13.569Z"
   },
   {
    "duration": 577,
    "start_time": "2022-04-19T07:13:13.582Z"
   },
   {
    "duration": 17,
    "start_time": "2022-04-19T07:13:14.161Z"
   },
   {
    "duration": 244,
    "start_time": "2022-04-19T07:13:14.180Z"
   },
   {
    "duration": 7,
    "start_time": "2022-04-19T07:13:14.427Z"
   },
   {
    "duration": 30,
    "start_time": "2022-04-19T07:13:14.437Z"
   },
   {
    "duration": 264,
    "start_time": "2022-04-19T07:13:14.469Z"
   },
   {
    "duration": 7,
    "start_time": "2022-04-19T07:13:14.735Z"
   },
   {
    "duration": 22,
    "start_time": "2022-04-19T07:13:14.744Z"
   },
   {
    "duration": 365,
    "start_time": "2022-04-19T07:13:14.768Z"
   },
   {
    "duration": 274,
    "start_time": "2022-04-19T07:13:15.139Z"
   },
   {
    "duration": 10,
    "start_time": "2022-04-19T07:13:15.424Z"
   },
   {
    "duration": 48,
    "start_time": "2022-04-19T07:13:15.437Z"
   },
   {
    "duration": 14,
    "start_time": "2022-04-19T07:13:15.488Z"
   },
   {
    "duration": 18,
    "start_time": "2022-04-19T07:13:15.525Z"
   },
   {
    "duration": 36,
    "start_time": "2022-04-19T07:13:15.545Z"
   },
   {
    "duration": 28,
    "start_time": "2022-04-19T07:13:15.583Z"
   },
   {
    "duration": 39,
    "start_time": "2022-04-19T07:13:15.613Z"
   },
   {
    "duration": 19,
    "start_time": "2022-04-19T07:13:15.654Z"
   },
   {
    "duration": 12,
    "start_time": "2022-04-19T07:16:17.631Z"
   },
   {
    "duration": 29,
    "start_time": "2022-04-19T07:16:19.589Z"
   },
   {
    "duration": 19,
    "start_time": "2022-04-19T07:16:30.138Z"
   }
  ],
  "kernelspec": {
   "display_name": "Python 3 (ipykernel)",
   "language": "python",
   "name": "python3"
  },
  "language_info": {
   "codemirror_mode": {
    "name": "ipython",
    "version": 3
   },
   "file_extension": ".py",
   "mimetype": "text/x-python",
   "name": "python",
   "nbconvert_exporter": "python",
   "pygments_lexer": "ipython3",
   "version": "3.9.7"
  },
  "toc": {
   "base_numbering": 1,
   "nav_menu": {},
   "number_sections": true,
   "sideBar": true,
   "skip_h1_title": false,
   "title_cell": "Table of Contents",
   "title_sidebar": "Contents",
   "toc_cell": false,
   "toc_position": {
    "height": "calc(100% - 180px)",
    "left": "10px",
    "top": "150px",
    "width": "277px"
   },
   "toc_section_display": true,
   "toc_window_display": true
  }
 },
 "nbformat": 4,
 "nbformat_minor": 2
}
