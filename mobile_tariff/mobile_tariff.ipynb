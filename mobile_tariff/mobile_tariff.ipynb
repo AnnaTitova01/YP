{
 "cells": [
  {
   "cell_type": "markdown",
   "metadata": {},
   "source": [
    "**Описание проекта**"
   ]
  },
  {
   "cell_type": "markdown",
   "metadata": {},
   "source": [
    "Анализ для компании-оператора сотовой связи. Клиентам предлагают два тарифных плана: «Смарт» и «Ультра». Чтобы скорректировать рекламный бюджет, коммерческий департамент хочет понять, какой тариф приносит больше денег.\n",
    "Предстоит сделать предварительный анализ тарифов на небольшой выборке клиентов. В распоряжении данные 500 пользователей «Мегалайна»: кто они, откуда, каким тарифом пользуются, сколько звонков и сообщений каждый отправил за 2018 год. Нужно проанализировать поведение клиентов и сделать вывод — какой тариф лучше."
   ]
  },
  {
   "cell_type": "markdown",
   "metadata": {},
   "source": [
    "**1. Общая информация**"
   ]
  },
  {
   "cell_type": "code",
   "execution_count": 26,
   "metadata": {},
   "outputs": [],
   "source": [
    "import pandas as pd\n",
    "import numpy as np\n",
    "import matplotlib.pyplot as plt\n",
    "from scipy import stats as st"
   ]
  },
  {
   "cell_type": "code",
   "execution_count": 27,
   "metadata": {},
   "outputs": [
    {
     "name": "stdout",
     "output_type": "stream",
     "text": [
      "<class 'pandas.core.frame.DataFrame'>\n",
      "RangeIndex: 202607 entries, 0 to 202606\n",
      "Data columns (total 4 columns):\n",
      " #   Column     Non-Null Count   Dtype  \n",
      "---  ------     --------------   -----  \n",
      " 0   id         202607 non-null  object \n",
      " 1   call_date  202607 non-null  object \n",
      " 2   duration   202607 non-null  float64\n",
      " 3   user_id    202607 non-null  int64  \n",
      "dtypes: float64(1), int64(1), object(2)\n",
      "memory usage: 6.2+ MB\n"
     ]
    },
    {
     "data": {
      "text/html": [
       "<div>\n",
       "<style scoped>\n",
       "    .dataframe tbody tr th:only-of-type {\n",
       "        vertical-align: middle;\n",
       "    }\n",
       "\n",
       "    .dataframe tbody tr th {\n",
       "        vertical-align: top;\n",
       "    }\n",
       "\n",
       "    .dataframe thead th {\n",
       "        text-align: right;\n",
       "    }\n",
       "</style>\n",
       "<table border=\"1\" class=\"dataframe\">\n",
       "  <thead>\n",
       "    <tr style=\"text-align: right;\">\n",
       "      <th></th>\n",
       "      <th>id</th>\n",
       "      <th>call_date</th>\n",
       "      <th>duration</th>\n",
       "      <th>user_id</th>\n",
       "    </tr>\n",
       "  </thead>\n",
       "  <tbody>\n",
       "    <tr>\n",
       "      <th>0</th>\n",
       "      <td>1000_0</td>\n",
       "      <td>2018-07-25</td>\n",
       "      <td>0.00</td>\n",
       "      <td>1000</td>\n",
       "    </tr>\n",
       "    <tr>\n",
       "      <th>1</th>\n",
       "      <td>1000_1</td>\n",
       "      <td>2018-08-17</td>\n",
       "      <td>0.00</td>\n",
       "      <td>1000</td>\n",
       "    </tr>\n",
       "    <tr>\n",
       "      <th>2</th>\n",
       "      <td>1000_2</td>\n",
       "      <td>2018-06-11</td>\n",
       "      <td>2.85</td>\n",
       "      <td>1000</td>\n",
       "    </tr>\n",
       "    <tr>\n",
       "      <th>3</th>\n",
       "      <td>1000_3</td>\n",
       "      <td>2018-09-21</td>\n",
       "      <td>13.80</td>\n",
       "      <td>1000</td>\n",
       "    </tr>\n",
       "    <tr>\n",
       "      <th>4</th>\n",
       "      <td>1000_4</td>\n",
       "      <td>2018-12-15</td>\n",
       "      <td>5.18</td>\n",
       "      <td>1000</td>\n",
       "    </tr>\n",
       "  </tbody>\n",
       "</table>\n",
       "</div>"
      ],
      "text/plain": [
       "       id   call_date  duration  user_id\n",
       "0  1000_0  2018-07-25      0.00     1000\n",
       "1  1000_1  2018-08-17      0.00     1000\n",
       "2  1000_2  2018-06-11      2.85     1000\n",
       "3  1000_3  2018-09-21     13.80     1000\n",
       "4  1000_4  2018-12-15      5.18     1000"
      ]
     },
     "execution_count": 27,
     "metadata": {},
     "output_type": "execute_result"
    }
   ],
   "source": [
    "data_calls = pd.read_csv('calls.csv')\n",
    "data_calls.info()\n",
    "data_calls.head()"
   ]
  },
  {
   "cell_type": "code",
   "execution_count": 28,
   "metadata": {},
   "outputs": [
    {
     "name": "stdout",
     "output_type": "stream",
     "text": [
      "<class 'pandas.core.frame.DataFrame'>\n",
      "RangeIndex: 149396 entries, 0 to 149395\n",
      "Data columns (total 5 columns):\n",
      " #   Column        Non-Null Count   Dtype  \n",
      "---  ------        --------------   -----  \n",
      " 0   Unnamed: 0    149396 non-null  int64  \n",
      " 1   id            149396 non-null  object \n",
      " 2   mb_used       149396 non-null  float64\n",
      " 3   session_date  149396 non-null  object \n",
      " 4   user_id       149396 non-null  int64  \n",
      "dtypes: float64(1), int64(2), object(2)\n",
      "memory usage: 5.7+ MB\n"
     ]
    },
    {
     "data": {
      "text/html": [
       "<div>\n",
       "<style scoped>\n",
       "    .dataframe tbody tr th:only-of-type {\n",
       "        vertical-align: middle;\n",
       "    }\n",
       "\n",
       "    .dataframe tbody tr th {\n",
       "        vertical-align: top;\n",
       "    }\n",
       "\n",
       "    .dataframe thead th {\n",
       "        text-align: right;\n",
       "    }\n",
       "</style>\n",
       "<table border=\"1\" class=\"dataframe\">\n",
       "  <thead>\n",
       "    <tr style=\"text-align: right;\">\n",
       "      <th></th>\n",
       "      <th>Unnamed: 0</th>\n",
       "      <th>id</th>\n",
       "      <th>mb_used</th>\n",
       "      <th>session_date</th>\n",
       "      <th>user_id</th>\n",
       "    </tr>\n",
       "  </thead>\n",
       "  <tbody>\n",
       "    <tr>\n",
       "      <th>0</th>\n",
       "      <td>0</td>\n",
       "      <td>1000_0</td>\n",
       "      <td>112.95</td>\n",
       "      <td>2018-11-25</td>\n",
       "      <td>1000</td>\n",
       "    </tr>\n",
       "    <tr>\n",
       "      <th>1</th>\n",
       "      <td>1</td>\n",
       "      <td>1000_1</td>\n",
       "      <td>1052.81</td>\n",
       "      <td>2018-09-07</td>\n",
       "      <td>1000</td>\n",
       "    </tr>\n",
       "    <tr>\n",
       "      <th>2</th>\n",
       "      <td>2</td>\n",
       "      <td>1000_2</td>\n",
       "      <td>1197.26</td>\n",
       "      <td>2018-06-25</td>\n",
       "      <td>1000</td>\n",
       "    </tr>\n",
       "    <tr>\n",
       "      <th>3</th>\n",
       "      <td>3</td>\n",
       "      <td>1000_3</td>\n",
       "      <td>550.27</td>\n",
       "      <td>2018-08-22</td>\n",
       "      <td>1000</td>\n",
       "    </tr>\n",
       "    <tr>\n",
       "      <th>4</th>\n",
       "      <td>4</td>\n",
       "      <td>1000_4</td>\n",
       "      <td>302.56</td>\n",
       "      <td>2018-09-24</td>\n",
       "      <td>1000</td>\n",
       "    </tr>\n",
       "  </tbody>\n",
       "</table>\n",
       "</div>"
      ],
      "text/plain": [
       "   Unnamed: 0      id  mb_used session_date  user_id\n",
       "0           0  1000_0   112.95   2018-11-25     1000\n",
       "1           1  1000_1  1052.81   2018-09-07     1000\n",
       "2           2  1000_2  1197.26   2018-06-25     1000\n",
       "3           3  1000_3   550.27   2018-08-22     1000\n",
       "4           4  1000_4   302.56   2018-09-24     1000"
      ]
     },
     "execution_count": 28,
     "metadata": {},
     "output_type": "execute_result"
    }
   ],
   "source": [
    "data_internet = pd.read_csv('internet.csv')\n",
    "data_internet.info()\n",
    "data_internet.head()\n"
   ]
  },
  {
   "cell_type": "code",
   "execution_count": 29,
   "metadata": {},
   "outputs": [
    {
     "name": "stdout",
     "output_type": "stream",
     "text": [
      "<class 'pandas.core.frame.DataFrame'>\n",
      "RangeIndex: 123036 entries, 0 to 123035\n",
      "Data columns (total 3 columns):\n",
      " #   Column        Non-Null Count   Dtype \n",
      "---  ------        --------------   ----- \n",
      " 0   id            123036 non-null  object\n",
      " 1   message_date  123036 non-null  object\n",
      " 2   user_id       123036 non-null  int64 \n",
      "dtypes: int64(1), object(2)\n",
      "memory usage: 2.8+ MB\n"
     ]
    },
    {
     "data": {
      "text/html": [
       "<div>\n",
       "<style scoped>\n",
       "    .dataframe tbody tr th:only-of-type {\n",
       "        vertical-align: middle;\n",
       "    }\n",
       "\n",
       "    .dataframe tbody tr th {\n",
       "        vertical-align: top;\n",
       "    }\n",
       "\n",
       "    .dataframe thead th {\n",
       "        text-align: right;\n",
       "    }\n",
       "</style>\n",
       "<table border=\"1\" class=\"dataframe\">\n",
       "  <thead>\n",
       "    <tr style=\"text-align: right;\">\n",
       "      <th></th>\n",
       "      <th>id</th>\n",
       "      <th>message_date</th>\n",
       "      <th>user_id</th>\n",
       "    </tr>\n",
       "  </thead>\n",
       "  <tbody>\n",
       "    <tr>\n",
       "      <th>0</th>\n",
       "      <td>1000_0</td>\n",
       "      <td>2018-06-27</td>\n",
       "      <td>1000</td>\n",
       "    </tr>\n",
       "    <tr>\n",
       "      <th>1</th>\n",
       "      <td>1000_1</td>\n",
       "      <td>2018-10-08</td>\n",
       "      <td>1000</td>\n",
       "    </tr>\n",
       "    <tr>\n",
       "      <th>2</th>\n",
       "      <td>1000_2</td>\n",
       "      <td>2018-08-04</td>\n",
       "      <td>1000</td>\n",
       "    </tr>\n",
       "    <tr>\n",
       "      <th>3</th>\n",
       "      <td>1000_3</td>\n",
       "      <td>2018-06-16</td>\n",
       "      <td>1000</td>\n",
       "    </tr>\n",
       "    <tr>\n",
       "      <th>4</th>\n",
       "      <td>1000_4</td>\n",
       "      <td>2018-12-05</td>\n",
       "      <td>1000</td>\n",
       "    </tr>\n",
       "  </tbody>\n",
       "</table>\n",
       "</div>"
      ],
      "text/plain": [
       "       id message_date  user_id\n",
       "0  1000_0   2018-06-27     1000\n",
       "1  1000_1   2018-10-08     1000\n",
       "2  1000_2   2018-08-04     1000\n",
       "3  1000_3   2018-06-16     1000\n",
       "4  1000_4   2018-12-05     1000"
      ]
     },
     "execution_count": 29,
     "metadata": {},
     "output_type": "execute_result"
    }
   ],
   "source": [
    "data_messages = pd.read_csv('messages.csv')\n",
    "data_messages.info()\n",
    "data_messages.head()\n"
   ]
  },
  {
   "cell_type": "code",
   "execution_count": 30,
   "metadata": {},
   "outputs": [
    {
     "data": {
      "text/html": [
       "<div>\n",
       "<style scoped>\n",
       "    .dataframe tbody tr th:only-of-type {\n",
       "        vertical-align: middle;\n",
       "    }\n",
       "\n",
       "    .dataframe tbody tr th {\n",
       "        vertical-align: top;\n",
       "    }\n",
       "\n",
       "    .dataframe thead th {\n",
       "        text-align: right;\n",
       "    }\n",
       "</style>\n",
       "<table border=\"1\" class=\"dataframe\">\n",
       "  <thead>\n",
       "    <tr style=\"text-align: right;\">\n",
       "      <th></th>\n",
       "      <th>messages_included</th>\n",
       "      <th>mb_per_month_included</th>\n",
       "      <th>minutes_included</th>\n",
       "      <th>rub_monthly_fee</th>\n",
       "      <th>rub_per_gb</th>\n",
       "      <th>rub_per_message</th>\n",
       "      <th>rub_per_minute</th>\n",
       "      <th>tariff_name</th>\n",
       "    </tr>\n",
       "  </thead>\n",
       "  <tbody>\n",
       "    <tr>\n",
       "      <th>0</th>\n",
       "      <td>50</td>\n",
       "      <td>15360</td>\n",
       "      <td>500</td>\n",
       "      <td>550</td>\n",
       "      <td>200</td>\n",
       "      <td>3</td>\n",
       "      <td>3</td>\n",
       "      <td>smart</td>\n",
       "    </tr>\n",
       "    <tr>\n",
       "      <th>1</th>\n",
       "      <td>1000</td>\n",
       "      <td>30720</td>\n",
       "      <td>3000</td>\n",
       "      <td>1950</td>\n",
       "      <td>150</td>\n",
       "      <td>1</td>\n",
       "      <td>1</td>\n",
       "      <td>ultra</td>\n",
       "    </tr>\n",
       "  </tbody>\n",
       "</table>\n",
       "</div>"
      ],
      "text/plain": [
       "   messages_included  mb_per_month_included  minutes_included  \\\n",
       "0                 50                  15360               500   \n",
       "1               1000                  30720              3000   \n",
       "\n",
       "   rub_monthly_fee  rub_per_gb  rub_per_message  rub_per_minute tariff_name  \n",
       "0              550         200                3               3       smart  \n",
       "1             1950         150                1               1       ultra  "
      ]
     },
     "execution_count": 30,
     "metadata": {},
     "output_type": "execute_result"
    }
   ],
   "source": [
    "data_tariffs = pd.read_csv('tariffs.csv')\n",
    "data_tariffs.head()"
   ]
  },
  {
   "cell_type": "code",
   "execution_count": 31,
   "metadata": {},
   "outputs": [
    {
     "name": "stdout",
     "output_type": "stream",
     "text": [
      "<class 'pandas.core.frame.DataFrame'>\n",
      "RangeIndex: 500 entries, 0 to 499\n",
      "Data columns (total 8 columns):\n",
      " #   Column      Non-Null Count  Dtype \n",
      "---  ------      --------------  ----- \n",
      " 0   user_id     500 non-null    int64 \n",
      " 1   age         500 non-null    int64 \n",
      " 2   churn_date  38 non-null     object\n",
      " 3   city        500 non-null    object\n",
      " 4   first_name  500 non-null    object\n",
      " 5   last_name   500 non-null    object\n",
      " 6   reg_date    500 non-null    object\n",
      " 7   tariff      500 non-null    object\n",
      "dtypes: int64(2), object(6)\n",
      "memory usage: 31.4+ KB\n"
     ]
    },
    {
     "data": {
      "text/html": [
       "<div>\n",
       "<style scoped>\n",
       "    .dataframe tbody tr th:only-of-type {\n",
       "        vertical-align: middle;\n",
       "    }\n",
       "\n",
       "    .dataframe tbody tr th {\n",
       "        vertical-align: top;\n",
       "    }\n",
       "\n",
       "    .dataframe thead th {\n",
       "        text-align: right;\n",
       "    }\n",
       "</style>\n",
       "<table border=\"1\" class=\"dataframe\">\n",
       "  <thead>\n",
       "    <tr style=\"text-align: right;\">\n",
       "      <th></th>\n",
       "      <th>user_id</th>\n",
       "      <th>age</th>\n",
       "      <th>churn_date</th>\n",
       "      <th>city</th>\n",
       "      <th>first_name</th>\n",
       "      <th>last_name</th>\n",
       "      <th>reg_date</th>\n",
       "      <th>tariff</th>\n",
       "    </tr>\n",
       "  </thead>\n",
       "  <tbody>\n",
       "    <tr>\n",
       "      <th>0</th>\n",
       "      <td>1000</td>\n",
       "      <td>52</td>\n",
       "      <td>NaN</td>\n",
       "      <td>Краснодар</td>\n",
       "      <td>Рафаил</td>\n",
       "      <td>Верещагин</td>\n",
       "      <td>2018-05-25</td>\n",
       "      <td>ultra</td>\n",
       "    </tr>\n",
       "    <tr>\n",
       "      <th>1</th>\n",
       "      <td>1001</td>\n",
       "      <td>41</td>\n",
       "      <td>NaN</td>\n",
       "      <td>Москва</td>\n",
       "      <td>Иван</td>\n",
       "      <td>Ежов</td>\n",
       "      <td>2018-11-01</td>\n",
       "      <td>smart</td>\n",
       "    </tr>\n",
       "    <tr>\n",
       "      <th>2</th>\n",
       "      <td>1002</td>\n",
       "      <td>59</td>\n",
       "      <td>NaN</td>\n",
       "      <td>Стерлитамак</td>\n",
       "      <td>Евгений</td>\n",
       "      <td>Абрамович</td>\n",
       "      <td>2018-06-17</td>\n",
       "      <td>smart</td>\n",
       "    </tr>\n",
       "    <tr>\n",
       "      <th>3</th>\n",
       "      <td>1003</td>\n",
       "      <td>23</td>\n",
       "      <td>NaN</td>\n",
       "      <td>Москва</td>\n",
       "      <td>Белла</td>\n",
       "      <td>Белякова</td>\n",
       "      <td>2018-08-17</td>\n",
       "      <td>ultra</td>\n",
       "    </tr>\n",
       "    <tr>\n",
       "      <th>4</th>\n",
       "      <td>1004</td>\n",
       "      <td>68</td>\n",
       "      <td>NaN</td>\n",
       "      <td>Новокузнецк</td>\n",
       "      <td>Татьяна</td>\n",
       "      <td>Авдеенко</td>\n",
       "      <td>2018-05-14</td>\n",
       "      <td>ultra</td>\n",
       "    </tr>\n",
       "  </tbody>\n",
       "</table>\n",
       "</div>"
      ],
      "text/plain": [
       "   user_id  age churn_date         city first_name  last_name    reg_date  \\\n",
       "0     1000   52        NaN    Краснодар     Рафаил  Верещагин  2018-05-25   \n",
       "1     1001   41        NaN       Москва       Иван       Ежов  2018-11-01   \n",
       "2     1002   59        NaN  Стерлитамак    Евгений  Абрамович  2018-06-17   \n",
       "3     1003   23        NaN       Москва      Белла   Белякова  2018-08-17   \n",
       "4     1004   68        NaN  Новокузнецк    Татьяна   Авдеенко  2018-05-14   \n",
       "\n",
       "  tariff  \n",
       "0  ultra  \n",
       "1  smart  \n",
       "2  smart  \n",
       "3  ultra  \n",
       "4  ultra  "
      ]
     },
     "execution_count": 31,
     "metadata": {},
     "output_type": "execute_result"
    }
   ],
   "source": [
    "data_users = pd.read_csv('users.csv')\n",
    "data_users.info()\n",
    "data_users.head()"
   ]
  },
  {
   "cell_type": "markdown",
   "metadata": {},
   "source": [
    "Во всех датасетах названия колонок в нижнем \"змеином\" регистре (За исключением одного - о нем позже). Пропусков нет, за исключением таблицы с пользователями. Там 462 пропуска в колонке churn_date, однако в инструкции к проекту есть указание, что если там пропуск, значит тариф действовал на момент выгрузки данных. В датасете интернет есть столбец Unnamed:0. Не ясно, что это означает, однако по значеним столбца можно увидеть, что они дублируют нумерацию строк в датасете. В предобработке я этот столбец удалю. Его наличие или отсутсвие по всей видимости не будет влиять на исследование, думаю, лучше его удалить, чтоб он не \"загрязнял эфир\". Так как предстоит считать по месяцам, я приведу к нужному формату значения в колонках дата в датасетах звонки, сообщения и интернет. В датасете звонки я округлю значения в колонке duration до минут, а в интернете - mb_used до гигабайта и все переведу в целочисленный тип данных. В датасете тарифы я переведу мб в гб, округлю вниз и также переведу в целочисленный. Также переименую колонку tariff_name на tariff (как в других датасетах), так как по ней, возможно, буду делать объединение."
   ]
  },
  {
   "cell_type": "markdown",
   "metadata": {},
   "source": [
    "**2.1. Предобработка данных**"
   ]
  },
  {
   "cell_type": "markdown",
   "metadata": {},
   "source": [
    "Перевожу колонки даты в датасетах звонки, сообщения и интернет методом to_datetime(). Добавляю ко всем колонку с номером месяца (month). Проверяю методом head(), что все добавилось."
   ]
  },
  {
   "cell_type": "code",
   "execution_count": 32,
   "metadata": {},
   "outputs": [
    {
     "data": {
      "text/html": [
       "<div>\n",
       "<style scoped>\n",
       "    .dataframe tbody tr th:only-of-type {\n",
       "        vertical-align: middle;\n",
       "    }\n",
       "\n",
       "    .dataframe tbody tr th {\n",
       "        vertical-align: top;\n",
       "    }\n",
       "\n",
       "    .dataframe thead th {\n",
       "        text-align: right;\n",
       "    }\n",
       "</style>\n",
       "<table border=\"1\" class=\"dataframe\">\n",
       "  <thead>\n",
       "    <tr style=\"text-align: right;\">\n",
       "      <th></th>\n",
       "      <th>Unnamed: 0</th>\n",
       "      <th>id</th>\n",
       "      <th>mb_used</th>\n",
       "      <th>session_date</th>\n",
       "      <th>user_id</th>\n",
       "      <th>month</th>\n",
       "    </tr>\n",
       "  </thead>\n",
       "  <tbody>\n",
       "    <tr>\n",
       "      <th>0</th>\n",
       "      <td>0</td>\n",
       "      <td>1000_0</td>\n",
       "      <td>112.95</td>\n",
       "      <td>2018-11-25</td>\n",
       "      <td>1000</td>\n",
       "      <td>11</td>\n",
       "    </tr>\n",
       "    <tr>\n",
       "      <th>1</th>\n",
       "      <td>1</td>\n",
       "      <td>1000_1</td>\n",
       "      <td>1052.81</td>\n",
       "      <td>2018-09-07</td>\n",
       "      <td>1000</td>\n",
       "      <td>9</td>\n",
       "    </tr>\n",
       "    <tr>\n",
       "      <th>2</th>\n",
       "      <td>2</td>\n",
       "      <td>1000_2</td>\n",
       "      <td>1197.26</td>\n",
       "      <td>2018-06-25</td>\n",
       "      <td>1000</td>\n",
       "      <td>6</td>\n",
       "    </tr>\n",
       "    <tr>\n",
       "      <th>3</th>\n",
       "      <td>3</td>\n",
       "      <td>1000_3</td>\n",
       "      <td>550.27</td>\n",
       "      <td>2018-08-22</td>\n",
       "      <td>1000</td>\n",
       "      <td>8</td>\n",
       "    </tr>\n",
       "    <tr>\n",
       "      <th>4</th>\n",
       "      <td>4</td>\n",
       "      <td>1000_4</td>\n",
       "      <td>302.56</td>\n",
       "      <td>2018-09-24</td>\n",
       "      <td>1000</td>\n",
       "      <td>9</td>\n",
       "    </tr>\n",
       "  </tbody>\n",
       "</table>\n",
       "</div>"
      ],
      "text/plain": [
       "   Unnamed: 0      id  mb_used session_date  user_id  month\n",
       "0           0  1000_0   112.95   2018-11-25     1000     11\n",
       "1           1  1000_1  1052.81   2018-09-07     1000      9\n",
       "2           2  1000_2  1197.26   2018-06-25     1000      6\n",
       "3           3  1000_3   550.27   2018-08-22     1000      8\n",
       "4           4  1000_4   302.56   2018-09-24     1000      9"
      ]
     },
     "execution_count": 32,
     "metadata": {},
     "output_type": "execute_result"
    }
   ],
   "source": [
    "data_calls['call_date'] = pd.to_datetime(data_calls['call_date'], format='%Y-%m-%d %H:%M')\n",
    "data_messages['message_date'] = pd.to_datetime(data_messages['message_date'], format='%Y-%m-%d %H:%M')\n",
    "data_internet['session_date'] = pd.to_datetime(data_internet['session_date'], format='%Y-%m-%d %H:%M')\n",
    "data_calls['month'] = data_calls['call_date'].dt.month\n",
    "data_messages['month'] = data_messages['message_date'].dt.month\n",
    "data_internet['month'] = data_internet['session_date'].dt.month\n",
    "data_internet.head()\n"
   ]
  },
  {
   "cell_type": "markdown",
   "metadata": {},
   "source": [
    "Перед округлением трафика до гб нахожу сумму трафика по месяцам, так как считаются не отдельные сессии, а трафик за месяц."
   ]
  },
  {
   "cell_type": "code",
   "execution_count": 33,
   "metadata": {
    "scrolled": true
   },
   "outputs": [
    {
     "data": {
      "text/html": [
       "<div>\n",
       "<style scoped>\n",
       "    .dataframe tbody tr th:only-of-type {\n",
       "        vertical-align: middle;\n",
       "    }\n",
       "\n",
       "    .dataframe tbody tr th {\n",
       "        vertical-align: top;\n",
       "    }\n",
       "\n",
       "    .dataframe thead th {\n",
       "        text-align: right;\n",
       "    }\n",
       "</style>\n",
       "<table border=\"1\" class=\"dataframe\">\n",
       "  <thead>\n",
       "    <tr style=\"text-align: right;\">\n",
       "      <th></th>\n",
       "      <th></th>\n",
       "      <th>mb_month_sum</th>\n",
       "    </tr>\n",
       "    <tr>\n",
       "      <th>user_id</th>\n",
       "      <th>month</th>\n",
       "      <th></th>\n",
       "    </tr>\n",
       "  </thead>\n",
       "  <tbody>\n",
       "    <tr>\n",
       "      <th rowspan=\"5\" valign=\"top\">1000</th>\n",
       "      <th>5</th>\n",
       "      <td>2253.49</td>\n",
       "    </tr>\n",
       "    <tr>\n",
       "      <th>6</th>\n",
       "      <td>23233.77</td>\n",
       "    </tr>\n",
       "    <tr>\n",
       "      <th>7</th>\n",
       "      <td>14003.64</td>\n",
       "    </tr>\n",
       "    <tr>\n",
       "      <th>8</th>\n",
       "      <td>14055.93</td>\n",
       "    </tr>\n",
       "    <tr>\n",
       "      <th>9</th>\n",
       "      <td>14568.91</td>\n",
       "    </tr>\n",
       "    <tr>\n",
       "      <th>...</th>\n",
       "      <th>...</th>\n",
       "      <td>...</td>\n",
       "    </tr>\n",
       "    <tr>\n",
       "      <th>1498</th>\n",
       "      <th>10</th>\n",
       "      <td>20579.36</td>\n",
       "    </tr>\n",
       "    <tr>\n",
       "      <th rowspan=\"4\" valign=\"top\">1499</th>\n",
       "      <th>9</th>\n",
       "      <td>1845.75</td>\n",
       "    </tr>\n",
       "    <tr>\n",
       "      <th>10</th>\n",
       "      <td>17788.51</td>\n",
       "    </tr>\n",
       "    <tr>\n",
       "      <th>11</th>\n",
       "      <td>17963.31</td>\n",
       "    </tr>\n",
       "    <tr>\n",
       "      <th>12</th>\n",
       "      <td>13055.58</td>\n",
       "    </tr>\n",
       "  </tbody>\n",
       "</table>\n",
       "<p>3203 rows × 1 columns</p>\n",
       "</div>"
      ],
      "text/plain": [
       "               mb_month_sum\n",
       "user_id month              \n",
       "1000    5           2253.49\n",
       "        6          23233.77\n",
       "        7          14003.64\n",
       "        8          14055.93\n",
       "        9          14568.91\n",
       "...                     ...\n",
       "1498    10         20579.36\n",
       "1499    9           1845.75\n",
       "        10         17788.51\n",
       "        11         17963.31\n",
       "        12         13055.58\n",
       "\n",
       "[3203 rows x 1 columns]"
      ]
     },
     "execution_count": 33,
     "metadata": {},
     "output_type": "execute_result"
    }
   ],
   "source": [
    "mb = data_internet.pivot_table(index=['user_id','month'], values='mb_used', aggfunc='sum')\n",
    "mb = mb.rename(columns={'mb_used':'mb_month_sum'})\n",
    "mb"
   ]
  },
  {
   "cell_type": "markdown",
   "metadata": {},
   "source": [
    "И добавлю подсчеты к таблице с интернетом"
   ]
  },
  {
   "cell_type": "code",
   "execution_count": 34,
   "metadata": {},
   "outputs": [
    {
     "data": {
      "text/html": [
       "<div>\n",
       "<style scoped>\n",
       "    .dataframe tbody tr th:only-of-type {\n",
       "        vertical-align: middle;\n",
       "    }\n",
       "\n",
       "    .dataframe tbody tr th {\n",
       "        vertical-align: top;\n",
       "    }\n",
       "\n",
       "    .dataframe thead th {\n",
       "        text-align: right;\n",
       "    }\n",
       "</style>\n",
       "<table border=\"1\" class=\"dataframe\">\n",
       "  <thead>\n",
       "    <tr style=\"text-align: right;\">\n",
       "      <th></th>\n",
       "      <th>Unnamed: 0</th>\n",
       "      <th>id</th>\n",
       "      <th>mb_used</th>\n",
       "      <th>session_date</th>\n",
       "      <th>user_id</th>\n",
       "      <th>month</th>\n",
       "      <th>mb_month_sum</th>\n",
       "    </tr>\n",
       "  </thead>\n",
       "  <tbody>\n",
       "    <tr>\n",
       "      <th>0</th>\n",
       "      <td>0</td>\n",
       "      <td>1000_0</td>\n",
       "      <td>112.95</td>\n",
       "      <td>2018-11-25</td>\n",
       "      <td>1000</td>\n",
       "      <td>11</td>\n",
       "      <td>14756.47</td>\n",
       "    </tr>\n",
       "    <tr>\n",
       "      <th>1</th>\n",
       "      <td>18</td>\n",
       "      <td>1000_18</td>\n",
       "      <td>658.10</td>\n",
       "      <td>2018-11-01</td>\n",
       "      <td>1000</td>\n",
       "      <td>11</td>\n",
       "      <td>14756.47</td>\n",
       "    </tr>\n",
       "    <tr>\n",
       "      <th>2</th>\n",
       "      <td>19</td>\n",
       "      <td>1000_19</td>\n",
       "      <td>452.73</td>\n",
       "      <td>2018-11-28</td>\n",
       "      <td>1000</td>\n",
       "      <td>11</td>\n",
       "      <td>14756.47</td>\n",
       "    </tr>\n",
       "    <tr>\n",
       "      <th>3</th>\n",
       "      <td>26</td>\n",
       "      <td>1000_26</td>\n",
       "      <td>951.38</td>\n",
       "      <td>2018-11-06</td>\n",
       "      <td>1000</td>\n",
       "      <td>11</td>\n",
       "      <td>14756.47</td>\n",
       "    </tr>\n",
       "    <tr>\n",
       "      <th>4</th>\n",
       "      <td>29</td>\n",
       "      <td>1000_29</td>\n",
       "      <td>622.43</td>\n",
       "      <td>2018-11-15</td>\n",
       "      <td>1000</td>\n",
       "      <td>11</td>\n",
       "      <td>14756.47</td>\n",
       "    </tr>\n",
       "    <tr>\n",
       "      <th>...</th>\n",
       "      <td>...</td>\n",
       "      <td>...</td>\n",
       "      <td>...</td>\n",
       "      <td>...</td>\n",
       "      <td>...</td>\n",
       "      <td>...</td>\n",
       "      <td>...</td>\n",
       "    </tr>\n",
       "    <tr>\n",
       "      <th>149391</th>\n",
       "      <td>149249</td>\n",
       "      <td>1499_10</td>\n",
       "      <td>0.00</td>\n",
       "      <td>2018-09-29</td>\n",
       "      <td>1499</td>\n",
       "      <td>9</td>\n",
       "      <td>1845.75</td>\n",
       "    </tr>\n",
       "    <tr>\n",
       "      <th>149392</th>\n",
       "      <td>149297</td>\n",
       "      <td>1499_58</td>\n",
       "      <td>6.56</td>\n",
       "      <td>2018-09-28</td>\n",
       "      <td>1499</td>\n",
       "      <td>9</td>\n",
       "      <td>1845.75</td>\n",
       "    </tr>\n",
       "    <tr>\n",
       "      <th>149393</th>\n",
       "      <td>149337</td>\n",
       "      <td>1499_98</td>\n",
       "      <td>1138.32</td>\n",
       "      <td>2018-09-29</td>\n",
       "      <td>1499</td>\n",
       "      <td>9</td>\n",
       "      <td>1845.75</td>\n",
       "    </tr>\n",
       "    <tr>\n",
       "      <th>149394</th>\n",
       "      <td>149351</td>\n",
       "      <td>1499_112</td>\n",
       "      <td>339.69</td>\n",
       "      <td>2018-09-29</td>\n",
       "      <td>1499</td>\n",
       "      <td>9</td>\n",
       "      <td>1845.75</td>\n",
       "    </tr>\n",
       "    <tr>\n",
       "      <th>149395</th>\n",
       "      <td>149374</td>\n",
       "      <td>1499_135</td>\n",
       "      <td>361.18</td>\n",
       "      <td>2018-09-30</td>\n",
       "      <td>1499</td>\n",
       "      <td>9</td>\n",
       "      <td>1845.75</td>\n",
       "    </tr>\n",
       "  </tbody>\n",
       "</table>\n",
       "<p>149396 rows × 7 columns</p>\n",
       "</div>"
      ],
      "text/plain": [
       "        Unnamed: 0        id  mb_used session_date  user_id  month  \\\n",
       "0                0    1000_0   112.95   2018-11-25     1000     11   \n",
       "1               18   1000_18   658.10   2018-11-01     1000     11   \n",
       "2               19   1000_19   452.73   2018-11-28     1000     11   \n",
       "3               26   1000_26   951.38   2018-11-06     1000     11   \n",
       "4               29   1000_29   622.43   2018-11-15     1000     11   \n",
       "...            ...       ...      ...          ...      ...    ...   \n",
       "149391      149249   1499_10     0.00   2018-09-29     1499      9   \n",
       "149392      149297   1499_58     6.56   2018-09-28     1499      9   \n",
       "149393      149337   1499_98  1138.32   2018-09-29     1499      9   \n",
       "149394      149351  1499_112   339.69   2018-09-29     1499      9   \n",
       "149395      149374  1499_135   361.18   2018-09-30     1499      9   \n",
       "\n",
       "        mb_month_sum  \n",
       "0           14756.47  \n",
       "1           14756.47  \n",
       "2           14756.47  \n",
       "3           14756.47  \n",
       "4           14756.47  \n",
       "...              ...  \n",
       "149391       1845.75  \n",
       "149392       1845.75  \n",
       "149393       1845.75  \n",
       "149394       1845.75  \n",
       "149395       1845.75  \n",
       "\n",
       "[149396 rows x 7 columns]"
      ]
     },
     "execution_count": 34,
     "metadata": {},
     "output_type": "execute_result"
    }
   ],
   "source": [
    "data_internet = data_internet.merge(mb, on=['user_id','month'])\n",
    "data_internet\n"
   ]
  },
  {
   "cell_type": "code",
   "execution_count": 35,
   "metadata": {
    "scrolled": true
   },
   "outputs": [
    {
     "data": {
      "text/html": [
       "<div>\n",
       "<style scoped>\n",
       "    .dataframe tbody tr th:only-of-type {\n",
       "        vertical-align: middle;\n",
       "    }\n",
       "\n",
       "    .dataframe tbody tr th {\n",
       "        vertical-align: top;\n",
       "    }\n",
       "\n",
       "    .dataframe thead th {\n",
       "        text-align: right;\n",
       "    }\n",
       "</style>\n",
       "<table border=\"1\" class=\"dataframe\">\n",
       "  <thead>\n",
       "    <tr style=\"text-align: right;\">\n",
       "      <th></th>\n",
       "      <th>Unnamed: 0</th>\n",
       "      <th>id</th>\n",
       "      <th>mb_used</th>\n",
       "      <th>session_date</th>\n",
       "      <th>user_id</th>\n",
       "      <th>month</th>\n",
       "      <th>mb_month_sum</th>\n",
       "      <th>gb_used</th>\n",
       "    </tr>\n",
       "  </thead>\n",
       "  <tbody>\n",
       "    <tr>\n",
       "      <th>0</th>\n",
       "      <td>0</td>\n",
       "      <td>1000_0</td>\n",
       "      <td>112.95</td>\n",
       "      <td>2018-11-25</td>\n",
       "      <td>1000</td>\n",
       "      <td>11</td>\n",
       "      <td>14756.47</td>\n",
       "      <td>15</td>\n",
       "    </tr>\n",
       "    <tr>\n",
       "      <th>1</th>\n",
       "      <td>18</td>\n",
       "      <td>1000_18</td>\n",
       "      <td>658.10</td>\n",
       "      <td>2018-11-01</td>\n",
       "      <td>1000</td>\n",
       "      <td>11</td>\n",
       "      <td>14756.47</td>\n",
       "      <td>15</td>\n",
       "    </tr>\n",
       "    <tr>\n",
       "      <th>2</th>\n",
       "      <td>19</td>\n",
       "      <td>1000_19</td>\n",
       "      <td>452.73</td>\n",
       "      <td>2018-11-28</td>\n",
       "      <td>1000</td>\n",
       "      <td>11</td>\n",
       "      <td>14756.47</td>\n",
       "      <td>15</td>\n",
       "    </tr>\n",
       "    <tr>\n",
       "      <th>3</th>\n",
       "      <td>26</td>\n",
       "      <td>1000_26</td>\n",
       "      <td>951.38</td>\n",
       "      <td>2018-11-06</td>\n",
       "      <td>1000</td>\n",
       "      <td>11</td>\n",
       "      <td>14756.47</td>\n",
       "      <td>15</td>\n",
       "    </tr>\n",
       "    <tr>\n",
       "      <th>4</th>\n",
       "      <td>29</td>\n",
       "      <td>1000_29</td>\n",
       "      <td>622.43</td>\n",
       "      <td>2018-11-15</td>\n",
       "      <td>1000</td>\n",
       "      <td>11</td>\n",
       "      <td>14756.47</td>\n",
       "      <td>15</td>\n",
       "    </tr>\n",
       "    <tr>\n",
       "      <th>...</th>\n",
       "      <td>...</td>\n",
       "      <td>...</td>\n",
       "      <td>...</td>\n",
       "      <td>...</td>\n",
       "      <td>...</td>\n",
       "      <td>...</td>\n",
       "      <td>...</td>\n",
       "      <td>...</td>\n",
       "    </tr>\n",
       "    <tr>\n",
       "      <th>149391</th>\n",
       "      <td>149249</td>\n",
       "      <td>1499_10</td>\n",
       "      <td>0.00</td>\n",
       "      <td>2018-09-29</td>\n",
       "      <td>1499</td>\n",
       "      <td>9</td>\n",
       "      <td>1845.75</td>\n",
       "      <td>2</td>\n",
       "    </tr>\n",
       "    <tr>\n",
       "      <th>149392</th>\n",
       "      <td>149297</td>\n",
       "      <td>1499_58</td>\n",
       "      <td>6.56</td>\n",
       "      <td>2018-09-28</td>\n",
       "      <td>1499</td>\n",
       "      <td>9</td>\n",
       "      <td>1845.75</td>\n",
       "      <td>2</td>\n",
       "    </tr>\n",
       "    <tr>\n",
       "      <th>149393</th>\n",
       "      <td>149337</td>\n",
       "      <td>1499_98</td>\n",
       "      <td>1138.32</td>\n",
       "      <td>2018-09-29</td>\n",
       "      <td>1499</td>\n",
       "      <td>9</td>\n",
       "      <td>1845.75</td>\n",
       "      <td>2</td>\n",
       "    </tr>\n",
       "    <tr>\n",
       "      <th>149394</th>\n",
       "      <td>149351</td>\n",
       "      <td>1499_112</td>\n",
       "      <td>339.69</td>\n",
       "      <td>2018-09-29</td>\n",
       "      <td>1499</td>\n",
       "      <td>9</td>\n",
       "      <td>1845.75</td>\n",
       "      <td>2</td>\n",
       "    </tr>\n",
       "    <tr>\n",
       "      <th>149395</th>\n",
       "      <td>149374</td>\n",
       "      <td>1499_135</td>\n",
       "      <td>361.18</td>\n",
       "      <td>2018-09-30</td>\n",
       "      <td>1499</td>\n",
       "      <td>9</td>\n",
       "      <td>1845.75</td>\n",
       "      <td>2</td>\n",
       "    </tr>\n",
       "  </tbody>\n",
       "</table>\n",
       "<p>149396 rows × 8 columns</p>\n",
       "</div>"
      ],
      "text/plain": [
       "        Unnamed: 0        id  mb_used session_date  user_id  month  \\\n",
       "0                0    1000_0   112.95   2018-11-25     1000     11   \n",
       "1               18   1000_18   658.10   2018-11-01     1000     11   \n",
       "2               19   1000_19   452.73   2018-11-28     1000     11   \n",
       "3               26   1000_26   951.38   2018-11-06     1000     11   \n",
       "4               29   1000_29   622.43   2018-11-15     1000     11   \n",
       "...            ...       ...      ...          ...      ...    ...   \n",
       "149391      149249   1499_10     0.00   2018-09-29     1499      9   \n",
       "149392      149297   1499_58     6.56   2018-09-28     1499      9   \n",
       "149393      149337   1499_98  1138.32   2018-09-29     1499      9   \n",
       "149394      149351  1499_112   339.69   2018-09-29     1499      9   \n",
       "149395      149374  1499_135   361.18   2018-09-30     1499      9   \n",
       "\n",
       "        mb_month_sum  gb_used  \n",
       "0           14756.47       15  \n",
       "1           14756.47       15  \n",
       "2           14756.47       15  \n",
       "3           14756.47       15  \n",
       "4           14756.47       15  \n",
       "...              ...      ...  \n",
       "149391       1845.75        2  \n",
       "149392       1845.75        2  \n",
       "149393       1845.75        2  \n",
       "149394       1845.75        2  \n",
       "149395       1845.75        2  \n",
       "\n",
       "[149396 rows x 8 columns]"
      ]
     },
     "execution_count": 35,
     "metadata": {},
     "output_type": "execute_result"
    }
   ],
   "source": [
    "data_internet['gb_used'] = np.ceil(data_internet['mb_month_sum']/1024).astype('int64')\n",
    "data_internet"
   ]
  },
  {
   "cell_type": "code",
   "execution_count": 36,
   "metadata": {},
   "outputs": [
    {
     "name": "stdout",
     "output_type": "stream",
     "text": [
      "<class 'pandas.core.frame.DataFrame'>\n",
      "RangeIndex: 202607 entries, 0 to 202606\n",
      "Data columns (total 5 columns):\n",
      " #   Column     Non-Null Count   Dtype         \n",
      "---  ------     --------------   -----         \n",
      " 0   id         202607 non-null  object        \n",
      " 1   call_date  202607 non-null  datetime64[ns]\n",
      " 2   duration   202607 non-null  int64         \n",
      " 3   user_id    202607 non-null  int64         \n",
      " 4   month      202607 non-null  int64         \n",
      "dtypes: datetime64[ns](1), int64(3), object(1)\n",
      "memory usage: 7.7+ MB\n"
     ]
    },
    {
     "data": {
      "text/html": [
       "<div>\n",
       "<style scoped>\n",
       "    .dataframe tbody tr th:only-of-type {\n",
       "        vertical-align: middle;\n",
       "    }\n",
       "\n",
       "    .dataframe tbody tr th {\n",
       "        vertical-align: top;\n",
       "    }\n",
       "\n",
       "    .dataframe thead th {\n",
       "        text-align: right;\n",
       "    }\n",
       "</style>\n",
       "<table border=\"1\" class=\"dataframe\">\n",
       "  <thead>\n",
       "    <tr style=\"text-align: right;\">\n",
       "      <th></th>\n",
       "      <th>id</th>\n",
       "      <th>call_date</th>\n",
       "      <th>duration</th>\n",
       "      <th>user_id</th>\n",
       "      <th>month</th>\n",
       "    </tr>\n",
       "  </thead>\n",
       "  <tbody>\n",
       "    <tr>\n",
       "      <th>0</th>\n",
       "      <td>1000_0</td>\n",
       "      <td>2018-07-25</td>\n",
       "      <td>0</td>\n",
       "      <td>1000</td>\n",
       "      <td>7</td>\n",
       "    </tr>\n",
       "    <tr>\n",
       "      <th>1</th>\n",
       "      <td>1000_1</td>\n",
       "      <td>2018-08-17</td>\n",
       "      <td>0</td>\n",
       "      <td>1000</td>\n",
       "      <td>8</td>\n",
       "    </tr>\n",
       "    <tr>\n",
       "      <th>2</th>\n",
       "      <td>1000_2</td>\n",
       "      <td>2018-06-11</td>\n",
       "      <td>3</td>\n",
       "      <td>1000</td>\n",
       "      <td>6</td>\n",
       "    </tr>\n",
       "    <tr>\n",
       "      <th>3</th>\n",
       "      <td>1000_3</td>\n",
       "      <td>2018-09-21</td>\n",
       "      <td>14</td>\n",
       "      <td>1000</td>\n",
       "      <td>9</td>\n",
       "    </tr>\n",
       "    <tr>\n",
       "      <th>4</th>\n",
       "      <td>1000_4</td>\n",
       "      <td>2018-12-15</td>\n",
       "      <td>6</td>\n",
       "      <td>1000</td>\n",
       "      <td>12</td>\n",
       "    </tr>\n",
       "  </tbody>\n",
       "</table>\n",
       "</div>"
      ],
      "text/plain": [
       "       id  call_date  duration  user_id  month\n",
       "0  1000_0 2018-07-25         0     1000      7\n",
       "1  1000_1 2018-08-17         0     1000      8\n",
       "2  1000_2 2018-06-11         3     1000      6\n",
       "3  1000_3 2018-09-21        14     1000      9\n",
       "4  1000_4 2018-12-15         6     1000     12"
      ]
     },
     "execution_count": 36,
     "metadata": {},
     "output_type": "execute_result"
    }
   ],
   "source": [
    "data_calls['duration'] = np.ceil(data_calls['duration']).astype('int64')\n",
    "data_calls.info()\n",
    "data_calls.head()"
   ]
  },
  {
   "cell_type": "markdown",
   "metadata": {},
   "source": [
    "Методом np.ceil перевожу значения в большую сторону. По условию, мобильный оператор округляет секунды до минут, а мегабайты - до гигабайт в большую сторону. Проверяю, что округление прошло верно, вызвав head(), а также то, что изменился тип данных, вызвав info()"
   ]
  },
  {
   "cell_type": "code",
   "execution_count": 37,
   "metadata": {},
   "outputs": [
    {
     "data": {
      "text/html": [
       "<div>\n",
       "<style scoped>\n",
       "    .dataframe tbody tr th:only-of-type {\n",
       "        vertical-align: middle;\n",
       "    }\n",
       "\n",
       "    .dataframe tbody tr th {\n",
       "        vertical-align: top;\n",
       "    }\n",
       "\n",
       "    .dataframe thead th {\n",
       "        text-align: right;\n",
       "    }\n",
       "</style>\n",
       "<table border=\"1\" class=\"dataframe\">\n",
       "  <thead>\n",
       "    <tr style=\"text-align: right;\">\n",
       "      <th></th>\n",
       "      <th>messages_included</th>\n",
       "      <th>gb_included</th>\n",
       "      <th>minutes_included</th>\n",
       "      <th>rub_monthly_fee</th>\n",
       "      <th>rub_per_gb</th>\n",
       "      <th>rub_per_message</th>\n",
       "      <th>rub_per_minute</th>\n",
       "      <th>tariff</th>\n",
       "    </tr>\n",
       "  </thead>\n",
       "  <tbody>\n",
       "    <tr>\n",
       "      <th>0</th>\n",
       "      <td>50</td>\n",
       "      <td>15</td>\n",
       "      <td>500</td>\n",
       "      <td>550</td>\n",
       "      <td>200</td>\n",
       "      <td>3</td>\n",
       "      <td>3</td>\n",
       "      <td>smart</td>\n",
       "    </tr>\n",
       "    <tr>\n",
       "      <th>1</th>\n",
       "      <td>1000</td>\n",
       "      <td>30</td>\n",
       "      <td>3000</td>\n",
       "      <td>1950</td>\n",
       "      <td>150</td>\n",
       "      <td>1</td>\n",
       "      <td>1</td>\n",
       "      <td>ultra</td>\n",
       "    </tr>\n",
       "  </tbody>\n",
       "</table>\n",
       "</div>"
      ],
      "text/plain": [
       "   messages_included  gb_included  minutes_included  rub_monthly_fee  \\\n",
       "0                 50           15               500              550   \n",
       "1               1000           30              3000             1950   \n",
       "\n",
       "   rub_per_gb  rub_per_message  rub_per_minute tariff  \n",
       "0         200                3               3  smart  \n",
       "1         150                1               1  ultra  "
      ]
     },
     "execution_count": 37,
     "metadata": {},
     "output_type": "execute_result"
    }
   ],
   "source": [
    "data_tariffs['mb_per_month_included'] = round(data_tariffs['mb_per_month_included']/1024).astype('int64')\n",
    "data_tariffs = data_tariffs.rename(columns={'tariff_name':'tariff', 'mb_per_month_included':'gb_included'})\n",
    "data_tariffs\n"
   ]
  },
  {
   "cell_type": "markdown",
   "metadata": {},
   "source": [
    "Методом round округляю значения в колонке мб в месяц, перевожу в гб и в int. Переименовываю колонки название тарифа и мб в месяц"
   ]
  },
  {
   "cell_type": "markdown",
   "metadata": {},
   "source": [
    "В шаге предобработка данных были проведены следующие операции:\n",
    "- Округление значений (секунды до минут в большую сторону, мб до гб использованных в большую сторону, мб до гб в тарифе в меньшую сторону)\n",
    "- Изменение типа данных (в целочисленный, также колонки с датой переведны в формат datetime)\n",
    "- Переименование колонок (для последующего объединения таблиц)"
   ]
  },
  {
   "cell_type": "markdown",
   "metadata": {},
   "source": [
    "**2.2. Подготовка данных. Расчеты**"
   ]
  },
  {
   "cell_type": "code",
   "execution_count": 38,
   "metadata": {},
   "outputs": [
    {
     "data": {
      "text/html": [
       "<div>\n",
       "<style scoped>\n",
       "    .dataframe tbody tr th:only-of-type {\n",
       "        vertical-align: middle;\n",
       "    }\n",
       "\n",
       "    .dataframe tbody tr th {\n",
       "        vertical-align: top;\n",
       "    }\n",
       "\n",
       "    .dataframe thead th {\n",
       "        text-align: right;\n",
       "    }\n",
       "</style>\n",
       "<table border=\"1\" class=\"dataframe\">\n",
       "  <thead>\n",
       "    <tr style=\"text-align: right;\">\n",
       "      <th></th>\n",
       "      <th>user_id</th>\n",
       "    </tr>\n",
       "    <tr>\n",
       "      <th>month</th>\n",
       "      <th></th>\n",
       "    </tr>\n",
       "  </thead>\n",
       "  <tbody>\n",
       "    <tr>\n",
       "      <th>1</th>\n",
       "      <td>1476</td>\n",
       "    </tr>\n",
       "    <tr>\n",
       "      <th>2</th>\n",
       "      <td>3328</td>\n",
       "    </tr>\n",
       "    <tr>\n",
       "      <th>3</th>\n",
       "      <td>6687</td>\n",
       "    </tr>\n",
       "    <tr>\n",
       "      <th>4</th>\n",
       "      <td>9272</td>\n",
       "    </tr>\n",
       "    <tr>\n",
       "      <th>5</th>\n",
       "      <td>12647</td>\n",
       "    </tr>\n",
       "    <tr>\n",
       "      <th>6</th>\n",
       "      <td>14716</td>\n",
       "    </tr>\n",
       "    <tr>\n",
       "      <th>7</th>\n",
       "      <td>18298</td>\n",
       "    </tr>\n",
       "    <tr>\n",
       "      <th>8</th>\n",
       "      <td>21488</td>\n",
       "    </tr>\n",
       "    <tr>\n",
       "      <th>9</th>\n",
       "      <td>24061</td>\n",
       "    </tr>\n",
       "    <tr>\n",
       "      <th>10</th>\n",
       "      <td>27146</td>\n",
       "    </tr>\n",
       "    <tr>\n",
       "      <th>11</th>\n",
       "      <td>29501</td>\n",
       "    </tr>\n",
       "    <tr>\n",
       "      <th>12</th>\n",
       "      <td>33987</td>\n",
       "    </tr>\n",
       "  </tbody>\n",
       "</table>\n",
       "</div>"
      ],
      "text/plain": [
       "       user_id\n",
       "month         \n",
       "1         1476\n",
       "2         3328\n",
       "3         6687\n",
       "4         9272\n",
       "5        12647\n",
       "6        14716\n",
       "7        18298\n",
       "8        21488\n",
       "9        24061\n",
       "10       27146\n",
       "11       29501\n",
       "12       33987"
      ]
     },
     "execution_count": 38,
     "metadata": {},
     "output_type": "execute_result"
    }
   ],
   "source": [
    "calls_counter_per_month = data_calls.groupby('month')['user_id'].count().to_frame()\n",
    "calls_counter_per_month"
   ]
  },
  {
   "cell_type": "code",
   "execution_count": 39,
   "metadata": {},
   "outputs": [
    {
     "data": {
      "text/html": [
       "<div>\n",
       "<style scoped>\n",
       "    .dataframe tbody tr th:only-of-type {\n",
       "        vertical-align: middle;\n",
       "    }\n",
       "\n",
       "    .dataframe tbody tr th {\n",
       "        vertical-align: top;\n",
       "    }\n",
       "\n",
       "    .dataframe thead th {\n",
       "        text-align: right;\n",
       "    }\n",
       "</style>\n",
       "<table border=\"1\" class=\"dataframe\">\n",
       "  <thead>\n",
       "    <tr style=\"text-align: right;\">\n",
       "      <th></th>\n",
       "      <th>duration</th>\n",
       "    </tr>\n",
       "    <tr>\n",
       "      <th>month</th>\n",
       "      <th></th>\n",
       "    </tr>\n",
       "  </thead>\n",
       "  <tbody>\n",
       "    <tr>\n",
       "      <th>1</th>\n",
       "      <td>10784</td>\n",
       "    </tr>\n",
       "    <tr>\n",
       "      <th>2</th>\n",
       "      <td>24455</td>\n",
       "    </tr>\n",
       "    <tr>\n",
       "      <th>3</th>\n",
       "      <td>48151</td>\n",
       "    </tr>\n",
       "    <tr>\n",
       "      <th>4</th>\n",
       "      <td>66310</td>\n",
       "    </tr>\n",
       "    <tr>\n",
       "      <th>5</th>\n",
       "      <td>88810</td>\n",
       "    </tr>\n",
       "    <tr>\n",
       "      <th>6</th>\n",
       "      <td>105180</td>\n",
       "    </tr>\n",
       "    <tr>\n",
       "      <th>7</th>\n",
       "      <td>131746</td>\n",
       "    </tr>\n",
       "    <tr>\n",
       "      <th>8</th>\n",
       "      <td>153698</td>\n",
       "    </tr>\n",
       "    <tr>\n",
       "      <th>9</th>\n",
       "      <td>173475</td>\n",
       "    </tr>\n",
       "    <tr>\n",
       "      <th>10</th>\n",
       "      <td>193928</td>\n",
       "    </tr>\n",
       "    <tr>\n",
       "      <th>11</th>\n",
       "      <td>210089</td>\n",
       "    </tr>\n",
       "    <tr>\n",
       "      <th>12</th>\n",
       "      <td>243675</td>\n",
       "    </tr>\n",
       "  </tbody>\n",
       "</table>\n",
       "</div>"
      ],
      "text/plain": [
       "       duration\n",
       "month          \n",
       "1         10784\n",
       "2         24455\n",
       "3         48151\n",
       "4         66310\n",
       "5         88810\n",
       "6        105180\n",
       "7        131746\n",
       "8        153698\n",
       "9        173475\n",
       "10       193928\n",
       "11       210089\n",
       "12       243675"
      ]
     },
     "execution_count": 39,
     "metadata": {},
     "output_type": "execute_result"
    }
   ],
   "source": [
    "minutes_per_month = data_calls.groupby('month')['duration'].sum().to_frame()\n",
    "minutes_per_month"
   ]
  },
  {
   "cell_type": "markdown",
   "metadata": {},
   "source": [
    "Методом groupby нахожу количество звонков по месяцам, а также сумму минут разговора по месяцам. Из таблиц видно, что количество звонков, а также количество минут разговора растет от января к декабрю. Если в январе совершается 1476 звонков, то в декабре их 33987. А по количеству минут: в январе 10748, в июне почти в 10 раз больше (105180), а в декабре больше, чем в два раза от июля (243675). В целом, вероятно, можно сказать, что это нормально, так как в течение года количество пользователей увеличивается"
   ]
  },
  {
   "cell_type": "code",
   "execution_count": 40,
   "metadata": {},
   "outputs": [
    {
     "data": {
      "text/html": [
       "<div>\n",
       "<style scoped>\n",
       "    .dataframe tbody tr th:only-of-type {\n",
       "        vertical-align: middle;\n",
       "    }\n",
       "\n",
       "    .dataframe tbody tr th {\n",
       "        vertical-align: top;\n",
       "    }\n",
       "\n",
       "    .dataframe thead th {\n",
       "        text-align: right;\n",
       "    }\n",
       "</style>\n",
       "<table border=\"1\" class=\"dataframe\">\n",
       "  <thead>\n",
       "    <tr style=\"text-align: right;\">\n",
       "      <th></th>\n",
       "      <th>month</th>\n",
       "    </tr>\n",
       "    <tr>\n",
       "      <th>month</th>\n",
       "      <th></th>\n",
       "    </tr>\n",
       "  </thead>\n",
       "  <tbody>\n",
       "    <tr>\n",
       "      <th>1</th>\n",
       "      <td>924</td>\n",
       "    </tr>\n",
       "    <tr>\n",
       "      <th>2</th>\n",
       "      <td>1924</td>\n",
       "    </tr>\n",
       "    <tr>\n",
       "      <th>3</th>\n",
       "      <td>3648</td>\n",
       "    </tr>\n",
       "    <tr>\n",
       "      <th>4</th>\n",
       "      <td>5179</td>\n",
       "    </tr>\n",
       "    <tr>\n",
       "      <th>5</th>\n",
       "      <td>7298</td>\n",
       "    </tr>\n",
       "    <tr>\n",
       "      <th>6</th>\n",
       "      <td>8983</td>\n",
       "    </tr>\n",
       "    <tr>\n",
       "      <th>7</th>\n",
       "      <td>11320</td>\n",
       "    </tr>\n",
       "    <tr>\n",
       "      <th>8</th>\n",
       "      <td>13088</td>\n",
       "    </tr>\n",
       "    <tr>\n",
       "      <th>9</th>\n",
       "      <td>14759</td>\n",
       "    </tr>\n",
       "    <tr>\n",
       "      <th>10</th>\n",
       "      <td>17114</td>\n",
       "    </tr>\n",
       "    <tr>\n",
       "      <th>11</th>\n",
       "      <td>18244</td>\n",
       "    </tr>\n",
       "    <tr>\n",
       "      <th>12</th>\n",
       "      <td>20555</td>\n",
       "    </tr>\n",
       "  </tbody>\n",
       "</table>\n",
       "</div>"
      ],
      "text/plain": [
       "       month\n",
       "month       \n",
       "1        924\n",
       "2       1924\n",
       "3       3648\n",
       "4       5179\n",
       "5       7298\n",
       "6       8983\n",
       "7      11320\n",
       "8      13088\n",
       "9      14759\n",
       "10     17114\n",
       "11     18244\n",
       "12     20555"
      ]
     },
     "execution_count": 40,
     "metadata": {},
     "output_type": "execute_result"
    }
   ],
   "source": [
    "messages_per_month = data_messages.groupby('month')['month'].count().to_frame()\n",
    "messages_per_month"
   ]
  },
  {
   "cell_type": "markdown",
   "metadata": {},
   "source": [
    "Увеличение активности от января к декабрю наблюдается также и по количетсву отправленных сообщений: в январе - 924, в июле - 11320, в декабре - 20555 (это в 24 раза больше, чем в январе, и почти в 2 раза больше, чем в июле)"
   ]
  },
  {
   "cell_type": "code",
   "execution_count": 41,
   "metadata": {},
   "outputs": [
    {
     "data": {
      "text/html": [
       "<div>\n",
       "<style scoped>\n",
       "    .dataframe tbody tr th:only-of-type {\n",
       "        vertical-align: middle;\n",
       "    }\n",
       "\n",
       "    .dataframe tbody tr th {\n",
       "        vertical-align: top;\n",
       "    }\n",
       "\n",
       "    .dataframe thead th {\n",
       "        text-align: right;\n",
       "    }\n",
       "</style>\n",
       "<table border=\"1\" class=\"dataframe\">\n",
       "  <thead>\n",
       "    <tr style=\"text-align: right;\">\n",
       "      <th></th>\n",
       "      <th>mb_used</th>\n",
       "    </tr>\n",
       "    <tr>\n",
       "      <th>month</th>\n",
       "      <th></th>\n",
       "    </tr>\n",
       "  </thead>\n",
       "  <tbody>\n",
       "    <tr>\n",
       "      <th>1</th>\n",
       "      <td>407732.53</td>\n",
       "    </tr>\n",
       "    <tr>\n",
       "      <th>2</th>\n",
       "      <td>955251.65</td>\n",
       "    </tr>\n",
       "    <tr>\n",
       "      <th>3</th>\n",
       "      <td>1811835.61</td>\n",
       "    </tr>\n",
       "    <tr>\n",
       "      <th>4</th>\n",
       "      <td>2433311.62</td>\n",
       "    </tr>\n",
       "    <tr>\n",
       "      <th>5</th>\n",
       "      <td>3525862.24</td>\n",
       "    </tr>\n",
       "    <tr>\n",
       "      <th>6</th>\n",
       "      <td>4180017.17</td>\n",
       "    </tr>\n",
       "    <tr>\n",
       "      <th>7</th>\n",
       "      <td>5029478.75</td>\n",
       "    </tr>\n",
       "    <tr>\n",
       "      <th>8</th>\n",
       "      <td>5998157.07</td>\n",
       "    </tr>\n",
       "    <tr>\n",
       "      <th>9</th>\n",
       "      <td>6447422.36</td>\n",
       "    </tr>\n",
       "    <tr>\n",
       "      <th>10</th>\n",
       "      <td>7392170.62</td>\n",
       "    </tr>\n",
       "    <tr>\n",
       "      <th>11</th>\n",
       "      <td>7990473.01</td>\n",
       "    </tr>\n",
       "    <tr>\n",
       "      <th>12</th>\n",
       "      <td>9133555.10</td>\n",
       "    </tr>\n",
       "  </tbody>\n",
       "</table>\n",
       "</div>"
      ],
      "text/plain": [
       "          mb_used\n",
       "month            \n",
       "1       407732.53\n",
       "2       955251.65\n",
       "3      1811835.61\n",
       "4      2433311.62\n",
       "5      3525862.24\n",
       "6      4180017.17\n",
       "7      5029478.75\n",
       "8      5998157.07\n",
       "9      6447422.36\n",
       "10     7392170.62\n",
       "11     7990473.01\n",
       "12     9133555.10"
      ]
     },
     "execution_count": 41,
     "metadata": {},
     "output_type": "execute_result"
    }
   ],
   "source": [
    "internet_per_month = data_internet.groupby('month')['mb_used'].sum().to_frame()\n",
    "internet_per_month"
   ]
  },
  {
   "cell_type": "markdown",
   "metadata": {},
   "source": [
    "Также заметно увеличение трафика от января к декабрю в течение года."
   ]
  },
  {
   "cell_type": "markdown",
   "metadata": {},
   "source": [
    "Для расчета помесячной выручки с каждого пользователя буду использовать сводные таблицы и объединение таблиц."
   ]
  },
  {
   "cell_type": "code",
   "execution_count": 42,
   "metadata": {},
   "outputs": [
    {
     "data": {
      "text/html": [
       "<div>\n",
       "<style scoped>\n",
       "    .dataframe tbody tr th:only-of-type {\n",
       "        vertical-align: middle;\n",
       "    }\n",
       "\n",
       "    .dataframe tbody tr th {\n",
       "        vertical-align: top;\n",
       "    }\n",
       "\n",
       "    .dataframe thead th {\n",
       "        text-align: right;\n",
       "    }\n",
       "</style>\n",
       "<table border=\"1\" class=\"dataframe\">\n",
       "  <thead>\n",
       "    <tr style=\"text-align: right;\">\n",
       "      <th></th>\n",
       "      <th>month</th>\n",
       "      <th>user_id</th>\n",
       "      <th>minutes_used</th>\n",
       "      <th>messages_sent</th>\n",
       "      <th>gb_used</th>\n",
       "    </tr>\n",
       "  </thead>\n",
       "  <tbody>\n",
       "    <tr>\n",
       "      <th>0</th>\n",
       "      <td>1</td>\n",
       "      <td>1005</td>\n",
       "      <td>95.0</td>\n",
       "      <td>7.0</td>\n",
       "      <td>3.0</td>\n",
       "    </tr>\n",
       "    <tr>\n",
       "      <th>1</th>\n",
       "      <td>1</td>\n",
       "      <td>1032</td>\n",
       "      <td>380.0</td>\n",
       "      <td>38.0</td>\n",
       "      <td>24.0</td>\n",
       "    </tr>\n",
       "    <tr>\n",
       "      <th>2</th>\n",
       "      <td>1</td>\n",
       "      <td>1045</td>\n",
       "      <td>9.0</td>\n",
       "      <td>5.0</td>\n",
       "      <td>3.0</td>\n",
       "    </tr>\n",
       "    <tr>\n",
       "      <th>3</th>\n",
       "      <td>1</td>\n",
       "      <td>1055</td>\n",
       "      <td>551.0</td>\n",
       "      <td>30.0</td>\n",
       "      <td>17.0</td>\n",
       "    </tr>\n",
       "    <tr>\n",
       "      <th>4</th>\n",
       "      <td>1</td>\n",
       "      <td>1071</td>\n",
       "      <td>194.0</td>\n",
       "      <td>16.0</td>\n",
       "      <td>16.0</td>\n",
       "    </tr>\n",
       "  </tbody>\n",
       "</table>\n",
       "</div>"
      ],
      "text/plain": [
       "   month  user_id  minutes_used  messages_sent  gb_used\n",
       "0      1     1005          95.0            7.0      3.0\n",
       "1      1     1032         380.0           38.0     24.0\n",
       "2      1     1045           9.0            5.0      3.0\n",
       "3      1     1055         551.0           30.0     17.0\n",
       "4      1     1071         194.0           16.0     16.0"
      ]
     },
     "execution_count": 42,
     "metadata": {},
     "output_type": "execute_result"
    }
   ],
   "source": [
    "calls_pivot = data_calls.pivot_table(index=['month','user_id'], values='duration', aggfunc='sum')\n",
    "messages_pivot = data_messages.pivot_table(index=['month','user_id'], values='message_date', aggfunc='count')\n",
    "internet_pivot = data_internet.pivot_table(index=['month','user_id'], values='gb_used')\n",
    "general_on_user = calls_pivot.merge(messages_pivot, on=['month','user_id'],how ='outer' )\n",
    "general_on_user = general_on_user.merge(internet_pivot, on=['month','user_id'],how ='outer')\n",
    "general_on_user = general_on_user.rename(columns={'duration':'minutes_used','message_date':'messages_sent'})\n",
    "\n",
    "df_gen = general_on_user.reset_index()\n",
    "df_gen.head()\n",
    "\n",
    "\n"
   ]
  },
  {
   "cell_type": "markdown",
   "metadata": {},
   "source": [
    "Делаю свобные таблицы по звонкам, сообщениям и интернету, объединяю их методом merge() и в итоговой таблице переименовываю колонки для большей наглядности. Чтобы в дальнейшем не потерять колонку месяц сохраняю результат с reset_index()"
   ]
  },
  {
   "cell_type": "code",
   "execution_count": 43,
   "metadata": {},
   "outputs": [
    {
     "data": {
      "text/html": [
       "<div>\n",
       "<style scoped>\n",
       "    .dataframe tbody tr th:only-of-type {\n",
       "        vertical-align: middle;\n",
       "    }\n",
       "\n",
       "    .dataframe tbody tr th {\n",
       "        vertical-align: top;\n",
       "    }\n",
       "\n",
       "    .dataframe thead th {\n",
       "        text-align: right;\n",
       "    }\n",
       "</style>\n",
       "<table border=\"1\" class=\"dataframe\">\n",
       "  <thead>\n",
       "    <tr style=\"text-align: right;\">\n",
       "      <th></th>\n",
       "      <th>month</th>\n",
       "      <th>user_id</th>\n",
       "      <th>minutes_used</th>\n",
       "      <th>messages_sent</th>\n",
       "      <th>gb_used</th>\n",
       "      <th>age</th>\n",
       "      <th>churn_date</th>\n",
       "      <th>city</th>\n",
       "      <th>first_name</th>\n",
       "      <th>last_name</th>\n",
       "      <th>reg_date</th>\n",
       "      <th>tariff</th>\n",
       "    </tr>\n",
       "  </thead>\n",
       "  <tbody>\n",
       "    <tr>\n",
       "      <th>0</th>\n",
       "      <td>1</td>\n",
       "      <td>1005</td>\n",
       "      <td>95.0</td>\n",
       "      <td>7.0</td>\n",
       "      <td>3.0</td>\n",
       "      <td>67</td>\n",
       "      <td>NaN</td>\n",
       "      <td>Набережные Челны</td>\n",
       "      <td>Афанасий</td>\n",
       "      <td>Горлов</td>\n",
       "      <td>2018-01-25</td>\n",
       "      <td>smart</td>\n",
       "    </tr>\n",
       "    <tr>\n",
       "      <th>1</th>\n",
       "      <td>1</td>\n",
       "      <td>1032</td>\n",
       "      <td>380.0</td>\n",
       "      <td>38.0</td>\n",
       "      <td>24.0</td>\n",
       "      <td>31</td>\n",
       "      <td>NaN</td>\n",
       "      <td>Ульяновск</td>\n",
       "      <td>Инна</td>\n",
       "      <td>Игнатьева</td>\n",
       "      <td>2018-01-04</td>\n",
       "      <td>smart</td>\n",
       "    </tr>\n",
       "    <tr>\n",
       "      <th>2</th>\n",
       "      <td>1</td>\n",
       "      <td>1045</td>\n",
       "      <td>9.0</td>\n",
       "      <td>5.0</td>\n",
       "      <td>3.0</td>\n",
       "      <td>48</td>\n",
       "      <td>NaN</td>\n",
       "      <td>Улан-Удэ</td>\n",
       "      <td>Джемма</td>\n",
       "      <td>Карасева</td>\n",
       "      <td>2018-01-30</td>\n",
       "      <td>smart</td>\n",
       "    </tr>\n",
       "    <tr>\n",
       "      <th>3</th>\n",
       "      <td>1</td>\n",
       "      <td>1055</td>\n",
       "      <td>551.0</td>\n",
       "      <td>30.0</td>\n",
       "      <td>17.0</td>\n",
       "      <td>39</td>\n",
       "      <td>NaN</td>\n",
       "      <td>Казань</td>\n",
       "      <td>Луиза</td>\n",
       "      <td>Березина</td>\n",
       "      <td>2018-01-02</td>\n",
       "      <td>smart</td>\n",
       "    </tr>\n",
       "    <tr>\n",
       "      <th>4</th>\n",
       "      <td>1</td>\n",
       "      <td>1071</td>\n",
       "      <td>194.0</td>\n",
       "      <td>16.0</td>\n",
       "      <td>16.0</td>\n",
       "      <td>20</td>\n",
       "      <td>2018-08-31</td>\n",
       "      <td>Омск</td>\n",
       "      <td>Гектор</td>\n",
       "      <td>Чумаков</td>\n",
       "      <td>2018-01-09</td>\n",
       "      <td>smart</td>\n",
       "    </tr>\n",
       "  </tbody>\n",
       "</table>\n",
       "</div>"
      ],
      "text/plain": [
       "   month  user_id  minutes_used  messages_sent  gb_used  age  churn_date  \\\n",
       "0      1     1005          95.0            7.0      3.0   67         NaN   \n",
       "1      1     1032         380.0           38.0     24.0   31         NaN   \n",
       "2      1     1045           9.0            5.0      3.0   48         NaN   \n",
       "3      1     1055         551.0           30.0     17.0   39         NaN   \n",
       "4      1     1071         194.0           16.0     16.0   20  2018-08-31   \n",
       "\n",
       "               city first_name  last_name    reg_date tariff  \n",
       "0  Набережные Челны   Афанасий     Горлов  2018-01-25  smart  \n",
       "1         Ульяновск       Инна  Игнатьева  2018-01-04  smart  \n",
       "2          Улан-Удэ     Джемма   Карасева  2018-01-30  smart  \n",
       "3            Казань      Луиза   Березина  2018-01-02  smart  \n",
       "4              Омск     Гектор    Чумаков  2018-01-09  smart  "
      ]
     },
     "execution_count": 43,
     "metadata": {},
     "output_type": "execute_result"
    }
   ],
   "source": [
    "df_gen = df_gen.merge(data_users, on='user_id', how='left')\n",
    "df_gen.head()"
   ]
  },
  {
   "cell_type": "code",
   "execution_count": 44,
   "metadata": {
    "scrolled": true
   },
   "outputs": [],
   "source": [
    "df_gen = df_gen.merge(data_tariffs, on='tariff')\n",
    "#df_gen"
   ]
  },
  {
   "cell_type": "markdown",
   "metadata": {},
   "source": [
    "Присоединяю данные с пользователями и данными тарифа. "
   ]
  },
  {
   "cell_type": "markdown",
   "metadata": {},
   "source": [
    "Для расчета помесячной выручки по каждому пользователю найду остатки по пакету (минуты, сообщения, интернет). Сохраню в новых столбцах"
   ]
  },
  {
   "cell_type": "code",
   "execution_count": 63,
   "metadata": {
    "scrolled": true
   },
   "outputs": [
    {
     "data": {
      "text/html": [
       "<div>\n",
       "<style scoped>\n",
       "    .dataframe tbody tr th:only-of-type {\n",
       "        vertical-align: middle;\n",
       "    }\n",
       "\n",
       "    .dataframe tbody tr th {\n",
       "        vertical-align: top;\n",
       "    }\n",
       "\n",
       "    .dataframe thead th {\n",
       "        text-align: right;\n",
       "    }\n",
       "</style>\n",
       "<table border=\"1\" class=\"dataframe\">\n",
       "  <thead>\n",
       "    <tr style=\"text-align: right;\">\n",
       "      <th></th>\n",
       "      <th>month</th>\n",
       "      <th>user_id</th>\n",
       "      <th>minutes_used</th>\n",
       "      <th>messages_sent</th>\n",
       "      <th>gb_used</th>\n",
       "      <th>age</th>\n",
       "      <th>churn_date</th>\n",
       "      <th>city</th>\n",
       "      <th>first_name</th>\n",
       "      <th>last_name</th>\n",
       "      <th>...</th>\n",
       "      <th>minutes_included</th>\n",
       "      <th>rub_monthly_fee</th>\n",
       "      <th>rub_per_gb</th>\n",
       "      <th>rub_per_message</th>\n",
       "      <th>rub_per_minute</th>\n",
       "      <th>over_minutes</th>\n",
       "      <th>over_messages</th>\n",
       "      <th>over_gb</th>\n",
       "      <th>income</th>\n",
       "      <th>total_fee</th>\n",
       "    </tr>\n",
       "  </thead>\n",
       "  <tbody>\n",
       "    <tr>\n",
       "      <th>0</th>\n",
       "      <td>1</td>\n",
       "      <td>1005</td>\n",
       "      <td>95.0</td>\n",
       "      <td>7.0</td>\n",
       "      <td>3.0</td>\n",
       "      <td>67</td>\n",
       "      <td>NaN</td>\n",
       "      <td>Набережные Челны</td>\n",
       "      <td>Афанасий</td>\n",
       "      <td>Горлов</td>\n",
       "      <td>...</td>\n",
       "      <td>500</td>\n",
       "      <td>550</td>\n",
       "      <td>200</td>\n",
       "      <td>3</td>\n",
       "      <td>3</td>\n",
       "      <td>-405.0</td>\n",
       "      <td>-43.0</td>\n",
       "      <td>-12.0</td>\n",
       "      <td>0.0</td>\n",
       "      <td>550.0</td>\n",
       "    </tr>\n",
       "    <tr>\n",
       "      <th>1</th>\n",
       "      <td>1</td>\n",
       "      <td>1032</td>\n",
       "      <td>380.0</td>\n",
       "      <td>38.0</td>\n",
       "      <td>24.0</td>\n",
       "      <td>31</td>\n",
       "      <td>NaN</td>\n",
       "      <td>Ульяновск</td>\n",
       "      <td>Инна</td>\n",
       "      <td>Игнатьева</td>\n",
       "      <td>...</td>\n",
       "      <td>500</td>\n",
       "      <td>550</td>\n",
       "      <td>200</td>\n",
       "      <td>3</td>\n",
       "      <td>3</td>\n",
       "      <td>-120.0</td>\n",
       "      <td>-12.0</td>\n",
       "      <td>9.0</td>\n",
       "      <td>1800.0</td>\n",
       "      <td>2350.0</td>\n",
       "    </tr>\n",
       "    <tr>\n",
       "      <th>2</th>\n",
       "      <td>1</td>\n",
       "      <td>1045</td>\n",
       "      <td>9.0</td>\n",
       "      <td>5.0</td>\n",
       "      <td>3.0</td>\n",
       "      <td>48</td>\n",
       "      <td>NaN</td>\n",
       "      <td>Улан-Удэ</td>\n",
       "      <td>Джемма</td>\n",
       "      <td>Карасева</td>\n",
       "      <td>...</td>\n",
       "      <td>500</td>\n",
       "      <td>550</td>\n",
       "      <td>200</td>\n",
       "      <td>3</td>\n",
       "      <td>3</td>\n",
       "      <td>-491.0</td>\n",
       "      <td>-45.0</td>\n",
       "      <td>-12.0</td>\n",
       "      <td>0.0</td>\n",
       "      <td>550.0</td>\n",
       "    </tr>\n",
       "    <tr>\n",
       "      <th>3</th>\n",
       "      <td>1</td>\n",
       "      <td>1055</td>\n",
       "      <td>551.0</td>\n",
       "      <td>30.0</td>\n",
       "      <td>17.0</td>\n",
       "      <td>39</td>\n",
       "      <td>NaN</td>\n",
       "      <td>Казань</td>\n",
       "      <td>Луиза</td>\n",
       "      <td>Березина</td>\n",
       "      <td>...</td>\n",
       "      <td>500</td>\n",
       "      <td>550</td>\n",
       "      <td>200</td>\n",
       "      <td>3</td>\n",
       "      <td>3</td>\n",
       "      <td>51.0</td>\n",
       "      <td>-20.0</td>\n",
       "      <td>2.0</td>\n",
       "      <td>553.0</td>\n",
       "      <td>1103.0</td>\n",
       "    </tr>\n",
       "    <tr>\n",
       "      <th>4</th>\n",
       "      <td>1</td>\n",
       "      <td>1071</td>\n",
       "      <td>194.0</td>\n",
       "      <td>16.0</td>\n",
       "      <td>16.0</td>\n",
       "      <td>20</td>\n",
       "      <td>2018-08-31</td>\n",
       "      <td>Омск</td>\n",
       "      <td>Гектор</td>\n",
       "      <td>Чумаков</td>\n",
       "      <td>...</td>\n",
       "      <td>500</td>\n",
       "      <td>550</td>\n",
       "      <td>200</td>\n",
       "      <td>3</td>\n",
       "      <td>3</td>\n",
       "      <td>-306.0</td>\n",
       "      <td>-34.0</td>\n",
       "      <td>1.0</td>\n",
       "      <td>200.0</td>\n",
       "      <td>750.0</td>\n",
       "    </tr>\n",
       "  </tbody>\n",
       "</table>\n",
       "<p>5 rows × 24 columns</p>\n",
       "</div>"
      ],
      "text/plain": [
       "   month  user_id  minutes_used  messages_sent  gb_used  age  churn_date  \\\n",
       "0      1     1005          95.0            7.0      3.0   67         NaN   \n",
       "1      1     1032         380.0           38.0     24.0   31         NaN   \n",
       "2      1     1045           9.0            5.0      3.0   48         NaN   \n",
       "3      1     1055         551.0           30.0     17.0   39         NaN   \n",
       "4      1     1071         194.0           16.0     16.0   20  2018-08-31   \n",
       "\n",
       "               city first_name  last_name  ... minutes_included  \\\n",
       "0  Набережные Челны   Афанасий     Горлов  ...              500   \n",
       "1         Ульяновск       Инна  Игнатьева  ...              500   \n",
       "2          Улан-Удэ     Джемма   Карасева  ...              500   \n",
       "3            Казань      Луиза   Березина  ...              500   \n",
       "4              Омск     Гектор    Чумаков  ...              500   \n",
       "\n",
       "  rub_monthly_fee  rub_per_gb  rub_per_message  rub_per_minute  over_minutes  \\\n",
       "0             550         200                3               3        -405.0   \n",
       "1             550         200                3               3        -120.0   \n",
       "2             550         200                3               3        -491.0   \n",
       "3             550         200                3               3          51.0   \n",
       "4             550         200                3               3        -306.0   \n",
       "\n",
       "   over_messages  over_gb  income  total_fee  \n",
       "0          -43.0    -12.0     0.0      550.0  \n",
       "1          -12.0      9.0  1800.0     2350.0  \n",
       "2          -45.0    -12.0     0.0      550.0  \n",
       "3          -20.0      2.0   553.0     1103.0  \n",
       "4          -34.0      1.0   200.0      750.0  \n",
       "\n",
       "[5 rows x 24 columns]"
      ]
     },
     "execution_count": 63,
     "metadata": {},
     "output_type": "execute_result"
    }
   ],
   "source": [
    "df_gen['over_minutes'] = df_gen['minutes_used'] - df_gen['minutes_included']\n",
    "df_gen['over_messages'] = df_gen['messages_sent'] - df_gen['messages_included']\n",
    "df_gen['over_gb'] = df_gen['gb_used'] - df_gen['gb_included']\n",
    "df_gen.head(5)"
   ]
  },
  {
   "cell_type": "markdown",
   "metadata": {},
   "source": [
    "Для расчета стоимости услуг больше пакета напишу функцию одной строки и \"пройдусь\" ей по значениям остатков минут, сообщений и интернета, сохраню стоимость в новом столбце"
   ]
  },
  {
   "cell_type": "code",
   "execution_count": 64,
   "metadata": {},
   "outputs": [
    {
     "data": {
      "text/html": [
       "<div>\n",
       "<style scoped>\n",
       "    .dataframe tbody tr th:only-of-type {\n",
       "        vertical-align: middle;\n",
       "    }\n",
       "\n",
       "    .dataframe tbody tr th {\n",
       "        vertical-align: top;\n",
       "    }\n",
       "\n",
       "    .dataframe thead th {\n",
       "        text-align: right;\n",
       "    }\n",
       "</style>\n",
       "<table border=\"1\" class=\"dataframe\">\n",
       "  <thead>\n",
       "    <tr style=\"text-align: right;\">\n",
       "      <th></th>\n",
       "      <th>month</th>\n",
       "      <th>user_id</th>\n",
       "      <th>minutes_used</th>\n",
       "      <th>messages_sent</th>\n",
       "      <th>gb_used</th>\n",
       "      <th>age</th>\n",
       "      <th>churn_date</th>\n",
       "      <th>city</th>\n",
       "      <th>first_name</th>\n",
       "      <th>last_name</th>\n",
       "      <th>...</th>\n",
       "      <th>minutes_included</th>\n",
       "      <th>rub_monthly_fee</th>\n",
       "      <th>rub_per_gb</th>\n",
       "      <th>rub_per_message</th>\n",
       "      <th>rub_per_minute</th>\n",
       "      <th>over_minutes</th>\n",
       "      <th>over_messages</th>\n",
       "      <th>over_gb</th>\n",
       "      <th>income</th>\n",
       "      <th>total_fee</th>\n",
       "    </tr>\n",
       "  </thead>\n",
       "  <tbody>\n",
       "    <tr>\n",
       "      <th>0</th>\n",
       "      <td>1</td>\n",
       "      <td>1005</td>\n",
       "      <td>95.0</td>\n",
       "      <td>7.0</td>\n",
       "      <td>3.0</td>\n",
       "      <td>67</td>\n",
       "      <td>NaN</td>\n",
       "      <td>Набережные Челны</td>\n",
       "      <td>Афанасий</td>\n",
       "      <td>Горлов</td>\n",
       "      <td>...</td>\n",
       "      <td>500</td>\n",
       "      <td>550</td>\n",
       "      <td>200</td>\n",
       "      <td>3</td>\n",
       "      <td>3</td>\n",
       "      <td>-405.0</td>\n",
       "      <td>-43.0</td>\n",
       "      <td>-12.0</td>\n",
       "      <td>0.0</td>\n",
       "      <td>550.0</td>\n",
       "    </tr>\n",
       "    <tr>\n",
       "      <th>1</th>\n",
       "      <td>1</td>\n",
       "      <td>1032</td>\n",
       "      <td>380.0</td>\n",
       "      <td>38.0</td>\n",
       "      <td>24.0</td>\n",
       "      <td>31</td>\n",
       "      <td>NaN</td>\n",
       "      <td>Ульяновск</td>\n",
       "      <td>Инна</td>\n",
       "      <td>Игнатьева</td>\n",
       "      <td>...</td>\n",
       "      <td>500</td>\n",
       "      <td>550</td>\n",
       "      <td>200</td>\n",
       "      <td>3</td>\n",
       "      <td>3</td>\n",
       "      <td>-120.0</td>\n",
       "      <td>-12.0</td>\n",
       "      <td>9.0</td>\n",
       "      <td>1800.0</td>\n",
       "      <td>2350.0</td>\n",
       "    </tr>\n",
       "    <tr>\n",
       "      <th>2</th>\n",
       "      <td>1</td>\n",
       "      <td>1045</td>\n",
       "      <td>9.0</td>\n",
       "      <td>5.0</td>\n",
       "      <td>3.0</td>\n",
       "      <td>48</td>\n",
       "      <td>NaN</td>\n",
       "      <td>Улан-Удэ</td>\n",
       "      <td>Джемма</td>\n",
       "      <td>Карасева</td>\n",
       "      <td>...</td>\n",
       "      <td>500</td>\n",
       "      <td>550</td>\n",
       "      <td>200</td>\n",
       "      <td>3</td>\n",
       "      <td>3</td>\n",
       "      <td>-491.0</td>\n",
       "      <td>-45.0</td>\n",
       "      <td>-12.0</td>\n",
       "      <td>0.0</td>\n",
       "      <td>550.0</td>\n",
       "    </tr>\n",
       "    <tr>\n",
       "      <th>3</th>\n",
       "      <td>1</td>\n",
       "      <td>1055</td>\n",
       "      <td>551.0</td>\n",
       "      <td>30.0</td>\n",
       "      <td>17.0</td>\n",
       "      <td>39</td>\n",
       "      <td>NaN</td>\n",
       "      <td>Казань</td>\n",
       "      <td>Луиза</td>\n",
       "      <td>Березина</td>\n",
       "      <td>...</td>\n",
       "      <td>500</td>\n",
       "      <td>550</td>\n",
       "      <td>200</td>\n",
       "      <td>3</td>\n",
       "      <td>3</td>\n",
       "      <td>51.0</td>\n",
       "      <td>-20.0</td>\n",
       "      <td>2.0</td>\n",
       "      <td>553.0</td>\n",
       "      <td>1103.0</td>\n",
       "    </tr>\n",
       "    <tr>\n",
       "      <th>4</th>\n",
       "      <td>1</td>\n",
       "      <td>1071</td>\n",
       "      <td>194.0</td>\n",
       "      <td>16.0</td>\n",
       "      <td>16.0</td>\n",
       "      <td>20</td>\n",
       "      <td>2018-08-31</td>\n",
       "      <td>Омск</td>\n",
       "      <td>Гектор</td>\n",
       "      <td>Чумаков</td>\n",
       "      <td>...</td>\n",
       "      <td>500</td>\n",
       "      <td>550</td>\n",
       "      <td>200</td>\n",
       "      <td>3</td>\n",
       "      <td>3</td>\n",
       "      <td>-306.0</td>\n",
       "      <td>-34.0</td>\n",
       "      <td>1.0</td>\n",
       "      <td>200.0</td>\n",
       "      <td>750.0</td>\n",
       "    </tr>\n",
       "  </tbody>\n",
       "</table>\n",
       "<p>5 rows × 24 columns</p>\n",
       "</div>"
      ],
      "text/plain": [
       "   month  user_id  minutes_used  messages_sent  gb_used  age  churn_date  \\\n",
       "0      1     1005          95.0            7.0      3.0   67         NaN   \n",
       "1      1     1032         380.0           38.0     24.0   31         NaN   \n",
       "2      1     1045           9.0            5.0      3.0   48         NaN   \n",
       "3      1     1055         551.0           30.0     17.0   39         NaN   \n",
       "4      1     1071         194.0           16.0     16.0   20  2018-08-31   \n",
       "\n",
       "               city first_name  last_name  ... minutes_included  \\\n",
       "0  Набережные Челны   Афанасий     Горлов  ...              500   \n",
       "1         Ульяновск       Инна  Игнатьева  ...              500   \n",
       "2          Улан-Удэ     Джемма   Карасева  ...              500   \n",
       "3            Казань      Луиза   Березина  ...              500   \n",
       "4              Омск     Гектор    Чумаков  ...              500   \n",
       "\n",
       "  rub_monthly_fee  rub_per_gb  rub_per_message  rub_per_minute  over_minutes  \\\n",
       "0             550         200                3               3        -405.0   \n",
       "1             550         200                3               3        -120.0   \n",
       "2             550         200                3               3        -491.0   \n",
       "3             550         200                3               3          51.0   \n",
       "4             550         200                3               3        -306.0   \n",
       "\n",
       "   over_messages  over_gb  income  total_fee  \n",
       "0          -43.0    -12.0     0.0      550.0  \n",
       "1          -12.0      9.0  1800.0     2350.0  \n",
       "2          -45.0    -12.0     0.0      550.0  \n",
       "3          -20.0      2.0   553.0     1103.0  \n",
       "4          -34.0      1.0   200.0      750.0  \n",
       "\n",
       "[5 rows x 24 columns]"
      ]
     },
     "execution_count": 64,
     "metadata": {},
     "output_type": "execute_result"
    }
   ],
   "source": [
    "def over(row):\n",
    "    min = row['over_minutes']\n",
    "    mes = row['over_messages']\n",
    "    gb = row['over_gb']\n",
    "    rub_per_min = row['rub_per_minute']\n",
    "    rub_per_mes = row['rub_per_message']\n",
    "    rub_per_gb = row['rub_per_gb']\n",
    "    rub_monthly_fee = row['rub_monthly_fee']\n",
    "    \n",
    "    income = 0\n",
    "    \n",
    "    if min>0:\n",
    "        income += min*rub_per_min\n",
    "    if mes>0:\n",
    "        income += mes*rub_per_mes\n",
    "    if gb>0:\n",
    "        income += gb*rub_per_gb\n",
    "    return income\n",
    "\n",
    "df_gen['income'] = df_gen.apply(over, axis=1)\n",
    "df_gen.head()"
   ]
  },
  {
   "cell_type": "markdown",
   "metadata": {},
   "source": [
    "Сложу все значения платы выше пакета и самого пакета"
   ]
  },
  {
   "cell_type": "code",
   "execution_count": 65,
   "metadata": {
    "scrolled": true
   },
   "outputs": [
    {
     "data": {
      "text/html": [
       "<div>\n",
       "<style scoped>\n",
       "    .dataframe tbody tr th:only-of-type {\n",
       "        vertical-align: middle;\n",
       "    }\n",
       "\n",
       "    .dataframe tbody tr th {\n",
       "        vertical-align: top;\n",
       "    }\n",
       "\n",
       "    .dataframe thead th {\n",
       "        text-align: right;\n",
       "    }\n",
       "</style>\n",
       "<table border=\"1\" class=\"dataframe\">\n",
       "  <thead>\n",
       "    <tr style=\"text-align: right;\">\n",
       "      <th></th>\n",
       "      <th>month</th>\n",
       "      <th>user_id</th>\n",
       "      <th>minutes_used</th>\n",
       "      <th>messages_sent</th>\n",
       "      <th>gb_used</th>\n",
       "      <th>age</th>\n",
       "      <th>churn_date</th>\n",
       "      <th>city</th>\n",
       "      <th>first_name</th>\n",
       "      <th>last_name</th>\n",
       "      <th>...</th>\n",
       "      <th>minutes_included</th>\n",
       "      <th>rub_monthly_fee</th>\n",
       "      <th>rub_per_gb</th>\n",
       "      <th>rub_per_message</th>\n",
       "      <th>rub_per_minute</th>\n",
       "      <th>over_minutes</th>\n",
       "      <th>over_messages</th>\n",
       "      <th>over_gb</th>\n",
       "      <th>income</th>\n",
       "      <th>total_fee</th>\n",
       "    </tr>\n",
       "  </thead>\n",
       "  <tbody>\n",
       "    <tr>\n",
       "      <th>0</th>\n",
       "      <td>1</td>\n",
       "      <td>1005</td>\n",
       "      <td>95.0</td>\n",
       "      <td>7.0</td>\n",
       "      <td>3.0</td>\n",
       "      <td>67</td>\n",
       "      <td>NaN</td>\n",
       "      <td>Набережные Челны</td>\n",
       "      <td>Афанасий</td>\n",
       "      <td>Горлов</td>\n",
       "      <td>...</td>\n",
       "      <td>500</td>\n",
       "      <td>550</td>\n",
       "      <td>200</td>\n",
       "      <td>3</td>\n",
       "      <td>3</td>\n",
       "      <td>-405.0</td>\n",
       "      <td>-43.0</td>\n",
       "      <td>-12.0</td>\n",
       "      <td>0.0</td>\n",
       "      <td>550.0</td>\n",
       "    </tr>\n",
       "    <tr>\n",
       "      <th>1</th>\n",
       "      <td>1</td>\n",
       "      <td>1032</td>\n",
       "      <td>380.0</td>\n",
       "      <td>38.0</td>\n",
       "      <td>24.0</td>\n",
       "      <td>31</td>\n",
       "      <td>NaN</td>\n",
       "      <td>Ульяновск</td>\n",
       "      <td>Инна</td>\n",
       "      <td>Игнатьева</td>\n",
       "      <td>...</td>\n",
       "      <td>500</td>\n",
       "      <td>550</td>\n",
       "      <td>200</td>\n",
       "      <td>3</td>\n",
       "      <td>3</td>\n",
       "      <td>-120.0</td>\n",
       "      <td>-12.0</td>\n",
       "      <td>9.0</td>\n",
       "      <td>1800.0</td>\n",
       "      <td>2350.0</td>\n",
       "    </tr>\n",
       "    <tr>\n",
       "      <th>2</th>\n",
       "      <td>1</td>\n",
       "      <td>1045</td>\n",
       "      <td>9.0</td>\n",
       "      <td>5.0</td>\n",
       "      <td>3.0</td>\n",
       "      <td>48</td>\n",
       "      <td>NaN</td>\n",
       "      <td>Улан-Удэ</td>\n",
       "      <td>Джемма</td>\n",
       "      <td>Карасева</td>\n",
       "      <td>...</td>\n",
       "      <td>500</td>\n",
       "      <td>550</td>\n",
       "      <td>200</td>\n",
       "      <td>3</td>\n",
       "      <td>3</td>\n",
       "      <td>-491.0</td>\n",
       "      <td>-45.0</td>\n",
       "      <td>-12.0</td>\n",
       "      <td>0.0</td>\n",
       "      <td>550.0</td>\n",
       "    </tr>\n",
       "    <tr>\n",
       "      <th>3</th>\n",
       "      <td>1</td>\n",
       "      <td>1055</td>\n",
       "      <td>551.0</td>\n",
       "      <td>30.0</td>\n",
       "      <td>17.0</td>\n",
       "      <td>39</td>\n",
       "      <td>NaN</td>\n",
       "      <td>Казань</td>\n",
       "      <td>Луиза</td>\n",
       "      <td>Березина</td>\n",
       "      <td>...</td>\n",
       "      <td>500</td>\n",
       "      <td>550</td>\n",
       "      <td>200</td>\n",
       "      <td>3</td>\n",
       "      <td>3</td>\n",
       "      <td>51.0</td>\n",
       "      <td>-20.0</td>\n",
       "      <td>2.0</td>\n",
       "      <td>553.0</td>\n",
       "      <td>1103.0</td>\n",
       "    </tr>\n",
       "    <tr>\n",
       "      <th>4</th>\n",
       "      <td>1</td>\n",
       "      <td>1071</td>\n",
       "      <td>194.0</td>\n",
       "      <td>16.0</td>\n",
       "      <td>16.0</td>\n",
       "      <td>20</td>\n",
       "      <td>2018-08-31</td>\n",
       "      <td>Омск</td>\n",
       "      <td>Гектор</td>\n",
       "      <td>Чумаков</td>\n",
       "      <td>...</td>\n",
       "      <td>500</td>\n",
       "      <td>550</td>\n",
       "      <td>200</td>\n",
       "      <td>3</td>\n",
       "      <td>3</td>\n",
       "      <td>-306.0</td>\n",
       "      <td>-34.0</td>\n",
       "      <td>1.0</td>\n",
       "      <td>200.0</td>\n",
       "      <td>750.0</td>\n",
       "    </tr>\n",
       "  </tbody>\n",
       "</table>\n",
       "<p>5 rows × 24 columns</p>\n",
       "</div>"
      ],
      "text/plain": [
       "   month  user_id  minutes_used  messages_sent  gb_used  age  churn_date  \\\n",
       "0      1     1005          95.0            7.0      3.0   67         NaN   \n",
       "1      1     1032         380.0           38.0     24.0   31         NaN   \n",
       "2      1     1045           9.0            5.0      3.0   48         NaN   \n",
       "3      1     1055         551.0           30.0     17.0   39         NaN   \n",
       "4      1     1071         194.0           16.0     16.0   20  2018-08-31   \n",
       "\n",
       "               city first_name  last_name  ... minutes_included  \\\n",
       "0  Набережные Челны   Афанасий     Горлов  ...              500   \n",
       "1         Ульяновск       Инна  Игнатьева  ...              500   \n",
       "2          Улан-Удэ     Джемма   Карасева  ...              500   \n",
       "3            Казань      Луиза   Березина  ...              500   \n",
       "4              Омск     Гектор    Чумаков  ...              500   \n",
       "\n",
       "  rub_monthly_fee  rub_per_gb  rub_per_message  rub_per_minute  over_minutes  \\\n",
       "0             550         200                3               3        -405.0   \n",
       "1             550         200                3               3        -120.0   \n",
       "2             550         200                3               3        -491.0   \n",
       "3             550         200                3               3          51.0   \n",
       "4             550         200                3               3        -306.0   \n",
       "\n",
       "   over_messages  over_gb  income  total_fee  \n",
       "0          -43.0    -12.0     0.0      550.0  \n",
       "1          -12.0      9.0  1800.0     2350.0  \n",
       "2          -45.0    -12.0     0.0      550.0  \n",
       "3          -20.0      2.0   553.0     1103.0  \n",
       "4          -34.0      1.0   200.0      750.0  \n",
       "\n",
       "[5 rows x 24 columns]"
      ]
     },
     "execution_count": 65,
     "metadata": {},
     "output_type": "execute_result"
    }
   ],
   "source": [
    "df_gen['total_fee'] = df_gen['income'] + df_gen['rub_monthly_fee']\n",
    "df_gen.head()"
   ]
  },
  {
   "cell_type": "markdown",
   "metadata": {},
   "source": [
    "Таким образом, в колонке total_fee сохранена помесячная оплата по каждому пользователю, включая сам пакет и услуги, которые превысили пакет для тех, кто превысил"
   ]
  },
  {
   "cell_type": "markdown",
   "metadata": {},
   "source": [
    "В шаге подсчетов были расчитаны:\n",
    "\n",
    "а) По месяцам\n",
    "   - количество минут разговора\n",
    "   - оправленных сообщений\n",
    "   - использованного трафика в гб \n",
    "   \n",
    "б) Помесячная выручка по каждому пользователю "
   ]
  },
  {
   "cell_type": "markdown",
   "metadata": {},
   "source": [
    "**3. Анализ данных**"
   ]
  },
  {
   "cell_type": "markdown",
   "metadata": {},
   "source": [
    "Для ответа на вопрос сколько требуется минут разговора, сообщений и интернета в месяц пользвателям каждого тарифа построю сводную таблицу с подсчетом среднего, дисперсии и стандартного отклонения"
   ]
  },
  {
   "cell_type": "markdown",
   "metadata": {},
   "source": [
    "*Среднее, дисперсия и стандартное отклонение*"
   ]
  },
  {
   "cell_type": "code",
   "execution_count": 66,
   "metadata": {},
   "outputs": [
    {
     "data": {
      "text/html": [
       "<div>\n",
       "<style scoped>\n",
       "    .dataframe tbody tr th:only-of-type {\n",
       "        vertical-align: middle;\n",
       "    }\n",
       "\n",
       "    .dataframe tbody tr th {\n",
       "        vertical-align: top;\n",
       "    }\n",
       "\n",
       "    .dataframe thead tr th {\n",
       "        text-align: left;\n",
       "    }\n",
       "\n",
       "    .dataframe thead tr:last-of-type th {\n",
       "        text-align: right;\n",
       "    }\n",
       "</style>\n",
       "<table border=\"1\" class=\"dataframe\">\n",
       "  <thead>\n",
       "    <tr>\n",
       "      <th></th>\n",
       "      <th colspan=\"3\" halign=\"left\">mean</th>\n",
       "      <th colspan=\"3\" halign=\"left\">var</th>\n",
       "      <th colspan=\"3\" halign=\"left\">std</th>\n",
       "    </tr>\n",
       "    <tr>\n",
       "      <th></th>\n",
       "      <th>gb_used</th>\n",
       "      <th>messages_sent</th>\n",
       "      <th>minutes_used</th>\n",
       "      <th>gb_used</th>\n",
       "      <th>messages_sent</th>\n",
       "      <th>minutes_used</th>\n",
       "      <th>gb_used</th>\n",
       "      <th>messages_sent</th>\n",
       "      <th>minutes_used</th>\n",
       "    </tr>\n",
       "    <tr>\n",
       "      <th>tariff</th>\n",
       "      <th></th>\n",
       "      <th></th>\n",
       "      <th></th>\n",
       "      <th></th>\n",
       "      <th></th>\n",
       "      <th></th>\n",
       "      <th></th>\n",
       "      <th></th>\n",
       "      <th></th>\n",
       "    </tr>\n",
       "  </thead>\n",
       "  <tbody>\n",
       "    <tr>\n",
       "      <th>smart</th>\n",
       "      <td>16.34</td>\n",
       "      <td>38.72</td>\n",
       "      <td>419.06</td>\n",
       "      <td>32.92</td>\n",
       "      <td>717.59</td>\n",
       "      <td>35844.19</td>\n",
       "      <td>5.74</td>\n",
       "      <td>26.79</td>\n",
       "      <td>189.33</td>\n",
       "    </tr>\n",
       "    <tr>\n",
       "      <th>ultra</th>\n",
       "      <td>19.69</td>\n",
       "      <td>61.16</td>\n",
       "      <td>545.45</td>\n",
       "      <td>94.15</td>\n",
       "      <td>2109.66</td>\n",
       "      <td>94203.42</td>\n",
       "      <td>9.70</td>\n",
       "      <td>45.93</td>\n",
       "      <td>306.93</td>\n",
       "    </tr>\n",
       "  </tbody>\n",
       "</table>\n",
       "</div>"
      ],
      "text/plain": [
       "          mean                                var                             \\\n",
       "       gb_used messages_sent minutes_used gb_used messages_sent minutes_used   \n",
       "tariff                                                                         \n",
       "smart    16.34         38.72       419.06   32.92        717.59     35844.19   \n",
       "ultra    19.69         61.16       545.45   94.15       2109.66     94203.42   \n",
       "\n",
       "           std                             \n",
       "       gb_used messages_sent minutes_used  \n",
       "tariff                                     \n",
       "smart     5.74         26.79       189.33  \n",
       "ultra     9.70         45.93       306.93  "
      ]
     },
     "execution_count": 66,
     "metadata": {},
     "output_type": "execute_result"
    }
   ],
   "source": [
    "df_gen.pivot_table(index='tariff', values=['minutes_used','messages_sent','gb_used'], aggfunc= [np.mean, np.var, np.std]).round(2)\n"
   ]
  },
  {
   "cell_type": "markdown",
   "metadata": {},
   "source": [
    "*Гистограмма минут разговора для двух тарифов*"
   ]
  },
  {
   "cell_type": "code",
   "execution_count": 67,
   "metadata": {
    "scrolled": true
   },
   "outputs": [
    {
     "data": {
      "image/png": "[encoded data removed]",
      "text/plain": [
       "<Figure size 432x288 with 1 Axes>"
      ]
     },
     "metadata": {
      "needs_background": "light"
     },
     "output_type": "display_data"
    }
   ],
   "source": [
    "smart = df_gen.query('tariff == \"smart\"')\n",
    "ultra = df_gen.query('tariff == \"ultra\"')\n",
    "smart['minutes_used'].hist(bins=100, label='smart')\n",
    "ultra['minutes_used'].hist(bins=100, label='ultra')\n",
    "plt.legend()\n",
    "plt.show()\n"
   ]
  },
  {
   "cell_type": "markdown",
   "metadata": {},
   "source": [
    "Значения в таблице и графики показывают, что по минутам разговора в среднем пользователи обоих тарифов \"укладываются\" в пакет, то есть не расходуют больше того, что включено в тариф. Пользователи тарифа ультра расходуют больше, чем пользователи смарта. И если при включенных 500 минутах в тарифе смарт, среднее близко к а границе (500 минут), а пользователи ультра далеки от своей границы (3000 минут), можно заключить, что пользователи смарта чаще выходят \"из пакета\" по минутам и тратят дополнительно на поминутной тарификации. Значения распределны нормально, есть небольшая ассиметрия"
   ]
  },
  {
   "cell_type": "markdown",
   "metadata": {},
   "source": [
    "*Гистограмма Отправленные сообщения*"
   ]
  },
  {
   "cell_type": "code",
   "execution_count": 68,
   "metadata": {},
   "outputs": [
    {
     "data": {
      "image/png": "[encoded data removed]",
      "text/plain": [
       "<Figure size 432x288 with 1 Axes>"
      ]
     },
     "metadata": {
      "needs_background": "light"
     },
     "output_type": "display_data"
    }
   ],
   "source": [
    "smart['messages_sent'].hist(bins=50,alpha=0.5, label='smart')\n",
    "ultra['messages_sent'].hist(bins=50, alpha=0.5, label='ultra')\n",
    "plt.legend()\n",
    "plt.show()"
   ]
  },
  {
   "cell_type": "markdown",
   "metadata": {},
   "source": [
    "В среднем пользователи ультра отправляют сообщений больше, чем пользователи смарта (примерно в 1,2-2 раза в зависимости от месяца). При этом пакетно их лимиты отличаются в 20 раз. Подробнее посмотрю на значения этих колонок методом describe"
   ]
  },
  {
   "cell_type": "code",
   "execution_count": 70,
   "metadata": {},
   "outputs": [
    {
     "data": {
      "text/plain": [
       "count    1922.000000\n",
       "mean       38.716441\n",
       "std        26.787949\n",
       "min         1.000000\n",
       "25%        17.000000\n",
       "50%        34.000000\n",
       "75%        55.000000\n",
       "max       143.000000\n",
       "Name: messages_sent, dtype: float64"
      ]
     },
     "execution_count": 70,
     "metadata": {},
     "output_type": "execute_result"
    }
   ],
   "source": [
    "smart['messages_sent'].describe()"
   ]
  },
  {
   "cell_type": "code",
   "execution_count": 71,
   "metadata": {},
   "outputs": [
    {
     "data": {
      "text/plain": [
       "count    795.000000\n",
       "mean      61.161006\n",
       "std       45.931026\n",
       "min        1.000000\n",
       "25%       24.000000\n",
       "50%       51.000000\n",
       "75%       87.500000\n",
       "max      224.000000\n",
       "Name: messages_sent, dtype: float64"
      ]
     },
     "execution_count": 71,
     "metadata": {},
     "output_type": "execute_result"
    }
   ],
   "source": [
    "ultra['messages_sent'].describe()"
   ]
  },
  {
   "cell_type": "markdown",
   "metadata": {},
   "source": [
    "Пользователи ультра за исследуемый период вообще не выходят за пределы пакета по сообщениям - максимальное значение 224 (против 1000 сообщений в пакете). А пользователи смарта очевидно выходят: среднее - 38, медиана - 34, 75%квартиль - 55. Максимальное значение - 143 (против 50 сообщений в пакете). Обе гистограммы также имеют небольшую положительную скошенность - больше значений справа от оси"
   ]
  },
  {
   "cell_type": "markdown",
   "metadata": {},
   "source": [
    "*Расход трафика*"
   ]
  },
  {
   "cell_type": "code",
   "execution_count": 72,
   "metadata": {
    "scrolled": true
   },
   "outputs": [
    {
     "data": {
      "image/png": "[encoded data removed]",
      "text/plain": [
       "<Figure size 432x288 with 1 Axes>"
      ]
     },
     "metadata": {
      "needs_background": "light"
     },
     "output_type": "display_data"
    }
   ],
   "source": [
    "smart['gb_used'].hist(bins=50, label='smart')\n",
    "ultra['gb_used'].hist(bins=50, label='ultra')\n",
    "plt.legend()\n",
    "plt.show()"
   ]
  },
  {
   "cell_type": "markdown",
   "metadata": {},
   "source": [
    "Добавлю к описанию \"сухие цифры\""
   ]
  },
  {
   "cell_type": "code",
   "execution_count": 73,
   "metadata": {},
   "outputs": [
    {
     "data": {
      "text/plain": [
       "count    2228.000000\n",
       "mean       16.336176\n",
       "std         5.737923\n",
       "min         0.000000\n",
       "25%        13.000000\n",
       "50%        17.000000\n",
       "75%        20.000000\n",
       "max        38.000000\n",
       "Name: gb_used, dtype: float64"
      ]
     },
     "execution_count": 73,
     "metadata": {},
     "output_type": "execute_result"
    }
   ],
   "source": [
    "smart['gb_used'].describe()"
   ]
  },
  {
   "cell_type": "code",
   "execution_count": 74,
   "metadata": {},
   "outputs": [
    {
     "data": {
      "text/plain": [
       "count    975.000000\n",
       "mean      19.694359\n",
       "std        9.702924\n",
       "min        0.000000\n",
       "25%       12.000000\n",
       "50%       19.000000\n",
       "75%       27.000000\n",
       "max       49.000000\n",
       "Name: gb_used, dtype: float64"
      ]
     },
     "execution_count": 74,
     "metadata": {},
     "output_type": "execute_result"
    }
   ],
   "source": [
    "ultra['gb_used'].describe()"
   ]
  },
  {
   "cell_type": "markdown",
   "metadata": {},
   "source": [
    "По расходованию трафика картина следующая: Пользователи смарта в среднем превышают лимит пакета примерно на 1-2гб. Максимальное значение в этой группе - 38(это превышение на 23). Пользватели ультра в среднем также \"укладываются\" в свой лимит по гб (примерно 19-20 гб в месяц против 30 в тарифе)"
   ]
  },
  {
   "cell_type": "markdown",
   "metadata": {},
   "source": [
    "Анализ данных показал некоторые различия в поведении пользователей. По использованию минут разговора и отправке сообщений, пользователи ультра почти никогда не выходят за лимит, тогда как смарт-пользователи выходят и по минутам, и по сообщениям. Можно сказать, что смарт-пользователи по этим услугам больше тратят на дополнительных минутах и сообщениях. По расходованию трафика в среднем ультра не выходят за лимит (около 20 гб против 30 в тарифе), а вот пользователи смарт используют примерно 16 гб против 15 в тарифе. Таким образом, они в среднем чаще превышают лимит своего тарифа. Однако не стоит забывать, что тариф ультра дороже смарта. Нужно понять по удельной выручке с клиентов, кто же все-таки приносит больше дохода компании."
   ]
  },
  {
   "cell_type": "markdown",
   "metadata": {},
   "source": [
    "**4. Проверка гипотез**"
   ]
  },
  {
   "cell_type": "markdown",
   "metadata": {},
   "source": [
    "Нужно проверить две гипотезы:\n",
    "- средняя выручка пользователей ультра и смарт различаются\n",
    "- средняя выручка пользователей из Москвы отличается от выручки пользователей других регионов"
   ]
  },
  {
   "cell_type": "markdown",
   "metadata": {},
   "source": [
    "*Формулирование гипотез*"
   ]
  },
  {
   "cell_type": "markdown",
   "metadata": {},
   "source": [
    "1) - Нулевая гипотеза (Н0) - средняя выручка пользователей ультра и смарт равны\n",
    "   - Альтернативная гипотеза (Н1) = средняя выручка пользователей ультра и смарт не равны\n",
    "   \n",
    "2) - Нулевая гипотеза (Н0) - средняя выручка пользователей из Москвы равна средней выручке пользователей других регионов\n",
    "   - Альтернативная гипотеза (Н1) - средняя выручка пользователей из Москвы не равна средней выручке пользователей других регионов"
   ]
  },
  {
   "cell_type": "code",
   "execution_count": 75,
   "metadata": {},
   "outputs": [],
   "source": [
    "sample_smart = smart['total_fee']\n",
    "sample_ultra = ultra['total_fee']"
   ]
  },
  {
   "cell_type": "markdown",
   "metadata": {},
   "source": [
    "Необходимые для теста массивы сохраняю в переменные sample"
   ]
  },
  {
   "cell_type": "markdown",
   "metadata": {},
   "source": [
    "Так как предстоит сравнить две средние совокупности, взятые по выборкам, я буду использовать тест ttest_ind"
   ]
  },
  {
   "cell_type": "code",
   "execution_count": 76,
   "metadata": {},
   "outputs": [
    {
     "data": {
      "text/plain": [
       "'p-значение:'"
      ]
     },
     "metadata": {},
     "output_type": "display_data"
    },
    {
     "data": {
      "text/plain": [
       "1.4229814360764067e-160"
      ]
     },
     "metadata": {},
     "output_type": "display_data"
    },
    {
     "data": {
      "text/plain": [
       "'Отвергаем нулевую гипотезу'"
      ]
     },
     "metadata": {},
     "output_type": "display_data"
    },
    {
     "data": {
      "text/plain": [
       "'Выручка по смарт Среднее'"
      ]
     },
     "metadata": {},
     "output_type": "display_data"
    },
    {
     "data": {
      "text/plain": [
       "1289.9735307312696"
      ]
     },
     "metadata": {},
     "output_type": "display_data"
    },
    {
     "data": {
      "text/plain": [
       "'Выручка по ультра Среднее'"
      ]
     },
     "metadata": {},
     "output_type": "display_data"
    },
    {
     "data": {
      "text/plain": [
       "2070.1522842639592"
      ]
     },
     "metadata": {},
     "output_type": "display_data"
    }
   ],
   "source": [
    "alpha = .05\n",
    "results = st.ttest_ind(sample_smart,sample_ultra)\n",
    "results.pvalue\n",
    "\n",
    "display('p-значение:',results.pvalue)\n",
    "\n",
    "if results.pvalue < alpha:\n",
    "    display('Отвергаем нулевую гипотезу')\n",
    "else:\n",
    "    display('Не отвергаем нулевую гипотезу')\n",
    "\n",
    "display ('Выручка по смарт Среднее', sample_smart.mean())\n",
    "display ('Выручка по ультра Среднее', sample_ultra.mean())"
   ]
  },
  {
   "cell_type": "markdown",
   "metadata": {},
   "source": [
    "Результат - средняя выручка пользователей смарт и ультра не равны"
   ]
  },
  {
   "cell_type": "markdown",
   "metadata": {},
   "source": [
    "Для проверки второй части также сохраняю массивы в переменных"
   ]
  },
  {
   "cell_type": "code",
   "execution_count": 77,
   "metadata": {},
   "outputs": [],
   "source": [
    "sample_moscow = df_gen.query('city == \"Москва\"')['total_fee']\n",
    "sample_other = df_gen.query('city != \"Москва\"')['total_fee']"
   ]
  },
  {
   "cell_type": "code",
   "execution_count": 78,
   "metadata": {},
   "outputs": [
    {
     "data": {
      "text/plain": [
       "'p-значение:'"
      ]
     },
     "metadata": {},
     "output_type": "display_data"
    },
    {
     "data": {
      "text/plain": [
       "0.5440152911670224"
      ]
     },
     "metadata": {},
     "output_type": "display_data"
    },
    {
     "data": {
      "text/plain": [
       "'Не отвергаем нулевую гипотезу'"
      ]
     },
     "metadata": {},
     "output_type": "display_data"
    },
    {
     "data": {
      "text/plain": [
       "'Выручка по Москве Среднее'"
      ]
     },
     "metadata": {},
     "output_type": "display_data"
    },
    {
     "data": {
      "text/plain": [
       "1546.7135842880523"
      ]
     },
     "metadata": {},
     "output_type": "display_data"
    },
    {
     "data": {
      "text/plain": [
       "'Выручка по регионам Среднее'"
      ]
     },
     "metadata": {},
     "output_type": "display_data"
    },
    {
     "data": {
      "text/plain": [
       "1524.9362274298885"
      ]
     },
     "metadata": {},
     "output_type": "display_data"
    }
   ],
   "source": [
    "alpha = .05\n",
    "results = st.ttest_ind(sample_moscow,sample_other) \n",
    "results.pvalue\n",
    "\n",
    "display('p-значение:', results.pvalue)\n",
    "if results.pvalue < alpha:\n",
    "    display('Отвергаем нулевую гипотезу')\n",
    "else:\n",
    "    display('Не отвергаем нулевую гипотезу')\n",
    "    \n",
    "display ('Выручка по Москве Среднее', sample_moscow.mean())\n",
    "display ('Выручка по регионам Среднее', sample_other.mean())"
   ]
  },
  {
   "cell_type": "markdown",
   "metadata": {},
   "source": [
    "Проверка гипотезы о равенстве средней выручки Москвы и других регионов дала результат \"не равны\""
   ]
  },
  {
   "cell_type": "markdown",
   "metadata": {},
   "source": [
    "Чтобы ответить на вопрос, какой тариф приносит больше денег компании, я дополнительно посмотрю на сведения об оплате"
   ]
  },
  {
   "cell_type": "code",
   "execution_count": 79,
   "metadata": {},
   "outputs": [
    {
     "data": {
      "text/plain": [
       "count    2229.000000\n",
       "mean     1289.973531\n",
       "std       818.404367\n",
       "min       550.000000\n",
       "25%       550.000000\n",
       "50%      1023.000000\n",
       "75%      1750.000000\n",
       "max      6770.000000\n",
       "Name: total_fee, dtype: float64"
      ]
     },
     "execution_count": 79,
     "metadata": {},
     "output_type": "execute_result"
    }
   ],
   "source": [
    "sample_smart.describe()"
   ]
  },
  {
   "cell_type": "code",
   "execution_count": 80,
   "metadata": {},
   "outputs": [
    {
     "data": {
      "text/plain": [
       "count     985.000000\n",
       "mean     2070.152284\n",
       "std       376.187114\n",
       "min      1950.000000\n",
       "25%      1950.000000\n",
       "50%      1950.000000\n",
       "75%      1950.000000\n",
       "max      4800.000000\n",
       "Name: total_fee, dtype: float64"
      ]
     },
     "execution_count": 80,
     "metadata": {},
     "output_type": "execute_result"
    }
   ],
   "source": [
    "sample_ultra.describe()"
   ]
  },
  {
   "cell_type": "code",
   "execution_count": 81,
   "metadata": {},
   "outputs": [
    {
     "data": {
      "image/png": "[encoded data removed]",
      "text/plain": [
       "<Figure size 432x288 with 1 Axes>"
      ]
     },
     "metadata": {
      "needs_background": "light"
     },
     "output_type": "display_data"
    }
   ],
   "source": [
    "sample_smart.hist(bins=20, label='smart')\n",
    "sample_ultra.hist(bins=20, label='ultra')\n",
    "plt.legend()\n",
    "plt.show()"
   ]
  },
  {
   "cell_type": "markdown",
   "metadata": {},
   "source": [
    "В среднем всего больше тратят ультра-пользователи(2048р) и большая часть их трат приходится на оплату пакета. У пользователей смарт на оплату пакета уходит около 60%, остальное - дополнительные минуты, сообщения, гб. Гистограмма наглядно показывает распределение для двух групп пользователей. И несмотря на то, что пользователи ультра в целом тратят больше, я назову более перспективным тарифом смарт, так как количество пользователей смарт намного превышает ультра и общим итого они могут принести больше дохода оператору сотовой связи."
   ]
  },
  {
   "cell_type": "markdown",
   "metadata": {},
   "source": [
    "**Общий вывод**"
   ]
  },
  {
   "cell_type": "markdown",
   "metadata": {},
   "source": [
    "Несмотря на то, что тариф смарт стоит дешевле почти в 4 раза, чем ультра, пользователи смарта по всем услугам (звонки, сообщения, интернет) превышают лимит и больше платят за дополнительные минуты и сообщения(3р против 1р у ультра) и за интернет (200 против 150). Также нужно сказать, что количество пользователей смарт больше. Исходя из вышесказанного, я бы назвала смарт более перспективным тарифом для телеком-компании. Однако не совсем справедливо будет основываться на количестве пользователей, это число может быть изменчивым. По среднему пользователи ультра приносят больше выручки."
   ]
  }
 ],
 "metadata": {
  "ExecuteTimeLog": [
   {
    "duration": 101,
    "start_time": "2022-02-19T09:01:26.054Z"
   },
   {
    "duration": 1348,
    "start_time": "2022-02-19T09:03:14.459Z"
   },
   {
    "duration": 212,
    "start_time": "2022-02-19T09:05:27.949Z"
   },
   {
    "duration": 212,
    "start_time": "2022-02-19T09:06:12.425Z"
   },
   {
    "duration": 177,
    "start_time": "2022-02-19T09:07:20.602Z"
   },
   {
    "duration": 182,
    "start_time": "2022-02-19T09:07:54.695Z"
   },
   {
    "duration": 125,
    "start_time": "2022-02-19T09:09:21.360Z"
   },
   {
    "duration": 126,
    "start_time": "2022-02-19T09:09:39.471Z"
   },
   {
    "duration": 254,
    "start_time": "2022-02-19T09:10:31.596Z"
   },
   {
    "duration": 200,
    "start_time": "2022-02-19T09:10:45.666Z"
   },
   {
    "duration": 124,
    "start_time": "2022-02-19T09:12:12.777Z"
   },
   {
    "duration": 128,
    "start_time": "2022-02-19T09:12:25.941Z"
   },
   {
    "duration": 191,
    "start_time": "2022-02-19T09:12:44.202Z"
   },
   {
    "duration": 125,
    "start_time": "2022-02-19T09:13:20.610Z"
   },
   {
    "duration": 20,
    "start_time": "2022-02-19T09:14:46.503Z"
   },
   {
    "duration": 22,
    "start_time": "2022-02-19T09:15:03.820Z"
   },
   {
    "duration": 25,
    "start_time": "2022-02-19T09:17:29.410Z"
   },
   {
    "duration": 25,
    "start_time": "2022-02-19T09:17:42.557Z"
   },
   {
    "duration": 30,
    "start_time": "2022-02-19T09:18:28.601Z"
   },
   {
    "duration": 23,
    "start_time": "2022-02-19T09:18:46.263Z"
   },
   {
    "duration": 21,
    "start_time": "2022-02-19T09:18:55.510Z"
   },
   {
    "duration": 35,
    "start_time": "2022-02-19T09:19:54.715Z"
   },
   {
    "duration": 42,
    "start_time": "2022-02-19T09:23:16.624Z"
   },
   {
    "duration": 146,
    "start_time": "2022-02-19T09:28:21.561Z"
   },
   {
    "duration": 7617,
    "start_time": "2022-02-19T09:29:08.876Z"
   },
   {
    "duration": 384,
    "start_time": "2022-02-19T09:30:17.024Z"
   },
   {
    "duration": 43,
    "start_time": "2022-02-19T09:32:55.831Z"
   },
   {
    "duration": 32,
    "start_time": "2022-02-19T09:33:16.401Z"
   },
   {
    "duration": 86,
    "start_time": "2022-02-19T09:39:23.025Z"
   },
   {
    "duration": 171,
    "start_time": "2022-02-19T09:40:03.435Z"
   },
   {
    "duration": -3227,
    "start_time": "2022-02-19T09:41:16.090Z"
   },
   {
    "duration": 8541,
    "start_time": "2022-02-19T09:41:18.571Z"
   },
   {
    "duration": 182,
    "start_time": "2022-02-19T09:41:32.492Z"
   },
   {
    "duration": 186,
    "start_time": "2022-02-19T09:42:23.879Z"
   },
   {
    "duration": 194,
    "start_time": "2022-02-19T09:42:44.456Z"
   },
   {
    "duration": 179,
    "start_time": "2022-02-19T09:42:51.183Z"
   },
   {
    "duration": 181,
    "start_time": "2022-02-19T09:42:59.936Z"
   },
   {
    "duration": 203,
    "start_time": "2022-02-19T09:43:18.772Z"
   },
   {
    "duration": 153,
    "start_time": "2022-02-19T09:53:43.940Z"
   },
   {
    "duration": 97,
    "start_time": "2022-02-19T09:58:17.419Z"
   },
   {
    "duration": 333,
    "start_time": "2022-02-19T10:06:40.169Z"
   },
   {
    "duration": 303,
    "start_time": "2022-02-19T10:07:35.145Z"
   },
   {
    "duration": 546,
    "start_time": "2022-02-19T10:09:46.271Z"
   },
   {
    "duration": 296,
    "start_time": "2022-02-19T10:09:56.739Z"
   },
   {
    "duration": 296,
    "start_time": "2022-02-19T10:13:55.254Z"
   },
   {
    "duration": 3,
    "start_time": "2022-02-19T10:16:19.154Z"
   },
   {
    "duration": 425,
    "start_time": "2022-02-19T10:38:21.416Z"
   },
   {
    "duration": 352,
    "start_time": "2022-02-19T10:39:30.349Z"
   },
   {
    "duration": 4,
    "start_time": "2022-02-19T10:39:39.233Z"
   },
   {
    "duration": 304,
    "start_time": "2022-02-19T10:40:48.869Z"
   },
   {
    "duration": 296,
    "start_time": "2022-02-19T10:41:17.886Z"
   },
   {
    "duration": 336,
    "start_time": "2022-02-19T10:42:00.011Z"
   },
   {
    "duration": 203,
    "start_time": "2022-02-19T10:44:39.513Z"
   },
   {
    "duration": 3,
    "start_time": "2022-02-19T10:47:01.359Z"
   },
   {
    "duration": 255,
    "start_time": "2022-02-19T10:47:33.463Z"
   },
   {
    "duration": 208,
    "start_time": "2022-02-19T10:47:39.539Z"
   },
   {
    "duration": 405,
    "start_time": "2022-02-19T10:47:56.927Z"
   },
   {
    "duration": 298,
    "start_time": "2022-02-19T10:48:07.951Z"
   },
   {
    "duration": 295,
    "start_time": "2022-02-19T10:48:23.716Z"
   },
   {
    "duration": 6,
    "start_time": "2022-02-19T10:48:36.764Z"
   },
   {
    "duration": 13,
    "start_time": "2022-02-19T10:48:54.444Z"
   },
   {
    "duration": 295,
    "start_time": "2022-02-19T10:53:03.978Z"
   },
   {
    "duration": 354,
    "start_time": "2022-02-19T10:59:03.824Z"
   },
   {
    "duration": 302,
    "start_time": "2022-02-19T10:59:12.655Z"
   },
   {
    "duration": 322,
    "start_time": "2022-02-19T11:05:27.060Z"
   },
   {
    "duration": 304,
    "start_time": "2022-02-19T11:05:57.139Z"
   },
   {
    "duration": 351,
    "start_time": "2022-02-19T11:06:27.501Z"
   },
   {
    "duration": 307,
    "start_time": "2022-02-19T11:09:23.587Z"
   },
   {
    "duration": 1461,
    "start_time": "2022-02-19T11:09:42.247Z"
   },
   {
    "duration": 211,
    "start_time": "2022-02-19T11:09:43.711Z"
   },
   {
    "duration": 186,
    "start_time": "2022-02-19T11:09:43.925Z"
   },
   {
    "duration": 136,
    "start_time": "2022-02-19T11:09:44.114Z"
   },
   {
    "duration": 22,
    "start_time": "2022-02-19T11:09:44.252Z"
   },
   {
    "duration": 37,
    "start_time": "2022-02-19T11:09:44.276Z"
   },
   {
    "duration": 2,
    "start_time": "2022-02-19T11:09:44.316Z"
   },
   {
    "duration": 196,
    "start_time": "2022-02-19T11:09:44.321Z"
   },
   {
    "duration": 3,
    "start_time": "2022-02-19T11:09:44.522Z"
   },
   {
    "duration": 7491,
    "start_time": "2022-02-19T11:09:44.528Z"
   },
   {
    "duration": 416,
    "start_time": "2022-02-19T11:11:00.240Z"
   },
   {
    "duration": 376,
    "start_time": "2022-02-19T11:11:24.323Z"
   },
   {
    "duration": 17,
    "start_time": "2022-02-19T11:15:30.498Z"
   },
   {
    "duration": 17,
    "start_time": "2022-02-19T11:16:47.563Z"
   },
   {
    "duration": 27,
    "start_time": "2022-02-19T11:21:08.274Z"
   },
   {
    "duration": 15,
    "start_time": "2022-02-19T11:21:31.603Z"
   },
   {
    "duration": 16,
    "start_time": "2022-02-19T11:21:47.507Z"
   },
   {
    "duration": 27,
    "start_time": "2022-02-19T11:22:07.380Z"
   },
   {
    "duration": 34,
    "start_time": "2022-02-19T11:22:24.584Z"
   },
   {
    "duration": 310,
    "start_time": "2022-02-19T11:23:57.220Z"
   },
   {
    "duration": 30,
    "start_time": "2022-02-19T11:24:11.301Z"
   },
   {
    "duration": 29,
    "start_time": "2022-02-19T11:24:15.604Z"
   },
   {
    "duration": 30,
    "start_time": "2022-02-19T11:24:31.333Z"
   },
   {
    "duration": 32,
    "start_time": "2022-02-19T11:28:41.248Z"
   },
   {
    "duration": 45,
    "start_time": "2022-02-19T11:28:56.276Z"
   },
   {
    "duration": 15,
    "start_time": "2022-02-19T11:29:46.685Z"
   },
   {
    "duration": 12,
    "start_time": "2022-02-19T11:30:53.213Z"
   },
   {
    "duration": 15,
    "start_time": "2022-02-19T11:30:58.858Z"
   },
   {
    "duration": 11,
    "start_time": "2022-02-19T11:32:20.069Z"
   },
   {
    "duration": 312,
    "start_time": "2022-02-19T11:32:32.694Z"
   },
   {
    "duration": 15,
    "start_time": "2022-02-19T11:32:46.019Z"
   },
   {
    "duration": 14,
    "start_time": "2022-02-19T11:41:36.753Z"
   },
   {
    "duration": 12,
    "start_time": "2022-02-19T11:42:16.414Z"
   },
   {
    "duration": 11,
    "start_time": "2022-02-19T11:46:07.420Z"
   },
   {
    "duration": 15,
    "start_time": "2022-02-19T11:46:22.233Z"
   },
   {
    "duration": 102,
    "start_time": "2022-02-19T11:56:28.820Z"
   },
   {
    "duration": 38,
    "start_time": "2022-02-19T11:56:53.808Z"
   },
   {
    "duration": 31,
    "start_time": "2022-02-19T11:57:10.468Z"
   },
   {
    "duration": 35,
    "start_time": "2022-02-19T11:57:52.841Z"
   },
   {
    "duration": 15,
    "start_time": "2022-02-19T11:59:28.530Z"
   },
   {
    "duration": 336,
    "start_time": "2022-02-19T12:10:02.074Z"
   },
   {
    "duration": 42,
    "start_time": "2022-02-19T12:10:54.178Z"
   },
   {
    "duration": 28,
    "start_time": "2022-02-19T12:13:32.176Z"
   },
   {
    "duration": 58,
    "start_time": "2022-02-19T12:17:58.316Z"
   },
   {
    "duration": 545,
    "start_time": "2022-02-19T12:21:23.294Z"
   },
   {
    "duration": 325,
    "start_time": "2022-02-19T12:21:33.086Z"
   },
   {
    "duration": 78,
    "start_time": "2022-02-19T12:22:01.827Z"
   },
   {
    "duration": 97,
    "start_time": "2022-02-19T12:23:08.124Z"
   },
   {
    "duration": 594,
    "start_time": "2022-02-19T12:36:28.828Z"
   },
   {
    "duration": 86,
    "start_time": "2022-02-19T12:36:50.241Z"
   },
   {
    "duration": 106,
    "start_time": "2022-02-19T12:37:03.532Z"
   },
   {
    "duration": 158,
    "start_time": "2022-02-19T12:38:14.998Z"
   },
   {
    "duration": 511,
    "start_time": "2022-02-19T12:38:22.974Z"
   },
   {
    "duration": 442,
    "start_time": "2022-02-19T12:38:40.097Z"
   },
   {
    "duration": 149,
    "start_time": "2022-02-19T12:39:22.227Z"
   },
   {
    "duration": 122,
    "start_time": "2022-02-19T12:42:25.037Z"
   },
   {
    "duration": 112,
    "start_time": "2022-02-19T12:42:36.634Z"
   },
   {
    "duration": 428,
    "start_time": "2022-02-19T12:44:45.895Z"
   },
   {
    "duration": 168,
    "start_time": "2022-02-19T12:45:14.520Z"
   },
   {
    "duration": 515,
    "start_time": "2022-02-19T12:52:05.396Z"
   },
   {
    "duration": 154,
    "start_time": "2022-02-19T12:52:33.477Z"
   },
   {
    "duration": 97,
    "start_time": "2022-02-19T12:52:46.073Z"
   },
   {
    "duration": 98,
    "start_time": "2022-02-19T12:53:50.007Z"
   },
   {
    "duration": 72,
    "start_time": "2022-02-19T12:54:07.762Z"
   },
   {
    "duration": 85,
    "start_time": "2022-02-19T12:54:20.128Z"
   },
   {
    "duration": 139,
    "start_time": "2022-02-19T12:55:11.199Z"
   },
   {
    "duration": 102,
    "start_time": "2022-02-19T12:55:57.660Z"
   },
   {
    "duration": 106,
    "start_time": "2022-02-19T12:56:05.149Z"
   },
   {
    "duration": 108,
    "start_time": "2022-02-19T12:56:44.356Z"
   },
   {
    "duration": 104,
    "start_time": "2022-02-19T13:01:48.832Z"
   },
   {
    "duration": 827,
    "start_time": "2022-02-19T13:02:40.388Z"
   },
   {
    "duration": 108,
    "start_time": "2022-02-19T13:02:56.820Z"
   },
   {
    "duration": 106,
    "start_time": "2022-02-19T13:03:06.412Z"
   },
   {
    "duration": 156,
    "start_time": "2022-02-19T13:09:07.198Z"
   },
   {
    "duration": 431,
    "start_time": "2022-02-19T13:10:48.422Z"
   },
   {
    "duration": 113,
    "start_time": "2022-02-19T13:11:10.059Z"
   },
   {
    "duration": 99,
    "start_time": "2022-02-19T13:11:53.823Z"
   },
   {
    "duration": 168,
    "start_time": "2022-02-19T13:23:00.951Z"
   },
   {
    "duration": 438,
    "start_time": "2022-02-19T13:23:55.812Z"
   },
   {
    "duration": 114,
    "start_time": "2022-02-19T13:24:08.680Z"
   },
   {
    "duration": 98,
    "start_time": "2022-02-19T13:24:29.300Z"
   },
   {
    "duration": 412,
    "start_time": "2022-02-19T13:25:24.737Z"
   },
   {
    "duration": 97,
    "start_time": "2022-02-19T13:25:47.589Z"
   },
   {
    "duration": 6,
    "start_time": "2022-02-19T13:29:15.558Z"
   },
   {
    "duration": 6,
    "start_time": "2022-02-19T13:32:34.743Z"
   },
   {
    "duration": 18,
    "start_time": "2022-02-19T13:32:44.014Z"
   },
   {
    "duration": -3192,
    "start_time": "2022-02-19T13:35:30.119Z"
   },
   {
    "duration": 7925,
    "start_time": "2022-02-19T13:35:48.525Z"
   },
   {
    "duration": 35,
    "start_time": "2022-02-19T13:37:58.806Z"
   },
   {
    "duration": 354,
    "start_time": "2022-02-19T15:06:24.336Z"
   },
   {
    "duration": 7503,
    "start_time": "2022-02-19T15:06:39.819Z"
   },
   {
    "duration": 23,
    "start_time": "2022-02-19T15:07:39.513Z"
   },
   {
    "duration": 26,
    "start_time": "2022-02-19T15:08:26.753Z"
   },
   {
    "duration": 45,
    "start_time": "2022-02-19T15:09:37.485Z"
   },
   {
    "duration": 13,
    "start_time": "2022-02-19T15:18:59.078Z"
   },
   {
    "duration": 48,
    "start_time": "2022-02-19T15:27:34.892Z"
   },
   {
    "duration": 16,
    "start_time": "2022-02-19T15:34:36.988Z"
   },
   {
    "duration": 54,
    "start_time": "2022-02-19T15:34:48.693Z"
   },
   {
    "duration": 320,
    "start_time": "2022-02-19T15:38:25.532Z"
   },
   {
    "duration": 54,
    "start_time": "2022-02-19T15:38:35.177Z"
   },
   {
    "duration": 78,
    "start_time": "2022-02-19T15:39:49.812Z"
   },
   {
    "duration": 74,
    "start_time": "2022-02-19T15:42:24.298Z"
   },
   {
    "duration": 9074,
    "start_time": "2022-02-19T15:47:44.169Z"
   },
   {
    "duration": 1541,
    "start_time": "2022-02-19T15:48:45.419Z"
   },
   {
    "duration": 47,
    "start_time": "2022-02-19T16:21:28.106Z"
   },
   {
    "duration": 381,
    "start_time": "2022-02-19T16:22:36.427Z"
   },
   {
    "duration": 41,
    "start_time": "2022-02-19T16:23:10.351Z"
   },
   {
    "duration": 9,
    "start_time": "2022-02-19T16:23:37.292Z"
   },
   {
    "duration": 13,
    "start_time": "2022-02-19T16:24:19.148Z"
   },
   {
    "duration": 50,
    "start_time": "2022-02-19T16:24:28.485Z"
   },
   {
    "duration": 14,
    "start_time": "2022-02-19T16:24:40.977Z"
   },
   {
    "duration": 116,
    "start_time": "2022-02-19T16:28:13.143Z"
   },
   {
    "duration": 20,
    "start_time": "2022-02-19T16:28:25.159Z"
   },
   {
    "duration": 55,
    "start_time": "2022-02-19T16:28:38.442Z"
   },
   {
    "duration": 12,
    "start_time": "2022-02-19T16:30:22.064Z"
   },
   {
    "duration": 3,
    "start_time": "2022-02-19T16:31:00.288Z"
   },
   {
    "duration": 53,
    "start_time": "2022-02-19T16:31:02.205Z"
   },
   {
    "duration": 97,
    "start_time": "2022-02-19T16:33:56.639Z"
   },
   {
    "duration": 97,
    "start_time": "2022-02-19T16:34:15.812Z"
   },
   {
    "duration": 8095,
    "start_time": "2022-02-19T16:41:02.681Z"
   },
   {
    "duration": 1428,
    "start_time": "2022-02-19T16:42:46.460Z"
   },
   {
    "duration": 224,
    "start_time": "2022-02-19T16:42:47.890Z"
   },
   {
    "duration": 199,
    "start_time": "2022-02-19T16:42:48.117Z"
   },
   {
    "duration": 141,
    "start_time": "2022-02-19T16:42:48.319Z"
   },
   {
    "duration": 23,
    "start_time": "2022-02-19T16:42:48.462Z"
   },
   {
    "duration": 45,
    "start_time": "2022-02-19T16:42:48.487Z"
   },
   {
    "duration": 3,
    "start_time": "2022-02-19T16:42:48.534Z"
   },
   {
    "duration": 213,
    "start_time": "2022-02-19T16:42:48.551Z"
   },
   {
    "duration": 46,
    "start_time": "2022-02-19T16:42:48.767Z"
   },
   {
    "duration": 59,
    "start_time": "2022-02-19T16:42:48.815Z"
   },
   {
    "duration": 14,
    "start_time": "2022-02-19T16:42:48.877Z"
   },
   {
    "duration": 17,
    "start_time": "2022-02-19T16:42:48.894Z"
   },
   {
    "duration": 46,
    "start_time": "2022-02-19T16:42:48.914Z"
   },
   {
    "duration": 16,
    "start_time": "2022-02-19T16:42:48.963Z"
   },
   {
    "duration": 149,
    "start_time": "2022-02-19T16:42:48.982Z"
   },
   {
    "duration": 15,
    "start_time": "2022-02-19T16:42:49.134Z"
   },
   {
    "duration": 8067,
    "start_time": "2022-02-19T16:42:49.151Z"
   },
   {
    "duration": -3263,
    "start_time": "2022-02-19T16:43:00.483Z"
   },
   {
    "duration": 8224,
    "start_time": "2022-02-19T16:44:00.103Z"
   },
   {
    "duration": 10,
    "start_time": "2022-02-19T16:45:10.651Z"
   },
   {
    "duration": 31,
    "start_time": "2022-02-19T16:45:27.815Z"
   },
   {
    "duration": 8036,
    "start_time": "2022-02-19T16:47:19.317Z"
   },
   {
    "duration": 26,
    "start_time": "2022-02-19T16:48:57.482Z"
   },
   {
    "duration": 514,
    "start_time": "2022-02-19T16:56:04.660Z"
   },
   {
    "duration": 653,
    "start_time": "2022-02-19T16:59:20.716Z"
   },
   {
    "duration": 8,
    "start_time": "2022-02-19T17:00:13.110Z"
   },
   {
    "duration": 8247,
    "start_time": "2022-02-19T17:02:16.643Z"
   },
   {
    "duration": 45,
    "start_time": "2022-02-19T17:04:50.706Z"
   },
   {
    "duration": 32,
    "start_time": "2022-02-19T17:05:05.749Z"
   },
   {
    "duration": 44,
    "start_time": "2022-02-19T17:05:26.149Z"
   },
   {
    "duration": 30,
    "start_time": "2022-02-19T17:05:47.266Z"
   },
   {
    "duration": 114,
    "start_time": "2022-02-19T17:10:08.113Z"
   },
   {
    "duration": 120,
    "start_time": "2022-02-19T17:10:20.118Z"
   },
   {
    "duration": 8,
    "start_time": "2022-02-19T17:24:27.475Z"
   },
   {
    "duration": 28,
    "start_time": "2022-02-19T17:24:48.260Z"
   },
   {
    "duration": 29,
    "start_time": "2022-02-19T17:33:55.381Z"
   },
   {
    "duration": 506,
    "start_time": "2022-02-19T17:36:52.493Z"
   },
   {
    "duration": 43,
    "start_time": "2022-02-19T17:37:13.223Z"
   },
   {
    "duration": 301,
    "start_time": "2022-02-19T17:39:45.243Z"
   },
   {
    "duration": 24,
    "start_time": "2022-02-19T17:40:11.783Z"
   },
   {
    "duration": 34,
    "start_time": "2022-02-19T17:51:36.366Z"
   },
   {
    "duration": 35,
    "start_time": "2022-02-19T18:35:36.995Z"
   },
   {
    "duration": 1422,
    "start_time": "2022-02-19T18:36:19.398Z"
   },
   {
    "duration": 234,
    "start_time": "2022-02-19T18:36:20.824Z"
   },
   {
    "duration": 304,
    "start_time": "2022-02-19T18:36:21.061Z"
   },
   {
    "duration": 155,
    "start_time": "2022-02-19T18:36:21.368Z"
   },
   {
    "duration": 32,
    "start_time": "2022-02-19T18:36:21.526Z"
   },
   {
    "duration": 47,
    "start_time": "2022-02-19T18:36:21.561Z"
   },
   {
    "duration": 3,
    "start_time": "2022-02-19T18:36:21.611Z"
   },
   {
    "duration": 203,
    "start_time": "2022-02-19T18:36:21.620Z"
   },
   {
    "duration": 56,
    "start_time": "2022-02-19T18:36:21.826Z"
   },
   {
    "duration": 39,
    "start_time": "2022-02-19T18:36:21.885Z"
   },
   {
    "duration": 17,
    "start_time": "2022-02-19T18:36:21.947Z"
   },
   {
    "duration": 16,
    "start_time": "2022-02-19T18:36:21.967Z"
   },
   {
    "duration": 14,
    "start_time": "2022-02-19T18:36:21.986Z"
   },
   {
    "duration": 57,
    "start_time": "2022-02-19T18:36:22.003Z"
   },
   {
    "duration": 147,
    "start_time": "2022-02-19T18:36:22.063Z"
   },
   {
    "duration": 56,
    "start_time": "2022-02-19T18:36:22.213Z"
   },
   {
    "duration": -3362,
    "start_time": "2022-02-19T18:36:34.187Z"
   },
   {
    "duration": 244,
    "start_time": "2022-02-19T18:38:37.457Z"
   },
   {
    "duration": 145,
    "start_time": "2022-02-19T18:40:24.431Z"
   },
   {
    "duration": 160,
    "start_time": "2022-02-19T18:40:57.319Z"
   },
   {
    "duration": 25,
    "start_time": "2022-02-19T18:41:32.307Z"
   },
   {
    "duration": 28,
    "start_time": "2022-02-19T18:42:02.039Z"
   },
   {
    "duration": 475,
    "start_time": "2022-02-19T18:44:30.598Z"
   },
   {
    "duration": 8638,
    "start_time": "2022-02-19T18:44:52.009Z"
   },
   {
    "duration": 23,
    "start_time": "2022-02-19T18:45:42.418Z"
   },
   {
    "duration": 42,
    "start_time": "2022-02-19T18:49:03.010Z"
   },
   {
    "duration": 30,
    "start_time": "2022-02-19T18:52:05.120Z"
   },
   {
    "duration": 13,
    "start_time": "2022-02-19T18:53:31.056Z"
   },
   {
    "duration": 34,
    "start_time": "2022-02-19T18:53:42.655Z"
   },
   {
    "duration": 1420,
    "start_time": "2022-02-19T18:54:44.788Z"
   },
   {
    "duration": 246,
    "start_time": "2022-02-19T18:54:46.210Z"
   },
   {
    "duration": 208,
    "start_time": "2022-02-19T18:54:46.460Z"
   },
   {
    "duration": 138,
    "start_time": "2022-02-19T18:54:46.672Z"
   },
   {
    "duration": 22,
    "start_time": "2022-02-19T18:54:46.813Z"
   },
   {
    "duration": 47,
    "start_time": "2022-02-19T18:54:46.837Z"
   },
   {
    "duration": 3,
    "start_time": "2022-02-19T18:54:46.886Z"
   },
   {
    "duration": 202,
    "start_time": "2022-02-19T18:54:46.893Z"
   },
   {
    "duration": 56,
    "start_time": "2022-02-19T18:54:47.098Z"
   },
   {
    "duration": 37,
    "start_time": "2022-02-19T18:54:47.157Z"
   },
   {
    "duration": 16,
    "start_time": "2022-02-19T18:54:47.197Z"
   },
   {
    "duration": 50,
    "start_time": "2022-02-19T18:54:47.215Z"
   },
   {
    "duration": 14,
    "start_time": "2022-02-19T18:54:47.268Z"
   },
   {
    "duration": 14,
    "start_time": "2022-02-19T18:54:47.285Z"
   },
   {
    "duration": 172,
    "start_time": "2022-02-19T18:54:47.302Z"
   },
   {
    "duration": 28,
    "start_time": "2022-02-19T18:54:47.477Z"
   },
   {
    "duration": 58,
    "start_time": "2022-02-19T18:54:47.507Z"
   },
   {
    "duration": 35,
    "start_time": "2022-02-19T18:58:12.883Z"
   },
   {
    "duration": 106,
    "start_time": "2022-02-19T19:00:27.334Z"
   },
   {
    "duration": 39,
    "start_time": "2022-02-19T19:01:10.694Z"
   },
   {
    "duration": 13,
    "start_time": "2022-02-19T19:05:25.928Z"
   },
   {
    "duration": 42,
    "start_time": "2022-02-19T19:05:30.100Z"
   },
   {
    "duration": 62,
    "start_time": "2022-02-19T19:06:18.602Z"
   },
   {
    "duration": 40,
    "start_time": "2022-02-19T19:06:23.021Z"
   },
   {
    "duration": 1489,
    "start_time": "2022-02-19T19:06:36.926Z"
   },
   {
    "duration": 230,
    "start_time": "2022-02-19T19:06:38.418Z"
   },
   {
    "duration": 201,
    "start_time": "2022-02-19T19:06:38.651Z"
   },
   {
    "duration": 143,
    "start_time": "2022-02-19T19:06:38.856Z"
   },
   {
    "duration": 20,
    "start_time": "2022-02-19T19:06:39.002Z"
   },
   {
    "duration": 46,
    "start_time": "2022-02-19T19:06:39.025Z"
   },
   {
    "duration": 4,
    "start_time": "2022-02-19T19:06:39.074Z"
   },
   {
    "duration": 211,
    "start_time": "2022-02-19T19:06:39.084Z"
   },
   {
    "duration": 52,
    "start_time": "2022-02-19T19:06:39.298Z"
   },
   {
    "duration": 36,
    "start_time": "2022-02-19T19:06:39.352Z"
   },
   {
    "duration": 13,
    "start_time": "2022-02-19T19:06:39.392Z"
   },
   {
    "duration": 49,
    "start_time": "2022-02-19T19:06:39.408Z"
   },
   {
    "duration": 18,
    "start_time": "2022-02-19T19:06:39.460Z"
   },
   {
    "duration": 17,
    "start_time": "2022-02-19T19:06:39.481Z"
   },
   {
    "duration": 170,
    "start_time": "2022-02-19T19:06:39.501Z"
   },
   {
    "duration": 29,
    "start_time": "2022-02-19T19:06:39.673Z"
   },
   {
    "duration": 69,
    "start_time": "2022-02-19T19:06:39.704Z"
   },
   {
    "duration": 8215,
    "start_time": "2022-02-19T19:12:43.820Z"
   },
   {
    "duration": 9621,
    "start_time": "2022-02-19T19:12:52.834Z"
   },
   {
    "duration": 44,
    "start_time": "2022-02-19T19:13:25.980Z"
   },
   {
    "duration": 17,
    "start_time": "2022-02-19T19:15:43.493Z"
   },
   {
    "duration": 14,
    "start_time": "2022-02-19T19:15:47.941Z"
   },
   {
    "duration": 60,
    "start_time": "2022-02-19T19:15:50.289Z"
   },
   {
    "duration": 28,
    "start_time": "2022-02-19T19:16:44.394Z"
   },
   {
    "duration": 52,
    "start_time": "2022-02-19T19:17:16.490Z"
   },
   {
    "duration": 51,
    "start_time": "2022-02-19T19:20:38.029Z"
   },
   {
    "duration": 57,
    "start_time": "2022-02-19T19:20:41.285Z"
   },
   {
    "duration": 1404,
    "start_time": "2022-02-19T19:21:00.130Z"
   },
   {
    "duration": 234,
    "start_time": "2022-02-19T19:21:01.537Z"
   },
   {
    "duration": 218,
    "start_time": "2022-02-19T19:21:01.775Z"
   },
   {
    "duration": 199,
    "start_time": "2022-02-19T19:21:01.996Z"
   },
   {
    "duration": 30,
    "start_time": "2022-02-19T19:21:02.198Z"
   },
   {
    "duration": 93,
    "start_time": "2022-02-19T19:21:02.231Z"
   },
   {
    "duration": 3,
    "start_time": "2022-02-19T19:21:02.327Z"
   },
   {
    "duration": 193,
    "start_time": "2022-02-19T19:21:02.333Z"
   },
   {
    "duration": 52,
    "start_time": "2022-02-19T19:21:02.529Z"
   },
   {
    "duration": 65,
    "start_time": "2022-02-19T19:21:02.584Z"
   },
   {
    "duration": 16,
    "start_time": "2022-02-19T19:21:02.652Z"
   },
   {
    "duration": 22,
    "start_time": "2022-02-19T19:21:02.671Z"
   },
   {
    "duration": 59,
    "start_time": "2022-02-19T19:21:02.696Z"
   },
   {
    "duration": 21,
    "start_time": "2022-02-19T19:21:02.758Z"
   },
   {
    "duration": 165,
    "start_time": "2022-02-19T19:21:02.783Z"
   },
   {
    "duration": 28,
    "start_time": "2022-02-19T19:21:02.951Z"
   },
   {
    "duration": 68,
    "start_time": "2022-02-19T19:21:02.982Z"
   },
   {
    "duration": 126,
    "start_time": "2022-02-19T19:25:45.436Z"
   },
   {
    "duration": 904,
    "start_time": "2022-02-19T19:27:52.566Z"
   },
   {
    "duration": 42,
    "start_time": "2022-02-19T19:28:15.449Z"
   },
   {
    "duration": 345,
    "start_time": "2022-02-19T19:28:51.637Z"
   },
   {
    "duration": 51,
    "start_time": "2022-02-19T19:29:03.205Z"
   },
   {
    "duration": 344,
    "start_time": "2022-02-19T19:29:21.090Z"
   },
   {
    "duration": 29,
    "start_time": "2022-02-19T19:29:45.190Z"
   },
   {
    "duration": 304,
    "start_time": "2022-02-19T19:34:08.657Z"
   },
   {
    "duration": 60,
    "start_time": "2022-02-19T19:34:39.578Z"
   },
   {
    "duration": 33,
    "start_time": "2022-02-19T19:37:04.515Z"
   },
   {
    "duration": 23,
    "start_time": "2022-02-19T19:42:29.735Z"
   },
   {
    "duration": 22,
    "start_time": "2022-02-19T19:43:42.672Z"
   },
   {
    "duration": 313,
    "start_time": "2022-02-19T19:44:17.032Z"
   },
   {
    "duration": 1130,
    "start_time": "2022-02-20T07:59:30.724Z"
   },
   {
    "duration": 176,
    "start_time": "2022-02-20T07:59:31.856Z"
   },
   {
    "duration": 160,
    "start_time": "2022-02-20T07:59:32.034Z"
   },
   {
    "duration": 115,
    "start_time": "2022-02-20T07:59:32.196Z"
   },
   {
    "duration": 22,
    "start_time": "2022-02-20T07:59:32.313Z"
   },
   {
    "duration": 90,
    "start_time": "2022-02-20T07:59:32.338Z"
   },
   {
    "duration": 3,
    "start_time": "2022-02-20T07:59:32.430Z"
   },
   {
    "duration": 144,
    "start_time": "2022-02-20T07:59:32.437Z"
   },
   {
    "duration": 35,
    "start_time": "2022-02-20T07:59:32.583Z"
   },
   {
    "duration": 51,
    "start_time": "2022-02-20T07:59:32.620Z"
   },
   {
    "duration": 12,
    "start_time": "2022-02-20T07:59:32.674Z"
   },
   {
    "duration": 24,
    "start_time": "2022-02-20T07:59:32.688Z"
   },
   {
    "duration": 11,
    "start_time": "2022-02-20T07:59:32.714Z"
   },
   {
    "duration": 24,
    "start_time": "2022-02-20T07:59:32.727Z"
   },
   {
    "duration": 100,
    "start_time": "2022-02-20T07:59:32.772Z"
   },
   {
    "duration": 14,
    "start_time": "2022-02-20T07:59:32.874Z"
   },
   {
    "duration": 42,
    "start_time": "2022-02-20T07:59:32.890Z"
   },
   {
    "duration": 367,
    "start_time": "2022-02-20T07:59:32.934Z"
   },
   {
    "duration": 95,
    "start_time": "2022-02-20T08:00:20.640Z"
   },
   {
    "duration": 20,
    "start_time": "2022-02-20T08:01:01.457Z"
   },
   {
    "duration": 13,
    "start_time": "2022-02-20T08:02:16.597Z"
   },
   {
    "duration": 16,
    "start_time": "2022-02-20T08:02:52.586Z"
   },
   {
    "duration": 25,
    "start_time": "2022-02-20T08:03:05.145Z"
   },
   {
    "duration": 88,
    "start_time": "2022-02-20T08:03:25.670Z"
   },
   {
    "duration": 19,
    "start_time": "2022-02-20T08:03:57.351Z"
   },
   {
    "duration": 17,
    "start_time": "2022-02-20T08:04:10.422Z"
   },
   {
    "duration": 305,
    "start_time": "2022-02-20T08:04:34.884Z"
   },
   {
    "duration": 85,
    "start_time": "2022-02-20T08:04:55.947Z"
   },
   {
    "duration": 18,
    "start_time": "2022-02-20T08:05:02.212Z"
   },
   {
    "duration": 91,
    "start_time": "2022-02-20T08:05:16.124Z"
   },
   {
    "duration": 14,
    "start_time": "2022-02-20T08:06:06.537Z"
   },
   {
    "duration": 16,
    "start_time": "2022-02-20T08:07:06.266Z"
   },
   {
    "duration": 20,
    "start_time": "2022-02-20T08:08:28.146Z"
   },
   {
    "duration": 93,
    "start_time": "2022-02-20T08:11:04.833Z"
   },
   {
    "duration": 88,
    "start_time": "2022-02-20T08:11:21.867Z"
   },
   {
    "duration": 96,
    "start_time": "2022-02-20T08:14:36.059Z"
   },
   {
    "duration": 88,
    "start_time": "2022-02-20T08:14:56.067Z"
   },
   {
    "duration": 22,
    "start_time": "2022-02-20T08:15:23.103Z"
   },
   {
    "duration": 16,
    "start_time": "2022-02-20T08:15:39.520Z"
   },
   {
    "duration": 22,
    "start_time": "2022-02-20T08:32:55.087Z"
   },
   {
    "duration": 91,
    "start_time": "2022-02-20T08:33:40.968Z"
   },
   {
    "duration": 18,
    "start_time": "2022-02-20T08:33:41.851Z"
   },
   {
    "duration": 90,
    "start_time": "2022-02-20T08:37:14.467Z"
   },
   {
    "duration": 92,
    "start_time": "2022-02-20T08:37:45.357Z"
   },
   {
    "duration": 19,
    "start_time": "2022-02-20T08:37:55.651Z"
   },
   {
    "duration": 93,
    "start_time": "2022-02-20T08:38:51.124Z"
   },
   {
    "duration": 21,
    "start_time": "2022-02-20T08:39:33.108Z"
   },
   {
    "duration": 24,
    "start_time": "2022-02-20T08:39:51.269Z"
   },
   {
    "duration": 31,
    "start_time": "2022-02-20T08:40:17.560Z"
   },
   {
    "duration": 28,
    "start_time": "2022-02-20T08:40:36.741Z"
   },
   {
    "duration": 38,
    "start_time": "2022-02-20T08:40:47.489Z"
   },
   {
    "duration": 98,
    "start_time": "2022-02-20T08:40:55.261Z"
   },
   {
    "duration": 18,
    "start_time": "2022-02-20T08:40:55.992Z"
   },
   {
    "duration": 6499,
    "start_time": "2022-02-20T08:42:57.102Z"
   },
   {
    "duration": 33,
    "start_time": "2022-02-20T08:43:21.972Z"
   },
   {
    "duration": 31,
    "start_time": "2022-02-20T08:48:24.214Z"
   },
   {
    "duration": 3,
    "start_time": "2022-02-20T08:49:18.023Z"
   },
   {
    "duration": 178,
    "start_time": "2022-02-20T08:49:18.028Z"
   },
   {
    "duration": 162,
    "start_time": "2022-02-20T08:49:18.208Z"
   },
   {
    "duration": 111,
    "start_time": "2022-02-20T08:49:18.372Z"
   },
   {
    "duration": 23,
    "start_time": "2022-02-20T08:49:18.485Z"
   },
   {
    "duration": 48,
    "start_time": "2022-02-20T08:49:18.510Z"
   },
   {
    "duration": 2,
    "start_time": "2022-02-20T08:49:18.561Z"
   },
   {
    "duration": 124,
    "start_time": "2022-02-20T08:49:18.565Z"
   },
   {
    "duration": 30,
    "start_time": "2022-02-20T08:49:18.691Z"
   },
   {
    "duration": 28,
    "start_time": "2022-02-20T08:49:18.722Z"
   },
   {
    "duration": 10,
    "start_time": "2022-02-20T08:49:18.770Z"
   },
   {
    "duration": 12,
    "start_time": "2022-02-20T08:49:18.782Z"
   },
   {
    "duration": 11,
    "start_time": "2022-02-20T08:49:18.795Z"
   },
   {
    "duration": 11,
    "start_time": "2022-02-20T08:49:18.808Z"
   },
   {
    "duration": 117,
    "start_time": "2022-02-20T08:49:18.821Z"
   },
   {
    "duration": 31,
    "start_time": "2022-02-20T08:49:18.939Z"
   },
   {
    "duration": 29,
    "start_time": "2022-02-20T08:49:18.972Z"
   },
   {
    "duration": 252,
    "start_time": "2022-02-20T08:49:19.003Z"
   },
   {
    "duration": 10,
    "start_time": "2022-02-20T08:57:48.481Z"
   },
   {
    "duration": 27,
    "start_time": "2022-02-20T08:58:44.018Z"
   },
   {
    "duration": 9,
    "start_time": "2022-02-20T08:59:11.726Z"
   },
   {
    "duration": 32,
    "start_time": "2022-02-20T08:59:17.350Z"
   },
   {
    "duration": 6,
    "start_time": "2022-02-20T08:59:31.113Z"
   },
   {
    "duration": 188,
    "start_time": "2022-02-20T08:59:31.121Z"
   },
   {
    "duration": 149,
    "start_time": "2022-02-20T08:59:31.311Z"
   },
   {
    "duration": 110,
    "start_time": "2022-02-20T08:59:31.462Z"
   },
   {
    "duration": 21,
    "start_time": "2022-02-20T08:59:31.574Z"
   },
   {
    "duration": 56,
    "start_time": "2022-02-20T08:59:31.597Z"
   },
   {
    "duration": 3,
    "start_time": "2022-02-20T08:59:31.655Z"
   },
   {
    "duration": 134,
    "start_time": "2022-02-20T08:59:31.660Z"
   },
   {
    "duration": 30,
    "start_time": "2022-02-20T08:59:31.796Z"
   },
   {
    "duration": 44,
    "start_time": "2022-02-20T08:59:31.828Z"
   },
   {
    "duration": 10,
    "start_time": "2022-02-20T08:59:31.873Z"
   },
   {
    "duration": 12,
    "start_time": "2022-02-20T08:59:31.885Z"
   },
   {
    "duration": 11,
    "start_time": "2022-02-20T08:59:31.899Z"
   },
   {
    "duration": 10,
    "start_time": "2022-02-20T08:59:31.912Z"
   },
   {
    "duration": 113,
    "start_time": "2022-02-20T08:59:31.924Z"
   },
   {
    "duration": 32,
    "start_time": "2022-02-20T08:59:32.038Z"
   },
   {
    "duration": 27,
    "start_time": "2022-02-20T08:59:32.072Z"
   },
   {
    "duration": 29,
    "start_time": "2022-02-20T08:59:32.101Z"
   },
   {
    "duration": 297,
    "start_time": "2022-02-20T08:59:32.133Z"
   },
   {
    "duration": 35,
    "start_time": "2022-02-20T09:08:43.356Z"
   },
   {
    "duration": 13,
    "start_time": "2022-02-20T09:08:48.966Z"
   },
   {
    "duration": 11,
    "start_time": "2022-02-20T09:20:29.102Z"
   },
   {
    "duration": 6425,
    "start_time": "2022-02-20T09:21:04.955Z"
   },
   {
    "duration": 3,
    "start_time": "2022-02-20T09:21:42.443Z"
   },
   {
    "duration": 181,
    "start_time": "2022-02-20T09:21:42.450Z"
   },
   {
    "duration": 159,
    "start_time": "2022-02-20T09:21:42.633Z"
   },
   {
    "duration": 111,
    "start_time": "2022-02-20T09:21:42.795Z"
   },
   {
    "duration": 23,
    "start_time": "2022-02-20T09:21:42.909Z"
   },
   {
    "duration": 48,
    "start_time": "2022-02-20T09:21:42.934Z"
   },
   {
    "duration": 2,
    "start_time": "2022-02-20T09:21:42.984Z"
   },
   {
    "duration": 134,
    "start_time": "2022-02-20T09:21:42.988Z"
   },
   {
    "duration": 30,
    "start_time": "2022-02-20T09:21:43.124Z"
   },
   {
    "duration": 31,
    "start_time": "2022-02-20T09:21:43.170Z"
   },
   {
    "duration": 14,
    "start_time": "2022-02-20T09:21:43.203Z"
   },
   {
    "duration": 24,
    "start_time": "2022-02-20T09:21:43.219Z"
   },
   {
    "duration": 33,
    "start_time": "2022-02-20T09:21:43.245Z"
   },
   {
    "duration": 10,
    "start_time": "2022-02-20T09:21:43.280Z"
   },
   {
    "duration": 11,
    "start_time": "2022-02-20T09:21:43.292Z"
   },
   {
    "duration": 113,
    "start_time": "2022-02-20T09:21:43.305Z"
   },
   {
    "duration": 18,
    "start_time": "2022-02-20T09:21:43.420Z"
   },
   {
    "duration": 29,
    "start_time": "2022-02-20T09:21:43.440Z"
   },
   {
    "duration": 6624,
    "start_time": "2022-02-20T09:21:43.472Z"
   },
   {
    "duration": -4656,
    "start_time": "2022-02-20T09:21:54.754Z"
   },
   {
    "duration": -4662,
    "start_time": "2022-02-20T09:21:54.761Z"
   },
   {
    "duration": 9,
    "start_time": "2022-02-20T09:23:21.880Z"
   },
   {
    "duration": 3,
    "start_time": "2022-02-20T09:23:34.564Z"
   },
   {
    "duration": 167,
    "start_time": "2022-02-20T09:23:34.590Z"
   },
   {
    "duration": 152,
    "start_time": "2022-02-20T09:23:34.759Z"
   },
   {
    "duration": 112,
    "start_time": "2022-02-20T09:23:34.913Z"
   },
   {
    "duration": 21,
    "start_time": "2022-02-20T09:23:35.027Z"
   },
   {
    "duration": 43,
    "start_time": "2022-02-20T09:23:35.050Z"
   },
   {
    "duration": 2,
    "start_time": "2022-02-20T09:23:35.095Z"
   },
   {
    "duration": 126,
    "start_time": "2022-02-20T09:23:35.098Z"
   },
   {
    "duration": 29,
    "start_time": "2022-02-20T09:23:35.225Z"
   },
   {
    "duration": 27,
    "start_time": "2022-02-20T09:23:35.269Z"
   },
   {
    "duration": 10,
    "start_time": "2022-02-20T09:23:35.298Z"
   },
   {
    "duration": 12,
    "start_time": "2022-02-20T09:23:35.310Z"
   },
   {
    "duration": 10,
    "start_time": "2022-02-20T09:23:35.324Z"
   },
   {
    "duration": 40,
    "start_time": "2022-02-20T09:23:35.336Z"
   },
   {
    "duration": 9,
    "start_time": "2022-02-20T09:23:35.378Z"
   },
   {
    "duration": 108,
    "start_time": "2022-02-20T09:23:35.389Z"
   },
   {
    "duration": 16,
    "start_time": "2022-02-20T09:23:35.499Z"
   },
   {
    "duration": 7,
    "start_time": "2022-02-20T09:23:35.517Z"
   },
   {
    "duration": 6795,
    "start_time": "2022-02-20T09:23:35.525Z"
   },
   {
    "duration": -4634,
    "start_time": "2022-02-20T09:23:46.956Z"
   },
   {
    "duration": -4645,
    "start_time": "2022-02-20T09:23:46.968Z"
   },
   {
    "duration": 34,
    "start_time": "2022-02-20T09:23:57.352Z"
   },
   {
    "duration": 6451,
    "start_time": "2022-02-20T09:24:50.469Z"
   },
   {
    "duration": 1093,
    "start_time": "2022-02-20T09:25:15.678Z"
   },
   {
    "duration": 177,
    "start_time": "2022-02-20T09:25:16.773Z"
   },
   {
    "duration": 161,
    "start_time": "2022-02-20T09:25:16.952Z"
   },
   {
    "duration": 109,
    "start_time": "2022-02-20T09:25:17.115Z"
   },
   {
    "duration": 20,
    "start_time": "2022-02-20T09:25:17.226Z"
   },
   {
    "duration": 48,
    "start_time": "2022-02-20T09:25:17.248Z"
   },
   {
    "duration": 2,
    "start_time": "2022-02-20T09:25:17.297Z"
   },
   {
    "duration": 133,
    "start_time": "2022-02-20T09:25:17.302Z"
   },
   {
    "duration": 40,
    "start_time": "2022-02-20T09:25:17.437Z"
   },
   {
    "duration": 27,
    "start_time": "2022-02-20T09:25:17.479Z"
   },
   {
    "duration": 10,
    "start_time": "2022-02-20T09:25:17.508Z"
   },
   {
    "duration": 11,
    "start_time": "2022-02-20T09:25:17.520Z"
   },
   {
    "duration": 38,
    "start_time": "2022-02-20T09:25:17.533Z"
   },
   {
    "duration": 11,
    "start_time": "2022-02-20T09:25:17.573Z"
   },
   {
    "duration": 10,
    "start_time": "2022-02-20T09:25:17.586Z"
   },
   {
    "duration": 113,
    "start_time": "2022-02-20T09:25:17.597Z"
   },
   {
    "duration": 18,
    "start_time": "2022-02-20T09:25:17.712Z"
   },
   {
    "duration": 48,
    "start_time": "2022-02-20T09:25:17.732Z"
   },
   {
    "duration": 40,
    "start_time": "2022-02-20T09:25:17.781Z"
   },
   {
    "duration": 377,
    "start_time": "2022-02-20T09:25:17.823Z"
   },
   {
    "duration": -4926,
    "start_time": "2022-02-20T09:25:23.129Z"
   },
   {
    "duration": 8,
    "start_time": "2022-02-20T09:25:44.375Z"
   },
   {
    "duration": 38,
    "start_time": "2022-02-20T09:30:36.762Z"
   },
   {
    "duration": 261,
    "start_time": "2022-02-20T09:33:52.388Z"
   },
   {
    "duration": 17,
    "start_time": "2022-02-20T09:34:54.941Z"
   },
   {
    "duration": 37,
    "start_time": "2022-02-20T09:37:36.420Z"
   },
   {
    "duration": 1159,
    "start_time": "2022-02-20T09:38:44.928Z"
   },
   {
    "duration": 180,
    "start_time": "2022-02-20T09:38:46.090Z"
   },
   {
    "duration": 169,
    "start_time": "2022-02-20T09:38:46.272Z"
   },
   {
    "duration": 118,
    "start_time": "2022-02-20T09:38:46.443Z"
   },
   {
    "duration": 25,
    "start_time": "2022-02-20T09:38:46.563Z"
   },
   {
    "duration": 40,
    "start_time": "2022-02-20T09:38:46.590Z"
   },
   {
    "duration": 3,
    "start_time": "2022-02-20T09:38:46.632Z"
   },
   {
    "duration": 138,
    "start_time": "2022-02-20T09:38:46.639Z"
   },
   {
    "duration": 33,
    "start_time": "2022-02-20T09:38:46.780Z"
   },
   {
    "duration": 32,
    "start_time": "2022-02-20T09:38:46.815Z"
   },
   {
    "duration": 12,
    "start_time": "2022-02-20T09:38:46.870Z"
   },
   {
    "duration": 16,
    "start_time": "2022-02-20T09:38:46.883Z"
   },
   {
    "duration": 12,
    "start_time": "2022-02-20T09:38:46.901Z"
   },
   {
    "duration": 11,
    "start_time": "2022-02-20T09:38:46.915Z"
   },
   {
    "duration": 44,
    "start_time": "2022-02-20T09:38:46.928Z"
   },
   {
    "duration": 103,
    "start_time": "2022-02-20T09:38:46.974Z"
   },
   {
    "duration": 19,
    "start_time": "2022-02-20T09:38:47.079Z"
   },
   {
    "duration": 8,
    "start_time": "2022-02-20T09:38:47.100Z"
   },
   {
    "duration": 60,
    "start_time": "2022-02-20T09:38:47.110Z"
   },
   {
    "duration": 17,
    "start_time": "2022-02-20T09:38:47.172Z"
   },
   {
    "duration": 32,
    "start_time": "2022-02-20T09:38:47.191Z"
   },
   {
    "duration": 347,
    "start_time": "2022-02-20T09:38:47.225Z"
   },
   {
    "duration": 195,
    "start_time": "2022-02-20T09:41:07.550Z"
   },
   {
    "duration": 291,
    "start_time": "2022-02-20T09:44:45.445Z"
   },
   {
    "duration": 3,
    "start_time": "2022-02-20T09:45:18.273Z"
   },
   {
    "duration": 271,
    "start_time": "2022-02-20T09:58:41.003Z"
   },
   {
    "duration": 3,
    "start_time": "2022-02-20T09:58:53.636Z"
   },
   {
    "duration": 231,
    "start_time": "2022-02-20T09:58:53.641Z"
   },
   {
    "duration": 171,
    "start_time": "2022-02-20T09:58:53.874Z"
   },
   {
    "duration": 124,
    "start_time": "2022-02-20T09:58:54.049Z"
   },
   {
    "duration": 26,
    "start_time": "2022-02-20T09:58:54.176Z"
   },
   {
    "duration": 49,
    "start_time": "2022-02-20T09:58:54.204Z"
   },
   {
    "duration": 7,
    "start_time": "2022-02-20T09:58:54.256Z"
   },
   {
    "duration": 146,
    "start_time": "2022-02-20T09:58:54.265Z"
   },
   {
    "duration": 33,
    "start_time": "2022-02-20T09:58:54.412Z"
   },
   {
    "duration": 38,
    "start_time": "2022-02-20T09:58:54.446Z"
   },
   {
    "duration": 13,
    "start_time": "2022-02-20T09:58:54.486Z"
   },
   {
    "duration": 24,
    "start_time": "2022-02-20T09:58:54.501Z"
   },
   {
    "duration": 11,
    "start_time": "2022-02-20T09:58:54.526Z"
   },
   {
    "duration": 44,
    "start_time": "2022-02-20T09:58:54.539Z"
   },
   {
    "duration": 12,
    "start_time": "2022-02-20T09:58:54.585Z"
   },
   {
    "duration": 110,
    "start_time": "2022-02-20T09:58:54.599Z"
   },
   {
    "duration": 18,
    "start_time": "2022-02-20T09:58:54.711Z"
   },
   {
    "duration": 8,
    "start_time": "2022-02-20T09:58:54.731Z"
   },
   {
    "duration": 64,
    "start_time": "2022-02-20T09:58:54.742Z"
   },
   {
    "duration": 17,
    "start_time": "2022-02-20T09:58:54.808Z"
   },
   {
    "duration": 52,
    "start_time": "2022-02-20T09:58:54.826Z"
   },
   {
    "duration": 102,
    "start_time": "2022-02-20T09:58:54.880Z"
   },
   {
    "duration": 10,
    "start_time": "2022-02-20T10:02:54.950Z"
   },
   {
    "duration": 12,
    "start_time": "2022-02-20T10:03:04.214Z"
   },
   {
    "duration": 76,
    "start_time": "2022-02-20T10:03:25.531Z"
   },
   {
    "duration": 19,
    "start_time": "2022-02-20T10:07:45.786Z"
   },
   {
    "duration": 6911,
    "start_time": "2022-02-20T10:10:39.320Z"
   },
   {
    "duration": 1186,
    "start_time": "2022-02-20T10:11:05.985Z"
   },
   {
    "duration": 224,
    "start_time": "2022-02-20T10:11:07.174Z"
   },
   {
    "duration": 172,
    "start_time": "2022-02-20T10:11:07.401Z"
   },
   {
    "duration": 125,
    "start_time": "2022-02-20T10:11:07.576Z"
   },
   {
    "duration": 22,
    "start_time": "2022-02-20T10:11:07.703Z"
   },
   {
    "duration": 73,
    "start_time": "2022-02-20T10:11:07.728Z"
   },
   {
    "duration": 2,
    "start_time": "2022-02-20T10:11:07.804Z"
   },
   {
    "duration": 147,
    "start_time": "2022-02-20T10:11:07.809Z"
   },
   {
    "duration": 42,
    "start_time": "2022-02-20T10:11:07.959Z"
   },
   {
    "duration": 30,
    "start_time": "2022-02-20T10:11:08.003Z"
   },
   {
    "duration": 35,
    "start_time": "2022-02-20T10:11:08.035Z"
   },
   {
    "duration": 13,
    "start_time": "2022-02-20T10:11:08.072Z"
   },
   {
    "duration": 14,
    "start_time": "2022-02-20T10:11:08.086Z"
   },
   {
    "duration": 17,
    "start_time": "2022-02-20T10:11:08.102Z"
   },
   {
    "duration": 10,
    "start_time": "2022-02-20T10:11:08.121Z"
   },
   {
    "duration": 141,
    "start_time": "2022-02-20T10:11:08.133Z"
   },
   {
    "duration": 23,
    "start_time": "2022-02-20T10:11:08.276Z"
   },
   {
    "duration": 8,
    "start_time": "2022-02-20T10:11:08.301Z"
   },
   {
    "duration": 35,
    "start_time": "2022-02-20T10:11:08.310Z"
   },
   {
    "duration": 45,
    "start_time": "2022-02-20T10:11:08.347Z"
   },
   {
    "duration": 35,
    "start_time": "2022-02-20T10:11:08.394Z"
   },
   {
    "duration": 99,
    "start_time": "2022-02-20T10:11:08.432Z"
   },
   {
    "duration": 40,
    "start_time": "2022-02-20T10:12:41.255Z"
   },
   {
    "duration": 10,
    "start_time": "2022-02-20T10:13:45.843Z"
   },
   {
    "duration": 6,
    "start_time": "2022-02-20T10:13:54.347Z"
   },
   {
    "duration": 353,
    "start_time": "2022-02-20T10:28:55.314Z"
   },
   {
    "duration": 401,
    "start_time": "2022-02-20T10:33:03.849Z"
   },
   {
    "duration": 711,
    "start_time": "2022-02-20T10:33:42.182Z"
   },
   {
    "duration": 274,
    "start_time": "2022-02-20T10:34:32.543Z"
   },
   {
    "duration": 3608,
    "start_time": "2022-02-20T10:35:32.046Z"
   },
   {
    "duration": 456,
    "start_time": "2022-02-20T10:36:30.008Z"
   },
   {
    "duration": 8,
    "start_time": "2022-02-20T10:36:54.964Z"
   },
   {
    "duration": 8,
    "start_time": "2022-02-20T10:37:02.624Z"
   },
   {
    "duration": 1220,
    "start_time": "2022-02-20T10:38:04.049Z"
   },
   {
    "duration": 1067,
    "start_time": "2022-02-20T10:38:30.021Z"
   },
   {
    "duration": 1120,
    "start_time": "2022-02-20T10:39:10.473Z"
   },
   {
    "duration": 96,
    "start_time": "2022-02-20T10:39:59.466Z"
   },
   {
    "duration": 66,
    "start_time": "2022-02-20T10:40:33.006Z"
   },
   {
    "duration": 98,
    "start_time": "2022-02-20T10:42:45.940Z"
   },
   {
    "duration": 1086,
    "start_time": "2022-02-20T10:43:23.790Z"
   },
   {
    "duration": 217,
    "start_time": "2022-02-20T10:43:24.878Z"
   },
   {
    "duration": 165,
    "start_time": "2022-02-20T10:43:25.097Z"
   },
   {
    "duration": 111,
    "start_time": "2022-02-20T10:43:25.263Z"
   },
   {
    "duration": 20,
    "start_time": "2022-02-20T10:43:25.376Z"
   },
   {
    "duration": 67,
    "start_time": "2022-02-20T10:43:25.398Z"
   },
   {
    "duration": 2,
    "start_time": "2022-02-20T10:43:25.467Z"
   },
   {
    "duration": 137,
    "start_time": "2022-02-20T10:43:25.471Z"
   },
   {
    "duration": 32,
    "start_time": "2022-02-20T10:43:25.611Z"
   },
   {
    "duration": 46,
    "start_time": "2022-02-20T10:43:25.645Z"
   },
   {
    "duration": 11,
    "start_time": "2022-02-20T10:43:25.692Z"
   },
   {
    "duration": 14,
    "start_time": "2022-02-20T10:43:25.705Z"
   },
   {
    "duration": 11,
    "start_time": "2022-02-20T10:43:25.721Z"
   },
   {
    "duration": 41,
    "start_time": "2022-02-20T10:43:25.733Z"
   },
   {
    "duration": 11,
    "start_time": "2022-02-20T10:43:25.775Z"
   },
   {
    "duration": 103,
    "start_time": "2022-02-20T10:43:25.787Z"
   },
   {
    "duration": 17,
    "start_time": "2022-02-20T10:43:25.892Z"
   },
   {
    "duration": 7,
    "start_time": "2022-02-20T10:43:25.911Z"
   },
   {
    "duration": 6,
    "start_time": "2022-02-20T10:43:25.920Z"
   },
   {
    "duration": 95,
    "start_time": "2022-02-20T10:43:25.927Z"
   },
   {
    "duration": 105,
    "start_time": "2022-02-20T10:43:26.024Z"
   },
   {
    "duration": 6591,
    "start_time": "2022-02-20T10:43:26.131Z"
   },
   {
    "duration": -4667,
    "start_time": "2022-02-20T10:43:37.391Z"
   },
   {
    "duration": 66,
    "start_time": "2022-02-20T10:44:05.921Z"
   },
   {
    "duration": 95,
    "start_time": "2022-02-20T10:44:51.233Z"
   },
   {
    "duration": 7750,
    "start_time": "2022-02-20T10:46:04.974Z"
   },
   {
    "duration": 8175,
    "start_time": "2022-02-20T10:46:16.894Z"
   },
   {
    "duration": 6,
    "start_time": "2022-02-20T10:46:42.990Z"
   },
   {
    "duration": 70,
    "start_time": "2022-02-20T10:47:56.363Z"
   },
   {
    "duration": 107,
    "start_time": "2022-02-20T10:48:02.915Z"
   },
   {
    "duration": 64,
    "start_time": "2022-02-20T10:48:13.607Z"
   },
   {
    "duration": 97,
    "start_time": "2022-02-20T10:48:53.472Z"
   },
   {
    "duration": 65,
    "start_time": "2022-02-20T10:49:22.788Z"
   },
   {
    "duration": 34,
    "start_time": "2022-02-20T10:50:12.933Z"
   },
   {
    "duration": 79,
    "start_time": "2022-02-20T10:55:56.241Z"
   },
   {
    "duration": 285,
    "start_time": "2022-02-20T10:56:07.257Z"
   },
   {
    "duration": 21,
    "start_time": "2022-02-20T10:56:22.138Z"
   },
   {
    "duration": 519,
    "start_time": "2022-02-20T10:57:20.298Z"
   },
   {
    "duration": 23,
    "start_time": "2022-02-20T10:58:32.479Z"
   },
   {
    "duration": 19,
    "start_time": "2022-02-20T11:01:35.765Z"
   },
   {
    "duration": 229,
    "start_time": "2022-02-20T11:04:47.776Z"
   },
   {
    "duration": 21,
    "start_time": "2022-02-20T11:05:01.472Z"
   },
   {
    "duration": 29,
    "start_time": "2022-02-20T11:10:37.536Z"
   },
   {
    "duration": 36,
    "start_time": "2022-02-20T11:12:24.693Z"
   },
   {
    "duration": 87,
    "start_time": "2022-02-20T11:17:22.808Z"
   },
   {
    "duration": 62,
    "start_time": "2022-02-20T11:17:32.965Z"
   },
   {
    "duration": 47,
    "start_time": "2022-02-20T11:17:59.506Z"
   },
   {
    "duration": 916,
    "start_time": "2022-02-20T11:22:35.665Z"
   },
   {
    "duration": 411,
    "start_time": "2022-02-20T11:23:01.005Z"
   },
   {
    "duration": 46,
    "start_time": "2022-02-20T11:25:23.399Z"
   },
   {
    "duration": 362,
    "start_time": "2022-02-20T11:26:18.376Z"
   },
   {
    "duration": 43,
    "start_time": "2022-02-20T11:28:51.510Z"
   },
   {
    "duration": 18,
    "start_time": "2022-02-20T11:29:47.950Z"
   },
   {
    "duration": 443,
    "start_time": "2022-02-20T11:29:57.914Z"
   },
   {
    "duration": 365,
    "start_time": "2022-02-20T11:37:56.873Z"
   },
   {
    "duration": 365,
    "start_time": "2022-02-20T11:38:14.390Z"
   },
   {
    "duration": 438,
    "start_time": "2022-02-20T11:38:21.227Z"
   },
   {
    "duration": 611,
    "start_time": "2022-02-20T11:39:10.333Z"
   },
   {
    "duration": 415,
    "start_time": "2022-02-20T11:39:19.665Z"
   },
   {
    "duration": 554,
    "start_time": "2022-02-20T11:39:30.521Z"
   },
   {
    "duration": 415,
    "start_time": "2022-02-20T11:39:54.442Z"
   },
   {
    "duration": 455,
    "start_time": "2022-02-20T11:40:04.894Z"
   },
   {
    "duration": 443,
    "start_time": "2022-02-20T11:40:13.502Z"
   },
   {
    "duration": 451,
    "start_time": "2022-02-20T11:40:47.431Z"
   },
   {
    "duration": 36,
    "start_time": "2022-02-20T11:47:31.764Z"
   },
   {
    "duration": 9,
    "start_time": "2022-02-20T11:48:31.314Z"
   },
   {
    "duration": 10,
    "start_time": "2022-02-20T11:49:01.553Z"
   },
   {
    "duration": 8,
    "start_time": "2022-02-20T11:49:50.393Z"
   },
   {
    "duration": 11,
    "start_time": "2022-02-20T11:50:03.509Z"
   },
   {
    "duration": 12,
    "start_time": "2022-02-20T11:50:32.845Z"
   },
   {
    "duration": 9,
    "start_time": "2022-02-20T11:53:14.083Z"
   },
   {
    "duration": 6,
    "start_time": "2022-02-20T11:54:16.968Z"
   },
   {
    "duration": 6,
    "start_time": "2022-02-20T11:54:49.688Z"
   },
   {
    "duration": 59,
    "start_time": "2022-02-20T12:01:21.871Z"
   },
   {
    "duration": 9,
    "start_time": "2022-02-20T12:02:06.017Z"
   },
   {
    "duration": 12,
    "start_time": "2022-02-20T12:02:41.377Z"
   },
   {
    "duration": 9,
    "start_time": "2022-02-20T12:02:52.710Z"
   },
   {
    "duration": 6,
    "start_time": "2022-02-20T12:05:54.872Z"
   },
   {
    "duration": 5,
    "start_time": "2022-02-20T12:08:22.114Z"
   },
   {
    "duration": 5,
    "start_time": "2022-02-20T12:08:31.806Z"
   },
   {
    "duration": 6,
    "start_time": "2022-02-20T12:08:46.470Z"
   },
   {
    "duration": 6,
    "start_time": "2022-02-20T12:08:54.858Z"
   },
   {
    "duration": 5,
    "start_time": "2022-02-20T12:09:02.146Z"
   },
   {
    "duration": 323,
    "start_time": "2022-02-20T12:44:50.707Z"
   },
   {
    "duration": 252,
    "start_time": "2022-02-20T12:45:20.205Z"
   },
   {
    "duration": 265,
    "start_time": "2022-02-20T12:45:27.401Z"
   },
   {
    "duration": 373,
    "start_time": "2022-02-20T12:49:20.320Z"
   },
   {
    "duration": 258,
    "start_time": "2022-02-20T12:49:40.988Z"
   },
   {
    "duration": 649,
    "start_time": "2022-02-20T12:54:47.927Z"
   },
   {
    "duration": 268,
    "start_time": "2022-02-20T12:57:46.641Z"
   },
   {
    "duration": 250,
    "start_time": "2022-02-20T12:58:17.270Z"
   },
   {
    "duration": 278,
    "start_time": "2022-02-20T12:58:28.148Z"
   },
   {
    "duration": 2,
    "start_time": "2022-02-20T13:04:59.939Z"
   },
   {
    "duration": 275,
    "start_time": "2022-02-20T13:10:59.703Z"
   },
   {
    "duration": 1151,
    "start_time": "2022-02-20T13:11:23.839Z"
   },
   {
    "duration": 213,
    "start_time": "2022-02-20T13:11:24.992Z"
   },
   {
    "duration": 166,
    "start_time": "2022-02-20T13:11:25.207Z"
   },
   {
    "duration": 124,
    "start_time": "2022-02-20T13:11:25.375Z"
   },
   {
    "duration": 24,
    "start_time": "2022-02-20T13:11:25.501Z"
   },
   {
    "duration": 93,
    "start_time": "2022-02-20T13:11:25.526Z"
   },
   {
    "duration": 3,
    "start_time": "2022-02-20T13:11:25.620Z"
   },
   {
    "duration": 149,
    "start_time": "2022-02-20T13:11:25.625Z"
   },
   {
    "duration": 33,
    "start_time": "2022-02-20T13:11:25.777Z"
   },
   {
    "duration": 32,
    "start_time": "2022-02-20T13:11:25.812Z"
   },
   {
    "duration": 33,
    "start_time": "2022-02-20T13:11:25.845Z"
   },
   {
    "duration": 16,
    "start_time": "2022-02-20T13:11:25.880Z"
   },
   {
    "duration": 14,
    "start_time": "2022-02-20T13:11:25.897Z"
   },
   {
    "duration": 12,
    "start_time": "2022-02-20T13:11:25.913Z"
   },
   {
    "duration": 43,
    "start_time": "2022-02-20T13:11:25.927Z"
   },
   {
    "duration": 116,
    "start_time": "2022-02-20T13:11:25.973Z"
   },
   {
    "duration": 20,
    "start_time": "2022-02-20T13:11:26.091Z"
   },
   {
    "duration": 9,
    "start_time": "2022-02-20T13:11:26.113Z"
   },
   {
    "duration": 14,
    "start_time": "2022-02-20T13:11:26.124Z"
   },
   {
    "duration": 93,
    "start_time": "2022-02-20T13:11:26.139Z"
   },
   {
    "duration": 76,
    "start_time": "2022-02-20T13:11:26.234Z"
   },
   {
    "duration": 71,
    "start_time": "2022-02-20T13:11:26.312Z"
   },
   {
    "duration": 37,
    "start_time": "2022-02-20T13:11:26.385Z"
   },
   {
    "duration": 72,
    "start_time": "2022-02-20T13:11:26.424Z"
   },
   {
    "duration": 443,
    "start_time": "2022-02-20T13:11:26.497Z"
   },
   {
    "duration": 56,
    "start_time": "2022-02-20T13:11:26.942Z"
   },
   {
    "duration": 438,
    "start_time": "2022-02-20T13:11:27.001Z"
   },
   {
    "duration": 55,
    "start_time": "2022-02-20T13:11:27.441Z"
   },
   {
    "duration": 431,
    "start_time": "2022-02-20T13:11:27.499Z"
   },
   {
    "duration": 10,
    "start_time": "2022-02-20T13:11:27.932Z"
   },
   {
    "duration": 7,
    "start_time": "2022-02-20T13:11:27.944Z"
   },
   {
    "duration": 24,
    "start_time": "2022-02-20T13:11:27.952Z"
   },
   {
    "duration": 6,
    "start_time": "2022-02-20T13:11:27.978Z"
   },
   {
    "duration": 47,
    "start_time": "2022-02-20T13:20:01.245Z"
   },
   {
    "duration": 424,
    "start_time": "2022-02-20T14:54:19.274Z"
   },
   {
    "duration": 545,
    "start_time": "2022-02-20T14:54:32.905Z"
   },
   {
    "duration": 778,
    "start_time": "2022-02-20T14:55:25.110Z"
   },
   {
    "duration": 492,
    "start_time": "2022-02-20T14:55:38.800Z"
   },
   {
    "duration": 459,
    "start_time": "2022-02-20T14:55:58.027Z"
   },
   {
    "duration": 279,
    "start_time": "2022-02-20T15:03:50.092Z"
   },
   {
    "duration": 2009,
    "start_time": "2022-02-20T15:04:21.017Z"
   },
   {
    "duration": -270,
    "start_time": "2022-02-20T15:04:50.462Z"
   },
   {
    "duration": 12,
    "start_time": "2022-02-20T15:05:05.645Z"
   },
   {
    "duration": 17,
    "start_time": "2022-02-20T15:06:00.142Z"
   },
   {
    "duration": 12,
    "start_time": "2022-02-20T15:07:04.599Z"
   },
   {
    "duration": 18,
    "start_time": "2022-02-20T15:07:24.019Z"
   },
   {
    "duration": 11,
    "start_time": "2022-02-20T15:08:00.861Z"
   },
   {
    "duration": 17,
    "start_time": "2022-02-20T15:08:40.128Z"
   },
   {
    "duration": 11,
    "start_time": "2022-02-20T15:12:52.615Z"
   },
   {
    "duration": 17,
    "start_time": "2022-02-20T15:13:00.335Z"
   },
   {
    "duration": 12,
    "start_time": "2022-02-20T15:26:18.749Z"
   },
   {
    "duration": 12,
    "start_time": "2022-02-20T15:32:40.685Z"
   },
   {
    "duration": 16,
    "start_time": "2022-02-20T15:32:47.213Z"
   },
   {
    "duration": 16,
    "start_time": "2022-02-20T15:35:34.992Z"
   },
   {
    "duration": 273,
    "start_time": "2022-02-20T16:08:59.740Z"
   },
   {
    "duration": 13,
    "start_time": "2022-02-20T16:09:08.808Z"
   },
   {
    "duration": 14,
    "start_time": "2022-02-20T16:09:39.449Z"
   },
   {
    "duration": 14,
    "start_time": "2022-02-20T16:11:00.158Z"
   },
   {
    "duration": 8,
    "start_time": "2022-02-20T16:11:21.723Z"
   },
   {
    "duration": 261,
    "start_time": "2022-02-20T16:19:51.404Z"
   },
   {
    "duration": 6,
    "start_time": "2022-02-20T16:20:04.000Z"
   },
   {
    "duration": 5,
    "start_time": "2022-02-20T16:21:03.401Z"
   },
   {
    "duration": 5,
    "start_time": "2022-02-20T16:22:41.269Z"
   },
   {
    "duration": 5,
    "start_time": "2022-02-20T16:23:23.259Z"
   },
   {
    "duration": 5,
    "start_time": "2022-02-20T16:24:59.179Z"
   },
   {
    "duration": 5,
    "start_time": "2022-02-20T16:25:42.057Z"
   },
   {
    "duration": 6,
    "start_time": "2022-02-20T16:25:48.661Z"
   },
   {
    "duration": 5,
    "start_time": "2022-02-20T16:26:24.469Z"
   },
   {
    "duration": 5,
    "start_time": "2022-02-20T16:26:28.969Z"
   },
   {
    "duration": 5,
    "start_time": "2022-02-20T16:26:29.845Z"
   },
   {
    "duration": 6,
    "start_time": "2022-02-20T16:28:06.135Z"
   },
   {
    "duration": 6,
    "start_time": "2022-02-20T16:33:04.083Z"
   },
   {
    "duration": 5,
    "start_time": "2022-02-20T16:33:58.287Z"
   },
   {
    "duration": 6,
    "start_time": "2022-02-20T16:36:40.301Z"
   },
   {
    "duration": 8,
    "start_time": "2022-02-20T16:39:43.751Z"
   },
   {
    "duration": 9,
    "start_time": "2022-02-20T16:39:48.399Z"
   },
   {
    "duration": 9,
    "start_time": "2022-02-20T16:40:11.899Z"
   },
   {
    "duration": 243,
    "start_time": "2022-02-20T16:42:00.697Z"
   },
   {
    "duration": 243,
    "start_time": "2022-02-20T16:42:42.617Z"
   },
   {
    "duration": 1577,
    "start_time": "2022-03-02T12:46:47.292Z"
   },
   {
    "duration": 257,
    "start_time": "2022-03-02T12:46:48.874Z"
   },
   {
    "duration": 210,
    "start_time": "2022-03-02T12:46:49.135Z"
   },
   {
    "duration": 136,
    "start_time": "2022-03-02T12:46:49.348Z"
   },
   {
    "duration": 28,
    "start_time": "2022-03-02T12:46:49.487Z"
   },
   {
    "duration": 39,
    "start_time": "2022-03-02T12:46:49.528Z"
   },
   {
    "duration": 13,
    "start_time": "2022-03-02T12:46:49.573Z"
   },
   {
    "duration": 192,
    "start_time": "2022-03-02T12:46:49.588Z"
   },
   {
    "duration": 41,
    "start_time": "2022-03-02T12:46:49.784Z"
   },
   {
    "duration": 73,
    "start_time": "2022-03-02T12:46:49.829Z"
   },
   {
    "duration": 15,
    "start_time": "2022-03-02T12:46:49.905Z"
   },
   {
    "duration": 22,
    "start_time": "2022-03-02T12:46:49.923Z"
   },
   {
    "duration": 21,
    "start_time": "2022-03-02T12:46:49.974Z"
   },
   {
    "duration": 21,
    "start_time": "2022-03-02T12:46:49.998Z"
   },
   {
    "duration": 15,
    "start_time": "2022-03-02T12:46:50.022Z"
   },
   {
    "duration": 158,
    "start_time": "2022-03-02T12:46:50.039Z"
   },
   {
    "duration": 24,
    "start_time": "2022-03-02T12:46:50.199Z"
   },
   {
    "duration": 10,
    "start_time": "2022-03-02T12:46:50.225Z"
   },
   {
    "duration": 39,
    "start_time": "2022-03-02T12:46:50.237Z"
   },
   {
    "duration": 107,
    "start_time": "2022-03-02T12:46:50.278Z"
   },
   {
    "duration": 106,
    "start_time": "2022-03-02T12:46:50.388Z"
   },
   {
    "duration": 104,
    "start_time": "2022-03-02T12:46:50.497Z"
   },
   {
    "duration": 50,
    "start_time": "2022-03-02T12:46:50.603Z"
   },
   {
    "duration": 78,
    "start_time": "2022-03-02T12:46:50.655Z"
   },
   {
    "duration": 605,
    "start_time": "2022-03-02T12:46:50.736Z"
   },
   {
    "duration": 75,
    "start_time": "2022-03-02T12:46:51.345Z"
   },
   {
    "duration": 608,
    "start_time": "2022-03-02T12:46:51.425Z"
   },
   {
    "duration": 42,
    "start_time": "2022-03-02T12:46:52.035Z"
   },
   {
    "duration": 107,
    "start_time": "2022-03-02T12:46:52.080Z"
   },
   {
    "duration": 920,
    "start_time": "2022-03-02T12:46:52.190Z"
   },
   {
    "duration": 30,
    "start_time": "2022-03-02T12:46:53.114Z"
   },
   {
    "duration": 35,
    "start_time": "2022-03-02T12:46:53.147Z"
   },
   {
    "duration": 19,
    "start_time": "2022-03-02T12:46:53.185Z"
   },
   {
    "duration": 19,
    "start_time": "2022-03-02T12:46:53.207Z"
   },
   {
    "duration": 8,
    "start_time": "2022-03-02T12:46:53.230Z"
   },
   {
    "duration": 36,
    "start_time": "2022-03-02T12:46:53.241Z"
   },
   {
    "duration": 12,
    "start_time": "2022-03-02T12:46:53.280Z"
   },
   {
    "duration": 358,
    "start_time": "2022-03-02T12:46:53.294Z"
   },
   {
    "duration": 162,
    "start_time": "2022-03-02T13:03:00.882Z"
   },
   {
    "duration": 80,
    "start_time": "2022-03-02T13:06:12.731Z"
   },
   {
    "duration": 95,
    "start_time": "2022-03-02T13:11:54.677Z"
   },
   {
    "duration": 79,
    "start_time": "2022-03-02T13:15:31.937Z"
   },
   {
    "duration": 213,
    "start_time": "2022-03-03T11:23:36.565Z"
   },
   {
    "duration": 1072,
    "start_time": "2022-03-03T11:23:48.143Z"
   },
   {
    "duration": 169,
    "start_time": "2022-03-03T11:23:49.217Z"
   },
   {
    "duration": 135,
    "start_time": "2022-03-03T11:23:49.388Z"
   },
   {
    "duration": 102,
    "start_time": "2022-03-03T11:23:49.525Z"
   },
   {
    "duration": 17,
    "start_time": "2022-03-03T11:23:49.628Z"
   },
   {
    "duration": 51,
    "start_time": "2022-03-03T11:23:49.647Z"
   },
   {
    "duration": 8,
    "start_time": "2022-03-03T11:23:49.700Z"
   },
   {
    "duration": 120,
    "start_time": "2022-03-03T11:23:49.709Z"
   },
   {
    "duration": 30,
    "start_time": "2022-03-03T11:23:49.831Z"
   },
   {
    "duration": 25,
    "start_time": "2022-03-03T11:23:49.864Z"
   },
   {
    "duration": 9,
    "start_time": "2022-03-03T11:23:49.891Z"
   },
   {
    "duration": 12,
    "start_time": "2022-03-03T11:23:49.902Z"
   },
   {
    "duration": 10,
    "start_time": "2022-03-03T11:23:49.938Z"
   },
   {
    "duration": 11,
    "start_time": "2022-03-03T11:23:49.950Z"
   },
   {
    "duration": 9,
    "start_time": "2022-03-03T11:23:49.962Z"
   },
   {
    "duration": 105,
    "start_time": "2022-03-03T11:23:49.973Z"
   },
   {
    "duration": 15,
    "start_time": "2022-03-03T11:23:50.079Z"
   },
   {
    "duration": 6,
    "start_time": "2022-03-03T11:23:50.095Z"
   },
   {
    "duration": 6,
    "start_time": "2022-03-03T11:23:50.103Z"
   },
   {
    "duration": 80,
    "start_time": "2022-03-03T11:23:50.111Z"
   },
   {
    "duration": 67,
    "start_time": "2022-03-03T11:23:50.193Z"
   },
   {
    "duration": 58,
    "start_time": "2022-03-03T11:23:50.262Z"
   },
   {
    "duration": 41,
    "start_time": "2022-03-03T11:23:50.322Z"
   },
   {
    "duration": 39,
    "start_time": "2022-03-03T11:23:50.364Z"
   },
   {
    "duration": 372,
    "start_time": "2022-03-03T11:23:50.405Z"
   },
   {
    "duration": 38,
    "start_time": "2022-03-03T11:23:50.779Z"
   },
   {
    "duration": 395,
    "start_time": "2022-03-03T11:23:50.820Z"
   },
   {
    "duration": 31,
    "start_time": "2022-03-03T11:23:51.218Z"
   },
   {
    "duration": 45,
    "start_time": "2022-03-03T11:23:51.251Z"
   },
   {
    "duration": 386,
    "start_time": "2022-03-03T11:23:51.298Z"
   },
   {
    "duration": 14,
    "start_time": "2022-03-03T11:23:51.685Z"
   },
   {
    "duration": 7,
    "start_time": "2022-03-03T11:23:51.701Z"
   },
   {
    "duration": 6,
    "start_time": "2022-03-03T11:23:51.709Z"
   },
   {
    "duration": 7,
    "start_time": "2022-03-03T11:23:51.738Z"
   },
   {
    "duration": 7,
    "start_time": "2022-03-03T11:23:51.747Z"
   },
   {
    "duration": 9,
    "start_time": "2022-03-03T11:23:51.755Z"
   },
   {
    "duration": 7,
    "start_time": "2022-03-03T11:23:51.765Z"
   },
   {
    "duration": 232,
    "start_time": "2022-03-03T11:23:51.774Z"
   },
   {
    "duration": 84,
    "start_time": "2022-03-03T11:29:38.565Z"
   },
   {
    "duration": 243,
    "start_time": "2022-03-03T11:50:01.384Z"
   },
   {
    "duration": 2,
    "start_time": "2022-03-03T11:50:45.604Z"
   },
   {
    "duration": 179,
    "start_time": "2022-03-03T11:50:45.610Z"
   },
   {
    "duration": 147,
    "start_time": "2022-03-03T11:50:45.791Z"
   },
   {
    "duration": 109,
    "start_time": "2022-03-03T11:50:45.940Z"
   },
   {
    "duration": 16,
    "start_time": "2022-03-03T11:50:46.051Z"
   },
   {
    "duration": 37,
    "start_time": "2022-03-03T11:50:46.069Z"
   },
   {
    "duration": 12,
    "start_time": "2022-03-03T11:50:46.107Z"
   },
   {
    "duration": 111,
    "start_time": "2022-03-03T11:50:46.121Z"
   },
   {
    "duration": 24,
    "start_time": "2022-03-03T11:50:46.238Z"
   },
   {
    "duration": 24,
    "start_time": "2022-03-03T11:50:46.264Z"
   },
   {
    "duration": 10,
    "start_time": "2022-03-03T11:50:46.290Z"
   },
   {
    "duration": 37,
    "start_time": "2022-03-03T11:50:46.301Z"
   },
   {
    "duration": 17,
    "start_time": "2022-03-03T11:50:46.340Z"
   },
   {
    "duration": 10,
    "start_time": "2022-03-03T11:50:46.359Z"
   },
   {
    "duration": 16,
    "start_time": "2022-03-03T11:50:46.371Z"
   },
   {
    "duration": 80,
    "start_time": "2022-03-03T11:50:46.389Z"
   },
   {
    "duration": 15,
    "start_time": "2022-03-03T11:50:46.470Z"
   },
   {
    "duration": 7,
    "start_time": "2022-03-03T11:50:46.487Z"
   },
   {
    "duration": 7,
    "start_time": "2022-03-03T11:50:46.496Z"
   },
   {
    "duration": 76,
    "start_time": "2022-03-03T11:50:46.505Z"
   },
   {
    "duration": 58,
    "start_time": "2022-03-03T11:50:46.583Z"
   },
   {
    "duration": 50,
    "start_time": "2022-03-03T11:50:46.643Z"
   },
   {
    "duration": 21,
    "start_time": "2022-03-03T11:50:46.695Z"
   },
   {
    "duration": 51,
    "start_time": "2022-03-03T11:50:46.720Z"
   },
   {
    "duration": 376,
    "start_time": "2022-03-03T11:50:46.773Z"
   },
   {
    "duration": 40,
    "start_time": "2022-03-03T11:50:47.151Z"
   },
   {
    "duration": 466,
    "start_time": "2022-03-03T11:50:47.193Z"
   },
   {
    "duration": 15,
    "start_time": "2022-03-03T11:50:47.660Z"
   },
   {
    "duration": 37,
    "start_time": "2022-03-03T11:50:47.677Z"
   },
   {
    "duration": 360,
    "start_time": "2022-03-03T11:50:47.716Z"
   },
   {
    "duration": 13,
    "start_time": "2022-03-03T11:50:48.077Z"
   },
   {
    "duration": 6,
    "start_time": "2022-03-03T11:50:48.092Z"
   },
   {
    "duration": 8,
    "start_time": "2022-03-03T11:50:48.100Z"
   },
   {
    "duration": 28,
    "start_time": "2022-03-03T11:50:48.109Z"
   },
   {
    "duration": 5,
    "start_time": "2022-03-03T11:50:48.139Z"
   },
   {
    "duration": 12,
    "start_time": "2022-03-03T11:50:48.145Z"
   },
   {
    "duration": 7,
    "start_time": "2022-03-03T11:50:48.158Z"
   },
   {
    "duration": 223,
    "start_time": "2022-03-03T11:50:48.166Z"
   },
   {
    "duration": 346,
    "start_time": "2022-03-03T11:55:23.067Z"
   },
   {
    "duration": 212,
    "start_time": "2022-03-03T11:56:10.061Z"
   },
   {
    "duration": 14,
    "start_time": "2022-03-03T11:57:08.837Z"
   },
   {
    "duration": 27,
    "start_time": "2022-03-03T12:00:49.700Z"
   },
   {
    "duration": 211,
    "start_time": "2022-03-03T12:03:21.325Z"
   },
   {
    "duration": 328,
    "start_time": "2022-03-03T12:03:44.289Z"
   },
   {
    "duration": 618,
    "start_time": "2022-03-03T12:07:04.336Z"
   },
   {
    "duration": 601,
    "start_time": "2022-03-03T12:08:15.773Z"
   },
   {
    "duration": 524,
    "start_time": "2022-03-03T12:10:47.210Z"
   },
   {
    "duration": 87,
    "start_time": "2022-03-03T12:12:21.863Z"
   },
   {
    "duration": 680,
    "start_time": "2022-03-03T12:12:48.771Z"
   },
   {
    "duration": 535,
    "start_time": "2022-03-03T12:13:12.308Z"
   },
   {
    "duration": 520,
    "start_time": "2022-03-03T12:13:43.656Z"
   },
   {
    "duration": 344,
    "start_time": "2022-03-03T12:14:01.441Z"
   },
   {
    "duration": 52,
    "start_time": "2022-03-03T12:16:53.475Z"
   },
   {
    "duration": 345,
    "start_time": "2022-03-03T12:21:17.614Z"
   },
   {
    "duration": 14,
    "start_time": "2022-03-03T12:25:50.721Z"
   },
   {
    "duration": 661,
    "start_time": "2022-03-03T12:27:52.813Z"
   },
   {
    "duration": 329,
    "start_time": "2022-03-03T12:28:39.803Z"
   },
   {
    "duration": 11,
    "start_time": "2022-03-03T12:29:06.975Z"
   },
   {
    "duration": 367,
    "start_time": "2022-03-03T12:29:34.996Z"
   },
   {
    "duration": 542,
    "start_time": "2022-03-03T12:30:20.096Z"
   },
   {
    "duration": 642,
    "start_time": "2022-03-03T12:30:27.972Z"
   },
   {
    "duration": 187,
    "start_time": "2022-03-03T12:33:20.450Z"
   },
   {
    "duration": 10,
    "start_time": "2022-03-03T12:33:26.662Z"
   },
   {
    "duration": 8,
    "start_time": "2022-03-03T12:33:54.810Z"
   },
   {
    "duration": 498,
    "start_time": "2022-03-03T12:35:48.872Z"
   },
   {
    "duration": 338,
    "start_time": "2022-03-03T12:35:56.332Z"
   },
   {
    "duration": 335,
    "start_time": "2022-03-03T12:36:23.280Z"
   },
   {
    "duration": 327,
    "start_time": "2022-03-03T12:37:03.277Z"
   },
   {
    "duration": 336,
    "start_time": "2022-03-03T12:37:18.045Z"
   },
   {
    "duration": 458,
    "start_time": "2022-03-03T12:37:27.553Z"
   },
   {
    "duration": 328,
    "start_time": "2022-03-03T12:37:44.153Z"
   },
   {
    "duration": 556,
    "start_time": "2022-03-03T12:39:09.838Z"
   },
   {
    "duration": 8,
    "start_time": "2022-03-03T12:45:47.991Z"
   },
   {
    "duration": 228,
    "start_time": "2022-03-03T12:51:15.606Z"
   },
   {
    "duration": 6,
    "start_time": "2022-03-03T12:51:45.606Z"
   },
   {
    "duration": 5,
    "start_time": "2022-03-03T12:51:50.259Z"
   },
   {
    "duration": 6,
    "start_time": "2022-03-03T12:51:55.387Z"
   },
   {
    "duration": 3,
    "start_time": "2022-03-03T12:52:00.710Z"
   },
   {
    "duration": 177,
    "start_time": "2022-03-03T12:52:00.717Z"
   },
   {
    "duration": 160,
    "start_time": "2022-03-03T12:52:00.895Z"
   },
   {
    "duration": 106,
    "start_time": "2022-03-03T12:52:01.057Z"
   },
   {
    "duration": 18,
    "start_time": "2022-03-03T12:52:01.165Z"
   },
   {
    "duration": 36,
    "start_time": "2022-03-03T12:52:01.185Z"
   },
   {
    "duration": 7,
    "start_time": "2022-03-03T12:52:01.223Z"
   },
   {
    "duration": 133,
    "start_time": "2022-03-03T12:52:01.231Z"
   },
   {
    "duration": 8,
    "start_time": "2022-03-03T12:52:01.367Z"
   },
   {
    "duration": 28,
    "start_time": "2022-03-03T12:52:01.378Z"
   },
   {
    "duration": 32,
    "start_time": "2022-03-03T12:52:01.407Z"
   },
   {
    "duration": 18,
    "start_time": "2022-03-03T12:52:01.441Z"
   },
   {
    "duration": 18,
    "start_time": "2022-03-03T12:52:01.461Z"
   },
   {
    "duration": 11,
    "start_time": "2022-03-03T12:52:01.482Z"
   },
   {
    "duration": 198,
    "start_time": "2022-03-03T12:52:01.494Z"
   },
   {
    "duration": -3878,
    "start_time": "2022-03-03T12:52:05.572Z"
   },
   {
    "duration": -3889,
    "start_time": "2022-03-03T12:52:05.584Z"
   },
   {
    "duration": -3951,
    "start_time": "2022-03-03T12:52:05.648Z"
   },
   {
    "duration": -3973,
    "start_time": "2022-03-03T12:52:05.670Z"
   },
   {
    "duration": -3985,
    "start_time": "2022-03-03T12:52:05.683Z"
   },
   {
    "duration": -3996,
    "start_time": "2022-03-03T12:52:05.696Z"
   },
   {
    "duration": -4005,
    "start_time": "2022-03-03T12:52:05.706Z"
   },
   {
    "duration": -4015,
    "start_time": "2022-03-03T12:52:05.718Z"
   },
   {
    "duration": -4025,
    "start_time": "2022-03-03T12:52:05.729Z"
   },
   {
    "duration": -4036,
    "start_time": "2022-03-03T12:52:05.742Z"
   },
   {
    "duration": -4062,
    "start_time": "2022-03-03T12:52:05.769Z"
   },
   {
    "duration": -4074,
    "start_time": "2022-03-03T12:52:05.782Z"
   },
   {
    "duration": -4083,
    "start_time": "2022-03-03T12:52:05.793Z"
   },
   {
    "duration": -4094,
    "start_time": "2022-03-03T12:52:05.805Z"
   },
   {
    "duration": -4102,
    "start_time": "2022-03-03T12:52:05.815Z"
   },
   {
    "duration": -4113,
    "start_time": "2022-03-03T12:52:05.827Z"
   },
   {
    "duration": -4122,
    "start_time": "2022-03-03T12:52:05.838Z"
   },
   {
    "duration": -4132,
    "start_time": "2022-03-03T12:52:05.849Z"
   },
   {
    "duration": -4141,
    "start_time": "2022-03-03T12:52:05.860Z"
   },
   {
    "duration": -4167,
    "start_time": "2022-03-03T12:52:05.887Z"
   },
   {
    "duration": -4179,
    "start_time": "2022-03-03T12:52:05.900Z"
   },
   {
    "duration": 5,
    "start_time": "2022-03-03T12:52:44.958Z"
   },
   {
    "duration": 9,
    "start_time": "2022-03-03T12:53:17.106Z"
   },
   {
    "duration": 40,
    "start_time": "2022-03-03T12:55:53.594Z"
   },
   {
    "duration": 10,
    "start_time": "2022-03-03T12:56:25.469Z"
   },
   {
    "duration": 14,
    "start_time": "2022-03-03T12:57:37.323Z"
   },
   {
    "duration": 15,
    "start_time": "2022-03-03T12:58:52.020Z"
   },
   {
    "duration": 25,
    "start_time": "2022-03-03T13:06:04.177Z"
   },
   {
    "duration": 18,
    "start_time": "2022-03-03T13:09:47.691Z"
   },
   {
    "duration": 26,
    "start_time": "2022-03-03T13:09:54.383Z"
   },
   {
    "duration": 297,
    "start_time": "2022-03-03T13:11:09.980Z"
   },
   {
    "duration": 1283,
    "start_time": "2022-03-03T13:11:19.549Z"
   },
   {
    "duration": 4,
    "start_time": "2022-03-03T13:11:33.981Z"
   },
   {
    "duration": 195,
    "start_time": "2022-03-03T13:11:33.990Z"
   },
   {
    "duration": 166,
    "start_time": "2022-03-03T13:11:34.186Z"
   },
   {
    "duration": 112,
    "start_time": "2022-03-03T13:11:34.354Z"
   },
   {
    "duration": 16,
    "start_time": "2022-03-03T13:11:34.468Z"
   },
   {
    "duration": 43,
    "start_time": "2022-03-03T13:11:34.486Z"
   },
   {
    "duration": 7,
    "start_time": "2022-03-03T13:11:34.531Z"
   },
   {
    "duration": 137,
    "start_time": "2022-03-03T13:11:34.540Z"
   },
   {
    "duration": 138,
    "start_time": "2022-03-03T13:11:34.680Z"
   },
   {
    "duration": 32,
    "start_time": "2022-03-03T13:11:34.820Z"
   },
   {
    "duration": 9,
    "start_time": "2022-03-03T13:11:34.854Z"
   },
   {
    "duration": 41,
    "start_time": "2022-03-03T13:11:34.865Z"
   },
   {
    "duration": 15,
    "start_time": "2022-03-03T13:11:34.908Z"
   },
   {
    "duration": 13,
    "start_time": "2022-03-03T13:11:34.925Z"
   },
   {
    "duration": 197,
    "start_time": "2022-03-03T13:11:34.940Z"
   },
   {
    "duration": -4143,
    "start_time": "2022-03-03T13:11:39.283Z"
   },
   {
    "duration": -4156,
    "start_time": "2022-03-03T13:11:39.298Z"
   },
   {
    "duration": -4169,
    "start_time": "2022-03-03T13:11:39.313Z"
   },
   {
    "duration": -4184,
    "start_time": "2022-03-03T13:11:39.329Z"
   },
   {
    "duration": -4196,
    "start_time": "2022-03-03T13:11:39.343Z"
   },
   {
    "duration": -4212,
    "start_time": "2022-03-03T13:11:39.360Z"
   },
   {
    "duration": -4298,
    "start_time": "2022-03-03T13:11:39.448Z"
   },
   {
    "duration": -4329,
    "start_time": "2022-03-03T13:11:39.480Z"
   },
   {
    "duration": -4344,
    "start_time": "2022-03-03T13:11:39.497Z"
   },
   {
    "duration": -4359,
    "start_time": "2022-03-03T13:11:39.514Z"
   },
   {
    "duration": -4373,
    "start_time": "2022-03-03T13:11:39.529Z"
   },
   {
    "duration": -4411,
    "start_time": "2022-03-03T13:11:39.568Z"
   },
   {
    "duration": -4426,
    "start_time": "2022-03-03T13:11:39.584Z"
   },
   {
    "duration": -4443,
    "start_time": "2022-03-03T13:11:39.602Z"
   },
   {
    "duration": -4453,
    "start_time": "2022-03-03T13:11:39.613Z"
   },
   {
    "duration": -4467,
    "start_time": "2022-03-03T13:11:39.628Z"
   },
   {
    "duration": -4478,
    "start_time": "2022-03-03T13:11:39.640Z"
   },
   {
    "duration": -4489,
    "start_time": "2022-03-03T13:11:39.652Z"
   },
   {
    "duration": -4514,
    "start_time": "2022-03-03T13:11:39.678Z"
   },
   {
    "duration": -4527,
    "start_time": "2022-03-03T13:11:39.692Z"
   },
   {
    "duration": -4539,
    "start_time": "2022-03-03T13:11:39.705Z"
   },
   {
    "duration": 1444,
    "start_time": "2022-03-03T13:12:38.364Z"
   },
   {
    "duration": 223,
    "start_time": "2022-03-03T13:14:07.080Z"
   },
   {
    "duration": 187,
    "start_time": "2022-03-03T13:14:15.322Z"
   },
   {
    "duration": 1084,
    "start_time": "2022-03-03T13:14:20.242Z"
   },
   {
    "duration": 174,
    "start_time": "2022-03-03T13:14:21.328Z"
   },
   {
    "duration": 159,
    "start_time": "2022-03-03T13:14:21.504Z"
   },
   {
    "duration": 95,
    "start_time": "2022-03-03T13:14:21.665Z"
   },
   {
    "duration": 15,
    "start_time": "2022-03-03T13:14:21.762Z"
   },
   {
    "duration": 46,
    "start_time": "2022-03-03T13:14:21.779Z"
   },
   {
    "duration": 9,
    "start_time": "2022-03-03T13:14:21.827Z"
   },
   {
    "duration": 119,
    "start_time": "2022-03-03T13:14:21.838Z"
   },
   {
    "duration": 33,
    "start_time": "2022-03-03T13:14:21.959Z"
   },
   {
    "duration": 27,
    "start_time": "2022-03-03T13:14:21.993Z"
   },
   {
    "duration": 24,
    "start_time": "2022-03-03T13:14:22.022Z"
   },
   {
    "duration": 9,
    "start_time": "2022-03-03T13:14:22.048Z"
   },
   {
    "duration": 10,
    "start_time": "2022-03-03T13:14:22.058Z"
   },
   {
    "duration": 9,
    "start_time": "2022-03-03T13:14:22.070Z"
   },
   {
    "duration": 214,
    "start_time": "2022-03-03T13:14:22.081Z"
   },
   {
    "duration": -4406,
    "start_time": "2022-03-03T13:14:26.704Z"
   },
   {
    "duration": -4421,
    "start_time": "2022-03-03T13:14:26.719Z"
   },
   {
    "duration": -4435,
    "start_time": "2022-03-03T13:14:26.734Z"
   },
   {
    "duration": -4446,
    "start_time": "2022-03-03T13:14:26.746Z"
   },
   {
    "duration": -4457,
    "start_time": "2022-03-03T13:14:26.758Z"
   },
   {
    "duration": -4586,
    "start_time": "2022-03-03T13:14:26.888Z"
   },
   {
    "duration": -4600,
    "start_time": "2022-03-03T13:14:26.903Z"
   },
   {
    "duration": -4618,
    "start_time": "2022-03-03T13:14:26.922Z"
   },
   {
    "duration": -4643,
    "start_time": "2022-03-03T13:14:26.948Z"
   },
   {
    "duration": -4654,
    "start_time": "2022-03-03T13:14:26.960Z"
   },
   {
    "duration": -4666,
    "start_time": "2022-03-03T13:14:26.973Z"
   },
   {
    "duration": -4714,
    "start_time": "2022-03-03T13:14:27.022Z"
   },
   {
    "duration": -4731,
    "start_time": "2022-03-03T13:14:27.040Z"
   },
   {
    "duration": -4743,
    "start_time": "2022-03-03T13:14:27.052Z"
   },
   {
    "duration": -4755,
    "start_time": "2022-03-03T13:14:27.065Z"
   },
   {
    "duration": -4773,
    "start_time": "2022-03-03T13:14:27.084Z"
   },
   {
    "duration": -4825,
    "start_time": "2022-03-03T13:14:27.137Z"
   },
   {
    "duration": -4846,
    "start_time": "2022-03-03T13:14:27.159Z"
   },
   {
    "duration": -4865,
    "start_time": "2022-03-03T13:14:27.179Z"
   },
   {
    "duration": -4880,
    "start_time": "2022-03-03T13:14:27.195Z"
   },
   {
    "duration": -4891,
    "start_time": "2022-03-03T13:14:27.207Z"
   },
   {
    "duration": 55,
    "start_time": "2022-03-03T13:19:26.931Z"
   },
   {
    "duration": 83,
    "start_time": "2022-03-03T13:20:35.743Z"
   },
   {
    "duration": 61,
    "start_time": "2022-03-03T13:21:41.617Z"
   },
   {
    "duration": 3,
    "start_time": "2022-03-03T13:22:14.964Z"
   },
   {
    "duration": 225,
    "start_time": "2022-03-03T13:22:14.981Z"
   },
   {
    "duration": 198,
    "start_time": "2022-03-03T13:22:15.208Z"
   },
   {
    "duration": 108,
    "start_time": "2022-03-03T13:22:15.409Z"
   },
   {
    "duration": 25,
    "start_time": "2022-03-03T13:22:15.519Z"
   },
   {
    "duration": 39,
    "start_time": "2022-03-03T13:22:15.546Z"
   },
   {
    "duration": 6,
    "start_time": "2022-03-03T13:22:15.586Z"
   },
   {
    "duration": 123,
    "start_time": "2022-03-03T13:22:15.594Z"
   },
   {
    "duration": 48,
    "start_time": "2022-03-03T13:22:15.720Z"
   },
   {
    "duration": 26,
    "start_time": "2022-03-03T13:22:15.771Z"
   },
   {
    "duration": 10,
    "start_time": "2022-03-03T13:22:15.798Z"
   },
   {
    "duration": 12,
    "start_time": "2022-03-03T13:22:15.837Z"
   },
   {
    "duration": 12,
    "start_time": "2022-03-03T13:22:15.850Z"
   },
   {
    "duration": 11,
    "start_time": "2022-03-03T13:22:15.863Z"
   },
   {
    "duration": 178,
    "start_time": "2022-03-03T13:22:15.876Z"
   },
   {
    "duration": -4536,
    "start_time": "2022-03-03T13:22:20.592Z"
   },
   {
    "duration": -4550,
    "start_time": "2022-03-03T13:22:20.607Z"
   },
   {
    "duration": -4562,
    "start_time": "2022-03-03T13:22:20.620Z"
   },
   {
    "duration": -4579,
    "start_time": "2022-03-03T13:22:20.638Z"
   },
   {
    "duration": -4670,
    "start_time": "2022-03-03T13:22:20.730Z"
   },
   {
    "duration": -4690,
    "start_time": "2022-03-03T13:22:20.751Z"
   },
   {
    "duration": -4705,
    "start_time": "2022-03-03T13:22:20.767Z"
   },
   {
    "duration": -4723,
    "start_time": "2022-03-03T13:22:20.785Z"
   },
   {
    "duration": -4739,
    "start_time": "2022-03-03T13:22:20.802Z"
   },
   {
    "duration": -4774,
    "start_time": "2022-03-03T13:22:20.839Z"
   },
   {
    "duration": -4789,
    "start_time": "2022-03-03T13:22:20.854Z"
   },
   {
    "duration": -4802,
    "start_time": "2022-03-03T13:22:20.868Z"
   },
   {
    "duration": -4813,
    "start_time": "2022-03-03T13:22:20.880Z"
   },
   {
    "duration": -4824,
    "start_time": "2022-03-03T13:22:20.892Z"
   },
   {
    "duration": -4838,
    "start_time": "2022-03-03T13:22:20.908Z"
   },
   {
    "duration": -4849,
    "start_time": "2022-03-03T13:22:20.920Z"
   },
   {
    "duration": -4879,
    "start_time": "2022-03-03T13:22:20.951Z"
   },
   {
    "duration": -4891,
    "start_time": "2022-03-03T13:22:20.964Z"
   },
   {
    "duration": -4901,
    "start_time": "2022-03-03T13:22:20.975Z"
   },
   {
    "duration": -4913,
    "start_time": "2022-03-03T13:22:20.988Z"
   },
   {
    "duration": -4925,
    "start_time": "2022-03-03T13:22:21.001Z"
   },
   {
    "duration": 55,
    "start_time": "2022-03-03T13:23:10.502Z"
   },
   {
    "duration": 68,
    "start_time": "2022-03-03T13:24:01.458Z"
   },
   {
    "duration": 3,
    "start_time": "2022-03-03T13:24:26.399Z"
   },
   {
    "duration": 785,
    "start_time": "2022-03-03T13:24:26.408Z"
   },
   {
    "duration": 143,
    "start_time": "2022-03-03T13:24:27.195Z"
   },
   {
    "duration": 98,
    "start_time": "2022-03-03T13:24:27.340Z"
   },
   {
    "duration": 16,
    "start_time": "2022-03-03T13:24:27.440Z"
   },
   {
    "duration": 48,
    "start_time": "2022-03-03T13:24:27.457Z"
   },
   {
    "duration": 7,
    "start_time": "2022-03-03T13:24:27.506Z"
   },
   {
    "duration": 109,
    "start_time": "2022-03-03T13:24:27.514Z"
   },
   {
    "duration": 55,
    "start_time": "2022-03-03T13:24:27.625Z"
   },
   {
    "duration": 25,
    "start_time": "2022-03-03T13:24:27.682Z"
   },
   {
    "duration": 9,
    "start_time": "2022-03-03T13:24:27.708Z"
   },
   {
    "duration": 26,
    "start_time": "2022-03-03T13:24:27.719Z"
   },
   {
    "duration": 9,
    "start_time": "2022-03-03T13:24:27.747Z"
   },
   {
    "duration": 10,
    "start_time": "2022-03-03T13:24:27.757Z"
   },
   {
    "duration": 16,
    "start_time": "2022-03-03T13:24:27.768Z"
   },
   {
    "duration": 104,
    "start_time": "2022-03-03T13:24:27.785Z"
   },
   {
    "duration": 14,
    "start_time": "2022-03-03T13:24:27.891Z"
   },
   {
    "duration": 6,
    "start_time": "2022-03-03T13:24:27.907Z"
   },
   {
    "duration": 26,
    "start_time": "2022-03-03T13:24:27.915Z"
   },
   {
    "duration": 58,
    "start_time": "2022-03-03T13:24:27.943Z"
   },
   {
    "duration": 66,
    "start_time": "2022-03-03T13:24:28.003Z"
   },
   {
    "duration": 51,
    "start_time": "2022-03-03T13:24:28.071Z"
   },
   {
    "duration": 32,
    "start_time": "2022-03-03T13:24:28.123Z"
   },
   {
    "duration": 31,
    "start_time": "2022-03-03T13:24:28.158Z"
   },
   {
    "duration": 541,
    "start_time": "2022-03-03T13:24:28.191Z"
   },
   {
    "duration": 341,
    "start_time": "2022-03-03T13:24:28.737Z"
   },
   {
    "duration": 9,
    "start_time": "2022-03-03T13:24:29.080Z"
   },
   {
    "duration": 355,
    "start_time": "2022-03-03T13:24:29.091Z"
   },
   {
    "duration": 15,
    "start_time": "2022-03-03T13:24:29.448Z"
   },
   {
    "duration": 6,
    "start_time": "2022-03-03T13:24:29.465Z"
   },
   {
    "duration": 5,
    "start_time": "2022-03-03T13:24:29.473Z"
   },
   {
    "duration": 8,
    "start_time": "2022-03-03T13:24:29.480Z"
   },
   {
    "duration": 50,
    "start_time": "2022-03-03T13:24:29.490Z"
   },
   {
    "duration": 10,
    "start_time": "2022-03-03T13:24:29.542Z"
   },
   {
    "duration": 8,
    "start_time": "2022-03-03T13:24:29.554Z"
   },
   {
    "duration": 237,
    "start_time": "2022-03-03T13:24:29.563Z"
   },
   {
    "duration": 4778,
    "start_time": "2022-03-03T13:24:48.959Z"
   },
   {
    "duration": 45,
    "start_time": "2022-03-03T13:25:31.376Z"
   },
   {
    "duration": 69,
    "start_time": "2022-03-03T13:25:46.800Z"
   },
   {
    "duration": 32,
    "start_time": "2022-03-03T13:26:42.957Z"
   },
   {
    "duration": 46,
    "start_time": "2022-03-03T13:28:22.390Z"
   },
   {
    "duration": 1076,
    "start_time": "2022-03-03T13:28:36.438Z"
   },
   {
    "duration": 175,
    "start_time": "2022-03-03T13:28:37.516Z"
   },
   {
    "duration": 148,
    "start_time": "2022-03-03T13:28:37.693Z"
   },
   {
    "duration": 103,
    "start_time": "2022-03-03T13:28:37.843Z"
   },
   {
    "duration": 17,
    "start_time": "2022-03-03T13:28:37.948Z"
   },
   {
    "duration": 38,
    "start_time": "2022-03-03T13:28:37.966Z"
   },
   {
    "duration": 17,
    "start_time": "2022-03-03T13:28:38.006Z"
   },
   {
    "duration": 126,
    "start_time": "2022-03-03T13:28:38.026Z"
   },
   {
    "duration": 34,
    "start_time": "2022-03-03T13:28:38.154Z"
   },
   {
    "duration": 54,
    "start_time": "2022-03-03T13:28:38.190Z"
   },
   {
    "duration": 29,
    "start_time": "2022-03-03T13:28:38.246Z"
   },
   {
    "duration": 12,
    "start_time": "2022-03-03T13:28:38.276Z"
   },
   {
    "duration": 19,
    "start_time": "2022-03-03T13:28:38.289Z"
   },
   {
    "duration": 32,
    "start_time": "2022-03-03T13:28:38.310Z"
   },
   {
    "duration": 10,
    "start_time": "2022-03-03T13:28:38.344Z"
   },
   {
    "duration": 267,
    "start_time": "2022-03-03T13:28:38.356Z"
   },
   {
    "duration": -4310,
    "start_time": "2022-03-03T13:28:42.935Z"
   },
   {
    "duration": -4384,
    "start_time": "2022-03-03T13:28:43.011Z"
   },
   {
    "duration": -4402,
    "start_time": "2022-03-03T13:28:43.030Z"
   },
   {
    "duration": -4435,
    "start_time": "2022-03-03T13:28:43.064Z"
   },
   {
    "duration": -4449,
    "start_time": "2022-03-03T13:28:43.080Z"
   },
   {
    "duration": -4493,
    "start_time": "2022-03-03T13:28:43.124Z"
   },
   {
    "duration": -4519,
    "start_time": "2022-03-03T13:28:43.151Z"
   },
   {
    "duration": -4564,
    "start_time": "2022-03-03T13:28:43.197Z"
   },
   {
    "duration": -4599,
    "start_time": "2022-03-03T13:28:43.233Z"
   },
   {
    "duration": -4650,
    "start_time": "2022-03-03T13:28:43.285Z"
   },
   {
    "duration": -4669,
    "start_time": "2022-03-03T13:28:43.305Z"
   },
   {
    "duration": -4697,
    "start_time": "2022-03-03T13:28:43.334Z"
   },
   {
    "duration": -4709,
    "start_time": "2022-03-03T13:28:43.347Z"
   },
   {
    "duration": -4722,
    "start_time": "2022-03-03T13:28:43.361Z"
   },
   {
    "duration": -4733,
    "start_time": "2022-03-03T13:28:43.373Z"
   },
   {
    "duration": -4777,
    "start_time": "2022-03-03T13:28:43.418Z"
   },
   {
    "duration": -4791,
    "start_time": "2022-03-03T13:28:43.433Z"
   },
   {
    "duration": -4805,
    "start_time": "2022-03-03T13:28:43.448Z"
   },
   {
    "duration": -4817,
    "start_time": "2022-03-03T13:28:43.461Z"
   },
   {
    "duration": -4830,
    "start_time": "2022-03-03T13:28:43.475Z"
   },
   {
    "duration": -4857,
    "start_time": "2022-03-03T13:28:43.503Z"
   },
   {
    "duration": 6443,
    "start_time": "2022-03-03T13:29:34.906Z"
   },
   {
    "duration": 44,
    "start_time": "2022-03-03T13:30:40.878Z"
   },
   {
    "duration": 32,
    "start_time": "2022-03-03T13:31:18.351Z"
   },
   {
    "duration": 44,
    "start_time": "2022-03-03T13:31:29.366Z"
   },
   {
    "duration": 1075,
    "start_time": "2022-03-03T13:31:39.449Z"
   },
   {
    "duration": 171,
    "start_time": "2022-03-03T13:31:40.526Z"
   },
   {
    "duration": 149,
    "start_time": "2022-03-03T13:31:40.699Z"
   },
   {
    "duration": 97,
    "start_time": "2022-03-03T13:31:40.850Z"
   },
   {
    "duration": 15,
    "start_time": "2022-03-03T13:31:40.949Z"
   },
   {
    "duration": 52,
    "start_time": "2022-03-03T13:31:40.965Z"
   },
   {
    "duration": 10,
    "start_time": "2022-03-03T13:31:41.018Z"
   },
   {
    "duration": 124,
    "start_time": "2022-03-03T13:31:41.031Z"
   },
   {
    "duration": 33,
    "start_time": "2022-03-03T13:31:41.157Z"
   },
   {
    "duration": 57,
    "start_time": "2022-03-03T13:31:41.192Z"
   },
   {
    "duration": 28,
    "start_time": "2022-03-03T13:31:41.251Z"
   },
   {
    "duration": 10,
    "start_time": "2022-03-03T13:31:41.281Z"
   },
   {
    "duration": 10,
    "start_time": "2022-03-03T13:31:41.293Z"
   },
   {
    "duration": 11,
    "start_time": "2022-03-03T13:31:41.338Z"
   },
   {
    "duration": 9,
    "start_time": "2022-03-03T13:31:41.351Z"
   },
   {
    "duration": 256,
    "start_time": "2022-03-03T13:31:41.362Z"
   },
   {
    "duration": -4144,
    "start_time": "2022-03-03T13:31:45.764Z"
   },
   {
    "duration": -4155,
    "start_time": "2022-03-03T13:31:45.776Z"
   },
   {
    "duration": -4165,
    "start_time": "2022-03-03T13:31:45.787Z"
   },
   {
    "duration": -4176,
    "start_time": "2022-03-03T13:31:45.799Z"
   },
   {
    "duration": -4187,
    "start_time": "2022-03-03T13:31:45.810Z"
   },
   {
    "duration": -4198,
    "start_time": "2022-03-03T13:31:45.822Z"
   },
   {
    "duration": -4208,
    "start_time": "2022-03-03T13:31:45.833Z"
   },
   {
    "duration": -4256,
    "start_time": "2022-03-03T13:31:45.882Z"
   },
   {
    "duration": -4268,
    "start_time": "2022-03-03T13:31:45.895Z"
   },
   {
    "duration": -4280,
    "start_time": "2022-03-03T13:31:45.908Z"
   },
   {
    "duration": -4290,
    "start_time": "2022-03-03T13:31:45.919Z"
   },
   {
    "duration": -4301,
    "start_time": "2022-03-03T13:31:45.931Z"
   },
   {
    "duration": -4311,
    "start_time": "2022-03-03T13:31:45.942Z"
   },
   {
    "duration": -4322,
    "start_time": "2022-03-03T13:31:45.954Z"
   },
   {
    "duration": -4332,
    "start_time": "2022-03-03T13:31:45.965Z"
   },
   {
    "duration": -4358,
    "start_time": "2022-03-03T13:31:45.993Z"
   },
   {
    "duration": -4370,
    "start_time": "2022-03-03T13:31:46.006Z"
   },
   {
    "duration": -4382,
    "start_time": "2022-03-03T13:31:46.019Z"
   },
   {
    "duration": -4392,
    "start_time": "2022-03-03T13:31:46.030Z"
   },
   {
    "duration": -4403,
    "start_time": "2022-03-03T13:31:46.042Z"
   },
   {
    "duration": -4413,
    "start_time": "2022-03-03T13:31:46.053Z"
   },
   {
    "duration": 5,
    "start_time": "2022-03-03T13:41:28.900Z"
   },
   {
    "duration": 18,
    "start_time": "2022-03-03T13:41:46.041Z"
   },
   {
    "duration": 17,
    "start_time": "2022-03-03T13:41:57.849Z"
   },
   {
    "duration": 58,
    "start_time": "2022-03-03T13:44:19.954Z"
   },
   {
    "duration": 23,
    "start_time": "2022-03-03T13:45:24.191Z"
   },
   {
    "duration": 4244,
    "start_time": "2022-03-03T13:45:55.915Z"
   },
   {
    "duration": 3,
    "start_time": "2022-03-03T13:46:36.148Z"
   },
   {
    "duration": 173,
    "start_time": "2022-03-03T13:46:36.155Z"
   },
   {
    "duration": 147,
    "start_time": "2022-03-03T13:46:36.338Z"
   },
   {
    "duration": 112,
    "start_time": "2022-03-03T13:46:36.487Z"
   },
   {
    "duration": 15,
    "start_time": "2022-03-03T13:46:36.601Z"
   },
   {
    "duration": 62,
    "start_time": "2022-03-03T13:46:36.618Z"
   },
   {
    "duration": 7,
    "start_time": "2022-03-03T13:46:36.681Z"
   },
   {
    "duration": 112,
    "start_time": "2022-03-03T13:46:36.690Z"
   },
   {
    "duration": 34,
    "start_time": "2022-03-03T13:46:36.804Z"
   },
   {
    "duration": 32,
    "start_time": "2022-03-03T13:46:36.840Z"
   },
   {
    "duration": 16,
    "start_time": "2022-03-03T13:46:36.874Z"
   },
   {
    "duration": 47,
    "start_time": "2022-03-03T13:46:36.892Z"
   },
   {
    "duration": 10,
    "start_time": "2022-03-03T13:46:36.940Z"
   },
   {
    "duration": 11,
    "start_time": "2022-03-03T13:46:36.952Z"
   },
   {
    "duration": 10,
    "start_time": "2022-03-03T13:46:36.965Z"
   },
   {
    "duration": 10,
    "start_time": "2022-03-03T13:46:36.976Z"
   },
   {
    "duration": 52,
    "start_time": "2022-03-03T13:46:36.987Z"
   },
   {
    "duration": 68,
    "start_time": "2022-03-03T13:46:37.040Z"
   },
   {
    "duration": 28,
    "start_time": "2022-03-03T13:46:37.110Z"
   },
   {
    "duration": 7,
    "start_time": "2022-03-03T13:46:37.140Z"
   },
   {
    "duration": 7,
    "start_time": "2022-03-03T13:46:37.148Z"
   },
   {
    "duration": 51,
    "start_time": "2022-03-03T13:46:37.157Z"
   },
   {
    "duration": 71,
    "start_time": "2022-03-03T13:46:37.210Z"
   },
   {
    "duration": 59,
    "start_time": "2022-03-03T13:46:37.284Z"
   },
   {
    "duration": 22,
    "start_time": "2022-03-03T13:46:37.345Z"
   },
   {
    "duration": 32,
    "start_time": "2022-03-03T13:46:37.369Z"
   },
   {
    "duration": 528,
    "start_time": "2022-03-03T13:46:37.402Z"
   },
   {
    "duration": 335,
    "start_time": "2022-03-03T13:46:37.932Z"
   },
   {
    "duration": 10,
    "start_time": "2022-03-03T13:46:38.269Z"
   },
   {
    "duration": 349,
    "start_time": "2022-03-03T13:46:38.280Z"
   },
   {
    "duration": 18,
    "start_time": "2022-03-03T13:46:38.631Z"
   },
   {
    "duration": 7,
    "start_time": "2022-03-03T13:46:38.651Z"
   },
   {
    "duration": 8,
    "start_time": "2022-03-03T13:46:38.659Z"
   },
   {
    "duration": 14,
    "start_time": "2022-03-03T13:46:38.669Z"
   },
   {
    "duration": 8,
    "start_time": "2022-03-03T13:46:38.685Z"
   },
   {
    "duration": 13,
    "start_time": "2022-03-03T13:46:38.695Z"
   },
   {
    "duration": 32,
    "start_time": "2022-03-03T13:46:38.710Z"
   },
   {
    "duration": 212,
    "start_time": "2022-03-03T13:46:38.744Z"
   },
   {
    "duration": 26,
    "start_time": "2022-03-03T13:49:55.362Z"
   },
   {
    "duration": 1112,
    "start_time": "2022-03-03T13:51:04.023Z"
   },
   {
    "duration": 181,
    "start_time": "2022-03-03T13:51:05.137Z"
   },
   {
    "duration": 143,
    "start_time": "2022-03-03T13:51:05.320Z"
   },
   {
    "duration": 106,
    "start_time": "2022-03-03T13:51:05.464Z"
   },
   {
    "duration": 16,
    "start_time": "2022-03-03T13:51:05.572Z"
   },
   {
    "duration": 53,
    "start_time": "2022-03-03T13:51:05.590Z"
   },
   {
    "duration": 18,
    "start_time": "2022-03-03T13:51:05.645Z"
   },
   {
    "duration": 136,
    "start_time": "2022-03-03T13:51:05.665Z"
   },
   {
    "duration": 39,
    "start_time": "2022-03-03T13:51:05.803Z"
   },
   {
    "duration": 34,
    "start_time": "2022-03-03T13:51:05.844Z"
   },
   {
    "duration": 18,
    "start_time": "2022-03-03T13:51:05.880Z"
   },
   {
    "duration": 49,
    "start_time": "2022-03-03T13:51:05.900Z"
   },
   {
    "duration": 10,
    "start_time": "2022-03-03T13:51:05.951Z"
   },
   {
    "duration": 24,
    "start_time": "2022-03-03T13:51:05.962Z"
   },
   {
    "duration": 35,
    "start_time": "2022-03-03T13:51:05.988Z"
   },
   {
    "duration": 25,
    "start_time": "2022-03-03T13:51:06.025Z"
   },
   {
    "duration": 41,
    "start_time": "2022-03-03T13:51:06.052Z"
   },
   {
    "duration": 67,
    "start_time": "2022-03-03T13:51:06.094Z"
   },
   {
    "duration": 15,
    "start_time": "2022-03-03T13:51:06.163Z"
   },
   {
    "duration": 31,
    "start_time": "2022-03-03T13:51:06.180Z"
   },
   {
    "duration": 5,
    "start_time": "2022-03-03T13:51:06.212Z"
   },
   {
    "duration": 63,
    "start_time": "2022-03-03T13:51:06.219Z"
   },
   {
    "duration": 56,
    "start_time": "2022-03-03T13:51:06.285Z"
   },
   {
    "duration": 51,
    "start_time": "2022-03-03T13:51:06.343Z"
   },
   {
    "duration": 21,
    "start_time": "2022-03-03T13:51:06.396Z"
   },
   {
    "duration": 48,
    "start_time": "2022-03-03T13:51:06.418Z"
   },
   {
    "duration": 528,
    "start_time": "2022-03-03T13:51:06.468Z"
   },
   {
    "duration": 340,
    "start_time": "2022-03-03T13:51:06.997Z"
   },
   {
    "duration": 11,
    "start_time": "2022-03-03T13:51:07.339Z"
   },
   {
    "duration": 351,
    "start_time": "2022-03-03T13:51:07.352Z"
   },
   {
    "duration": 13,
    "start_time": "2022-03-03T13:51:07.705Z"
   },
   {
    "duration": 19,
    "start_time": "2022-03-03T13:51:07.720Z"
   },
   {
    "duration": 5,
    "start_time": "2022-03-03T13:51:07.741Z"
   },
   {
    "duration": 9,
    "start_time": "2022-03-03T13:51:07.747Z"
   },
   {
    "duration": 11,
    "start_time": "2022-03-03T13:51:07.757Z"
   },
   {
    "duration": 11,
    "start_time": "2022-03-03T13:51:07.769Z"
   },
   {
    "duration": 8,
    "start_time": "2022-03-03T13:51:07.782Z"
   },
   {
    "duration": 228,
    "start_time": "2022-03-03T13:51:07.792Z"
   },
   {
    "duration": 460,
    "start_time": "2022-03-03T14:29:59.874Z"
   },
   {
    "duration": 129,
    "start_time": "2022-03-03T14:30:43.951Z"
   },
   {
    "duration": 132,
    "start_time": "2022-03-03T14:33:32.093Z"
   },
   {
    "duration": 22,
    "start_time": "2022-03-03T14:34:06.241Z"
   },
   {
    "duration": 1085,
    "start_time": "2022-03-03T14:34:16.746Z"
   },
   {
    "duration": 178,
    "start_time": "2022-03-03T14:34:17.833Z"
   },
   {
    "duration": 146,
    "start_time": "2022-03-03T14:34:18.013Z"
   },
   {
    "duration": 117,
    "start_time": "2022-03-03T14:34:18.161Z"
   },
   {
    "duration": 16,
    "start_time": "2022-03-03T14:34:18.279Z"
   },
   {
    "duration": 35,
    "start_time": "2022-03-03T14:34:18.297Z"
   },
   {
    "duration": 15,
    "start_time": "2022-03-03T14:34:18.334Z"
   },
   {
    "duration": 154,
    "start_time": "2022-03-03T14:34:18.352Z"
   },
   {
    "duration": 40,
    "start_time": "2022-03-03T14:34:18.508Z"
   },
   {
    "duration": 35,
    "start_time": "2022-03-03T14:34:18.549Z"
   },
   {
    "duration": 16,
    "start_time": "2022-03-03T14:34:18.586Z"
   },
   {
    "duration": 47,
    "start_time": "2022-03-03T14:34:18.604Z"
   },
   {
    "duration": 9,
    "start_time": "2022-03-03T14:34:18.653Z"
   },
   {
    "duration": 26,
    "start_time": "2022-03-03T14:34:18.664Z"
   },
   {
    "duration": 27,
    "start_time": "2022-03-03T14:34:18.692Z"
   },
   {
    "duration": 16,
    "start_time": "2022-03-03T14:34:18.720Z"
   },
   {
    "duration": 17,
    "start_time": "2022-03-03T14:34:18.737Z"
   },
   {
    "duration": 82,
    "start_time": "2022-03-03T14:34:18.756Z"
   },
   {
    "duration": 14,
    "start_time": "2022-03-03T14:34:18.839Z"
   },
   {
    "duration": 27,
    "start_time": "2022-03-03T14:34:18.854Z"
   },
   {
    "duration": 18,
    "start_time": "2022-03-03T14:34:18.883Z"
   },
   {
    "duration": 151,
    "start_time": "2022-03-03T14:34:18.903Z"
   },
   {
    "duration": 21,
    "start_time": "2022-03-03T14:34:19.058Z"
   },
   {
    "duration": 32,
    "start_time": "2022-03-03T14:34:19.080Z"
   },
   {
    "duration": 535,
    "start_time": "2022-03-03T14:34:19.114Z"
   },
   {
    "duration": 341,
    "start_time": "2022-03-03T14:34:19.651Z"
   },
   {
    "duration": 10,
    "start_time": "2022-03-03T14:34:19.993Z"
   },
   {
    "duration": 351,
    "start_time": "2022-03-03T14:34:20.004Z"
   },
   {
    "duration": 15,
    "start_time": "2022-03-03T14:34:20.357Z"
   },
   {
    "duration": 6,
    "start_time": "2022-03-03T14:34:20.373Z"
   },
   {
    "duration": 9,
    "start_time": "2022-03-03T14:34:20.381Z"
   },
   {
    "duration": 10,
    "start_time": "2022-03-03T14:34:20.391Z"
   },
   {
    "duration": 9,
    "start_time": "2022-03-03T14:34:20.402Z"
   },
   {
    "duration": 28,
    "start_time": "2022-03-03T14:34:20.412Z"
   },
   {
    "duration": 7,
    "start_time": "2022-03-03T14:34:20.442Z"
   },
   {
    "duration": 230,
    "start_time": "2022-03-03T14:34:20.451Z"
   },
   {
    "duration": 7,
    "start_time": "2022-03-03T14:35:31.127Z"
   },
   {
    "duration": 141,
    "start_time": "2022-03-03T14:38:59.935Z"
   },
   {
    "duration": 7,
    "start_time": "2022-03-03T14:39:05.701Z"
   },
   {
    "duration": 274,
    "start_time": "2022-03-03T14:41:14.590Z"
   },
   {
    "duration": 12,
    "start_time": "2022-03-03T14:41:23.195Z"
   },
   {
    "duration": 71,
    "start_time": "2022-03-03T14:45:43.206Z"
   },
   {
    "duration": 73,
    "start_time": "2022-03-03T14:46:30.419Z"
   },
   {
    "duration": 12,
    "start_time": "2022-03-03T14:58:34.166Z"
   },
   {
    "duration": 55,
    "start_time": "2022-03-03T14:58:55.559Z"
   },
   {
    "duration": 206,
    "start_time": "2022-03-03T14:59:13.251Z"
   },
   {
    "duration": 377,
    "start_time": "2022-03-03T14:59:32.928Z"
   },
   {
    "duration": 11,
    "start_time": "2022-03-03T14:59:40.796Z"
   },
   {
    "duration": 71,
    "start_time": "2022-03-03T15:02:27.904Z"
   },
   {
    "duration": 77,
    "start_time": "2022-03-03T15:03:20.023Z"
   },
   {
    "duration": 69,
    "start_time": "2022-03-03T15:03:33.663Z"
   },
   {
    "duration": 1040,
    "start_time": "2022-03-03T15:06:33.786Z"
   },
   {
    "duration": 174,
    "start_time": "2022-03-03T15:06:34.828Z"
   },
   {
    "duration": 155,
    "start_time": "2022-03-03T15:06:35.005Z"
   },
   {
    "duration": 1764,
    "start_time": "2022-03-03T15:06:35.162Z"
   },
   {
    "duration": 16,
    "start_time": "2022-03-03T15:06:36.928Z"
   },
   {
    "duration": 51,
    "start_time": "2022-03-03T15:06:36.946Z"
   },
   {
    "duration": 13,
    "start_time": "2022-03-03T15:06:36.999Z"
   },
   {
    "duration": 130,
    "start_time": "2022-03-03T15:06:37.014Z"
   },
   {
    "duration": 34,
    "start_time": "2022-03-03T15:06:37.147Z"
   },
   {
    "duration": 37,
    "start_time": "2022-03-03T15:06:37.183Z"
   },
   {
    "duration": 34,
    "start_time": "2022-03-03T15:06:37.222Z"
   },
   {
    "duration": 11,
    "start_time": "2022-03-03T15:06:37.257Z"
   },
   {
    "duration": 30,
    "start_time": "2022-03-03T15:06:37.270Z"
   },
   {
    "duration": 40,
    "start_time": "2022-03-03T15:06:37.302Z"
   },
   {
    "duration": 12,
    "start_time": "2022-03-03T15:06:37.344Z"
   },
   {
    "duration": 10,
    "start_time": "2022-03-03T15:06:37.358Z"
   },
   {
    "duration": 11,
    "start_time": "2022-03-03T15:06:37.369Z"
   },
   {
    "duration": 17,
    "start_time": "2022-03-03T15:06:37.381Z"
   },
   {
    "duration": 104,
    "start_time": "2022-03-03T15:06:37.400Z"
   },
   {
    "duration": 32,
    "start_time": "2022-03-03T15:06:37.505Z"
   },
   {
    "duration": 7,
    "start_time": "2022-03-03T15:06:37.539Z"
   },
   {
    "duration": 4317,
    "start_time": "2022-03-03T15:06:37.548Z"
   },
   {
    "duration": -3551,
    "start_time": "2022-03-03T15:06:45.418Z"
   },
   {
    "duration": -3568,
    "start_time": "2022-03-03T15:06:45.436Z"
   },
   {
    "duration": -3600,
    "start_time": "2022-03-03T15:06:45.469Z"
   },
   {
    "duration": -3615,
    "start_time": "2022-03-03T15:06:45.485Z"
   },
   {
    "duration": -3657,
    "start_time": "2022-03-03T15:06:45.528Z"
   },
   {
    "duration": -3723,
    "start_time": "2022-03-03T15:06:45.596Z"
   },
   {
    "duration": -3735,
    "start_time": "2022-03-03T15:06:45.609Z"
   },
   {
    "duration": -3747,
    "start_time": "2022-03-03T15:06:45.622Z"
   },
   {
    "duration": -3758,
    "start_time": "2022-03-03T15:06:45.634Z"
   },
   {
    "duration": -3773,
    "start_time": "2022-03-03T15:06:45.650Z"
   },
   {
    "duration": -3796,
    "start_time": "2022-03-03T15:06:45.674Z"
   },
   {
    "duration": -3829,
    "start_time": "2022-03-03T15:06:45.709Z"
   },
   {
    "duration": -3841,
    "start_time": "2022-03-03T15:06:45.722Z"
   },
   {
    "duration": -3855,
    "start_time": "2022-03-03T15:06:45.737Z"
   },
   {
    "duration": -3866,
    "start_time": "2022-03-03T15:06:45.749Z"
   },
   {
    "duration": 31,
    "start_time": "2022-03-03T15:08:37.464Z"
   },
   {
    "duration": 10,
    "start_time": "2022-03-03T15:09:32.609Z"
   },
   {
    "duration": 70,
    "start_time": "2022-03-03T15:14:11.685Z"
   },
   {
    "duration": 16,
    "start_time": "2022-03-03T15:14:48.713Z"
   },
   {
    "duration": 26,
    "start_time": "2022-03-03T15:15:03.505Z"
   },
   {
    "duration": 14,
    "start_time": "2022-03-03T15:15:35.205Z"
   },
   {
    "duration": 8,
    "start_time": "2022-03-03T15:15:45.721Z"
   },
   {
    "duration": 6,
    "start_time": "2022-03-03T15:15:53.694Z"
   },
   {
    "duration": 140,
    "start_time": "2022-03-03T15:16:03.213Z"
   },
   {
    "duration": 126,
    "start_time": "2022-03-03T15:16:42.346Z"
   },
   {
    "duration": 159,
    "start_time": "2022-03-03T15:17:00.834Z"
   },
   {
    "duration": 24,
    "start_time": "2022-03-03T15:17:16.254Z"
   },
   {
    "duration": 4,
    "start_time": "2022-03-03T15:17:25.341Z"
   },
   {
    "duration": 22,
    "start_time": "2022-03-03T15:18:42.724Z"
   },
   {
    "duration": 247,
    "start_time": "2022-03-03T15:19:22.448Z"
   },
   {
    "duration": 11,
    "start_time": "2022-03-03T15:19:38.056Z"
   },
   {
    "duration": 8,
    "start_time": "2022-03-03T15:20:38.253Z"
   },
   {
    "duration": 4,
    "start_time": "2022-03-03T15:21:02.651Z"
   },
   {
    "duration": 35,
    "start_time": "2022-03-03T15:21:13.093Z"
   },
   {
    "duration": 529,
    "start_time": "2022-03-03T15:21:19.734Z"
   },
   {
    "duration": 333,
    "start_time": "2022-03-03T15:21:54.952Z"
   },
   {
    "duration": 11,
    "start_time": "2022-03-03T15:22:17.458Z"
   },
   {
    "duration": 328,
    "start_time": "2022-03-03T15:22:43.306Z"
   },
   {
    "duration": 9,
    "start_time": "2022-03-03T15:23:43.735Z"
   },
   {
    "duration": 195,
    "start_time": "2022-03-03T15:24:39.888Z"
   },
   {
    "duration": 10,
    "start_time": "2022-03-03T15:24:50.172Z"
   },
   {
    "duration": 393,
    "start_time": "2022-03-03T15:25:28.997Z"
   },
   {
    "duration": 8,
    "start_time": "2022-03-03T15:26:38.558Z"
   },
   {
    "duration": 10,
    "start_time": "2022-03-03T15:32:46.278Z"
   },
   {
    "duration": 9,
    "start_time": "2022-03-03T15:37:24.177Z"
   },
   {
    "duration": 10,
    "start_time": "2022-03-03T15:37:35.242Z"
   },
   {
    "duration": 4,
    "start_time": "2022-03-03T15:42:32.353Z"
   },
   {
    "duration": 5,
    "start_time": "2022-03-03T15:42:50.773Z"
   },
   {
    "duration": 8,
    "start_time": "2022-03-03T15:46:02.498Z"
   },
   {
    "duration": 8,
    "start_time": "2022-03-03T15:48:23.950Z"
   },
   {
    "duration": 9,
    "start_time": "2022-03-03T15:48:59.082Z"
   },
   {
    "duration": 9,
    "start_time": "2022-03-03T15:53:40.358Z"
   },
   {
    "duration": 8,
    "start_time": "2022-03-03T15:53:46.753Z"
   },
   {
    "duration": 307,
    "start_time": "2022-03-03T15:54:08.350Z"
   },
   {
    "duration": 201,
    "start_time": "2022-03-03T15:54:26.023Z"
   },
   {
    "duration": 483,
    "start_time": "2022-03-03T15:55:02.179Z"
   },
   {
    "duration": 329,
    "start_time": "2022-03-03T15:55:15.867Z"
   },
   {
    "duration": 227,
    "start_time": "2022-03-03T15:55:36.867Z"
   },
   {
    "duration": 284,
    "start_time": "2022-03-03T15:59:13.134Z"
   },
   {
    "duration": 269,
    "start_time": "2022-03-03T16:00:47.507Z"
   },
   {
    "duration": 9,
    "start_time": "2022-03-03T16:10:53.134Z"
   },
   {
    "duration": 9,
    "start_time": "2022-03-03T16:11:12.283Z"
   },
   {
    "duration": 10,
    "start_time": "2022-03-03T16:11:34.430Z"
   },
   {
    "duration": 10,
    "start_time": "2022-03-03T16:13:36.784Z"
   },
   {
    "duration": 13,
    "start_time": "2022-03-03T16:14:11.385Z"
   },
   {
    "duration": 16,
    "start_time": "2022-03-03T16:17:05.379Z"
   },
   {
    "duration": 8,
    "start_time": "2022-03-03T16:27:02.069Z"
   },
   {
    "duration": 11,
    "start_time": "2022-03-03T16:28:37.372Z"
   },
   {
    "duration": 654,
    "start_time": "2022-03-03T16:30:24.693Z"
   },
   {
    "duration": 354,
    "start_time": "2022-03-03T16:31:33.221Z"
   },
   {
    "duration": 360,
    "start_time": "2022-03-03T16:32:20.238Z"
   },
   {
    "duration": 959,
    "start_time": "2022-03-03T16:33:21.967Z"
   },
   {
    "duration": 171,
    "start_time": "2022-03-03T16:33:22.929Z"
   },
   {
    "duration": 141,
    "start_time": "2022-03-03T16:33:23.103Z"
   },
   {
    "duration": 96,
    "start_time": "2022-03-03T16:33:23.246Z"
   },
   {
    "duration": 16,
    "start_time": "2022-03-03T16:33:23.344Z"
   },
   {
    "duration": 38,
    "start_time": "2022-03-03T16:33:23.362Z"
   },
   {
    "duration": 9,
    "start_time": "2022-03-03T16:33:23.401Z"
   },
   {
    "duration": 112,
    "start_time": "2022-03-03T16:33:23.412Z"
   },
   {
    "duration": 37,
    "start_time": "2022-03-03T16:33:23.527Z"
   },
   {
    "duration": 33,
    "start_time": "2022-03-03T16:33:23.565Z"
   },
   {
    "duration": 17,
    "start_time": "2022-03-03T16:33:23.600Z"
   },
   {
    "duration": 26,
    "start_time": "2022-03-03T16:33:23.637Z"
   },
   {
    "duration": 10,
    "start_time": "2022-03-03T16:33:23.665Z"
   },
   {
    "duration": 11,
    "start_time": "2022-03-03T16:33:23.676Z"
   },
   {
    "duration": 8,
    "start_time": "2022-03-03T16:33:23.689Z"
   },
   {
    "duration": 39,
    "start_time": "2022-03-03T16:33:23.699Z"
   },
   {
    "duration": 15,
    "start_time": "2022-03-03T16:33:23.740Z"
   },
   {
    "duration": 62,
    "start_time": "2022-03-03T16:33:23.757Z"
   },
   {
    "duration": 27,
    "start_time": "2022-03-03T16:33:23.821Z"
   },
   {
    "duration": 6,
    "start_time": "2022-03-03T16:33:23.850Z"
   },
   {
    "duration": 6,
    "start_time": "2022-03-03T16:33:23.858Z"
   },
   {
    "duration": 151,
    "start_time": "2022-03-03T16:33:23.865Z"
   },
   {
    "duration": 3,
    "start_time": "2022-03-03T16:33:24.019Z"
   },
   {
    "duration": 38,
    "start_time": "2022-03-03T16:33:24.023Z"
   },
   {
    "duration": 571,
    "start_time": "2022-03-03T16:33:24.063Z"
   },
   {
    "duration": 383,
    "start_time": "2022-03-03T16:33:24.635Z"
   },
   {
    "duration": 11,
    "start_time": "2022-03-03T16:33:25.019Z"
   },
   {
    "duration": 394,
    "start_time": "2022-03-03T16:33:25.038Z"
   },
   {
    "duration": 10,
    "start_time": "2022-03-03T16:33:25.437Z"
   },
   {
    "duration": 4,
    "start_time": "2022-03-03T16:33:25.449Z"
   },
   {
    "duration": 13,
    "start_time": "2022-03-03T16:33:25.455Z"
   },
   {
    "duration": 7,
    "start_time": "2022-03-03T16:33:25.470Z"
   },
   {
    "duration": 15,
    "start_time": "2022-03-03T16:33:25.478Z"
   },
   {
    "duration": 48,
    "start_time": "2022-03-03T16:33:25.495Z"
   },
   {
    "duration": 10,
    "start_time": "2022-03-03T16:33:25.545Z"
   },
   {
    "duration": 257,
    "start_time": "2022-03-03T16:33:25.556Z"
   },
   {
    "duration": 283,
    "start_time": "2022-03-03T22:02:56.633Z"
   },
   {
    "duration": 1784,
    "start_time": "2022-03-03T22:02:58.754Z"
   },
   {
    "duration": 354,
    "start_time": "2022-03-03T22:03:00.541Z"
   },
   {
    "duration": 290,
    "start_time": "2022-03-03T22:03:00.899Z"
   },
   {
    "duration": 202,
    "start_time": "2022-03-03T22:03:01.193Z"
   },
   {
    "duration": 21,
    "start_time": "2022-03-03T22:03:01.398Z"
   },
   {
    "duration": 64,
    "start_time": "2022-03-03T22:03:01.421Z"
   },
   {
    "duration": 14,
    "start_time": "2022-03-03T22:03:01.487Z"
   },
   {
    "duration": 192,
    "start_time": "2022-03-03T22:03:01.505Z"
   },
   {
    "duration": 64,
    "start_time": "2022-03-03T22:03:01.700Z"
   },
   {
    "duration": 49,
    "start_time": "2022-03-03T22:03:01.766Z"
   },
   {
    "duration": 62,
    "start_time": "2022-03-03T22:03:01.817Z"
   },
   {
    "duration": 51,
    "start_time": "2022-03-03T22:03:01.882Z"
   },
   {
    "duration": 36,
    "start_time": "2022-03-03T22:03:01.936Z"
   },
   {
    "duration": 26,
    "start_time": "2022-03-03T22:03:01.974Z"
   },
   {
    "duration": 50,
    "start_time": "2022-03-03T22:03:02.003Z"
   },
   {
    "duration": 20,
    "start_time": "2022-03-03T22:03:02.056Z"
   },
   {
    "duration": 23,
    "start_time": "2022-03-03T22:03:02.079Z"
   },
   {
    "duration": 125,
    "start_time": "2022-03-03T22:03:02.105Z"
   },
   {
    "duration": 32,
    "start_time": "2022-03-03T22:03:02.232Z"
   },
   {
    "duration": 11,
    "start_time": "2022-03-03T22:03:02.267Z"
   },
   {
    "duration": 31,
    "start_time": "2022-03-03T22:03:02.281Z"
   },
   {
    "duration": 41,
    "start_time": "2022-03-03T22:03:02.314Z"
   },
   {
    "duration": 260,
    "start_time": "2022-03-03T22:03:02.360Z"
   },
   {
    "duration": 5,
    "start_time": "2022-03-03T22:03:02.623Z"
   },
   {
    "duration": 64,
    "start_time": "2022-03-03T22:03:02.630Z"
   },
   {
    "duration": 986,
    "start_time": "2022-03-03T22:03:02.697Z"
   },
   {
    "duration": 593,
    "start_time": "2022-03-03T22:03:03.686Z"
   },
   {
    "duration": 17,
    "start_time": "2022-03-03T22:03:04.281Z"
   },
   {
    "duration": 622,
    "start_time": "2022-03-03T22:03:04.301Z"
   },
   {
    "duration": 27,
    "start_time": "2022-03-03T22:03:04.926Z"
   },
   {
    "duration": 5,
    "start_time": "2022-03-03T22:03:04.956Z"
   },
   {
    "duration": 24,
    "start_time": "2022-03-03T22:03:04.964Z"
   },
   {
    "duration": 62,
    "start_time": "2022-03-03T22:03:04.991Z"
   },
   {
    "duration": 24,
    "start_time": "2022-03-03T22:03:05.057Z"
   },
   {
    "duration": 12,
    "start_time": "2022-03-03T22:03:05.084Z"
   },
   {
    "duration": 12,
    "start_time": "2022-03-03T22:03:05.151Z"
   },
   {
    "duration": 512,
    "start_time": "2022-03-03T22:03:05.166Z"
   },
   {
    "duration": 98,
    "start_time": "2022-03-04T07:49:13.724Z"
   },
   {
    "duration": 1052,
    "start_time": "2022-03-04T07:52:55.512Z"
   },
   {
    "duration": 158,
    "start_time": "2022-03-04T07:52:56.565Z"
   },
   {
    "duration": 127,
    "start_time": "2022-03-04T07:52:56.725Z"
   },
   {
    "duration": 98,
    "start_time": "2022-03-04T07:52:56.854Z"
   },
   {
    "duration": 20,
    "start_time": "2022-03-04T07:52:56.954Z"
   },
   {
    "duration": 69,
    "start_time": "2022-03-04T07:52:56.976Z"
   },
   {
    "duration": 8,
    "start_time": "2022-03-04T07:52:57.047Z"
   },
   {
    "duration": 110,
    "start_time": "2022-03-04T07:52:57.056Z"
   },
   {
    "duration": 39,
    "start_time": "2022-03-04T07:52:57.168Z"
   },
   {
    "duration": 30,
    "start_time": "2022-03-04T07:52:57.209Z"
   },
   {
    "duration": 16,
    "start_time": "2022-03-04T07:52:57.241Z"
   },
   {
    "duration": 23,
    "start_time": "2022-03-04T07:52:57.258Z"
   },
   {
    "duration": 25,
    "start_time": "2022-03-04T07:52:57.282Z"
   },
   {
    "duration": 10,
    "start_time": "2022-03-04T07:52:57.308Z"
   },
   {
    "duration": 9,
    "start_time": "2022-03-04T07:52:57.319Z"
   },
   {
    "duration": 8,
    "start_time": "2022-03-04T07:52:57.330Z"
   },
   {
    "duration": 15,
    "start_time": "2022-03-04T07:52:57.339Z"
   },
   {
    "duration": 107,
    "start_time": "2022-03-04T07:52:57.356Z"
   },
   {
    "duration": -2158,
    "start_time": "2022-03-04T07:52:59.623Z"
   },
   {
    "duration": -2214,
    "start_time": "2022-03-04T07:52:59.680Z"
   },
   {
    "duration": -2231,
    "start_time": "2022-03-04T07:52:59.697Z"
   },
   {
    "duration": -2246,
    "start_time": "2022-03-04T07:52:59.713Z"
   },
   {
    "duration": -2264,
    "start_time": "2022-03-04T07:52:59.732Z"
   },
   {
    "duration": -2281,
    "start_time": "2022-03-04T07:52:59.750Z"
   },
   {
    "duration": -2294,
    "start_time": "2022-03-04T07:52:59.764Z"
   },
   {
    "duration": -2325,
    "start_time": "2022-03-04T07:52:59.795Z"
   },
   {
    "duration": -2338,
    "start_time": "2022-03-04T07:52:59.809Z"
   },
   {
    "duration": -2350,
    "start_time": "2022-03-04T07:52:59.822Z"
   },
   {
    "duration": -2362,
    "start_time": "2022-03-04T07:52:59.835Z"
   },
   {
    "duration": -2379,
    "start_time": "2022-03-04T07:52:59.852Z"
   },
   {
    "duration": -2404,
    "start_time": "2022-03-04T07:52:59.878Z"
   },
   {
    "duration": -2433,
    "start_time": "2022-03-04T07:52:59.908Z"
   },
   {
    "duration": -2446,
    "start_time": "2022-03-04T07:52:59.922Z"
   },
   {
    "duration": -2459,
    "start_time": "2022-03-04T07:52:59.936Z"
   },
   {
    "duration": -2478,
    "start_time": "2022-03-04T07:52:59.955Z"
   },
   {
    "duration": -2497,
    "start_time": "2022-03-04T07:52:59.975Z"
   },
   {
    "duration": 102,
    "start_time": "2022-03-04T07:53:45.849Z"
   },
   {
    "duration": 58,
    "start_time": "2022-03-04T07:55:29.015Z"
   },
   {
    "duration": 58,
    "start_time": "2022-03-04T07:56:43.827Z"
   },
   {
    "duration": 14,
    "start_time": "2022-03-04T07:56:49.772Z"
   },
   {
    "duration": 7,
    "start_time": "2022-03-04T07:56:50.883Z"
   },
   {
    "duration": 5,
    "start_time": "2022-03-04T07:56:55.349Z"
   },
   {
    "duration": 154,
    "start_time": "2022-03-04T07:57:00.856Z"
   },
   {
    "duration": 147,
    "start_time": "2022-03-04T07:57:44.553Z"
   },
   {
    "duration": 1011,
    "start_time": "2022-03-04T08:09:00.163Z"
   },
   {
    "duration": 172,
    "start_time": "2022-03-04T08:09:01.175Z"
   },
   {
    "duration": 135,
    "start_time": "2022-03-04T08:09:01.349Z"
   },
   {
    "duration": 96,
    "start_time": "2022-03-04T08:09:01.486Z"
   },
   {
    "duration": 22,
    "start_time": "2022-03-04T08:09:01.584Z"
   },
   {
    "duration": 55,
    "start_time": "2022-03-04T08:09:01.608Z"
   },
   {
    "duration": 9,
    "start_time": "2022-03-04T08:09:01.664Z"
   },
   {
    "duration": 118,
    "start_time": "2022-03-04T08:09:01.676Z"
   },
   {
    "duration": 33,
    "start_time": "2022-03-04T08:09:01.797Z"
   },
   {
    "duration": 32,
    "start_time": "2022-03-04T08:09:01.832Z"
   },
   {
    "duration": 38,
    "start_time": "2022-03-04T08:09:01.866Z"
   },
   {
    "duration": 23,
    "start_time": "2022-03-04T08:09:01.906Z"
   },
   {
    "duration": 9,
    "start_time": "2022-03-04T08:09:01.931Z"
   },
   {
    "duration": 15,
    "start_time": "2022-03-04T08:09:01.941Z"
   },
   {
    "duration": 9,
    "start_time": "2022-03-04T08:09:01.957Z"
   },
   {
    "duration": 34,
    "start_time": "2022-03-04T08:09:01.967Z"
   },
   {
    "duration": 18,
    "start_time": "2022-03-04T08:09:02.003Z"
   },
   {
    "duration": 61,
    "start_time": "2022-03-04T08:09:02.023Z"
   },
   {
    "duration": 27,
    "start_time": "2022-03-04T08:09:02.086Z"
   },
   {
    "duration": 7,
    "start_time": "2022-03-04T08:09:02.114Z"
   },
   {
    "duration": 8,
    "start_time": "2022-03-04T08:09:02.122Z"
   },
   {
    "duration": 174,
    "start_time": "2022-03-04T08:09:02.131Z"
   },
   {
    "duration": 3,
    "start_time": "2022-03-04T08:09:02.307Z"
   },
   {
    "duration": 27,
    "start_time": "2022-03-04T08:09:02.312Z"
   },
   {
    "duration": 514,
    "start_time": "2022-03-04T08:09:02.340Z"
   },
   {
    "duration": 327,
    "start_time": "2022-03-04T08:09:02.856Z"
   },
   {
    "duration": 18,
    "start_time": "2022-03-04T08:09:03.185Z"
   },
   {
    "duration": 341,
    "start_time": "2022-03-04T08:09:03.204Z"
   },
   {
    "duration": 9,
    "start_time": "2022-03-04T08:09:03.547Z"
   },
   {
    "duration": 2,
    "start_time": "2022-03-04T08:09:03.558Z"
   },
   {
    "duration": 42,
    "start_time": "2022-03-04T08:09:03.562Z"
   },
   {
    "duration": 7,
    "start_time": "2022-03-04T08:09:03.606Z"
   },
   {
    "duration": 12,
    "start_time": "2022-03-04T08:09:03.615Z"
   },
   {
    "duration": 7,
    "start_time": "2022-03-04T08:09:03.629Z"
   },
   {
    "duration": 6,
    "start_time": "2022-03-04T08:09:03.638Z"
   },
   {
    "duration": 258,
    "start_time": "2022-03-04T08:09:03.646Z"
   }
  ],
  "kernelspec": {
   "display_name": "Python 3 (ipykernel)",
   "language": "python",
   "name": "python3"
  },
  "language_info": {
   "codemirror_mode": {
    "name": "ipython",
    "version": 3
   },
   "file_extension": ".py",
   "mimetype": "text/x-python",
   "name": "python",
   "nbconvert_exporter": "python",
   "pygments_lexer": "ipython3",
   "version": "3.9.7"
  },
  "toc": {
   "base_numbering": 1,
   "nav_menu": {},
   "number_sections": true,
   "sideBar": true,
   "skip_h1_title": true,
   "title_cell": "Table of Contents",
   "title_sidebar": "Contents",
   "toc_cell": false,
   "toc_position": {},
   "toc_section_display": true,
   "toc_window_display": false
  }
 },
 "nbformat": 4,
 "nbformat_minor": 2
}
