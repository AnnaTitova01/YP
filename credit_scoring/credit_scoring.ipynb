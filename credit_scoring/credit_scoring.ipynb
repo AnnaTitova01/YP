{
 "cells": [
  {
   "cell_type": "markdown",
   "metadata": {},
   "source": [
    "# Исследование надёжности заёмщиков\n",
    "\n",
    "Заказчик — кредитный отдел банка. Нужно разобраться, влияет ли семейное положение и количество детей клиента на факт погашения кредита в срок. Входные данные от банка — статистика о платёжеспособности клиентов.\n",
    "\n",
    "Результаты исследования будут учтены при построении модели **кредитного скоринга** — специальной системы, которая оценивает способность потенциального заёмщика вернуть кредит банку."
   ]
  },
  {
   "cell_type": "markdown",
   "metadata": {},
   "source": [
    "## Шаг 1. Общая информация"
   ]
  },
  {
   "cell_type": "markdown",
   "metadata": {},
   "source": [
    "Импортируем библиотеки"
   ]
  },
  {
   "cell_type": "code",
   "execution_count": 1,
   "metadata": {},
   "outputs": [],
   "source": [
    "import pandas as pd\n",
    "from pymystem3 import Mystem\n",
    "import numpy as np"
   ]
  },
  {
   "cell_type": "code",
   "execution_count": 2,
   "metadata": {},
   "outputs": [
    {
     "name": "stdout",
     "output_type": "stream",
     "text": [
      "<class 'pandas.core.frame.DataFrame'>\n",
      "RangeIndex: 21525 entries, 0 to 21524\n",
      "Data columns (total 12 columns):\n",
      " #   Column            Non-Null Count  Dtype  \n",
      "---  ------            --------------  -----  \n",
      " 0   children          21525 non-null  int64  \n",
      " 1   days_employed     19351 non-null  float64\n",
      " 2   dob_years         21525 non-null  int64  \n",
      " 3   education         21525 non-null  object \n",
      " 4   education_id      21525 non-null  int64  \n",
      " 5   family_status     21525 non-null  object \n",
      " 6   family_status_id  21525 non-null  int64  \n",
      " 7   gender            21525 non-null  object \n",
      " 8   income_type       21525 non-null  object \n",
      " 9   debt              21525 non-null  int64  \n",
      " 10  total_income      19351 non-null  float64\n",
      " 11  purpose           21525 non-null  object \n",
      "dtypes: float64(2), int64(5), object(5)\n",
      "memory usage: 2.0+ MB\n"
     ]
    }
   ],
   "source": [
    "data = pd.read_csv('/datasets/data.csv')\n",
    "data.info()\n"
   ]
  },
  {
   "cell_type": "markdown",
   "metadata": {},
   "source": [
    "**Вывод**"
   ]
  },
  {
   "cell_type": "markdown",
   "metadata": {},
   "source": [
    "1. Таблица содержит более 20 тысяч строк в 12 колонках. Названия колонок записаны в нижнем и \"змеином\" регистре и все латиницей, что корректно. Переименование не потребуется. \n",
    "2. Есть пропуски, их нужно обработать. \n",
    "3. Нужно проверить гипотезы, связанные с семейным положением, наличием детей, доходом и фактом погашения кредита, а значит в первую очередь я смотрю на колонки children, family_status, family_status_id, total_income, debt. У колонок дети, идентификатор семейного положения и долг целочисленный тип данных. Предположу, что для индентификатора семейного положения расшифровка будет в колонке семейное положение (строковый тип данных), а для долга значения 0 и 1 как факт погашения и непогашения долга. У колонки доход вещественный тип данных, а значит с ними можно производить математические операции."
   ]
  },
  {
   "cell_type": "markdown",
   "metadata": {},
   "source": [
    "## Шаг 2. Предобработка данных"
   ]
  },
  {
   "cell_type": "markdown",
   "metadata": {},
   "source": [
    "В предобработке данных я планирую провести:\n",
    "1. Обработка пропусков. В зависимости от их количества буду заполнять пропуски или удалять.\n",
    "2. Замена типа данных. Заменю тип данных в колонке доход\n",
    "3. Обработка дубликатов. Найду дубликаты и обработаю\n",
    "4. Лемматизация. Так как одна из задач связана с колонкой цель кредита, проведу лемматизацию в колонке \n",
    "5. Категоризация. Категоризирую заемщиков по группам для дальнейшего исследования."
   ]
  },
  {
   "cell_type": "markdown",
   "metadata": {},
   "source": [
    "### Обработка пропусков"
   ]
  },
  {
   "cell_type": "code",
   "execution_count": 3,
   "metadata": {},
   "outputs": [
    {
     "data": {
      "text/plain": [
       "children               0\n",
       "days_employed       2174\n",
       "dob_years              0\n",
       "education              0\n",
       "education_id           0\n",
       "family_status          0\n",
       "family_status_id       0\n",
       "gender                 0\n",
       "income_type            0\n",
       "debt                   0\n",
       "total_income        2174\n",
       "purpose                0\n",
       "dtype: int64"
      ]
     },
     "execution_count": 3,
     "metadata": {},
     "output_type": "execute_result"
    }
   ],
   "source": [
    "data.isna().sum()\n"
   ]
  },
  {
   "cell_type": "markdown",
   "metadata": {},
   "source": [
    "Методом isna().sum() подсчитываю пропуски в таблице. Их 2174 в колонках трудовой стаж и доход. Меня интересует колонка доход. Пропуски составляют около 10% от всех данных. Это существенный процент, если их игнорировать, расчеты могут быть некорретктны. Точно определить причину пропусков не могу, при наличии возможности уточнила бы у разработчиков, а пока предположу, что пропуски могут быть связаны с тем, что: 1) заемщик не имеет дохода вообще, либо подтвержденного дохода; 2) возможно, данные о доходах попадают в колонку из сведений по зарплатной/пенсионной карте этого банка. Если у заемщика другой банк, о его доходах нет сведений. Ни одно из предположений не исключает, что заемщик тем не менее в состоянии выплачивать кредит. А значит, я бы не стала удалять пропуски, а заменила значение на среднее по типу занятости. "
   ]
  },
  {
   "cell_type": "markdown",
   "metadata": {},
   "source": [
    "Пишу функцию для замены значения по типу занятости (income_type) и методом apply применяю ее к столбцу доход (total_income). "
   ]
  },
  {
   "cell_type": "code",
   "execution_count": 5,
   "metadata": {},
   "outputs": [],
   "source": [
    "data_grouped = data.groupby('income_type')['total_income'].mean()\n",
    " \n",
    "def func(row):\n",
    "    if pd.isna(row['total_income']):\n",
    "        return data_grouped.loc[row['income_type']]\n",
    "    return row['total_income']\n",
    " \n",
    "data['total_income'] = data.apply(func, axis=1)"
   ]
  },
  {
   "cell_type": "markdown",
   "metadata": {},
   "source": [
    "Для проверки снова вывожу .isna().sum(). "
   ]
  },
  {
   "cell_type": "code",
   "execution_count": 7,
   "metadata": {},
   "outputs": [
    {
     "data": {
      "text/plain": [
       "children               0\n",
       "days_employed       2174\n",
       "dob_years              0\n",
       "education              0\n",
       "education_id           0\n",
       "family_status          0\n",
       "family_status_id       0\n",
       "gender                 0\n",
       "income_type            0\n",
       "debt                   0\n",
       "total_income           0\n",
       "purpose                0\n",
       "dtype: int64"
      ]
     },
     "execution_count": 7,
     "metadata": {},
     "output_type": "execute_result"
    }
   ],
   "source": [
    "data.isna().sum()"
   ]
  },
  {
   "cell_type": "markdown",
   "metadata": {},
   "source": [
    "В столбце total_income пропусков нет."
   ]
  },
  {
   "cell_type": "markdown",
   "metadata": {},
   "source": [
    "**Вывод**"
   ]
  },
  {
   "cell_type": "markdown",
   "metadata": {},
   "source": [
    "При обработке пропусков были найдены и обработаны 2174 пропуска в колонке доход. Пропуски были заполнены средними значениями по типу дохода. В этой колонке тип данных float. Копейки из этой колонки не существенно влияют на расчеты, но в анализе из-за них могут быть ошибки в коде. Поэтому я заменю тип данных на int"
   ]
  },
  {
   "cell_type": "markdown",
   "metadata": {},
   "source": [
    "### Замена типа данных"
   ]
  },
  {
   "cell_type": "code",
   "execution_count": 177,
   "metadata": {},
   "outputs": [
    {
     "name": "stdout",
     "output_type": "stream",
     "text": [
      "<class 'pandas.core.frame.DataFrame'>\n",
      "RangeIndex: 21525 entries, 0 to 21524\n",
      "Data columns (total 12 columns):\n",
      "children            21525 non-null int64\n",
      "days_employed       19351 non-null float64\n",
      "dob_years           21525 non-null int64\n",
      "education           21525 non-null object\n",
      "education_id        21525 non-null int64\n",
      "family_status       21525 non-null object\n",
      "family_status_id    21525 non-null int64\n",
      "gender              21525 non-null object\n",
      "income_type         21525 non-null object\n",
      "debt                21525 non-null int64\n",
      "total_income        21525 non-null int64\n",
      "purpose             21525 non-null object\n",
      "dtypes: float64(1), int64(6), object(5)\n",
      "memory usage: 2.0+ MB\n"
     ]
    }
   ],
   "source": [
    "data['total_income'] = data['total_income'].astype('int')\n",
    "data.info()"
   ]
  },
  {
   "cell_type": "markdown",
   "metadata": {},
   "source": [
    "**Вывод**"
   ]
  },
  {
   "cell_type": "markdown",
   "metadata": {},
   "source": [
    "Так как известно, в какой тип значений нужно перевести,для изменения типа данных использую метод .astype(). Проверяю результат, вызвав info()"
   ]
  },
  {
   "cell_type": "markdown",
   "metadata": {},
   "source": [
    "### Обработка дубликатов"
   ]
  },
  {
   "cell_type": "code",
   "execution_count": 8,
   "metadata": {},
   "outputs": [
    {
     "data": {
      "text/plain": [
       "54"
      ]
     },
     "execution_count": 8,
     "metadata": {},
     "output_type": "execute_result"
    }
   ],
   "source": [
    "data.duplicated().sum()"
   ]
  },
  {
   "cell_type": "markdown",
   "metadata": {},
   "source": [
    "Методом .duplicated().sum() нахожу количество дубликатов в таблице. Их 54. Это менее 1% данных. Удалю явные дубликаты методом drop_duplicates()"
   ]
  },
  {
   "cell_type": "code",
   "execution_count": 9,
   "metadata": {},
   "outputs": [
    {
     "data": {
      "text/plain": [
       "0"
      ]
     },
     "execution_count": 9,
     "metadata": {},
     "output_type": "execute_result"
    }
   ],
   "source": [
    "data = data.drop_duplicates()\n",
    "data.duplicated().sum()\n"
   ]
  },
  {
   "cell_type": "markdown",
   "metadata": {},
   "source": [
    "Проверяю наличие дубликатов, снова вызвав .duplicated().sum(). Дубликатов нет."
   ]
  },
  {
   "cell_type": "markdown",
   "metadata": {},
   "source": [
    "Отдельно смотрю статистику значений по нужным мне столбцам."
   ]
  },
  {
   "cell_type": "code",
   "execution_count": 180,
   "metadata": {},
   "outputs": [
    {
     "data": {
      "text/plain": [
       "0    12344\n",
       "1     4163\n",
       "4     2810\n",
       "3     1195\n",
       "2      959\n",
       "Name: family_status_id, dtype: int64"
      ]
     },
     "execution_count": 180,
     "metadata": {},
     "output_type": "execute_result"
    }
   ],
   "source": [
    "data['family_status'].value_counts()\n",
    "data['family_status_id'].value_counts()"
   ]
  },
  {
   "cell_type": "markdown",
   "metadata": {},
   "source": [
    " Значение в идентификаторе семейного положения действительно соответствует расшифровке в колонке семейное положение, а значит для расчетов я могу использовать идентификатор. Так удобнее. Самое распространенное значение \"женат/замужем\"."
   ]
  },
  {
   "cell_type": "code",
   "execution_count": 10,
   "metadata": {},
   "outputs": [
    {
     "data": {
      "text/plain": [
       " 0     14107\n",
       " 1      4809\n",
       " 2      2052\n",
       " 3       330\n",
       " 20       76\n",
       "-1        47\n",
       " 4        41\n",
       " 5         9\n",
       "Name: children, dtype: int64"
      ]
     },
     "execution_count": 10,
     "metadata": {},
     "output_type": "execute_result"
    }
   ],
   "source": [
    "data['children'].value_counts()\n"
   ]
  },
  {
   "cell_type": "markdown",
   "metadata": {},
   "source": [
    "Самое распространенное значение в колонке дети - 0 (детей нет), однако есть странные значения, вроде -1, их количество(47) меньше 1% от общих данных. Рискну предположить, что это опечатка (вместо 1), как 20 (вместо 2). Я заменю их методом replace()."
   ]
  },
  {
   "cell_type": "code",
   "execution_count": 11,
   "metadata": {},
   "outputs": [
    {
     "data": {
      "text/plain": [
       "0    14107\n",
       "1     4856\n",
       "2     2128\n",
       "3      330\n",
       "4       41\n",
       "5        9\n",
       "Name: children, dtype: int64"
      ]
     },
     "execution_count": 11,
     "metadata": {},
     "output_type": "execute_result"
    }
   ],
   "source": [
    "data['children'] = data['children'].replace(20, 2)\n",
    "data['children'] = data['children'].replace(-1, 1)\n",
    "data['children'].value_counts()"
   ]
  },
  {
   "cell_type": "markdown",
   "metadata": {},
   "source": [
    "Метод добавил значения из -1 и 20 в соответствующие 1 и 2"
   ]
  },
  {
   "cell_type": "code",
   "execution_count": 12,
   "metadata": {},
   "outputs": [
    {
     "data": {
      "text/plain": [
       "161380.260488    1077\n",
       "202417.461462     503\n",
       "137127.465690     394\n",
       "170898.309923     145\n",
       "499163.144947       2\n",
       "                 ... \n",
       "175057.266090       1\n",
       "101516.604975       1\n",
       "239154.168013       1\n",
       "165009.733021       1\n",
       "189255.286637       1\n",
       "Name: total_income, Length: 19355, dtype: int64"
      ]
     },
     "execution_count": 12,
     "metadata": {},
     "output_type": "execute_result"
    }
   ],
   "source": [
    "data['total_income'].value_counts()\n"
   ]
  },
  {
   "cell_type": "markdown",
   "metadata": {},
   "source": [
    "**Вывод**"
   ]
  },
  {
   "cell_type": "markdown",
   "metadata": {},
   "source": [
    "При обработке дубликатов выяснилось, что явных дубликатов в датасете 54, что составляет менее 1% данных. Явные дубликаты были удалены методом drop_dulicates(). При подробном изучении значений в колонках были обнаружены нехарактерные значения, как то -1 в колонке дети. Они были заменены на предполагаемые с учетом того, что процент таких \"странных\" данных невелик и не сможет серьезно повлиять на исследование."
   ]
  },
  {
   "cell_type": "markdown",
   "metadata": {},
   "source": [
    "### Лемматизация"
   ]
  },
  {
   "cell_type": "markdown",
   "metadata": {},
   "source": [
    "Далее выделяю леммы в колонке цели методом .lemmatize() "
   ]
  },
  {
   "cell_type": "code",
   "execution_count": 13,
   "metadata": {},
   "outputs": [
    {
     "data": {
      "text/plain": [
       "0                 [покупка,  , жилье, \\n]\n",
       "1       [приобретение,  , автомобиль, \\n]\n",
       "2                 [покупка,  , жилье, \\n]\n",
       "3    [дополнительный,  , образование, \\n]\n",
       "4               [сыграть,  , свадьба, \\n]\n",
       "Name: id_purpose, dtype: object"
      ]
     },
     "execution_count": 13,
     "metadata": {},
     "output_type": "execute_result"
    }
   ],
   "source": [
    "m = Mystem()\n",
    "data['id_purpose'] = data['purpose'].apply(m.lemmatize)\n",
    "data['id_purpose'].head()"
   ]
  },
  {
   "cell_type": "markdown",
   "metadata": {},
   "source": [
    "**Вывод**"
   ]
  },
  {
   "cell_type": "markdown",
   "metadata": {},
   "source": [
    "Надо помнить, что этот метод берет значения строки. Чтобы он брал значения столбца, я помещаю его в apply() и применяю его к столбцу. Результаты лемматизации сохраняю в отдельный столбец для дальнейших подсчетов. Для проверки вывожу методом .head(). Леммы выделились."
   ]
  },
  {
   "cell_type": "markdown",
   "metadata": {},
   "source": [
    "### Категоризация данных"
   ]
  },
  {
   "cell_type": "markdown",
   "metadata": {},
   "source": [
    "Для исследования я буду разбивать заемщиков по следующим категориям:\n",
    "- Наличие детей (с детьми, без детей)\n",
    "- Семейное положение (женаты, гражданский брак, неженатые, в разводе, вдовец/вдова)\n",
    "- Цели кредита (жилье, автомобиль, другое)\n",
    "- Доход (до 107т, от 107 до 146т, более 146т )\n",
    "(Для деления на категории по доходу я воспользовалась методом .describe() по подсказке преподавателя по проектам. У нас этого метода еще не было. Чтобы группы были относительно равномерными по количеству, границами для меня служили метки 25%,50% и 75%)"
   ]
  },
  {
   "cell_type": "code",
   "execution_count": 14,
   "metadata": {},
   "outputs": [
    {
     "data": {
      "text/plain": [
       "'с детьми'"
      ]
     },
     "execution_count": 14,
     "metadata": {},
     "output_type": "execute_result"
    }
   ],
   "source": [
    "def children_group(children):\n",
    "        if children == 0:\n",
    "            return 'без детей'\n",
    "        return 'с детьми'\n",
    " \n",
    "children_group(2)"
   ]
  },
  {
   "cell_type": "markdown",
   "metadata": {},
   "source": [
    "Пишу функцию для категоризации по наличию детей. Проверяю работу функции. Работает"
   ]
  },
  {
   "cell_type": "code",
   "execution_count": 15,
   "metadata": {},
   "outputs": [
    {
     "data": {
      "text/plain": [
       "без детей    14107\n",
       "с детьми      7364\n",
       "Name: children_cat, dtype: int64"
      ]
     },
     "execution_count": 15,
     "metadata": {},
     "output_type": "execute_result"
    }
   ],
   "source": [
    "data['children_cat'] = data['children'].apply(children_group)\n",
    "data['children_cat'].value_counts() "
   ]
  },
  {
   "cell_type": "markdown",
   "metadata": {},
   "source": [
    "Сохраняю результаты в новом столбце, передав функцию в .apply(). Методом .value_counts() вывожу уникальные значения столбца. На данном этапе заключаю, что заемщиков без детей почти в два раза больше, чем заемщиков с детьми."
   ]
  },
  {
   "cell_type": "code",
   "execution_count": 16,
   "metadata": {},
   "outputs": [
    {
     "data": {
      "text/plain": [
       "женатые             12344\n",
       "гражданский брак     4163\n",
       "неженатые            2810\n",
       "в разводе            1195\n",
       "вдовец/вдова          959\n",
       "Name: status_cat, dtype: int64"
      ]
     },
     "execution_count": 16,
     "metadata": {},
     "output_type": "execute_result"
    }
   ],
   "source": [
    "def status_group(family_status_id):\n",
    "    if family_status_id == 0:\n",
    "        return 'женатые'\n",
    "    if family_status_id == 1:\n",
    "        return 'гражданский брак'\n",
    "    if family_status_id == 2:\n",
    "        return 'вдовец/вдова'\n",
    "    if family_status_id == 3:\n",
    "        return 'в разводе'\n",
    "    return 'неженатые'\n",
    "    \n",
    "\n",
    "status_group(4)\n",
    "data['status_cat'] = data['family_status_id'].apply(status_group)\n",
    "data['status_cat'].value_counts()  "
   ]
  },
  {
   "cell_type": "markdown",
   "metadata": {},
   "source": [
    "Пишу функцию для категоризации заемщиков по семейному положению, проверяю работу функции и передаю ее столбцу идентификатор семейного положения. Результаты категоризации сохраняю в отдельном столбце status_cat. Проверяю уникальные значения. Больше всего заемщиков в категории \"женатые\", их почти в три раза больше, чем в следующей по значению категории \"гражданский брак\". Меньше всего заемщиков в категории \"вдовец/вдова\""
   ]
  },
  {
   "cell_type": "code",
   "execution_count": 17,
   "metadata": {},
   "outputs": [
    {
     "data": {
      "text/plain": [
       "недвижимость    10814\n",
       "другое           6349\n",
       "автомобиль       4308\n",
       "Name: purpose_cat, dtype: int64"
      ]
     },
     "execution_count": 17,
     "metadata": {},
     "output_type": "execute_result"
    }
   ],
   "source": [
    "def purpose_group(id_purpose):\n",
    "    if 'жилье' in id_purpose or 'недвижимость' in id_purpose:\n",
    "        return 'недвижимость'\n",
    "    if 'автомобиль' in id_purpose:\n",
    "        return 'автомобиль'\n",
    "    return 'другое'\n",
    "  \n",
    "purpose_group('жилье')\n",
    "data['purpose_cat'] = data['id_purpose'].apply(purpose_group)\n",
    "data['purpose_cat'].value_counts()  "
   ]
  },
  {
   "cell_type": "markdown",
   "metadata": {},
   "source": [
    "Для категоризации по целям кредита были использованы результаты лемматизации. Они были сохранены в столбце id_purpose. Применена функция и выведены уникальные значения. Больше всего заемщиков в категории цель кредита - недвижимость."
   ]
  },
  {
   "cell_type": "markdown",
   "metadata": {},
   "source": [
    "Для того, чтобы понять, как варьируется доход, какой средний заработок, применю метод desribe() к колонке доход"
   ]
  },
  {
   "cell_type": "code",
   "execution_count": 19,
   "metadata": {
    "scrolled": true
   },
   "outputs": [
    {
     "data": {
      "text/plain": [
       "count    2.147100e+04\n",
       "mean     1.674221e+05\n",
       "std      9.802416e+04\n",
       "min      2.066726e+04\n",
       "25%      1.076553e+05\n",
       "50%      1.518987e+05\n",
       "75%      2.024175e+05\n",
       "max      2.265604e+06\n",
       "Name: total_income, dtype: float64"
      ]
     },
     "execution_count": 19,
     "metadata": {},
     "output_type": "execute_result"
    }
   ],
   "source": [
    "data['total_income'].describe()"
   ]
  },
  {
   "cell_type": "markdown",
   "metadata": {},
   "source": [
    "Обозначу примерные границы доходов - 107 000 и 146 000. Напишу функцию для разбиения заемщиков на категории"
   ]
  },
  {
   "cell_type": "code",
   "execution_count": 20,
   "metadata": {},
   "outputs": [
    {
     "data": {
      "text/plain": [
       "доход больше 146    11279\n",
       "доход до 107         5307\n",
       "доход до 146         4885\n",
       "Name: income_cat, dtype: int64"
      ]
     },
     "execution_count": 20,
     "metadata": {},
     "output_type": "execute_result"
    }
   ],
   "source": [
    "def income_group(income):\n",
    "    if income <= 107000:\n",
    "        return 'доход до 107'\n",
    "    if 107000 < income <= 146000:\n",
    "        return 'доход до 146'\n",
    "    return 'доход больше 146'\n",
    " \n",
    "data['income_cat'] = data['total_income'].apply(income_group)\n",
    "data['income_cat'].value_counts()  \n"
   ]
  },
  {
   "cell_type": "markdown",
   "metadata": {},
   "source": [
    "Результаты сохраняю в отдельный столбец. Вывожу статистику по значениям. Больще всего заемщиков с доходом более 146 000"
   ]
  },
  {
   "cell_type": "markdown",
   "metadata": {},
   "source": [
    "**Вывод**"
   ]
  },
  {
   "cell_type": "markdown",
   "metadata": {},
   "source": [
    "В предобработке данных провела все операции согласно плану\n",
    "1. Обработка пропусков. Пропуски в колонке доход были заполнены средними значениями по типу дохода\n",
    "2. Замена типа данных. Тип данных в колонке доход заменен на целочмсленный\n",
    "3. Обработка дубликатов. Дубликаты найдены. Их 54. Удалены\n",
    "4. Лемматизация. Проведена, результаты сохранены в отдельном столбце\n",
    "5. Категоризация. Категоризирую заемщиков по группам для дальнейшего исследования.\n",
    "\n",
    "Предобработка данных позволила привести датасет в состояние, которое упрощает дальнейшее решение задачи."
   ]
  },
  {
   "cell_type": "markdown",
   "metadata": {},
   "source": [
    "## Шаг 3. Наличие зависимости между признаками и фактом возвращения кредита в срок"
   ]
  },
  {
   "cell_type": "markdown",
   "metadata": {},
   "source": [
    "- Есть ли зависимость между наличием детей и возвратом кредита в срок?"
   ]
  },
  {
   "cell_type": "markdown",
   "metadata": {},
   "source": [
    "Сводной таблицей выведем значения в категориях и их доли (через среднее)"
   ]
  },
  {
   "cell_type": "code",
   "execution_count": 21,
   "metadata": {},
   "outputs": [
    {
     "data": {
      "text/html": [
       "<div>\n",
       "<style scoped>\n",
       "    .dataframe tbody tr th:only-of-type {\n",
       "        vertical-align: middle;\n",
       "    }\n",
       "\n",
       "    .dataframe tbody tr th {\n",
       "        vertical-align: top;\n",
       "    }\n",
       "\n",
       "    .dataframe thead tr th {\n",
       "        text-align: left;\n",
       "    }\n",
       "\n",
       "    .dataframe thead tr:last-of-type th {\n",
       "        text-align: right;\n",
       "    }\n",
       "</style>\n",
       "<table border=\"1\" class=\"dataframe\">\n",
       "  <thead>\n",
       "    <tr>\n",
       "      <th></th>\n",
       "      <th>mean</th>\n",
       "      <th>len</th>\n",
       "    </tr>\n",
       "    <tr>\n",
       "      <th></th>\n",
       "      <th>debt</th>\n",
       "      <th>debt</th>\n",
       "    </tr>\n",
       "    <tr>\n",
       "      <th>children_cat</th>\n",
       "      <th></th>\n",
       "      <th></th>\n",
       "    </tr>\n",
       "  </thead>\n",
       "  <tbody>\n",
       "    <tr>\n",
       "      <th>без детей</th>\n",
       "      <td>0.075353</td>\n",
       "      <td>14107</td>\n",
       "    </tr>\n",
       "    <tr>\n",
       "      <th>с детьми</th>\n",
       "      <td>0.092070</td>\n",
       "      <td>7364</td>\n",
       "    </tr>\n",
       "  </tbody>\n",
       "</table>\n",
       "</div>"
      ],
      "text/plain": [
       "                  mean    len\n",
       "                  debt   debt\n",
       "children_cat                 \n",
       "без детей     0.075353  14107\n",
       "с детьми      0.092070   7364"
      ]
     },
     "execution_count": 21,
     "metadata": {},
     "output_type": "execute_result"
    }
   ],
   "source": [
    "children_pivot = data.pivot_table(index=['children_cat'], values=['debt'],aggfunc=[np.mean, len])\n",
    "children_pivot"
   ]
  },
  {
   "cell_type": "markdown",
   "metadata": {},
   "source": [
    "Итак, доля должников без детей - 7,5%, должников с детьми - 9,2%. "
   ]
  },
  {
   "cell_type": "markdown",
   "metadata": {},
   "source": [
    " **Вывод**"
   ]
  },
  {
   "cell_type": "markdown",
   "metadata": {},
   "source": [
    "Доля должников не превышает 10% от общего количества заемщиков в этой категории. Более того доля должников с детьми на почти 2% выше аналогичных без детей (без детей - 7,5%, с детьми - 9,2%. ) Таким образом заключаю, что наличие детей не влияет положительно на платежеспособность."
   ]
  },
  {
   "cell_type": "markdown",
   "metadata": {},
   "source": [
    "- Есть ли зависимость между семейным положением и возвратом кредита в срок?"
   ]
  },
  {
   "cell_type": "code",
   "execution_count": 22,
   "metadata": {},
   "outputs": [
    {
     "data": {
      "text/html": [
       "<div>\n",
       "<style scoped>\n",
       "    .dataframe tbody tr th:only-of-type {\n",
       "        vertical-align: middle;\n",
       "    }\n",
       "\n",
       "    .dataframe tbody tr th {\n",
       "        vertical-align: top;\n",
       "    }\n",
       "\n",
       "    .dataframe thead tr th {\n",
       "        text-align: left;\n",
       "    }\n",
       "\n",
       "    .dataframe thead tr:last-of-type th {\n",
       "        text-align: right;\n",
       "    }\n",
       "</style>\n",
       "<table border=\"1\" class=\"dataframe\">\n",
       "  <thead>\n",
       "    <tr>\n",
       "      <th></th>\n",
       "      <th>mean</th>\n",
       "      <th>len</th>\n",
       "    </tr>\n",
       "    <tr>\n",
       "      <th></th>\n",
       "      <th>debt</th>\n",
       "      <th>debt</th>\n",
       "    </tr>\n",
       "    <tr>\n",
       "      <th>status_cat</th>\n",
       "      <th></th>\n",
       "      <th></th>\n",
       "    </tr>\n",
       "  </thead>\n",
       "  <tbody>\n",
       "    <tr>\n",
       "      <th>в разводе</th>\n",
       "      <td>0.071130</td>\n",
       "      <td>1195</td>\n",
       "    </tr>\n",
       "    <tr>\n",
       "      <th>вдовец/вдова</th>\n",
       "      <td>0.065693</td>\n",
       "      <td>959</td>\n",
       "    </tr>\n",
       "    <tr>\n",
       "      <th>гражданский брак</th>\n",
       "      <td>0.093202</td>\n",
       "      <td>4163</td>\n",
       "    </tr>\n",
       "    <tr>\n",
       "      <th>женатые</th>\n",
       "      <td>0.075421</td>\n",
       "      <td>12344</td>\n",
       "    </tr>\n",
       "    <tr>\n",
       "      <th>неженатые</th>\n",
       "      <td>0.097509</td>\n",
       "      <td>2810</td>\n",
       "    </tr>\n",
       "  </tbody>\n",
       "</table>\n",
       "</div>"
      ],
      "text/plain": [
       "                      mean    len\n",
       "                      debt   debt\n",
       "status_cat                       \n",
       "в разводе         0.071130   1195\n",
       "вдовец/вдова      0.065693    959\n",
       "гражданский брак  0.093202   4163\n",
       "женатые           0.075421  12344\n",
       "неженатые         0.097509   2810"
      ]
     },
     "execution_count": 22,
     "metadata": {},
     "output_type": "execute_result"
    }
   ],
   "source": [
    "status_pivot = data.pivot_table(index=['status_cat'], values=['debt'],aggfunc=[np.mean, len])\n",
    "status_pivot"
   ]
  },
  {
   "cell_type": "markdown",
   "metadata": {},
   "source": [
    "**Вывод**"
   ]
  },
  {
   "cell_type": "markdown",
   "metadata": {},
   "source": [
    "Вывожу сводную таблицу в категории семейное положение. В столбце среднее - доля должников соответсвенно положению. \n",
    "Наиболее высокие значения в категориях \"неженатые\" и \"гражданский брак\", 9,7% и 9,3% соответственно. Почти на 2% ниже доля должников в категориях \"женатые\" и \"в разводе\", 7,5% и 7,1%. И самый маленький процент должников в категории \"вдовец/вдова\". Заключаю, что наиболее платежеспособная категория заемщиков \"вдовец/вдова\". Доля должников в этой категории на 3,2% ниже, чем в наименее платежеспособной \"неженатые\"."
   ]
  },
  {
   "cell_type": "markdown",
   "metadata": {},
   "source": [
    "- Есть ли зависимость между уровнем дохода и возвратом кредита в срок?"
   ]
  },
  {
   "cell_type": "code",
   "execution_count": 23,
   "metadata": {
    "scrolled": true
   },
   "outputs": [
    {
     "data": {
      "text/html": [
       "<div>\n",
       "<style scoped>\n",
       "    .dataframe tbody tr th:only-of-type {\n",
       "        vertical-align: middle;\n",
       "    }\n",
       "\n",
       "    .dataframe tbody tr th {\n",
       "        vertical-align: top;\n",
       "    }\n",
       "\n",
       "    .dataframe thead tr th {\n",
       "        text-align: left;\n",
       "    }\n",
       "\n",
       "    .dataframe thead tr:last-of-type th {\n",
       "        text-align: right;\n",
       "    }\n",
       "</style>\n",
       "<table border=\"1\" class=\"dataframe\">\n",
       "  <thead>\n",
       "    <tr>\n",
       "      <th></th>\n",
       "      <th>mean</th>\n",
       "      <th>len</th>\n",
       "    </tr>\n",
       "    <tr>\n",
       "      <th></th>\n",
       "      <th>debt</th>\n",
       "      <th>debt</th>\n",
       "    </tr>\n",
       "    <tr>\n",
       "      <th>income_cat</th>\n",
       "      <th></th>\n",
       "      <th></th>\n",
       "    </tr>\n",
       "  </thead>\n",
       "  <tbody>\n",
       "    <tr>\n",
       "      <th>доход больше 146</th>\n",
       "      <td>0.079085</td>\n",
       "      <td>11279</td>\n",
       "    </tr>\n",
       "    <tr>\n",
       "      <th>доход до 107</th>\n",
       "      <td>0.079706</td>\n",
       "      <td>5307</td>\n",
       "    </tr>\n",
       "    <tr>\n",
       "      <th>доход до 146</th>\n",
       "      <td>0.087206</td>\n",
       "      <td>4885</td>\n",
       "    </tr>\n",
       "  </tbody>\n",
       "</table>\n",
       "</div>"
      ],
      "text/plain": [
       "                      mean    len\n",
       "                      debt   debt\n",
       "income_cat                       \n",
       "доход больше 146  0.079085  11279\n",
       "доход до 107      0.079706   5307\n",
       "доход до 146      0.087206   4885"
      ]
     },
     "execution_count": 23,
     "metadata": {},
     "output_type": "execute_result"
    }
   ],
   "source": [
    "income_pivot = data.pivot_table(index=['income_cat'], values=['debt'],aggfunc=[np.mean, len])\n",
    "income_pivot"
   ]
  },
  {
   "cell_type": "markdown",
   "metadata": {},
   "source": [
    "**Вывод**"
   ]
  },
  {
   "cell_type": "markdown",
   "metadata": {},
   "source": [
    "Доли в процентах показали, что должников больше в группе, где доход больше (8,7%). В группах в меньшим доходом доли должников 7,9%. Между ними разница менее одного процента (0,8%)"
   ]
  },
  {
   "cell_type": "markdown",
   "metadata": {},
   "source": [
    "- Как разные цели кредита влияют на его возврат в срок?"
   ]
  },
  {
   "cell_type": "code",
   "execution_count": 24,
   "metadata": {},
   "outputs": [
    {
     "data": {
      "text/html": [
       "<div>\n",
       "<style scoped>\n",
       "    .dataframe tbody tr th:only-of-type {\n",
       "        vertical-align: middle;\n",
       "    }\n",
       "\n",
       "    .dataframe tbody tr th {\n",
       "        vertical-align: top;\n",
       "    }\n",
       "\n",
       "    .dataframe thead tr th {\n",
       "        text-align: left;\n",
       "    }\n",
       "\n",
       "    .dataframe thead tr:last-of-type th {\n",
       "        text-align: right;\n",
       "    }\n",
       "</style>\n",
       "<table border=\"1\" class=\"dataframe\">\n",
       "  <thead>\n",
       "    <tr>\n",
       "      <th></th>\n",
       "      <th>mean</th>\n",
       "      <th>len</th>\n",
       "    </tr>\n",
       "    <tr>\n",
       "      <th></th>\n",
       "      <th>debt</th>\n",
       "      <th>debt</th>\n",
       "    </tr>\n",
       "    <tr>\n",
       "      <th>purpose_cat</th>\n",
       "      <th></th>\n",
       "      <th></th>\n",
       "    </tr>\n",
       "  </thead>\n",
       "  <tbody>\n",
       "    <tr>\n",
       "      <th>автомобиль</th>\n",
       "      <td>0.093547</td>\n",
       "      <td>4308</td>\n",
       "    </tr>\n",
       "    <tr>\n",
       "      <th>другое</th>\n",
       "      <td>0.087573</td>\n",
       "      <td>6349</td>\n",
       "    </tr>\n",
       "    <tr>\n",
       "      <th>недвижимость</th>\n",
       "      <td>0.072314</td>\n",
       "      <td>10814</td>\n",
       "    </tr>\n",
       "  </tbody>\n",
       "</table>\n",
       "</div>"
      ],
      "text/plain": [
       "                  mean    len\n",
       "                  debt   debt\n",
       "purpose_cat                  \n",
       "автомобиль    0.093547   4308\n",
       "другое        0.087573   6349\n",
       "недвижимость  0.072314  10814"
      ]
     },
     "execution_count": 24,
     "metadata": {},
     "output_type": "execute_result"
    }
   ],
   "source": [
    "purpose_pivot = data.pivot_table(index=['purpose_cat'], values=['debt'],aggfunc=[np.mean, len])\n",
    "purpose_pivot"
   ]
  },
  {
   "cell_type": "markdown",
   "metadata": {},
   "source": [
    "**Вывод**"
   ]
  },
  {
   "cell_type": "markdown",
   "metadata": {},
   "source": [
    "Максимальное значение доли должников в группе цель кредита автомобиль - 9,3%. Минимальное в категории \"недвижимость\" - 7,2%. Доля должников, берущих кредит под покупку жилья более, чем на 2 % ниже, чем доля должников среди заемщиков, которые берут кредит на покупку автомобиля."
   ]
  },
  {
   "cell_type": "markdown",
   "metadata": {},
   "source": [
    "## Шаг 4. Общий вывод"
   ]
  },
  {
   "cell_type": "markdown",
   "metadata": {},
   "source": [
    "В исследовании для кредитного отдела банка была поставлена задача найти взаимосвязи платежеспособности и фактом наличия детей, семейным положением, а также уровнем дохода и цели кредита. Для исследования предобработка данных была проведена таким образом, что поиски взаимосвязей упростились. Предобработка включала в себя обработку пропусков и дубликатов, лемматизацию и категоризацию. Это добавило дополнительных столбцов в датасете и благодаря им стало возможно построение сводных таблиц для решения задачи и ответов на вопросы. В каждой категории заемщиков были найдены доли должников и их можно сравнивать, чтобы сделать выводы. Доля должников во всех группах не превышает 10% от общего количества заемщиков\n",
    "- Есть ли зависимость между наличием детей и возвратом кредита в срок?\n",
    "Доля должников с детьми на почти 2% выше аналогичных без детей (без детей - 7,5%, с детьми - 9,2%. ) Таким образом заключаю, что наличие детей не влияет положительно на платежеспособность.\n",
    "- Есть ли зависимость между семейным положением и возвратом кредита в срок?\n",
    "Наиболее высокие значения в категориях \"неженатые\" и \"гражданский брак\", 9,7% и 9,3% соответственно. Почти на 2% ниже доля должников в категориях \"женатые\" и \"в разводе\", 7,5% и 7,1%. И самый маленький процент должников в категории \"вдовец/вдова\". Заключаю, что наиболее платежеспособная категория заемщиков \"вдовец/вдова\". Доля должников в этой категории на 3,2% ниже, чем в наименее платежеспособной \"неженатые\".\n",
    "- Есть ли зависимость между уровнем дохода и возвратом кредита в срок?\n",
    "Доли в процентах показали, что должников больше в группе, где доход больше (8,7%). В группах в меньшим доходом доли должников 7,9%. Между ними разница менее одного процента (0,8%)\n",
    "- Как разные цели кредита влияют на его возврат в срок?\n",
    "Максимальное значение доли должников в группе цель кредита автомобиль - 9,3%. Минимальное в категории \"недвижимость\" - 7,2%. Доля должников, берущих кредит под покупку жилья более, чем на 2 % ниже, чем доля должников среди заемщиков, которые берут кредит на покупку автомобиля."
   ]
  }
 ],
 "metadata": {
  "ExecuteTimeLog": [
   {
    "duration": 1046,
    "start_time": "2022-01-21T11:00:51.000Z"
   },
   {
    "duration": 53,
    "start_time": "2022-01-21T11:01:07.092Z"
   },
   {
    "duration": 68,
    "start_time": "2022-01-21T11:08:18.161Z"
   },
   {
    "duration": 67,
    "start_time": "2022-01-21T11:08:32.901Z"
   },
   {
    "duration": 53,
    "start_time": "2022-01-21T11:09:26.942Z"
   },
   {
    "duration": 67,
    "start_time": "2022-01-21T11:20:23.137Z"
   },
   {
    "duration": 54,
    "start_time": "2022-01-21T11:25:40.237Z"
   },
   {
    "duration": 69,
    "start_time": "2022-01-21T11:46:15.600Z"
   },
   {
    "duration": 50,
    "start_time": "2022-01-21T11:51:07.066Z"
   },
   {
    "duration": 4,
    "start_time": "2022-01-21T11:52:19.584Z"
   },
   {
    "duration": -1002,
    "start_time": "2022-01-21T11:53:10.309Z"
   },
   {
    "duration": 5,
    "start_time": "2022-01-21T11:53:27.908Z"
   },
   {
    "duration": 6,
    "start_time": "2022-01-21T11:54:14.673Z"
   },
   {
    "duration": 6,
    "start_time": "2022-01-21T11:55:45.059Z"
   },
   {
    "duration": 7,
    "start_time": "2022-01-21T11:57:00.923Z"
   },
   {
    "duration": 7,
    "start_time": "2022-01-21T11:59:17.001Z"
   },
   {
    "duration": 10,
    "start_time": "2022-01-21T12:02:19.999Z"
   },
   {
    "duration": 17,
    "start_time": "2022-01-21T12:04:03.429Z"
   },
   {
    "duration": 9,
    "start_time": "2022-01-21T12:04:18.328Z"
   },
   {
    "duration": 10,
    "start_time": "2022-01-21T12:09:51.029Z"
   },
   {
    "duration": 10,
    "start_time": "2022-01-21T12:10:19.797Z"
   },
   {
    "duration": 13,
    "start_time": "2022-01-21T12:13:02.703Z"
   },
   {
    "duration": 9,
    "start_time": "2022-01-21T12:13:21.115Z"
   },
   {
    "duration": 8,
    "start_time": "2022-01-21T12:54:43.930Z"
   },
   {
    "duration": 11,
    "start_time": "2022-01-21T12:55:13.505Z"
   },
   {
    "duration": 8,
    "start_time": "2022-01-21T12:56:34.995Z"
   },
   {
    "duration": 17,
    "start_time": "2022-01-21T12:58:29.232Z"
   },
   {
    "duration": 17,
    "start_time": "2022-01-21T13:08:49.336Z"
   },
   {
    "duration": 4,
    "start_time": "2022-01-21T13:31:24.041Z"
   },
   {
    "duration": 12,
    "start_time": "2022-01-21T13:31:38.841Z"
   },
   {
    "duration": 16,
    "start_time": "2022-01-21T13:40:42.115Z"
   },
   {
    "duration": 18,
    "start_time": "2022-01-21T13:41:44.435Z"
   },
   {
    "duration": 13,
    "start_time": "2022-01-21T13:41:59.359Z"
   },
   {
    "duration": 24,
    "start_time": "2022-01-21T13:43:47.370Z"
   },
   {
    "duration": 30,
    "start_time": "2022-01-21T13:44:10.557Z"
   },
   {
    "duration": 35,
    "start_time": "2022-01-21T13:44:39.677Z"
   },
   {
    "duration": 335,
    "start_time": "2022-01-21T13:47:48.307Z"
   },
   {
    "duration": 7,
    "start_time": "2022-01-21T13:48:34.413Z"
   },
   {
    "duration": 15,
    "start_time": "2022-01-21T13:51:59.361Z"
   },
   {
    "duration": 15,
    "start_time": "2022-01-21T13:52:16.523Z"
   },
   {
    "duration": 18,
    "start_time": "2022-01-21T13:54:51.377Z"
   },
   {
    "duration": 19,
    "start_time": "2022-01-21T13:55:31.325Z"
   },
   {
    "duration": 392,
    "start_time": "2022-01-21T14:00:01.385Z"
   },
   {
    "duration": 16,
    "start_time": "2022-01-21T14:00:18.093Z"
   },
   {
    "duration": 32,
    "start_time": "2022-01-21T14:03:02.459Z"
   },
   {
    "duration": 44,
    "start_time": "2022-01-21T14:03:20.454Z"
   },
   {
    "duration": 326,
    "start_time": "2022-01-21T14:04:16.171Z"
   },
   {
    "duration": 28,
    "start_time": "2022-01-21T14:04:52.488Z"
   },
   {
    "duration": 34,
    "start_time": "2022-01-21T14:05:20.796Z"
   },
   {
    "duration": 29,
    "start_time": "2022-01-21T14:12:18.549Z"
   },
   {
    "duration": 19,
    "start_time": "2022-01-21T14:13:08.794Z"
   },
   {
    "duration": 22,
    "start_time": "2022-01-21T14:16:02.973Z"
   },
   {
    "duration": 19,
    "start_time": "2022-01-21T14:16:38.221Z"
   },
   {
    "duration": 18,
    "start_time": "2022-01-21T14:17:13.395Z"
   },
   {
    "duration": 18,
    "start_time": "2022-01-21T14:17:57.334Z"
   },
   {
    "duration": 20,
    "start_time": "2022-01-21T14:18:57.692Z"
   },
   {
    "duration": 19,
    "start_time": "2022-01-21T14:19:17.506Z"
   },
   {
    "duration": 19,
    "start_time": "2022-01-21T14:22:42.010Z"
   },
   {
    "duration": 19,
    "start_time": "2022-01-21T14:22:56.681Z"
   },
   {
    "duration": 19,
    "start_time": "2022-01-21T14:26:59.196Z"
   },
   {
    "duration": 31,
    "start_time": "2022-01-21T14:38:31.808Z"
   },
   {
    "duration": 24,
    "start_time": "2022-01-21T15:11:45.989Z"
   },
   {
    "duration": 23,
    "start_time": "2022-01-21T15:12:37.957Z"
   },
   {
    "duration": 34,
    "start_time": "2022-01-21T15:13:15.790Z"
   },
   {
    "duration": 22,
    "start_time": "2022-01-21T15:13:29.782Z"
   },
   {
    "duration": 23,
    "start_time": "2022-01-21T15:13:47.457Z"
   },
   {
    "duration": 22,
    "start_time": "2022-01-21T15:14:10.890Z"
   },
   {
    "duration": 19,
    "start_time": "2022-01-21T15:14:26.906Z"
   },
   {
    "duration": 19,
    "start_time": "2022-01-21T15:14:57.954Z"
   },
   {
    "duration": 54,
    "start_time": "2022-01-21T15:15:06.446Z"
   },
   {
    "duration": 15,
    "start_time": "2022-01-21T15:15:06.501Z"
   },
   {
    "duration": 10,
    "start_time": "2022-01-21T15:15:06.517Z"
   },
   {
    "duration": 17,
    "start_time": "2022-01-21T15:15:06.529Z"
   },
   {
    "duration": 18,
    "start_time": "2022-01-21T15:16:49.360Z"
   },
   {
    "duration": 22,
    "start_time": "2022-01-21T15:17:08.008Z"
   },
   {
    "duration": 22,
    "start_time": "2022-01-21T15:17:27.816Z"
   },
   {
    "duration": 77,
    "start_time": "2022-01-21T15:17:40.001Z"
   },
   {
    "duration": 23,
    "start_time": "2022-01-21T15:17:40.080Z"
   },
   {
    "duration": 16,
    "start_time": "2022-01-21T15:17:40.105Z"
   },
   {
    "duration": 16,
    "start_time": "2022-01-21T15:17:40.123Z"
   },
   {
    "duration": 21,
    "start_time": "2022-01-21T15:18:38.785Z"
   },
   {
    "duration": 22,
    "start_time": "2022-01-21T15:19:53.054Z"
   },
   {
    "duration": 26,
    "start_time": "2022-01-21T15:22:20.974Z"
   },
   {
    "duration": 354,
    "start_time": "2022-01-21T15:30:58.110Z"
   },
   {
    "duration": 315,
    "start_time": "2022-01-21T15:31:47.563Z"
   },
   {
    "duration": 316,
    "start_time": "2022-01-21T15:32:03.534Z"
   },
   {
    "duration": 1024,
    "start_time": "2022-01-21T15:36:06.785Z"
   },
   {
    "duration": 304,
    "start_time": "2022-01-21T15:41:18.344Z"
   },
   {
    "duration": 6,
    "start_time": "2022-01-21T15:43:14.767Z"
   },
   {
    "duration": 424,
    "start_time": "2022-01-21T15:47:10.619Z"
   },
   {
    "duration": 296,
    "start_time": "2022-01-21T15:49:57.971Z"
   },
   {
    "duration": 611,
    "start_time": "2022-01-21T15:50:31.224Z"
   },
   {
    "duration": 319,
    "start_time": "2022-01-21T15:50:48.893Z"
   },
   {
    "duration": 308,
    "start_time": "2022-01-21T15:52:45.409Z"
   },
   {
    "duration": 299,
    "start_time": "2022-01-21T15:53:32.219Z"
   },
   {
    "duration": 63,
    "start_time": "2022-01-21T15:54:56.203Z"
   },
   {
    "duration": 55,
    "start_time": "2022-01-21T15:55:45.687Z"
   },
   {
    "duration": 101,
    "start_time": "2022-01-21T15:56:11.707Z"
   },
   {
    "duration": 355,
    "start_time": "2022-01-21T15:56:25.031Z"
   },
   {
    "duration": 633,
    "start_time": "2022-01-21T15:56:49.472Z"
   },
   {
    "duration": 348,
    "start_time": "2022-01-21T16:02:50.225Z"
   },
   {
    "duration": 4,
    "start_time": "2022-01-21T16:37:29.164Z"
   },
   {
    "duration": 4,
    "start_time": "2022-01-21T16:37:35.693Z"
   },
   {
    "duration": 18,
    "start_time": "2022-01-21T16:39:57.322Z"
   },
   {
    "duration": -8,
    "start_time": "2022-01-21T16:42:04.614Z"
   },
   {
    "duration": 11,
    "start_time": "2022-01-21T16:42:53.257Z"
   },
   {
    "duration": 12,
    "start_time": "2022-01-21T16:43:14.901Z"
   },
   {
    "duration": 11,
    "start_time": "2022-01-21T16:43:40.990Z"
   },
   {
    "duration": 12,
    "start_time": "2022-01-21T16:43:41.940Z"
   },
   {
    "duration": 29,
    "start_time": "2022-01-21T16:59:54.510Z"
   },
   {
    "duration": 7,
    "start_time": "2022-01-21T17:00:25.262Z"
   },
   {
    "duration": 343,
    "start_time": "2022-01-21T17:00:55.063Z"
   },
   {
    "duration": 301,
    "start_time": "2022-01-21T17:01:44.207Z"
   },
   {
    "duration": 92,
    "start_time": "2022-01-21T17:08:26.352Z"
   },
   {
    "duration": 8737,
    "start_time": "2022-01-21T17:09:12.289Z"
   },
   {
    "duration": 8397,
    "start_time": "2022-01-21T17:09:41.312Z"
   },
   {
    "duration": 9190,
    "start_time": "2022-01-21T17:10:09.381Z"
   },
   {
    "duration": 26447,
    "start_time": "2022-01-21T17:10:19.157Z"
   },
   {
    "duration": 2063,
    "start_time": "2022-01-21T17:13:40.661Z"
   },
   {
    "duration": 1592,
    "start_time": "2022-01-21T17:18:19.824Z"
   },
   {
    "duration": 301,
    "start_time": "2022-01-21T17:18:48.856Z"
   },
   {
    "duration": 6,
    "start_time": "2022-01-21T17:19:13.856Z"
   },
   {
    "duration": 22,
    "start_time": "2022-01-21T17:19:39.900Z"
   },
   {
    "duration": 12,
    "start_time": "2022-01-21T17:20:05.221Z"
   },
   {
    "duration": 723,
    "start_time": "2022-01-21T17:23:56.744Z"
   },
   {
    "duration": 11,
    "start_time": "2022-01-21T17:24:24.825Z"
   },
   {
    "duration": 13,
    "start_time": "2022-01-21T17:26:44.393Z"
   },
   {
    "duration": 5,
    "start_time": "2022-01-21T17:26:54.090Z"
   },
   {
    "duration": 6,
    "start_time": "2022-01-21T17:27:02.174Z"
   },
   {
    "duration": 54,
    "start_time": "2022-01-21T17:27:11.481Z"
   },
   {
    "duration": 14,
    "start_time": "2022-01-21T17:27:11.537Z"
   },
   {
    "duration": 11,
    "start_time": "2022-01-21T17:27:11.553Z"
   },
   {
    "duration": 22,
    "start_time": "2022-01-21T17:27:11.566Z"
   },
   {
    "duration": 409,
    "start_time": "2022-01-21T17:27:11.589Z"
   },
   {
    "duration": -61,
    "start_time": "2022-01-21T17:27:12.060Z"
   },
   {
    "duration": -116,
    "start_time": "2022-01-21T17:27:12.117Z"
   },
   {
    "duration": 6,
    "start_time": "2022-01-21T17:27:33.170Z"
   },
   {
    "duration": 5,
    "start_time": "2022-01-21T17:28:13.891Z"
   },
   {
    "duration": 8221,
    "start_time": "2022-01-21T17:32:01.647Z"
   },
   {
    "duration": 319,
    "start_time": "2022-01-21T17:32:24.853Z"
   },
   {
    "duration": 4,
    "start_time": "2022-01-21T17:38:15.042Z"
   },
   {
    "duration": 53,
    "start_time": "2022-01-21T17:38:35.811Z"
   },
   {
    "duration": 14,
    "start_time": "2022-01-21T17:38:35.866Z"
   },
   {
    "duration": 12,
    "start_time": "2022-01-21T17:38:35.882Z"
   },
   {
    "duration": 32,
    "start_time": "2022-01-21T17:38:35.895Z"
   },
   {
    "duration": 333,
    "start_time": "2022-01-21T17:38:35.928Z"
   },
   {
    "duration": -47,
    "start_time": "2022-01-21T17:38:36.310Z"
   },
   {
    "duration": -58,
    "start_time": "2022-01-21T17:38:36.322Z"
   },
   {
    "duration": 5,
    "start_time": "2022-01-21T17:38:47.905Z"
   },
   {
    "duration": 3,
    "start_time": "2022-01-21T17:39:56.259Z"
   },
   {
    "duration": 18,
    "start_time": "2022-01-21T17:40:23.575Z"
   },
   {
    "duration": 17,
    "start_time": "2022-01-21T17:40:54.420Z"
   },
   {
    "duration": 7,
    "start_time": "2022-01-21T17:52:04.580Z"
   },
   {
    "duration": 6,
    "start_time": "2022-01-21T17:55:23.314Z"
   },
   {
    "duration": 302,
    "start_time": "2022-01-21T17:57:02.799Z"
   },
   {
    "duration": 700,
    "start_time": "2022-01-21T17:57:21.580Z"
   },
   {
    "duration": 16,
    "start_time": "2022-01-21T18:01:18.659Z"
   },
   {
    "duration": 7,
    "start_time": "2022-01-21T18:02:21.610Z"
   },
   {
    "duration": 15,
    "start_time": "2022-01-21T18:04:19.872Z"
   },
   {
    "duration": 16,
    "start_time": "2022-01-21T18:09:58.641Z"
   },
   {
    "duration": 12,
    "start_time": "2022-01-21T18:11:51.674Z"
   },
   {
    "duration": 21,
    "start_time": "2022-01-21T18:13:01.235Z"
   },
   {
    "duration": 18,
    "start_time": "2022-01-21T18:13:22.551Z"
   },
   {
    "duration": 4,
    "start_time": "2022-01-21T18:14:03.919Z"
   },
   {
    "duration": 372,
    "start_time": "2022-01-22T06:11:20.899Z"
   },
   {
    "duration": 626,
    "start_time": "2022-01-22T06:11:28.083Z"
   },
   {
    "duration": 19,
    "start_time": "2022-01-22T06:11:28.711Z"
   },
   {
    "duration": 10,
    "start_time": "2022-01-22T06:11:28.732Z"
   },
   {
    "duration": 35,
    "start_time": "2022-01-22T06:11:28.744Z"
   },
   {
    "duration": 3423,
    "start_time": "2022-01-22T06:11:28.780Z"
   },
   {
    "duration": 11,
    "start_time": "2022-01-22T06:11:32.205Z"
   },
   {
    "duration": 21,
    "start_time": "2022-01-22T06:11:32.217Z"
   },
   {
    "duration": 3309,
    "start_time": "2022-01-22T06:13:49.934Z"
   },
   {
    "duration": 8288,
    "start_time": "2022-01-22T06:26:58.279Z"
   },
   {
    "duration": 8262,
    "start_time": "2022-01-22T06:27:10.306Z"
   },
   {
    "duration": 17,
    "start_time": "2022-01-22T06:28:09.355Z"
   },
   {
    "duration": 7,
    "start_time": "2022-01-22T06:28:50.019Z"
   },
   {
    "duration": 13,
    "start_time": "2022-01-22T06:29:51.372Z"
   },
   {
    "duration": 11,
    "start_time": "2022-01-22T06:31:32.557Z"
   },
   {
    "duration": 9,
    "start_time": "2022-01-22T06:31:45.865Z"
   },
   {
    "duration": 10,
    "start_time": "2022-01-22T06:36:11.045Z"
   },
   {
    "duration": 9,
    "start_time": "2022-01-22T06:36:14.976Z"
   },
   {
    "duration": 57,
    "start_time": "2022-01-22T06:36:35.501Z"
   },
   {
    "duration": 16,
    "start_time": "2022-01-22T06:36:35.560Z"
   },
   {
    "duration": 10,
    "start_time": "2022-01-22T06:36:35.578Z"
   },
   {
    "duration": 24,
    "start_time": "2022-01-22T06:36:35.590Z"
   },
   {
    "duration": 3343,
    "start_time": "2022-01-22T06:36:35.616Z"
   },
   {
    "duration": 20,
    "start_time": "2022-01-22T06:36:38.961Z"
   },
   {
    "duration": 13,
    "start_time": "2022-01-22T06:36:38.982Z"
   },
   {
    "duration": 10,
    "start_time": "2022-01-22T06:36:52.981Z"
   },
   {
    "duration": 12,
    "start_time": "2022-01-22T06:37:23.054Z"
   },
   {
    "duration": 9,
    "start_time": "2022-01-22T06:37:46.726Z"
   },
   {
    "duration": 13,
    "start_time": "2022-01-22T06:39:33.115Z"
   },
   {
    "duration": 13,
    "start_time": "2022-01-22T06:39:57.620Z"
   },
   {
    "duration": 5,
    "start_time": "2022-01-22T06:58:29.932Z"
   },
   {
    "duration": 6,
    "start_time": "2022-01-22T06:58:56.202Z"
   },
   {
    "duration": 5,
    "start_time": "2022-01-22T06:59:50.646Z"
   },
   {
    "duration": 5,
    "start_time": "2022-01-22T06:59:57.582Z"
   },
   {
    "duration": 6,
    "start_time": "2022-01-22T07:04:29.396Z"
   },
   {
    "duration": 6,
    "start_time": "2022-01-22T07:04:38.945Z"
   },
   {
    "duration": 6,
    "start_time": "2022-01-22T07:06:45.661Z"
   },
   {
    "duration": 6,
    "start_time": "2022-01-22T07:06:54.773Z"
   },
   {
    "duration": 341,
    "start_time": "2022-01-22T07:11:08.452Z"
   },
   {
    "duration": 6,
    "start_time": "2022-01-22T07:16:23.618Z"
   },
   {
    "duration": 5,
    "start_time": "2022-01-22T07:16:53.738Z"
   },
   {
    "duration": 7,
    "start_time": "2022-01-22T07:18:46.769Z"
   },
   {
    "duration": 6,
    "start_time": "2022-01-22T07:18:57.263Z"
   },
   {
    "duration": 7,
    "start_time": "2022-01-22T07:19:12.295Z"
   },
   {
    "duration": 6,
    "start_time": "2022-01-22T07:19:43.048Z"
   },
   {
    "duration": 6,
    "start_time": "2022-01-22T07:20:47.012Z"
   },
   {
    "duration": 6,
    "start_time": "2022-01-22T07:20:52.667Z"
   },
   {
    "duration": 7,
    "start_time": "2022-01-22T07:21:03.468Z"
   },
   {
    "duration": 353,
    "start_time": "2022-01-22T07:21:29.126Z"
   },
   {
    "duration": 354,
    "start_time": "2022-01-22T07:22:12.877Z"
   },
   {
    "duration": 6,
    "start_time": "2022-01-22T07:25:22.363Z"
   },
   {
    "duration": 5,
    "start_time": "2022-01-22T07:25:29.719Z"
   },
   {
    "duration": 6,
    "start_time": "2022-01-22T07:25:35.875Z"
   },
   {
    "duration": 383,
    "start_time": "2022-01-22T07:25:47.471Z"
   },
   {
    "duration": 6,
    "start_time": "2022-01-22T07:34:14.628Z"
   },
   {
    "duration": 6,
    "start_time": "2022-01-22T07:34:20.669Z"
   },
   {
    "duration": 8,
    "start_time": "2022-01-22T07:34:32.659Z"
   },
   {
    "duration": 6,
    "start_time": "2022-01-22T07:38:12.417Z"
   },
   {
    "duration": 6,
    "start_time": "2022-01-22T07:42:55.705Z"
   },
   {
    "duration": 6,
    "start_time": "2022-01-22T07:43:04.892Z"
   },
   {
    "duration": 6,
    "start_time": "2022-01-22T07:43:11.932Z"
   },
   {
    "duration": 7,
    "start_time": "2022-01-22T07:43:21.012Z"
   },
   {
    "duration": 826,
    "start_time": "2022-01-22T07:43:46.424Z"
   },
   {
    "duration": 354,
    "start_time": "2022-01-22T07:44:32.801Z"
   },
   {
    "duration": 347,
    "start_time": "2022-01-22T08:32:05.143Z"
   },
   {
    "duration": 328,
    "start_time": "2022-01-22T08:33:00.472Z"
   },
   {
    "duration": 350,
    "start_time": "2022-01-22T08:37:14.917Z"
   },
   {
    "duration": 333,
    "start_time": "2022-01-22T08:37:35.819Z"
   },
   {
    "duration": 321,
    "start_time": "2022-01-22T08:37:58.195Z"
   },
   {
    "duration": 325,
    "start_time": "2022-01-22T08:41:49.109Z"
   },
   {
    "duration": 359,
    "start_time": "2022-01-22T08:44:37.456Z"
   },
   {
    "duration": 330,
    "start_time": "2022-01-22T08:45:11.864Z"
   },
   {
    "duration": 332,
    "start_time": "2022-01-22T08:47:17.722Z"
   },
   {
    "duration": 324,
    "start_time": "2022-01-22T08:48:14.127Z"
   },
   {
    "duration": 338,
    "start_time": "2022-01-22T08:48:27.867Z"
   },
   {
    "duration": 347,
    "start_time": "2022-01-22T08:49:06.671Z"
   },
   {
    "duration": 331,
    "start_time": "2022-01-22T08:49:51.216Z"
   },
   {
    "duration": 103,
    "start_time": "2022-01-22T08:50:16.272Z"
   },
   {
    "duration": 328,
    "start_time": "2022-01-22T08:50:48.729Z"
   },
   {
    "duration": 323,
    "start_time": "2022-01-22T08:51:28.506Z"
   },
   {
    "duration": 372,
    "start_time": "2022-01-22T08:51:47.630Z"
   },
   {
    "duration": 7,
    "start_time": "2022-01-22T08:53:39.071Z"
   },
   {
    "duration": 6,
    "start_time": "2022-01-22T09:00:41.656Z"
   },
   {
    "duration": 7,
    "start_time": "2022-01-22T09:01:02.288Z"
   },
   {
    "duration": 11,
    "start_time": "2022-01-22T09:05:42.830Z"
   },
   {
    "duration": 9,
    "start_time": "2022-01-22T09:05:59.551Z"
   },
   {
    "duration": 8,
    "start_time": "2022-01-22T09:06:17.751Z"
   },
   {
    "duration": 7,
    "start_time": "2022-01-22T09:12:58.512Z"
   },
   {
    "duration": 8,
    "start_time": "2022-01-22T09:19:17.992Z"
   },
   {
    "duration": 8,
    "start_time": "2022-01-22T09:19:27.481Z"
   },
   {
    "duration": 10,
    "start_time": "2022-01-22T09:19:40.990Z"
   },
   {
    "duration": 7,
    "start_time": "2022-01-22T09:19:47.146Z"
   },
   {
    "duration": 8,
    "start_time": "2022-01-22T09:19:52.854Z"
   },
   {
    "duration": 337,
    "start_time": "2022-01-22T09:21:22.364Z"
   },
   {
    "duration": 341,
    "start_time": "2022-01-22T09:21:38.131Z"
   },
   {
    "duration": 333,
    "start_time": "2022-01-22T09:27:54.404Z"
   },
   {
    "duration": 334,
    "start_time": "2022-01-22T09:28:10.634Z"
   },
   {
    "duration": 342,
    "start_time": "2022-01-22T09:28:33.471Z"
   },
   {
    "duration": 344,
    "start_time": "2022-01-22T09:29:16.713Z"
   },
   {
    "duration": 323,
    "start_time": "2022-01-22T09:30:12.288Z"
   },
   {
    "duration": 342,
    "start_time": "2022-01-22T09:32:00.545Z"
   },
   {
    "duration": 338,
    "start_time": "2022-01-22T09:32:09.351Z"
   },
   {
    "duration": 322,
    "start_time": "2022-01-22T09:36:28.474Z"
   },
   {
    "duration": 325,
    "start_time": "2022-01-22T09:36:36.730Z"
   },
   {
    "duration": 21,
    "start_time": "2022-01-22T09:51:08.955Z"
   },
   {
    "duration": 19,
    "start_time": "2022-01-22T09:51:29.844Z"
   },
   {
    "duration": 29,
    "start_time": "2022-01-22T09:52:48.281Z"
   },
   {
    "duration": 345,
    "start_time": "2022-01-22T09:57:37.944Z"
   },
   {
    "duration": 29,
    "start_time": "2022-01-22T10:01:12.415Z"
   },
   {
    "duration": 613,
    "start_time": "2022-01-23T03:45:58.842Z"
   },
   {
    "duration": 19,
    "start_time": "2022-01-23T03:45:59.458Z"
   },
   {
    "duration": 12,
    "start_time": "2022-01-23T03:45:59.479Z"
   },
   {
    "duration": 28,
    "start_time": "2022-01-23T03:45:59.492Z"
   },
   {
    "duration": 3428,
    "start_time": "2022-01-23T03:45:59.521Z"
   },
   {
    "duration": 358,
    "start_time": "2022-01-23T03:46:02.950Z"
   },
   {
    "duration": 373,
    "start_time": "2022-01-23T03:46:03.309Z"
   },
   {
    "duration": 9,
    "start_time": "2022-01-23T03:47:07.907Z"
   },
   {
    "duration": 10,
    "start_time": "2022-01-23T03:52:47.903Z"
   },
   {
    "duration": 12,
    "start_time": "2022-01-23T03:53:37.565Z"
   },
   {
    "duration": 13,
    "start_time": "2022-01-23T04:03:12.974Z"
   },
   {
    "duration": 14,
    "start_time": "2022-01-23T04:03:35.563Z"
   },
   {
    "duration": 355,
    "start_time": "2022-01-23T04:03:46.722Z"
   },
   {
    "duration": 8200,
    "start_time": "2022-01-23T04:18:56.848Z"
   },
   {
    "duration": 7,
    "start_time": "2022-01-23T04:20:13.109Z"
   },
   {
    "duration": 6,
    "start_time": "2022-01-23T04:20:37.353Z"
   },
   {
    "duration": 7,
    "start_time": "2022-01-23T04:20:52.681Z"
   },
   {
    "duration": 6,
    "start_time": "2022-01-23T04:21:41.286Z"
   },
   {
    "duration": 7,
    "start_time": "2022-01-23T04:24:37.092Z"
   },
   {
    "duration": 7,
    "start_time": "2022-01-23T04:26:22.008Z"
   },
   {
    "duration": 7,
    "start_time": "2022-01-23T04:26:43.917Z"
   },
   {
    "duration": 3415,
    "start_time": "2022-01-23T04:33:05.883Z"
   },
   {
    "duration": 6,
    "start_time": "2022-01-23T04:34:09.191Z"
   },
   {
    "duration": 7,
    "start_time": "2022-01-23T04:34:38.295Z"
   },
   {
    "duration": 6,
    "start_time": "2022-01-23T04:34:47.900Z"
   },
   {
    "duration": 6,
    "start_time": "2022-01-23T04:37:31.861Z"
   },
   {
    "duration": 6,
    "start_time": "2022-01-23T04:37:54.914Z"
   },
   {
    "duration": 359,
    "start_time": "2022-01-23T04:40:16.079Z"
   },
   {
    "duration": 6,
    "start_time": "2022-01-23T04:48:53.914Z"
   },
   {
    "duration": 6,
    "start_time": "2022-01-23T04:49:05.998Z"
   },
   {
    "duration": 7,
    "start_time": "2022-01-23T04:49:42.742Z"
   },
   {
    "duration": 6,
    "start_time": "2022-01-23T04:50:23.455Z"
   },
   {
    "duration": 7,
    "start_time": "2022-01-23T04:52:03.476Z"
   },
   {
    "duration": 7,
    "start_time": "2022-01-23T04:52:08.760Z"
   },
   {
    "duration": 6,
    "start_time": "2022-01-23T04:52:26.925Z"
   },
   {
    "duration": 6,
    "start_time": "2022-01-23T04:53:03.953Z"
   },
   {
    "duration": 6,
    "start_time": "2022-01-23T04:53:33.666Z"
   },
   {
    "duration": 7,
    "start_time": "2022-01-23T04:54:15.493Z"
   },
   {
    "duration": 7,
    "start_time": "2022-01-23T04:56:53.451Z"
   },
   {
    "duration": 9,
    "start_time": "2022-01-23T04:57:22.156Z"
   },
   {
    "duration": 7,
    "start_time": "2022-01-23T04:59:02.025Z"
   },
   {
    "duration": 6,
    "start_time": "2022-01-23T04:59:16.968Z"
   },
   {
    "duration": 279,
    "start_time": "2022-01-23T05:02:04.804Z"
   },
   {
    "duration": 282,
    "start_time": "2022-01-23T05:03:14.620Z"
   },
   {
    "duration": 7,
    "start_time": "2022-01-23T05:03:37.355Z"
   },
   {
    "duration": 3231,
    "start_time": "2022-01-23T05:04:53.934Z"
   },
   {
    "duration": 6,
    "start_time": "2022-01-23T05:13:40.404Z"
   },
   {
    "duration": 649,
    "start_time": "2022-01-23T05:56:20.734Z"
   },
   {
    "duration": 372,
    "start_time": "2022-01-23T05:57:43.438Z"
   },
   {
    "duration": 640,
    "start_time": "2022-01-23T06:01:56.394Z"
   },
   {
    "duration": 376,
    "start_time": "2022-01-23T06:02:23.482Z"
   },
   {
    "duration": 367,
    "start_time": "2022-01-23T06:02:45.027Z"
   },
   {
    "duration": 370,
    "start_time": "2022-01-23T06:07:41.457Z"
   },
   {
    "duration": 363,
    "start_time": "2022-01-23T06:07:57.202Z"
   },
   {
    "duration": 3246,
    "start_time": "2022-01-23T06:22:51.117Z"
   },
   {
    "duration": 358,
    "start_time": "2022-01-23T06:22:57.481Z"
   },
   {
    "duration": 7,
    "start_time": "2022-01-23T06:22:59.893Z"
   },
   {
    "duration": 5016,
    "start_time": "2022-01-23T06:30:14.218Z"
   },
   {
    "duration": 14,
    "start_time": "2022-01-23T06:30:51.523Z"
   },
   {
    "duration": 17,
    "start_time": "2022-01-23T06:31:08.531Z"
   },
   {
    "duration": 9,
    "start_time": "2022-01-23T06:31:31.315Z"
   },
   {
    "duration": 11,
    "start_time": "2022-01-23T06:33:06.812Z"
   },
   {
    "duration": 10,
    "start_time": "2022-01-23T06:33:18.373Z"
   },
   {
    "duration": 9,
    "start_time": "2022-01-23T06:33:33.917Z"
   },
   {
    "duration": 11,
    "start_time": "2022-01-23T06:35:22.626Z"
   },
   {
    "duration": 15,
    "start_time": "2022-01-23T06:35:56.886Z"
   },
   {
    "duration": 6,
    "start_time": "2022-01-23T06:36:25.659Z"
   },
   {
    "duration": 5,
    "start_time": "2022-01-23T06:36:32.631Z"
   },
   {
    "duration": 7,
    "start_time": "2022-01-23T06:36:57.304Z"
   },
   {
    "duration": 7,
    "start_time": "2022-01-23T06:37:09.501Z"
   },
   {
    "duration": 10,
    "start_time": "2022-01-23T06:37:18.395Z"
   },
   {
    "duration": 8,
    "start_time": "2022-01-23T06:37:40.788Z"
   },
   {
    "duration": 15,
    "start_time": "2022-01-23T06:38:00.276Z"
   },
   {
    "duration": 10,
    "start_time": "2022-01-23T06:38:20.076Z"
   },
   {
    "duration": 11,
    "start_time": "2022-01-23T06:39:24.549Z"
   },
   {
    "duration": 8,
    "start_time": "2022-01-23T06:40:33.474Z"
   },
   {
    "duration": 10,
    "start_time": "2022-01-23T06:41:21.666Z"
   },
   {
    "duration": 353,
    "start_time": "2022-01-23T06:42:48.583Z"
   },
   {
    "duration": 82,
    "start_time": "2022-01-23T06:47:05.644Z"
   },
   {
    "duration": 14,
    "start_time": "2022-01-23T06:47:14.686Z"
   },
   {
    "duration": 91,
    "start_time": "2022-01-23T06:50:12.981Z"
   },
   {
    "duration": 17,
    "start_time": "2022-01-23T06:50:22.362Z"
   },
   {
    "duration": 90,
    "start_time": "2022-01-23T06:52:13.063Z"
   },
   {
    "duration": 92,
    "start_time": "2022-01-23T06:52:28.923Z"
   },
   {
    "duration": 92,
    "start_time": "2022-01-23T06:58:09.992Z"
   },
   {
    "duration": 94,
    "start_time": "2022-01-23T06:59:56.921Z"
   },
   {
    "duration": 87,
    "start_time": "2022-01-23T07:00:03.525Z"
   },
   {
    "duration": 99,
    "start_time": "2022-01-23T07:00:12.471Z"
   },
   {
    "duration": 102,
    "start_time": "2022-01-23T07:00:48.262Z"
   },
   {
    "duration": 82,
    "start_time": "2022-01-23T07:01:19.426Z"
   },
   {
    "duration": 91,
    "start_time": "2022-01-23T07:03:00.968Z"
   },
   {
    "duration": 18,
    "start_time": "2022-01-23T07:03:30.386Z"
   },
   {
    "duration": 16,
    "start_time": "2022-01-23T07:03:57.157Z"
   },
   {
    "duration": 109,
    "start_time": "2022-01-23T07:04:21.569Z"
   },
   {
    "duration": 92,
    "start_time": "2022-01-23T07:04:27.989Z"
   },
   {
    "duration": 18,
    "start_time": "2022-01-23T07:04:43.897Z"
   },
   {
    "duration": 17,
    "start_time": "2022-01-23T07:06:42.846Z"
   },
   {
    "duration": 84,
    "start_time": "2022-01-23T07:11:21.018Z"
   },
   {
    "duration": 17,
    "start_time": "2022-01-23T07:11:35.206Z"
   },
   {
    "duration": 29,
    "start_time": "2022-01-23T07:15:27.589Z"
   },
   {
    "duration": 11,
    "start_time": "2022-01-23T07:20:38.125Z"
   },
   {
    "duration": 12,
    "start_time": "2022-01-23T07:21:00.609Z"
   },
   {
    "duration": 17,
    "start_time": "2022-01-23T07:24:44.211Z"
   },
   {
    "duration": 21,
    "start_time": "2022-01-23T07:28:14.737Z"
   },
   {
    "duration": 23,
    "start_time": "2022-01-23T07:29:05.014Z"
   },
   {
    "duration": 8,
    "start_time": "2022-01-23T07:32:57.360Z"
   },
   {
    "duration": 6,
    "start_time": "2022-01-23T07:33:28.137Z"
   },
   {
    "duration": 6,
    "start_time": "2022-01-23T07:41:04.914Z"
   },
   {
    "duration": 432,
    "start_time": "2022-01-23T07:41:22.198Z"
   },
   {
    "duration": 46,
    "start_time": "2022-01-23T07:46:24.609Z"
   },
   {
    "duration": 2596,
    "start_time": "2022-01-23T07:46:46.921Z"
   },
   {
    "duration": 36,
    "start_time": "2022-01-23T07:47:11.802Z"
   },
   {
    "duration": 7,
    "start_time": "2022-01-23T07:49:56.988Z"
   },
   {
    "duration": 6,
    "start_time": "2022-01-23T07:50:41.184Z"
   },
   {
    "duration": 6,
    "start_time": "2022-01-23T07:51:15.331Z"
   },
   {
    "duration": 7,
    "start_time": "2022-01-23T07:51:36.793Z"
   },
   {
    "duration": 35,
    "start_time": "2022-01-23T07:51:45.097Z"
   },
   {
    "duration": 7,
    "start_time": "2022-01-23T07:52:42.407Z"
   },
   {
    "duration": 36,
    "start_time": "2022-01-23T07:52:44.281Z"
   },
   {
    "duration": 8,
    "start_time": "2022-01-23T07:54:20.817Z"
   },
   {
    "duration": 7,
    "start_time": "2022-01-23T07:56:00.062Z"
   },
   {
    "duration": 7,
    "start_time": "2022-01-23T08:01:30.308Z"
   },
   {
    "duration": 7,
    "start_time": "2022-01-23T08:02:02.261Z"
   },
   {
    "duration": 37,
    "start_time": "2022-01-23T08:02:21.217Z"
   },
   {
    "duration": 10,
    "start_time": "2022-01-23T08:04:16.654Z"
   },
   {
    "duration": 2767,
    "start_time": "2022-01-23T08:05:09.015Z"
   },
   {
    "duration": 38,
    "start_time": "2022-01-23T08:05:29.995Z"
   },
   {
    "duration": 448,
    "start_time": "2022-01-23T08:12:18.896Z"
   },
   {
    "duration": 36,
    "start_time": "2022-01-23T08:12:24.756Z"
   },
   {
    "duration": 2,
    "start_time": "2022-01-23T08:13:50.393Z"
   },
   {
    "duration": 3,
    "start_time": "2022-01-23T08:14:13.796Z"
   },
   {
    "duration": 532,
    "start_time": "2022-01-23T08:26:00.789Z"
   },
   {
    "duration": 6769,
    "start_time": "2022-01-23T08:27:04.054Z"
   },
   {
    "duration": 13,
    "start_time": "2022-01-23T08:28:53.723Z"
   },
   {
    "duration": 12,
    "start_time": "2022-01-23T08:29:12.771Z"
   },
   {
    "duration": 265,
    "start_time": "2022-01-23T08:33:23.366Z"
   },
   {
    "duration": 38,
    "start_time": "2022-01-23T08:33:43.698Z"
   },
   {
    "duration": 2,
    "start_time": "2022-01-23T08:34:42.455Z"
   },
   {
    "duration": 8,
    "start_time": "2022-01-23T08:35:46.296Z"
   },
   {
    "duration": 8,
    "start_time": "2022-01-23T08:36:00.479Z"
   },
   {
    "duration": 8,
    "start_time": "2022-01-23T08:36:17.932Z"
   },
   {
    "duration": 8,
    "start_time": "2022-01-23T08:36:42.107Z"
   },
   {
    "duration": 11,
    "start_time": "2022-01-23T08:38:08.545Z"
   },
   {
    "duration": 14,
    "start_time": "2022-01-23T08:41:20.196Z"
   },
   {
    "duration": 14,
    "start_time": "2022-01-23T08:41:58.336Z"
   },
   {
    "duration": 17,
    "start_time": "2022-01-23T08:49:59.294Z"
   },
   {
    "duration": 23,
    "start_time": "2022-01-23T08:50:05.973Z"
   },
   {
    "duration": 24,
    "start_time": "2022-01-23T10:37:56.110Z"
   },
   {
    "duration": 14,
    "start_time": "2022-01-23T10:39:17.816Z"
   },
   {
    "duration": 54,
    "start_time": "2022-01-23T10:39:39.182Z"
   },
   {
    "duration": 9,
    "start_time": "2022-01-23T10:40:30.818Z"
   },
   {
    "duration": 12,
    "start_time": "2022-01-23T10:47:30.054Z"
   },
   {
    "duration": 12,
    "start_time": "2022-01-23T10:49:25.296Z"
   },
   {
    "duration": 11,
    "start_time": "2022-01-23T10:56:28.386Z"
   },
   {
    "duration": 13,
    "start_time": "2022-01-23T10:57:56.458Z"
   },
   {
    "duration": 17,
    "start_time": "2022-01-23T11:00:00.072Z"
   },
   {
    "duration": 22,
    "start_time": "2022-01-23T11:01:28.690Z"
   },
   {
    "duration": 32,
    "start_time": "2022-01-23T11:02:13.162Z"
   },
   {
    "duration": 3,
    "start_time": "2022-01-23T11:04:30.316Z"
   },
   {
    "duration": 33,
    "start_time": "2022-01-23T11:06:51.049Z"
   },
   {
    "duration": 3449,
    "start_time": "2022-01-23T11:08:54.486Z"
   },
   {
    "duration": 7,
    "start_time": "2022-01-23T11:09:33.687Z"
   },
   {
    "duration": 6,
    "start_time": "2022-01-23T11:11:09.592Z"
   },
   {
    "duration": 8,
    "start_time": "2022-01-23T11:11:38.803Z"
   },
   {
    "duration": 8,
    "start_time": "2022-01-23T11:11:50.561Z"
   },
   {
    "duration": 9,
    "start_time": "2022-01-23T11:15:22.227Z"
   },
   {
    "duration": 6,
    "start_time": "2022-01-23T11:15:41.216Z"
   },
   {
    "duration": 6,
    "start_time": "2022-01-23T11:15:45.572Z"
   },
   {
    "duration": 9,
    "start_time": "2022-01-23T11:15:53.476Z"
   },
   {
    "duration": 6,
    "start_time": "2022-01-23T11:15:56.352Z"
   },
   {
    "duration": 5,
    "start_time": "2022-01-23T11:16:18.473Z"
   },
   {
    "duration": 57,
    "start_time": "2022-01-23T11:16:35.720Z"
   },
   {
    "duration": 9,
    "start_time": "2022-01-23T11:16:35.779Z"
   },
   {
    "duration": 11,
    "start_time": "2022-01-23T11:16:35.789Z"
   },
   {
    "duration": 12,
    "start_time": "2022-01-23T11:16:35.801Z"
   },
   {
    "duration": 14,
    "start_time": "2022-01-23T11:16:35.815Z"
   },
   {
    "duration": 32,
    "start_time": "2022-01-23T11:16:35.831Z"
   },
   {
    "duration": 35,
    "start_time": "2022-01-23T11:16:35.864Z"
   },
   {
    "duration": 6,
    "start_time": "2022-01-23T11:16:35.901Z"
   },
   {
    "duration": 11,
    "start_time": "2022-01-23T11:16:35.908Z"
   },
   {
    "duration": 3487,
    "start_time": "2022-01-23T11:16:35.920Z"
   },
   {
    "duration": 382,
    "start_time": "2022-01-23T11:16:39.409Z"
   },
   {
    "duration": 478,
    "start_time": "2022-01-23T11:16:39.793Z"
   },
   {
    "duration": 2,
    "start_time": "2022-01-23T11:16:40.274Z"
   },
   {
    "duration": 31,
    "start_time": "2022-01-23T11:16:40.278Z"
   },
   {
    "duration": 378,
    "start_time": "2022-01-23T11:16:40.311Z"
   },
   {
    "duration": 24,
    "start_time": "2022-01-23T11:16:40.691Z"
   },
   {
    "duration": 408,
    "start_time": "2022-01-23T11:16:40.717Z"
   },
   {
    "duration": 27,
    "start_time": "2022-01-23T11:16:41.127Z"
   },
   {
    "duration": 21,
    "start_time": "2022-01-23T11:16:41.157Z"
   },
   {
    "duration": 8,
    "start_time": "2022-01-23T11:20:17.879Z"
   },
   {
    "duration": 7,
    "start_time": "2022-01-23T11:21:57.885Z"
   },
   {
    "duration": 3207,
    "start_time": "2022-01-23T11:33:36.760Z"
   },
   {
    "duration": 3579,
    "start_time": "2022-01-23T11:35:03.257Z"
   },
   {
    "duration": 378,
    "start_time": "2022-01-23T11:43:06.107Z"
   },
   {
    "duration": 376,
    "start_time": "2022-01-23T11:43:35.030Z"
   },
   {
    "duration": 367,
    "start_time": "2022-01-23T12:01:05.053Z"
   },
   {
    "duration": 6,
    "start_time": "2022-01-23T12:02:11.065Z"
   },
   {
    "duration": 361,
    "start_time": "2022-01-23T12:04:30.988Z"
   },
   {
    "duration": 362,
    "start_time": "2022-01-23T12:12:34.898Z"
   },
   {
    "duration": 451,
    "start_time": "2022-01-23T12:17:17.468Z"
   },
   {
    "duration": 24,
    "start_time": "2022-01-23T12:32:41.024Z"
   },
   {
    "duration": 12,
    "start_time": "2022-01-23T12:46:49.649Z"
   },
   {
    "duration": 10,
    "start_time": "2022-01-23T12:47:20.469Z"
   },
   {
    "duration": 26,
    "start_time": "2022-01-23T12:53:36.917Z"
   },
   {
    "duration": 13,
    "start_time": "2022-01-23T12:56:25.510Z"
   },
   {
    "duration": 10,
    "start_time": "2022-01-23T12:57:34.312Z"
   },
   {
    "duration": 11,
    "start_time": "2022-01-23T12:58:24.268Z"
   },
   {
    "duration": 6,
    "start_time": "2022-01-23T13:05:15.734Z"
   },
   {
    "duration": 21,
    "start_time": "2022-01-23T13:06:25.870Z"
   },
   {
    "duration": 63,
    "start_time": "2022-01-23T13:08:01.280Z"
   },
   {
    "duration": 11,
    "start_time": "2022-01-23T13:08:01.345Z"
   },
   {
    "duration": 41,
    "start_time": "2022-01-23T13:08:01.359Z"
   },
   {
    "duration": 15,
    "start_time": "2022-01-23T13:08:01.403Z"
   },
   {
    "duration": 18,
    "start_time": "2022-01-23T13:08:01.420Z"
   },
   {
    "duration": 76,
    "start_time": "2022-01-23T13:08:01.440Z"
   },
   {
    "duration": 14,
    "start_time": "2022-01-23T13:08:01.520Z"
   },
   {
    "duration": 19,
    "start_time": "2022-01-23T13:08:01.537Z"
   },
   {
    "duration": 21,
    "start_time": "2022-01-23T13:08:01.559Z"
   },
   {
    "duration": 22,
    "start_time": "2022-01-23T13:08:01.582Z"
   },
   {
    "duration": 4130,
    "start_time": "2022-01-23T13:08:01.606Z"
   },
   {
    "duration": 7,
    "start_time": "2022-01-23T13:08:05.737Z"
   },
   {
    "duration": 413,
    "start_time": "2022-01-23T13:08:05.746Z"
   },
   {
    "duration": 388,
    "start_time": "2022-01-23T13:08:06.161Z"
   },
   {
    "duration": 542,
    "start_time": "2022-01-23T13:08:06.551Z"
   },
   {
    "duration": 407,
    "start_time": "2022-01-23T13:08:07.095Z"
   },
   {
    "duration": 29,
    "start_time": "2022-01-23T13:08:07.504Z"
   },
   {
    "duration": 13,
    "start_time": "2022-01-23T13:08:07.535Z"
   },
   {
    "duration": 11,
    "start_time": "2022-01-23T13:08:07.551Z"
   },
   {
    "duration": 67,
    "start_time": "2022-01-23T13:08:07.564Z"
   },
   {
    "duration": 12,
    "start_time": "2022-01-23T13:08:07.633Z"
   },
   {
    "duration": 12,
    "start_time": "2022-01-23T13:08:07.650Z"
   },
   {
    "duration": 42,
    "start_time": "2022-01-23T13:08:07.665Z"
   },
   {
    "duration": 39,
    "start_time": "2022-01-23T13:08:07.709Z"
   },
   {
    "duration": 9,
    "start_time": "2022-01-23T13:08:07.750Z"
   },
   {
    "duration": 17,
    "start_time": "2022-01-23T13:08:07.761Z"
   },
   {
    "duration": 24,
    "start_time": "2022-01-23T13:08:34.585Z"
   },
   {
    "duration": 8,
    "start_time": "2022-01-23T13:08:35.668Z"
   },
   {
    "duration": 8,
    "start_time": "2022-01-23T13:08:36.633Z"
   },
   {
    "duration": 365,
    "start_time": "2022-01-23T13:11:32.674Z"
   },
   {
    "duration": 27,
    "start_time": "2022-01-23T13:12:14.798Z"
   },
   {
    "duration": 12,
    "start_time": "2022-01-23T13:19:44.592Z"
   },
   {
    "duration": 11,
    "start_time": "2022-01-23T13:20:07.150Z"
   },
   {
    "duration": 365,
    "start_time": "2022-01-23T13:21:26.380Z"
   },
   {
    "duration": 358,
    "start_time": "2022-01-23T13:21:55.486Z"
   },
   {
    "duration": 58,
    "start_time": "2022-01-23T13:22:07.162Z"
   },
   {
    "duration": 9,
    "start_time": "2022-01-23T13:22:07.222Z"
   },
   {
    "duration": 12,
    "start_time": "2022-01-23T13:22:07.233Z"
   },
   {
    "duration": 17,
    "start_time": "2022-01-23T13:22:07.247Z"
   },
   {
    "duration": 36,
    "start_time": "2022-01-23T13:22:07.266Z"
   },
   {
    "duration": 34,
    "start_time": "2022-01-23T13:22:07.304Z"
   },
   {
    "duration": 8,
    "start_time": "2022-01-23T13:22:07.340Z"
   },
   {
    "duration": 22,
    "start_time": "2022-01-23T13:22:07.350Z"
   },
   {
    "duration": 27,
    "start_time": "2022-01-23T13:22:07.374Z"
   },
   {
    "duration": 27,
    "start_time": "2022-01-23T13:22:07.402Z"
   },
   {
    "duration": 3303,
    "start_time": "2022-01-23T13:22:07.431Z"
   },
   {
    "duration": 7,
    "start_time": "2022-01-23T13:22:10.737Z"
   },
   {
    "duration": 364,
    "start_time": "2022-01-23T13:22:10.746Z"
   },
   {
    "duration": 357,
    "start_time": "2022-01-23T13:22:11.112Z"
   },
   {
    "duration": 442,
    "start_time": "2022-01-23T13:22:11.471Z"
   },
   {
    "duration": 377,
    "start_time": "2022-01-23T13:22:11.915Z"
   },
   {
    "duration": 28,
    "start_time": "2022-01-23T13:22:12.294Z"
   },
   {
    "duration": 11,
    "start_time": "2022-01-23T13:22:12.325Z"
   },
   {
    "duration": 9,
    "start_time": "2022-01-23T13:22:12.338Z"
   },
   {
    "duration": 52,
    "start_time": "2022-01-23T13:22:12.349Z"
   },
   {
    "duration": 11,
    "start_time": "2022-01-23T13:22:12.403Z"
   },
   {
    "duration": 9,
    "start_time": "2022-01-23T13:22:12.416Z"
   },
   {
    "duration": 8,
    "start_time": "2022-01-23T13:22:12.426Z"
   },
   {
    "duration": 25,
    "start_time": "2022-01-23T13:22:12.436Z"
   },
   {
    "duration": 44,
    "start_time": "2022-01-23T13:22:12.462Z"
   },
   {
    "duration": 23,
    "start_time": "2022-01-23T13:22:12.508Z"
   },
   {
    "duration": 7,
    "start_time": "2022-01-23T13:22:12.533Z"
   },
   {
    "duration": 10,
    "start_time": "2022-01-23T13:22:12.542Z"
   },
   {
    "duration": 11,
    "start_time": "2022-01-23T13:23:50.318Z"
   },
   {
    "duration": 10,
    "start_time": "2022-01-23T13:25:04.256Z"
   },
   {
    "duration": 10,
    "start_time": "2022-01-23T13:25:18.689Z"
   },
   {
    "duration": 11,
    "start_time": "2022-01-23T13:29:13.259Z"
   },
   {
    "duration": 13,
    "start_time": "2022-01-23T13:29:15.055Z"
   },
   {
    "duration": 11,
    "start_time": "2022-01-23T13:30:45.208Z"
   },
   {
    "duration": 12,
    "start_time": "2022-01-23T13:30:59.624Z"
   },
   {
    "duration": 11,
    "start_time": "2022-01-23T13:32:19.717Z"
   },
   {
    "duration": 31,
    "start_time": "2022-01-23T13:49:01.378Z"
   },
   {
    "duration": 92,
    "start_time": "2022-01-23T13:49:33.297Z"
   },
   {
    "duration": 30,
    "start_time": "2022-01-23T13:49:48.530Z"
   },
   {
    "duration": 13,
    "start_time": "2022-01-23T13:52:20.648Z"
   },
   {
    "duration": 13,
    "start_time": "2022-01-23T13:53:43.337Z"
   },
   {
    "duration": 14,
    "start_time": "2022-01-23T13:54:02.922Z"
   },
   {
    "duration": 61,
    "start_time": "2022-01-23T14:02:37.692Z"
   },
   {
    "duration": 10,
    "start_time": "2022-01-23T14:02:37.755Z"
   },
   {
    "duration": 30,
    "start_time": "2022-01-23T14:02:37.768Z"
   },
   {
    "duration": 13,
    "start_time": "2022-01-23T14:02:37.801Z"
   },
   {
    "duration": 16,
    "start_time": "2022-01-23T14:02:37.816Z"
   },
   {
    "duration": 63,
    "start_time": "2022-01-23T14:02:37.834Z"
   },
   {
    "duration": 11,
    "start_time": "2022-01-23T14:02:37.900Z"
   },
   {
    "duration": 6,
    "start_time": "2022-01-23T14:02:37.915Z"
   },
   {
    "duration": 8,
    "start_time": "2022-01-23T14:02:37.924Z"
   },
   {
    "duration": 8,
    "start_time": "2022-01-23T14:02:37.934Z"
   },
   {
    "duration": 3335,
    "start_time": "2022-01-23T14:02:37.943Z"
   },
   {
    "duration": 19,
    "start_time": "2022-01-23T14:02:41.280Z"
   },
   {
    "duration": 361,
    "start_time": "2022-01-23T14:02:41.301Z"
   },
   {
    "duration": 361,
    "start_time": "2022-01-23T14:02:41.664Z"
   },
   {
    "duration": 444,
    "start_time": "2022-01-23T14:02:42.026Z"
   },
   {
    "duration": 374,
    "start_time": "2022-01-23T14:02:42.472Z"
   },
   {
    "duration": 25,
    "start_time": "2022-01-23T14:02:42.848Z"
   },
   {
    "duration": 24,
    "start_time": "2022-01-23T14:02:42.875Z"
   },
   {
    "duration": 10,
    "start_time": "2022-01-23T14:02:42.901Z"
   },
   {
    "duration": 25,
    "start_time": "2022-01-23T14:02:42.913Z"
   },
   {
    "duration": 11,
    "start_time": "2022-01-23T14:02:42.940Z"
   },
   {
    "duration": 10,
    "start_time": "2022-01-23T14:02:42.954Z"
   },
   {
    "duration": 10,
    "start_time": "2022-01-23T14:02:42.998Z"
   },
   {
    "duration": 25,
    "start_time": "2022-01-23T14:02:43.010Z"
   },
   {
    "duration": 9,
    "start_time": "2022-01-23T14:02:43.036Z"
   },
   {
    "duration": 10,
    "start_time": "2022-01-23T14:02:43.046Z"
   },
   {
    "duration": 43,
    "start_time": "2022-01-23T14:02:43.057Z"
   },
   {
    "duration": 28,
    "start_time": "2022-01-23T14:02:43.102Z"
   },
   {
    "duration": 13,
    "start_time": "2022-01-23T14:02:43.131Z"
   },
   {
    "duration": 12,
    "start_time": "2022-01-23T14:02:43.146Z"
   },
   {
    "duration": 1027,
    "start_time": "2022-01-29T17:03:48.157Z"
   },
   {
    "duration": 21,
    "start_time": "2022-01-29T17:03:49.187Z"
   },
   {
    "duration": 14,
    "start_time": "2022-01-29T17:03:49.211Z"
   },
   {
    "duration": 53,
    "start_time": "2022-01-29T17:03:49.228Z"
   },
   {
    "duration": 24,
    "start_time": "2022-01-29T17:03:49.284Z"
   },
   {
    "duration": 84,
    "start_time": "2022-01-29T17:03:49.311Z"
   },
   {
    "duration": 11,
    "start_time": "2022-01-29T17:03:49.397Z"
   },
   {
    "duration": 10,
    "start_time": "2022-01-29T17:03:49.413Z"
   },
   {
    "duration": 48,
    "start_time": "2022-01-29T17:03:49.426Z"
   },
   {
    "duration": 13,
    "start_time": "2022-01-29T17:03:49.476Z"
   },
   {
    "duration": 5237,
    "start_time": "2022-01-29T17:03:49.492Z"
   },
   {
    "duration": 9,
    "start_time": "2022-01-29T17:03:54.731Z"
   },
   {
    "duration": 746,
    "start_time": "2022-01-29T17:03:54.742Z"
   },
   {
    "duration": 618,
    "start_time": "2022-01-29T17:03:55.491Z"
   },
   {
    "duration": 804,
    "start_time": "2022-01-29T17:03:56.112Z"
   },
   {
    "duration": 649,
    "start_time": "2022-01-29T17:03:56.919Z"
   },
   {
    "duration": 38,
    "start_time": "2022-01-29T17:03:57.571Z"
   },
   {
    "duration": 14,
    "start_time": "2022-01-29T17:03:57.611Z"
   },
   {
    "duration": 423,
    "start_time": "2022-01-29T17:03:57.627Z"
   },
   {
    "duration": 1143,
    "start_time": "2022-01-29T17:03:56.911Z"
   },
   {
    "duration": 1145,
    "start_time": "2022-01-29T17:03:56.913Z"
   },
   {
    "duration": 1145,
    "start_time": "2022-01-29T17:03:56.915Z"
   },
   {
    "duration": 1146,
    "start_time": "2022-01-29T17:03:56.917Z"
   },
   {
    "duration": 1146,
    "start_time": "2022-01-29T17:03:56.919Z"
   },
   {
    "duration": 1146,
    "start_time": "2022-01-29T17:03:56.921Z"
   },
   {
    "duration": 1146,
    "start_time": "2022-01-29T17:03:56.922Z"
   },
   {
    "duration": 1146,
    "start_time": "2022-01-29T17:03:56.924Z"
   },
   {
    "duration": 1145,
    "start_time": "2022-01-29T17:03:56.926Z"
   },
   {
    "duration": 1144,
    "start_time": "2022-01-29T17:03:56.928Z"
   },
   {
    "duration": 1144,
    "start_time": "2022-01-29T17:03:56.930Z"
   },
   {
    "duration": 744,
    "start_time": "2022-01-30T09:10:12.403Z"
   },
   {
    "duration": 77,
    "start_time": "2022-01-30T09:10:13.495Z"
   },
   {
    "duration": 8,
    "start_time": "2022-01-30T09:13:10.542Z"
   },
   {
    "duration": 75,
    "start_time": "2022-01-30T09:13:12.033Z"
   },
   {
    "duration": 22,
    "start_time": "2022-01-30T09:13:17.547Z"
   },
   {
    "duration": 16,
    "start_time": "2022-01-30T09:13:18.946Z"
   },
   {
    "duration": 18,
    "start_time": "2022-01-30T09:13:23.327Z"
   },
   {
    "duration": 25,
    "start_time": "2022-01-30T09:13:26.720Z"
   },
   {
    "duration": 87,
    "start_time": "2022-01-30T09:13:27.505Z"
   },
   {
    "duration": 16,
    "start_time": "2022-01-30T09:13:28.395Z"
   },
   {
    "duration": 12,
    "start_time": "2022-01-30T09:13:29.021Z"
   },
   {
    "duration": 15,
    "start_time": "2022-01-30T09:13:32.914Z"
   },
   {
    "duration": 10,
    "start_time": "2022-01-30T09:13:38.391Z"
   },
   {
    "duration": 5722,
    "start_time": "2022-01-30T09:13:58.635Z"
   },
   {
    "duration": 653,
    "start_time": "2022-01-30T09:51:45.891Z"
   },
   {
    "duration": 13,
    "start_time": "2022-01-30T09:59:34.922Z"
   },
   {
    "duration": 9,
    "start_time": "2022-01-30T09:59:37.363Z"
   },
   {
    "duration": 10,
    "start_time": "2022-01-30T09:59:41.723Z"
   },
   {
    "duration": 10,
    "start_time": "2022-01-30T09:59:45.026Z"
   },
   {
    "duration": 10,
    "start_time": "2022-01-30T09:59:50.705Z"
   },
   {
    "duration": 4,
    "start_time": "2022-01-30T09:59:57.655Z"
   },
   {
    "duration": 73,
    "start_time": "2022-01-30T09:59:57.666Z"
   },
   {
    "duration": 12,
    "start_time": "2022-01-30T09:59:57.742Z"
   },
   {
    "duration": 800,
    "start_time": "2022-01-30T09:59:57.770Z"
   },
   {
    "duration": 17,
    "start_time": "2022-01-30T09:59:58.573Z"
   },
   {
    "duration": 24,
    "start_time": "2022-01-30T09:59:58.593Z"
   },
   {
    "duration": 97,
    "start_time": "2022-01-30T09:59:58.620Z"
   },
   {
    "duration": 11,
    "start_time": "2022-01-30T09:59:58.720Z"
   },
   {
    "duration": 37,
    "start_time": "2022-01-30T09:59:58.734Z"
   },
   {
    "duration": 15,
    "start_time": "2022-01-30T09:59:58.775Z"
   },
   {
    "duration": 14,
    "start_time": "2022-01-30T09:59:58.793Z"
   },
   {
    "duration": 5683,
    "start_time": "2022-01-30T09:59:58.810Z"
   },
   {
    "duration": 8,
    "start_time": "2022-01-30T10:00:04.496Z"
   },
   {
    "duration": 640,
    "start_time": "2022-01-30T10:00:04.507Z"
   },
   {
    "duration": 643,
    "start_time": "2022-01-30T10:00:05.150Z"
   },
   {
    "duration": 817,
    "start_time": "2022-01-30T10:00:05.796Z"
   },
   {
    "duration": 1014,
    "start_time": "2022-01-30T10:00:06.616Z"
   },
   {
    "duration": 61,
    "start_time": "2022-01-30T10:00:07.633Z"
   },
   {
    "duration": 19,
    "start_time": "2022-01-30T10:00:07.699Z"
   },
   {
    "duration": 413,
    "start_time": "2022-01-30T10:00:07.721Z"
   },
   {
    "duration": -1675,
    "start_time": "2022-01-30T10:00:09.812Z"
   },
   {
    "duration": -1688,
    "start_time": "2022-01-30T10:00:09.828Z"
   },
   {
    "duration": -1701,
    "start_time": "2022-01-30T10:00:09.842Z"
   },
   {
    "duration": -1721,
    "start_time": "2022-01-30T10:00:09.864Z"
   },
   {
    "duration": -1731,
    "start_time": "2022-01-30T10:00:09.876Z"
   },
   {
    "duration": -1769,
    "start_time": "2022-01-30T10:00:09.916Z"
   },
   {
    "duration": -1783,
    "start_time": "2022-01-30T10:00:09.932Z"
   },
   {
    "duration": -1797,
    "start_time": "2022-01-30T10:00:09.947Z"
   },
   {
    "duration": -1809,
    "start_time": "2022-01-30T10:00:09.961Z"
   },
   {
    "duration": -1822,
    "start_time": "2022-01-30T10:00:09.976Z"
   },
   {
    "duration": -1833,
    "start_time": "2022-01-30T10:00:09.989Z"
   },
   {
    "duration": 1865,
    "start_time": "2022-01-30T10:08:04.483Z"
   },
   {
    "duration": 1912,
    "start_time": "2022-01-30T10:08:26.333Z"
   },
   {
    "duration": 1893,
    "start_time": "2022-01-30T10:09:35.485Z"
   },
   {
    "duration": 8,
    "start_time": "2022-01-30T10:17:39.775Z"
   },
   {
    "duration": 1926,
    "start_time": "2022-01-30T10:17:59.847Z"
   },
   {
    "duration": 3,
    "start_time": "2022-01-30T10:18:25.846Z"
   },
   {
    "duration": 72,
    "start_time": "2022-01-30T10:18:25.861Z"
   },
   {
    "duration": 13,
    "start_time": "2022-01-30T10:18:25.936Z"
   },
   {
    "duration": 769,
    "start_time": "2022-01-30T10:18:25.952Z"
   },
   {
    "duration": 16,
    "start_time": "2022-01-30T10:18:26.723Z"
   },
   {
    "duration": 46,
    "start_time": "2022-01-30T10:18:26.742Z"
   },
   {
    "duration": 29,
    "start_time": "2022-01-30T10:18:26.791Z"
   },
   {
    "duration": 51,
    "start_time": "2022-01-30T10:18:26.823Z"
   },
   {
    "duration": 11,
    "start_time": "2022-01-30T10:18:26.877Z"
   },
   {
    "duration": 15,
    "start_time": "2022-01-30T10:18:26.891Z"
   },
   {
    "duration": 10,
    "start_time": "2022-01-30T10:18:26.911Z"
   },
   {
    "duration": 5575,
    "start_time": "2022-01-30T10:18:26.926Z"
   },
   {
    "duration": 8,
    "start_time": "2022-01-30T10:18:32.504Z"
   },
   {
    "duration": 637,
    "start_time": "2022-01-30T10:18:32.515Z"
   },
   {
    "duration": 632,
    "start_time": "2022-01-30T10:18:33.154Z"
   },
   {
    "duration": 820,
    "start_time": "2022-01-30T10:18:33.789Z"
   },
   {
    "duration": 651,
    "start_time": "2022-01-30T10:18:34.611Z"
   },
   {
    "duration": 43,
    "start_time": "2022-01-30T10:18:35.265Z"
   },
   {
    "duration": 17,
    "start_time": "2022-01-30T10:18:35.311Z"
   },
   {
    "duration": 280,
    "start_time": "2022-01-30T10:18:35.330Z"
   },
   {
    "duration": -1908,
    "start_time": "2022-01-30T10:18:37.521Z"
   },
   {
    "duration": -1924,
    "start_time": "2022-01-30T10:18:37.539Z"
   },
   {
    "duration": -1945,
    "start_time": "2022-01-30T10:18:37.561Z"
   },
   {
    "duration": -1959,
    "start_time": "2022-01-30T10:18:37.577Z"
   },
   {
    "duration": -2014,
    "start_time": "2022-01-30T10:18:37.634Z"
   },
   {
    "duration": -2045,
    "start_time": "2022-01-30T10:18:37.667Z"
   },
   {
    "duration": -2092,
    "start_time": "2022-01-30T10:18:37.715Z"
   },
   {
    "duration": -2159,
    "start_time": "2022-01-30T10:18:37.784Z"
   },
   {
    "duration": -2184,
    "start_time": "2022-01-30T10:18:37.810Z"
   },
   {
    "duration": -2195,
    "start_time": "2022-01-30T10:18:37.823Z"
   },
   {
    "duration": -2208,
    "start_time": "2022-01-30T10:18:37.837Z"
   },
   {
    "duration": 1772,
    "start_time": "2022-01-30T10:18:55.614Z"
   },
   {
    "duration": 8,
    "start_time": "2022-01-30T10:19:49.490Z"
   },
   {
    "duration": 24,
    "start_time": "2022-01-30T10:21:38.623Z"
   },
   {
    "duration": 3,
    "start_time": "2022-01-30T10:24:17.182Z"
   },
   {
    "duration": 71,
    "start_time": "2022-01-30T10:24:17.194Z"
   },
   {
    "duration": 11,
    "start_time": "2022-01-30T10:24:17.268Z"
   },
   {
    "duration": 750,
    "start_time": "2022-01-30T10:24:38.541Z"
   },
   {
    "duration": 17,
    "start_time": "2022-01-30T10:24:39.294Z"
   },
   {
    "duration": 50,
    "start_time": "2022-01-30T10:24:39.337Z"
   },
   {
    "duration": 11,
    "start_time": "2022-01-30T10:24:39.390Z"
   },
   {
    "duration": 8,
    "start_time": "2022-01-30T10:24:39.404Z"
   },
   {
    "duration": 10,
    "start_time": "2022-01-30T10:24:39.414Z"
   },
   {
    "duration": 51,
    "start_time": "2022-01-30T10:24:39.427Z"
   },
   {
    "duration": 5330,
    "start_time": "2022-01-30T10:24:39.482Z"
   },
   {
    "duration": 9,
    "start_time": "2022-01-30T10:24:44.816Z"
   },
   {
    "duration": 647,
    "start_time": "2022-01-30T10:24:44.827Z"
   },
   {
    "duration": 668,
    "start_time": "2022-01-30T10:24:45.476Z"
   },
   {
    "duration": 748,
    "start_time": "2022-01-30T10:24:46.147Z"
   },
   {
    "duration": 736,
    "start_time": "2022-01-30T10:24:46.897Z"
   },
   {
    "duration": 48,
    "start_time": "2022-01-30T10:24:47.635Z"
   },
   {
    "duration": 15,
    "start_time": "2022-01-30T10:24:47.686Z"
   },
   {
    "duration": 268,
    "start_time": "2022-01-30T10:24:47.704Z"
   },
   {
    "duration": -5392,
    "start_time": "2022-01-30T10:24:53.366Z"
   },
   {
    "duration": -5409,
    "start_time": "2022-01-30T10:24:53.384Z"
   },
   {
    "duration": -5425,
    "start_time": "2022-01-30T10:24:53.402Z"
   },
   {
    "duration": -5465,
    "start_time": "2022-01-30T10:24:53.443Z"
   },
   {
    "duration": -5516,
    "start_time": "2022-01-30T10:24:53.495Z"
   },
   {
    "duration": -5532,
    "start_time": "2022-01-30T10:24:53.513Z"
   },
   {
    "duration": -5549,
    "start_time": "2022-01-30T10:24:53.532Z"
   },
   {
    "duration": -5561,
    "start_time": "2022-01-30T10:24:53.545Z"
   },
   {
    "duration": -5573,
    "start_time": "2022-01-30T10:24:53.559Z"
   },
   {
    "duration": -5593,
    "start_time": "2022-01-30T10:24:53.580Z"
   },
   {
    "duration": -5627,
    "start_time": "2022-01-30T10:24:53.616Z"
   },
   {
    "duration": -5653,
    "start_time": "2022-01-30T10:24:53.643Z"
   },
   {
    "duration": 1751,
    "start_time": "2022-01-30T10:25:04.370Z"
   },
   {
    "duration": 1784,
    "start_time": "2022-01-30T10:27:23.038Z"
   },
   {
    "duration": 4,
    "start_time": "2022-01-30T10:27:47.246Z"
   },
   {
    "duration": 99,
    "start_time": "2022-01-30T10:27:47.252Z"
   },
   {
    "duration": 19,
    "start_time": "2022-01-30T10:27:47.354Z"
   },
   {
    "duration": 794,
    "start_time": "2022-01-30T10:27:47.376Z"
   },
   {
    "duration": 15,
    "start_time": "2022-01-30T10:27:48.173Z"
   },
   {
    "duration": 25,
    "start_time": "2022-01-30T10:27:48.191Z"
   },
   {
    "duration": 55,
    "start_time": "2022-01-30T10:27:48.220Z"
   },
   {
    "duration": 12,
    "start_time": "2022-01-30T10:27:48.279Z"
   },
   {
    "duration": 26,
    "start_time": "2022-01-30T10:27:48.293Z"
   },
   {
    "duration": 17,
    "start_time": "2022-01-30T10:27:48.321Z"
   },
   {
    "duration": 30,
    "start_time": "2022-01-30T10:27:48.341Z"
   },
   {
    "duration": 5136,
    "start_time": "2022-01-30T10:27:48.374Z"
   },
   {
    "duration": 10,
    "start_time": "2022-01-30T10:27:53.513Z"
   },
   {
    "duration": 621,
    "start_time": "2022-01-30T10:27:53.526Z"
   },
   {
    "duration": 634,
    "start_time": "2022-01-30T10:27:54.150Z"
   },
   {
    "duration": 763,
    "start_time": "2022-01-30T10:27:54.787Z"
   },
   {
    "duration": 640,
    "start_time": "2022-01-30T10:27:55.552Z"
   },
   {
    "duration": 39,
    "start_time": "2022-01-30T10:27:56.195Z"
   },
   {
    "duration": 17,
    "start_time": "2022-01-30T10:27:56.269Z"
   },
   {
    "duration": 326,
    "start_time": "2022-01-30T10:27:56.290Z"
   },
   {
    "duration": -1613,
    "start_time": "2022-01-30T10:27:58.232Z"
   },
   {
    "duration": -1628,
    "start_time": "2022-01-30T10:27:58.249Z"
   },
   {
    "duration": -1663,
    "start_time": "2022-01-30T10:27:58.286Z"
   },
   {
    "duration": -1678,
    "start_time": "2022-01-30T10:27:58.303Z"
   },
   {
    "duration": -1693,
    "start_time": "2022-01-30T10:27:58.320Z"
   },
   {
    "duration": -1706,
    "start_time": "2022-01-30T10:27:58.335Z"
   },
   {
    "duration": -1718,
    "start_time": "2022-01-30T10:27:58.349Z"
   },
   {
    "duration": -1741,
    "start_time": "2022-01-30T10:27:58.374Z"
   },
   {
    "duration": -1784,
    "start_time": "2022-01-30T10:27:58.419Z"
   },
   {
    "duration": -1803,
    "start_time": "2022-01-30T10:27:58.440Z"
   },
   {
    "duration": -1814,
    "start_time": "2022-01-30T10:27:58.453Z"
   },
   {
    "duration": 1755,
    "start_time": "2022-01-30T10:29:12.103Z"
   },
   {
    "duration": 1984,
    "start_time": "2022-01-30T10:52:45.679Z"
   },
   {
    "duration": 1927,
    "start_time": "2022-01-30T10:55:37.293Z"
   },
   {
    "duration": 1775,
    "start_time": "2022-01-30T10:57:50.745Z"
   },
   {
    "duration": 2416,
    "start_time": "2022-01-30T10:58:00.690Z"
   },
   {
    "duration": 1820,
    "start_time": "2022-01-30T10:58:45.719Z"
   },
   {
    "duration": 4,
    "start_time": "2022-01-30T10:59:13.475Z"
   },
   {
    "duration": 75,
    "start_time": "2022-01-30T10:59:13.485Z"
   },
   {
    "duration": 12,
    "start_time": "2022-01-30T10:59:13.563Z"
   },
   {
    "duration": 1365,
    "start_time": "2022-01-30T10:59:13.579Z"
   },
   {
    "duration": 38,
    "start_time": "2022-01-30T10:59:14.948Z"
   },
   {
    "duration": 32,
    "start_time": "2022-01-30T10:59:14.989Z"
   },
   {
    "duration": 53,
    "start_time": "2022-01-30T10:59:15.025Z"
   },
   {
    "duration": 65,
    "start_time": "2022-01-30T10:59:15.084Z"
   },
   {
    "duration": 32,
    "start_time": "2022-01-30T10:59:15.153Z"
   },
   {
    "duration": 9,
    "start_time": "2022-01-30T10:59:15.188Z"
   },
   {
    "duration": 12,
    "start_time": "2022-01-30T10:59:15.200Z"
   },
   {
    "duration": 57,
    "start_time": "2022-01-30T10:59:15.214Z"
   },
   {
    "duration": 5734,
    "start_time": "2022-01-30T10:59:15.273Z"
   },
   {
    "duration": 12,
    "start_time": "2022-01-30T10:59:21.010Z"
   },
   {
    "duration": 640,
    "start_time": "2022-01-30T10:59:21.025Z"
   },
   {
    "duration": 686,
    "start_time": "2022-01-30T10:59:21.670Z"
   },
   {
    "duration": 773,
    "start_time": "2022-01-30T10:59:22.359Z"
   },
   {
    "duration": 729,
    "start_time": "2022-01-30T10:59:23.134Z"
   },
   {
    "duration": 38,
    "start_time": "2022-01-30T10:59:23.867Z"
   },
   {
    "duration": 16,
    "start_time": "2022-01-30T10:59:23.908Z"
   },
   {
    "duration": 297,
    "start_time": "2022-01-30T10:59:23.926Z"
   },
   {
    "duration": -1669,
    "start_time": "2022-01-30T10:59:25.895Z"
   },
   {
    "duration": -1683,
    "start_time": "2022-01-30T10:59:25.910Z"
   },
   {
    "duration": -1693,
    "start_time": "2022-01-30T10:59:25.922Z"
   },
   {
    "duration": -1706,
    "start_time": "2022-01-30T10:59:25.936Z"
   },
   {
    "duration": -1716,
    "start_time": "2022-01-30T10:59:25.948Z"
   },
   {
    "duration": -1728,
    "start_time": "2022-01-30T10:59:25.961Z"
   },
   {
    "duration": -1757,
    "start_time": "2022-01-30T10:59:25.991Z"
   },
   {
    "duration": -1769,
    "start_time": "2022-01-30T10:59:26.005Z"
   },
   {
    "duration": -1784,
    "start_time": "2022-01-30T10:59:26.021Z"
   },
   {
    "duration": -1797,
    "start_time": "2022-01-30T10:59:26.035Z"
   },
   {
    "duration": -1807,
    "start_time": "2022-01-30T10:59:26.047Z"
   },
   {
    "duration": 10,
    "start_time": "2022-01-30T11:12:11.807Z"
   },
   {
    "duration": 12,
    "start_time": "2022-01-30T11:14:04.942Z"
   },
   {
    "duration": 546,
    "start_time": "2022-01-30T11:18:48.914Z"
   },
   {
    "duration": 6,
    "start_time": "2022-01-30T11:19:25.426Z"
   },
   {
    "duration": 616,
    "start_time": "2022-01-30T11:20:09.799Z"
   },
   {
    "duration": 630,
    "start_time": "2022-01-30T11:21:08.999Z"
   },
   {
    "duration": 599,
    "start_time": "2022-01-30T11:21:30.612Z"
   },
   {
    "duration": 18,
    "start_time": "2022-01-30T11:29:06.281Z"
   },
   {
    "duration": 17,
    "start_time": "2022-01-30T11:38:52.340Z"
   },
   {
    "duration": 47,
    "start_time": "2022-01-30T11:39:39.661Z"
   },
   {
    "duration": 42,
    "start_time": "2022-01-30T11:48:39.960Z"
   },
   {
    "duration": 241,
    "start_time": "2022-01-30T12:11:50.028Z"
   },
   {
    "duration": 304,
    "start_time": "2022-01-30T12:11:58.985Z"
   },
   {
    "duration": 247,
    "start_time": "2022-01-30T12:12:42.549Z"
   },
   {
    "duration": 45,
    "start_time": "2022-01-30T12:14:23.953Z"
   },
   {
    "duration": 44,
    "start_time": "2022-01-30T12:15:26.266Z"
   },
   {
    "duration": 4,
    "start_time": "2022-01-30T12:16:21.957Z"
   },
   {
    "duration": 496,
    "start_time": "2022-01-30T12:29:33.795Z"
   },
   {
    "duration": 6,
    "start_time": "2022-01-30T12:29:45.433Z"
   },
   {
    "duration": 11,
    "start_time": "2022-01-30T12:29:55.867Z"
   },
   {
    "duration": 19,
    "start_time": "2022-01-30T12:31:25.806Z"
   },
   {
    "duration": 44,
    "start_time": "2022-01-30T12:39:10.829Z"
   },
   {
    "duration": 373,
    "start_time": "2022-01-30T12:59:32.155Z"
   },
   {
    "duration": 267,
    "start_time": "2022-01-30T12:59:53.632Z"
   },
   {
    "duration": 7,
    "start_time": "2022-01-30T13:00:14.438Z"
   },
   {
    "duration": 270,
    "start_time": "2022-01-30T13:01:08.089Z"
   },
   {
    "duration": 245,
    "start_time": "2022-01-30T13:01:43.754Z"
   },
   {
    "duration": 24,
    "start_time": "2022-01-30T13:01:58.833Z"
   },
   {
    "duration": 54,
    "start_time": "2022-01-30T13:08:20.536Z"
   },
   {
    "duration": 13,
    "start_time": "2022-01-30T13:25:05.131Z"
   },
   {
    "duration": 24,
    "start_time": "2022-01-30T13:25:51.847Z"
   },
   {
    "duration": 43,
    "start_time": "2022-01-30T13:41:55.291Z"
   },
   {
    "duration": 4,
    "start_time": "2022-01-30T14:04:56.462Z"
   },
   {
    "duration": 77,
    "start_time": "2022-01-30T14:04:56.484Z"
   },
   {
    "duration": 13,
    "start_time": "2022-01-30T14:04:56.626Z"
   },
   {
    "duration": 833,
    "start_time": "2022-01-30T14:04:56.654Z"
   },
   {
    "duration": 18,
    "start_time": "2022-01-30T14:04:57.490Z"
   },
   {
    "duration": 25,
    "start_time": "2022-01-30T14:04:57.511Z"
   },
   {
    "duration": 48,
    "start_time": "2022-01-30T14:04:57.571Z"
   },
   {
    "duration": 12,
    "start_time": "2022-01-30T14:04:57.622Z"
   },
   {
    "duration": 38,
    "start_time": "2022-01-30T14:04:57.636Z"
   },
   {
    "duration": 13,
    "start_time": "2022-01-30T14:04:57.677Z"
   },
   {
    "duration": 11,
    "start_time": "2022-01-30T14:04:57.694Z"
   },
   {
    "duration": 5841,
    "start_time": "2022-01-30T14:04:57.708Z"
   },
   {
    "duration": 105,
    "start_time": "2022-01-30T14:05:03.552Z"
   },
   {
    "duration": -1582,
    "start_time": "2022-01-30T14:05:05.242Z"
   },
   {
    "duration": -1592,
    "start_time": "2022-01-30T14:05:05.253Z"
   },
   {
    "duration": -1637,
    "start_time": "2022-01-30T14:05:05.300Z"
   },
   {
    "duration": -1649,
    "start_time": "2022-01-30T14:05:05.314Z"
   },
   {
    "duration": -1660,
    "start_time": "2022-01-30T14:05:05.326Z"
   },
   {
    "duration": -1671,
    "start_time": "2022-01-30T14:05:05.338Z"
   },
   {
    "duration": -1681,
    "start_time": "2022-01-30T14:05:05.352Z"
   },
   {
    "duration": -1691,
    "start_time": "2022-01-30T14:05:05.365Z"
   },
   {
    "duration": 6,
    "start_time": "2022-01-30T14:07:39.537Z"
   },
   {
    "duration": 318,
    "start_time": "2022-01-30T14:08:56.402Z"
   },
   {
    "duration": 6,
    "start_time": "2022-01-30T14:09:26.331Z"
   },
   {
    "duration": 17,
    "start_time": "2022-01-30T14:09:28.126Z"
   },
   {
    "duration": 26,
    "start_time": "2022-01-30T14:09:31.323Z"
   },
   {
    "duration": 26,
    "start_time": "2022-01-30T14:09:33.530Z"
   },
   {
    "duration": 26,
    "start_time": "2022-01-30T14:09:35.539Z"
   },
   {
    "duration": 63,
    "start_time": "2022-01-30T14:09:45.983Z"
   },
   {
    "duration": 41,
    "start_time": "2022-01-30T14:09:54.982Z"
   },
   {
    "duration": 37,
    "start_time": "2022-01-30T14:10:05.426Z"
   },
   {
    "duration": 37,
    "start_time": "2022-01-30T14:10:11.726Z"
   },
   {
    "duration": 512,
    "start_time": "2022-06-19T12:32:44.192Z"
   },
   {
    "duration": 857,
    "start_time": "2022-06-19T12:33:24.350Z"
   },
   {
    "duration": 436,
    "start_time": "2022-06-19T14:48:05.653Z"
   },
   {
    "duration": 387,
    "start_time": "2022-06-19T14:48:08.454Z"
   },
   {
    "duration": 27,
    "start_time": "2022-06-19T14:49:08.146Z"
   },
   {
    "duration": 251,
    "start_time": "2022-06-19T14:50:09.533Z"
   },
   {
    "duration": 207,
    "start_time": "2022-06-19T14:50:48.800Z"
   },
   {
    "duration": 15,
    "start_time": "2022-06-19T14:51:06.893Z"
   },
   {
    "duration": 11,
    "start_time": "2022-06-19T14:51:30.975Z"
   },
   {
    "duration": 19,
    "start_time": "2022-06-19T14:52:36.959Z"
   },
   {
    "duration": 30,
    "start_time": "2022-06-19T14:52:45.647Z"
   },
   {
    "duration": 7,
    "start_time": "2022-06-19T14:54:39.542Z"
   },
   {
    "duration": 8,
    "start_time": "2022-06-19T14:54:53.286Z"
   },
   {
    "duration": 8,
    "start_time": "2022-06-19T14:55:09.048Z"
   },
   {
    "duration": 3706,
    "start_time": "2022-06-19T14:56:19.754Z"
   },
   {
    "duration": 4,
    "start_time": "2022-06-19T14:57:10.100Z"
   },
   {
    "duration": 12,
    "start_time": "2022-06-19T14:57:15.214Z"
   },
   {
    "duration": 18,
    "start_time": "2022-06-19T14:57:44.430Z"
   },
   {
    "duration": 23,
    "start_time": "2022-06-19T14:58:13.060Z"
   },
   {
    "duration": 19,
    "start_time": "2022-06-19T14:58:19.496Z"
   },
   {
    "duration": 10,
    "start_time": "2022-06-19T15:00:02.802Z"
   },
   {
    "duration": 14,
    "start_time": "2022-06-19T15:01:14.292Z"
   },
   {
    "duration": 71,
    "start_time": "2022-06-19T15:06:27.466Z"
   },
   {
    "duration": 24,
    "start_time": "2022-06-19T15:07:21.012Z"
   },
   {
    "duration": 36,
    "start_time": "2022-06-19T15:07:41.327Z"
   },
   {
    "duration": 31,
    "start_time": "2022-06-19T15:07:47.792Z"
   }
  ],
  "kernelspec": {
   "display_name": "Python 3 (ipykernel)",
   "language": "python",
   "name": "python3"
  },
  "language_info": {
   "codemirror_mode": {
    "name": "ipython",
    "version": 3
   },
   "file_extension": ".py",
   "mimetype": "text/x-python",
   "name": "python",
   "nbconvert_exporter": "python",
   "pygments_lexer": "ipython3",
   "version": "3.9.5"
  },
  "toc": {
   "base_numbering": 1,
   "nav_menu": {},
   "number_sections": false,
   "sideBar": true,
   "skip_h1_title": false,
   "title_cell": "Table of Contents",
   "title_sidebar": "Contents",
   "toc_cell": false,
   "toc_position": {
    "height": "calc(100% - 180px)",
    "left": "10px",
    "top": "150px",
    "width": "165px"
   },
   "toc_section_display": true,
   "toc_window_display": true
  }
 },
 "nbformat": 4,
 "nbformat_minor": 2
}
