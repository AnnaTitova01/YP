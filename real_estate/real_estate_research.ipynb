{
 "cells": [
  {
   "cell_type": "markdown",
   "metadata": {},
   "source": [
    "# Исследование объявлений о продаже квартир\n",
    "\n",
    "В вашем распоряжении данные сервиса Яндекс.Недвижимость — архив объявлений о продаже квартир в Санкт-Петербурге и соседних населённых пунктах за несколько лет. Нужно научиться определять рыночную стоимость объектов недвижимости. Задача — установить параметры. Это позволит построить автоматизированную систему: она отследит аномалии и мошенническую деятельность. \n",
    "\n",
    "По каждой квартире на продажу доступны два вида данных. Первые вписаны пользователем, вторые получены автоматически на основе картографических данных. Например, расстояние до центра, аэропорта, ближайшего парка и водоёма. "
   ]
  },
  {
   "cell_type": "markdown",
   "metadata": {},
   "source": [
    "## Изучение данных из файла"
   ]
  },
  {
   "cell_type": "markdown",
   "metadata": {},
   "source": [
    "Импорт библиотек"
   ]
  },
  {
   "cell_type": "code",
   "execution_count": 63,
   "metadata": {},
   "outputs": [],
   "source": [
    "import pandas as pd\n",
    "import matplotlib.pyplot as plt"
   ]
  },
  {
   "cell_type": "markdown",
   "metadata": {},
   "source": [
    "Чтение файла"
   ]
  },
  {
   "cell_type": "code",
   "execution_count": 64,
   "metadata": {},
   "outputs": [
    {
     "name": "stdout",
     "output_type": "stream",
     "text": [
      "<class 'pandas.core.frame.DataFrame'>\n",
      "RangeIndex: 23699 entries, 0 to 23698\n",
      "Data columns (total 1 columns):\n",
      " #   Column                                                                                                                                                                                                                                                                                           Non-Null Count  Dtype \n",
      "---  ------                                                                                                                                                                                                                                                                                           --------------  ----- \n",
      " 0   total_images\tlast_price\ttotal_area\tfirst_day_exposition\trooms\tceiling_height\tfloors_total\tliving_area\tfloor\tis_apartment\tstudio\topen_plan\tkitchen_area\tbalcony\tlocality_name\tairports_nearest\tcityCenters_nearest\tparks_around3000\tparks_nearest\tponds_around3000\tponds_nearest\tdays_exposition  23699 non-null  object\n",
      "dtypes: object(1)\n",
      "memory usage: 185.3+ KB\n"
     ]
    },
    {
     "data": {
      "text/html": [
       "<div>\n",
       "<style scoped>\n",
       "    .dataframe tbody tr th:only-of-type {\n",
       "        vertical-align: middle;\n",
       "    }\n",
       "\n",
       "    .dataframe tbody tr th {\n",
       "        vertical-align: top;\n",
       "    }\n",
       "\n",
       "    .dataframe thead th {\n",
       "        text-align: right;\n",
       "    }\n",
       "</style>\n",
       "<table border=\"1\" class=\"dataframe\">\n",
       "  <thead>\n",
       "    <tr style=\"text-align: right;\">\n",
       "      <th></th>\n",
       "      <th>total_images\\tlast_price\\ttotal_area\\tfirst_day_exposition\\trooms\\tceiling_height\\tfloors_total\\tliving_area\\tfloor\\tis_apartment\\tstudio\\topen_plan\\tkitchen_area\\tbalcony\\tlocality_name\\tairports_nearest\\tcityCenters_nearest\\tparks_around3000\\tparks_nearest\\tponds_around3000\\tponds_nearest\\tdays_exposition</th>\n",
       "    </tr>\n",
       "  </thead>\n",
       "  <tbody>\n",
       "    <tr>\n",
       "      <th>0</th>\n",
       "      <td>20\\t13000000.0\\t108.0\\t2019-03-07T00:00:00\\t3\\...</td>\n",
       "    </tr>\n",
       "    <tr>\n",
       "      <th>1</th>\n",
       "      <td>7\\t3350000.0\\t40.4\\t2018-12-04T00:00:00\\t1\\t\\t...</td>\n",
       "    </tr>\n",
       "    <tr>\n",
       "      <th>2</th>\n",
       "      <td>10\\t5196000.0\\t56.0\\t2015-08-20T00:00:00\\t2\\t\\...</td>\n",
       "    </tr>\n",
       "    <tr>\n",
       "      <th>3</th>\n",
       "      <td>0\\t64900000.0\\t159.0\\t2015-07-24T00:00:00\\t3\\t...</td>\n",
       "    </tr>\n",
       "    <tr>\n",
       "      <th>4</th>\n",
       "      <td>2\\t10000000.0\\t100.0\\t2018-06-19T00:00:00\\t2\\t...</td>\n",
       "    </tr>\n",
       "  </tbody>\n",
       "</table>\n",
       "</div>"
      ],
      "text/plain": [
       "  total_images\\tlast_price\\ttotal_area\\tfirst_day_exposition\\trooms\\tceiling_height\\tfloors_total\\tliving_area\\tfloor\\tis_apartment\\tstudio\\topen_plan\\tkitchen_area\\tbalcony\\tlocality_name\\tairports_nearest\\tcityCenters_nearest\\tparks_around3000\\tparks_nearest\\tponds_around3000\\tponds_nearest\\tdays_exposition\n",
       "0  20\\t13000000.0\\t108.0\\t2019-03-07T00:00:00\\t3\\...                                                                                                                                                                                                                                                                  \n",
       "1  7\\t3350000.0\\t40.4\\t2018-12-04T00:00:00\\t1\\t\\t...                                                                                                                                                                                                                                                                  \n",
       "2  10\\t5196000.0\\t56.0\\t2015-08-20T00:00:00\\t2\\t\\...                                                                                                                                                                                                                                                                  \n",
       "3  0\\t64900000.0\\t159.0\\t2015-07-24T00:00:00\\t3\\t...                                                                                                                                                                                                                                                                  \n",
       "4  2\\t10000000.0\\t100.0\\t2018-06-19T00:00:00\\t2\\t...                                                                                                                                                                                                                                                                  "
      ]
     },
     "execution_count": 64,
     "metadata": {},
     "output_type": "execute_result"
    }
   ],
   "source": [
    "df = pd.read_csv('real_estate_data.csv')\n",
    "df.info()\n",
    "df.head()"
   ]
  },
  {
   "cell_type": "markdown",
   "metadata": {},
   "source": [
    "### Вывод"
   ]
  },
  {
   "cell_type": "markdown",
   "metadata": {},
   "source": [
    "В датасете более 20т строк, однако видно, что строки \"склеены\" и все в одной колонке. Поэтому сначала я добавлю sep, затем изучу дубликаты и пропуски и обработаю их"
   ]
  },
  {
   "cell_type": "markdown",
   "metadata": {},
   "source": [
    "## Предобработка данных"
   ]
  },
  {
   "cell_type": "code",
   "execution_count": 65,
   "metadata": {
    "scrolled": true
   },
   "outputs": [
    {
     "data": {
      "text/html": [
       "<div>\n",
       "<style scoped>\n",
       "    .dataframe tbody tr th:only-of-type {\n",
       "        vertical-align: middle;\n",
       "    }\n",
       "\n",
       "    .dataframe tbody tr th {\n",
       "        vertical-align: top;\n",
       "    }\n",
       "\n",
       "    .dataframe thead th {\n",
       "        text-align: right;\n",
       "    }\n",
       "</style>\n",
       "<table border=\"1\" class=\"dataframe\">\n",
       "  <thead>\n",
       "    <tr style=\"text-align: right;\">\n",
       "      <th></th>\n",
       "      <th>total_images</th>\n",
       "      <th>last_price</th>\n",
       "      <th>total_area</th>\n",
       "      <th>first_day_exposition</th>\n",
       "      <th>rooms</th>\n",
       "      <th>ceiling_height</th>\n",
       "      <th>floors_total</th>\n",
       "      <th>living_area</th>\n",
       "      <th>floor</th>\n",
       "      <th>is_apartment</th>\n",
       "      <th>...</th>\n",
       "      <th>kitchen_area</th>\n",
       "      <th>balcony</th>\n",
       "      <th>locality_name</th>\n",
       "      <th>airports_nearest</th>\n",
       "      <th>cityCenters_nearest</th>\n",
       "      <th>parks_around3000</th>\n",
       "      <th>parks_nearest</th>\n",
       "      <th>ponds_around3000</th>\n",
       "      <th>ponds_nearest</th>\n",
       "      <th>days_exposition</th>\n",
       "    </tr>\n",
       "  </thead>\n",
       "  <tbody>\n",
       "    <tr>\n",
       "      <th>0</th>\n",
       "      <td>20</td>\n",
       "      <td>13000000.0</td>\n",
       "      <td>108.0</td>\n",
       "      <td>2019-03-07T00:00:00</td>\n",
       "      <td>3</td>\n",
       "      <td>2.70</td>\n",
       "      <td>16.0</td>\n",
       "      <td>51.0</td>\n",
       "      <td>8</td>\n",
       "      <td>NaN</td>\n",
       "      <td>...</td>\n",
       "      <td>25.0</td>\n",
       "      <td>NaN</td>\n",
       "      <td>Санкт-Петербург</td>\n",
       "      <td>18863.0</td>\n",
       "      <td>16028.0</td>\n",
       "      <td>1.0</td>\n",
       "      <td>482.0</td>\n",
       "      <td>2.0</td>\n",
       "      <td>755.0</td>\n",
       "      <td>NaN</td>\n",
       "    </tr>\n",
       "    <tr>\n",
       "      <th>1</th>\n",
       "      <td>7</td>\n",
       "      <td>3350000.0</td>\n",
       "      <td>40.4</td>\n",
       "      <td>2018-12-04T00:00:00</td>\n",
       "      <td>1</td>\n",
       "      <td>NaN</td>\n",
       "      <td>11.0</td>\n",
       "      <td>18.6</td>\n",
       "      <td>1</td>\n",
       "      <td>NaN</td>\n",
       "      <td>...</td>\n",
       "      <td>11.0</td>\n",
       "      <td>2.0</td>\n",
       "      <td>посёлок Шушары</td>\n",
       "      <td>12817.0</td>\n",
       "      <td>18603.0</td>\n",
       "      <td>0.0</td>\n",
       "      <td>NaN</td>\n",
       "      <td>0.0</td>\n",
       "      <td>NaN</td>\n",
       "      <td>81.0</td>\n",
       "    </tr>\n",
       "    <tr>\n",
       "      <th>2</th>\n",
       "      <td>10</td>\n",
       "      <td>5196000.0</td>\n",
       "      <td>56.0</td>\n",
       "      <td>2015-08-20T00:00:00</td>\n",
       "      <td>2</td>\n",
       "      <td>NaN</td>\n",
       "      <td>5.0</td>\n",
       "      <td>34.3</td>\n",
       "      <td>4</td>\n",
       "      <td>NaN</td>\n",
       "      <td>...</td>\n",
       "      <td>8.3</td>\n",
       "      <td>0.0</td>\n",
       "      <td>Санкт-Петербург</td>\n",
       "      <td>21741.0</td>\n",
       "      <td>13933.0</td>\n",
       "      <td>1.0</td>\n",
       "      <td>90.0</td>\n",
       "      <td>2.0</td>\n",
       "      <td>574.0</td>\n",
       "      <td>558.0</td>\n",
       "    </tr>\n",
       "    <tr>\n",
       "      <th>3</th>\n",
       "      <td>0</td>\n",
       "      <td>64900000.0</td>\n",
       "      <td>159.0</td>\n",
       "      <td>2015-07-24T00:00:00</td>\n",
       "      <td>3</td>\n",
       "      <td>NaN</td>\n",
       "      <td>14.0</td>\n",
       "      <td>NaN</td>\n",
       "      <td>9</td>\n",
       "      <td>NaN</td>\n",
       "      <td>...</td>\n",
       "      <td>NaN</td>\n",
       "      <td>0.0</td>\n",
       "      <td>Санкт-Петербург</td>\n",
       "      <td>28098.0</td>\n",
       "      <td>6800.0</td>\n",
       "      <td>2.0</td>\n",
       "      <td>84.0</td>\n",
       "      <td>3.0</td>\n",
       "      <td>234.0</td>\n",
       "      <td>424.0</td>\n",
       "    </tr>\n",
       "    <tr>\n",
       "      <th>4</th>\n",
       "      <td>2</td>\n",
       "      <td>10000000.0</td>\n",
       "      <td>100.0</td>\n",
       "      <td>2018-06-19T00:00:00</td>\n",
       "      <td>2</td>\n",
       "      <td>3.03</td>\n",
       "      <td>14.0</td>\n",
       "      <td>32.0</td>\n",
       "      <td>13</td>\n",
       "      <td>NaN</td>\n",
       "      <td>...</td>\n",
       "      <td>41.0</td>\n",
       "      <td>NaN</td>\n",
       "      <td>Санкт-Петербург</td>\n",
       "      <td>31856.0</td>\n",
       "      <td>8098.0</td>\n",
       "      <td>2.0</td>\n",
       "      <td>112.0</td>\n",
       "      <td>1.0</td>\n",
       "      <td>48.0</td>\n",
       "      <td>121.0</td>\n",
       "    </tr>\n",
       "  </tbody>\n",
       "</table>\n",
       "<p>5 rows × 22 columns</p>\n",
       "</div>"
      ],
      "text/plain": [
       "   total_images  last_price  total_area first_day_exposition  rooms  \\\n",
       "0            20  13000000.0       108.0  2019-03-07T00:00:00      3   \n",
       "1             7   3350000.0        40.4  2018-12-04T00:00:00      1   \n",
       "2            10   5196000.0        56.0  2015-08-20T00:00:00      2   \n",
       "3             0  64900000.0       159.0  2015-07-24T00:00:00      3   \n",
       "4             2  10000000.0       100.0  2018-06-19T00:00:00      2   \n",
       "\n",
       "   ceiling_height  floors_total  living_area  floor is_apartment  ...  \\\n",
       "0            2.70          16.0         51.0      8          NaN  ...   \n",
       "1             NaN          11.0         18.6      1          NaN  ...   \n",
       "2             NaN           5.0         34.3      4          NaN  ...   \n",
       "3             NaN          14.0          NaN      9          NaN  ...   \n",
       "4            3.03          14.0         32.0     13          NaN  ...   \n",
       "\n",
       "   kitchen_area  balcony    locality_name  airports_nearest  \\\n",
       "0          25.0      NaN  Санкт-Петербург           18863.0   \n",
       "1          11.0      2.0   посёлок Шушары           12817.0   \n",
       "2           8.3      0.0  Санкт-Петербург           21741.0   \n",
       "3           NaN      0.0  Санкт-Петербург           28098.0   \n",
       "4          41.0      NaN  Санкт-Петербург           31856.0   \n",
       "\n",
       "  cityCenters_nearest  parks_around3000  parks_nearest  ponds_around3000  \\\n",
       "0             16028.0               1.0          482.0               2.0   \n",
       "1             18603.0               0.0            NaN               0.0   \n",
       "2             13933.0               1.0           90.0               2.0   \n",
       "3              6800.0               2.0           84.0               3.0   \n",
       "4              8098.0               2.0          112.0               1.0   \n",
       "\n",
       "   ponds_nearest  days_exposition  \n",
       "0          755.0              NaN  \n",
       "1            NaN             81.0  \n",
       "2          574.0            558.0  \n",
       "3          234.0            424.0  \n",
       "4           48.0            121.0  \n",
       "\n",
       "[5 rows x 22 columns]"
      ]
     },
     "execution_count": 65,
     "metadata": {},
     "output_type": "execute_result"
    }
   ],
   "source": [
    "df = pd.read_csv('real_estate_data.csv', sep='\\t')\n",
    "df.head()"
   ]
  },
  {
   "cell_type": "code",
   "execution_count": 66,
   "metadata": {},
   "outputs": [
    {
     "name": "stdout",
     "output_type": "stream",
     "text": [
      "<class 'pandas.core.frame.DataFrame'>\n",
      "RangeIndex: 23699 entries, 0 to 23698\n",
      "Data columns (total 22 columns):\n",
      " #   Column                Non-Null Count  Dtype  \n",
      "---  ------                --------------  -----  \n",
      " 0   total_images          23699 non-null  int64  \n",
      " 1   last_price            23699 non-null  float64\n",
      " 2   total_area            23699 non-null  float64\n",
      " 3   first_day_exposition  23699 non-null  object \n",
      " 4   rooms                 23699 non-null  int64  \n",
      " 5   ceiling_height        14504 non-null  float64\n",
      " 6   floors_total          23613 non-null  float64\n",
      " 7   living_area           21796 non-null  float64\n",
      " 8   floor                 23699 non-null  int64  \n",
      " 9   is_apartment          2775 non-null   object \n",
      " 10  studio                23699 non-null  bool   \n",
      " 11  open_plan             23699 non-null  bool   \n",
      " 12  kitchen_area          21421 non-null  float64\n",
      " 13  balcony               12180 non-null  float64\n",
      " 14  locality_name         23650 non-null  object \n",
      " 15  airports_nearest      18157 non-null  float64\n",
      " 16  cityCenters_nearest   18180 non-null  float64\n",
      " 17  parks_around3000      18181 non-null  float64\n",
      " 18  parks_nearest         8079 non-null   float64\n",
      " 19  ponds_around3000      18181 non-null  float64\n",
      " 20  ponds_nearest         9110 non-null   float64\n",
      " 21  days_exposition       20518 non-null  float64\n",
      "dtypes: bool(2), float64(14), int64(3), object(3)\n",
      "memory usage: 3.7+ MB\n"
     ]
    }
   ],
   "source": [
    "df.info()"
   ]
  },
  {
   "cell_type": "markdown",
   "metadata": {},
   "source": [
    "Теперь датасет в \"читаемом\" виде. Всего 22 колонки. Разные типы данных, к примеру в колонках этаж и всего этажей. Их нужно привести к одному. Десятые доли можно откинуть, для этажа подходят только целые числа. Также я бы изменила типы данных в тех столбцах, с которыми будут производиться математические операции."
   ]
  },
  {
   "cell_type": "markdown",
   "metadata": {},
   "source": [
    "Проверю на полные дубликаты"
   ]
  },
  {
   "cell_type": "code",
   "execution_count": 67,
   "metadata": {},
   "outputs": [
    {
     "data": {
      "text/plain": [
       "0"
      ]
     },
     "execution_count": 67,
     "metadata": {},
     "output_type": "execute_result"
    }
   ],
   "source": [
    "df.duplicated().sum()"
   ]
  },
  {
   "cell_type": "markdown",
   "metadata": {},
   "source": [
    "Проверка на дубликаты показала, что их нет"
   ]
  },
  {
   "cell_type": "code",
   "execution_count": 68,
   "metadata": {},
   "outputs": [
    {
     "data": {
      "text/plain": [
       "total_images                0\n",
       "last_price                  0\n",
       "total_area                  0\n",
       "first_day_exposition        0\n",
       "rooms                       0\n",
       "ceiling_height           9195\n",
       "floors_total               86\n",
       "living_area              1903\n",
       "floor                       0\n",
       "is_apartment            20924\n",
       "studio                      0\n",
       "open_plan                   0\n",
       "kitchen_area             2278\n",
       "balcony                 11519\n",
       "locality_name              49\n",
       "airports_nearest         5542\n",
       "cityCenters_nearest      5519\n",
       "parks_around3000         5518\n",
       "parks_nearest           15620\n",
       "ponds_around3000         5518\n",
       "ponds_nearest           14589\n",
       "days_exposition          3181\n",
       "dtype: int64"
      ]
     },
     "execution_count": 68,
     "metadata": {},
     "output_type": "execute_result"
    }
   ],
   "source": [
    "df.isna().sum()"
   ]
  },
  {
   "cell_type": "markdown",
   "metadata": {},
   "source": [
    "Методом .isna() нахожу пропуски в таблице. Во многих столбцах есть пропуски. Предположу, что при подаче объявления люди не заполняют все графы. Какие-то, вероятно, можно заполнить. Я заполню пропуски в столбце \"балкон\" 0, предполагаю, что если человек не поставил ничего, то значит балкона нет. Есть пропуски в столбце \"всего этажей\". Их 86 (это около 0,3% данных). В исследовании у меня есть задача найти взаимосвязть этажности и цены, и значения этого столбца нужны будут для определения последнего этажа. Поэтому здесть я заменю на среднее, полагаю 0,3 данных не повлияют существенно на исследование. Есть также очень много пропусков (почти 90%) в столбце \"апартаменты\". Думаю, люди почти никогда не заполняют эту графу всвязи с тем, что насколько мне известно на законодательном уровне не совсем ясно, что же все таки считать апартаментами. Однако с этими пропусками я ничего не буду делать, оставлю их, так как в исследовании нет задачи найти взаимосвязи с апартаментами."
   ]
  },
  {
   "cell_type": "markdown",
   "metadata": {},
   "source": [
    "Изменю тип данных и заполню пропуски"
   ]
  },
  {
   "cell_type": "code",
   "execution_count": 69,
   "metadata": {},
   "outputs": [
    {
     "data": {
      "text/plain": [
       "total_images                0\n",
       "last_price                  0\n",
       "total_area                  0\n",
       "first_day_exposition        0\n",
       "rooms                       0\n",
       "ceiling_height           9195\n",
       "floors_total               86\n",
       "living_area              1903\n",
       "floor                       0\n",
       "is_apartment            20924\n",
       "studio                      0\n",
       "open_plan                   0\n",
       "kitchen_area             2278\n",
       "balcony                     0\n",
       "locality_name              49\n",
       "airports_nearest         5542\n",
       "cityCenters_nearest      5519\n",
       "parks_around3000         5518\n",
       "parks_nearest           15620\n",
       "ponds_around3000         5518\n",
       "ponds_nearest           14589\n",
       "days_exposition          3181\n",
       "dtype: int64"
      ]
     },
     "execution_count": 69,
     "metadata": {},
     "output_type": "execute_result"
    }
   ],
   "source": [
    "df['balcony'] = df['balcony'].fillna(0).astype(int)\n",
    "df['last_price'] = df['last_price'].astype(int)\n",
    "df['total_area'] = df['total_area'].astype(int)\n",
    "df.isna().sum()\n"
   ]
  },
  {
   "cell_type": "code",
   "execution_count": 70,
   "metadata": {},
   "outputs": [
    {
     "data": {
      "text/plain": [
       "0"
      ]
     },
     "execution_count": 70,
     "metadata": {},
     "output_type": "execute_result"
    }
   ],
   "source": [
    "df['floors_total'] = df['floors_total'].fillna(df['floor'] + 1)\n",
    "df['floors_total'].isna().sum()"
   ]
  },
  {
   "cell_type": "markdown",
   "metadata": {},
   "source": [
    "Пропуски в колонке балкона заполню значением из колонки этаж +1. Таким образом, значение из колонки этаж не попадет ни в категорию \"последний\" , ни в \"первый\" этаж, и не будет сильно искажать результаты исследования, ведь большинство квартир находится в категории \"другой\" (этаж)"
   ]
  },
  {
   "cell_type": "code",
   "execution_count": 71,
   "metadata": {},
   "outputs": [],
   "source": [
    "df['ceiling_height'].value_counts()\n",
    "df['ceiling_height'].describe()\n",
    "df['ceiling_height'] = df.groupby('floors_total')['ceiling_height'].apply(lambda x: x.fillna(x.mean()))\n",
    "#df[df['ceiling_height'].isna()]\n",
    "#df['floors_total'].value_counts()"
   ]
  },
  {
   "cell_type": "markdown",
   "metadata": {},
   "source": [
    "В колонке высота потолков пропусков 9195. Методом value_counts() изучу значения в этой колонке, и более внимательно посмотрю методом describe(). Основная часть значений находится в диапазоне от 2.5 до 3 м. Есть выбивающиеся значения, как то 27.5 или 100 метров. Их немного, но я, пожалуй, их \"срежу\", когда буду работать с аномальными значениями. Медианное значение - 2.65, а среднее - 2.77. На основе этой картины я принимаю решение заполнить пропуски средним значением, применив группировку по этажности дома. После заполнения пропуск всего один и я решила посмотреть на него - это объявление о квартире на 32 этаже, где всего 33. Полагаю, это заполненный ранее пропуск в колонке \"всего этажей\" и для него, возможно, нет среднего значения по этажу. Методом value_counts() я проверяю уникальные значения - действительно объявление с таким количеством этажей только одно. Оставляю этот пропуск."
   ]
  },
  {
   "cell_type": "markdown",
   "metadata": {},
   "source": [
    "Пропуски в колонках \"площадь кухни\" и \"жилая\" буду заполнять следующим образом:\n",
    "- В колонке \"студия\" и \"общая площадь\" нет пропусков. Следовательно, пропуски в площади кухни в квартирах-студиях можно заполнить нулем (это 149 пропусков)\n",
    "- Попробую расчитать площадь жилую как разницу общей и кухни\n",
    "- Пропуски в столбце площадь кухни заполню медианным значением с группировкой по общей площади\n",
    "Полагаю, медианное значение не заполнилось там, где его нет для этой группы, так как не из чего было его рассчитать (значения NaN). Я оставляю эти пропуски: 17 строк из 23 тыс не должны повлиять на результаты исследования"
   ]
  },
  {
   "cell_type": "code",
   "execution_count": 72,
   "metadata": {},
   "outputs": [
    {
     "data": {
      "text/plain": [
       "total_images                0\n",
       "last_price                  0\n",
       "total_area                  0\n",
       "first_day_exposition        0\n",
       "rooms                       0\n",
       "ceiling_height              1\n",
       "floors_total                0\n",
       "living_area                12\n",
       "floor                       0\n",
       "is_apartment            20924\n",
       "studio                      0\n",
       "open_plan                   0\n",
       "kitchen_area               17\n",
       "balcony                     0\n",
       "locality_name              49\n",
       "airports_nearest         5542\n",
       "cityCenters_nearest      5519\n",
       "parks_around3000         5518\n",
       "parks_nearest           15620\n",
       "ponds_around3000         5518\n",
       "ponds_nearest           14589\n",
       "days_exposition          3181\n",
       "dtype: int64"
      ]
     },
     "execution_count": 72,
     "metadata": {},
     "output_type": "execute_result"
    }
   ],
   "source": [
    "df.loc[df['studio'] == True, 'kitchen_area'] = df.loc[df['studio'] == True, 'kitchen_area'].fillna(0)\n",
    "\n",
    "df_transformed = df.groupby('total_area')['kitchen_area'].transform('median')\n",
    "df['kitchen_area'] = df['kitchen_area'].fillna(df_transformed)\n",
    "\n",
    "df['living_area'] = df['living_area'].fillna(df['total_area'] - df['kitchen_area'])\n",
    "df.isna().sum()\n"
   ]
  },
  {
   "cell_type": "code",
   "execution_count": 73,
   "metadata": {},
   "outputs": [
    {
     "data": {
      "text/plain": [
       "5435"
      ]
     },
     "execution_count": 73,
     "metadata": {},
     "output_type": "execute_result"
    }
   ],
   "source": [
    "df['cityCenters_nearest'].describe()\n",
    "df['cityCenters_nearest'] = df.groupby('locality_name')['cityCenters_nearest'].apply(lambda x: x.fillna(x.mean()))\n",
    "\n",
    "df['cityCenters_nearest'].isna().sum()"
   ]
  },
  {
   "cell_type": "markdown",
   "metadata": {},
   "source": [
    "В колонке расстояние до центра 5519 пропусков. Изучаю значения в стобце методом describe(). Буду заполнять их значениями с группировкой по названию места (locality_name). Таким образом удалось заполнить лишь 84 пропуска из более чем 5 тыс. Не уверена насчет оставшихся - заполнить почти 1/4 данных средним или медианой, возможно, будет некорректно. "
   ]
  },
  {
   "cell_type": "code",
   "execution_count": 74,
   "metadata": {},
   "outputs": [],
   "source": [
    "df['floors_total'] = df['floors_total'].astype(int)\n",
    "df['first_day_exposition'] = pd.to_datetime(df['first_day_exposition'], format='%Y-%m-%d %H:%M')\n",
    "#df['days_exposition'] = df['days_exposition'].astype('float32').astype('int64')"
   ]
  },
  {
   "cell_type": "markdown",
   "metadata": {},
   "source": [
    "В шаге Предобработка данных таблица была приведена в \"читаемый\" вид, была проверена на дубликаты и пропуски. Пропуски в столбцах всего этажей и балкон были заполнены. Также были заполнены пропуски в столбцах жилая площадь, площадь кухни, высота потолков. Уже известно, что со значениями столбцов цена, площадь я буду производить математические операции, поэтому во избежание ошибок привожу их к целочисленному типу. Стоимость за квадратный метр исчисляется в тысячах, порой сотней тысяч рублей, поэтому \"копейками\" можно пренебречь. Также перевожу в целочисленный тип данных знаяени столбца \"всего этажей\", а значения столбца \"дата размещения\" в удобный для обработки вид даты."
   ]
  },
  {
   "cell_type": "markdown",
   "metadata": {},
   "source": [
    "## Расчёты и добавление результатов в таблицу"
   ]
  },
  {
   "cell_type": "markdown",
   "metadata": {},
   "source": [
    "Рассчитываю стоимость за квадратный метр и добавляю в таблицу"
   ]
  },
  {
   "cell_type": "code",
   "execution_count": 75,
   "metadata": {},
   "outputs": [
    {
     "data": {
      "text/html": [
       "<div>\n",
       "<style scoped>\n",
       "    .dataframe tbody tr th:only-of-type {\n",
       "        vertical-align: middle;\n",
       "    }\n",
       "\n",
       "    .dataframe tbody tr th {\n",
       "        vertical-align: top;\n",
       "    }\n",
       "\n",
       "    .dataframe thead th {\n",
       "        text-align: right;\n",
       "    }\n",
       "</style>\n",
       "<table border=\"1\" class=\"dataframe\">\n",
       "  <thead>\n",
       "    <tr style=\"text-align: right;\">\n",
       "      <th></th>\n",
       "      <th>total_images</th>\n",
       "      <th>last_price</th>\n",
       "      <th>total_area</th>\n",
       "      <th>first_day_exposition</th>\n",
       "      <th>rooms</th>\n",
       "      <th>ceiling_height</th>\n",
       "      <th>floors_total</th>\n",
       "      <th>living_area</th>\n",
       "      <th>floor</th>\n",
       "      <th>is_apartment</th>\n",
       "      <th>...</th>\n",
       "      <th>balcony</th>\n",
       "      <th>locality_name</th>\n",
       "      <th>airports_nearest</th>\n",
       "      <th>cityCenters_nearest</th>\n",
       "      <th>parks_around3000</th>\n",
       "      <th>parks_nearest</th>\n",
       "      <th>ponds_around3000</th>\n",
       "      <th>ponds_nearest</th>\n",
       "      <th>days_exposition</th>\n",
       "      <th>price_per_sqm</th>\n",
       "    </tr>\n",
       "  </thead>\n",
       "  <tbody>\n",
       "    <tr>\n",
       "      <th>0</th>\n",
       "      <td>20</td>\n",
       "      <td>13000000</td>\n",
       "      <td>108</td>\n",
       "      <td>2019-03-07</td>\n",
       "      <td>3</td>\n",
       "      <td>2.700000</td>\n",
       "      <td>16</td>\n",
       "      <td>51.0</td>\n",
       "      <td>8</td>\n",
       "      <td>NaN</td>\n",
       "      <td>...</td>\n",
       "      <td>0</td>\n",
       "      <td>Санкт-Петербург</td>\n",
       "      <td>18863.0</td>\n",
       "      <td>16028.0</td>\n",
       "      <td>1.0</td>\n",
       "      <td>482.0</td>\n",
       "      <td>2.0</td>\n",
       "      <td>755.0</td>\n",
       "      <td>NaN</td>\n",
       "      <td>120370.370370</td>\n",
       "    </tr>\n",
       "    <tr>\n",
       "      <th>1</th>\n",
       "      <td>7</td>\n",
       "      <td>3350000</td>\n",
       "      <td>40</td>\n",
       "      <td>2018-12-04</td>\n",
       "      <td>1</td>\n",
       "      <td>2.782385</td>\n",
       "      <td>11</td>\n",
       "      <td>18.6</td>\n",
       "      <td>1</td>\n",
       "      <td>NaN</td>\n",
       "      <td>...</td>\n",
       "      <td>2</td>\n",
       "      <td>посёлок Шушары</td>\n",
       "      <td>12817.0</td>\n",
       "      <td>18603.0</td>\n",
       "      <td>0.0</td>\n",
       "      <td>NaN</td>\n",
       "      <td>0.0</td>\n",
       "      <td>NaN</td>\n",
       "      <td>81.0</td>\n",
       "      <td>83750.000000</td>\n",
       "    </tr>\n",
       "    <tr>\n",
       "      <th>2</th>\n",
       "      <td>10</td>\n",
       "      <td>5196000</td>\n",
       "      <td>56</td>\n",
       "      <td>2015-08-20</td>\n",
       "      <td>2</td>\n",
       "      <td>2.793193</td>\n",
       "      <td>5</td>\n",
       "      <td>34.3</td>\n",
       "      <td>4</td>\n",
       "      <td>NaN</td>\n",
       "      <td>...</td>\n",
       "      <td>0</td>\n",
       "      <td>Санкт-Петербург</td>\n",
       "      <td>21741.0</td>\n",
       "      <td>13933.0</td>\n",
       "      <td>1.0</td>\n",
       "      <td>90.0</td>\n",
       "      <td>2.0</td>\n",
       "      <td>574.0</td>\n",
       "      <td>558.0</td>\n",
       "      <td>92785.714286</td>\n",
       "    </tr>\n",
       "    <tr>\n",
       "      <th>3</th>\n",
       "      <td>0</td>\n",
       "      <td>64900000</td>\n",
       "      <td>159</td>\n",
       "      <td>2015-07-24</td>\n",
       "      <td>3</td>\n",
       "      <td>2.731545</td>\n",
       "      <td>14</td>\n",
       "      <td>144.0</td>\n",
       "      <td>9</td>\n",
       "      <td>NaN</td>\n",
       "      <td>...</td>\n",
       "      <td>0</td>\n",
       "      <td>Санкт-Петербург</td>\n",
       "      <td>28098.0</td>\n",
       "      <td>6800.0</td>\n",
       "      <td>2.0</td>\n",
       "      <td>84.0</td>\n",
       "      <td>3.0</td>\n",
       "      <td>234.0</td>\n",
       "      <td>424.0</td>\n",
       "      <td>408176.100629</td>\n",
       "    </tr>\n",
       "    <tr>\n",
       "      <th>4</th>\n",
       "      <td>2</td>\n",
       "      <td>10000000</td>\n",
       "      <td>100</td>\n",
       "      <td>2018-06-19</td>\n",
       "      <td>2</td>\n",
       "      <td>3.030000</td>\n",
       "      <td>14</td>\n",
       "      <td>32.0</td>\n",
       "      <td>13</td>\n",
       "      <td>NaN</td>\n",
       "      <td>...</td>\n",
       "      <td>0</td>\n",
       "      <td>Санкт-Петербург</td>\n",
       "      <td>31856.0</td>\n",
       "      <td>8098.0</td>\n",
       "      <td>2.0</td>\n",
       "      <td>112.0</td>\n",
       "      <td>1.0</td>\n",
       "      <td>48.0</td>\n",
       "      <td>121.0</td>\n",
       "      <td>100000.000000</td>\n",
       "    </tr>\n",
       "  </tbody>\n",
       "</table>\n",
       "<p>5 rows × 23 columns</p>\n",
       "</div>"
      ],
      "text/plain": [
       "   total_images  last_price  total_area first_day_exposition  rooms  \\\n",
       "0            20    13000000         108           2019-03-07      3   \n",
       "1             7     3350000          40           2018-12-04      1   \n",
       "2            10     5196000          56           2015-08-20      2   \n",
       "3             0    64900000         159           2015-07-24      3   \n",
       "4             2    10000000         100           2018-06-19      2   \n",
       "\n",
       "   ceiling_height  floors_total  living_area  floor is_apartment  ...  \\\n",
       "0        2.700000            16         51.0      8          NaN  ...   \n",
       "1        2.782385            11         18.6      1          NaN  ...   \n",
       "2        2.793193             5         34.3      4          NaN  ...   \n",
       "3        2.731545            14        144.0      9          NaN  ...   \n",
       "4        3.030000            14         32.0     13          NaN  ...   \n",
       "\n",
       "   balcony    locality_name  airports_nearest  cityCenters_nearest  \\\n",
       "0        0  Санкт-Петербург           18863.0              16028.0   \n",
       "1        2   посёлок Шушары           12817.0              18603.0   \n",
       "2        0  Санкт-Петербург           21741.0              13933.0   \n",
       "3        0  Санкт-Петербург           28098.0               6800.0   \n",
       "4        0  Санкт-Петербург           31856.0               8098.0   \n",
       "\n",
       "  parks_around3000  parks_nearest  ponds_around3000  ponds_nearest  \\\n",
       "0              1.0          482.0               2.0          755.0   \n",
       "1              0.0            NaN               0.0            NaN   \n",
       "2              1.0           90.0               2.0          574.0   \n",
       "3              2.0           84.0               3.0          234.0   \n",
       "4              2.0          112.0               1.0           48.0   \n",
       "\n",
       "   days_exposition  price_per_sqm  \n",
       "0              NaN  120370.370370  \n",
       "1             81.0   83750.000000  \n",
       "2            558.0   92785.714286  \n",
       "3            424.0  408176.100629  \n",
       "4            121.0  100000.000000  \n",
       "\n",
       "[5 rows x 23 columns]"
      ]
     },
     "execution_count": 75,
     "metadata": {},
     "output_type": "execute_result"
    }
   ],
   "source": [
    "df['price_per_sqm'] = df['last_price']/df['total_area']\n",
    "df.head(5)\n",
    "#df['price_per_sqm'].value_counts()"
   ]
  },
  {
   "cell_type": "markdown",
   "metadata": {},
   "source": [
    "Добавляю день недели, месяц и год публикации объявления"
   ]
  },
  {
   "cell_type": "code",
   "execution_count": 76,
   "metadata": {},
   "outputs": [
    {
     "data": {
      "text/html": [
       "<div>\n",
       "<style scoped>\n",
       "    .dataframe tbody tr th:only-of-type {\n",
       "        vertical-align: middle;\n",
       "    }\n",
       "\n",
       "    .dataframe tbody tr th {\n",
       "        vertical-align: top;\n",
       "    }\n",
       "\n",
       "    .dataframe thead th {\n",
       "        text-align: right;\n",
       "    }\n",
       "</style>\n",
       "<table border=\"1\" class=\"dataframe\">\n",
       "  <thead>\n",
       "    <tr style=\"text-align: right;\">\n",
       "      <th></th>\n",
       "      <th>total_images</th>\n",
       "      <th>last_price</th>\n",
       "      <th>total_area</th>\n",
       "      <th>first_day_exposition</th>\n",
       "      <th>rooms</th>\n",
       "      <th>ceiling_height</th>\n",
       "      <th>floors_total</th>\n",
       "      <th>living_area</th>\n",
       "      <th>floor</th>\n",
       "      <th>is_apartment</th>\n",
       "      <th>...</th>\n",
       "      <th>cityCenters_nearest</th>\n",
       "      <th>parks_around3000</th>\n",
       "      <th>parks_nearest</th>\n",
       "      <th>ponds_around3000</th>\n",
       "      <th>ponds_nearest</th>\n",
       "      <th>days_exposition</th>\n",
       "      <th>price_per_sqm</th>\n",
       "      <th>weekday</th>\n",
       "      <th>month</th>\n",
       "      <th>year</th>\n",
       "    </tr>\n",
       "  </thead>\n",
       "  <tbody>\n",
       "    <tr>\n",
       "      <th>0</th>\n",
       "      <td>20</td>\n",
       "      <td>13000000</td>\n",
       "      <td>108</td>\n",
       "      <td>2019-03-07</td>\n",
       "      <td>3</td>\n",
       "      <td>2.700000</td>\n",
       "      <td>16</td>\n",
       "      <td>51.0</td>\n",
       "      <td>8</td>\n",
       "      <td>NaN</td>\n",
       "      <td>...</td>\n",
       "      <td>16028.0</td>\n",
       "      <td>1.0</td>\n",
       "      <td>482.0</td>\n",
       "      <td>2.0</td>\n",
       "      <td>755.0</td>\n",
       "      <td>NaN</td>\n",
       "      <td>120370.370370</td>\n",
       "      <td>3</td>\n",
       "      <td>3</td>\n",
       "      <td>2019</td>\n",
       "    </tr>\n",
       "    <tr>\n",
       "      <th>1</th>\n",
       "      <td>7</td>\n",
       "      <td>3350000</td>\n",
       "      <td>40</td>\n",
       "      <td>2018-12-04</td>\n",
       "      <td>1</td>\n",
       "      <td>2.782385</td>\n",
       "      <td>11</td>\n",
       "      <td>18.6</td>\n",
       "      <td>1</td>\n",
       "      <td>NaN</td>\n",
       "      <td>...</td>\n",
       "      <td>18603.0</td>\n",
       "      <td>0.0</td>\n",
       "      <td>NaN</td>\n",
       "      <td>0.0</td>\n",
       "      <td>NaN</td>\n",
       "      <td>81.0</td>\n",
       "      <td>83750.000000</td>\n",
       "      <td>1</td>\n",
       "      <td>12</td>\n",
       "      <td>2018</td>\n",
       "    </tr>\n",
       "    <tr>\n",
       "      <th>2</th>\n",
       "      <td>10</td>\n",
       "      <td>5196000</td>\n",
       "      <td>56</td>\n",
       "      <td>2015-08-20</td>\n",
       "      <td>2</td>\n",
       "      <td>2.793193</td>\n",
       "      <td>5</td>\n",
       "      <td>34.3</td>\n",
       "      <td>4</td>\n",
       "      <td>NaN</td>\n",
       "      <td>...</td>\n",
       "      <td>13933.0</td>\n",
       "      <td>1.0</td>\n",
       "      <td>90.0</td>\n",
       "      <td>2.0</td>\n",
       "      <td>574.0</td>\n",
       "      <td>558.0</td>\n",
       "      <td>92785.714286</td>\n",
       "      <td>3</td>\n",
       "      <td>8</td>\n",
       "      <td>2015</td>\n",
       "    </tr>\n",
       "    <tr>\n",
       "      <th>3</th>\n",
       "      <td>0</td>\n",
       "      <td>64900000</td>\n",
       "      <td>159</td>\n",
       "      <td>2015-07-24</td>\n",
       "      <td>3</td>\n",
       "      <td>2.731545</td>\n",
       "      <td>14</td>\n",
       "      <td>144.0</td>\n",
       "      <td>9</td>\n",
       "      <td>NaN</td>\n",
       "      <td>...</td>\n",
       "      <td>6800.0</td>\n",
       "      <td>2.0</td>\n",
       "      <td>84.0</td>\n",
       "      <td>3.0</td>\n",
       "      <td>234.0</td>\n",
       "      <td>424.0</td>\n",
       "      <td>408176.100629</td>\n",
       "      <td>4</td>\n",
       "      <td>7</td>\n",
       "      <td>2015</td>\n",
       "    </tr>\n",
       "    <tr>\n",
       "      <th>4</th>\n",
       "      <td>2</td>\n",
       "      <td>10000000</td>\n",
       "      <td>100</td>\n",
       "      <td>2018-06-19</td>\n",
       "      <td>2</td>\n",
       "      <td>3.030000</td>\n",
       "      <td>14</td>\n",
       "      <td>32.0</td>\n",
       "      <td>13</td>\n",
       "      <td>NaN</td>\n",
       "      <td>...</td>\n",
       "      <td>8098.0</td>\n",
       "      <td>2.0</td>\n",
       "      <td>112.0</td>\n",
       "      <td>1.0</td>\n",
       "      <td>48.0</td>\n",
       "      <td>121.0</td>\n",
       "      <td>100000.000000</td>\n",
       "      <td>1</td>\n",
       "      <td>6</td>\n",
       "      <td>2018</td>\n",
       "    </tr>\n",
       "  </tbody>\n",
       "</table>\n",
       "<p>5 rows × 26 columns</p>\n",
       "</div>"
      ],
      "text/plain": [
       "   total_images  last_price  total_area first_day_exposition  rooms  \\\n",
       "0            20    13000000         108           2019-03-07      3   \n",
       "1             7     3350000          40           2018-12-04      1   \n",
       "2            10     5196000          56           2015-08-20      2   \n",
       "3             0    64900000         159           2015-07-24      3   \n",
       "4             2    10000000         100           2018-06-19      2   \n",
       "\n",
       "   ceiling_height  floors_total  living_area  floor is_apartment  ...  \\\n",
       "0        2.700000            16         51.0      8          NaN  ...   \n",
       "1        2.782385            11         18.6      1          NaN  ...   \n",
       "2        2.793193             5         34.3      4          NaN  ...   \n",
       "3        2.731545            14        144.0      9          NaN  ...   \n",
       "4        3.030000            14         32.0     13          NaN  ...   \n",
       "\n",
       "   cityCenters_nearest  parks_around3000  parks_nearest  ponds_around3000  \\\n",
       "0              16028.0               1.0          482.0               2.0   \n",
       "1              18603.0               0.0            NaN               0.0   \n",
       "2              13933.0               1.0           90.0               2.0   \n",
       "3               6800.0               2.0           84.0               3.0   \n",
       "4               8098.0               2.0          112.0               1.0   \n",
       "\n",
       "  ponds_nearest  days_exposition  price_per_sqm  weekday  month  year  \n",
       "0         755.0              NaN  120370.370370        3      3  2019  \n",
       "1           NaN             81.0   83750.000000        1     12  2018  \n",
       "2         574.0            558.0   92785.714286        3      8  2015  \n",
       "3         234.0            424.0  408176.100629        4      7  2015  \n",
       "4          48.0            121.0  100000.000000        1      6  2018  \n",
       "\n",
       "[5 rows x 26 columns]"
      ]
     },
     "execution_count": 76,
     "metadata": {},
     "output_type": "execute_result"
    }
   ],
   "source": [
    "df['weekday'] = df['first_day_exposition'].dt.weekday\n",
    "df['month'] = df['first_day_exposition'].dt.month\n",
    "df['year'] = df['first_day_exposition'].dt.year\n",
    "df.head(5)\n"
   ]
  },
  {
   "cell_type": "markdown",
   "metadata": {},
   "source": [
    "Функцией категоризирую этажность на первый, последний и другой"
   ]
  },
  {
   "cell_type": "code",
   "execution_count": 77,
   "metadata": {},
   "outputs": [
    {
     "data": {
      "text/plain": [
       "другой       17446\n",
       "последний     3336\n",
       "первый        2917\n",
       "Name: floor_category, dtype: int64"
      ]
     },
     "execution_count": 77,
     "metadata": {},
     "output_type": "execute_result"
    }
   ],
   "source": [
    "def floor_cat(row):\n",
    "    fl = row['floor']\n",
    "    fl_total = row['floors_total']\n",
    "    if fl == 1:\n",
    "        return 'первый'\n",
    "    if fl == fl_total:            \n",
    "        return 'последний'\n",
    "    return 'другой'\n",
    "\n",
    "row_values = [36, 36]\n",
    "row_columns = ['floor', 'floors_total']\n",
    "row = pd.Series(data=row_values, index=row_columns)\n",
    "floor_cat(row)\n",
    "\n",
    "df['floor_category'] = df.apply(floor_cat, axis=1)\n",
    "df['floor_category'].value_counts()\n",
    "\n"
   ]
  },
  {
   "cell_type": "markdown",
   "metadata": {},
   "source": [
    "Находим соотношение жилой площади к общей, площади кухни к общей"
   ]
  },
  {
   "cell_type": "code",
   "execution_count": 78,
   "metadata": {
    "scrolled": true
   },
   "outputs": [],
   "source": [
    "df['ratio_living_to_total'] = df['living_area']/df['total_area']*100\n",
    "#df.head()"
   ]
  },
  {
   "cell_type": "code",
   "execution_count": 79,
   "metadata": {},
   "outputs": [
    {
     "data": {
      "text/html": [
       "<div>\n",
       "<style scoped>\n",
       "    .dataframe tbody tr th:only-of-type {\n",
       "        vertical-align: middle;\n",
       "    }\n",
       "\n",
       "    .dataframe tbody tr th {\n",
       "        vertical-align: top;\n",
       "    }\n",
       "\n",
       "    .dataframe thead th {\n",
       "        text-align: right;\n",
       "    }\n",
       "</style>\n",
       "<table border=\"1\" class=\"dataframe\">\n",
       "  <thead>\n",
       "    <tr style=\"text-align: right;\">\n",
       "      <th></th>\n",
       "      <th>total_images</th>\n",
       "      <th>last_price</th>\n",
       "      <th>total_area</th>\n",
       "      <th>first_day_exposition</th>\n",
       "      <th>rooms</th>\n",
       "      <th>ceiling_height</th>\n",
       "      <th>floors_total</th>\n",
       "      <th>living_area</th>\n",
       "      <th>floor</th>\n",
       "      <th>is_apartment</th>\n",
       "      <th>...</th>\n",
       "      <th>ponds_around3000</th>\n",
       "      <th>ponds_nearest</th>\n",
       "      <th>days_exposition</th>\n",
       "      <th>price_per_sqm</th>\n",
       "      <th>weekday</th>\n",
       "      <th>month</th>\n",
       "      <th>year</th>\n",
       "      <th>floor_category</th>\n",
       "      <th>ratio_living_to_total</th>\n",
       "      <th>ratio_kitchen_to_total</th>\n",
       "    </tr>\n",
       "  </thead>\n",
       "  <tbody>\n",
       "    <tr>\n",
       "      <th>0</th>\n",
       "      <td>20</td>\n",
       "      <td>13000000</td>\n",
       "      <td>108</td>\n",
       "      <td>2019-03-07</td>\n",
       "      <td>3</td>\n",
       "      <td>2.700000</td>\n",
       "      <td>16</td>\n",
       "      <td>51.0</td>\n",
       "      <td>8</td>\n",
       "      <td>NaN</td>\n",
       "      <td>...</td>\n",
       "      <td>2.0</td>\n",
       "      <td>755.0</td>\n",
       "      <td>NaN</td>\n",
       "      <td>120370.370370</td>\n",
       "      <td>3</td>\n",
       "      <td>3</td>\n",
       "      <td>2019</td>\n",
       "      <td>другой</td>\n",
       "      <td>47.222222</td>\n",
       "      <td>23.148148</td>\n",
       "    </tr>\n",
       "    <tr>\n",
       "      <th>1</th>\n",
       "      <td>7</td>\n",
       "      <td>3350000</td>\n",
       "      <td>40</td>\n",
       "      <td>2018-12-04</td>\n",
       "      <td>1</td>\n",
       "      <td>2.782385</td>\n",
       "      <td>11</td>\n",
       "      <td>18.6</td>\n",
       "      <td>1</td>\n",
       "      <td>NaN</td>\n",
       "      <td>...</td>\n",
       "      <td>0.0</td>\n",
       "      <td>NaN</td>\n",
       "      <td>81.0</td>\n",
       "      <td>83750.000000</td>\n",
       "      <td>1</td>\n",
       "      <td>12</td>\n",
       "      <td>2018</td>\n",
       "      <td>первый</td>\n",
       "      <td>46.500000</td>\n",
       "      <td>27.500000</td>\n",
       "    </tr>\n",
       "    <tr>\n",
       "      <th>2</th>\n",
       "      <td>10</td>\n",
       "      <td>5196000</td>\n",
       "      <td>56</td>\n",
       "      <td>2015-08-20</td>\n",
       "      <td>2</td>\n",
       "      <td>2.793193</td>\n",
       "      <td>5</td>\n",
       "      <td>34.3</td>\n",
       "      <td>4</td>\n",
       "      <td>NaN</td>\n",
       "      <td>...</td>\n",
       "      <td>2.0</td>\n",
       "      <td>574.0</td>\n",
       "      <td>558.0</td>\n",
       "      <td>92785.714286</td>\n",
       "      <td>3</td>\n",
       "      <td>8</td>\n",
       "      <td>2015</td>\n",
       "      <td>другой</td>\n",
       "      <td>61.250000</td>\n",
       "      <td>14.821429</td>\n",
       "    </tr>\n",
       "    <tr>\n",
       "      <th>3</th>\n",
       "      <td>0</td>\n",
       "      <td>64900000</td>\n",
       "      <td>159</td>\n",
       "      <td>2015-07-24</td>\n",
       "      <td>3</td>\n",
       "      <td>2.731545</td>\n",
       "      <td>14</td>\n",
       "      <td>144.0</td>\n",
       "      <td>9</td>\n",
       "      <td>NaN</td>\n",
       "      <td>...</td>\n",
       "      <td>3.0</td>\n",
       "      <td>234.0</td>\n",
       "      <td>424.0</td>\n",
       "      <td>408176.100629</td>\n",
       "      <td>4</td>\n",
       "      <td>7</td>\n",
       "      <td>2015</td>\n",
       "      <td>другой</td>\n",
       "      <td>90.566038</td>\n",
       "      <td>9.433962</td>\n",
       "    </tr>\n",
       "    <tr>\n",
       "      <th>4</th>\n",
       "      <td>2</td>\n",
       "      <td>10000000</td>\n",
       "      <td>100</td>\n",
       "      <td>2018-06-19</td>\n",
       "      <td>2</td>\n",
       "      <td>3.030000</td>\n",
       "      <td>14</td>\n",
       "      <td>32.0</td>\n",
       "      <td>13</td>\n",
       "      <td>NaN</td>\n",
       "      <td>...</td>\n",
       "      <td>1.0</td>\n",
       "      <td>48.0</td>\n",
       "      <td>121.0</td>\n",
       "      <td>100000.000000</td>\n",
       "      <td>1</td>\n",
       "      <td>6</td>\n",
       "      <td>2018</td>\n",
       "      <td>другой</td>\n",
       "      <td>32.000000</td>\n",
       "      <td>41.000000</td>\n",
       "    </tr>\n",
       "  </tbody>\n",
       "</table>\n",
       "<p>5 rows × 29 columns</p>\n",
       "</div>"
      ],
      "text/plain": [
       "   total_images  last_price  total_area first_day_exposition  rooms  \\\n",
       "0            20    13000000         108           2019-03-07      3   \n",
       "1             7     3350000          40           2018-12-04      1   \n",
       "2            10     5196000          56           2015-08-20      2   \n",
       "3             0    64900000         159           2015-07-24      3   \n",
       "4             2    10000000         100           2018-06-19      2   \n",
       "\n",
       "   ceiling_height  floors_total  living_area  floor is_apartment  ...  \\\n",
       "0        2.700000            16         51.0      8          NaN  ...   \n",
       "1        2.782385            11         18.6      1          NaN  ...   \n",
       "2        2.793193             5         34.3      4          NaN  ...   \n",
       "3        2.731545            14        144.0      9          NaN  ...   \n",
       "4        3.030000            14         32.0     13          NaN  ...   \n",
       "\n",
       "   ponds_around3000  ponds_nearest  days_exposition  price_per_sqm weekday  \\\n",
       "0               2.0          755.0              NaN  120370.370370       3   \n",
       "1               0.0            NaN             81.0   83750.000000       1   \n",
       "2               2.0          574.0            558.0   92785.714286       3   \n",
       "3               3.0          234.0            424.0  408176.100629       4   \n",
       "4               1.0           48.0            121.0  100000.000000       1   \n",
       "\n",
       "   month  year  floor_category  ratio_living_to_total  ratio_kitchen_to_total  \n",
       "0      3  2019          другой              47.222222               23.148148  \n",
       "1     12  2018          первый              46.500000               27.500000  \n",
       "2      8  2015          другой              61.250000               14.821429  \n",
       "3      7  2015          другой              90.566038                9.433962  \n",
       "4      6  2018          другой              32.000000               41.000000  \n",
       "\n",
       "[5 rows x 29 columns]"
      ]
     },
     "execution_count": 79,
     "metadata": {},
     "output_type": "execute_result"
    }
   ],
   "source": [
    "df['ratio_kitchen_to_total'] = df['kitchen_area']/df['total_area']*100\n",
    "df.head(5)"
   ]
  },
  {
   "cell_type": "markdown",
   "metadata": {},
   "source": [
    "Были рассчитаны и добавлены в таблицу цена за квадратный метр, отдельно день, месяц и год размещения объявления, категория этажа(первый, последний, другой), соотношение жилой площади к общей и кухни к общей."
   ]
  },
  {
   "cell_type": "markdown",
   "metadata": {},
   "source": [
    "## Исследовательский анализ данных"
   ]
  },
  {
   "cell_type": "markdown",
   "metadata": {},
   "source": [
    "Построю гистограмму значений общей площади"
   ]
  },
  {
   "cell_type": "code",
   "execution_count": 80,
   "metadata": {},
   "outputs": [
    {
     "data": {
      "text/plain": [
       "<AxesSubplot:>"
      ]
     },
     "execution_count": 80,
     "metadata": {},
     "output_type": "execute_result"
    },
    {
     "data": {
      "image/png": "[encoded data removed]",
      "text/plain": [
       "<Figure size 432x288 with 1 Axes>"
      ]
     },
     "metadata": {
      "needs_background": "light"
     },
     "output_type": "display_data"
    }
   ],
   "source": [
    "df['total_area'].hist(bins=100, range=(0,200))"
   ]
  },
  {
   "cell_type": "code",
   "execution_count": 81,
   "metadata": {},
   "outputs": [
    {
     "data": {
      "text/plain": [
       "count    23699.000000\n",
       "mean        60.120511\n",
       "std         35.665822\n",
       "min         12.000000\n",
       "25%         40.000000\n",
       "50%         52.000000\n",
       "75%         69.000000\n",
       "max        900.000000\n",
       "Name: total_area, dtype: float64"
      ]
     },
     "execution_count": 81,
     "metadata": {},
     "output_type": "execute_result"
    }
   ],
   "source": [
    "df['total_area'].describe()"
   ]
  },
  {
   "cell_type": "markdown",
   "metadata": {},
   "source": [
    "Гистограмма значений площади выглядит нормально. Большинство квартир от 25 до 75 кв.м. Значительная часть от 75 до 100 кв.м. Квартиры большего метража встречаются, но значительно реже. describe показывает, что стандартное отклонение небольшое, медиана недалеко от среднего"
   ]
  },
  {
   "cell_type": "code",
   "execution_count": 82,
   "metadata": {},
   "outputs": [
    {
     "data": {
      "text/plain": [
       "count    2.369900e+04\n",
       "mean     6.541549e+06\n",
       "std      1.088701e+07\n",
       "min      1.219000e+04\n",
       "25%      3.400000e+06\n",
       "50%      4.650000e+06\n",
       "75%      6.800000e+06\n",
       "max      7.630000e+08\n",
       "Name: last_price, dtype: float64"
      ]
     },
     "execution_count": 82,
     "metadata": {},
     "output_type": "execute_result"
    },
    {
     "data": {
      "image/png": "[encoded data removed]",
      "text/plain": [
       "<Figure size 432x288 with 1 Axes>"
      ]
     },
     "metadata": {
      "needs_background": "light"
     },
     "output_type": "display_data"
    }
   ],
   "source": [
    "df['last_price'].hist(bins=10, range=(0,10000000))\n",
    "df['last_price'].describe()"
   ]
  },
  {
   "cell_type": "markdown",
   "metadata": {},
   "source": [
    "Гистограмма цены также показывает нормальное распределение."
   ]
  },
  {
   "cell_type": "code",
   "execution_count": 83,
   "metadata": {},
   "outputs": [
    {
     "data": {
      "text/plain": [
       "count    23699.000000\n",
       "mean         2.070636\n",
       "std          1.078405\n",
       "min          0.000000\n",
       "25%          1.000000\n",
       "50%          2.000000\n",
       "75%          3.000000\n",
       "max         19.000000\n",
       "Name: rooms, dtype: float64"
      ]
     },
     "execution_count": 83,
     "metadata": {},
     "output_type": "execute_result"
    },
    {
     "data": {
      "image/png": "[encoded data removed]",
      "text/plain": [
       "<Figure size 432x288 with 1 Axes>"
      ]
     },
     "metadata": {
      "needs_background": "light"
     },
     "output_type": "display_data"
    }
   ],
   "source": [
    "df['rooms'].hist(bins=10, range=(0,10))\n",
    "df['rooms'].describe()"
   ]
  },
  {
   "cell_type": "code",
   "execution_count": 84,
   "metadata": {},
   "outputs": [
    {
     "data": {
      "text/plain": [
       "<AxesSubplot:>"
      ]
     },
     "execution_count": 84,
     "metadata": {},
     "output_type": "execute_result"
    },
    {
     "data": {
      "image/png": "[encoded data removed]",
      "text/plain": [
       "<Figure size 432x288 with 1 Axes>"
      ]
     },
     "metadata": {
      "needs_background": "light"
     },
     "output_type": "display_data"
    }
   ],
   "source": [
    "df['rooms'].value_counts()\n",
    "df.boxplot('rooms')"
   ]
  },
  {
   "cell_type": "markdown",
   "metadata": {},
   "source": [
    "Гистограмма столбца \"комнаты\" показывает, что больше всего квартир с 1-3 комнатами (и методом value_counts можно посмотреть статистику: однокомнатных 8047, двухкомнатных 7940, трехкомнатных 5814). А диаграмма размаха четко показывает выбросы - редкие, но все же встречающиеся значения квартир с количеством комнат больше 6"
   ]
  },
  {
   "cell_type": "code",
   "execution_count": 85,
   "metadata": {},
   "outputs": [
    {
     "data": {
      "text/plain": [
       "count    23698.000000\n",
       "mean         2.772212\n",
       "std          0.992609\n",
       "min          1.000000\n",
       "25%          2.599132\n",
       "50%          2.711692\n",
       "75%          2.793193\n",
       "max        100.000000\n",
       "Name: ceiling_height, dtype: float64"
      ]
     },
     "execution_count": 85,
     "metadata": {},
     "output_type": "execute_result"
    },
    {
     "data": {
      "image/png": "[encoded data removed]",
      "text/plain": [
       "<Figure size 432x288 with 1 Axes>"
      ]
     },
     "metadata": {
      "needs_background": "light"
     },
     "output_type": "display_data"
    }
   ],
   "source": [
    "df['ceiling_height'].hist(range=(2,5))\n",
    "df['ceiling_height'].describe()"
   ]
  },
  {
   "cell_type": "markdown",
   "metadata": {},
   "source": [
    "Распределение высоты потолков: чаще всего от 2,3 до 3 м, что тоже выглядит логично. Есть квартиры с потолками и 3,5 и 4 метра, но их совсем мало. Стандартное отклонение небольшое, среднее и медиана отличаются на десятые доли. Еще на этапе предобработки выявились \"странные\" значения и также здесь можно увидеть (методом describe), что максимальное значение в столбце 100м, что выглядит неправдоподобно. Этих значений не много и я их уберу при дальнейшем исследовании."
   ]
  },
  {
   "cell_type": "code",
   "execution_count": 86,
   "metadata": {},
   "outputs": [
    {
     "data": {
      "text/plain": [
       "<AxesSubplot:>"
      ]
     },
     "execution_count": 86,
     "metadata": {},
     "output_type": "execute_result"
    },
    {
     "data": {
      "image/png": "[encoded data removed]",
      "text/plain": [
       "<Figure size 432x288 with 1 Axes>"
      ]
     },
     "metadata": {
      "needs_background": "light"
     },
     "output_type": "display_data"
    }
   ],
   "source": [
    "df['days_exposition'].hist(bins=100, range=(40,80)) \n",
    "df['days_exposition'].hist(bins=100, range=(0,1500))"
   ]
  },
  {
   "cell_type": "markdown",
   "metadata": {},
   "source": [
    "В столбце количество дней объявления по всей видимости есть аномальные значения. Большая часть квартир продается в первые 200-300 дней. После значения 800 уже совсем не большое количество, однако есть и значения с 1500. Хоть их и мало, они могут существенно на показатели. Рассмотрим подробнее значения в столбце"
   ]
  },
  {
   "cell_type": "code",
   "execution_count": 87,
   "metadata": {},
   "outputs": [
    {
     "data": {
      "text/plain": [
       "count    20518.000000\n",
       "mean       180.888634\n",
       "std        219.727988\n",
       "min          1.000000\n",
       "25%         45.000000\n",
       "50%         95.000000\n",
       "75%        232.000000\n",
       "max       1580.000000\n",
       "Name: days_exposition, dtype: float64"
      ]
     },
     "execution_count": 87,
     "metadata": {},
     "output_type": "execute_result"
    }
   ],
   "source": [
    "#df = df.dropna(subset=['days_exposition'])\n",
    "#df['days_exposition'] = df['days_exposition'].astype(int)\n",
    "df['days_exposition'].describe()\n",
    "\n"
   ]
  },
  {
   "cell_type": "markdown",
   "metadata": {},
   "source": [
    "Как и ожидалось, в столбце по значениям медиана очень \"далеко\" от среднего. Стандартное отклонение высокое. Я принимаю решение удалить значения > 800 дней. Они редкие, однако влияют на показатели и могут в целом повлиять на исследование"
   ]
  },
  {
   "cell_type": "code",
   "execution_count": 88,
   "metadata": {},
   "outputs": [
    {
     "name": "stdout",
     "output_type": "stream",
     "text": [
      "<class 'pandas.core.frame.DataFrame'>\n",
      "Int64Index: 23504 entries, 0 to 23698\n",
      "Data columns (total 29 columns):\n",
      " #   Column                  Non-Null Count  Dtype         \n",
      "---  ------                  --------------  -----         \n",
      " 0   total_images            23504 non-null  int64         \n",
      " 1   last_price              23504 non-null  int32         \n",
      " 2   total_area              23504 non-null  int32         \n",
      " 3   first_day_exposition    23504 non-null  datetime64[ns]\n",
      " 4   rooms                   23504 non-null  int64         \n",
      " 5   ceiling_height          23503 non-null  float64       \n",
      " 6   floors_total            23504 non-null  int32         \n",
      " 7   living_area             23492 non-null  float64       \n",
      " 8   floor                   23504 non-null  int64         \n",
      " 9   is_apartment            2764 non-null   object        \n",
      " 10  studio                  23504 non-null  bool          \n",
      " 11  open_plan               23504 non-null  bool          \n",
      " 12  kitchen_area            23488 non-null  float64       \n",
      " 13  balcony                 23504 non-null  int32         \n",
      " 14  locality_name           23455 non-null  object        \n",
      " 15  airports_nearest        17968 non-null  float64       \n",
      " 16  cityCenters_nearest     18071 non-null  float64       \n",
      " 17  parks_around3000        17991 non-null  float64       \n",
      " 18  parks_nearest           7947 non-null   float64       \n",
      " 19  ponds_around3000        17991 non-null  float64       \n",
      " 20  ponds_nearest           8982 non-null   float64       \n",
      " 21  days_exposition         20381 non-null  float64       \n",
      " 22  price_per_sqm           23504 non-null  float64       \n",
      " 23  weekday                 23504 non-null  int64         \n",
      " 24  month                   23504 non-null  int64         \n",
      " 25  year                    23504 non-null  int64         \n",
      " 26  floor_category          23504 non-null  object        \n",
      " 27  ratio_living_to_total   23492 non-null  float64       \n",
      " 28  ratio_kitchen_to_total  23488 non-null  float64       \n",
      "dtypes: bool(2), datetime64[ns](1), float64(13), int32(4), int64(6), object(3)\n",
      "memory usage: 4.7+ MB\n"
     ]
    }
   ],
   "source": [
    "df_new = df.query('days_exposition < 800' and 'ceiling_height < 5' and 'rooms < 6')\n",
    "df_new.info()"
   ]
  },
  {
   "cell_type": "markdown",
   "metadata": {},
   "source": [
    "При анализе были найдены аномальные значения, как например количество дней объявления 1500 или количетсво комнат 17, или высота потолков 100м. Таких значений было немного, однако они могут влиять на такие показатели как среднее и медиана, поэтому я делаю срез и отбрасываю аномальные значения. Методом info смотрю, насколько уменьшилась исходная таблица (0.8%). Срез считаю оправданным."
   ]
  },
  {
   "cell_type": "markdown",
   "metadata": {},
   "source": [
    "Посмотрю на корреляцию"
   ]
  },
  {
   "cell_type": "code",
   "execution_count": 89,
   "metadata": {},
   "outputs": [
    {
     "data": {
      "text/html": [
       "<div>\n",
       "<style scoped>\n",
       "    .dataframe tbody tr th:only-of-type {\n",
       "        vertical-align: middle;\n",
       "    }\n",
       "\n",
       "    .dataframe tbody tr th {\n",
       "        vertical-align: top;\n",
       "    }\n",
       "\n",
       "    .dataframe thead th {\n",
       "        text-align: right;\n",
       "    }\n",
       "</style>\n",
       "<table border=\"1\" class=\"dataframe\">\n",
       "  <thead>\n",
       "    <tr style=\"text-align: right;\">\n",
       "      <th></th>\n",
       "      <th>last_price</th>\n",
       "      <th>total_area</th>\n",
       "      <th>rooms</th>\n",
       "      <th>cityCenters_nearest</th>\n",
       "      <th>weekday</th>\n",
       "      <th>month</th>\n",
       "      <th>year</th>\n",
       "    </tr>\n",
       "  </thead>\n",
       "  <tbody>\n",
       "    <tr>\n",
       "      <th>last_price</th>\n",
       "      <td>1.000000</td>\n",
       "      <td>0.679039</td>\n",
       "      <td>0.352957</td>\n",
       "      <td>-0.242675</td>\n",
       "      <td>0.003808</td>\n",
       "      <td>-0.001732</td>\n",
       "      <td>-0.052955</td>\n",
       "    </tr>\n",
       "    <tr>\n",
       "      <th>total_area</th>\n",
       "      <td>0.679039</td>\n",
       "      <td>1.000000</td>\n",
       "      <td>0.734492</td>\n",
       "      <td>-0.228925</td>\n",
       "      <td>-0.000681</td>\n",
       "      <td>0.006746</td>\n",
       "      <td>-0.096748</td>\n",
       "    </tr>\n",
       "    <tr>\n",
       "      <th>rooms</th>\n",
       "      <td>0.352957</td>\n",
       "      <td>0.734492</td>\n",
       "      <td>1.000000</td>\n",
       "      <td>-0.162365</td>\n",
       "      <td>-0.001216</td>\n",
       "      <td>-0.000991</td>\n",
       "      <td>-0.061164</td>\n",
       "    </tr>\n",
       "    <tr>\n",
       "      <th>cityCenters_nearest</th>\n",
       "      <td>-0.242675</td>\n",
       "      <td>-0.228925</td>\n",
       "      <td>-0.162365</td>\n",
       "      <td>1.000000</td>\n",
       "      <td>0.006239</td>\n",
       "      <td>-0.011656</td>\n",
       "      <td>0.028576</td>\n",
       "    </tr>\n",
       "    <tr>\n",
       "      <th>weekday</th>\n",
       "      <td>0.003808</td>\n",
       "      <td>-0.000681</td>\n",
       "      <td>-0.001216</td>\n",
       "      <td>0.006239</td>\n",
       "      <td>1.000000</td>\n",
       "      <td>0.011606</td>\n",
       "      <td>-0.005006</td>\n",
       "    </tr>\n",
       "    <tr>\n",
       "      <th>month</th>\n",
       "      <td>-0.001732</td>\n",
       "      <td>0.006746</td>\n",
       "      <td>-0.000991</td>\n",
       "      <td>-0.011656</td>\n",
       "      <td>0.011606</td>\n",
       "      <td>1.000000</td>\n",
       "      <td>-0.270018</td>\n",
       "    </tr>\n",
       "    <tr>\n",
       "      <th>year</th>\n",
       "      <td>-0.052955</td>\n",
       "      <td>-0.096748</td>\n",
       "      <td>-0.061164</td>\n",
       "      <td>0.028576</td>\n",
       "      <td>-0.005006</td>\n",
       "      <td>-0.270018</td>\n",
       "      <td>1.000000</td>\n",
       "    </tr>\n",
       "  </tbody>\n",
       "</table>\n",
       "</div>"
      ],
      "text/plain": [
       "                     last_price  total_area     rooms  cityCenters_nearest  \\\n",
       "last_price             1.000000    0.679039  0.352957            -0.242675   \n",
       "total_area             0.679039    1.000000  0.734492            -0.228925   \n",
       "rooms                  0.352957    0.734492  1.000000            -0.162365   \n",
       "cityCenters_nearest   -0.242675   -0.228925 -0.162365             1.000000   \n",
       "weekday                0.003808   -0.000681 -0.001216             0.006239   \n",
       "month                 -0.001732    0.006746 -0.000991            -0.011656   \n",
       "year                  -0.052955   -0.096748 -0.061164             0.028576   \n",
       "\n",
       "                      weekday     month      year  \n",
       "last_price           0.003808 -0.001732 -0.052955  \n",
       "total_area          -0.000681  0.006746 -0.096748  \n",
       "rooms               -0.001216 -0.000991 -0.061164  \n",
       "cityCenters_nearest  0.006239 -0.011656  0.028576  \n",
       "weekday              1.000000  0.011606 -0.005006  \n",
       "month                0.011606  1.000000 -0.270018  \n",
       "year                -0.005006 -0.270018  1.000000  "
      ]
     },
     "execution_count": 89,
     "metadata": {},
     "output_type": "execute_result"
    }
   ],
   "source": [
    "df_new[['last_price', 'total_area', 'rooms', 'cityCenters_nearest', 'weekday', 'month', 'year']].corr()"
   ]
  },
  {
   "cell_type": "markdown",
   "metadata": {},
   "source": [
    "Методом .corr() посмотрим на значения корреляции между разными характеристиками. В большей степени цена зависит от площади квартиры (0.63), в меньшей степени (слабая корреляция) от количества комнат. И нулевая корреляция, то есть никакого влияния от дня недели, месяца и года размещения объявления. Однако корреляция лишь один способ посмотреть на взаимосвязь. Рассмотри подробнее"
   ]
  },
  {
   "cell_type": "code",
   "execution_count": 90,
   "metadata": {},
   "outputs": [
    {
     "data": {
      "image/png": "[encoded data removed]",
      "text/plain": [
       "<Figure size 432x288 with 1 Axes>"
      ]
     },
     "metadata": {
      "needs_background": "light"
     },
     "output_type": "display_data"
    }
   ],
   "source": [
    "df_new.pivot_table(index='floor_category', values='last_price', aggfunc='mean').plot(kind='bar')\n",
    "plt.show()"
   ]
  },
  {
   "cell_type": "markdown",
   "metadata": {},
   "source": [
    "Отдельно посмотрим на зависимость цены от этажа. Видно, что в среднем квартиры на первом этаже стоят дешевле, что выглядит правдоподобно"
   ]
  },
  {
   "cell_type": "code",
   "execution_count": 91,
   "metadata": {},
   "outputs": [
    {
     "data": {
      "image/png": "[encoded data removed]",
      "text/plain": [
       "<Figure size 432x288 with 1 Axes>"
      ]
     },
     "metadata": {
      "needs_background": "light"
     },
     "output_type": "display_data"
    }
   ],
   "source": [
    "df_new.plot(x='cityCenters_nearest', y='last_price', kind='scatter')\n",
    "plt.show()"
   ]
  },
  {
   "cell_type": "markdown",
   "metadata": {},
   "source": [
    "Основная масса дорогих квартир находится в центре. По мере удаления от центра снижается и стоимость."
   ]
  },
  {
   "cell_type": "code",
   "execution_count": 92,
   "metadata": {},
   "outputs": [
    {
     "data": {
      "image/png": "[encoded data removed]",
      "text/plain": [
       "<Figure size 432x288 with 1 Axes>"
      ]
     },
     "metadata": {
      "needs_background": "light"
     },
     "output_type": "display_data"
    }
   ],
   "source": [
    "df_new.pivot_table(index='rooms', values='last_price', aggfunc='mean').plot(kind='bar')\n",
    "plt.show()"
   ]
  },
  {
   "cell_type": "markdown",
   "metadata": {},
   "source": [
    "Данная столбчатая диаграмма показывает, что чем больше комнат, чем стоимость квартиры больше. Также можно заключить, что квартиры-студии лишь немного ниже по стоимости однокомнатных квартир."
   ]
  },
  {
   "cell_type": "code",
   "execution_count": 93,
   "metadata": {},
   "outputs": [
    {
     "data": {
      "image/png": "[encoded data removed]",
      "text/plain": [
       "<Figure size 432x288 with 1 Axes>"
      ]
     },
     "metadata": {
      "needs_background": "light"
     },
     "output_type": "display_data"
    },
    {
     "data": {
      "image/png": "[encoded data removed]",
      "text/plain": [
       "<Figure size 432x288 with 1 Axes>"
      ]
     },
     "metadata": {
      "needs_background": "light"
     },
     "output_type": "display_data"
    },
    {
     "data": {
      "image/png": "[encoded data removed]",
      "text/plain": [
       "<Figure size 432x288 with 1 Axes>"
      ]
     },
     "metadata": {
      "needs_background": "light"
     },
     "output_type": "display_data"
    }
   ],
   "source": [
    "df_new.pivot_table(index='weekday', values='last_price', aggfunc='mean').plot(kind='bar')\n",
    "df_new.pivot_table(index='month', values='last_price', aggfunc='mean').plot(kind='bar')\n",
    "df_new.pivot_table(index='year', values='last_price', aggfunc='mean').plot(kind='bar')\n",
    "plt.show()"
   ]
  },
  {
   "cell_type": "markdown",
   "metadata": {},
   "source": [
    "Нельзя сказать, что есть какая-то определенная взаимосвязь между ценой и днем и месяцем размещения, однако все же квартиры с объявлениям по четвергам стоят дороже, а квартиры c объявлением, размещенным в марте и июне, стоят дешевле. По диаграмме по году можно точно сказать, что с 2014 по 2018 стоимость квартир снижалась, а в 2019 снова показала рост."
   ]
  },
  {
   "cell_type": "markdown",
   "metadata": {},
   "source": [
    "**Вывод по исследовательскому анализу**"
   ]
  },
  {
   "cell_type": "markdown",
   "metadata": {},
   "source": [
    "Исходя из анализа можно сказать, что некоторые факторы в разной степени влияют на стоимость квартиры. Столбчатая диаграмма по этажности показала, что квартиры на первом этаже будут стоить дешевле, чем на последнем, а на последнем дешевле, чем на любом другом. Квартиры большей площади стоят дороже (чем больше площадь, тем больше стоимость квартиры). Основная масса дорогих квартир в центре. По мере удаления от центра стоимость квартир снижается. Стоимость квартир с объявлением в 2014 году была самая высокая  и далее по годам снижалась. Стоит заметить, что незначительно, но все же стоимость квартир с объявлением, размещенным в четверг, выше остальных. На основе графиков и анализа можно сделать вывод, что на стоимость квартир в большей степени влияет площадь, расположение относительно центра, количество комнат, этаж и год продажи."
   ]
  },
  {
   "cell_type": "markdown",
   "metadata": {},
   "source": [
    "## Проверка параметров"
   ]
  },
  {
   "cell_type": "markdown",
   "metadata": {},
   "source": [
    "Для ответа на вопрос о средней стоимости в 10 самых упоминаемых населенных пунктах сначала найду эти 10 населенных пунктов, потом среднюю стоимость квадратного метра и объединю таблицы"
   ]
  },
  {
   "cell_type": "code",
   "execution_count": 94,
   "metadata": {},
   "outputs": [
    {
     "data": {
      "text/html": [
       "<div>\n",
       "<style scoped>\n",
       "    .dataframe tbody tr th:only-of-type {\n",
       "        vertical-align: middle;\n",
       "    }\n",
       "\n",
       "    .dataframe tbody tr th {\n",
       "        vertical-align: top;\n",
       "    }\n",
       "\n",
       "    .dataframe thead th {\n",
       "        text-align: right;\n",
       "    }\n",
       "</style>\n",
       "<table border=\"1\" class=\"dataframe\">\n",
       "  <thead>\n",
       "    <tr style=\"text-align: right;\">\n",
       "      <th></th>\n",
       "      <th>last_price</th>\n",
       "    </tr>\n",
       "    <tr>\n",
       "      <th>locality_name</th>\n",
       "      <th></th>\n",
       "    </tr>\n",
       "  </thead>\n",
       "  <tbody>\n",
       "    <tr>\n",
       "      <th>Санкт-Петербург</th>\n",
       "      <td>15535</td>\n",
       "    </tr>\n",
       "    <tr>\n",
       "      <th>посёлок Мурино</th>\n",
       "      <td>522</td>\n",
       "    </tr>\n",
       "    <tr>\n",
       "      <th>посёлок Шушары</th>\n",
       "      <td>440</td>\n",
       "    </tr>\n",
       "    <tr>\n",
       "      <th>Всеволожск</th>\n",
       "      <td>398</td>\n",
       "    </tr>\n",
       "    <tr>\n",
       "      <th>Пушкин</th>\n",
       "      <td>366</td>\n",
       "    </tr>\n",
       "    <tr>\n",
       "      <th>Колпино</th>\n",
       "      <td>337</td>\n",
       "    </tr>\n",
       "    <tr>\n",
       "      <th>посёлок Парголово</th>\n",
       "      <td>326</td>\n",
       "    </tr>\n",
       "    <tr>\n",
       "      <th>Гатчина</th>\n",
       "      <td>307</td>\n",
       "    </tr>\n",
       "    <tr>\n",
       "      <th>деревня Кудрово</th>\n",
       "      <td>299</td>\n",
       "    </tr>\n",
       "    <tr>\n",
       "      <th>Выборг</th>\n",
       "      <td>237</td>\n",
       "    </tr>\n",
       "  </tbody>\n",
       "</table>\n",
       "</div>"
      ],
      "text/plain": [
       "                   last_price\n",
       "locality_name                \n",
       "Санкт-Петербург         15535\n",
       "посёлок Мурино            522\n",
       "посёлок Шушары            440\n",
       "Всеволожск                398\n",
       "Пушкин                    366\n",
       "Колпино                   337\n",
       "посёлок Парголово         326\n",
       "Гатчина                   307\n",
       "деревня Кудрово           299\n",
       "Выборг                    237"
      ]
     },
     "execution_count": 94,
     "metadata": {},
     "output_type": "execute_result"
    }
   ],
   "source": [
    "top_ten = df_new.groupby('locality_name')['last_price'].count().sort_values(ascending=False).to_frame()\n",
    "top_ten.head(10)"
   ]
  },
  {
   "cell_type": "code",
   "execution_count": 95,
   "metadata": {},
   "outputs": [],
   "source": [
    "price_per_sqm_mean = df_new.pivot_table(index='locality_name', values='price_per_sqm', aggfunc='mean')\n",
    "#price_per_sqm_mean.head()"
   ]
  },
  {
   "cell_type": "code",
   "execution_count": 96,
   "metadata": {},
   "outputs": [
    {
     "data": {
      "text/html": [
       "<div>\n",
       "<style scoped>\n",
       "    .dataframe tbody tr th:only-of-type {\n",
       "        vertical-align: middle;\n",
       "    }\n",
       "\n",
       "    .dataframe tbody tr th {\n",
       "        vertical-align: top;\n",
       "    }\n",
       "\n",
       "    .dataframe thead th {\n",
       "        text-align: right;\n",
       "    }\n",
       "</style>\n",
       "<table border=\"1\" class=\"dataframe\">\n",
       "  <thead>\n",
       "    <tr style=\"text-align: right;\">\n",
       "      <th></th>\n",
       "      <th>last_price</th>\n",
       "      <th>price_per_sqm</th>\n",
       "    </tr>\n",
       "    <tr>\n",
       "      <th>locality_name</th>\n",
       "      <th></th>\n",
       "      <th></th>\n",
       "    </tr>\n",
       "  </thead>\n",
       "  <tbody>\n",
       "    <tr>\n",
       "      <th>Санкт-Петербург</th>\n",
       "      <td>15535</td>\n",
       "      <td>114906.92</td>\n",
       "    </tr>\n",
       "    <tr>\n",
       "      <th>посёлок Мурино</th>\n",
       "      <td>522</td>\n",
       "      <td>86379.97</td>\n",
       "    </tr>\n",
       "    <tr>\n",
       "      <th>посёлок Шушары</th>\n",
       "      <td>440</td>\n",
       "      <td>79068.60</td>\n",
       "    </tr>\n",
       "    <tr>\n",
       "      <th>Всеволожск</th>\n",
       "      <td>398</td>\n",
       "      <td>68985.24</td>\n",
       "    </tr>\n",
       "    <tr>\n",
       "      <th>Пушкин</th>\n",
       "      <td>366</td>\n",
       "      <td>103710.58</td>\n",
       "    </tr>\n",
       "    <tr>\n",
       "      <th>Колпино</th>\n",
       "      <td>337</td>\n",
       "      <td>75644.78</td>\n",
       "    </tr>\n",
       "    <tr>\n",
       "      <th>посёлок Парголово</th>\n",
       "      <td>326</td>\n",
       "      <td>90833.21</td>\n",
       "    </tr>\n",
       "    <tr>\n",
       "      <th>Гатчина</th>\n",
       "      <td>307</td>\n",
       "      <td>69045.52</td>\n",
       "    </tr>\n",
       "    <tr>\n",
       "      <th>деревня Кудрово</th>\n",
       "      <td>299</td>\n",
       "      <td>93002.17</td>\n",
       "    </tr>\n",
       "    <tr>\n",
       "      <th>Выборг</th>\n",
       "      <td>237</td>\n",
       "      <td>58296.12</td>\n",
       "    </tr>\n",
       "  </tbody>\n",
       "</table>\n",
       "</div>"
      ],
      "text/plain": [
       "                   last_price  price_per_sqm\n",
       "locality_name                               \n",
       "Санкт-Петербург         15535      114906.92\n",
       "посёлок Мурино            522       86379.97\n",
       "посёлок Шушары            440       79068.60\n",
       "Всеволожск                398       68985.24\n",
       "Пушкин                    366      103710.58\n",
       "Колпино                   337       75644.78\n",
       "посёлок Парголово         326       90833.21\n",
       "Гатчина                   307       69045.52\n",
       "деревня Кудрово           299       93002.17\n",
       "Выборг                    237       58296.12"
      ]
     },
     "execution_count": 96,
     "metadata": {},
     "output_type": "execute_result"
    }
   ],
   "source": [
    "top_ten_mean = top_ten.merge(round(price_per_sqm_mean,2), on='locality_name')\n",
    "top_ten_mean.head(10)"
   ]
  },
  {
   "cell_type": "markdown",
   "metadata": {},
   "source": [
    "Самым упоминаемым оказался Санкт-Петербург, как и самым дорогим по стоимости квадратного метра. Самый дешевый квадратный метр в Выборге. Можно предположить, что из-за удаленности от областного центра - Выборг находится дальше всех остальных населенных пунктов в таблице"
   ]
  },
  {
   "cell_type": "markdown",
   "metadata": {},
   "source": [
    "В исследовании требуется ответить на вопрос о центральной зоне. Сначала я выделю квартиры в СПб, затем округлю расстояние в км до целого числа и построю график."
   ]
  },
  {
   "cell_type": "code",
   "execution_count": 97,
   "metadata": {},
   "outputs": [
    {
     "data": {
      "image/png": "[encoded data removed]",
      "text/plain": [
       "<Figure size 432x288 with 1 Axes>"
      ]
     },
     "metadata": {
      "needs_background": "light"
     },
     "output_type": "display_data"
    }
   ],
   "source": [
    "\n",
    "df_st_pet = df_new.query('locality_name == \"Санкт-Петербург\"')\n",
    "df_st_pet = df_st_pet.dropna(subset=['cityCenters_nearest'])\n",
    "df_st_pet['to_center_rounded'] = (df_st_pet['cityCenters_nearest']/1000).astype(int)\n",
    "\n",
    "df_st_pet.pivot_table(index='to_center_rounded', values='last_price', aggfunc='mean').plot(kind='bar')\n",
    "plt.show()\n"
   ]
  },
  {
   "cell_type": "markdown",
   "metadata": {},
   "source": [
    "Методом .query() отсекаю часть датасета с квартирами в СПб. В столбце расстояние до центра были пропуски, поэтому перед округлением я ух удалила (их 25). К сводной таблице построила график столбчатую диаграмму. График показывает резкое изменение цены на 8-м километре. Таким образом, центральная зона с радиусом 8 км."
   ]
  },
  {
   "cell_type": "code",
   "execution_count": 98,
   "metadata": {},
   "outputs": [
    {
     "data": {
      "text/html": [
       "<div>\n",
       "<style scoped>\n",
       "    .dataframe tbody tr th:only-of-type {\n",
       "        vertical-align: middle;\n",
       "    }\n",
       "\n",
       "    .dataframe tbody tr th {\n",
       "        vertical-align: top;\n",
       "    }\n",
       "\n",
       "    .dataframe thead th {\n",
       "        text-align: right;\n",
       "    }\n",
       "</style>\n",
       "<table border=\"1\" class=\"dataframe\">\n",
       "  <thead>\n",
       "    <tr style=\"text-align: right;\">\n",
       "      <th></th>\n",
       "      <th>last_price</th>\n",
       "      <th>total_area</th>\n",
       "      <th>rooms</th>\n",
       "      <th>ceiling_height</th>\n",
       "      <th>cityCenters_nearest</th>\n",
       "      <th>weekday</th>\n",
       "      <th>month</th>\n",
       "      <th>year</th>\n",
       "    </tr>\n",
       "  </thead>\n",
       "  <tbody>\n",
       "    <tr>\n",
       "      <th>last_price</th>\n",
       "      <td>1.000000</td>\n",
       "      <td>0.658641</td>\n",
       "      <td>0.307125</td>\n",
       "      <td>0.078315</td>\n",
       "      <td>-0.072971</td>\n",
       "      <td>0.031905</td>\n",
       "      <td>-0.025516</td>\n",
       "      <td>-0.060917</td>\n",
       "    </tr>\n",
       "    <tr>\n",
       "      <th>total_area</th>\n",
       "      <td>0.658641</td>\n",
       "      <td>1.000000</td>\n",
       "      <td>0.684654</td>\n",
       "      <td>0.124146</td>\n",
       "      <td>-0.116707</td>\n",
       "      <td>0.025232</td>\n",
       "      <td>-0.020833</td>\n",
       "      <td>-0.121361</td>\n",
       "    </tr>\n",
       "    <tr>\n",
       "      <th>rooms</th>\n",
       "      <td>0.307125</td>\n",
       "      <td>0.684654</td>\n",
       "      <td>1.000000</td>\n",
       "      <td>0.093622</td>\n",
       "      <td>-0.183730</td>\n",
       "      <td>-0.003599</td>\n",
       "      <td>-0.014443</td>\n",
       "      <td>-0.098569</td>\n",
       "    </tr>\n",
       "    <tr>\n",
       "      <th>ceiling_height</th>\n",
       "      <td>0.078315</td>\n",
       "      <td>0.124146</td>\n",
       "      <td>0.093622</td>\n",
       "      <td>1.000000</td>\n",
       "      <td>-0.159422</td>\n",
       "      <td>-0.008827</td>\n",
       "      <td>-0.014460</td>\n",
       "      <td>0.013904</td>\n",
       "    </tr>\n",
       "    <tr>\n",
       "      <th>cityCenters_nearest</th>\n",
       "      <td>-0.072971</td>\n",
       "      <td>-0.116707</td>\n",
       "      <td>-0.183730</td>\n",
       "      <td>-0.159422</td>\n",
       "      <td>1.000000</td>\n",
       "      <td>0.022648</td>\n",
       "      <td>-0.002954</td>\n",
       "      <td>0.034676</td>\n",
       "    </tr>\n",
       "    <tr>\n",
       "      <th>weekday</th>\n",
       "      <td>0.031905</td>\n",
       "      <td>0.025232</td>\n",
       "      <td>-0.003599</td>\n",
       "      <td>-0.008827</td>\n",
       "      <td>0.022648</td>\n",
       "      <td>1.000000</td>\n",
       "      <td>0.029444</td>\n",
       "      <td>0.000363</td>\n",
       "    </tr>\n",
       "    <tr>\n",
       "      <th>month</th>\n",
       "      <td>-0.025516</td>\n",
       "      <td>-0.020833</td>\n",
       "      <td>-0.014443</td>\n",
       "      <td>-0.014460</td>\n",
       "      <td>-0.002954</td>\n",
       "      <td>0.029444</td>\n",
       "      <td>1.000000</td>\n",
       "      <td>-0.242380</td>\n",
       "    </tr>\n",
       "    <tr>\n",
       "      <th>year</th>\n",
       "      <td>-0.060917</td>\n",
       "      <td>-0.121361</td>\n",
       "      <td>-0.098569</td>\n",
       "      <td>0.013904</td>\n",
       "      <td>0.034676</td>\n",
       "      <td>0.000363</td>\n",
       "      <td>-0.242380</td>\n",
       "      <td>1.000000</td>\n",
       "    </tr>\n",
       "  </tbody>\n",
       "</table>\n",
       "</div>"
      ],
      "text/plain": [
       "                     last_price  total_area     rooms  ceiling_height  \\\n",
       "last_price             1.000000    0.658641  0.307125        0.078315   \n",
       "total_area             0.658641    1.000000  0.684654        0.124146   \n",
       "rooms                  0.307125    0.684654  1.000000        0.093622   \n",
       "ceiling_height         0.078315    0.124146  0.093622        1.000000   \n",
       "cityCenters_nearest   -0.072971   -0.116707 -0.183730       -0.159422   \n",
       "weekday                0.031905    0.025232 -0.003599       -0.008827   \n",
       "month                 -0.025516   -0.020833 -0.014443       -0.014460   \n",
       "year                  -0.060917   -0.121361 -0.098569        0.013904   \n",
       "\n",
       "                     cityCenters_nearest   weekday     month      year  \n",
       "last_price                     -0.072971  0.031905 -0.025516 -0.060917  \n",
       "total_area                     -0.116707  0.025232 -0.020833 -0.121361  \n",
       "rooms                          -0.183730 -0.003599 -0.014443 -0.098569  \n",
       "ceiling_height                 -0.159422 -0.008827 -0.014460  0.013904  \n",
       "cityCenters_nearest             1.000000  0.022648 -0.002954  0.034676  \n",
       "weekday                         0.022648  1.000000  0.029444  0.000363  \n",
       "month                          -0.002954  0.029444  1.000000 -0.242380  \n",
       "year                            0.034676  0.000363 -0.242380  1.000000  "
      ]
     },
     "execution_count": 98,
     "metadata": {},
     "output_type": "execute_result"
    }
   ],
   "source": [
    "center_st_pet = df_st_pet.query('to_center_rounded < 8')\n",
    "center_st_pet[['last_price', 'total_area', 'rooms', 'ceiling_height', 'cityCenters_nearest', 'weekday','month', 'year']].corr()"
   ]
  },
  {
   "cell_type": "markdown",
   "metadata": {},
   "source": [
    "Значения корреляции по сегменту квартир в центре соответствуют ранее выведенным значениям в целом. На цену квартиры в большей степени влияет площадь, в меньше степени количетсво комнат, и близкая к нулю корреляция с высотой потолков. Построю диаграмму рассеяния для соотношения цена/площадь"
   ]
  },
  {
   "cell_type": "markdown",
   "metadata": {},
   "source": [
    "Посмотрим подробнее взаимосвязи"
   ]
  },
  {
   "cell_type": "code",
   "execution_count": 99,
   "metadata": {},
   "outputs": [
    {
     "data": {
      "image/png": "[encoded data removed]",
      "text/plain": [
       "<Figure size 432x288 with 1 Axes>"
      ]
     },
     "metadata": {
      "needs_background": "light"
     },
     "output_type": "display_data"
    }
   ],
   "source": [
    "center_st_pet.pivot_table(index='rooms', values='last_price', aggfunc='mean').plot(kind='bar')\n",
    "plt.show()"
   ]
  },
  {
   "cell_type": "markdown",
   "metadata": {},
   "source": [
    "Для центра города также характерна более высокая стоимость квартир с большим количеством комнат. Примечательно, что здесь стоимость \"квартиры с 0 комнат\" выше стоимости однокомнатной квартиры. Я объяснила бы это наличием в центре большого количества квартир старого фонда, где есть коммунальные квартиры. Комнаты в подобных квартирах по площади (50-60 кв м) могут превосходить однокомнатные квартиры и соответственно стоить дороже не только из-за площади, а также из-за потенциальной возможности превратить такую комнату в отдельную квартиру."
   ]
  },
  {
   "cell_type": "code",
   "execution_count": 100,
   "metadata": {
    "scrolled": true
   },
   "outputs": [
    {
     "data": {
      "image/png": "[encoded data removed]",
      "text/plain": [
       "<Figure size 1440x720 with 1 Axes>"
      ]
     },
     "metadata": {
      "needs_background": "light"
     },
     "output_type": "display_data"
    }
   ],
   "source": [
    "center_st_pet.pivot_table(index='ceiling_height', values='last_price', aggfunc='mean').plot(kind='bar', figsize=(20,10))\n",
    "plt.show()"
   ]
  },
  {
   "cell_type": "markdown",
   "metadata": {},
   "source": [
    "Этот график показывает, что доля дорогих квартир больше среди тех, где высота потолков выше 3,4 м. Это не для всех квартир \"работает\", однако подобной стоимости квартир с высотой потолков 2.5-2.7 даже не встречается. Можно сделать вывод, что высота потолков влияет на стоимость квартир - квартиры с высокими потолками скорее будут дороже."
   ]
  },
  {
   "cell_type": "code",
   "execution_count": 101,
   "metadata": {
    "scrolled": true
   },
   "outputs": [
    {
     "data": {
      "image/png": "[encoded data removed]",
      "text/plain": [
       "<Figure size 432x288 with 1 Axes>"
      ]
     },
     "metadata": {
      "needs_background": "light"
     },
     "output_type": "display_data"
    }
   ],
   "source": [
    "center_st_pet.plot(y='last_price', x='total_area', kind='scatter')\n",
    "plt.show()"
   ]
  },
  {
   "cell_type": "markdown",
   "metadata": {},
   "source": [
    "Видно, что график немного стремится вверх, при возрастании площади, растет и цена, однако следет отметить, что корреляция не сильная."
   ]
  },
  {
   "cell_type": "code",
   "execution_count": 102,
   "metadata": {},
   "outputs": [
    {
     "data": {
      "image/png": "[encoded data removed]",
      "text/plain": [
       "<Figure size 432x288 with 1 Axes>"
      ]
     },
     "metadata": {
      "needs_background": "light"
     },
     "output_type": "display_data"
    }
   ],
   "source": [
    "center_st_pet.pivot_table(index='floor_category', values='last_price', aggfunc='mean').plot(kind='bar')\n",
    "plt.show()"
   ]
  },
  {
   "cell_type": "markdown",
   "metadata": {},
   "source": [
    "Также наблюдаем, что у квартир на первом этаже в центре будет стоимость ниже, чем у квартир на других этажах. "
   ]
  },
  {
   "cell_type": "markdown",
   "metadata": {},
   "source": [
    "Исследовательский анализ показал, что есть взаимосвязь между ценой и площадью квартиры. Корреляция 0,63. не сильная. В меньше степени стоимость квартиры зависит от числа комнат (показатель 0,3). Графики этажности показывают, что квартиры на первом этаже будут стоить дешевле, на последнем - дороже. В целом данные по центру города подтверждают выводы и для других расположений, например, квартиры на первом этаже везде стоят дешевле, а стоимость квартир с большей площадью в среднем везде дороже. Однако есть и некоторые особенности, к примеру, в центре немного выше стоимость \"комнат\"(студий). Есть предположение, что это из-за наличия старого жилищного фонда с коммунальными квартирами. "
   ]
  },
  {
   "cell_type": "markdown",
   "metadata": {},
   "source": [
    "## Общий вывод"
   ]
  },
  {
   "cell_type": "markdown",
   "metadata": {},
   "source": [
    "В исследовании были проведены следующие этапы\n",
    "- Изучение данных \n",
    "- Предобработка (проверка на дубликаты и пропуски, изменение типа данных)\n",
    "- Расчет и добавление результатов в таблицу, как то этажность, стоимость за квадратеый метр\n",
    "- Исследовательский анализ данных (сваодные таблицы, таблицы корреляции, графики:гистограммы, столбчатые диаграммы, диаграммы рассеяния)\n",
    "Есть выводы промежуточные и на каждом шаге.\n",
    "В результате исследования выяснилось, что цена в большей степени зависит от площади квартиры, средняя стоимость квартиры уменьшается по мере удаления от города. В Выборге самая дешевая средняя стоимость за квадратный метр, в СПб - самая дорогая. По стоимости квартир границы центра города находятся в радиусе 8 км. Исследования отдельно по квартирам в центре подтвердили предыдущие выводы о том, что на цену более всего влияет площадь, а квартиры на первом этаже стоят дешевле, чем квартиры на других этажах. Есть и другие факторы, которые влияют на стоимость квартир: это количество комнат (чем их больше, тем квартира дороже) и высота потолков (квартиры с высокими потолками дороже).\n",
    "В исследовании встретились аномальные значения в некоторых столбцах. Все таки лучше выяснять точно, откуда такие значения берутся. Что-то может быть и ошибкой в сборе данных, а может и мошенническая деятельность. Мне показалось странным слишком долгая продолжительность продажи у некоторых квартир, может, есть какая-то схема, чтобы успеть продать одну квартиру не один раз. Я бы ограничила сроки размещения объявления одним годом - все таки большинство продается в первые 200 дней. Потом, возможно создать новое объявление.\n"
   ]
  }
 ],
 "metadata": {
  "ExecuteTimeLog": [
   {
    "duration": 582,
    "start_time": "2022-02-04T06:09:40.047Z"
   },
   {
    "duration": 64,
    "start_time": "2022-02-04T06:09:40.892Z"
   },
   {
    "duration": 76,
    "start_time": "2022-02-04T06:10:36.760Z"
   },
   {
    "duration": 70,
    "start_time": "2022-02-04T06:11:16.013Z"
   },
   {
    "duration": 102,
    "start_time": "2022-02-04T06:18:21.115Z"
   },
   {
    "duration": 110,
    "start_time": "2022-02-04T06:18:31.643Z"
   },
   {
    "duration": 3,
    "start_time": "2022-02-04T06:20:58.936Z"
   },
   {
    "duration": 166,
    "start_time": "2022-02-04T06:20:59.733Z"
   },
   {
    "duration": 9,
    "start_time": "2022-02-04T06:28:19.267Z"
   },
   {
    "duration": 168,
    "start_time": "2022-02-04T06:35:52.112Z"
   },
   {
    "duration": 9,
    "start_time": "2022-02-04T06:36:55.081Z"
   },
   {
    "duration": 368,
    "start_time": "2022-02-04T08:31:30.208Z"
   },
   {
    "duration": 704,
    "start_time": "2022-02-04T08:31:35.070Z"
   },
   {
    "duration": 187,
    "start_time": "2022-02-04T08:31:35.799Z"
   },
   {
    "duration": 12,
    "start_time": "2022-02-04T08:32:35.823Z"
   },
   {
    "duration": 10,
    "start_time": "2022-02-04T08:33:28.393Z"
   },
   {
    "duration": 11,
    "start_time": "2022-02-04T08:34:51.834Z"
   },
   {
    "duration": 38,
    "start_time": "2022-02-04T08:36:44.208Z"
   },
   {
    "duration": 15,
    "start_time": "2022-02-04T08:36:59.904Z"
   },
   {
    "duration": 7,
    "start_time": "2022-02-04T08:38:05.394Z"
   },
   {
    "duration": 8,
    "start_time": "2022-02-04T08:38:36.772Z"
   },
   {
    "duration": 7,
    "start_time": "2022-02-04T08:44:20.630Z"
   },
   {
    "duration": 6,
    "start_time": "2022-02-04T08:44:47.667Z"
   },
   {
    "duration": 7,
    "start_time": "2022-02-04T08:45:15.363Z"
   },
   {
    "duration": 8,
    "start_time": "2022-02-04T08:47:54.481Z"
   },
   {
    "duration": 9,
    "start_time": "2022-02-04T08:53:11.694Z"
   },
   {
    "duration": 332,
    "start_time": "2022-02-04T08:53:39.549Z"
   },
   {
    "duration": 297,
    "start_time": "2022-02-04T08:55:07.847Z"
   },
   {
    "duration": 8,
    "start_time": "2022-02-04T08:55:18.982Z"
   },
   {
    "duration": 17,
    "start_time": "2022-02-04T08:55:48.847Z"
   },
   {
    "duration": 9,
    "start_time": "2022-02-04T09:05:52.530Z"
   },
   {
    "duration": 21,
    "start_time": "2022-02-04T09:08:05.292Z"
   },
   {
    "duration": 49,
    "start_time": "2022-02-04T09:08:40.964Z"
   },
   {
    "duration": 25,
    "start_time": "2022-02-04T09:08:59.420Z"
   },
   {
    "duration": 28,
    "start_time": "2022-02-04T09:16:54.618Z"
   },
   {
    "duration": 23,
    "start_time": "2022-02-04T09:18:03.864Z"
   },
   {
    "duration": 28,
    "start_time": "2022-02-04T09:18:25.224Z"
   },
   {
    "duration": 22,
    "start_time": "2022-02-04T09:18:30.811Z"
   },
   {
    "duration": 10,
    "start_time": "2022-02-04T09:24:51.701Z"
   },
   {
    "duration": 23,
    "start_time": "2022-02-04T09:25:08.517Z"
   },
   {
    "duration": 37,
    "start_time": "2022-02-04T09:25:25.233Z"
   },
   {
    "duration": 12,
    "start_time": "2022-02-04T09:27:16.866Z"
   },
   {
    "duration": 34,
    "start_time": "2022-02-04T10:30:50.886Z"
   },
   {
    "duration": 23,
    "start_time": "2022-02-04T10:31:04.875Z"
   },
   {
    "duration": 3,
    "start_time": "2022-02-04T10:31:20.439Z"
   },
   {
    "duration": 192,
    "start_time": "2022-02-04T10:31:20.449Z"
   },
   {
    "duration": 12,
    "start_time": "2022-02-04T10:31:20.644Z"
   },
   {
    "duration": 14,
    "start_time": "2022-02-04T10:31:20.660Z"
   },
   {
    "duration": 23,
    "start_time": "2022-02-04T10:31:20.677Z"
   },
   {
    "duration": 57,
    "start_time": "2022-02-04T10:31:20.703Z"
   },
   {
    "duration": 30,
    "start_time": "2022-02-04T10:32:32.744Z"
   },
   {
    "duration": 26,
    "start_time": "2022-02-04T10:32:56.633Z"
   },
   {
    "duration": 12,
    "start_time": "2022-02-04T10:33:06.865Z"
   },
   {
    "duration": 11,
    "start_time": "2022-02-04T10:33:13.837Z"
   },
   {
    "duration": 33,
    "start_time": "2022-02-04T10:33:49.865Z"
   },
   {
    "duration": 8,
    "start_time": "2022-02-04T10:35:46.739Z"
   },
   {
    "duration": 47,
    "start_time": "2022-02-04T10:39:37.474Z"
   },
   {
    "duration": 1749,
    "start_time": "2022-02-04T10:42:42.528Z"
   },
   {
    "duration": 569,
    "start_time": "2022-02-04T10:43:44.062Z"
   },
   {
    "duration": 6,
    "start_time": "2022-02-04T10:45:50.242Z"
   },
   {
    "duration": 488,
    "start_time": "2022-02-04T10:47:03.707Z"
   },
   {
    "duration": 512,
    "start_time": "2022-02-04T10:47:33.428Z"
   },
   {
    "duration": 476,
    "start_time": "2022-02-04T10:53:16.596Z"
   },
   {
    "duration": 590,
    "start_time": "2022-02-04T10:53:58.381Z"
   },
   {
    "duration": 322,
    "start_time": "2022-02-04T10:58:37.712Z"
   },
   {
    "duration": 58,
    "start_time": "2022-02-04T10:58:54.936Z"
   },
   {
    "duration": 601,
    "start_time": "2022-02-04T10:59:43.013Z"
   },
   {
    "duration": 11,
    "start_time": "2022-02-04T11:00:10.952Z"
   },
   {
    "duration": 11,
    "start_time": "2022-02-04T11:00:31.010Z"
   },
   {
    "duration": 47,
    "start_time": "2022-02-04T11:05:59.449Z"
   },
   {
    "duration": 4,
    "start_time": "2022-02-04T11:07:59.306Z"
   },
   {
    "duration": 57,
    "start_time": "2022-02-04T11:07:59.612Z"
   },
   {
    "duration": 9,
    "start_time": "2022-02-04T11:08:00.092Z"
   },
   {
    "duration": 18,
    "start_time": "2022-02-04T11:08:00.107Z"
   },
   {
    "duration": 4,
    "start_time": "2022-02-04T11:09:57.169Z"
   },
   {
    "duration": 191,
    "start_time": "2022-02-04T11:09:57.176Z"
   },
   {
    "duration": 35,
    "start_time": "2022-02-04T11:09:57.370Z"
   },
   {
    "duration": 57318,
    "start_time": "2022-02-04T11:09:57.407Z"
   },
   {
    "duration": 61248,
    "start_time": "2022-02-04T11:15:26.349Z"
   },
   {
    "duration": -834,
    "start_time": "2022-02-04T11:16:28.534Z"
   },
   {
    "duration": 58190,
    "start_time": "2022-02-04T11:17:06.738Z"
   },
   {
    "duration": 59481,
    "start_time": "2022-02-04T11:20:54.449Z"
   },
   {
    "duration": 38,
    "start_time": "2022-02-04T11:23:35.939Z"
   },
   {
    "duration": 38,
    "start_time": "2022-02-04T11:24:50.580Z"
   },
   {
    "duration": 109,
    "start_time": "2022-02-04T11:31:44.751Z"
   },
   {
    "duration": 6,
    "start_time": "2022-02-04T11:31:57.613Z"
   },
   {
    "duration": 6,
    "start_time": "2022-02-04T11:32:03.165Z"
   },
   {
    "duration": 316,
    "start_time": "2022-02-04T11:34:58.776Z"
   },
   {
    "duration": 99,
    "start_time": "2022-02-04T11:39:38.751Z"
   },
   {
    "duration": 26,
    "start_time": "2022-02-04T11:39:54.059Z"
   },
   {
    "duration": 41,
    "start_time": "2022-02-04T11:40:14.132Z"
   },
   {
    "duration": 14,
    "start_time": "2022-02-04T11:42:34.425Z"
   },
   {
    "duration": 15,
    "start_time": "2022-02-04T11:42:44.545Z"
   },
   {
    "duration": 61,
    "start_time": "2022-02-04T11:55:57.092Z"
   },
   {
    "duration": 20,
    "start_time": "2022-02-04T11:56:31.218Z"
   },
   {
    "duration": 45,
    "start_time": "2022-02-04T11:57:16.872Z"
   },
   {
    "duration": 46,
    "start_time": "2022-02-04T11:57:37.844Z"
   },
   {
    "duration": 3,
    "start_time": "2022-02-04T11:57:51.432Z"
   },
   {
    "duration": 181,
    "start_time": "2022-02-04T11:57:51.442Z"
   },
   {
    "duration": 9,
    "start_time": "2022-02-04T11:57:51.625Z"
   },
   {
    "duration": 11,
    "start_time": "2022-02-04T11:57:51.650Z"
   },
   {
    "duration": 25,
    "start_time": "2022-02-04T11:57:51.664Z"
   },
   {
    "duration": 6,
    "start_time": "2022-02-04T11:57:51.691Z"
   },
   {
    "duration": 83,
    "start_time": "2022-02-04T11:57:51.699Z"
   },
   {
    "duration": 59283,
    "start_time": "2022-02-04T11:57:51.785Z"
   },
   {
    "duration": 5,
    "start_time": "2022-02-04T11:58:51.071Z"
   },
   {
    "duration": 14,
    "start_time": "2022-02-04T11:58:51.079Z"
   },
   {
    "duration": 6,
    "start_time": "2022-02-04T11:58:51.095Z"
   },
   {
    "duration": 438,
    "start_time": "2022-02-04T12:16:52.289Z"
   },
   {
    "duration": 328,
    "start_time": "2022-02-04T12:17:05.713Z"
   },
   {
    "duration": 516,
    "start_time": "2022-02-04T12:17:13.285Z"
   },
   {
    "duration": 104,
    "start_time": "2022-02-04T12:17:51.993Z"
   },
   {
    "duration": 544,
    "start_time": "2022-02-04T12:18:04.570Z"
   },
   {
    "duration": 538,
    "start_time": "2022-02-04T12:19:20.219Z"
   },
   {
    "duration": 3044,
    "start_time": "2022-02-04T12:19:32.343Z"
   },
   {
    "duration": 286,
    "start_time": "2022-02-04T12:19:43.507Z"
   },
   {
    "duration": 354,
    "start_time": "2022-02-04T12:19:54.427Z"
   },
   {
    "duration": 474,
    "start_time": "2022-02-04T12:20:23.380Z"
   },
   {
    "duration": 318,
    "start_time": "2022-02-04T12:20:33.486Z"
   },
   {
    "duration": 565,
    "start_time": "2022-02-04T12:20:41.935Z"
   },
   {
    "duration": 572,
    "start_time": "2022-02-04T12:21:26.808Z"
   },
   {
    "duration": 526,
    "start_time": "2022-02-04T12:21:49.273Z"
   },
   {
    "duration": 437,
    "start_time": "2022-02-04T12:23:55.390Z"
   },
   {
    "duration": 294,
    "start_time": "2022-02-04T12:24:17.091Z"
   },
   {
    "duration": 540,
    "start_time": "2022-02-04T12:24:26.579Z"
   },
   {
    "duration": 316,
    "start_time": "2022-02-04T12:24:58.611Z"
   },
   {
    "duration": 391,
    "start_time": "2022-02-04T12:27:51.797Z"
   },
   {
    "duration": 356,
    "start_time": "2022-02-04T12:29:38.655Z"
   },
   {
    "duration": -971,
    "start_time": "2022-02-04T12:29:39.986Z"
   },
   {
    "duration": -981,
    "start_time": "2022-02-04T12:29:39.997Z"
   },
   {
    "duration": -985,
    "start_time": "2022-02-04T12:29:40.003Z"
   },
   {
    "duration": -997,
    "start_time": "2022-02-04T12:29:40.016Z"
   },
   {
    "duration": -1001,
    "start_time": "2022-02-04T12:29:40.022Z"
   },
   {
    "duration": -1011,
    "start_time": "2022-02-04T12:29:40.033Z"
   },
   {
    "duration": -1015,
    "start_time": "2022-02-04T12:29:40.039Z"
   },
   {
    "duration": -1023,
    "start_time": "2022-02-04T12:29:40.049Z"
   },
   {
    "duration": -1028,
    "start_time": "2022-02-04T12:29:40.055Z"
   },
   {
    "duration": -1036,
    "start_time": "2022-02-04T12:29:40.065Z"
   },
   {
    "duration": -1069,
    "start_time": "2022-02-04T12:29:40.102Z"
   },
   {
    "duration": -1080,
    "start_time": "2022-02-04T12:29:40.114Z"
   },
   {
    "duration": -1084,
    "start_time": "2022-02-04T12:29:40.120Z"
   },
   {
    "duration": 546,
    "start_time": "2022-02-04T12:29:51.079Z"
   },
   {
    "duration": 439,
    "start_time": "2022-02-04T12:29:59.655Z"
   },
   {
    "duration": 291,
    "start_time": "2022-02-04T12:30:05.971Z"
   },
   {
    "duration": 312,
    "start_time": "2022-02-04T12:33:16.258Z"
   },
   {
    "duration": 530,
    "start_time": "2022-02-04T12:33:38.402Z"
   },
   {
    "duration": 544,
    "start_time": "2022-02-04T12:34:21.862Z"
   },
   {
    "duration": 400,
    "start_time": "2022-02-04T12:34:29.199Z"
   },
   {
    "duration": 374,
    "start_time": "2022-02-04T12:34:40.750Z"
   },
   {
    "duration": 347,
    "start_time": "2022-02-04T12:34:46.974Z"
   },
   {
    "duration": 310,
    "start_time": "2022-02-04T12:34:54.989Z"
   },
   {
    "duration": 310,
    "start_time": "2022-02-04T12:35:07.792Z"
   },
   {
    "duration": 566,
    "start_time": "2022-02-04T18:19:47.250Z"
   },
   {
    "duration": 155,
    "start_time": "2022-02-04T18:19:50.673Z"
   },
   {
    "duration": 14,
    "start_time": "2022-02-04T18:19:52.543Z"
   },
   {
    "duration": 10,
    "start_time": "2022-02-04T18:19:54.173Z"
   },
   {
    "duration": 20,
    "start_time": "2022-02-04T18:19:55.227Z"
   },
   {
    "duration": 5,
    "start_time": "2022-02-04T18:20:15.630Z"
   },
   {
    "duration": 41,
    "start_time": "2022-02-04T18:20:18.726Z"
   },
   {
    "duration": 698,
    "start_time": "2022-02-04T18:20:29.530Z"
   },
   {
    "duration": 500,
    "start_time": "2022-02-04T18:21:11.311Z"
   },
   {
    "duration": 298,
    "start_time": "2022-02-04T18:26:41.863Z"
   },
   {
    "duration": 18,
    "start_time": "2022-02-04T18:27:17.532Z"
   },
   {
    "duration": 11,
    "start_time": "2022-02-04T18:27:47.432Z"
   },
   {
    "duration": 30,
    "start_time": "2022-02-04T18:28:48.345Z"
   },
   {
    "duration": 25,
    "start_time": "2022-02-04T18:28:58.736Z"
   },
   {
    "duration": 12,
    "start_time": "2022-02-04T18:30:30.130Z"
   },
   {
    "duration": 12,
    "start_time": "2022-02-04T18:30:51.550Z"
   },
   {
    "duration": 10,
    "start_time": "2022-02-04T18:31:18.634Z"
   },
   {
    "duration": 7,
    "start_time": "2022-02-04T18:33:20.883Z"
   },
   {
    "duration": 5,
    "start_time": "2022-02-04T18:38:25.132Z"
   },
   {
    "duration": 4,
    "start_time": "2022-02-04T18:43:22.398Z"
   },
   {
    "duration": 3,
    "start_time": "2022-02-04T18:43:28.715Z"
   },
   {
    "duration": 9,
    "start_time": "2022-02-04T18:43:34.486Z"
   },
   {
    "duration": 13,
    "start_time": "2022-02-04T18:44:00.679Z"
   },
   {
    "duration": 291,
    "start_time": "2022-02-04T18:45:03.276Z"
   },
   {
    "duration": 31,
    "start_time": "2022-02-04T18:52:34.153Z"
   },
   {
    "duration": 25,
    "start_time": "2022-02-04T18:52:46.120Z"
   },
   {
    "duration": 7,
    "start_time": "2022-02-04T19:01:59.395Z"
   },
   {
    "duration": 14,
    "start_time": "2022-02-04T19:02:08.392Z"
   },
   {
    "duration": 4,
    "start_time": "2022-02-04T19:02:23.949Z"
   },
   {
    "duration": 34,
    "start_time": "2022-02-04T19:02:26.896Z"
   },
   {
    "duration": 489,
    "start_time": "2022-02-04T19:02:34.657Z"
   },
   {
    "duration": 14,
    "start_time": "2022-02-04T19:03:12.213Z"
   },
   {
    "duration": 546,
    "start_time": "2022-02-04T19:03:22.333Z"
   },
   {
    "duration": 18,
    "start_time": "2022-02-04T19:04:22.218Z"
   },
   {
    "duration": 14,
    "start_time": "2022-02-04T19:04:34.146Z"
   },
   {
    "duration": 515,
    "start_time": "2022-02-05T05:47:58.818Z"
   },
   {
    "duration": 594,
    "start_time": "2022-02-05T05:48:21.736Z"
   },
   {
    "duration": 158,
    "start_time": "2022-02-05T05:48:22.332Z"
   },
   {
    "duration": 28,
    "start_time": "2022-02-05T05:48:22.492Z"
   },
   {
    "duration": 14,
    "start_time": "2022-02-05T05:48:22.521Z"
   },
   {
    "duration": 37,
    "start_time": "2022-02-05T05:48:22.537Z"
   },
   {
    "duration": 20,
    "start_time": "2022-02-05T05:48:22.575Z"
   },
   {
    "duration": 62,
    "start_time": "2022-02-05T05:48:22.597Z"
   },
   {
    "duration": 4,
    "start_time": "2022-02-05T05:49:04.550Z"
   },
   {
    "duration": 7,
    "start_time": "2022-02-05T05:49:04.556Z"
   },
   {
    "duration": 5,
    "start_time": "2022-02-05T05:49:04.565Z"
   },
   {
    "duration": 542,
    "start_time": "2022-02-05T05:49:04.572Z"
   },
   {
    "duration": 220,
    "start_time": "2022-02-05T05:49:05.116Z"
   },
   {
    "duration": 232,
    "start_time": "2022-02-05T05:49:05.338Z"
   },
   {
    "duration": 429,
    "start_time": "2022-02-05T05:49:05.572Z"
   },
   {
    "duration": 44625,
    "start_time": "2022-02-05T05:49:06.004Z"
   },
   {
    "duration": 1274,
    "start_time": "2022-02-05T07:17:55.888Z"
   },
   {
    "duration": 1027,
    "start_time": "2022-02-05T07:18:56.684Z"
   },
   {
    "duration": 386,
    "start_time": "2022-02-05T07:25:54.010Z"
   },
   {
    "duration": 7,
    "start_time": "2022-02-05T07:33:00.471Z"
   },
   {
    "duration": 6,
    "start_time": "2022-02-05T07:33:08.927Z"
   },
   {
    "duration": 1061,
    "start_time": "2022-02-05T07:33:29.791Z"
   },
   {
    "duration": 2,
    "start_time": "2022-02-05T07:33:53.299Z"
   },
   {
    "duration": 148,
    "start_time": "2022-02-05T07:33:53.359Z"
   },
   {
    "duration": 26,
    "start_time": "2022-02-05T07:33:53.509Z"
   },
   {
    "duration": 9,
    "start_time": "2022-02-05T07:33:53.537Z"
   },
   {
    "duration": 20,
    "start_time": "2022-02-05T07:33:53.548Z"
   },
   {
    "duration": 3,
    "start_time": "2022-02-05T07:33:53.570Z"
   },
   {
    "duration": 61,
    "start_time": "2022-02-05T07:33:53.575Z"
   },
   {
    "duration": 1154,
    "start_time": "2022-02-05T07:33:53.638Z"
   },
   {
    "duration": -2494,
    "start_time": "2022-02-05T07:33:57.288Z"
   },
   {
    "duration": -2502,
    "start_time": "2022-02-05T07:33:57.297Z"
   },
   {
    "duration": -2508,
    "start_time": "2022-02-05T07:33:57.304Z"
   },
   {
    "duration": -2514,
    "start_time": "2022-02-05T07:33:57.311Z"
   },
   {
    "duration": -2519,
    "start_time": "2022-02-05T07:33:57.317Z"
   },
   {
    "duration": -2525,
    "start_time": "2022-02-05T07:33:57.324Z"
   },
   {
    "duration": -2530,
    "start_time": "2022-02-05T07:33:57.330Z"
   },
   {
    "duration": 508,
    "start_time": "2022-02-05T07:34:54.696Z"
   },
   {
    "duration": 403,
    "start_time": "2022-02-05T09:33:17.933Z"
   },
   {
    "duration": 214,
    "start_time": "2022-02-05T09:33:28.302Z"
   },
   {
    "duration": 215,
    "start_time": "2022-02-05T09:33:39.270Z"
   },
   {
    "duration": 453,
    "start_time": "2022-02-05T09:33:53.986Z"
   },
   {
    "duration": 104,
    "start_time": "2022-02-05T09:34:32.519Z"
   },
   {
    "duration": 394,
    "start_time": "2022-02-05T09:34:39.375Z"
   },
   {
    "duration": 405,
    "start_time": "2022-02-05T09:34:57.695Z"
   },
   {
    "duration": 220,
    "start_time": "2022-02-05T09:37:36.777Z"
   },
   {
    "duration": 205,
    "start_time": "2022-02-05T09:38:07.913Z"
   },
   {
    "duration": 244,
    "start_time": "2022-02-05T09:38:29.557Z"
   },
   {
    "duration": 276,
    "start_time": "2022-02-05T09:42:01.176Z"
   },
   {
    "duration": 291,
    "start_time": "2022-02-05T09:42:20.140Z"
   },
   {
    "duration": 11,
    "start_time": "2022-02-05T09:42:47.021Z"
   },
   {
    "duration": 378,
    "start_time": "2022-02-05T09:53:23.363Z"
   },
   {
    "duration": 468,
    "start_time": "2022-02-05T09:53:44.432Z"
   },
   {
    "duration": 391,
    "start_time": "2022-02-05T09:54:07.510Z"
   },
   {
    "duration": 385,
    "start_time": "2022-02-05T09:54:44.285Z"
   },
   {
    "duration": 37,
    "start_time": "2022-02-05T09:58:44.512Z"
   },
   {
    "duration": 44,
    "start_time": "2022-02-05T10:01:45.090Z"
   },
   {
    "duration": 277,
    "start_time": "2022-02-05T10:28:15.630Z"
   },
   {
    "duration": 942,
    "start_time": "2022-02-05T10:28:57.610Z"
   },
   {
    "duration": 159,
    "start_time": "2022-02-05T10:29:36.751Z"
   },
   {
    "duration": 381,
    "start_time": "2022-02-05T10:30:19.051Z"
   },
   {
    "duration": 475,
    "start_time": "2022-02-05T10:31:06.725Z"
   },
   {
    "duration": 9,
    "start_time": "2022-02-05T10:33:35.742Z"
   },
   {
    "duration": 389,
    "start_time": "2022-02-05T10:38:46.452Z"
   },
   {
    "duration": 386,
    "start_time": "2022-02-05T10:39:29.970Z"
   },
   {
    "duration": 604,
    "start_time": "2022-02-05T10:40:48.858Z"
   },
   {
    "duration": 94,
    "start_time": "2022-02-05T10:41:16.735Z"
   },
   {
    "duration": 698,
    "start_time": "2022-02-05T10:41:24.152Z"
   },
   {
    "duration": 391,
    "start_time": "2022-02-05T10:41:40.699Z"
   },
   {
    "duration": 590,
    "start_time": "2022-02-05T10:45:58.115Z"
   },
   {
    "duration": 596,
    "start_time": "2022-02-05T10:46:17.150Z"
   },
   {
    "duration": 11,
    "start_time": "2022-02-05T10:48:34.164Z"
   },
   {
    "duration": 16,
    "start_time": "2022-02-05T10:48:58.711Z"
   },
   {
    "duration": 272,
    "start_time": "2022-02-05T10:49:13.853Z"
   },
   {
    "duration": 14,
    "start_time": "2022-02-05T10:49:20.761Z"
   },
   {
    "duration": 14,
    "start_time": "2022-02-05T10:49:43.450Z"
   },
   {
    "duration": 16,
    "start_time": "2022-02-05T10:53:21.604Z"
   },
   {
    "duration": 13,
    "start_time": "2022-02-05T10:53:33.893Z"
   },
   {
    "duration": 3,
    "start_time": "2022-02-05T10:53:41.396Z"
   },
   {
    "duration": 161,
    "start_time": "2022-02-05T10:53:41.407Z"
   },
   {
    "duration": 43,
    "start_time": "2022-02-05T10:53:41.570Z"
   },
   {
    "duration": 10,
    "start_time": "2022-02-05T10:53:41.615Z"
   },
   {
    "duration": 257,
    "start_time": "2022-02-05T10:53:41.628Z"
   },
   {
    "duration": -193,
    "start_time": "2022-02-05T10:53:42.080Z"
   },
   {
    "duration": -203,
    "start_time": "2022-02-05T10:53:42.092Z"
   },
   {
    "duration": -210,
    "start_time": "2022-02-05T10:53:42.100Z"
   },
   {
    "duration": -219,
    "start_time": "2022-02-05T10:53:42.110Z"
   },
   {
    "duration": -230,
    "start_time": "2022-02-05T10:53:42.122Z"
   },
   {
    "duration": -239,
    "start_time": "2022-02-05T10:53:42.132Z"
   },
   {
    "duration": -246,
    "start_time": "2022-02-05T10:53:42.141Z"
   },
   {
    "duration": -254,
    "start_time": "2022-02-05T10:53:42.150Z"
   },
   {
    "duration": -326,
    "start_time": "2022-02-05T10:53:42.223Z"
   },
   {
    "duration": -363,
    "start_time": "2022-02-05T10:53:42.261Z"
   },
   {
    "duration": -369,
    "start_time": "2022-02-05T10:53:42.268Z"
   },
   {
    "duration": -404,
    "start_time": "2022-02-05T10:53:42.304Z"
   },
   {
    "duration": -411,
    "start_time": "2022-02-05T10:53:42.312Z"
   },
   {
    "duration": 18,
    "start_time": "2022-02-05T10:54:50.025Z"
   },
   {
    "duration": 15,
    "start_time": "2022-02-05T10:55:10.453Z"
   },
   {
    "duration": 5,
    "start_time": "2022-02-05T10:55:13.829Z"
   },
   {
    "duration": 40,
    "start_time": "2022-02-05T10:55:15.269Z"
   },
   {
    "duration": 519,
    "start_time": "2022-02-05T10:55:18.173Z"
   },
   {
    "duration": 15,
    "start_time": "2022-02-05T11:03:15.651Z"
   },
   {
    "duration": 3,
    "start_time": "2022-02-05T11:19:37.225Z"
   },
   {
    "duration": 161,
    "start_time": "2022-02-05T11:19:37.246Z"
   },
   {
    "duration": 35,
    "start_time": "2022-02-05T11:19:37.429Z"
   },
   {
    "duration": 42,
    "start_time": "2022-02-05T11:19:37.473Z"
   },
   {
    "duration": 15,
    "start_time": "2022-02-05T11:19:37.559Z"
   },
   {
    "duration": 4,
    "start_time": "2022-02-05T11:19:38.129Z"
   },
   {
    "duration": 39,
    "start_time": "2022-02-05T11:19:38.146Z"
   },
   {
    "duration": 544,
    "start_time": "2022-02-05T11:19:38.206Z"
   },
   {
    "duration": 9,
    "start_time": "2022-02-05T11:19:38.756Z"
   },
   {
    "duration": 6,
    "start_time": "2022-02-05T11:19:39.195Z"
   },
   {
    "duration": 2,
    "start_time": "2022-02-05T11:19:39.432Z"
   },
   {
    "duration": 445,
    "start_time": "2022-02-05T11:19:39.682Z"
   },
   {
    "duration": 228,
    "start_time": "2022-02-05T11:19:40.372Z"
   },
   {
    "duration": 224,
    "start_time": "2022-02-05T11:19:41.239Z"
   },
   {
    "duration": 227,
    "start_time": "2022-02-05T11:19:41.476Z"
   },
   {
    "duration": 616,
    "start_time": "2022-02-05T11:19:41.720Z"
   },
   {
    "duration": 318,
    "start_time": "2022-02-05T11:27:45.271Z"
   },
   {
    "duration": 637,
    "start_time": "2022-02-05T11:27:55.917Z"
   },
   {
    "duration": 170,
    "start_time": "2022-02-05T11:27:56.556Z"
   },
   {
    "duration": 29,
    "start_time": "2022-02-05T11:27:56.728Z"
   },
   {
    "duration": 9,
    "start_time": "2022-02-05T11:27:56.760Z"
   },
   {
    "duration": 43,
    "start_time": "2022-02-05T11:27:56.771Z"
   },
   {
    "duration": 5,
    "start_time": "2022-02-05T11:27:56.816Z"
   },
   {
    "duration": 39,
    "start_time": "2022-02-05T11:27:56.823Z"
   },
   {
    "duration": 549,
    "start_time": "2022-02-05T11:27:56.866Z"
   },
   {
    "duration": 4,
    "start_time": "2022-02-05T11:27:57.417Z"
   },
   {
    "duration": 8,
    "start_time": "2022-02-05T11:27:57.422Z"
   },
   {
    "duration": 6,
    "start_time": "2022-02-05T11:27:57.431Z"
   },
   {
    "duration": 543,
    "start_time": "2022-02-05T11:27:57.438Z"
   },
   {
    "duration": 217,
    "start_time": "2022-02-05T11:27:57.983Z"
   },
   {
    "duration": 220,
    "start_time": "2022-02-05T11:27:58.202Z"
   },
   {
    "duration": 215,
    "start_time": "2022-02-05T11:27:58.424Z"
   },
   {
    "duration": 640,
    "start_time": "2022-02-05T11:27:58.641Z"
   },
   {
    "duration": 17,
    "start_time": "2022-02-05T11:27:59.283Z"
   },
   {
    "duration": 20,
    "start_time": "2022-02-05T11:27:59.301Z"
   },
   {
    "duration": 3,
    "start_time": "2022-02-05T11:39:37.619Z"
   },
   {
    "duration": 149,
    "start_time": "2022-02-05T11:43:55.326Z"
   },
   {
    "duration": 25,
    "start_time": "2022-02-05T11:43:55.536Z"
   },
   {
    "duration": 9,
    "start_time": "2022-02-05T11:43:55.563Z"
   },
   {
    "duration": 40,
    "start_time": "2022-02-05T11:43:55.574Z"
   },
   {
    "duration": 4,
    "start_time": "2022-02-05T11:43:55.616Z"
   },
   {
    "duration": 47,
    "start_time": "2022-02-05T11:43:55.622Z"
   },
   {
    "duration": 522,
    "start_time": "2022-02-05T11:43:55.671Z"
   },
   {
    "duration": 6,
    "start_time": "2022-02-05T11:43:56.195Z"
   },
   {
    "duration": 7,
    "start_time": "2022-02-05T11:43:56.202Z"
   },
   {
    "duration": 5,
    "start_time": "2022-02-05T11:43:56.211Z"
   },
   {
    "duration": 4875,
    "start_time": "2022-02-05T11:43:56.218Z"
   },
   {
    "duration": 237,
    "start_time": "2022-02-05T11:44:01.334Z"
   },
   {
    "duration": 245,
    "start_time": "2022-02-05T11:44:01.573Z"
   },
   {
    "duration": 643,
    "start_time": "2022-02-05T11:44:01.820Z"
   },
   {
    "duration": 10,
    "start_time": "2022-02-05T11:44:02.465Z"
   },
   {
    "duration": 32,
    "start_time": "2022-02-05T11:44:02.477Z"
   },
   {
    "duration": 107,
    "start_time": "2022-02-05T11:44:02.511Z"
   },
   {
    "duration": 53,
    "start_time": "2022-02-05T11:44:02.620Z"
   },
   {
    "duration": 237,
    "start_time": "2022-02-05T11:44:02.686Z"
   },
   {
    "duration": 7213,
    "start_time": "2022-02-05T11:50:00.099Z"
   },
   {
    "duration": 6,
    "start_time": "2022-02-05T11:50:17.515Z"
   },
   {
    "duration": 41,
    "start_time": "2022-02-05T11:56:35.704Z"
   },
   {
    "duration": 30,
    "start_time": "2022-02-05T12:05:14.250Z"
   },
   {
    "duration": 39,
    "start_time": "2022-02-05T12:05:28.907Z"
   },
   {
    "duration": 9,
    "start_time": "2022-02-05T12:08:34.333Z"
   },
   {
    "duration": 10,
    "start_time": "2022-02-05T12:08:51.993Z"
   },
   {
    "duration": 9,
    "start_time": "2022-02-05T12:08:59.729Z"
   },
   {
    "duration": 6,
    "start_time": "2022-02-05T12:09:51.801Z"
   },
   {
    "duration": 303,
    "start_time": "2022-02-05T12:10:29.646Z"
   },
   {
    "duration": 18,
    "start_time": "2022-02-05T12:12:05.645Z"
   },
   {
    "duration": 18,
    "start_time": "2022-02-05T12:12:18.452Z"
   },
   {
    "duration": 9,
    "start_time": "2022-02-05T12:12:40.624Z"
   },
   {
    "duration": 17,
    "start_time": "2022-02-05T12:13:39.097Z"
   },
   {
    "duration": 15,
    "start_time": "2022-02-05T12:14:07.600Z"
   },
   {
    "duration": 17,
    "start_time": "2022-02-05T12:14:19.657Z"
   },
   {
    "duration": 16,
    "start_time": "2022-02-05T12:14:55.165Z"
   },
   {
    "duration": 32,
    "start_time": "2022-02-05T12:16:07.037Z"
   },
   {
    "duration": 14,
    "start_time": "2022-02-05T12:16:19.750Z"
   },
   {
    "duration": 227,
    "start_time": "2022-02-05T12:21:45.313Z"
   },
   {
    "duration": 221,
    "start_time": "2022-02-06T06:13:41.950Z"
   },
   {
    "duration": 540,
    "start_time": "2022-02-06T06:13:46.427Z"
   },
   {
    "duration": 68,
    "start_time": "2022-02-06T06:13:46.979Z"
   },
   {
    "duration": 73,
    "start_time": "2022-02-06T06:24:47.159Z"
   },
   {
    "duration": 80,
    "start_time": "2022-02-06T06:24:58.505Z"
   },
   {
    "duration": 74,
    "start_time": "2022-02-06T06:25:11.608Z"
   },
   {
    "duration": 29,
    "start_time": "2022-02-06T06:26:12.163Z"
   },
   {
    "duration": 9,
    "start_time": "2022-02-06T06:27:27.002Z"
   },
   {
    "duration": 16,
    "start_time": "2022-02-06T06:43:51.367Z"
   },
   {
    "duration": 14,
    "start_time": "2022-02-06T07:02:58.749Z"
   },
   {
    "duration": 24,
    "start_time": "2022-02-06T07:04:07.410Z"
   },
   {
    "duration": 4,
    "start_time": "2022-02-06T07:04:21.332Z"
   },
   {
    "duration": 35,
    "start_time": "2022-02-06T07:04:29.736Z"
   },
   {
    "duration": 13,
    "start_time": "2022-02-06T07:04:38.899Z"
   },
   {
    "duration": 455,
    "start_time": "2022-02-06T07:04:46.238Z"
   },
   {
    "duration": 4,
    "start_time": "2022-02-06T07:05:01.455Z"
   },
   {
    "duration": 4,
    "start_time": "2022-02-06T07:05:02.254Z"
   },
   {
    "duration": 292,
    "start_time": "2022-02-06T07:09:12.369Z"
   },
   {
    "duration": 1232,
    "start_time": "2022-02-06T15:43:36.437Z"
   },
   {
    "duration": 533,
    "start_time": "2022-02-06T15:43:42.573Z"
   },
   {
    "duration": 68,
    "start_time": "2022-02-06T15:43:43.108Z"
   },
   {
    "duration": 59,
    "start_time": "2022-02-06T15:43:43.178Z"
   },
   {
    "duration": 24,
    "start_time": "2022-02-06T15:43:43.239Z"
   },
   {
    "duration": 9,
    "start_time": "2022-02-06T15:43:43.264Z"
   },
   {
    "duration": 38,
    "start_time": "2022-02-06T15:43:43.275Z"
   },
   {
    "duration": 4,
    "start_time": "2022-02-06T15:43:43.315Z"
   },
   {
    "duration": 19,
    "start_time": "2022-02-06T15:43:43.321Z"
   },
   {
    "duration": 505,
    "start_time": "2022-02-06T15:43:43.341Z"
   },
   {
    "duration": 3,
    "start_time": "2022-02-06T15:43:43.848Z"
   },
   {
    "duration": 5,
    "start_time": "2022-02-06T15:43:43.853Z"
   },
   {
    "duration": 477,
    "start_time": "2022-02-06T15:43:43.859Z"
   },
   {
    "duration": 199,
    "start_time": "2022-02-06T15:43:44.338Z"
   },
   {
    "duration": 209,
    "start_time": "2022-02-06T15:43:44.539Z"
   },
   {
    "duration": 201,
    "start_time": "2022-02-06T15:43:44.750Z"
   },
   {
    "duration": 564,
    "start_time": "2022-02-06T15:43:44.953Z"
   },
   {
    "duration": 9,
    "start_time": "2022-02-06T15:43:45.519Z"
   },
   {
    "duration": 17,
    "start_time": "2022-02-06T15:43:45.530Z"
   },
   {
    "duration": 221,
    "start_time": "2022-02-06T15:43:45.549Z"
   },
   {
    "duration": 7,
    "start_time": "2022-02-06T15:43:45.772Z"
   },
   {
    "duration": 2,
    "start_time": "2022-02-06T15:51:23.026Z"
   },
   {
    "duration": 21,
    "start_time": "2022-02-06T16:28:31.544Z"
   },
   {
    "duration": 10,
    "start_time": "2022-02-06T16:29:39.270Z"
   },
   {
    "duration": 13,
    "start_time": "2022-02-06T16:31:39.296Z"
   },
   {
    "duration": 14,
    "start_time": "2022-02-06T16:36:45.278Z"
   },
   {
    "duration": 187,
    "start_time": "2022-02-06T16:37:00.766Z"
   },
   {
    "duration": 364,
    "start_time": "2022-02-06T16:37:19.158Z"
   },
   {
    "duration": 218,
    "start_time": "2022-02-06T16:37:44.400Z"
   },
   {
    "duration": 14,
    "start_time": "2022-02-06T16:37:56.674Z"
   },
   {
    "duration": 234,
    "start_time": "2022-02-06T16:39:24.126Z"
   },
   {
    "duration": 16,
    "start_time": "2022-02-06T16:41:22.948Z"
   },
   {
    "duration": 169,
    "start_time": "2022-02-06T16:42:06.246Z"
   },
   {
    "duration": 171,
    "start_time": "2022-02-06T16:43:39.748Z"
   },
   {
    "duration": 184,
    "start_time": "2022-02-06T16:48:25.689Z"
   },
   {
    "duration": 16,
    "start_time": "2022-02-06T16:48:43.631Z"
   },
   {
    "duration": 173,
    "start_time": "2022-02-06T17:00:48.005Z"
   },
   {
    "duration": 192,
    "start_time": "2022-02-06T17:01:08.101Z"
   },
   {
    "duration": 27,
    "start_time": "2022-02-06T17:01:27.861Z"
   },
   {
    "duration": 194,
    "start_time": "2022-02-06T17:01:49.016Z"
   },
   {
    "duration": 27,
    "start_time": "2022-02-06T17:02:37.598Z"
   },
   {
    "duration": 200,
    "start_time": "2022-02-06T17:03:20.020Z"
   },
   {
    "duration": 23,
    "start_time": "2022-02-06T17:03:49.008Z"
   },
   {
    "duration": 13,
    "start_time": "2022-02-06T17:04:09.365Z"
   },
   {
    "duration": 25,
    "start_time": "2022-02-06T17:04:18.836Z"
   },
   {
    "duration": 5,
    "start_time": "2022-02-06T17:09:28.935Z"
   },
   {
    "duration": 7,
    "start_time": "2022-02-06T17:11:00.287Z"
   },
   {
    "duration": 8,
    "start_time": "2022-02-06T17:11:06.146Z"
   },
   {
    "duration": 9,
    "start_time": "2022-02-06T17:11:17.624Z"
   },
   {
    "duration": 13,
    "start_time": "2022-02-06T17:18:18.276Z"
   },
   {
    "duration": 12,
    "start_time": "2022-02-06T17:18:37.332Z"
   },
   {
    "duration": 11,
    "start_time": "2022-02-06T17:18:44.963Z"
   },
   {
    "duration": 197,
    "start_time": "2022-02-06T17:20:47.214Z"
   },
   {
    "duration": 15,
    "start_time": "2022-02-06T17:21:12.786Z"
   },
   {
    "duration": 6304,
    "start_time": "2022-02-06T17:23:46.535Z"
   },
   {
    "duration": 404,
    "start_time": "2022-02-06T17:26:21.655Z"
   },
   {
    "duration": 6446,
    "start_time": "2022-02-06T17:35:33.385Z"
   },
   {
    "duration": 10,
    "start_time": "2022-02-06T17:37:50.855Z"
   },
   {
    "duration": 8,
    "start_time": "2022-02-06T17:38:22.651Z"
   },
   {
    "duration": 5,
    "start_time": "2022-02-06T17:39:26.185Z"
   },
   {
    "duration": 8,
    "start_time": "2022-02-06T17:39:41.605Z"
   },
   {
    "duration": 9,
    "start_time": "2022-02-06T17:41:03.214Z"
   },
   {
    "duration": 309,
    "start_time": "2022-02-07T11:33:26.937Z"
   },
   {
    "duration": 652,
    "start_time": "2022-02-07T11:33:33.168Z"
   },
   {
    "duration": 75,
    "start_time": "2022-02-07T11:33:33.822Z"
   },
   {
    "duration": 73,
    "start_time": "2022-02-07T11:33:33.899Z"
   },
   {
    "duration": 27,
    "start_time": "2022-02-07T11:33:33.974Z"
   },
   {
    "duration": 20,
    "start_time": "2022-02-07T11:33:34.002Z"
   },
   {
    "duration": 16,
    "start_time": "2022-02-07T11:33:34.024Z"
   },
   {
    "duration": 5,
    "start_time": "2022-02-07T11:33:34.042Z"
   },
   {
    "duration": 20,
    "start_time": "2022-02-07T11:33:34.049Z"
   },
   {
    "duration": 536,
    "start_time": "2022-02-07T11:33:34.071Z"
   },
   {
    "duration": 9,
    "start_time": "2022-02-07T11:33:34.609Z"
   },
   {
    "duration": 18,
    "start_time": "2022-02-07T11:33:34.620Z"
   },
   {
    "duration": 418,
    "start_time": "2022-02-07T11:33:34.640Z"
   },
   {
    "duration": 199,
    "start_time": "2022-02-07T11:33:35.060Z"
   },
   {
    "duration": 211,
    "start_time": "2022-02-07T11:33:35.261Z"
   },
   {
    "duration": 190,
    "start_time": "2022-02-07T11:33:35.474Z"
   },
   {
    "duration": 544,
    "start_time": "2022-02-07T11:33:35.666Z"
   },
   {
    "duration": 13,
    "start_time": "2022-02-07T11:33:36.212Z"
   },
   {
    "duration": 32,
    "start_time": "2022-02-07T11:33:36.227Z"
   },
   {
    "duration": 15,
    "start_time": "2022-02-07T11:33:36.261Z"
   },
   {
    "duration": 191,
    "start_time": "2022-02-07T11:33:36.278Z"
   },
   {
    "duration": 10,
    "start_time": "2022-02-07T11:33:36.472Z"
   },
   {
    "duration": 5,
    "start_time": "2022-02-07T11:33:51.336Z"
   },
   {
    "duration": 5,
    "start_time": "2022-02-07T11:33:52.947Z"
   },
   {
    "duration": 25,
    "start_time": "2022-02-07T11:34:03.376Z"
   },
   {
    "duration": 282,
    "start_time": "2022-02-07T11:36:55.247Z"
   },
   {
    "duration": 10,
    "start_time": "2022-02-07T11:37:26.589Z"
   },
   {
    "duration": 10,
    "start_time": "2022-02-07T11:37:47.873Z"
   },
   {
    "duration": 448,
    "start_time": "2022-02-07T11:40:03.910Z"
   },
   {
    "duration": 8,
    "start_time": "2022-02-07T11:40:24.684Z"
   },
   {
    "duration": 165,
    "start_time": "2022-02-07T11:41:45.702Z"
   },
   {
    "duration": 5701,
    "start_time": "2022-02-07T11:42:21.389Z"
   },
   {
    "duration": 11598,
    "start_time": "2022-02-07T11:43:04.467Z"
   },
   {
    "duration": 301,
    "start_time": "2022-02-07T11:44:17.316Z"
   },
   {
    "duration": 404,
    "start_time": "2022-02-07T11:44:35.789Z"
   },
   {
    "duration": 533,
    "start_time": "2022-02-07T11:44:54.818Z"
   },
   {
    "duration": 186,
    "start_time": "2022-02-07T11:45:32.141Z"
   },
   {
    "duration": 320,
    "start_time": "2022-02-07T11:46:32.990Z"
   },
   {
    "duration": 313,
    "start_time": "2022-02-07T11:46:40.319Z"
   },
   {
    "duration": 602,
    "start_time": "2022-02-07T11:46:50.006Z"
   },
   {
    "duration": 320,
    "start_time": "2022-02-07T11:47:09.068Z"
   },
   {
    "duration": 589,
    "start_time": "2022-02-07T11:49:00.596Z"
   },
   {
    "duration": 325,
    "start_time": "2022-02-07T11:49:23.835Z"
   },
   {
    "duration": 156,
    "start_time": "2022-02-07T11:51:05.800Z"
   },
   {
    "duration": 5941,
    "start_time": "2022-02-07T11:51:23.614Z"
   },
   {
    "duration": 5855,
    "start_time": "2022-02-07T11:52:10.613Z"
   },
   {
    "duration": 5847,
    "start_time": "2022-02-07T11:52:30.232Z"
   },
   {
    "duration": 168,
    "start_time": "2022-02-07T11:53:25.196Z"
   },
   {
    "duration": 170,
    "start_time": "2022-02-07T11:53:42.556Z"
   },
   {
    "duration": 149,
    "start_time": "2022-02-07T11:55:05.645Z"
   },
   {
    "duration": 90,
    "start_time": "2022-02-07T11:55:36.558Z"
   },
   {
    "duration": 87,
    "start_time": "2022-02-07T11:55:45.943Z"
   },
   {
    "duration": 90,
    "start_time": "2022-02-07T11:55:54.373Z"
   },
   {
    "duration": 84,
    "start_time": "2022-02-07T11:56:04.664Z"
   },
   {
    "duration": 80,
    "start_time": "2022-02-07T11:56:24.610Z"
   },
   {
    "duration": 143,
    "start_time": "2022-02-07T11:56:32.194Z"
   },
   {
    "duration": 90,
    "start_time": "2022-02-07T11:56:59.846Z"
   },
   {
    "duration": 153,
    "start_time": "2022-02-07T11:57:05.944Z"
   },
   {
    "duration": 208,
    "start_time": "2022-02-07T11:57:51.919Z"
   },
   {
    "duration": 217,
    "start_time": "2022-02-07T11:58:19.394Z"
   },
   {
    "duration": 148,
    "start_time": "2022-02-07T11:58:31.334Z"
   },
   {
    "duration": 153,
    "start_time": "2022-02-07T11:58:37.905Z"
   },
   {
    "duration": 192,
    "start_time": "2022-02-07T11:58:45.984Z"
   },
   {
    "duration": 155,
    "start_time": "2022-02-07T11:58:54.763Z"
   },
   {
    "duration": 5,
    "start_time": "2022-02-07T12:01:12.972Z"
   },
   {
    "duration": 4,
    "start_time": "2022-02-07T12:01:16.696Z"
   },
   {
    "duration": 304,
    "start_time": "2022-02-07T12:01:27.455Z"
   },
   {
    "duration": 9,
    "start_time": "2022-02-07T12:02:39.818Z"
   },
   {
    "duration": 9,
    "start_time": "2022-02-07T12:02:47.338Z"
   },
   {
    "duration": 267,
    "start_time": "2022-02-07T12:13:10.066Z"
   },
   {
    "duration": 22,
    "start_time": "2022-02-07T12:16:51.364Z"
   },
   {
    "duration": 13,
    "start_time": "2022-02-07T12:17:09.619Z"
   },
   {
    "duration": 20,
    "start_time": "2022-02-07T12:17:16.180Z"
   },
   {
    "duration": 3,
    "start_time": "2022-02-07T12:17:24.943Z"
   },
   {
    "duration": 74,
    "start_time": "2022-02-07T12:17:24.948Z"
   },
   {
    "duration": 68,
    "start_time": "2022-02-07T12:17:25.024Z"
   },
   {
    "duration": 41,
    "start_time": "2022-02-07T12:17:25.095Z"
   },
   {
    "duration": 11,
    "start_time": "2022-02-07T12:17:25.138Z"
   },
   {
    "duration": 24,
    "start_time": "2022-02-07T12:17:25.151Z"
   },
   {
    "duration": 4,
    "start_time": "2022-02-07T12:17:25.177Z"
   },
   {
    "duration": 47,
    "start_time": "2022-02-07T12:17:25.184Z"
   },
   {
    "duration": 603,
    "start_time": "2022-02-07T12:17:25.233Z"
   },
   {
    "duration": 5,
    "start_time": "2022-02-07T12:17:25.838Z"
   },
   {
    "duration": 39,
    "start_time": "2022-02-07T12:17:25.844Z"
   },
   {
    "duration": 356,
    "start_time": "2022-02-07T12:17:25.885Z"
   },
   {
    "duration": 197,
    "start_time": "2022-02-07T12:17:26.242Z"
   },
   {
    "duration": 211,
    "start_time": "2022-02-07T12:17:26.441Z"
   },
   {
    "duration": 611,
    "start_time": "2022-02-07T12:17:26.654Z"
   },
   {
    "duration": 850,
    "start_time": "2022-02-07T12:17:27.268Z"
   },
   {
    "duration": 12,
    "start_time": "2022-02-07T12:17:28.121Z"
   },
   {
    "duration": 21,
    "start_time": "2022-02-07T12:17:28.135Z"
   },
   {
    "duration": 22,
    "start_time": "2022-02-07T12:17:28.158Z"
   },
   {
    "duration": 194,
    "start_time": "2022-02-07T12:17:28.183Z"
   },
   {
    "duration": 9,
    "start_time": "2022-02-07T12:17:28.379Z"
   },
   {
    "duration": 300,
    "start_time": "2022-02-07T12:17:28.390Z"
   },
   {
    "duration": 3,
    "start_time": "2022-02-07T12:18:13.863Z"
   },
   {
    "duration": 96,
    "start_time": "2022-02-07T12:18:13.868Z"
   },
   {
    "duration": 109,
    "start_time": "2022-02-07T12:18:13.967Z"
   },
   {
    "duration": 25,
    "start_time": "2022-02-07T12:18:14.078Z"
   },
   {
    "duration": 21,
    "start_time": "2022-02-07T12:18:14.105Z"
   },
   {
    "duration": 17,
    "start_time": "2022-02-07T12:18:14.128Z"
   },
   {
    "duration": 4,
    "start_time": "2022-02-07T12:18:14.146Z"
   },
   {
    "duration": 35,
    "start_time": "2022-02-07T12:18:14.151Z"
   },
   {
    "duration": 492,
    "start_time": "2022-02-07T12:18:14.189Z"
   },
   {
    "duration": 5,
    "start_time": "2022-02-07T12:18:14.683Z"
   },
   {
    "duration": 37,
    "start_time": "2022-02-07T12:18:14.689Z"
   },
   {
    "duration": 367,
    "start_time": "2022-02-07T12:18:14.728Z"
   },
   {
    "duration": 201,
    "start_time": "2022-02-07T12:18:15.097Z"
   },
   {
    "duration": 206,
    "start_time": "2022-02-07T12:18:15.300Z"
   },
   {
    "duration": 199,
    "start_time": "2022-02-07T12:18:15.508Z"
   },
   {
    "duration": 537,
    "start_time": "2022-02-07T12:18:15.708Z"
   },
   {
    "duration": 11,
    "start_time": "2022-02-07T12:18:16.247Z"
   },
   {
    "duration": 22,
    "start_time": "2022-02-07T12:18:16.260Z"
   },
   {
    "duration": 43,
    "start_time": "2022-02-07T12:18:16.284Z"
   },
   {
    "duration": 259,
    "start_time": "2022-02-07T12:18:16.329Z"
   },
   {
    "duration": 10,
    "start_time": "2022-02-07T12:18:16.590Z"
   },
   {
    "duration": 264,
    "start_time": "2022-02-07T12:18:16.602Z"
   },
   {
    "duration": 11,
    "start_time": "2022-02-07T12:20:13.786Z"
   },
   {
    "duration": 18,
    "start_time": "2022-02-07T12:25:20.881Z"
   },
   {
    "duration": 320,
    "start_time": "2022-02-07T12:31:41.143Z"
   },
   {
    "duration": 15,
    "start_time": "2022-02-07T12:32:11.768Z"
   },
   {
    "duration": 19,
    "start_time": "2022-02-07T12:32:48.768Z"
   },
   {
    "duration": 20,
    "start_time": "2022-02-07T12:32:59.735Z"
   },
   {
    "duration": 20,
    "start_time": "2022-02-07T12:32:59.973Z"
   },
   {
    "duration": 28,
    "start_time": "2022-02-07T12:33:25.980Z"
   },
   {
    "duration": 19,
    "start_time": "2022-02-07T12:35:37.978Z"
   },
   {
    "duration": 7,
    "start_time": "2022-02-07T12:35:48.526Z"
   },
   {
    "duration": 88,
    "start_time": "2022-02-07T12:36:03.014Z"
   },
   {
    "duration": 11,
    "start_time": "2022-02-07T12:36:08.094Z"
   },
   {
    "duration": 13,
    "start_time": "2022-02-07T12:38:14.272Z"
   },
   {
    "duration": 12,
    "start_time": "2022-02-07T12:38:19.147Z"
   },
   {
    "duration": 17,
    "start_time": "2022-02-07T12:38:46.177Z"
   },
   {
    "duration": 7,
    "start_time": "2022-02-07T12:38:58.662Z"
   },
   {
    "duration": 12,
    "start_time": "2022-02-07T12:39:03.058Z"
   },
   {
    "duration": 341,
    "start_time": "2022-02-07T14:17:23.038Z"
   },
   {
    "duration": 330,
    "start_time": "2022-02-07T14:18:21.204Z"
   },
   {
    "duration": 12,
    "start_time": "2022-02-07T14:19:11.871Z"
   },
   {
    "duration": 36,
    "start_time": "2022-02-07T14:19:29.955Z"
   },
   {
    "duration": 31,
    "start_time": "2022-02-07T14:19:58.546Z"
   },
   {
    "duration": 18,
    "start_time": "2022-02-07T14:20:42.555Z"
   },
   {
    "duration": 35,
    "start_time": "2022-02-07T14:21:00.263Z"
   },
   {
    "duration": 17,
    "start_time": "2022-02-07T14:21:38.761Z"
   },
   {
    "duration": 13,
    "start_time": "2022-02-07T14:22:28.130Z"
   },
   {
    "duration": 8,
    "start_time": "2022-02-07T14:22:37.552Z"
   },
   {
    "duration": 13,
    "start_time": "2022-02-07T14:23:48.179Z"
   },
   {
    "duration": 25,
    "start_time": "2022-02-07T14:24:14.062Z"
   },
   {
    "duration": 324,
    "start_time": "2022-02-07T14:30:56.454Z"
   },
   {
    "duration": 11,
    "start_time": "2022-02-07T14:31:32.947Z"
   },
   {
    "duration": 11,
    "start_time": "2022-02-07T14:41:45.973Z"
   },
   {
    "duration": 305,
    "start_time": "2022-02-07T14:42:43.594Z"
   },
   {
    "duration": 13,
    "start_time": "2022-02-07T14:43:51.306Z"
   },
   {
    "duration": 11,
    "start_time": "2022-02-07T14:43:59.386Z"
   },
   {
    "duration": 3321,
    "start_time": "2022-02-07T14:45:16.043Z"
   },
   {
    "duration": 4846,
    "start_time": "2022-02-07T14:45:56.587Z"
   },
   {
    "duration": 10,
    "start_time": "2022-02-07T14:46:23.175Z"
   },
   {
    "duration": 12,
    "start_time": "2022-02-07T14:47:06.594Z"
   },
   {
    "duration": 14,
    "start_time": "2022-02-07T14:47:23.514Z"
   },
   {
    "duration": 16,
    "start_time": "2022-02-07T14:48:02.847Z"
   },
   {
    "duration": 20,
    "start_time": "2022-02-07T14:48:42.547Z"
   },
   {
    "duration": 271,
    "start_time": "2022-02-07T14:49:29.608Z"
   },
   {
    "duration": 15,
    "start_time": "2022-02-07T14:50:26.776Z"
   },
   {
    "duration": 17,
    "start_time": "2022-02-07T14:59:27.138Z"
   },
   {
    "duration": 14,
    "start_time": "2022-02-07T14:59:44.296Z"
   },
   {
    "duration": 15,
    "start_time": "2022-02-07T15:00:02.570Z"
   },
   {
    "duration": 33,
    "start_time": "2022-02-07T15:00:21.659Z"
   },
   {
    "duration": 31,
    "start_time": "2022-02-07T15:01:29.667Z"
   },
   {
    "duration": 84,
    "start_time": "2022-02-07T15:01:57.364Z"
   },
   {
    "duration": 31,
    "start_time": "2022-02-07T15:02:18.843Z"
   },
   {
    "duration": 21,
    "start_time": "2022-02-07T15:05:41.839Z"
   },
   {
    "duration": 26,
    "start_time": "2022-02-07T15:05:59.633Z"
   },
   {
    "duration": 211,
    "start_time": "2022-02-07T15:06:42.976Z"
   },
   {
    "duration": 399,
    "start_time": "2022-02-07T15:07:19.895Z"
   },
   {
    "duration": 388,
    "start_time": "2022-02-07T15:08:11.439Z"
   },
   {
    "duration": 8,
    "start_time": "2022-02-07T15:16:37.138Z"
   },
   {
    "duration": 11,
    "start_time": "2022-02-07T15:17:10.908Z"
   },
   {
    "duration": 27,
    "start_time": "2022-02-07T15:17:39.548Z"
   },
   {
    "duration": 19,
    "start_time": "2022-02-07T15:24:15.093Z"
   },
   {
    "duration": 326,
    "start_time": "2022-02-07T15:30:28.109Z"
   },
   {
    "duration": 93,
    "start_time": "2022-02-07T15:48:29.672Z"
   },
   {
    "duration": 15,
    "start_time": "2022-02-07T15:50:20.544Z"
   },
   {
    "duration": 5,
    "start_time": "2022-02-07T15:50:58.993Z"
   },
   {
    "duration": 15,
    "start_time": "2022-02-07T15:51:01.192Z"
   },
   {
    "duration": 11,
    "start_time": "2022-02-07T15:53:02.893Z"
   },
   {
    "duration": 18,
    "start_time": "2022-02-07T15:53:32.915Z"
   },
   {
    "duration": 17,
    "start_time": "2022-02-07T15:53:34.906Z"
   },
   {
    "duration": 23,
    "start_time": "2022-02-07T15:57:25.352Z"
   },
   {
    "duration": -1679,
    "start_time": "2022-02-07T15:59:30.837Z"
   },
   {
    "duration": 350,
    "start_time": "2022-02-07T15:59:36.725Z"
   },
   {
    "duration": 193,
    "start_time": "2022-02-07T16:05:59.932Z"
   },
   {
    "duration": 3,
    "start_time": "2022-02-07T16:22:39.474Z"
   },
   {
    "duration": 73,
    "start_time": "2022-02-07T16:22:39.478Z"
   },
   {
    "duration": 73,
    "start_time": "2022-02-07T16:22:39.553Z"
   },
   {
    "duration": 26,
    "start_time": "2022-02-07T16:22:39.629Z"
   },
   {
    "duration": 11,
    "start_time": "2022-02-07T16:22:39.657Z"
   },
   {
    "duration": 20,
    "start_time": "2022-02-07T16:22:39.669Z"
   },
   {
    "duration": 30,
    "start_time": "2022-02-07T16:22:39.691Z"
   },
   {
    "duration": 22,
    "start_time": "2022-02-07T16:22:39.723Z"
   },
   {
    "duration": 578,
    "start_time": "2022-02-07T16:22:39.747Z"
   },
   {
    "duration": 5,
    "start_time": "2022-02-07T16:22:40.328Z"
   },
   {
    "duration": 34,
    "start_time": "2022-02-07T16:22:40.335Z"
   },
   {
    "duration": 362,
    "start_time": "2022-02-07T16:22:40.371Z"
   },
   {
    "duration": 185,
    "start_time": "2022-02-07T16:22:40.735Z"
   },
   {
    "duration": 200,
    "start_time": "2022-02-07T16:22:40.922Z"
   },
   {
    "duration": 196,
    "start_time": "2022-02-07T16:22:41.124Z"
   },
   {
    "duration": 522,
    "start_time": "2022-02-07T16:22:41.322Z"
   },
   {
    "duration": 9,
    "start_time": "2022-02-07T16:22:41.846Z"
   },
   {
    "duration": 16,
    "start_time": "2022-02-07T16:22:41.857Z"
   },
   {
    "duration": 15,
    "start_time": "2022-02-07T16:22:41.875Z"
   },
   {
    "duration": 199,
    "start_time": "2022-02-07T16:22:41.891Z"
   },
   {
    "duration": 7,
    "start_time": "2022-02-07T16:22:42.092Z"
   },
   {
    "duration": 21,
    "start_time": "2022-02-07T16:22:42.101Z"
   },
   {
    "duration": 17,
    "start_time": "2022-02-07T16:22:42.124Z"
   },
   {
    "duration": 292,
    "start_time": "2022-02-07T16:22:42.142Z"
   },
   {
    "duration": 18,
    "start_time": "2022-02-07T16:22:42.436Z"
   },
   {
    "duration": 297,
    "start_time": "2022-02-07T16:22:42.456Z"
   },
   {
    "duration": 172,
    "start_time": "2022-02-07T16:22:42.756Z"
   },
   {
    "duration": 773,
    "start_time": "2022-02-13T14:17:31.315Z"
   },
   {
    "duration": 85,
    "start_time": "2022-02-13T14:17:32.091Z"
   },
   {
    "duration": 78,
    "start_time": "2022-02-13T14:17:32.179Z"
   },
   {
    "duration": 29,
    "start_time": "2022-02-13T14:17:32.259Z"
   },
   {
    "duration": 23,
    "start_time": "2022-02-13T14:17:32.289Z"
   },
   {
    "duration": 40,
    "start_time": "2022-02-13T14:17:32.315Z"
   },
   {
    "duration": 6,
    "start_time": "2022-02-13T14:17:32.358Z"
   },
   {
    "duration": 41,
    "start_time": "2022-02-13T14:17:32.366Z"
   },
   {
    "duration": 596,
    "start_time": "2022-02-13T14:17:32.413Z"
   },
   {
    "duration": 6,
    "start_time": "2022-02-13T14:17:33.011Z"
   },
   {
    "duration": 26,
    "start_time": "2022-02-13T14:17:33.018Z"
   },
   {
    "duration": 489,
    "start_time": "2022-02-13T14:17:33.046Z"
   },
   {
    "duration": 229,
    "start_time": "2022-02-13T14:17:33.537Z"
   },
   {
    "duration": 244,
    "start_time": "2022-02-13T14:17:33.768Z"
   },
   {
    "duration": 254,
    "start_time": "2022-02-13T14:17:34.014Z"
   },
   {
    "duration": 656,
    "start_time": "2022-02-13T14:17:34.270Z"
   },
   {
    "duration": 11,
    "start_time": "2022-02-13T14:17:34.928Z"
   },
   {
    "duration": 19,
    "start_time": "2022-02-13T14:17:34.941Z"
   },
   {
    "duration": 46,
    "start_time": "2022-02-13T14:17:34.962Z"
   },
   {
    "duration": 223,
    "start_time": "2022-02-13T14:17:35.010Z"
   },
   {
    "duration": 8,
    "start_time": "2022-02-13T14:17:35.235Z"
   },
   {
    "duration": 12,
    "start_time": "2022-02-13T14:17:35.245Z"
   },
   {
    "duration": 13,
    "start_time": "2022-02-13T14:17:35.258Z"
   },
   {
    "duration": 393,
    "start_time": "2022-02-13T14:17:35.273Z"
   },
   {
    "duration": 19,
    "start_time": "2022-02-13T14:17:35.668Z"
   },
   {
    "duration": 374,
    "start_time": "2022-02-13T14:17:35.703Z"
   },
   {
    "duration": 266,
    "start_time": "2022-02-13T14:17:36.080Z"
   },
   {
    "duration": 343,
    "start_time": "2022-02-13T15:59:52.198Z"
   },
   {
    "duration": 706,
    "start_time": "2022-02-13T16:00:12.531Z"
   },
   {
    "duration": 74,
    "start_time": "2022-02-13T16:00:13.239Z"
   },
   {
    "duration": 70,
    "start_time": "2022-02-13T16:00:13.315Z"
   },
   {
    "duration": 38,
    "start_time": "2022-02-13T16:00:13.387Z"
   },
   {
    "duration": 9,
    "start_time": "2022-02-13T16:00:13.426Z"
   },
   {
    "duration": 15,
    "start_time": "2022-02-13T16:00:13.436Z"
   },
   {
    "duration": 334,
    "start_time": "2022-02-13T16:00:13.452Z"
   },
   {
    "duration": -6723,
    "start_time": "2022-02-13T16:00:20.512Z"
   },
   {
    "duration": -6745,
    "start_time": "2022-02-13T16:00:20.535Z"
   },
   {
    "duration": -6762,
    "start_time": "2022-02-13T16:00:20.553Z"
   },
   {
    "duration": -6816,
    "start_time": "2022-02-13T16:00:20.608Z"
   },
   {
    "duration": -6876,
    "start_time": "2022-02-13T16:00:20.669Z"
   },
   {
    "duration": -6887,
    "start_time": "2022-02-13T16:00:20.681Z"
   },
   {
    "duration": -6900,
    "start_time": "2022-02-13T16:00:20.695Z"
   },
   {
    "duration": -6926,
    "start_time": "2022-02-13T16:00:20.722Z"
   },
   {
    "duration": -6940,
    "start_time": "2022-02-13T16:00:20.737Z"
   },
   {
    "duration": -6953,
    "start_time": "2022-02-13T16:00:20.751Z"
   },
   {
    "duration": -6964,
    "start_time": "2022-02-13T16:00:20.763Z"
   },
   {
    "duration": -6974,
    "start_time": "2022-02-13T16:00:20.774Z"
   },
   {
    "duration": -6986,
    "start_time": "2022-02-13T16:00:20.787Z"
   },
   {
    "duration": -7003,
    "start_time": "2022-02-13T16:00:20.805Z"
   },
   {
    "duration": -7034,
    "start_time": "2022-02-13T16:00:20.837Z"
   },
   {
    "duration": -7062,
    "start_time": "2022-02-13T16:00:20.866Z"
   },
   {
    "duration": -7080,
    "start_time": "2022-02-13T16:00:20.885Z"
   },
   {
    "duration": -7093,
    "start_time": "2022-02-13T16:00:20.899Z"
   },
   {
    "duration": -7128,
    "start_time": "2022-02-13T16:00:20.935Z"
   },
   {
    "duration": -7158,
    "start_time": "2022-02-13T16:00:20.966Z"
   },
   {
    "duration": -7208,
    "start_time": "2022-02-13T16:00:21.017Z"
   },
   {
    "duration": 7,
    "start_time": "2022-02-13T16:00:43.167Z"
   },
   {
    "duration": 6,
    "start_time": "2022-02-13T16:02:26.909Z"
   },
   {
    "duration": 11,
    "start_time": "2022-02-13T16:02:37.471Z"
   },
   {
    "duration": 7,
    "start_time": "2022-02-13T16:10:38.874Z"
   },
   {
    "duration": 13,
    "start_time": "2022-02-13T16:13:00.352Z"
   },
   {
    "duration": 24,
    "start_time": "2022-02-13T16:21:50.468Z"
   },
   {
    "duration": 32,
    "start_time": "2022-02-13T16:22:06.759Z"
   },
   {
    "duration": 27,
    "start_time": "2022-02-13T16:22:30.895Z"
   },
   {
    "duration": 257,
    "start_time": "2022-02-13T16:25:28.405Z"
   },
   {
    "duration": 276,
    "start_time": "2022-02-13T16:25:39.549Z"
   },
   {
    "duration": 7,
    "start_time": "2022-02-13T16:26:04.454Z"
   },
   {
    "duration": 36,
    "start_time": "2022-02-13T16:33:32.990Z"
   },
   {
    "duration": 30,
    "start_time": "2022-02-13T16:34:00.416Z"
   },
   {
    "duration": 27,
    "start_time": "2022-02-13T16:34:13.720Z"
   },
   {
    "duration": 32,
    "start_time": "2022-02-13T16:35:05.668Z"
   },
   {
    "duration": 39,
    "start_time": "2022-02-13T16:37:43.892Z"
   },
   {
    "duration": 70,
    "start_time": "2022-02-13T16:39:39.606Z"
   },
   {
    "duration": 37,
    "start_time": "2022-02-13T16:40:58.358Z"
   },
   {
    "duration": 43,
    "start_time": "2022-02-13T16:41:12.673Z"
   },
   {
    "duration": 11,
    "start_time": "2022-02-13T16:41:58.709Z"
   },
   {
    "duration": 7,
    "start_time": "2022-02-13T16:42:23.610Z"
   },
   {
    "duration": 23,
    "start_time": "2022-02-13T16:43:16.311Z"
   },
   {
    "duration": 6702,
    "start_time": "2022-02-13T17:02:50.288Z"
   },
   {
    "duration": 6,
    "start_time": "2022-02-13T17:03:48.406Z"
   },
   {
    "duration": 94,
    "start_time": "2022-02-13T17:15:53.260Z"
   },
   {
    "duration": 90,
    "start_time": "2022-02-13T17:16:08.726Z"
   },
   {
    "duration": 96,
    "start_time": "2022-02-13T17:16:20.872Z"
   },
   {
    "duration": 6695,
    "start_time": "2022-02-13T17:17:00.038Z"
   },
   {
    "duration": 46,
    "start_time": "2022-02-13T17:17:52.463Z"
   },
   {
    "duration": 14,
    "start_time": "2022-02-13T17:18:34.090Z"
   },
   {
    "duration": 9,
    "start_time": "2022-02-13T17:27:56.765Z"
   },
   {
    "duration": 16,
    "start_time": "2022-02-13T17:28:01.470Z"
   },
   {
    "duration": 18,
    "start_time": "2022-02-13T17:28:46.362Z"
   },
   {
    "duration": 354,
    "start_time": "2022-02-13T17:44:11.265Z"
   },
   {
    "duration": 20,
    "start_time": "2022-02-13T17:44:39.130Z"
   },
   {
    "duration": 15,
    "start_time": "2022-02-13T17:45:34.601Z"
   },
   {
    "duration": 21,
    "start_time": "2022-02-13T17:47:02.288Z"
   },
   {
    "duration": 10,
    "start_time": "2022-02-13T17:55:02.825Z"
   },
   {
    "duration": 6632,
    "start_time": "2022-02-13T18:06:42.855Z"
   },
   {
    "duration": 139,
    "start_time": "2022-02-13T18:07:06.692Z"
   },
   {
    "duration": 145,
    "start_time": "2022-02-13T18:07:20.347Z"
   },
   {
    "duration": 130,
    "start_time": "2022-02-13T18:07:55.776Z"
   },
   {
    "duration": 268,
    "start_time": "2022-02-13T18:10:14.665Z"
   },
   {
    "duration": 14,
    "start_time": "2022-02-13T18:10:23.832Z"
   },
   {
    "duration": 15,
    "start_time": "2022-02-13T18:11:04.802Z"
   },
   {
    "duration": 15,
    "start_time": "2022-02-13T18:11:13.882Z"
   },
   {
    "duration": 143,
    "start_time": "2022-02-13T18:11:29.562Z"
   },
   {
    "duration": 159,
    "start_time": "2022-02-13T18:16:32.426Z"
   },
   {
    "duration": 97,
    "start_time": "2022-02-13T18:18:41.687Z"
   },
   {
    "duration": 133,
    "start_time": "2022-02-13T18:18:54.763Z"
   },
   {
    "duration": 4,
    "start_time": "2022-02-13T18:25:21.476Z"
   },
   {
    "duration": 284,
    "start_time": "2022-02-13T18:26:00.753Z"
   },
   {
    "duration": 6,
    "start_time": "2022-02-13T18:27:05.913Z"
   },
   {
    "duration": 9,
    "start_time": "2022-02-13T18:28:58.543Z"
   },
   {
    "duration": 13,
    "start_time": "2022-02-13T18:29:12.283Z"
   },
   {
    "duration": 3,
    "start_time": "2022-02-13T18:35:05.407Z"
   },
   {
    "duration": 272,
    "start_time": "2022-02-13T18:50:17.085Z"
   },
   {
    "duration": 6,
    "start_time": "2022-02-13T18:50:33.170Z"
   },
   {
    "duration": 434,
    "start_time": "2022-02-13T18:54:22.804Z"
   },
   {
    "duration": 9,
    "start_time": "2022-02-13T18:55:41.173Z"
   },
   {
    "duration": 215,
    "start_time": "2022-02-13T18:57:29.578Z"
   },
   {
    "duration": 294,
    "start_time": "2022-02-13T18:58:29.367Z"
   },
   {
    "duration": 231,
    "start_time": "2022-02-13T18:58:57.084Z"
   },
   {
    "duration": 233,
    "start_time": "2022-02-13T19:01:15.882Z"
   },
   {
    "duration": 7,
    "start_time": "2022-02-13T19:01:42.761Z"
   },
   {
    "duration": 311,
    "start_time": "2022-02-13T19:02:04.562Z"
   },
   {
    "duration": 27,
    "start_time": "2022-02-13T19:02:33.690Z"
   },
   {
    "duration": 1021,
    "start_time": "2022-02-13T19:13:30.994Z"
   },
   {
    "duration": 181,
    "start_time": "2022-02-13T19:13:43.470Z"
   },
   {
    "duration": 6,
    "start_time": "2022-02-13T19:20:00.319Z"
   },
   {
    "duration": 164,
    "start_time": "2022-02-13T19:20:32.226Z"
   },
   {
    "duration": 281,
    "start_time": "2022-02-13T19:22:43.480Z"
   },
   {
    "duration": 217,
    "start_time": "2022-02-13T19:23:36.528Z"
   },
   {
    "duration": 27,
    "start_time": "2022-02-13T19:28:58.585Z"
   },
   {
    "duration": 10,
    "start_time": "2022-02-13T19:29:16.917Z"
   },
   {
    "duration": 26,
    "start_time": "2022-02-13T19:30:45.026Z"
   },
   {
    "duration": 629,
    "start_time": "2022-02-13T19:32:17.779Z"
   },
   {
    "duration": 9,
    "start_time": "2022-02-13T19:32:39.112Z"
   },
   {
    "duration": 11,
    "start_time": "2022-02-13T19:35:44.070Z"
   },
   {
    "duration": 10,
    "start_time": "2022-02-13T19:36:02.410Z"
   },
   {
    "duration": 10,
    "start_time": "2022-02-13T19:36:44.034Z"
   },
   {
    "duration": 14,
    "start_time": "2022-02-13T19:37:11.803Z"
   },
   {
    "duration": 263,
    "start_time": "2022-02-13T19:38:15.541Z"
   },
   {
    "duration": 257,
    "start_time": "2022-02-13T19:38:40.336Z"
   },
   {
    "duration": 14,
    "start_time": "2022-02-13T19:39:20.624Z"
   },
   {
    "duration": 17,
    "start_time": "2022-02-13T19:39:38.325Z"
   },
   {
    "duration": 9,
    "start_time": "2022-02-13T19:41:17.410Z"
   },
   {
    "duration": 16,
    "start_time": "2022-02-13T19:41:40.078Z"
   },
   {
    "duration": 16,
    "start_time": "2022-02-13T19:43:11.175Z"
   },
   {
    "duration": 260,
    "start_time": "2022-02-13T19:48:33.179Z"
   },
   {
    "duration": 266,
    "start_time": "2022-02-13T19:49:54.412Z"
   },
   {
    "duration": 13,
    "start_time": "2022-02-13T19:50:10.645Z"
   },
   {
    "duration": 16,
    "start_time": "2022-02-13T19:50:53.489Z"
   },
   {
    "duration": 13,
    "start_time": "2022-02-13T19:52:41.982Z"
   },
   {
    "duration": 11,
    "start_time": "2022-02-13T19:53:00.395Z"
   },
   {
    "duration": 16,
    "start_time": "2022-02-13T19:53:16.934Z"
   },
   {
    "duration": 9,
    "start_time": "2022-02-13T19:53:56.515Z"
   },
   {
    "duration": 17,
    "start_time": "2022-02-13T19:54:05.507Z"
   },
   {
    "duration": 738,
    "start_time": "2022-02-13T19:56:29.308Z"
   },
   {
    "duration": 77,
    "start_time": "2022-02-13T19:56:30.049Z"
   },
   {
    "duration": 88,
    "start_time": "2022-02-13T19:56:30.128Z"
   },
   {
    "duration": 31,
    "start_time": "2022-02-13T19:56:30.219Z"
   },
   {
    "duration": 11,
    "start_time": "2022-02-13T19:56:30.252Z"
   },
   {
    "duration": 43,
    "start_time": "2022-02-13T19:56:30.264Z"
   },
   {
    "duration": 22,
    "start_time": "2022-02-13T19:56:30.310Z"
   },
   {
    "duration": 30,
    "start_time": "2022-02-13T19:56:30.335Z"
   },
   {
    "duration": 37,
    "start_time": "2022-02-13T19:56:30.368Z"
   },
   {
    "duration": 153,
    "start_time": "2022-02-13T19:56:30.407Z"
   },
   {
    "duration": 12,
    "start_time": "2022-02-13T19:56:30.562Z"
   },
   {
    "duration": 5,
    "start_time": "2022-02-13T19:56:30.575Z"
   },
   {
    "duration": 33,
    "start_time": "2022-02-13T19:56:30.582Z"
   },
   {
    "duration": 574,
    "start_time": "2022-02-13T19:56:30.617Z"
   },
   {
    "duration": 7,
    "start_time": "2022-02-13T19:56:31.193Z"
   },
   {
    "duration": 32,
    "start_time": "2022-02-13T19:56:31.202Z"
   },
   {
    "duration": 492,
    "start_time": "2022-02-13T19:56:31.236Z"
   },
   {
    "duration": 8,
    "start_time": "2022-02-13T19:56:31.730Z"
   },
   {
    "duration": 243,
    "start_time": "2022-02-13T19:56:31.740Z"
   },
   {
    "duration": 245,
    "start_time": "2022-02-13T19:56:31.984Z"
   },
   {
    "duration": 190,
    "start_time": "2022-02-13T19:56:32.231Z"
   },
   {
    "duration": 258,
    "start_time": "2022-02-13T19:56:32.423Z"
   },
   {
    "duration": 649,
    "start_time": "2022-02-13T19:56:32.685Z"
   },
   {
    "duration": 10,
    "start_time": "2022-02-13T19:56:33.336Z"
   },
   {
    "duration": 20,
    "start_time": "2022-02-13T19:56:33.348Z"
   },
   {
    "duration": 38,
    "start_time": "2022-02-13T19:56:33.370Z"
   },
   {
    "duration": 201,
    "start_time": "2022-02-13T19:56:33.410Z"
   },
   {
    "duration": 7,
    "start_time": "2022-02-13T19:56:33.613Z"
   },
   {
    "duration": 15,
    "start_time": "2022-02-13T19:56:33.621Z"
   },
   {
    "duration": 12,
    "start_time": "2022-02-13T19:56:33.638Z"
   },
   {
    "duration": 373,
    "start_time": "2022-02-13T19:56:33.652Z"
   },
   {
    "duration": 19,
    "start_time": "2022-02-13T19:56:34.027Z"
   },
   {
    "duration": 462,
    "start_time": "2022-02-13T19:56:34.048Z"
   },
   {
    "duration": 232,
    "start_time": "2022-02-13T19:56:34.512Z"
   },
   {
    "duration": 184,
    "start_time": "2022-02-13T20:18:11.140Z"
   },
   {
    "duration": 210,
    "start_time": "2022-02-13T20:19:49.841Z"
   },
   {
    "duration": 442,
    "start_time": "2022-02-13T20:20:14.248Z"
   },
   {
    "duration": 631,
    "start_time": "2022-02-13T20:20:27.130Z"
   },
   {
    "duration": 788,
    "start_time": "2022-02-13T20:25:46.618Z"
   },
   {
    "duration": 1040,
    "start_time": "2022-02-13T20:26:07.610Z"
   },
   {
    "duration": 665,
    "start_time": "2022-02-13T20:31:58.455Z"
   },
   {
    "duration": 75,
    "start_time": "2022-02-13T20:31:59.122Z"
   },
   {
    "duration": 71,
    "start_time": "2022-02-13T20:31:59.199Z"
   },
   {
    "duration": 44,
    "start_time": "2022-02-13T20:31:59.272Z"
   },
   {
    "duration": 9,
    "start_time": "2022-02-13T20:31:59.318Z"
   },
   {
    "duration": 16,
    "start_time": "2022-02-13T20:31:59.329Z"
   },
   {
    "duration": 7,
    "start_time": "2022-02-13T20:31:59.347Z"
   },
   {
    "duration": 56,
    "start_time": "2022-02-13T20:31:59.357Z"
   },
   {
    "duration": 19,
    "start_time": "2022-02-13T20:31:59.415Z"
   },
   {
    "duration": 151,
    "start_time": "2022-02-13T20:31:59.436Z"
   },
   {
    "duration": 22,
    "start_time": "2022-02-13T20:31:59.589Z"
   },
   {
    "duration": 5,
    "start_time": "2022-02-13T20:31:59.613Z"
   },
   {
    "duration": 25,
    "start_time": "2022-02-13T20:31:59.620Z"
   },
   {
    "duration": 554,
    "start_time": "2022-02-13T20:31:59.647Z"
   },
   {
    "duration": 4,
    "start_time": "2022-02-13T20:32:00.203Z"
   },
   {
    "duration": 30,
    "start_time": "2022-02-13T20:32:00.209Z"
   },
   {
    "duration": 486,
    "start_time": "2022-02-13T20:32:00.240Z"
   },
   {
    "duration": 8,
    "start_time": "2022-02-13T20:32:00.728Z"
   },
   {
    "duration": 235,
    "start_time": "2022-02-13T20:32:00.738Z"
   },
   {
    "duration": 249,
    "start_time": "2022-02-13T20:32:00.976Z"
   },
   {
    "duration": 181,
    "start_time": "2022-02-13T20:32:01.227Z"
   },
   {
    "duration": 246,
    "start_time": "2022-02-13T20:32:01.410Z"
   },
   {
    "duration": 662,
    "start_time": "2022-02-13T20:32:01.659Z"
   },
   {
    "duration": 10,
    "start_time": "2022-02-13T20:32:02.323Z"
   },
   {
    "duration": 22,
    "start_time": "2022-02-13T20:32:02.335Z"
   },
   {
    "duration": 41,
    "start_time": "2022-02-13T20:32:02.359Z"
   },
   {
    "duration": 208,
    "start_time": "2022-02-13T20:32:02.402Z"
   },
   {
    "duration": 589,
    "start_time": "2022-02-13T20:32:02.612Z"
   },
   {
    "duration": 261,
    "start_time": "2022-02-13T20:32:03.203Z"
   },
   {
    "duration": 648,
    "start_time": "2022-02-13T20:32:03.466Z"
   },
   {
    "duration": 7,
    "start_time": "2022-02-13T20:32:04.116Z"
   },
   {
    "duration": 14,
    "start_time": "2022-02-13T20:32:04.125Z"
   },
   {
    "duration": 16,
    "start_time": "2022-02-13T20:32:04.141Z"
   },
   {
    "duration": 404,
    "start_time": "2022-02-13T20:32:04.159Z"
   },
   {
    "duration": 21,
    "start_time": "2022-02-13T20:32:04.565Z"
   },
   {
    "duration": 390,
    "start_time": "2022-02-13T20:32:04.599Z"
   },
   {
    "duration": 203,
    "start_time": "2022-02-13T20:32:04.991Z"
   },
   {
    "duration": 622,
    "start_time": "2022-02-13T20:34:00.505Z"
   },
   {
    "duration": 855,
    "start_time": "2022-02-13T20:36:01.986Z"
   },
   {
    "duration": 75,
    "start_time": "2022-02-13T20:36:02.842Z"
   },
   {
    "duration": 98,
    "start_time": "2022-02-13T20:36:02.920Z"
   },
   {
    "duration": 32,
    "start_time": "2022-02-13T20:36:03.021Z"
   },
   {
    "duration": 9,
    "start_time": "2022-02-13T20:36:03.055Z"
   },
   {
    "duration": 42,
    "start_time": "2022-02-13T20:36:03.066Z"
   },
   {
    "duration": 12,
    "start_time": "2022-02-13T20:36:03.110Z"
   },
   {
    "duration": 33,
    "start_time": "2022-02-13T20:36:03.126Z"
   },
   {
    "duration": 60,
    "start_time": "2022-02-13T20:36:03.161Z"
   },
   {
    "duration": 162,
    "start_time": "2022-02-13T20:36:03.224Z"
   },
   {
    "duration": 21,
    "start_time": "2022-02-13T20:36:03.388Z"
   },
   {
    "duration": 5,
    "start_time": "2022-02-13T20:36:03.412Z"
   },
   {
    "duration": 24,
    "start_time": "2022-02-13T20:36:03.420Z"
   },
   {
    "duration": 598,
    "start_time": "2022-02-13T20:36:03.445Z"
   },
   {
    "duration": 4,
    "start_time": "2022-02-13T20:36:04.045Z"
   },
   {
    "duration": 28,
    "start_time": "2022-02-13T20:36:04.051Z"
   },
   {
    "duration": 576,
    "start_time": "2022-02-13T20:36:04.081Z"
   },
   {
    "duration": 10,
    "start_time": "2022-02-13T20:36:04.658Z"
   },
   {
    "duration": 247,
    "start_time": "2022-02-13T20:36:04.670Z"
   },
   {
    "duration": 248,
    "start_time": "2022-02-13T20:36:04.919Z"
   },
   {
    "duration": 197,
    "start_time": "2022-02-13T20:36:05.170Z"
   },
   {
    "duration": 248,
    "start_time": "2022-02-13T20:36:05.369Z"
   },
   {
    "duration": 637,
    "start_time": "2022-02-13T20:36:05.622Z"
   },
   {
    "duration": 11,
    "start_time": "2022-02-13T20:36:06.262Z"
   },
   {
    "duration": 40,
    "start_time": "2022-02-13T20:36:06.275Z"
   },
   {
    "duration": 18,
    "start_time": "2022-02-13T20:36:06.318Z"
   },
   {
    "duration": 220,
    "start_time": "2022-02-13T20:36:06.339Z"
   },
   {
    "duration": 7,
    "start_time": "2022-02-13T20:41:25.500Z"
   },
   {
    "duration": 16,
    "start_time": "2022-02-13T20:41:25.509Z"
   },
   {
    "duration": 13,
    "start_time": "2022-02-13T20:41:25.528Z"
   },
   {
    "duration": 378,
    "start_time": "2022-02-13T20:41:25.543Z"
   },
   {
    "duration": 21,
    "start_time": "2022-02-13T20:41:25.922Z"
   },
   {
    "duration": 405,
    "start_time": "2022-02-13T20:41:25.945Z"
   },
   {
    "duration": 215,
    "start_time": "2022-02-13T20:41:26.352Z"
   },
   {
    "duration": 726,
    "start_time": "2022-02-13T20:51:25.820Z"
   },
   {
    "duration": 76,
    "start_time": "2022-02-13T20:51:26.548Z"
   },
   {
    "duration": 82,
    "start_time": "2022-02-13T20:51:26.626Z"
   },
   {
    "duration": 28,
    "start_time": "2022-02-13T20:51:26.710Z"
   },
   {
    "duration": 9,
    "start_time": "2022-02-13T20:51:26.740Z"
   },
   {
    "duration": 17,
    "start_time": "2022-02-13T20:51:26.750Z"
   },
   {
    "duration": 34,
    "start_time": "2022-02-13T20:51:26.769Z"
   },
   {
    "duration": 27,
    "start_time": "2022-02-13T20:51:26.807Z"
   },
   {
    "duration": 20,
    "start_time": "2022-02-13T20:51:26.837Z"
   },
   {
    "duration": 163,
    "start_time": "2022-02-13T20:51:26.859Z"
   },
   {
    "duration": 10,
    "start_time": "2022-02-13T20:51:27.024Z"
   },
   {
    "duration": 4,
    "start_time": "2022-02-13T20:51:27.036Z"
   },
   {
    "duration": 16,
    "start_time": "2022-02-13T20:51:27.042Z"
   },
   {
    "duration": 556,
    "start_time": "2022-02-13T20:51:27.059Z"
   },
   {
    "duration": 4,
    "start_time": "2022-02-13T20:51:27.617Z"
   },
   {
    "duration": 28,
    "start_time": "2022-02-13T20:51:27.623Z"
   },
   {
    "duration": 506,
    "start_time": "2022-02-13T20:51:27.653Z"
   },
   {
    "duration": 11,
    "start_time": "2022-02-13T20:51:28.161Z"
   },
   {
    "duration": 240,
    "start_time": "2022-02-13T20:51:28.174Z"
   },
   {
    "duration": 233,
    "start_time": "2022-02-13T20:51:28.416Z"
   },
   {
    "duration": 181,
    "start_time": "2022-02-13T20:51:28.651Z"
   },
   {
    "duration": 243,
    "start_time": "2022-02-13T20:51:28.835Z"
   },
   {
    "duration": 623,
    "start_time": "2022-02-13T20:51:29.082Z"
   },
   {
    "duration": 10,
    "start_time": "2022-02-13T20:51:29.707Z"
   },
   {
    "duration": 22,
    "start_time": "2022-02-13T20:51:29.719Z"
   },
   {
    "duration": 17,
    "start_time": "2022-02-13T20:51:29.743Z"
   },
   {
    "duration": 228,
    "start_time": "2022-02-13T20:51:29.762Z"
   },
   {
    "duration": 8,
    "start_time": "2022-02-13T20:51:29.992Z"
   },
   {
    "duration": 217,
    "start_time": "2022-02-13T20:51:30.003Z"
   },
   {
    "duration": 732,
    "start_time": "2022-02-13T20:51:30.222Z"
   },
   {
    "duration": 8,
    "start_time": "2022-02-13T20:51:30.956Z"
   },
   {
    "duration": 14,
    "start_time": "2022-02-13T20:51:30.966Z"
   },
   {
    "duration": 23,
    "start_time": "2022-02-13T20:51:30.982Z"
   },
   {
    "duration": 367,
    "start_time": "2022-02-13T20:51:31.008Z"
   },
   {
    "duration": 23,
    "start_time": "2022-02-13T20:51:31.377Z"
   },
   {
    "duration": 383,
    "start_time": "2022-02-13T20:51:31.402Z"
   },
   {
    "duration": 206,
    "start_time": "2022-02-13T20:51:31.787Z"
   },
   {
    "duration": 551,
    "start_time": "2022-02-13T20:53:16.497Z"
   },
   {
    "duration": 227,
    "start_time": "2022-02-13T21:13:36.336Z"
   },
   {
    "duration": 2249,
    "start_time": "2022-02-13T21:20:07.446Z"
   },
   {
    "duration": 2586,
    "start_time": "2022-02-13T21:21:28.706Z"
   },
   {
    "duration": 346,
    "start_time": "2022-02-13T21:22:09.799Z"
   },
   {
    "duration": 318,
    "start_time": "2022-02-13T21:22:19.055Z"
   },
   {
    "duration": 385,
    "start_time": "2022-02-13T21:23:49.976Z"
   },
   {
    "duration": 49674,
    "start_time": "2022-02-13T21:24:48.173Z"
   },
   {
    "duration": 2361,
    "start_time": "2022-02-13T21:27:10.278Z"
   },
   {
    "duration": 2569,
    "start_time": "2022-02-13T21:29:21.364Z"
   },
   {
    "duration": 2514,
    "start_time": "2022-02-13T21:30:04.513Z"
   },
   {
    "duration": 90,
    "start_time": "2022-02-13T21:30:42.145Z"
   },
   {
    "duration": 2595,
    "start_time": "2022-02-13T21:30:58.042Z"
   },
   {
    "duration": 2455,
    "start_time": "2022-02-13T21:31:22.278Z"
   },
   {
    "duration": 2507,
    "start_time": "2022-02-13T21:31:58.234Z"
   },
   {
    "duration": 704,
    "start_time": "2022-02-13T21:37:56.174Z"
   },
   {
    "duration": 93,
    "start_time": "2022-02-13T21:38:12.879Z"
   },
   {
    "duration": 2891,
    "start_time": "2022-02-13T21:38:21.731Z"
   },
   {
    "duration": 2985,
    "start_time": "2022-02-13T21:45:53.909Z"
   },
   {
    "duration": 84,
    "start_time": "2022-02-13T21:51:07.552Z"
   },
   {
    "duration": 769,
    "start_time": "2022-02-13T22:06:21.582Z"
   },
   {
    "duration": 98,
    "start_time": "2022-02-13T22:06:22.353Z"
   },
   {
    "duration": 112,
    "start_time": "2022-02-13T22:06:22.454Z"
   },
   {
    "duration": 39,
    "start_time": "2022-02-13T22:06:22.568Z"
   },
   {
    "duration": 10,
    "start_time": "2022-02-13T22:06:22.609Z"
   },
   {
    "duration": 17,
    "start_time": "2022-02-13T22:06:22.620Z"
   },
   {
    "duration": 9,
    "start_time": "2022-02-13T22:06:22.640Z"
   },
   {
    "duration": 62,
    "start_time": "2022-02-13T22:06:22.653Z"
   },
   {
    "duration": 20,
    "start_time": "2022-02-13T22:06:22.717Z"
   },
   {
    "duration": 158,
    "start_time": "2022-02-13T22:06:22.739Z"
   },
   {
    "duration": 9,
    "start_time": "2022-02-13T22:06:22.899Z"
   },
   {
    "duration": 5,
    "start_time": "2022-02-13T22:06:22.910Z"
   },
   {
    "duration": 18,
    "start_time": "2022-02-13T22:06:22.917Z"
   },
   {
    "duration": 586,
    "start_time": "2022-02-13T22:06:22.937Z"
   },
   {
    "duration": 5,
    "start_time": "2022-02-13T22:06:23.525Z"
   },
   {
    "duration": 34,
    "start_time": "2022-02-13T22:06:23.532Z"
   },
   {
    "duration": 511,
    "start_time": "2022-02-13T22:06:23.568Z"
   },
   {
    "duration": 19,
    "start_time": "2022-02-13T22:06:24.081Z"
   },
   {
    "duration": 236,
    "start_time": "2022-02-13T22:06:24.102Z"
   },
   {
    "duration": 247,
    "start_time": "2022-02-13T22:06:24.340Z"
   },
   {
    "duration": 180,
    "start_time": "2022-02-13T22:06:24.590Z"
   },
   {
    "duration": 247,
    "start_time": "2022-02-13T22:06:24.772Z"
   },
   {
    "duration": 667,
    "start_time": "2022-02-13T22:06:25.023Z"
   },
   {
    "duration": 15,
    "start_time": "2022-02-13T22:06:25.692Z"
   },
   {
    "duration": 35,
    "start_time": "2022-02-13T22:06:25.709Z"
   },
   {
    "duration": 23,
    "start_time": "2022-02-13T22:06:25.746Z"
   },
   {
    "duration": 209,
    "start_time": "2022-02-13T22:06:25.772Z"
   },
   {
    "duration": 571,
    "start_time": "2022-02-13T22:06:25.983Z"
   },
   {
    "duration": 273,
    "start_time": "2022-02-13T22:06:26.556Z"
   },
   {
    "duration": 699,
    "start_time": "2022-02-13T22:06:26.830Z"
   },
   {
    "duration": 7,
    "start_time": "2022-02-13T22:06:27.531Z"
   },
   {
    "duration": 16,
    "start_time": "2022-02-13T22:06:27.540Z"
   },
   {
    "duration": 12,
    "start_time": "2022-02-13T22:06:27.558Z"
   },
   {
    "duration": 385,
    "start_time": "2022-02-13T22:06:27.572Z"
   },
   {
    "duration": 19,
    "start_time": "2022-02-13T22:06:27.959Z"
   },
   {
    "duration": 224,
    "start_time": "2022-02-13T22:06:27.979Z"
   },
   {
    "duration": 2568,
    "start_time": "2022-02-13T22:06:28.205Z"
   },
   {
    "duration": 409,
    "start_time": "2022-02-13T22:06:30.774Z"
   },
   {
    "duration": 285,
    "start_time": "2022-02-13T22:06:31.185Z"
   },
   {
    "duration": 38,
    "start_time": "2022-02-13T22:07:35.097Z"
   },
   {
    "duration": 27,
    "start_time": "2022-02-13T22:07:50.911Z"
   },
   {
    "duration": 19,
    "start_time": "2022-02-13T22:08:42.108Z"
   },
   {
    "duration": 21,
    "start_time": "2022-02-13T22:10:00.233Z"
   },
   {
    "duration": 132,
    "start_time": "2022-02-13T22:11:57.807Z"
   },
   {
    "duration": 6,
    "start_time": "2022-02-13T22:12:24.844Z"
   },
   {
    "duration": 4,
    "start_time": "2022-02-13T22:12:57.367Z"
   },
   {
    "duration": 14,
    "start_time": "2022-02-13T22:13:00.002Z"
   },
   {
    "duration": 538,
    "start_time": "2022-02-13T22:13:02.832Z"
   },
   {
    "duration": 4,
    "start_time": "2022-02-13T22:13:05.104Z"
   },
   {
    "duration": 27,
    "start_time": "2022-02-13T22:13:06.024Z"
   },
   {
    "duration": 415,
    "start_time": "2022-02-13T22:13:12.347Z"
   },
   {
    "duration": 11,
    "start_time": "2022-02-13T22:13:17.371Z"
   },
   {
    "duration": 222,
    "start_time": "2022-02-13T22:13:23.079Z"
   },
   {
    "duration": 219,
    "start_time": "2022-02-13T22:13:25.432Z"
   },
   {
    "duration": 161,
    "start_time": "2022-02-13T22:13:26.084Z"
   },
   {
    "duration": 237,
    "start_time": "2022-02-13T22:13:30.266Z"
   },
   {
    "duration": 684,
    "start_time": "2022-02-13T22:13:33.032Z"
   },
   {
    "duration": 9,
    "start_time": "2022-02-13T22:13:53.064Z"
   },
   {
    "duration": 22,
    "start_time": "2022-02-13T22:14:00.026Z"
   },
   {
    "duration": 26,
    "start_time": "2022-02-13T22:14:17.050Z"
   },
   {
    "duration": 193,
    "start_time": "2022-02-13T22:14:19.356Z"
   },
   {
    "duration": 565,
    "start_time": "2022-02-13T22:14:21.135Z"
   },
   {
    "duration": 191,
    "start_time": "2022-02-13T22:14:31.081Z"
   },
   {
    "duration": 633,
    "start_time": "2022-02-13T22:14:33.305Z"
   },
   {
    "duration": 8,
    "start_time": "2022-02-13T22:15:44.285Z"
   },
   {
    "duration": 13,
    "start_time": "2022-02-13T22:15:44.849Z"
   },
   {
    "duration": 13,
    "start_time": "2022-02-13T22:15:45.533Z"
   },
   {
    "duration": 347,
    "start_time": "2022-02-13T22:15:48.713Z"
   },
   {
    "duration": 19,
    "start_time": "2022-02-13T22:15:51.494Z"
   },
   {
    "duration": 214,
    "start_time": "2022-02-13T22:16:00.650Z"
   },
   {
    "duration": 2652,
    "start_time": "2022-02-13T22:16:14.217Z"
   },
   {
    "duration": 384,
    "start_time": "2022-02-13T22:16:31.602Z"
   },
   {
    "duration": 187,
    "start_time": "2022-02-13T22:16:43.410Z"
   },
   {
    "duration": 770,
    "start_time": "2022-02-13T22:17:34.416Z"
   },
   {
    "duration": 76,
    "start_time": "2022-02-13T22:17:35.188Z"
   },
   {
    "duration": 82,
    "start_time": "2022-02-13T22:17:35.266Z"
   },
   {
    "duration": 28,
    "start_time": "2022-02-13T22:17:35.350Z"
   },
   {
    "duration": 23,
    "start_time": "2022-02-13T22:17:35.379Z"
   },
   {
    "duration": 16,
    "start_time": "2022-02-13T22:17:35.403Z"
   },
   {
    "duration": 10,
    "start_time": "2022-02-13T22:17:35.421Z"
   },
   {
    "duration": 34,
    "start_time": "2022-02-13T22:17:35.434Z"
   },
   {
    "duration": 46,
    "start_time": "2022-02-13T22:17:35.470Z"
   },
   {
    "duration": 146,
    "start_time": "2022-02-13T22:17:35.517Z"
   },
   {
    "duration": 10,
    "start_time": "2022-02-13T22:17:35.665Z"
   },
   {
    "duration": 4,
    "start_time": "2022-02-13T22:17:35.677Z"
   },
   {
    "duration": 19,
    "start_time": "2022-02-13T22:17:35.699Z"
   },
   {
    "duration": 548,
    "start_time": "2022-02-13T22:17:35.720Z"
   },
   {
    "duration": 4,
    "start_time": "2022-02-13T22:17:36.270Z"
   },
   {
    "duration": 36,
    "start_time": "2022-02-13T22:17:36.276Z"
   },
   {
    "duration": 470,
    "start_time": "2022-02-13T22:17:36.314Z"
   },
   {
    "duration": 14,
    "start_time": "2022-02-13T22:17:36.786Z"
   },
   {
    "duration": 232,
    "start_time": "2022-02-13T22:17:36.802Z"
   },
   {
    "duration": 241,
    "start_time": "2022-02-13T22:17:37.036Z"
   },
   {
    "duration": 185,
    "start_time": "2022-02-13T22:17:37.279Z"
   },
   {
    "duration": 246,
    "start_time": "2022-02-13T22:17:37.466Z"
   },
   {
    "duration": 623,
    "start_time": "2022-02-13T22:17:37.716Z"
   },
   {
    "duration": 11,
    "start_time": "2022-02-13T22:17:38.341Z"
   },
   {
    "duration": 22,
    "start_time": "2022-02-13T22:17:38.354Z"
   },
   {
    "duration": 20,
    "start_time": "2022-02-13T22:17:38.399Z"
   },
   {
    "duration": 214,
    "start_time": "2022-02-13T22:17:38.421Z"
   },
   {
    "duration": 571,
    "start_time": "2022-02-13T22:17:38.638Z"
   },
   {
    "duration": 255,
    "start_time": "2022-02-13T22:17:39.211Z"
   },
   {
    "duration": 636,
    "start_time": "2022-02-13T22:17:39.468Z"
   },
   {
    "duration": 7,
    "start_time": "2022-02-13T22:17:40.106Z"
   },
   {
    "duration": 20,
    "start_time": "2022-02-13T22:17:40.115Z"
   },
   {
    "duration": 18,
    "start_time": "2022-02-13T22:17:40.137Z"
   },
   {
    "duration": 355,
    "start_time": "2022-02-13T22:17:40.158Z"
   },
   {
    "duration": 20,
    "start_time": "2022-02-13T22:17:40.515Z"
   },
   {
    "duration": 214,
    "start_time": "2022-02-13T22:17:40.536Z"
   },
   {
    "duration": 2486,
    "start_time": "2022-02-13T22:17:40.751Z"
   },
   {
    "duration": 369,
    "start_time": "2022-02-13T22:17:43.239Z"
   },
   {
    "duration": 273,
    "start_time": "2022-02-13T22:17:43.610Z"
   }
  ],
  "kernelspec": {
   "display_name": "Python 3 (ipykernel)",
   "language": "python",
   "name": "python3"
  },
  "language_info": {
   "codemirror_mode": {
    "name": "ipython",
    "version": 3
   },
   "file_extension": ".py",
   "mimetype": "text/x-python",
   "name": "python",
   "nbconvert_exporter": "python",
   "pygments_lexer": "ipython3",
   "version": "3.9.7"
  },
  "toc": {
   "base_numbering": 1,
   "nav_menu": {},
   "number_sections": true,
   "sideBar": true,
   "skip_h1_title": true,
   "title_cell": "Содержание",
   "title_sidebar": "Contents",
   "toc_cell": true,
   "toc_position": {
    "height": "calc(100% - 180px)",
    "left": "10px",
    "top": "150px",
    "width": "165px"
   },
   "toc_section_display": true,
   "toc_window_display": true
  }
 },
 "nbformat": 4,
 "nbformat_minor": 2
}
