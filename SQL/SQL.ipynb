{
  "cells": [
    {
      "cell_type": "markdown",
      "metadata": {
        "id": "GE1aMmVS2JHR"
      },
      "source": [
        "# Проект по SQL"
      ]
    },
    {
      "cell_type": "markdown",
      "metadata": {
        "id": "5ZyeNGYs2JHV"
      },
      "source": [
        "**Цель исследования**"
      ]
    },
    {
      "cell_type": "markdown",
      "metadata": {
        "id": "P1gfKzS72JHc"
      },
      "source": [
        "Проанализировать базу данных для книг. В ней - информация о книгах, издательствах, авторах, пользователях и обзорах. Данные помогут сформулировать ценностное предложение для нового продукта."
      ]
    },
    {
      "cell_type": "markdown",
      "metadata": {
        "id": "oNExM2LY2JHm"
      },
      "source": [
        "**Задачи**"
      ]
    },
    {
      "cell_type": "markdown",
      "metadata": {
        "id": "3CIkZJoi2JHp"
      },
      "source": [
        "- Посчитать, сколько книг вышло после 1 января 2000 года;\n",
        "- Для каждой книги посчитать количество обзоров и среднюю оценку;\n",
        "- Определить издательство, которое выпустило наибольшее число книг толще 50 страниц (из анализа исключаются брошюры);\n",
        "- Определить автора с самой высокой средней оценкой книг, при этом учитывать только книги с 50 и более оценками;\n",
        "- Посчитать среднее количество обзоров от пользователей, которые поставили больше 50 оценок."
      ]
    },
    {
      "cell_type": "markdown",
      "metadata": {
        "id": "3hf0qbkx2JHt"
      },
      "source": [
        "## Общая информация"
      ]
    },
    {
      "cell_type": "markdown",
      "metadata": {
        "id": "ZEoI3Cz62JHx"
      },
      "source": [
        "Подключение к базе данных"
      ]
    },
    {
      "cell_type": "code",
      "execution_count": null,
      "metadata": {
        "id": "hGRXD2eU2JH0"
      },
      "outputs": [],
      "source": [
        "# импортируем библиотеки\n",
        "import pandas as pd\n",
        "from sqlalchemy import create_engine\n",
        "# устанавливаем параметры\n",
        "db_config = {'user': 'praktikum_student', # имя пользователя\n",
        "'pwd': 'Sdf4$2;d-d30pp', # пароль\n",
        "'host': 'rc1b-wcoijxj3yxfsf3fs.mdb.yandexcloud.net',\n",
        "'port': 6432, # порт подключения\n",
        "'db': 'data-analyst-final-project-db'} # название базы данных\n",
        "connection_string = 'postgresql://{}:{}@{}:{}/{}'.format(db_config['user'],\n",
        " db_config['pwd'],\n",
        " db_config['host'],\n",
        " db_config['port'],\n",
        " db_config['db'])\n",
        "# сохраняем коннектор\n",
        "engine = create_engine(connection_string, connect_args={'sslmode':'require'}) "
      ]
    },
    {
      "cell_type": "markdown",
      "metadata": {
        "id": "j17rcNbj2JH5"
      },
      "source": [
        "Сохраняю в переменных таблицы"
      ]
    },
    {
      "cell_type": "code",
      "execution_count": null,
      "metadata": {
        "id": "TxJ45bqA2JH7"
      },
      "outputs": [],
      "source": [
        "books = ''' SELECT *\n",
        "            FROM books\n",
        "        '''\n",
        "authors = ''' SELECT *\n",
        "            FROM authors\n",
        "        '''\n",
        "publishers = ''' SELECT *\n",
        "            FROM publishers\n",
        "        '''\n",
        "ratings = ''' SELECT *\n",
        "            FROM ratings\n",
        "        '''\n",
        "reviews = ''' SELECT *\n",
        "            FROM reviews\n",
        "        '''"
      ]
    },
    {
      "cell_type": "markdown",
      "metadata": {
        "id": "UJqtFPTX2JH9"
      },
      "source": [
        "Выводить результаты буду с помощью функуции"
      ]
    },
    {
      "cell_type": "code",
      "execution_count": null,
      "metadata": {
        "id": "sBB0BU9o2JH_"
      },
      "outputs": [],
      "source": [
        "def dataset(query):\n",
        "    return pd.io.sql.read_sql(query, con = engine)"
      ]
    },
    {
      "cell_type": "code",
      "execution_count": null,
      "metadata": {
        "scrolled": false,
        "id": "KlL6inMF2JIB",
        "outputId": "33e2dca5-7db4-45ad-d94e-4cc6946728d0"
      },
      "outputs": [
        {
          "name": "stdout",
          "output_type": "stream",
          "text": [
            "<class 'pandas.core.frame.DataFrame'>\n",
            "RangeIndex: 1000 entries, 0 to 999\n",
            "Data columns (total 6 columns):\n",
            " #   Column            Non-Null Count  Dtype \n",
            "---  ------            --------------  ----- \n",
            " 0   book_id           1000 non-null   int64 \n",
            " 1   author_id         1000 non-null   int64 \n",
            " 2   title             1000 non-null   object\n",
            " 3   num_pages         1000 non-null   int64 \n",
            " 4   publication_date  1000 non-null   object\n",
            " 5   publisher_id      1000 non-null   int64 \n",
            "dtypes: int64(4), object(2)\n",
            "memory usage: 47.0+ KB\n"
          ]
        },
        {
          "data": {
            "text/html": [
              "<div>\n",
              "<style scoped>\n",
              "    .dataframe tbody tr th:only-of-type {\n",
              "        vertical-align: middle;\n",
              "    }\n",
              "\n",
              "    .dataframe tbody tr th {\n",
              "        vertical-align: top;\n",
              "    }\n",
              "\n",
              "    .dataframe thead th {\n",
              "        text-align: right;\n",
              "    }\n",
              "</style>\n",
              "<table border=\"1\" class=\"dataframe\">\n",
              "  <thead>\n",
              "    <tr style=\"text-align: right;\">\n",
              "      <th></th>\n",
              "      <th>book_id</th>\n",
              "      <th>author_id</th>\n",
              "      <th>title</th>\n",
              "      <th>num_pages</th>\n",
              "      <th>publication_date</th>\n",
              "      <th>publisher_id</th>\n",
              "    </tr>\n",
              "  </thead>\n",
              "  <tbody>\n",
              "    <tr>\n",
              "      <th>0</th>\n",
              "      <td>1</td>\n",
              "      <td>546</td>\n",
              "      <td>'Salem's Lot</td>\n",
              "      <td>594</td>\n",
              "      <td>2005-11-01</td>\n",
              "      <td>93</td>\n",
              "    </tr>\n",
              "    <tr>\n",
              "      <th>1</th>\n",
              "      <td>2</td>\n",
              "      <td>465</td>\n",
              "      <td>1 000 Places to See Before You Die</td>\n",
              "      <td>992</td>\n",
              "      <td>2003-05-22</td>\n",
              "      <td>336</td>\n",
              "    </tr>\n",
              "    <tr>\n",
              "      <th>2</th>\n",
              "      <td>3</td>\n",
              "      <td>407</td>\n",
              "      <td>13 Little Blue Envelopes (Little Blue Envelope...</td>\n",
              "      <td>322</td>\n",
              "      <td>2010-12-21</td>\n",
              "      <td>135</td>\n",
              "    </tr>\n",
              "    <tr>\n",
              "      <th>3</th>\n",
              "      <td>4</td>\n",
              "      <td>82</td>\n",
              "      <td>1491: New Revelations of the Americas Before C...</td>\n",
              "      <td>541</td>\n",
              "      <td>2006-10-10</td>\n",
              "      <td>309</td>\n",
              "    </tr>\n",
              "    <tr>\n",
              "      <th>4</th>\n",
              "      <td>5</td>\n",
              "      <td>125</td>\n",
              "      <td>1776</td>\n",
              "      <td>386</td>\n",
              "      <td>2006-07-04</td>\n",
              "      <td>268</td>\n",
              "    </tr>\n",
              "  </tbody>\n",
              "</table>\n",
              "</div>"
            ],
            "text/plain": [
              "   book_id  author_id                                              title  \\\n",
              "0        1        546                                       'Salem's Lot   \n",
              "1        2        465                 1 000 Places to See Before You Die   \n",
              "2        3        407  13 Little Blue Envelopes (Little Blue Envelope...   \n",
              "3        4         82  1491: New Revelations of the Americas Before C...   \n",
              "4        5        125                                               1776   \n",
              "\n",
              "   num_pages publication_date  publisher_id  \n",
              "0        594       2005-11-01            93  \n",
              "1        992       2003-05-22           336  \n",
              "2        322       2010-12-21           135  \n",
              "3        541       2006-10-10           309  \n",
              "4        386       2006-07-04           268  "
            ]
          },
          "execution_count": 4,
          "metadata": {},
          "output_type": "execute_result"
        }
      ],
      "source": [
        "dataset(books).info()\n",
        "dataset(books).head()"
      ]
    },
    {
      "cell_type": "markdown",
      "metadata": {
        "id": "elAHwMqu2JIF"
      },
      "source": [
        "Таблица с книгами содержит 1000 строк, пропусков нет. В ней данные о книгах\n",
        "- `book_id` — идентификатор книги;\n",
        "- `author_id` — идентификатор автора;\n",
        "- `title` — название книги;\n",
        "- `num_pages` — количество страниц;\n",
        "- `publication_date` — дата публикации книги;\n",
        "- `publisher_id` — идентификатор издателя."
      ]
    },
    {
      "cell_type": "code",
      "execution_count": null,
      "metadata": {
        "scrolled": true,
        "id": "xsTxPIuA2JIH",
        "outputId": "8de1894d-0939-4490-b895-12b04e715ff1"
      },
      "outputs": [
        {
          "name": "stdout",
          "output_type": "stream",
          "text": [
            "<class 'pandas.core.frame.DataFrame'>\n",
            "RangeIndex: 636 entries, 0 to 635\n",
            "Data columns (total 2 columns):\n",
            " #   Column     Non-Null Count  Dtype \n",
            "---  ------     --------------  ----- \n",
            " 0   author_id  636 non-null    int64 \n",
            " 1   author     636 non-null    object\n",
            "dtypes: int64(1), object(1)\n",
            "memory usage: 10.1+ KB\n"
          ]
        },
        {
          "data": {
            "text/html": [
              "<div>\n",
              "<style scoped>\n",
              "    .dataframe tbody tr th:only-of-type {\n",
              "        vertical-align: middle;\n",
              "    }\n",
              "\n",
              "    .dataframe tbody tr th {\n",
              "        vertical-align: top;\n",
              "    }\n",
              "\n",
              "    .dataframe thead th {\n",
              "        text-align: right;\n",
              "    }\n",
              "</style>\n",
              "<table border=\"1\" class=\"dataframe\">\n",
              "  <thead>\n",
              "    <tr style=\"text-align: right;\">\n",
              "      <th></th>\n",
              "      <th>author_id</th>\n",
              "      <th>author</th>\n",
              "    </tr>\n",
              "  </thead>\n",
              "  <tbody>\n",
              "    <tr>\n",
              "      <th>0</th>\n",
              "      <td>1</td>\n",
              "      <td>A.S. Byatt</td>\n",
              "    </tr>\n",
              "    <tr>\n",
              "      <th>1</th>\n",
              "      <td>2</td>\n",
              "      <td>Aesop/Laura Harris/Laura Gibbs</td>\n",
              "    </tr>\n",
              "    <tr>\n",
              "      <th>2</th>\n",
              "      <td>3</td>\n",
              "      <td>Agatha Christie</td>\n",
              "    </tr>\n",
              "    <tr>\n",
              "      <th>3</th>\n",
              "      <td>4</td>\n",
              "      <td>Alan Brennert</td>\n",
              "    </tr>\n",
              "    <tr>\n",
              "      <th>4</th>\n",
              "      <td>5</td>\n",
              "      <td>Alan Moore/David   Lloyd</td>\n",
              "    </tr>\n",
              "  </tbody>\n",
              "</table>\n",
              "</div>"
            ],
            "text/plain": [
              "   author_id                          author\n",
              "0          1                      A.S. Byatt\n",
              "1          2  Aesop/Laura Harris/Laura Gibbs\n",
              "2          3                 Agatha Christie\n",
              "3          4                   Alan Brennert\n",
              "4          5        Alan Moore/David   Lloyd"
            ]
          },
          "execution_count": 5,
          "metadata": {},
          "output_type": "execute_result"
        }
      ],
      "source": [
        "dataset(authors).info() \n",
        "dataset(authors).head()"
      ]
    },
    {
      "cell_type": "markdown",
      "metadata": {
        "id": "fPNA_Jxz2JIJ"
      },
      "source": [
        "636 строки в таблице, содержащей сведения об авторах. Это\n",
        "- `author_id` — идентификатор автора;\n",
        "- `author` — имя автора."
      ]
    },
    {
      "cell_type": "code",
      "execution_count": null,
      "metadata": {
        "scrolled": false,
        "id": "vGnGSZo22JIK",
        "outputId": "68e2ab30-9b3a-4763-87b7-7f7e8c4e4e9c"
      },
      "outputs": [
        {
          "name": "stdout",
          "output_type": "stream",
          "text": [
            "<class 'pandas.core.frame.DataFrame'>\n",
            "RangeIndex: 6456 entries, 0 to 6455\n",
            "Data columns (total 4 columns):\n",
            " #   Column     Non-Null Count  Dtype \n",
            "---  ------     --------------  ----- \n",
            " 0   rating_id  6456 non-null   int64 \n",
            " 1   book_id    6456 non-null   int64 \n",
            " 2   username   6456 non-null   object\n",
            " 3   rating     6456 non-null   int64 \n",
            "dtypes: int64(3), object(1)\n",
            "memory usage: 201.9+ KB\n"
          ]
        },
        {
          "data": {
            "text/html": [
              "<div>\n",
              "<style scoped>\n",
              "    .dataframe tbody tr th:only-of-type {\n",
              "        vertical-align: middle;\n",
              "    }\n",
              "\n",
              "    .dataframe tbody tr th {\n",
              "        vertical-align: top;\n",
              "    }\n",
              "\n",
              "    .dataframe thead th {\n",
              "        text-align: right;\n",
              "    }\n",
              "</style>\n",
              "<table border=\"1\" class=\"dataframe\">\n",
              "  <thead>\n",
              "    <tr style=\"text-align: right;\">\n",
              "      <th></th>\n",
              "      <th>rating_id</th>\n",
              "      <th>book_id</th>\n",
              "      <th>username</th>\n",
              "      <th>rating</th>\n",
              "    </tr>\n",
              "  </thead>\n",
              "  <tbody>\n",
              "    <tr>\n",
              "      <th>0</th>\n",
              "      <td>1</td>\n",
              "      <td>1</td>\n",
              "      <td>ryanfranco</td>\n",
              "      <td>4</td>\n",
              "    </tr>\n",
              "    <tr>\n",
              "      <th>1</th>\n",
              "      <td>2</td>\n",
              "      <td>1</td>\n",
              "      <td>grantpatricia</td>\n",
              "      <td>2</td>\n",
              "    </tr>\n",
              "    <tr>\n",
              "      <th>2</th>\n",
              "      <td>3</td>\n",
              "      <td>1</td>\n",
              "      <td>brandtandrea</td>\n",
              "      <td>5</td>\n",
              "    </tr>\n",
              "    <tr>\n",
              "      <th>3</th>\n",
              "      <td>4</td>\n",
              "      <td>2</td>\n",
              "      <td>lorichen</td>\n",
              "      <td>3</td>\n",
              "    </tr>\n",
              "    <tr>\n",
              "      <th>4</th>\n",
              "      <td>5</td>\n",
              "      <td>2</td>\n",
              "      <td>mariokeller</td>\n",
              "      <td>2</td>\n",
              "    </tr>\n",
              "  </tbody>\n",
              "</table>\n",
              "</div>"
            ],
            "text/plain": [
              "   rating_id  book_id       username  rating\n",
              "0          1        1     ryanfranco       4\n",
              "1          2        1  grantpatricia       2\n",
              "2          3        1   brandtandrea       5\n",
              "3          4        2       lorichen       3\n",
              "4          5        2    mariokeller       2"
            ]
          },
          "execution_count": 6,
          "metadata": {},
          "output_type": "execute_result"
        }
      ],
      "source": [
        "dataset(ratings).info()\n",
        "dataset(ratings).head()"
      ]
    },
    {
      "cell_type": "markdown",
      "metadata": {
        "id": "LcGM2l6M2JIM"
      },
      "source": [
        "В таблице оценок 6456 строк без пропусков. Это\n",
        "- `rating_id` — идентификатор оценки;\n",
        "- `book_id` — идентификатор книги;\n",
        "- `username` — имя пользователя, оставившего оценку;\n",
        "- `rating` — оценка книги."
      ]
    },
    {
      "cell_type": "code",
      "execution_count": null,
      "metadata": {
        "scrolled": false,
        "id": "aHluA7Bm2JIN",
        "outputId": "1631fa6f-5f07-4831-88fc-a31dd459e586"
      },
      "outputs": [
        {
          "name": "stdout",
          "output_type": "stream",
          "text": [
            "<class 'pandas.core.frame.DataFrame'>\n",
            "RangeIndex: 2793 entries, 0 to 2792\n",
            "Data columns (total 4 columns):\n",
            " #   Column     Non-Null Count  Dtype \n",
            "---  ------     --------------  ----- \n",
            " 0   review_id  2793 non-null   int64 \n",
            " 1   book_id    2793 non-null   int64 \n",
            " 2   username   2793 non-null   object\n",
            " 3   text       2793 non-null   object\n",
            "dtypes: int64(2), object(2)\n",
            "memory usage: 87.4+ KB\n"
          ]
        },
        {
          "data": {
            "text/html": [
              "<div>\n",
              "<style scoped>\n",
              "    .dataframe tbody tr th:only-of-type {\n",
              "        vertical-align: middle;\n",
              "    }\n",
              "\n",
              "    .dataframe tbody tr th {\n",
              "        vertical-align: top;\n",
              "    }\n",
              "\n",
              "    .dataframe thead th {\n",
              "        text-align: right;\n",
              "    }\n",
              "</style>\n",
              "<table border=\"1\" class=\"dataframe\">\n",
              "  <thead>\n",
              "    <tr style=\"text-align: right;\">\n",
              "      <th></th>\n",
              "      <th>review_id</th>\n",
              "      <th>book_id</th>\n",
              "      <th>username</th>\n",
              "      <th>text</th>\n",
              "    </tr>\n",
              "  </thead>\n",
              "  <tbody>\n",
              "    <tr>\n",
              "      <th>0</th>\n",
              "      <td>1</td>\n",
              "      <td>1</td>\n",
              "      <td>brandtandrea</td>\n",
              "      <td>Mention society tell send professor analysis. ...</td>\n",
              "    </tr>\n",
              "    <tr>\n",
              "      <th>1</th>\n",
              "      <td>2</td>\n",
              "      <td>1</td>\n",
              "      <td>ryanfranco</td>\n",
              "      <td>Foot glass pretty audience hit themselves. Amo...</td>\n",
              "    </tr>\n",
              "    <tr>\n",
              "      <th>2</th>\n",
              "      <td>3</td>\n",
              "      <td>2</td>\n",
              "      <td>lorichen</td>\n",
              "      <td>Listen treat keep worry. Miss husband tax but ...</td>\n",
              "    </tr>\n",
              "    <tr>\n",
              "      <th>3</th>\n",
              "      <td>4</td>\n",
              "      <td>3</td>\n",
              "      <td>johnsonamanda</td>\n",
              "      <td>Finally month interesting blue could nature cu...</td>\n",
              "    </tr>\n",
              "    <tr>\n",
              "      <th>4</th>\n",
              "      <td>5</td>\n",
              "      <td>3</td>\n",
              "      <td>scotttamara</td>\n",
              "      <td>Nation purpose heavy give wait song will. List...</td>\n",
              "    </tr>\n",
              "  </tbody>\n",
              "</table>\n",
              "</div>"
            ],
            "text/plain": [
              "   review_id  book_id       username  \\\n",
              "0          1        1   brandtandrea   \n",
              "1          2        1     ryanfranco   \n",
              "2          3        2       lorichen   \n",
              "3          4        3  johnsonamanda   \n",
              "4          5        3    scotttamara   \n",
              "\n",
              "                                                text  \n",
              "0  Mention society tell send professor analysis. ...  \n",
              "1  Foot glass pretty audience hit themselves. Amo...  \n",
              "2  Listen treat keep worry. Miss husband tax but ...  \n",
              "3  Finally month interesting blue could nature cu...  \n",
              "4  Nation purpose heavy give wait song will. List...  "
            ]
          },
          "execution_count": 7,
          "metadata": {},
          "output_type": "execute_result"
        }
      ],
      "source": [
        "dataset(reviews).info()\n",
        "dataset(reviews).head()"
      ]
    },
    {
      "cell_type": "markdown",
      "metadata": {
        "id": "LMIN_k-Q2JIP"
      },
      "source": [
        "В таблице 2793 строки, содержащие данные о пользовательских обзорах\n",
        "- `review_id` — идентификатор обзора;\n",
        "- `book_id` — идентификатор книги;\n",
        "- `username` — имя автора обзора;\n",
        "- `text` — текст обзора."
      ]
    },
    {
      "cell_type": "code",
      "execution_count": null,
      "metadata": {
        "scrolled": true,
        "id": "oes_8ngJ2JIR",
        "outputId": "e9ab79a3-321b-4771-c80a-68517a33e77d"
      },
      "outputs": [
        {
          "name": "stdout",
          "output_type": "stream",
          "text": [
            "<class 'pandas.core.frame.DataFrame'>\n",
            "RangeIndex: 340 entries, 0 to 339\n",
            "Data columns (total 2 columns):\n",
            " #   Column        Non-Null Count  Dtype \n",
            "---  ------        --------------  ----- \n",
            " 0   publisher_id  340 non-null    int64 \n",
            " 1   publisher     340 non-null    object\n",
            "dtypes: int64(1), object(1)\n",
            "memory usage: 5.4+ KB\n"
          ]
        },
        {
          "data": {
            "text/html": [
              "<div>\n",
              "<style scoped>\n",
              "    .dataframe tbody tr th:only-of-type {\n",
              "        vertical-align: middle;\n",
              "    }\n",
              "\n",
              "    .dataframe tbody tr th {\n",
              "        vertical-align: top;\n",
              "    }\n",
              "\n",
              "    .dataframe thead th {\n",
              "        text-align: right;\n",
              "    }\n",
              "</style>\n",
              "<table border=\"1\" class=\"dataframe\">\n",
              "  <thead>\n",
              "    <tr style=\"text-align: right;\">\n",
              "      <th></th>\n",
              "      <th>publisher_id</th>\n",
              "      <th>publisher</th>\n",
              "    </tr>\n",
              "  </thead>\n",
              "  <tbody>\n",
              "    <tr>\n",
              "      <th>0</th>\n",
              "      <td>1</td>\n",
              "      <td>Ace</td>\n",
              "    </tr>\n",
              "    <tr>\n",
              "      <th>1</th>\n",
              "      <td>2</td>\n",
              "      <td>Ace Book</td>\n",
              "    </tr>\n",
              "    <tr>\n",
              "      <th>2</th>\n",
              "      <td>3</td>\n",
              "      <td>Ace Books</td>\n",
              "    </tr>\n",
              "    <tr>\n",
              "      <th>3</th>\n",
              "      <td>4</td>\n",
              "      <td>Ace Hardcover</td>\n",
              "    </tr>\n",
              "    <tr>\n",
              "      <th>4</th>\n",
              "      <td>5</td>\n",
              "      <td>Addison Wesley Publishing Company</td>\n",
              "    </tr>\n",
              "  </tbody>\n",
              "</table>\n",
              "</div>"
            ],
            "text/plain": [
              "   publisher_id                          publisher\n",
              "0             1                                Ace\n",
              "1             2                           Ace Book\n",
              "2             3                          Ace Books\n",
              "3             4                      Ace Hardcover\n",
              "4             5  Addison Wesley Publishing Company"
            ]
          },
          "execution_count": 8,
          "metadata": {},
          "output_type": "execute_result"
        }
      ],
      "source": [
        "dataset(publishers).info()\n",
        "dataset(publishers).head()"
      ]
    },
    {
      "cell_type": "markdown",
      "metadata": {
        "id": "mqNoT5DI2JIT"
      },
      "source": [
        "340 издательств. В таблице 2 колонки: идентификатор издательства и название"
      ]
    },
    {
      "cell_type": "markdown",
      "metadata": {
        "id": "ic7p71Lw2JIV"
      },
      "source": [
        "## Задачи"
      ]
    },
    {
      "cell_type": "markdown",
      "metadata": {
        "id": "7dFN1NdE2JIW"
      },
      "source": [
        "### Количество книг, вышедших после 1 января 2000 года\n"
      ]
    },
    {
      "cell_type": "code",
      "execution_count": null,
      "metadata": {
        "id": "kYIuDMED2JIX"
      },
      "outputs": [],
      "source": [
        "count_books = ''' SELECT COUNT(book_id)\n",
        "                  FROM books\n",
        "                  WHERE publication_date > '2000-01-01'\n",
        "              '''"
      ]
    },
    {
      "cell_type": "code",
      "execution_count": null,
      "metadata": {
        "scrolled": false,
        "id": "Q096qRrg2JIZ",
        "outputId": "98bd238a-e3d4-4498-c0cc-c6b7f535a18c"
      },
      "outputs": [
        {
          "data": {
            "text/html": [
              "<div>\n",
              "<style scoped>\n",
              "    .dataframe tbody tr th:only-of-type {\n",
              "        vertical-align: middle;\n",
              "    }\n",
              "\n",
              "    .dataframe tbody tr th {\n",
              "        vertical-align: top;\n",
              "    }\n",
              "\n",
              "    .dataframe thead th {\n",
              "        text-align: right;\n",
              "    }\n",
              "</style>\n",
              "<table border=\"1\" class=\"dataframe\">\n",
              "  <thead>\n",
              "    <tr style=\"text-align: right;\">\n",
              "      <th></th>\n",
              "      <th>count</th>\n",
              "    </tr>\n",
              "  </thead>\n",
              "  <tbody>\n",
              "    <tr>\n",
              "      <th>0</th>\n",
              "      <td>819</td>\n",
              "    </tr>\n",
              "  </tbody>\n",
              "</table>\n",
              "</div>"
            ],
            "text/plain": [
              "   count\n",
              "0    819"
            ]
          },
          "execution_count": 10,
          "metadata": {},
          "output_type": "execute_result"
        }
      ],
      "source": [
        "dataset(count_books)"
      ]
    },
    {
      "cell_type": "markdown",
      "metadata": {
        "id": "1wo4_hP02JIa"
      },
      "source": [
        "**Вывод** 819 книг вышло после 1 января 2000 года"
      ]
    },
    {
      "cell_type": "markdown",
      "metadata": {
        "id": "1-OLVRBP2JIc"
      },
      "source": [
        "### Количество обзоров по книге и средняя оценка"
      ]
    },
    {
      "cell_type": "code",
      "execution_count": null,
      "metadata": {
        "id": "MP2_b80z2JId"
      },
      "outputs": [],
      "source": [
        "count_reviews = '''WITH\n",
        "                   t_1 AS (SELECT book_id,\n",
        "                                  COUNT(review_id) AS count_reviews\n",
        "                           FROM reviews\n",
        "                           GROUP BY book_id),\n",
        "                   t_2 AS (SELECT book_id,\n",
        "                                  ROUND(AVG(rating),2) AS avg_rating \n",
        "                           FROM ratings\n",
        "                           GROUP BY book_id),\n",
        "                   t_3 AS (SELECT book_id,\n",
        "                                  title\n",
        "                           FROM books)\n",
        "                   SELECT t_3.book_id,\n",
        "                          t_3.title,\n",
        "                          t_1.count_reviews,\n",
        "                          t_2.avg_rating\n",
        "                   FROM t_3 LEFT JOIN t_1 ON t_3.book_id=t_1.book_id\n",
        "                   JOIN t_2 ON t_3.book_id=t_2.book_id\n",
        "                   \n",
        "                 '''"
      ]
    },
    {
      "cell_type": "code",
      "execution_count": null,
      "metadata": {
        "scrolled": true,
        "id": "A5_2q3L52JIe",
        "outputId": "cd25c0fc-e876-4cfe-cd1a-dc6de24ec957"
      },
      "outputs": [
        {
          "data": {
            "text/html": [
              "<div>\n",
              "<style scoped>\n",
              "    .dataframe tbody tr th:only-of-type {\n",
              "        vertical-align: middle;\n",
              "    }\n",
              "\n",
              "    .dataframe tbody tr th {\n",
              "        vertical-align: top;\n",
              "    }\n",
              "\n",
              "    .dataframe thead th {\n",
              "        text-align: right;\n",
              "    }\n",
              "</style>\n",
              "<table border=\"1\" class=\"dataframe\">\n",
              "  <thead>\n",
              "    <tr style=\"text-align: right;\">\n",
              "      <th></th>\n",
              "      <th>book_id</th>\n",
              "      <th>title</th>\n",
              "      <th>count_reviews</th>\n",
              "      <th>avg_rating</th>\n",
              "    </tr>\n",
              "  </thead>\n",
              "  <tbody>\n",
              "    <tr>\n",
              "      <th>0</th>\n",
              "      <td>1</td>\n",
              "      <td>'Salem's Lot</td>\n",
              "      <td>2.0</td>\n",
              "      <td>3.67</td>\n",
              "    </tr>\n",
              "    <tr>\n",
              "      <th>1</th>\n",
              "      <td>2</td>\n",
              "      <td>1 000 Places to See Before You Die</td>\n",
              "      <td>1.0</td>\n",
              "      <td>2.50</td>\n",
              "    </tr>\n",
              "    <tr>\n",
              "      <th>2</th>\n",
              "      <td>3</td>\n",
              "      <td>13 Little Blue Envelopes (Little Blue Envelope...</td>\n",
              "      <td>3.0</td>\n",
              "      <td>4.67</td>\n",
              "    </tr>\n",
              "    <tr>\n",
              "      <th>3</th>\n",
              "      <td>4</td>\n",
              "      <td>1491: New Revelations of the Americas Before C...</td>\n",
              "      <td>2.0</td>\n",
              "      <td>4.50</td>\n",
              "    </tr>\n",
              "    <tr>\n",
              "      <th>4</th>\n",
              "      <td>5</td>\n",
              "      <td>1776</td>\n",
              "      <td>4.0</td>\n",
              "      <td>4.00</td>\n",
              "    </tr>\n",
              "    <tr>\n",
              "      <th>...</th>\n",
              "      <td>...</td>\n",
              "      <td>...</td>\n",
              "      <td>...</td>\n",
              "      <td>...</td>\n",
              "    </tr>\n",
              "    <tr>\n",
              "      <th>995</th>\n",
              "      <td>996</td>\n",
              "      <td>Wyrd Sisters (Discworld  #6; Witches #2)</td>\n",
              "      <td>3.0</td>\n",
              "      <td>3.67</td>\n",
              "    </tr>\n",
              "    <tr>\n",
              "      <th>996</th>\n",
              "      <td>997</td>\n",
              "      <td>Xenocide (Ender's Saga  #3)</td>\n",
              "      <td>3.0</td>\n",
              "      <td>3.40</td>\n",
              "    </tr>\n",
              "    <tr>\n",
              "      <th>997</th>\n",
              "      <td>998</td>\n",
              "      <td>Year of Wonders</td>\n",
              "      <td>4.0</td>\n",
              "      <td>3.20</td>\n",
              "    </tr>\n",
              "    <tr>\n",
              "      <th>998</th>\n",
              "      <td>999</td>\n",
              "      <td>You Suck (A Love Story  #2)</td>\n",
              "      <td>2.0</td>\n",
              "      <td>4.50</td>\n",
              "    </tr>\n",
              "    <tr>\n",
              "      <th>999</th>\n",
              "      <td>1000</td>\n",
              "      <td>Zen and the Art of Motorcycle Maintenance: An ...</td>\n",
              "      <td>4.0</td>\n",
              "      <td>3.83</td>\n",
              "    </tr>\n",
              "  </tbody>\n",
              "</table>\n",
              "<p>1000 rows × 4 columns</p>\n",
              "</div>"
            ],
            "text/plain": [
              "     book_id                                              title  \\\n",
              "0          1                                       'Salem's Lot   \n",
              "1          2                 1 000 Places to See Before You Die   \n",
              "2          3  13 Little Blue Envelopes (Little Blue Envelope...   \n",
              "3          4  1491: New Revelations of the Americas Before C...   \n",
              "4          5                                               1776   \n",
              "..       ...                                                ...   \n",
              "995      996           Wyrd Sisters (Discworld  #6; Witches #2)   \n",
              "996      997                        Xenocide (Ender's Saga  #3)   \n",
              "997      998                                    Year of Wonders   \n",
              "998      999                        You Suck (A Love Story  #2)   \n",
              "999     1000  Zen and the Art of Motorcycle Maintenance: An ...   \n",
              "\n",
              "     count_reviews  avg_rating  \n",
              "0              2.0        3.67  \n",
              "1              1.0        2.50  \n",
              "2              3.0        4.67  \n",
              "3              2.0        4.50  \n",
              "4              4.0        4.00  \n",
              "..             ...         ...  \n",
              "995            3.0        3.67  \n",
              "996            3.0        3.40  \n",
              "997            4.0        3.20  \n",
              "998            2.0        4.50  \n",
              "999            4.0        3.83  \n",
              "\n",
              "[1000 rows x 4 columns]"
            ]
          },
          "execution_count": 12,
          "metadata": {},
          "output_type": "execute_result"
        }
      ],
      "source": [
        "dataset(count_reviews)"
      ]
    },
    {
      "cell_type": "markdown",
      "metadata": {
        "id": "ra-Kac442JIg"
      },
      "source": [
        "После запроса итоговая таблица содержит идентификатор книги, ее название, количество обзоров и среднюю оценку. Всего в таблице 1000 строк как и количества книг в таблице `books`"
      ]
    },
    {
      "cell_type": "markdown",
      "metadata": {
        "id": "bxXexJ7B2JIh"
      },
      "source": [
        "Дополнительно хотелось бы посмотреть топ-рейтинг по количеству обзоров и средней оценке. Дополню запрос"
      ]
    },
    {
      "cell_type": "code",
      "execution_count": null,
      "metadata": {
        "id": "zvFpyztl2JIj"
      },
      "outputs": [],
      "source": [
        "count_reviews_top = '''WITH\n",
        "                   t_1 AS (SELECT book_id,\n",
        "                                  COUNT(review_id) AS count_reviews\n",
        "                           FROM reviews\n",
        "                           GROUP BY book_id),\n",
        "                   t_2 AS (SELECT book_id,\n",
        "                                  ROUND(AVG(rating),2) AS avg_rating \n",
        "                           FROM ratings\n",
        "                           GROUP BY book_id),\n",
        "                   t_3 AS (SELECT book_id,\n",
        "                                  title\n",
        "                           FROM books)\n",
        "                   SELECT t_3.book_id,\n",
        "                          t_3.title,\n",
        "                          t_1.count_reviews,\n",
        "                          t_2.avg_rating\n",
        "                   FROM t_3 LEFT JOIN t_1 ON t_3.book_id=t_1.book_id\n",
        "                   JOIN t_2 ON t_3.book_id=t_2.book_id\n",
        "                   ORDER BY t_1.count_reviews DESC\n",
        "                   LIMIT(10)\n",
        "                 '''"
      ]
    },
    {
      "cell_type": "code",
      "execution_count": null,
      "metadata": {
        "scrolled": false,
        "id": "77h5zPs22JIk",
        "outputId": "2611db96-3b3d-42b5-9415-c527d902fe90"
      },
      "outputs": [
        {
          "data": {
            "text/html": [
              "<div>\n",
              "<style scoped>\n",
              "    .dataframe tbody tr th:only-of-type {\n",
              "        vertical-align: middle;\n",
              "    }\n",
              "\n",
              "    .dataframe tbody tr th {\n",
              "        vertical-align: top;\n",
              "    }\n",
              "\n",
              "    .dataframe thead th {\n",
              "        text-align: right;\n",
              "    }\n",
              "</style>\n",
              "<table border=\"1\" class=\"dataframe\">\n",
              "  <thead>\n",
              "    <tr style=\"text-align: right;\">\n",
              "      <th></th>\n",
              "      <th>book_id</th>\n",
              "      <th>title</th>\n",
              "      <th>count_reviews</th>\n",
              "      <th>avg_rating</th>\n",
              "    </tr>\n",
              "  </thead>\n",
              "  <tbody>\n",
              "    <tr>\n",
              "      <th>0</th>\n",
              "      <td>191</td>\n",
              "      <td>Disney's Beauty and the Beast (A Little Golden...</td>\n",
              "      <td>NaN</td>\n",
              "      <td>4.00</td>\n",
              "    </tr>\n",
              "    <tr>\n",
              "      <th>1</th>\n",
              "      <td>221</td>\n",
              "      <td>Essential Tales and Poems</td>\n",
              "      <td>NaN</td>\n",
              "      <td>4.00</td>\n",
              "    </tr>\n",
              "    <tr>\n",
              "      <th>2</th>\n",
              "      <td>387</td>\n",
              "      <td>Leonardo's Notebooks</td>\n",
              "      <td>NaN</td>\n",
              "      <td>4.00</td>\n",
              "    </tr>\n",
              "    <tr>\n",
              "      <th>3</th>\n",
              "      <td>808</td>\n",
              "      <td>The Natural Way to Draw</td>\n",
              "      <td>NaN</td>\n",
              "      <td>3.00</td>\n",
              "    </tr>\n",
              "    <tr>\n",
              "      <th>4</th>\n",
              "      <td>672</td>\n",
              "      <td>The Cat in the Hat and Other Dr. Seuss Favorites</td>\n",
              "      <td>NaN</td>\n",
              "      <td>5.00</td>\n",
              "    </tr>\n",
              "    <tr>\n",
              "      <th>5</th>\n",
              "      <td>83</td>\n",
              "      <td>Anne Rice's The Vampire Lestat: A Graphic Novel</td>\n",
              "      <td>NaN</td>\n",
              "      <td>3.67</td>\n",
              "    </tr>\n",
              "    <tr>\n",
              "      <th>6</th>\n",
              "      <td>948</td>\n",
              "      <td>Twilight (Twilight  #1)</td>\n",
              "      <td>7.0</td>\n",
              "      <td>3.66</td>\n",
              "    </tr>\n",
              "    <tr>\n",
              "      <th>7</th>\n",
              "      <td>497</td>\n",
              "      <td>Outlander (Outlander  #1)</td>\n",
              "      <td>6.0</td>\n",
              "      <td>4.13</td>\n",
              "    </tr>\n",
              "    <tr>\n",
              "      <th>8</th>\n",
              "      <td>627</td>\n",
              "      <td>The Alchemist</td>\n",
              "      <td>6.0</td>\n",
              "      <td>3.79</td>\n",
              "    </tr>\n",
              "    <tr>\n",
              "      <th>9</th>\n",
              "      <td>299</td>\n",
              "      <td>Harry Potter and the Chamber of Secrets (Harry...</td>\n",
              "      <td>6.0</td>\n",
              "      <td>4.29</td>\n",
              "    </tr>\n",
              "  </tbody>\n",
              "</table>\n",
              "</div>"
            ],
            "text/plain": [
              "   book_id                                              title  count_reviews  \\\n",
              "0      191  Disney's Beauty and the Beast (A Little Golden...            NaN   \n",
              "1      221                          Essential Tales and Poems            NaN   \n",
              "2      387                               Leonardo's Notebooks            NaN   \n",
              "3      808                            The Natural Way to Draw            NaN   \n",
              "4      672   The Cat in the Hat and Other Dr. Seuss Favorites            NaN   \n",
              "5       83    Anne Rice's The Vampire Lestat: A Graphic Novel            NaN   \n",
              "6      948                            Twilight (Twilight  #1)            7.0   \n",
              "7      497                          Outlander (Outlander  #1)            6.0   \n",
              "8      627                                      The Alchemist            6.0   \n",
              "9      299  Harry Potter and the Chamber of Secrets (Harry...            6.0   \n",
              "\n",
              "   avg_rating  \n",
              "0        4.00  \n",
              "1        4.00  \n",
              "2        4.00  \n",
              "3        3.00  \n",
              "4        5.00  \n",
              "5        3.67  \n",
              "6        3.66  \n",
              "7        4.13  \n",
              "8        3.79  \n",
              "9        4.29  "
            ]
          },
          "execution_count": 14,
          "metadata": {},
          "output_type": "execute_result"
        }
      ],
      "source": [
        "dataset(count_reviews_top)"
      ]
    },
    {
      "cell_type": "markdown",
      "metadata": {
        "id": "F4m5FZMv2JIm"
      },
      "source": [
        "У 6 книг пропуски в обзорах. Это значит, что при объединении таблиц не нашлось соответствующего значения в присоединяемой таблице (`reviews`). Больше всего обзоров у книги Сумерки "
      ]
    },
    {
      "cell_type": "markdown",
      "metadata": {
        "id": "L4KiflmL2JIm"
      },
      "source": [
        "Посмотрим на топ-лист книг по средней оценке. Дополню sql запрос"
      ]
    },
    {
      "cell_type": "code",
      "execution_count": null,
      "metadata": {
        "id": "Me_3DeWl2JIn"
      },
      "outputs": [],
      "source": [
        "top_rating =    '''WITH\n",
        "                   t_1 AS (SELECT book_id,\n",
        "                                  COUNT(review_id) AS count_reviews\n",
        "                           FROM reviews\n",
        "                           GROUP BY book_id),\n",
        "                   t_2 AS (SELECT book_id,\n",
        "                                  ROUND(AVG(rating),2) AS avg_rating \n",
        "                           FROM ratings\n",
        "                           GROUP BY book_id),\n",
        "                   t_3 AS (SELECT book_id,\n",
        "                                  title\n",
        "                           FROM books)\n",
        "                   SELECT t_3.book_id,\n",
        "                          t_3.title,\n",
        "                          t_1.count_reviews,\n",
        "                          t_2.avg_rating\n",
        "                   FROM t_3 LEFT JOIN t_1 ON t_3.book_id=t_1.book_id\n",
        "                   JOIN t_2 ON t_3.book_id=t_2.book_id\n",
        "                   ORDER BY t_2.avg_rating DESC\n",
        "                   LIMIT(10)\n",
        "                 '''"
      ]
    },
    {
      "cell_type": "code",
      "execution_count": null,
      "metadata": {
        "id": "oCoBsl4V2JIp",
        "outputId": "3ecb5adc-40ad-4824-cfcf-712b39899c54"
      },
      "outputs": [
        {
          "data": {
            "text/html": [
              "<div>\n",
              "<style scoped>\n",
              "    .dataframe tbody tr th:only-of-type {\n",
              "        vertical-align: middle;\n",
              "    }\n",
              "\n",
              "    .dataframe tbody tr th {\n",
              "        vertical-align: top;\n",
              "    }\n",
              "\n",
              "    .dataframe thead th {\n",
              "        text-align: right;\n",
              "    }\n",
              "</style>\n",
              "<table border=\"1\" class=\"dataframe\">\n",
              "  <thead>\n",
              "    <tr style=\"text-align: right;\">\n",
              "      <th></th>\n",
              "      <th>book_id</th>\n",
              "      <th>title</th>\n",
              "      <th>count_reviews</th>\n",
              "      <th>avg_rating</th>\n",
              "    </tr>\n",
              "  </thead>\n",
              "  <tbody>\n",
              "    <tr>\n",
              "      <th>0</th>\n",
              "      <td>86</td>\n",
              "      <td>Arrows of the Queen (Heralds of Valdemar  #1)</td>\n",
              "      <td>2</td>\n",
              "      <td>5.0</td>\n",
              "    </tr>\n",
              "    <tr>\n",
              "      <th>1</th>\n",
              "      <td>169</td>\n",
              "      <td>Crucial Conversations: Tools for Talking When ...</td>\n",
              "      <td>2</td>\n",
              "      <td>5.0</td>\n",
              "    </tr>\n",
              "    <tr>\n",
              "      <th>2</th>\n",
              "      <td>62</td>\n",
              "      <td>Alas  Babylon</td>\n",
              "      <td>2</td>\n",
              "      <td>5.0</td>\n",
              "    </tr>\n",
              "    <tr>\n",
              "      <th>3</th>\n",
              "      <td>57</td>\n",
              "      <td>Act of Treason (Mitch Rapp  #9)</td>\n",
              "      <td>2</td>\n",
              "      <td>5.0</td>\n",
              "    </tr>\n",
              "    <tr>\n",
              "      <th>4</th>\n",
              "      <td>76</td>\n",
              "      <td>Angels Fall</td>\n",
              "      <td>2</td>\n",
              "      <td>5.0</td>\n",
              "    </tr>\n",
              "    <tr>\n",
              "      <th>5</th>\n",
              "      <td>136</td>\n",
              "      <td>Captivating: Unveiling the Mystery of a Woman'...</td>\n",
              "      <td>2</td>\n",
              "      <td>5.0</td>\n",
              "    </tr>\n",
              "    <tr>\n",
              "      <th>6</th>\n",
              "      <td>55</td>\n",
              "      <td>A Woman of Substance (Emma Harte Saga #1)</td>\n",
              "      <td>2</td>\n",
              "      <td>5.0</td>\n",
              "    </tr>\n",
              "    <tr>\n",
              "      <th>7</th>\n",
              "      <td>20</td>\n",
              "      <td>A Fistful of Charms (The Hollows  #4)</td>\n",
              "      <td>2</td>\n",
              "      <td>5.0</td>\n",
              "    </tr>\n",
              "    <tr>\n",
              "      <th>8</th>\n",
              "      <td>17</td>\n",
              "      <td>A Dirty Job (Grim Reaper  #1)</td>\n",
              "      <td>4</td>\n",
              "      <td>5.0</td>\n",
              "    </tr>\n",
              "    <tr>\n",
              "      <th>9</th>\n",
              "      <td>182</td>\n",
              "      <td>Dead Souls</td>\n",
              "      <td>2</td>\n",
              "      <td>5.0</td>\n",
              "    </tr>\n",
              "  </tbody>\n",
              "</table>\n",
              "</div>"
            ],
            "text/plain": [
              "   book_id                                              title  count_reviews  \\\n",
              "0       86      Arrows of the Queen (Heralds of Valdemar  #1)              2   \n",
              "1      169  Crucial Conversations: Tools for Talking When ...              2   \n",
              "2       62                                      Alas  Babylon              2   \n",
              "3       57                    Act of Treason (Mitch Rapp  #9)              2   \n",
              "4       76                                        Angels Fall              2   \n",
              "5      136  Captivating: Unveiling the Mystery of a Woman'...              2   \n",
              "6       55          A Woman of Substance (Emma Harte Saga #1)              2   \n",
              "7       20              A Fistful of Charms (The Hollows  #4)              2   \n",
              "8       17                      A Dirty Job (Grim Reaper  #1)              4   \n",
              "9      182                                         Dead Souls              2   \n",
              "\n",
              "   avg_rating  \n",
              "0         5.0  \n",
              "1         5.0  \n",
              "2         5.0  \n",
              "3         5.0  \n",
              "4         5.0  \n",
              "5         5.0  \n",
              "6         5.0  \n",
              "7         5.0  \n",
              "8         5.0  \n",
              "9         5.0  "
            ]
          },
          "execution_count": 16,
          "metadata": {},
          "output_type": "execute_result"
        }
      ],
      "source": [
        "dataset(top_rating)"
      ]
    },
    {
      "cell_type": "markdown",
      "metadata": {
        "id": "yqfDE7tD2JIr"
      },
      "source": [
        "Одинаково высокая средняя оценка есть у нескольких книг "
      ]
    },
    {
      "cell_type": "markdown",
      "metadata": {
        "id": "3JS5wEzh2JIs"
      },
      "source": [
        "**Вывод** В задаче было рассчитано количество обзоров и средняя оценка по каждой книге. Высокую среднюю оценку имеют сразу несколько книг. Наибольшее количество обзоров у книги `Сумерки`"
      ]
    },
    {
      "cell_type": "markdown",
      "metadata": {
        "id": "EV8jhP0U2JIv"
      },
      "source": [
        "### Издательство, выпустившее большее число книг более 50 страниц"
      ]
    },
    {
      "cell_type": "code",
      "execution_count": null,
      "metadata": {
        "id": "696ade6V2JIw"
      },
      "outputs": [],
      "source": [
        "publisher = ''' SELECT p.publisher,\n",
        "                       COUNT(b.book_id) as amount_published\n",
        "                FROM books AS b\n",
        "                FULL OUTER JOIN publishers AS p ON b.publisher_id=p.publisher_id\n",
        "                WHERE b.num_pages > 50\n",
        "                GROUP BY p.publisher\n",
        "                ORDER BY amount_published DESC\n",
        "                LIMIT(1)\n",
        "            '''"
      ]
    },
    {
      "cell_type": "code",
      "execution_count": null,
      "metadata": {
        "scrolled": true,
        "id": "gQP18D5e2JIx",
        "outputId": "c02aa930-0a65-474c-8131-43a071475947"
      },
      "outputs": [
        {
          "data": {
            "text/html": [
              "<div>\n",
              "<style scoped>\n",
              "    .dataframe tbody tr th:only-of-type {\n",
              "        vertical-align: middle;\n",
              "    }\n",
              "\n",
              "    .dataframe tbody tr th {\n",
              "        vertical-align: top;\n",
              "    }\n",
              "\n",
              "    .dataframe thead th {\n",
              "        text-align: right;\n",
              "    }\n",
              "</style>\n",
              "<table border=\"1\" class=\"dataframe\">\n",
              "  <thead>\n",
              "    <tr style=\"text-align: right;\">\n",
              "      <th></th>\n",
              "      <th>publisher</th>\n",
              "      <th>amount_published</th>\n",
              "    </tr>\n",
              "  </thead>\n",
              "  <tbody>\n",
              "    <tr>\n",
              "      <th>0</th>\n",
              "      <td>Penguin Books</td>\n",
              "      <td>42</td>\n",
              "    </tr>\n",
              "  </tbody>\n",
              "</table>\n",
              "</div>"
            ],
            "text/plain": [
              "       publisher  amount_published\n",
              "0  Penguin Books                42"
            ]
          },
          "execution_count": 18,
          "metadata": {},
          "output_type": "execute_result"
        }
      ],
      "source": [
        "dataset(publisher)"
      ]
    },
    {
      "cell_type": "markdown",
      "metadata": {
        "id": "gqVilRVl2JI0"
      },
      "source": [
        "**Вывод** Более всего книг (точнее 42), в которых более 50 страниц, выпустило издательство `Penguin Books`"
      ]
    },
    {
      "cell_type": "markdown",
      "metadata": {
        "id": "jFj_mXy-2JI4"
      },
      "source": [
        "### Автор и средний рейтинг его книг"
      ]
    },
    {
      "cell_type": "code",
      "execution_count": null,
      "metadata": {
        "id": "A1HflI1N2JI5"
      },
      "outputs": [],
      "source": [
        "author_rating = ''' WITH \n",
        "                    a_1 AS (SELECT book_id, ROUND(AVG(rating),3) as avg_rating\n",
        "                            FROM ratings\n",
        "                            GROUP BY book_id\n",
        "                            HAVING COUNT(rating_id) >= 50),\n",
        "                    a_2 AS (SELECT a.author, b.book_id\n",
        "                            FROM authors AS a\n",
        "                            LEFT JOIN books AS b ON a.author_id=b.author_id)\n",
        "                    SELECT a_2.author, AVG(a_1.avg_rating) as rating_avg\n",
        "                    FROM a_1 LEFT JOIN a_2 ON a_1.book_id=a_2.book_id\n",
        "                    GROUP BY author\n",
        "                    ORDER BY rating_avg DESC\n",
        "                    LIMIT (1)\n",
        "                    \n",
        "                \n",
        "            '''"
      ]
    },
    {
      "cell_type": "code",
      "execution_count": null,
      "metadata": {
        "scrolled": true,
        "id": "bjc9Vr3V2JI8",
        "outputId": "1fbbc0bf-551f-45d2-8c23-692a7c00ae82"
      },
      "outputs": [
        {
          "data": {
            "text/html": [
              "<div>\n",
              "<style scoped>\n",
              "    .dataframe tbody tr th:only-of-type {\n",
              "        vertical-align: middle;\n",
              "    }\n",
              "\n",
              "    .dataframe tbody tr th {\n",
              "        vertical-align: top;\n",
              "    }\n",
              "\n",
              "    .dataframe thead th {\n",
              "        text-align: right;\n",
              "    }\n",
              "</style>\n",
              "<table border=\"1\" class=\"dataframe\">\n",
              "  <thead>\n",
              "    <tr style=\"text-align: right;\">\n",
              "      <th></th>\n",
              "      <th>author</th>\n",
              "      <th>rating_avg</th>\n",
              "    </tr>\n",
              "  </thead>\n",
              "  <tbody>\n",
              "    <tr>\n",
              "      <th>0</th>\n",
              "      <td>J.K. Rowling/Mary GrandPré</td>\n",
              "      <td>4.28425</td>\n",
              "    </tr>\n",
              "  </tbody>\n",
              "</table>\n",
              "</div>"
            ],
            "text/plain": [
              "                       author  rating_avg\n",
              "0  J.K. Rowling/Mary GrandPré     4.28425"
            ]
          },
          "execution_count": 20,
          "metadata": {},
          "output_type": "execute_result"
        }
      ],
      "source": [
        "dataset(author_rating)"
      ]
    },
    {
      "cell_type": "markdown",
      "metadata": {
        "id": "fA_bMwia2JI-"
      },
      "source": [
        "**Вывод** Наивысший средний рейтинг у книг автора `J.K.Rowling`"
      ]
    },
    {
      "cell_type": "markdown",
      "metadata": {
        "id": "zUi-KaaR2JJF"
      },
      "source": [
        "### Среднее количество обзоров активных пользователей "
      ]
    },
    {
      "cell_type": "markdown",
      "metadata": {
        "id": "kI-A2qv72JJG"
      },
      "source": [
        "Посчитаем среднее количество обзоров у тех пользвоателей, кто поставил более 50 оценок"
      ]
    },
    {
      "cell_type": "code",
      "execution_count": null,
      "metadata": {
        "id": "hsbrx6Sa2JJH"
      },
      "outputs": [],
      "source": [
        "users_reviews = ''' WITH\n",
        "                    s_1 AS (SELECT username\n",
        "                            FROM ratings\n",
        "                            GROUP BY username\n",
        "                            HAVING COUNT(rating)>50\n",
        "                            ),\n",
        "                    s_2 AS (SELECT username, COUNT(text) as reviews_count\n",
        "                            FROM reviews\n",
        "                            GROUP BY username)\n",
        "                    SELECT ROUND(AVG(s_2.reviews_count),2) as avg_reviews_count\n",
        "                    FROM s_1 LEFT JOIN s_2 ON s_1.username=s_2.username\n",
        "                    \n",
        "            '''"
      ]
    },
    {
      "cell_type": "code",
      "execution_count": null,
      "metadata": {
        "id": "YaJNOwXd2JJI",
        "outputId": "391e84b1-f639-45a4-94d2-45b3cc7fd3c6"
      },
      "outputs": [
        {
          "data": {
            "text/html": [
              "<div>\n",
              "<style scoped>\n",
              "    .dataframe tbody tr th:only-of-type {\n",
              "        vertical-align: middle;\n",
              "    }\n",
              "\n",
              "    .dataframe tbody tr th {\n",
              "        vertical-align: top;\n",
              "    }\n",
              "\n",
              "    .dataframe thead th {\n",
              "        text-align: right;\n",
              "    }\n",
              "</style>\n",
              "<table border=\"1\" class=\"dataframe\">\n",
              "  <thead>\n",
              "    <tr style=\"text-align: right;\">\n",
              "      <th></th>\n",
              "      <th>avg_reviews_count</th>\n",
              "    </tr>\n",
              "  </thead>\n",
              "  <tbody>\n",
              "    <tr>\n",
              "      <th>0</th>\n",
              "      <td>24.33</td>\n",
              "    </tr>\n",
              "  </tbody>\n",
              "</table>\n",
              "</div>"
            ],
            "text/plain": [
              "   avg_reviews_count\n",
              "0              24.33"
            ]
          },
          "execution_count": 22,
          "metadata": {},
          "output_type": "execute_result"
        }
      ],
      "source": [
        "dataset(users_reviews)"
      ]
    },
    {
      "cell_type": "markdown",
      "metadata": {
        "id": "K2M25eyq2JJJ"
      },
      "source": [
        "**Вывод** В среднем пользователи, кто поставил более 50 оценок, написали по 24 обзора"
      ]
    },
    {
      "cell_type": "code",
      "execution_count": null,
      "metadata": {
        "id": "pYFsvbNk2JJO"
      },
      "outputs": [],
      "source": [
        ""
      ]
    }
  ],
  "metadata": {
    "ExecuteTimeLog": [
      {
        "duration": 7663,
        "start_time": "2022-07-12T08:48:42.776Z"
      },
      {
        "duration": 4,
        "start_time": "2022-07-12T09:05:26.836Z"
      },
      {
        "duration": 261,
        "start_time": "2022-07-12T09:05:38.240Z"
      },
      {
        "duration": 18,
        "start_time": "2022-07-12T09:05:45.144Z"
      },
      {
        "duration": 4,
        "start_time": "2022-07-12T11:34:12.570Z"
      },
      {
        "duration": 3,
        "start_time": "2022-07-12T11:34:13.880Z"
      },
      {
        "duration": 90,
        "start_time": "2022-07-12T11:34:15.048Z"
      },
      {
        "duration": 158,
        "start_time": "2022-07-12T11:35:08.477Z"
      },
      {
        "duration": 162,
        "start_time": "2022-07-12T11:35:49.540Z"
      },
      {
        "duration": 207,
        "start_time": "2022-07-12T11:36:14.622Z"
      },
      {
        "duration": 13,
        "start_time": "2022-07-12T11:37:39.129Z"
      },
      {
        "duration": 7,
        "start_time": "2022-07-12T11:37:47.139Z"
      },
      {
        "duration": 13,
        "start_time": "2022-07-12T11:37:47.148Z"
      },
      {
        "duration": 10,
        "start_time": "2022-07-12T11:37:47.163Z"
      },
      {
        "duration": 350,
        "start_time": "2022-07-12T11:37:47.176Z"
      },
      {
        "duration": 103,
        "start_time": "2022-07-12T11:37:59.407Z"
      },
      {
        "duration": 112,
        "start_time": "2022-07-12T11:38:38.551Z"
      },
      {
        "duration": 5,
        "start_time": "2022-07-12T11:38:59.395Z"
      },
      {
        "duration": 6,
        "start_time": "2022-07-12T11:38:59.405Z"
      },
      {
        "duration": 6,
        "start_time": "2022-07-12T11:38:59.413Z"
      },
      {
        "duration": 309,
        "start_time": "2022-07-12T11:38:59.420Z"
      },
      {
        "duration": 7,
        "start_time": "2022-07-12T11:39:34.100Z"
      },
      {
        "duration": 5,
        "start_time": "2022-07-12T11:43:33.015Z"
      },
      {
        "duration": 24,
        "start_time": "2022-07-12T11:43:33.022Z"
      },
      {
        "duration": 10,
        "start_time": "2022-07-12T11:43:33.049Z"
      },
      {
        "duration": 299,
        "start_time": "2022-07-12T11:43:33.062Z"
      },
      {
        "duration": 10,
        "start_time": "2022-07-12T11:43:33.363Z"
      },
      {
        "duration": 96,
        "start_time": "2022-07-12T11:43:44.695Z"
      },
      {
        "duration": 154,
        "start_time": "2022-07-12T11:44:32.962Z"
      },
      {
        "duration": 155,
        "start_time": "2022-07-12T11:44:54.898Z"
      },
      {
        "duration": 60,
        "start_time": "2022-07-12T11:47:23.314Z"
      },
      {
        "duration": 45,
        "start_time": "2022-07-12T11:47:41.139Z"
      },
      {
        "duration": 58,
        "start_time": "2022-07-12T11:48:11.879Z"
      },
      {
        "duration": 4,
        "start_time": "2022-07-12T11:48:17.948Z"
      },
      {
        "duration": 3,
        "start_time": "2022-07-12T11:48:39.245Z"
      },
      {
        "duration": 9,
        "start_time": "2022-07-12T11:49:47.067Z"
      },
      {
        "duration": 3,
        "start_time": "2022-07-12T12:01:37.605Z"
      },
      {
        "duration": 111,
        "start_time": "2022-07-12T12:01:49.191Z"
      },
      {
        "duration": 128,
        "start_time": "2022-07-12T12:03:14.410Z"
      },
      {
        "duration": 107,
        "start_time": "2022-07-12T12:03:28.706Z"
      },
      {
        "duration": 89,
        "start_time": "2022-07-12T12:03:51.494Z"
      },
      {
        "duration": 358,
        "start_time": "2022-07-12T12:04:09.285Z"
      },
      {
        "duration": 123,
        "start_time": "2022-07-12T12:04:42.811Z"
      },
      {
        "duration": 108,
        "start_time": "2022-07-12T12:05:48.714Z"
      },
      {
        "duration": 1153,
        "start_time": "2022-07-12T12:08:04.154Z"
      },
      {
        "duration": 101,
        "start_time": "2022-07-12T12:08:49.141Z"
      },
      {
        "duration": 1247,
        "start_time": "2022-07-12T12:09:34.370Z"
      },
      {
        "duration": 104,
        "start_time": "2022-07-12T12:09:58.347Z"
      },
      {
        "duration": 112,
        "start_time": "2022-07-12T12:10:09.761Z"
      },
      {
        "duration": 137,
        "start_time": "2022-07-12T12:10:42.851Z"
      },
      {
        "duration": 109,
        "start_time": "2022-07-12T12:11:07.864Z"
      },
      {
        "duration": 112,
        "start_time": "2022-07-12T12:11:39.700Z"
      },
      {
        "duration": 109,
        "start_time": "2022-07-12T12:12:19.750Z"
      },
      {
        "duration": 3,
        "start_time": "2022-07-12T12:25:30.930Z"
      },
      {
        "duration": 215,
        "start_time": "2022-07-12T12:25:45.651Z"
      },
      {
        "duration": 3,
        "start_time": "2022-07-12T12:26:59.197Z"
      },
      {
        "duration": 169,
        "start_time": "2022-07-12T12:27:00.008Z"
      },
      {
        "duration": 3,
        "start_time": "2022-07-12T12:27:41.912Z"
      },
      {
        "duration": 172,
        "start_time": "2022-07-12T12:27:42.532Z"
      },
      {
        "duration": 4,
        "start_time": "2022-07-12T12:28:44.560Z"
      },
      {
        "duration": 154,
        "start_time": "2022-07-12T12:28:45.481Z"
      },
      {
        "duration": 3,
        "start_time": "2022-07-12T12:34:42.747Z"
      },
      {
        "duration": 146,
        "start_time": "2022-07-12T12:34:43.431Z"
      },
      {
        "duration": 3,
        "start_time": "2022-07-12T12:36:38.587Z"
      },
      {
        "duration": 133,
        "start_time": "2022-07-12T12:36:39.292Z"
      },
      {
        "duration": 3,
        "start_time": "2022-07-12T12:38:06.269Z"
      },
      {
        "duration": 136,
        "start_time": "2022-07-12T12:38:06.985Z"
      },
      {
        "duration": 4,
        "start_time": "2022-07-12T12:38:44.649Z"
      },
      {
        "duration": 328,
        "start_time": "2022-07-12T12:38:45.510Z"
      },
      {
        "duration": 3,
        "start_time": "2022-07-12T12:39:44.711Z"
      },
      {
        "duration": 3,
        "start_time": "2022-07-12T12:39:51.675Z"
      },
      {
        "duration": 163,
        "start_time": "2022-07-12T12:39:52.353Z"
      },
      {
        "duration": 2,
        "start_time": "2022-07-12T12:40:12.256Z"
      },
      {
        "duration": 149,
        "start_time": "2022-07-12T12:40:12.872Z"
      },
      {
        "duration": 3,
        "start_time": "2022-07-12T12:40:43.528Z"
      },
      {
        "duration": 145,
        "start_time": "2022-07-12T12:40:44.624Z"
      },
      {
        "duration": 3,
        "start_time": "2022-07-12T12:41:33.756Z"
      },
      {
        "duration": 139,
        "start_time": "2022-07-12T12:41:34.348Z"
      },
      {
        "duration": 3,
        "start_time": "2022-07-12T12:43:15.738Z"
      },
      {
        "duration": 154,
        "start_time": "2022-07-12T12:43:16.290Z"
      },
      {
        "duration": 2,
        "start_time": "2022-07-12T12:43:44.070Z"
      },
      {
        "duration": 145,
        "start_time": "2022-07-12T12:43:44.623Z"
      },
      {
        "duration": 3,
        "start_time": "2022-07-12T12:53:16.050Z"
      },
      {
        "duration": 406,
        "start_time": "2022-07-12T12:53:17.201Z"
      },
      {
        "duration": 3,
        "start_time": "2022-07-12T12:55:07.407Z"
      },
      {
        "duration": 289,
        "start_time": "2022-07-12T12:55:08.187Z"
      },
      {
        "duration": 2,
        "start_time": "2022-07-12T12:55:33.560Z"
      },
      {
        "duration": 148,
        "start_time": "2022-07-12T12:55:34.079Z"
      },
      {
        "duration": 3,
        "start_time": "2022-07-12T12:56:34.160Z"
      },
      {
        "duration": 111,
        "start_time": "2022-07-12T12:56:35.145Z"
      },
      {
        "duration": 3,
        "start_time": "2022-07-12T12:58:08.381Z"
      },
      {
        "duration": 137,
        "start_time": "2022-07-12T12:58:09.090Z"
      },
      {
        "duration": 2,
        "start_time": "2022-07-12T12:58:25.089Z"
      },
      {
        "duration": 128,
        "start_time": "2022-07-12T12:58:25.850Z"
      },
      {
        "duration": 3,
        "start_time": "2022-07-12T12:58:39.651Z"
      },
      {
        "duration": 126,
        "start_time": "2022-07-12T12:58:40.154Z"
      },
      {
        "duration": 2,
        "start_time": "2022-07-12T12:58:58.655Z"
      },
      {
        "duration": 180,
        "start_time": "2022-07-12T12:58:59.122Z"
      },
      {
        "duration": 3,
        "start_time": "2022-07-12T12:59:16.740Z"
      },
      {
        "duration": 130,
        "start_time": "2022-07-12T12:59:17.886Z"
      },
      {
        "duration": 3,
        "start_time": "2022-07-12T13:00:26.241Z"
      },
      {
        "duration": 126,
        "start_time": "2022-07-12T13:00:26.738Z"
      },
      {
        "duration": 3,
        "start_time": "2022-07-12T13:01:12.988Z"
      },
      {
        "duration": 3974,
        "start_time": "2022-07-12T13:01:13.600Z"
      },
      {
        "duration": 3,
        "start_time": "2022-07-12T13:03:26.114Z"
      },
      {
        "duration": 982,
        "start_time": "2022-07-12T13:03:26.745Z"
      },
      {
        "duration": 132,
        "start_time": "2022-07-12T13:06:30.725Z"
      },
      {
        "duration": 148,
        "start_time": "2022-07-12T13:07:11.317Z"
      },
      {
        "duration": 143,
        "start_time": "2022-07-12T13:08:19.641Z"
      },
      {
        "duration": 139,
        "start_time": "2022-07-12T13:08:36.942Z"
      },
      {
        "duration": 142,
        "start_time": "2022-07-12T13:08:49.203Z"
      },
      {
        "duration": 4,
        "start_time": "2022-07-12T13:08:57.111Z"
      },
      {
        "duration": 8,
        "start_time": "2022-07-12T13:08:57.117Z"
      },
      {
        "duration": 12,
        "start_time": "2022-07-12T13:08:57.152Z"
      },
      {
        "duration": 307,
        "start_time": "2022-07-12T13:08:57.166Z"
      },
      {
        "duration": 116,
        "start_time": "2022-07-12T13:08:57.475Z"
      },
      {
        "duration": 83,
        "start_time": "2022-07-12T13:08:57.593Z"
      },
      {
        "duration": 125,
        "start_time": "2022-07-12T13:08:57.679Z"
      },
      {
        "duration": 96,
        "start_time": "2022-07-12T13:08:57.806Z"
      },
      {
        "duration": 97,
        "start_time": "2022-07-12T13:08:57.904Z"
      },
      {
        "duration": 6,
        "start_time": "2022-07-12T13:08:58.003Z"
      },
      {
        "duration": 103,
        "start_time": "2022-07-12T13:08:58.011Z"
      },
      {
        "duration": 3,
        "start_time": "2022-07-12T13:08:58.117Z"
      },
      {
        "duration": 161,
        "start_time": "2022-07-12T13:08:58.122Z"
      },
      {
        "duration": 125,
        "start_time": "2022-07-12T13:09:18.350Z"
      },
      {
        "duration": 153,
        "start_time": "2022-07-12T13:09:35.816Z"
      },
      {
        "duration": 163,
        "start_time": "2022-07-12T13:10:16.080Z"
      },
      {
        "duration": 150,
        "start_time": "2022-07-12T13:11:55.827Z"
      },
      {
        "duration": 135,
        "start_time": "2022-07-12T13:12:22.547Z"
      },
      {
        "duration": 3,
        "start_time": "2022-07-12T13:12:54.481Z"
      },
      {
        "duration": 129,
        "start_time": "2022-07-12T13:12:55.050Z"
      },
      {
        "duration": 3,
        "start_time": "2022-07-12T13:13:09.610Z"
      },
      {
        "duration": 121,
        "start_time": "2022-07-12T13:13:10.198Z"
      },
      {
        "duration": 6,
        "start_time": "2022-07-12T13:14:49.222Z"
      },
      {
        "duration": 191,
        "start_time": "2022-07-12T13:14:49.787Z"
      },
      {
        "duration": 3,
        "start_time": "2022-07-12T13:14:55.175Z"
      },
      {
        "duration": 117,
        "start_time": "2022-07-12T13:14:55.571Z"
      },
      {
        "duration": 117,
        "start_time": "2022-07-12T13:15:14.748Z"
      },
      {
        "duration": 140,
        "start_time": "2022-07-12T13:16:21.841Z"
      },
      {
        "duration": 2,
        "start_time": "2022-07-12T13:17:21.010Z"
      },
      {
        "duration": 110,
        "start_time": "2022-07-12T13:17:21.477Z"
      },
      {
        "duration": 3,
        "start_time": "2022-07-12T13:19:09.175Z"
      },
      {
        "duration": 121,
        "start_time": "2022-07-12T13:19:09.898Z"
      },
      {
        "duration": 2,
        "start_time": "2022-07-12T13:22:55.194Z"
      },
      {
        "duration": 119,
        "start_time": "2022-07-12T13:23:06.242Z"
      },
      {
        "duration": 3,
        "start_time": "2022-07-12T13:23:45.158Z"
      },
      {
        "duration": 120,
        "start_time": "2022-07-12T13:23:47.478Z"
      },
      {
        "duration": 3,
        "start_time": "2022-07-12T13:26:46.773Z"
      },
      {
        "duration": 86,
        "start_time": "2022-07-12T13:26:47.225Z"
      },
      {
        "duration": 4,
        "start_time": "2022-07-12T13:27:21.063Z"
      },
      {
        "duration": 79,
        "start_time": "2022-07-12T13:27:21.486Z"
      },
      {
        "duration": 4,
        "start_time": "2022-07-12T13:27:51.633Z"
      },
      {
        "duration": 75,
        "start_time": "2022-07-12T13:27:52.002Z"
      },
      {
        "duration": 3,
        "start_time": "2022-07-12T13:28:12.534Z"
      },
      {
        "duration": 88,
        "start_time": "2022-07-12T13:28:12.894Z"
      },
      {
        "duration": 3,
        "start_time": "2022-07-12T13:29:28.462Z"
      },
      {
        "duration": 186,
        "start_time": "2022-07-12T13:29:28.867Z"
      },
      {
        "duration": 3,
        "start_time": "2022-07-12T13:30:28.763Z"
      },
      {
        "duration": 106,
        "start_time": "2022-07-12T13:30:29.168Z"
      },
      {
        "duration": 2,
        "start_time": "2022-07-12T13:31:13.200Z"
      },
      {
        "duration": 79,
        "start_time": "2022-07-12T13:31:13.668Z"
      },
      {
        "duration": 3,
        "start_time": "2022-07-12T13:31:19.973Z"
      },
      {
        "duration": 79,
        "start_time": "2022-07-12T13:31:20.598Z"
      },
      {
        "duration": 3,
        "start_time": "2022-07-12T13:31:32.125Z"
      },
      {
        "duration": 72,
        "start_time": "2022-07-12T13:31:32.492Z"
      },
      {
        "duration": 2,
        "start_time": "2022-07-12T13:34:37.263Z"
      },
      {
        "duration": 119,
        "start_time": "2022-07-12T13:34:37.747Z"
      },
      {
        "duration": 121,
        "start_time": "2022-07-12T13:35:09.904Z"
      },
      {
        "duration": 131,
        "start_time": "2022-07-12T13:35:27.503Z"
      },
      {
        "duration": 170,
        "start_time": "2022-07-12T13:36:16.737Z"
      },
      {
        "duration": 3,
        "start_time": "2022-07-12T13:36:45.221Z"
      },
      {
        "duration": 112,
        "start_time": "2022-07-12T13:36:45.723Z"
      },
      {
        "duration": 3,
        "start_time": "2022-07-12T13:38:24.081Z"
      },
      {
        "duration": 2627,
        "start_time": "2022-07-12T13:38:25.577Z"
      },
      {
        "duration": 3,
        "start_time": "2022-07-12T13:38:53.670Z"
      },
      {
        "duration": 256,
        "start_time": "2022-07-12T13:38:54.309Z"
      },
      {
        "duration": 110,
        "start_time": "2022-07-12T13:39:01.638Z"
      },
      {
        "duration": 3,
        "start_time": "2022-07-12T13:39:40.795Z"
      },
      {
        "duration": 108,
        "start_time": "2022-07-12T13:39:41.266Z"
      },
      {
        "duration": 3,
        "start_time": "2022-07-12T13:40:09.507Z"
      },
      {
        "duration": 113,
        "start_time": "2022-07-12T13:40:10.011Z"
      },
      {
        "duration": 3,
        "start_time": "2022-07-12T13:43:56.559Z"
      },
      {
        "duration": 155,
        "start_time": "2022-07-12T13:44:07.818Z"
      },
      {
        "duration": 3,
        "start_time": "2022-07-12T13:45:42.934Z"
      },
      {
        "duration": 146,
        "start_time": "2022-07-12T13:45:43.367Z"
      },
      {
        "duration": 2,
        "start_time": "2022-07-12T13:46:07.862Z"
      },
      {
        "duration": 147,
        "start_time": "2022-07-12T13:46:08.408Z"
      },
      {
        "duration": 6,
        "start_time": "2022-07-12T13:46:22.432Z"
      },
      {
        "duration": 195,
        "start_time": "2022-07-12T13:46:22.988Z"
      },
      {
        "duration": 3,
        "start_time": "2022-07-12T13:46:55.708Z"
      },
      {
        "duration": 181,
        "start_time": "2022-07-12T13:46:56.249Z"
      },
      {
        "duration": 3,
        "start_time": "2022-07-12T13:50:17.344Z"
      },
      {
        "duration": 151,
        "start_time": "2022-07-12T13:50:17.837Z"
      },
      {
        "duration": 3,
        "start_time": "2022-07-12T13:50:37.946Z"
      },
      {
        "duration": 95,
        "start_time": "2022-07-12T13:50:38.395Z"
      },
      {
        "duration": 2,
        "start_time": "2022-07-12T13:51:43.913Z"
      },
      {
        "duration": 3,
        "start_time": "2022-07-12T13:51:51.320Z"
      },
      {
        "duration": 98,
        "start_time": "2022-07-12T13:51:51.769Z"
      },
      {
        "duration": 5,
        "start_time": "2022-07-12T13:52:01.011Z"
      },
      {
        "duration": 95,
        "start_time": "2022-07-12T13:52:04.357Z"
      },
      {
        "duration": 3,
        "start_time": "2022-07-12T13:52:53.821Z"
      },
      {
        "duration": 143,
        "start_time": "2022-07-12T13:53:13.301Z"
      },
      {
        "duration": 2,
        "start_time": "2022-07-12T13:53:21.127Z"
      },
      {
        "duration": 187,
        "start_time": "2022-07-12T13:53:21.693Z"
      },
      {
        "duration": 137,
        "start_time": "2022-07-12T13:53:59.858Z"
      },
      {
        "duration": 202,
        "start_time": "2022-07-12T13:54:25.055Z"
      },
      {
        "duration": 140,
        "start_time": "2022-07-12T13:54:38.178Z"
      },
      {
        "duration": 100,
        "start_time": "2022-07-12T13:57:42.125Z"
      },
      {
        "duration": 105,
        "start_time": "2022-07-12T13:57:55.886Z"
      },
      {
        "duration": 3,
        "start_time": "2022-07-12T14:00:17.535Z"
      },
      {
        "duration": 99,
        "start_time": "2022-07-12T14:00:19.260Z"
      },
      {
        "duration": 3,
        "start_time": "2022-07-12T14:01:00.472Z"
      },
      {
        "duration": 134,
        "start_time": "2022-07-12T14:01:01.576Z"
      },
      {
        "duration": 3,
        "start_time": "2022-07-12T14:04:18.698Z"
      },
      {
        "duration": 79,
        "start_time": "2022-07-12T14:04:19.414Z"
      },
      {
        "duration": 3,
        "start_time": "2022-07-12T14:05:22.115Z"
      },
      {
        "duration": 84,
        "start_time": "2022-07-12T14:05:22.879Z"
      },
      {
        "duration": 3,
        "start_time": "2022-07-12T14:05:51.063Z"
      },
      {
        "duration": 85,
        "start_time": "2022-07-12T14:05:51.511Z"
      },
      {
        "duration": 2,
        "start_time": "2022-07-12T14:06:03.564Z"
      },
      {
        "duration": 2502,
        "start_time": "2022-07-12T14:06:04.192Z"
      },
      {
        "duration": 3,
        "start_time": "2022-07-12T14:06:43.249Z"
      },
      {
        "duration": 80,
        "start_time": "2022-07-12T14:06:43.817Z"
      },
      {
        "duration": 3,
        "start_time": "2022-07-12T14:09:29.986Z"
      },
      {
        "duration": 79,
        "start_time": "2022-07-12T14:09:30.827Z"
      },
      {
        "duration": 4,
        "start_time": "2022-07-12T14:15:07.536Z"
      },
      {
        "duration": 323,
        "start_time": "2022-07-12T14:15:21.426Z"
      },
      {
        "duration": 3,
        "start_time": "2022-07-12T14:23:07.412Z"
      },
      {
        "duration": 321,
        "start_time": "2022-07-12T14:23:07.873Z"
      },
      {
        "duration": 4,
        "start_time": "2022-07-12T14:24:29.070Z"
      },
      {
        "duration": 266,
        "start_time": "2022-07-12T14:24:29.681Z"
      },
      {
        "duration": 3,
        "start_time": "2022-07-12T14:24:49.436Z"
      },
      {
        "duration": 329,
        "start_time": "2022-07-12T14:24:51.985Z"
      },
      {
        "duration": 3,
        "start_time": "2022-07-12T14:27:25.155Z"
      },
      {
        "duration": 133,
        "start_time": "2022-07-12T14:27:26.398Z"
      },
      {
        "duration": 2,
        "start_time": "2022-07-12T14:27:41.967Z"
      },
      {
        "duration": 138,
        "start_time": "2022-07-12T14:27:42.520Z"
      },
      {
        "duration": 3,
        "start_time": "2022-07-12T14:28:12.226Z"
      },
      {
        "duration": 132,
        "start_time": "2022-07-12T14:28:13.675Z"
      },
      {
        "duration": 3,
        "start_time": "2022-07-12T14:28:24.843Z"
      },
      {
        "duration": 167,
        "start_time": "2022-07-12T14:28:25.339Z"
      },
      {
        "duration": 4,
        "start_time": "2022-07-12T14:30:15.140Z"
      },
      {
        "duration": 333,
        "start_time": "2022-07-12T14:30:15.702Z"
      },
      {
        "duration": 2,
        "start_time": "2022-07-12T14:31:00.793Z"
      },
      {
        "duration": 152,
        "start_time": "2022-07-12T14:31:01.445Z"
      },
      {
        "duration": 2,
        "start_time": "2022-07-12T14:31:08.477Z"
      },
      {
        "duration": 198,
        "start_time": "2022-07-12T14:31:08.947Z"
      },
      {
        "duration": 2,
        "start_time": "2022-07-12T14:32:16.015Z"
      },
      {
        "duration": 147,
        "start_time": "2022-07-12T14:32:16.593Z"
      },
      {
        "duration": 2,
        "start_time": "2022-07-12T14:33:21.902Z"
      },
      {
        "duration": 141,
        "start_time": "2022-07-12T14:33:22.310Z"
      },
      {
        "duration": 4,
        "start_time": "2022-07-12T14:37:23.504Z"
      },
      {
        "duration": 92,
        "start_time": "2022-07-12T14:37:24.144Z"
      },
      {
        "duration": 3,
        "start_time": "2022-07-12T14:41:29.374Z"
      },
      {
        "duration": 249,
        "start_time": "2022-07-12T14:41:29.911Z"
      },
      {
        "duration": 3,
        "start_time": "2022-07-12T14:41:59.893Z"
      },
      {
        "duration": 113,
        "start_time": "2022-07-12T14:42:00.455Z"
      },
      {
        "duration": 133,
        "start_time": "2022-07-12T14:42:35.659Z"
      },
      {
        "duration": 2,
        "start_time": "2022-07-12T14:55:55.094Z"
      },
      {
        "duration": 77,
        "start_time": "2022-07-12T14:55:55.535Z"
      },
      {
        "duration": 3,
        "start_time": "2022-07-12T14:56:55.390Z"
      },
      {
        "duration": 100,
        "start_time": "2022-07-12T14:56:56.286Z"
      },
      {
        "duration": 4,
        "start_time": "2022-07-12T14:57:01.026Z"
      },
      {
        "duration": 81,
        "start_time": "2022-07-12T14:57:01.559Z"
      },
      {
        "duration": 2,
        "start_time": "2022-07-12T14:57:33.915Z"
      },
      {
        "duration": 86,
        "start_time": "2022-07-12T14:57:34.351Z"
      },
      {
        "duration": 5,
        "start_time": "2022-07-12T14:58:39.395Z"
      },
      {
        "duration": 12,
        "start_time": "2022-07-12T14:58:39.402Z"
      },
      {
        "duration": 8,
        "start_time": "2022-07-12T14:58:39.416Z"
      },
      {
        "duration": 287,
        "start_time": "2022-07-12T14:58:39.426Z"
      },
      {
        "duration": 92,
        "start_time": "2022-07-12T14:58:39.715Z"
      },
      {
        "duration": 82,
        "start_time": "2022-07-12T14:58:39.809Z"
      },
      {
        "duration": 113,
        "start_time": "2022-07-12T14:58:39.893Z"
      },
      {
        "duration": 89,
        "start_time": "2022-07-12T14:58:40.008Z"
      },
      {
        "duration": 92,
        "start_time": "2022-07-12T14:58:40.098Z"
      },
      {
        "duration": 3,
        "start_time": "2022-07-12T14:58:40.191Z"
      },
      {
        "duration": 79,
        "start_time": "2022-07-12T14:58:40.196Z"
      },
      {
        "duration": 2,
        "start_time": "2022-07-12T14:58:40.277Z"
      },
      {
        "duration": 100,
        "start_time": "2022-07-12T14:58:40.281Z"
      },
      {
        "duration": 3,
        "start_time": "2022-07-12T14:58:40.383Z"
      },
      {
        "duration": 80,
        "start_time": "2022-07-12T14:58:40.388Z"
      },
      {
        "duration": 3,
        "start_time": "2022-07-12T14:58:40.470Z"
      },
      {
        "duration": 87,
        "start_time": "2022-07-12T14:58:40.475Z"
      },
      {
        "duration": 3,
        "start_time": "2022-07-12T14:58:40.564Z"
      },
      {
        "duration": 87,
        "start_time": "2022-07-12T14:58:40.569Z"
      },
      {
        "duration": 135,
        "start_time": "2022-07-12T14:59:43.156Z"
      },
      {
        "duration": 127,
        "start_time": "2022-07-12T15:00:10.785Z"
      },
      {
        "duration": 2,
        "start_time": "2022-07-12T15:00:12.533Z"
      },
      {
        "duration": 76,
        "start_time": "2022-07-12T15:00:18.317Z"
      },
      {
        "duration": 3,
        "start_time": "2022-07-12T15:00:23.791Z"
      },
      {
        "duration": 114,
        "start_time": "2022-07-12T15:00:26.073Z"
      },
      {
        "duration": 137,
        "start_time": "2022-07-12T15:01:18.910Z"
      },
      {
        "duration": 3,
        "start_time": "2022-07-12T15:03:40.959Z"
      },
      {
        "duration": 115,
        "start_time": "2022-07-12T15:03:41.415Z"
      },
      {
        "duration": 3,
        "start_time": "2022-07-12T15:04:27.457Z"
      },
      {
        "duration": 114,
        "start_time": "2022-07-12T15:04:27.908Z"
      },
      {
        "duration": 4,
        "start_time": "2022-07-12T15:04:39.359Z"
      },
      {
        "duration": 118,
        "start_time": "2022-07-12T15:04:40.128Z"
      },
      {
        "duration": 3,
        "start_time": "2022-07-12T15:06:26.639Z"
      },
      {
        "duration": 162,
        "start_time": "2022-07-12T15:06:27.043Z"
      },
      {
        "duration": 3,
        "start_time": "2022-07-12T15:06:46.085Z"
      },
      {
        "duration": 288,
        "start_time": "2022-07-12T15:06:46.445Z"
      },
      {
        "duration": 4,
        "start_time": "2022-07-12T15:06:55.949Z"
      },
      {
        "duration": 118,
        "start_time": "2022-07-12T15:06:56.726Z"
      },
      {
        "duration": 3,
        "start_time": "2022-07-12T15:08:01.174Z"
      },
      {
        "duration": 113,
        "start_time": "2022-07-12T15:08:01.598Z"
      },
      {
        "duration": 4,
        "start_time": "2022-07-12T15:12:30.729Z"
      },
      {
        "duration": 430,
        "start_time": "2022-07-12T15:12:43.969Z"
      },
      {
        "duration": 4,
        "start_time": "2022-07-12T15:14:38.436Z"
      },
      {
        "duration": 102,
        "start_time": "2022-07-12T15:14:39.258Z"
      },
      {
        "duration": 3,
        "start_time": "2022-07-12T15:15:06.871Z"
      },
      {
        "duration": 111,
        "start_time": "2022-07-12T15:15:07.499Z"
      },
      {
        "duration": 176,
        "start_time": "2022-07-12T15:16:32.656Z"
      },
      {
        "duration": 137,
        "start_time": "2022-07-12T15:17:27.836Z"
      },
      {
        "duration": 137,
        "start_time": "2022-07-12T15:17:40.437Z"
      },
      {
        "duration": 136,
        "start_time": "2022-07-12T15:18:55.650Z"
      },
      {
        "duration": 138,
        "start_time": "2022-07-12T15:19:38.006Z"
      },
      {
        "duration": 3,
        "start_time": "2022-07-12T15:21:48.168Z"
      },
      {
        "duration": 113,
        "start_time": "2022-07-12T15:21:48.699Z"
      },
      {
        "duration": 126,
        "start_time": "2022-07-12T15:22:10.768Z"
      },
      {
        "duration": 3,
        "start_time": "2022-07-12T15:22:44.038Z"
      },
      {
        "duration": 114,
        "start_time": "2022-07-12T15:22:44.489Z"
      },
      {
        "duration": 3,
        "start_time": "2022-07-12T15:23:16.980Z"
      },
      {
        "duration": 119,
        "start_time": "2022-07-12T15:23:17.540Z"
      },
      {
        "duration": 128,
        "start_time": "2022-07-12T15:30:05.385Z"
      },
      {
        "duration": 126,
        "start_time": "2022-07-12T15:31:18.589Z"
      },
      {
        "duration": 132,
        "start_time": "2022-07-12T15:31:33.511Z"
      },
      {
        "duration": 3,
        "start_time": "2022-07-12T15:32:52.279Z"
      },
      {
        "duration": 122,
        "start_time": "2022-07-12T15:32:52.940Z"
      },
      {
        "duration": 3,
        "start_time": "2022-07-12T15:49:24.434Z"
      },
      {
        "duration": 432,
        "start_time": "2022-07-12T15:49:25.714Z"
      },
      {
        "duration": 3,
        "start_time": "2022-07-12T15:51:31.547Z"
      },
      {
        "duration": 433,
        "start_time": "2022-07-12T15:51:31.996Z"
      },
      {
        "duration": 3,
        "start_time": "2022-07-12T15:52:06.472Z"
      },
      {
        "duration": 435,
        "start_time": "2022-07-12T15:52:07.179Z"
      },
      {
        "duration": 2,
        "start_time": "2022-07-12T15:53:12.049Z"
      },
      {
        "duration": 443,
        "start_time": "2022-07-12T15:53:12.918Z"
      },
      {
        "duration": 3,
        "start_time": "2022-07-12T15:54:22.021Z"
      },
      {
        "duration": 114,
        "start_time": "2022-07-12T15:54:22.674Z"
      },
      {
        "duration": 3,
        "start_time": "2022-07-12T15:55:16.190Z"
      },
      {
        "duration": 120,
        "start_time": "2022-07-12T15:55:16.751Z"
      },
      {
        "duration": 4,
        "start_time": "2022-07-12T15:56:32.323Z"
      },
      {
        "duration": 125,
        "start_time": "2022-07-12T15:56:32.728Z"
      },
      {
        "duration": 3,
        "start_time": "2022-07-12T16:08:34.702Z"
      },
      {
        "duration": 116,
        "start_time": "2022-07-12T16:08:35.377Z"
      },
      {
        "duration": 3,
        "start_time": "2022-07-12T16:09:35.730Z"
      },
      {
        "duration": 434,
        "start_time": "2022-07-12T16:09:37.202Z"
      },
      {
        "duration": 150,
        "start_time": "2022-07-12T16:11:20.452Z"
      },
      {
        "duration": 3,
        "start_time": "2022-07-12T16:12:33.020Z"
      },
      {
        "duration": 415,
        "start_time": "2022-07-12T16:12:33.608Z"
      },
      {
        "duration": 3,
        "start_time": "2022-07-12T16:12:58.648Z"
      },
      {
        "duration": 378,
        "start_time": "2022-07-12T16:12:59.252Z"
      },
      {
        "duration": 2,
        "start_time": "2022-07-12T16:13:24.727Z"
      },
      {
        "duration": 454,
        "start_time": "2022-07-12T16:13:25.772Z"
      },
      {
        "duration": 3,
        "start_time": "2022-07-12T16:18:05.151Z"
      },
      {
        "duration": 158,
        "start_time": "2022-07-12T16:18:05.791Z"
      },
      {
        "duration": 3,
        "start_time": "2022-07-12T16:18:20.117Z"
      },
      {
        "duration": 94,
        "start_time": "2022-07-12T16:18:20.997Z"
      },
      {
        "duration": 2,
        "start_time": "2022-07-12T16:28:58.104Z"
      },
      {
        "duration": 481,
        "start_time": "2022-07-12T16:28:58.568Z"
      },
      {
        "duration": 3,
        "start_time": "2022-07-12T16:31:34.732Z"
      },
      {
        "duration": 328,
        "start_time": "2022-07-12T16:31:35.510Z"
      },
      {
        "duration": 2,
        "start_time": "2022-07-12T16:32:25.873Z"
      },
      {
        "duration": 153,
        "start_time": "2022-07-12T16:32:26.246Z"
      },
      {
        "duration": 4,
        "start_time": "2022-07-12T16:32:49.130Z"
      },
      {
        "duration": 293,
        "start_time": "2022-07-12T16:32:49.569Z"
      },
      {
        "duration": 188,
        "start_time": "2022-07-12T16:35:24.754Z"
      },
      {
        "duration": 3,
        "start_time": "2022-07-12T16:36:25.978Z"
      },
      {
        "duration": 360,
        "start_time": "2022-07-12T16:36:27.104Z"
      },
      {
        "duration": 3,
        "start_time": "2022-07-12T16:37:52.063Z"
      },
      {
        "duration": 417,
        "start_time": "2022-07-12T16:37:52.439Z"
      },
      {
        "duration": 2,
        "start_time": "2022-07-12T16:38:51.262Z"
      },
      {
        "duration": 102,
        "start_time": "2022-07-12T16:38:53.345Z"
      },
      {
        "duration": 3,
        "start_time": "2022-07-12T16:39:15.811Z"
      },
      {
        "duration": 96,
        "start_time": "2022-07-12T16:39:16.307Z"
      },
      {
        "duration": 4,
        "start_time": "2022-07-12T16:39:53.143Z"
      },
      {
        "duration": 112,
        "start_time": "2022-07-12T16:39:53.628Z"
      },
      {
        "duration": 2,
        "start_time": "2022-07-12T16:40:25.780Z"
      },
      {
        "duration": 115,
        "start_time": "2022-07-12T16:40:26.234Z"
      },
      {
        "duration": 3,
        "start_time": "2022-07-12T16:43:18.434Z"
      },
      {
        "duration": 162,
        "start_time": "2022-07-12T16:43:19.106Z"
      },
      {
        "duration": 3,
        "start_time": "2022-07-12T16:43:38.004Z"
      },
      {
        "duration": 286,
        "start_time": "2022-07-12T16:43:38.364Z"
      },
      {
        "duration": 3,
        "start_time": "2022-07-12T16:43:44.970Z"
      },
      {
        "duration": 95,
        "start_time": "2022-07-12T16:43:45.418Z"
      },
      {
        "duration": 3,
        "start_time": "2022-07-12T16:51:23.169Z"
      },
      {
        "duration": 96,
        "start_time": "2022-07-12T16:51:23.706Z"
      },
      {
        "duration": 3,
        "start_time": "2022-07-12T16:51:55.755Z"
      },
      {
        "duration": 92,
        "start_time": "2022-07-12T16:51:56.176Z"
      },
      {
        "duration": 9,
        "start_time": "2022-07-12T17:00:24.781Z"
      },
      {
        "duration": 30,
        "start_time": "2022-07-12T17:00:28.941Z"
      },
      {
        "duration": 35,
        "start_time": "2022-07-12T17:01:57.447Z"
      },
      {
        "duration": 24,
        "start_time": "2022-07-12T17:02:48.205Z"
      },
      {
        "duration": 13,
        "start_time": "2022-07-12T17:03:41.295Z"
      },
      {
        "duration": 14,
        "start_time": "2022-07-12T17:04:04.559Z"
      },
      {
        "duration": 3,
        "start_time": "2022-07-12T17:31:27.974Z"
      },
      {
        "duration": 182,
        "start_time": "2022-07-12T17:32:02.991Z"
      },
      {
        "duration": 189,
        "start_time": "2022-07-12T17:32:20.913Z"
      },
      {
        "duration": 168,
        "start_time": "2022-07-12T17:36:47.498Z"
      },
      {
        "duration": 168,
        "start_time": "2022-07-12T17:37:12.474Z"
      },
      {
        "duration": 303,
        "start_time": "2022-07-12T17:39:33.549Z"
      },
      {
        "duration": 259,
        "start_time": "2022-07-12T17:42:11.206Z"
      },
      {
        "duration": 161,
        "start_time": "2022-07-12T17:45:43.645Z"
      },
      {
        "duration": 4,
        "start_time": "2022-07-12T17:58:25.597Z"
      },
      {
        "duration": 84,
        "start_time": "2022-07-12T17:58:33.406Z"
      },
      {
        "duration": 3,
        "start_time": "2022-07-12T18:03:49.365Z"
      },
      {
        "duration": 94,
        "start_time": "2022-07-12T18:03:50.165Z"
      },
      {
        "duration": 3,
        "start_time": "2022-07-12T18:05:24.415Z"
      },
      {
        "duration": 92,
        "start_time": "2022-07-12T18:05:25.179Z"
      },
      {
        "duration": 98,
        "start_time": "2022-07-12T18:05:51.048Z"
      },
      {
        "duration": 11,
        "start_time": "2022-07-12T18:08:10.851Z"
      },
      {
        "duration": 4,
        "start_time": "2022-07-12T18:08:16.023Z"
      },
      {
        "duration": 105,
        "start_time": "2022-07-12T18:08:16.651Z"
      },
      {
        "duration": 4,
        "start_time": "2022-07-12T18:19:14.049Z"
      },
      {
        "duration": 145,
        "start_time": "2022-07-12T18:19:26.842Z"
      },
      {
        "duration": 3,
        "start_time": "2022-07-12T18:20:06.661Z"
      },
      {
        "duration": 116,
        "start_time": "2022-07-12T18:20:07.160Z"
      },
      {
        "duration": 3,
        "start_time": "2022-07-12T18:20:24.639Z"
      },
      {
        "duration": 121,
        "start_time": "2022-07-12T18:20:26.749Z"
      },
      {
        "duration": 3,
        "start_time": "2022-07-12T18:21:28.697Z"
      },
      {
        "duration": 121,
        "start_time": "2022-07-12T18:21:29.449Z"
      },
      {
        "duration": 4,
        "start_time": "2022-07-12T18:21:52.555Z"
      },
      {
        "duration": 118,
        "start_time": "2022-07-12T18:21:53.250Z"
      },
      {
        "duration": 3,
        "start_time": "2022-07-12T18:26:04.885Z"
      },
      {
        "duration": 89,
        "start_time": "2022-07-12T18:26:07.443Z"
      },
      {
        "duration": 5,
        "start_time": "2022-07-12T18:27:50.366Z"
      },
      {
        "duration": 142,
        "start_time": "2022-07-12T18:27:51.022Z"
      },
      {
        "duration": 3,
        "start_time": "2022-07-12T18:33:25.383Z"
      },
      {
        "duration": 92,
        "start_time": "2022-07-12T18:33:55.053Z"
      },
      {
        "duration": 4,
        "start_time": "2022-07-12T18:34:01.957Z"
      },
      {
        "duration": 106,
        "start_time": "2022-07-12T18:34:02.459Z"
      },
      {
        "duration": 5,
        "start_time": "2022-07-12T18:38:50.753Z"
      },
      {
        "duration": 143,
        "start_time": "2022-07-12T18:38:51.959Z"
      },
      {
        "duration": 4,
        "start_time": "2022-07-12T18:39:08.560Z"
      },
      {
        "duration": 118,
        "start_time": "2022-07-12T18:39:09.674Z"
      },
      {
        "duration": 5,
        "start_time": "2022-07-12T18:39:39.104Z"
      },
      {
        "duration": 1049,
        "start_time": "2022-07-12T18:39:59.366Z"
      },
      {
        "duration": 3,
        "start_time": "2022-07-12T18:40:19.776Z"
      },
      {
        "duration": 113,
        "start_time": "2022-07-12T18:40:20.367Z"
      },
      {
        "duration": 4,
        "start_time": "2022-07-12T18:40:47.257Z"
      },
      {
        "duration": 95,
        "start_time": "2022-07-12T18:40:48.258Z"
      },
      {
        "duration": 3,
        "start_time": "2022-07-12T18:50:19.655Z"
      },
      {
        "duration": 157,
        "start_time": "2022-07-12T18:50:20.241Z"
      },
      {
        "duration": 4,
        "start_time": "2022-07-12T18:50:45.959Z"
      },
      {
        "duration": 81,
        "start_time": "2022-07-12T18:50:46.581Z"
      },
      {
        "duration": 2,
        "start_time": "2022-07-12T18:51:03.459Z"
      },
      {
        "duration": 79,
        "start_time": "2022-07-12T18:51:03.974Z"
      },
      {
        "duration": 3,
        "start_time": "2022-07-12T18:53:46.562Z"
      },
      {
        "duration": 79,
        "start_time": "2022-07-12T18:53:49.637Z"
      },
      {
        "duration": 3,
        "start_time": "2022-07-12T18:54:20.063Z"
      },
      {
        "duration": 81,
        "start_time": "2022-07-12T18:54:20.869Z"
      },
      {
        "duration": 3,
        "start_time": "2022-07-12T18:57:31.561Z"
      },
      {
        "duration": 2,
        "start_time": "2022-07-12T18:57:32.305Z"
      },
      {
        "duration": 82,
        "start_time": "2022-07-12T18:57:33.473Z"
      },
      {
        "duration": 3,
        "start_time": "2022-07-12T18:57:48.579Z"
      },
      {
        "duration": 81,
        "start_time": "2022-07-12T18:57:49.357Z"
      },
      {
        "duration": 2,
        "start_time": "2022-07-12T18:58:27.865Z"
      },
      {
        "duration": 82,
        "start_time": "2022-07-12T18:58:28.366Z"
      },
      {
        "duration": 3,
        "start_time": "2022-07-12T18:59:35.576Z"
      },
      {
        "duration": 80,
        "start_time": "2022-07-12T18:59:36.992Z"
      },
      {
        "duration": 2,
        "start_time": "2022-07-12T19:03:41.669Z"
      },
      {
        "duration": 78,
        "start_time": "2022-07-12T19:03:42.944Z"
      },
      {
        "duration": 3,
        "start_time": "2022-07-12T19:03:46.771Z"
      },
      {
        "duration": 82,
        "start_time": "2022-07-12T19:03:47.775Z"
      },
      {
        "duration": 4,
        "start_time": "2022-07-12T19:04:16.039Z"
      },
      {
        "duration": 83,
        "start_time": "2022-07-12T19:04:16.261Z"
      },
      {
        "duration": 4,
        "start_time": "2022-07-12T19:04:52.637Z"
      },
      {
        "duration": 79,
        "start_time": "2022-07-12T19:04:53.321Z"
      },
      {
        "duration": 6734,
        "start_time": "2022-07-12T19:05:48.673Z"
      },
      {
        "duration": 3,
        "start_time": "2022-07-12T19:05:55.409Z"
      },
      {
        "duration": 13,
        "start_time": "2022-07-12T19:05:55.414Z"
      },
      {
        "duration": 361,
        "start_time": "2022-07-12T19:05:55.429Z"
      },
      {
        "duration": 158,
        "start_time": "2022-07-12T19:05:55.792Z"
      },
      {
        "duration": 209,
        "start_time": "2022-07-12T19:05:55.952Z"
      },
      {
        "duration": 162,
        "start_time": "2022-07-12T19:05:56.163Z"
      },
      {
        "duration": 141,
        "start_time": "2022-07-12T19:05:56.327Z"
      },
      {
        "duration": 3,
        "start_time": "2022-07-12T19:05:56.470Z"
      },
      {
        "duration": 75,
        "start_time": "2022-07-12T19:05:56.474Z"
      },
      {
        "duration": 4,
        "start_time": "2022-07-12T19:05:56.551Z"
      },
      {
        "duration": 89,
        "start_time": "2022-07-12T19:05:56.557Z"
      },
      {
        "duration": 3,
        "start_time": "2022-07-12T19:05:56.648Z"
      },
      {
        "duration": 85,
        "start_time": "2022-07-12T19:05:56.655Z"
      },
      {
        "duration": 4,
        "start_time": "2022-07-12T19:05:56.742Z"
      },
      {
        "duration": 89,
        "start_time": "2022-07-12T19:05:56.747Z"
      },
      {
        "duration": 3,
        "start_time": "2022-07-12T19:05:56.838Z"
      },
      {
        "duration": 76,
        "start_time": "2022-07-12T19:05:56.843Z"
      },
      {
        "duration": 3,
        "start_time": "2022-07-12T19:05:56.921Z"
      },
      {
        "duration": 107,
        "start_time": "2022-07-12T19:05:56.926Z"
      },
      {
        "duration": 3,
        "start_time": "2022-07-12T19:05:57.035Z"
      },
      {
        "duration": 80,
        "start_time": "2022-07-12T19:05:57.041Z"
      },
      {
        "duration": 10312,
        "start_time": "2022-07-12T19:31:57.240Z"
      },
      {
        "duration": 4,
        "start_time": "2022-07-12T19:32:07.555Z"
      },
      {
        "duration": 7,
        "start_time": "2022-07-12T19:32:07.561Z"
      },
      {
        "duration": 387,
        "start_time": "2022-07-12T19:32:07.570Z"
      },
      {
        "duration": 151,
        "start_time": "2022-07-12T19:32:07.959Z"
      },
      {
        "duration": 195,
        "start_time": "2022-07-12T19:32:08.111Z"
      },
      {
        "duration": 168,
        "start_time": "2022-07-12T19:32:08.308Z"
      },
      {
        "duration": 157,
        "start_time": "2022-07-12T19:32:08.478Z"
      },
      {
        "duration": 3,
        "start_time": "2022-07-12T19:32:08.637Z"
      },
      {
        "duration": 77,
        "start_time": "2022-07-12T19:32:08.642Z"
      },
      {
        "duration": 4,
        "start_time": "2022-07-12T19:32:08.721Z"
      },
      {
        "duration": 106,
        "start_time": "2022-07-12T19:32:08.729Z"
      },
      {
        "duration": 5,
        "start_time": "2022-07-12T19:32:08.836Z"
      },
      {
        "duration": 91,
        "start_time": "2022-07-12T19:32:08.843Z"
      },
      {
        "duration": 3,
        "start_time": "2022-07-12T19:32:08.936Z"
      },
      {
        "duration": 97,
        "start_time": "2022-07-12T19:32:08.941Z"
      },
      {
        "duration": 2,
        "start_time": "2022-07-12T19:32:09.040Z"
      },
      {
        "duration": 79,
        "start_time": "2022-07-12T19:32:09.044Z"
      },
      {
        "duration": 3,
        "start_time": "2022-07-12T19:32:09.125Z"
      },
      {
        "duration": 85,
        "start_time": "2022-07-12T19:32:09.132Z"
      },
      {
        "duration": 2,
        "start_time": "2022-07-12T19:32:09.219Z"
      },
      {
        "duration": 97,
        "start_time": "2022-07-12T19:32:09.222Z"
      },
      {
        "duration": 2,
        "start_time": "2022-07-12T19:32:17.884Z"
      },
      {
        "duration": 76,
        "start_time": "2022-07-12T19:32:19.187Z"
      },
      {
        "duration": 4,
        "start_time": "2022-07-12T19:46:28.843Z"
      },
      {
        "duration": 71,
        "start_time": "2022-07-12T19:46:29.562Z"
      },
      {
        "duration": 3,
        "start_time": "2022-07-12T19:47:25.211Z"
      },
      {
        "duration": 205,
        "start_time": "2022-07-12T19:47:25.738Z"
      },
      {
        "duration": 3,
        "start_time": "2022-07-12T19:47:38.434Z"
      },
      {
        "duration": 141,
        "start_time": "2022-07-12T19:47:38.976Z"
      },
      {
        "duration": 2,
        "start_time": "2022-07-12T19:47:50.264Z"
      },
      {
        "duration": 72,
        "start_time": "2022-07-12T19:47:50.565Z"
      },
      {
        "duration": 3,
        "start_time": "2022-07-12T19:51:49.910Z"
      },
      {
        "duration": 140,
        "start_time": "2022-07-12T19:51:51.070Z"
      },
      {
        "duration": 2,
        "start_time": "2022-07-12T19:52:01.463Z"
      },
      {
        "duration": 1466,
        "start_time": "2022-07-12T19:52:02.051Z"
      },
      {
        "duration": 3,
        "start_time": "2022-07-12T19:53:03.119Z"
      },
      {
        "duration": 229,
        "start_time": "2022-07-12T19:53:04.037Z"
      },
      {
        "duration": 4,
        "start_time": "2022-07-12T20:00:02.740Z"
      },
      {
        "duration": 86,
        "start_time": "2022-07-12T20:00:03.297Z"
      },
      {
        "duration": 3,
        "start_time": "2022-07-12T20:01:47.399Z"
      },
      {
        "duration": 83,
        "start_time": "2022-07-12T20:01:48.214Z"
      },
      {
        "duration": 3,
        "start_time": "2022-07-12T20:02:50.436Z"
      },
      {
        "duration": 76,
        "start_time": "2022-07-12T20:02:51.071Z"
      },
      {
        "duration": 2,
        "start_time": "2022-07-12T20:04:05.877Z"
      },
      {
        "duration": 76,
        "start_time": "2022-07-12T20:04:06.752Z"
      },
      {
        "duration": 2,
        "start_time": "2022-07-12T20:04:41.417Z"
      },
      {
        "duration": 76,
        "start_time": "2022-07-12T20:04:41.909Z"
      },
      {
        "duration": 3,
        "start_time": "2022-07-12T20:07:11.931Z"
      },
      {
        "duration": 158,
        "start_time": "2022-07-12T20:07:12.707Z"
      },
      {
        "duration": 3,
        "start_time": "2022-07-12T20:08:22.607Z"
      },
      {
        "duration": 75,
        "start_time": "2022-07-12T20:08:23.083Z"
      },
      {
        "duration": 3,
        "start_time": "2022-07-12T20:09:20.812Z"
      },
      {
        "duration": 75,
        "start_time": "2022-07-12T20:09:21.400Z"
      },
      {
        "duration": 3,
        "start_time": "2022-07-12T20:09:32.745Z"
      },
      {
        "duration": 75,
        "start_time": "2022-07-12T20:09:33.335Z"
      },
      {
        "duration": 2,
        "start_time": "2022-07-12T20:09:48.710Z"
      },
      {
        "duration": 76,
        "start_time": "2022-07-12T20:09:49.461Z"
      },
      {
        "duration": 4,
        "start_time": "2022-07-12T20:10:25.353Z"
      },
      {
        "duration": 153,
        "start_time": "2022-07-12T20:10:26.435Z"
      },
      {
        "duration": 3,
        "start_time": "2022-07-12T20:11:07.293Z"
      },
      {
        "duration": 79,
        "start_time": "2022-07-12T20:11:08.158Z"
      },
      {
        "duration": 3,
        "start_time": "2022-07-12T20:11:42.882Z"
      },
      {
        "duration": 135,
        "start_time": "2022-07-12T20:11:43.398Z"
      },
      {
        "duration": 3,
        "start_time": "2022-07-12T20:11:50.314Z"
      },
      {
        "duration": 86,
        "start_time": "2022-07-12T20:11:50.606Z"
      },
      {
        "duration": 4,
        "start_time": "2022-07-12T20:12:09.176Z"
      },
      {
        "duration": 76,
        "start_time": "2022-07-12T20:12:09.753Z"
      },
      {
        "duration": 3,
        "start_time": "2022-07-12T20:12:49.063Z"
      },
      {
        "duration": 74,
        "start_time": "2022-07-12T20:12:49.587Z"
      },
      {
        "duration": 6124,
        "start_time": "2022-07-12T20:17:48.806Z"
      },
      {
        "duration": 4,
        "start_time": "2022-07-12T20:17:54.932Z"
      },
      {
        "duration": 8,
        "start_time": "2022-07-12T20:17:54.938Z"
      },
      {
        "duration": 392,
        "start_time": "2022-07-12T20:17:54.948Z"
      },
      {
        "duration": 155,
        "start_time": "2022-07-12T20:17:55.342Z"
      },
      {
        "duration": 186,
        "start_time": "2022-07-12T20:17:55.498Z"
      },
      {
        "duration": 176,
        "start_time": "2022-07-12T20:17:55.685Z"
      },
      {
        "duration": 154,
        "start_time": "2022-07-12T20:17:55.862Z"
      },
      {
        "duration": 3,
        "start_time": "2022-07-12T20:17:56.018Z"
      },
      {
        "duration": 82,
        "start_time": "2022-07-12T20:17:56.024Z"
      },
      {
        "duration": 4,
        "start_time": "2022-07-12T20:17:56.108Z"
      },
      {
        "duration": 96,
        "start_time": "2022-07-12T20:17:56.114Z"
      },
      {
        "duration": 3,
        "start_time": "2022-07-12T20:17:56.211Z"
      },
      {
        "duration": 87,
        "start_time": "2022-07-12T20:17:56.216Z"
      },
      {
        "duration": 3,
        "start_time": "2022-07-12T20:17:56.305Z"
      },
      {
        "duration": 90,
        "start_time": "2022-07-12T20:17:56.310Z"
      },
      {
        "duration": 2,
        "start_time": "2022-07-12T20:17:56.402Z"
      },
      {
        "duration": 79,
        "start_time": "2022-07-12T20:17:56.406Z"
      },
      {
        "duration": 3,
        "start_time": "2022-07-12T20:17:56.486Z"
      },
      {
        "duration": 84,
        "start_time": "2022-07-12T20:17:56.491Z"
      },
      {
        "duration": 3,
        "start_time": "2022-07-12T20:17:56.577Z"
      },
      {
        "duration": 83,
        "start_time": "2022-07-12T20:17:56.582Z"
      }
    ],
    "kernelspec": {
      "display_name": "Python 3 (ipykernel)",
      "language": "python",
      "name": "python3"
    },
    "language_info": {
      "codemirror_mode": {
        "name": "ipython",
        "version": 3
      },
      "file_extension": ".py",
      "mimetype": "text/x-python",
      "name": "python",
      "nbconvert_exporter": "python",
      "pygments_lexer": "ipython3",
      "version": "3.9.5"
    },
    "toc": {
      "base_numbering": 1,
      "nav_menu": {},
      "number_sections": true,
      "sideBar": true,
      "skip_h1_title": true,
      "title_cell": "Table of Contents",
      "title_sidebar": "Contents",
      "toc_cell": false,
      "toc_position": {},
      "toc_section_display": true,
      "toc_window_display": false
    },
    "colab": {
      "name": "5f81931d-20f3-4bb3-8617-790d3d9d3d05.ipynb",
      "provenance": []
    }
  },
  "nbformat": 4,
  "nbformat_minor": 0
}