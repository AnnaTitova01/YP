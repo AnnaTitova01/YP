{
 "cells": [
  {
   "cell_type": "markdown",
   "metadata": {
    "id": "Ml1hmfXC_Zcs"
   },
   "source": [
    "## Обзор данных\n",
    "\n",
    "\n",
    "\n",
    "\n"
   ]
  },
  {
   "cell_type": "markdown",
   "metadata": {
    "id": "57eAOGIz_Zcs"
   },
   "source": [
    "Импортируем библиотеку"
   ]
  },
  {
   "cell_type": "code",
   "execution_count": 91,
   "metadata": {
    "id": "AXN7PHPN_Zcs"
   },
   "outputs": [],
   "source": [
    "import pandas as pd# импорт библиотеки pandas"
   ]
  },
  {
   "cell_type": "markdown",
   "metadata": {
    "id": "SG23P8tt_Zcs"
   },
   "source": [
    "Прочитаем файл "
   ]
  },
  {
   "cell_type": "code",
   "execution_count": 92,
   "metadata": {
    "id": "fFVu7vqh_Zct"
   },
   "outputs": [],
   "source": [
    "df = pd.read_csv('yandex_music_project.csv')# чтение файла с данными и сохранение в df"
   ]
  },
  {
   "cell_type": "markdown",
   "metadata": {
    "id": "rDoOMd3uTqnZ"
   },
   "source": [
    "Выведем на экран первые десять строк таблицы:"
   ]
  },
  {
   "cell_type": "code",
   "execution_count": 93,
   "metadata": {
    "id": "oWTVX3gW_Zct"
   },
   "outputs": [
    {
     "data": {
      "text/html": [
       "<div>\n",
       "<style scoped>\n",
       "    .dataframe tbody tr th:only-of-type {\n",
       "        vertical-align: middle;\n",
       "    }\n",
       "\n",
       "    .dataframe tbody tr th {\n",
       "        vertical-align: top;\n",
       "    }\n",
       "\n",
       "    .dataframe thead th {\n",
       "        text-align: right;\n",
       "    }\n",
       "</style>\n",
       "<table border=\"1\" class=\"dataframe\">\n",
       "  <thead>\n",
       "    <tr style=\"text-align: right;\">\n",
       "      <th></th>\n",
       "      <th>userID</th>\n",
       "      <th>Track</th>\n",
       "      <th>artist</th>\n",
       "      <th>genre</th>\n",
       "      <th>City</th>\n",
       "      <th>time</th>\n",
       "      <th>Day</th>\n",
       "    </tr>\n",
       "  </thead>\n",
       "  <tbody>\n",
       "    <tr>\n",
       "      <th>0</th>\n",
       "      <td>FFB692EC</td>\n",
       "      <td>Kamigata To Boots</td>\n",
       "      <td>The Mass Missile</td>\n",
       "      <td>rock</td>\n",
       "      <td>Saint-Petersburg</td>\n",
       "      <td>20:28:33</td>\n",
       "      <td>Wednesday</td>\n",
       "    </tr>\n",
       "    <tr>\n",
       "      <th>1</th>\n",
       "      <td>55204538</td>\n",
       "      <td>Delayed Because of Accident</td>\n",
       "      <td>Andreas Rönnberg</td>\n",
       "      <td>rock</td>\n",
       "      <td>Moscow</td>\n",
       "      <td>14:07:09</td>\n",
       "      <td>Friday</td>\n",
       "    </tr>\n",
       "    <tr>\n",
       "      <th>2</th>\n",
       "      <td>20EC38</td>\n",
       "      <td>Funiculì funiculà</td>\n",
       "      <td>Mario Lanza</td>\n",
       "      <td>pop</td>\n",
       "      <td>Saint-Petersburg</td>\n",
       "      <td>20:58:07</td>\n",
       "      <td>Wednesday</td>\n",
       "    </tr>\n",
       "    <tr>\n",
       "      <th>3</th>\n",
       "      <td>A3DD03C9</td>\n",
       "      <td>Dragons in the Sunset</td>\n",
       "      <td>Fire + Ice</td>\n",
       "      <td>folk</td>\n",
       "      <td>Saint-Petersburg</td>\n",
       "      <td>08:37:09</td>\n",
       "      <td>Monday</td>\n",
       "    </tr>\n",
       "    <tr>\n",
       "      <th>4</th>\n",
       "      <td>E2DC1FAE</td>\n",
       "      <td>Soul People</td>\n",
       "      <td>Space Echo</td>\n",
       "      <td>dance</td>\n",
       "      <td>Moscow</td>\n",
       "      <td>08:34:34</td>\n",
       "      <td>Monday</td>\n",
       "    </tr>\n",
       "    <tr>\n",
       "      <th>5</th>\n",
       "      <td>842029A1</td>\n",
       "      <td>Преданная</td>\n",
       "      <td>IMPERVTOR</td>\n",
       "      <td>rusrap</td>\n",
       "      <td>Saint-Petersburg</td>\n",
       "      <td>13:09:41</td>\n",
       "      <td>Friday</td>\n",
       "    </tr>\n",
       "    <tr>\n",
       "      <th>6</th>\n",
       "      <td>4CB90AA5</td>\n",
       "      <td>True</td>\n",
       "      <td>Roman Messer</td>\n",
       "      <td>dance</td>\n",
       "      <td>Moscow</td>\n",
       "      <td>13:00:07</td>\n",
       "      <td>Wednesday</td>\n",
       "    </tr>\n",
       "    <tr>\n",
       "      <th>7</th>\n",
       "      <td>F03E1C1F</td>\n",
       "      <td>Feeling This Way</td>\n",
       "      <td>Polina Griffith</td>\n",
       "      <td>dance</td>\n",
       "      <td>Moscow</td>\n",
       "      <td>20:47:49</td>\n",
       "      <td>Wednesday</td>\n",
       "    </tr>\n",
       "    <tr>\n",
       "      <th>8</th>\n",
       "      <td>8FA1D3BE</td>\n",
       "      <td>И вновь продолжается бой</td>\n",
       "      <td>NaN</td>\n",
       "      <td>ruspop</td>\n",
       "      <td>Moscow</td>\n",
       "      <td>09:17:40</td>\n",
       "      <td>Friday</td>\n",
       "    </tr>\n",
       "    <tr>\n",
       "      <th>9</th>\n",
       "      <td>E772D5C0</td>\n",
       "      <td>Pessimist</td>\n",
       "      <td>NaN</td>\n",
       "      <td>dance</td>\n",
       "      <td>Saint-Petersburg</td>\n",
       "      <td>21:20:49</td>\n",
       "      <td>Wednesday</td>\n",
       "    </tr>\n",
       "  </tbody>\n",
       "</table>\n",
       "</div>"
      ],
      "text/plain": [
       "     userID                        Track            artist   genre  \\\n",
       "0  FFB692EC            Kamigata To Boots  The Mass Missile    rock   \n",
       "1  55204538  Delayed Because of Accident  Andreas Rönnberg    rock   \n",
       "2    20EC38            Funiculì funiculà       Mario Lanza     pop   \n",
       "3  A3DD03C9        Dragons in the Sunset        Fire + Ice    folk   \n",
       "4  E2DC1FAE                  Soul People        Space Echo   dance   \n",
       "5  842029A1                    Преданная         IMPERVTOR  rusrap   \n",
       "6  4CB90AA5                         True      Roman Messer   dance   \n",
       "7  F03E1C1F             Feeling This Way   Polina Griffith   dance   \n",
       "8  8FA1D3BE     И вновь продолжается бой               NaN  ruspop   \n",
       "9  E772D5C0                    Pessimist               NaN   dance   \n",
       "\n",
       "             City        time        Day  \n",
       "0  Saint-Petersburg  20:28:33  Wednesday  \n",
       "1            Moscow  14:07:09     Friday  \n",
       "2  Saint-Petersburg  20:58:07  Wednesday  \n",
       "3  Saint-Petersburg  08:37:09     Monday  \n",
       "4            Moscow  08:34:34     Monday  \n",
       "5  Saint-Petersburg  13:09:41     Friday  \n",
       "6            Moscow  13:00:07  Wednesday  \n",
       "7            Moscow  20:47:49  Wednesday  \n",
       "8            Moscow  09:17:40     Friday  \n",
       "9  Saint-Petersburg  21:20:49  Wednesday  "
      ]
     },
     "execution_count": 93,
     "metadata": {},
     "output_type": "execute_result"
    }
   ],
   "source": [
    "df.head(10)# получение первых 10 строк таблицы df"
   ]
  },
  {
   "cell_type": "markdown",
   "metadata": {
    "id": "EO73Kwic_Zct"
   },
   "source": [
    "Получим общую информацию о таблице:"
   ]
  },
  {
   "cell_type": "code",
   "execution_count": 94,
   "metadata": {
    "id": "DSf2kIb-_Zct"
   },
   "outputs": [
    {
     "name": "stdout",
     "output_type": "stream",
     "text": [
      "<class 'pandas.core.frame.DataFrame'>\n",
      "RangeIndex: 65079 entries, 0 to 65078\n",
      "Data columns (total 7 columns):\n",
      " #   Column    Non-Null Count  Dtype \n",
      "---  ------    --------------  ----- \n",
      " 0     userID  65079 non-null  object\n",
      " 1   Track     63848 non-null  object\n",
      " 2   artist    57876 non-null  object\n",
      " 3   genre     63881 non-null  object\n",
      " 4     City    65079 non-null  object\n",
      " 5   time      65079 non-null  object\n",
      " 6   Day       65079 non-null  object\n",
      "dtypes: object(7)\n",
      "memory usage: 3.5+ MB\n"
     ]
    }
   ],
   "source": [
    "df.info()# получение общей информации о данных в таблице df"
   ]
  },
  {
   "cell_type": "markdown",
   "metadata": {
    "id": "TaQ2Iwbr_Zct"
   },
   "source": [
    "Итак, в таблице семь столбцов. Тип данных во всех столбцах — `object`.\n",
    "\n",
    "Согласно документации к данным:\n",
    "* `userID` — идентификатор пользователя;\n",
    "* `Track` — название трека;  \n",
    "* `artist` — имя исполнителя;\n",
    "* `genre` — название жанра;\n",
    "* `City` — город пользователя;\n",
    "* `time` — время начала прослушивания;\n",
    "* `Day` — день недели.\n",
    "\n",
    "В названиях колонок видны три нарушения стиля:\n",
    "1. Строчные буквы сочетаются с прописными.\n",
    "2. Встречаются пробелы.\n",
    "3. Не соблюдается \"змеиный регистр\"\n",
    "\n",
    "\n",
    "\n",
    "Количество значений в столбцах различается. Значит, в данных есть пропущенные значения.\n"
   ]
  },
  {
   "cell_type": "markdown",
   "metadata": {
    "id": "MCB6-dXG_Zct"
   },
   "source": [
    "**Выводы**\n",
    "\n",
    "В каждой строке таблицы — данные о прослушанном треке. Часть колонок описывает саму композицию: название, исполнителя и жанр. Остальные данные рассказывают о пользователе: из какого он города, когда он слушал музыку. \n",
    "\n",
    "Предварительно можно утверждать, что, данных достаточно для проверки гипотез. Но встречаются пропуски в данных, а в названиях колонок — расхождения с хорошим стилем.\n",
    "\n",
    "Чтобы двигаться дальше, нужно устранить проблемы в данных."
   ]
  },
  {
   "cell_type": "markdown",
   "metadata": {
    "id": "SjYF6Ub9_Zct"
   },
   "source": [
    "## Предобработка данных\n",
    "Исправим стиль в заголовках столбцов, исключим пропуски. Затем проверим данные на дубликаты."
   ]
  },
  {
   "cell_type": "markdown",
   "metadata": {
    "id": "dIaKXr29_Zct"
   },
   "source": [
    "### Стиль заголовков\n",
    "Выведем на экран названия столбцов:"
   ]
  },
  {
   "cell_type": "code",
   "execution_count": 95,
   "metadata": {
    "id": "oKOTdF_Q_Zct"
   },
   "outputs": [
    {
     "data": {
      "text/plain": [
       "Index(['  userID', 'Track', 'artist', 'genre', '  City  ', 'time', 'Day'], dtype='object')"
      ]
     },
     "execution_count": 95,
     "metadata": {},
     "output_type": "execute_result"
    }
   ],
   "source": [
    "df.columns# перечень названий столбцов таблицы df"
   ]
  },
  {
   "cell_type": "markdown",
   "metadata": {
    "id": "zj5534cv_Zct"
   },
   "source": [
    "Приведем названия в соответствие с хорошим стилем:\n",
    "* несколько слов в названии запишем в «змеином_регистре»,\n",
    "* все символы сделаем строчными,\n",
    "* устраним пробелы.\n"
   ]
  },
  {
   "cell_type": "code",
   "execution_count": 96,
   "metadata": {
    "id": "ISlFqs5y_Zct"
   },
   "outputs": [],
   "source": [
    "df = df.rename(columns={'  userID':'user_id', \n",
    "                       'Track':'track', \n",
    "                       '  City  ':'city', \n",
    "                       'Day':'day'})# переименование столбцов"
   ]
  },
  {
   "cell_type": "markdown",
   "metadata": {
    "id": "1dqbh00J_Zct"
   },
   "source": [
    "Для проверки еще раз выведем названия столбцов"
   ]
  },
  {
   "cell_type": "code",
   "execution_count": 97,
   "metadata": {
    "id": "d4NOAmTW_Zct"
   },
   "outputs": [
    {
     "data": {
      "text/plain": [
       "Index(['user_id', 'track', 'artist', 'genre', 'city', 'time', 'day'], dtype='object')"
      ]
     },
     "execution_count": 97,
     "metadata": {},
     "output_type": "execute_result"
    }
   ],
   "source": [
    "df.columns# проверка результатов - перечень названий столбцов"
   ]
  },
  {
   "cell_type": "markdown",
   "metadata": {
    "id": "5ISfbcfY_Zct"
   },
   "source": [
    "### Пропуски значений\n",
    "Посчитаем, сколько в таблице пропущенных значений, применим метода isna() и sum()"
   ]
  },
  {
   "cell_type": "code",
   "execution_count": 98,
   "metadata": {
    "id": "RskX29qr_Zct"
   },
   "outputs": [
    {
     "data": {
      "text/plain": [
       "user_id       0\n",
       "track      1231\n",
       "artist     7203\n",
       "genre      1198\n",
       "city          0\n",
       "time          0\n",
       "day           0\n",
       "dtype: int64"
      ]
     },
     "execution_count": 98,
     "metadata": {},
     "output_type": "execute_result"
    }
   ],
   "source": [
    "df.isna().sum()# подсчёт пропусков"
   ]
  },
  {
   "cell_type": "markdown",
   "metadata": {
    "id": "qubhgnlO_Zct"
   },
   "source": [
    "Не все пропущенные значения влияют на исследование. Так в `track` и `artist` пропуски не важны для вашей работы. Достаточно заменить их явными обозначениями.\n",
    "\n",
    "Но пропуски в `genre` могут помешать сравнению музыкальных вкусов в Москве и Санкт-Петербурге, поэтому нужно:\n",
    "* заполнить и эти пропуски явными обозначениями,\n",
    "* оценить, насколько они повредят расчётам. \n",
    "\n",
    "В дальнейшем необходимо выяснять причину пропусков и желательно восстановление данных"
   ]
  },
  {
   "cell_type": "markdown",
   "metadata": {
    "id": "fSv2laPA_Zct"
   },
   "source": [
    "Заменим пропущенные значения в столбцах `track`, `artist` и `genre` на строку `'unknown'`. Для этого применим цикл"
   ]
  },
  {
   "cell_type": "code",
   "execution_count": 99,
   "metadata": {
    "id": "KplB5qWs_Zct"
   },
   "outputs": [],
   "source": [
    "columns_to_replace = ['track','artist','genre']\n",
    "for column in columns_to_replace:\n",
    "    df[columns_to_replace]=df[columns_to_replace].fillna('unknown')# перебор названий столбцов в цикле и замена пропущенных значений на 'unknown'"
   ]
  },
  {
   "cell_type": "markdown",
   "metadata": {
    "id": "Ilsm-MZo_Zct"
   },
   "source": [
    "Убедитесь, что в таблице не осталось пропусков. Для этого ещё раз посчитайте пропущенные значения."
   ]
  },
  {
   "cell_type": "code",
   "execution_count": 100,
   "metadata": {
    "id": "Tq4nYRX4_Zct"
   },
   "outputs": [
    {
     "data": {
      "text/plain": [
       "user_id    0\n",
       "track      0\n",
       "artist     0\n",
       "genre      0\n",
       "city       0\n",
       "time       0\n",
       "day        0\n",
       "dtype: int64"
      ]
     },
     "execution_count": 100,
     "metadata": {},
     "output_type": "execute_result"
    }
   ],
   "source": [
    "df.isna().sum()# подсчёт пропусков"
   ]
  },
  {
   "cell_type": "markdown",
   "metadata": {
    "id": "BWKRtBJ3_Zct"
   },
   "source": [
    "### Дубликаты\n",
    "Посчитаем явные дубликаты:"
   ]
  },
  {
   "cell_type": "code",
   "execution_count": 101,
   "metadata": {
    "id": "36eES_S0_Zct"
   },
   "outputs": [
    {
     "data": {
      "text/plain": [
       "3826"
      ]
     },
     "execution_count": 101,
     "metadata": {},
     "output_type": "execute_result"
    }
   ],
   "source": [
    "df.duplicated().sum()# подсчёт явных дубликатов"
   ]
  },
  {
   "cell_type": "markdown",
   "metadata": {
    "id": "Ot25h6XR_Zct"
   },
   "source": [
    "Вызовем специальный метод `pandas`, чтобы удалить явные дубликаты:"
   ]
  },
  {
   "cell_type": "code",
   "execution_count": 102,
   "metadata": {
    "id": "exFHq6tt_Zct"
   },
   "outputs": [],
   "source": [
    "df = df.drop_duplicates().reset_index()# удаление явных дубликатов (с удалением старых индексов и формированием новых)"
   ]
  },
  {
   "cell_type": "markdown",
   "metadata": {
    "id": "Im2YwBEG_Zct"
   },
   "source": [
    "Ещё раз посчитаем явные дубликаты в таблице — убедимся, что полностью от них избавились:"
   ]
  },
  {
   "cell_type": "code",
   "execution_count": 103,
   "metadata": {
    "id": "-8PuNWQ0_Zct"
   },
   "outputs": [
    {
     "data": {
      "text/plain": [
       "0"
      ]
     },
     "execution_count": 103,
     "metadata": {},
     "output_type": "execute_result"
    }
   ],
   "source": [
    "df.duplicated().sum()# проверка на отсутствие дубликатов"
   ]
  },
  {
   "cell_type": "markdown",
   "metadata": {
    "id": "QlFBsxAr_Zct"
   },
   "source": [
    "Теперь избавимся от неявных дубликатов в колонке `genre`. Название одного и того же жанра может быть записано по-разному"
   ]
  },
  {
   "cell_type": "markdown",
   "metadata": {
    "id": "eSjWwsOh_Zct"
   },
   "source": [
    "Выведем на экран список уникальных названий жанров, отсортированный в алфавитном порядке. Для этого:\n",
    "* извлекаем нужный столбец датафрейма, \n",
    "* применим к нему метод сортировки,\n",
    "* для отсортированного столбца вызовем метод, который вернёт уникальные значения из столбца."
   ]
  },
  {
   "cell_type": "code",
   "execution_count": 104,
   "metadata": {
    "id": "JIUcqzZN_Zct"
   },
   "outputs": [
    {
     "data": {
      "text/plain": [
       "array(['acid', 'acoustic', 'action', 'adult', 'africa', 'afrikaans',\n",
       "       'alternative', 'alternativepunk', 'ambient', 'americana',\n",
       "       'animated', 'anime', 'arabesk', 'arabic', 'arena',\n",
       "       'argentinetango', 'art', 'audiobook', 'author', 'avantgarde',\n",
       "       'axé', 'baile', 'balkan', 'beats', 'bigroom', 'black', 'bluegrass',\n",
       "       'blues', 'bollywood', 'bossa', 'brazilian', 'breakbeat', 'breaks',\n",
       "       'broadway', 'cantautori', 'cantopop', 'canzone', 'caribbean',\n",
       "       'caucasian', 'celtic', 'chamber', 'chanson', 'children', 'chill',\n",
       "       'chinese', 'choral', 'christian', 'christmas', 'classical',\n",
       "       'classicmetal', 'club', 'colombian', 'comedy', 'conjazz',\n",
       "       'contemporary', 'country', 'cuban', 'dance', 'dancehall',\n",
       "       'dancepop', 'dark', 'death', 'deep', 'deutschrock', 'deutschspr',\n",
       "       'dirty', 'disco', 'dnb', 'documentary', 'downbeat', 'downtempo',\n",
       "       'drum', 'dub', 'dubstep', 'eastern', 'easy', 'electronic',\n",
       "       'electropop', 'emo', 'entehno', 'epicmetal', 'estrada', 'ethnic',\n",
       "       'eurofolk', 'european', 'experimental', 'extrememetal', 'fado',\n",
       "       'fairytail', 'film', 'fitness', 'flamenco', 'folk', 'folklore',\n",
       "       'folkmetal', 'folkrock', 'folktronica', 'forró', 'frankreich',\n",
       "       'französisch', 'french', 'funk', 'future', 'gangsta', 'garage',\n",
       "       'german', 'ghazal', 'gitarre', 'glitch', 'gospel', 'gothic',\n",
       "       'grime', 'grunge', 'gypsy', 'handsup', \"hard'n'heavy\", 'hardcore',\n",
       "       'hardstyle', 'hardtechno', 'hip', 'hip-hop', 'hiphop',\n",
       "       'historisch', 'holiday', 'hop', 'horror', 'house', 'hymn', 'idm',\n",
       "       'independent', 'indian', 'indie', 'indipop', 'industrial',\n",
       "       'inspirational', 'instrumental', 'international', 'irish', 'jam',\n",
       "       'japanese', 'jazz', 'jewish', 'jpop', 'jungle', 'k-pop',\n",
       "       'karadeniz', 'karaoke', 'kayokyoku', 'korean', 'laiko', 'latin',\n",
       "       'latino', 'leftfield', 'local', 'lounge', 'loungeelectronic',\n",
       "       'lovers', 'malaysian', 'mandopop', 'marschmusik', 'meditative',\n",
       "       'mediterranean', 'melodic', 'metal', 'metalcore', 'mexican',\n",
       "       'middle', 'minimal', 'miscellaneous', 'modern', 'mood', 'mpb',\n",
       "       'muslim', 'native', 'neoklassik', 'neue', 'new', 'newage',\n",
       "       'newwave', 'nu', 'nujazz', 'numetal', 'oceania', 'old', 'opera',\n",
       "       'orchestral', 'other', 'piano', 'podcasts', 'pop', 'popdance',\n",
       "       'popelectronic', 'popeurodance', 'poprussian', 'post',\n",
       "       'posthardcore', 'postrock', 'power', 'progmetal', 'progressive',\n",
       "       'psychedelic', 'punjabi', 'punk', 'quebecois', 'ragga', 'ram',\n",
       "       'rancheras', 'rap', 'rave', 'reggae', 'reggaeton', 'regional',\n",
       "       'relax', 'religious', 'retro', 'rhythm', 'rnb', 'rnr', 'rock',\n",
       "       'rockabilly', 'rockalternative', 'rockindie', 'rockother',\n",
       "       'romance', 'roots', 'ruspop', 'rusrap', 'rusrock', 'russian',\n",
       "       'salsa', 'samba', 'scenic', 'schlager', 'self', 'sertanejo',\n",
       "       'shanson', 'shoegazing', 'showtunes', 'singer', 'ska', 'skarock',\n",
       "       'slow', 'smooth', 'soft', 'soul', 'soulful', 'sound', 'soundtrack',\n",
       "       'southern', 'specialty', 'speech', 'spiritual', 'sport',\n",
       "       'stonerrock', 'surf', 'swing', 'synthpop', 'synthrock',\n",
       "       'sängerportrait', 'tango', 'tanzorchester', 'taraftar', 'tatar',\n",
       "       'tech', 'techno', 'teen', 'thrash', 'top', 'traditional',\n",
       "       'tradjazz', 'trance', 'tribal', 'trip', 'triphop', 'tropical',\n",
       "       'türk', 'türkçe', 'ukrrock', 'unknown', 'urban', 'uzbek',\n",
       "       'variété', 'vi', 'videogame', 'vocal', 'western', 'world',\n",
       "       'worldbeat', 'ïîï', 'электроника'], dtype=object)"
      ]
     },
     "execution_count": 104,
     "metadata": {},
     "output_type": "execute_result"
    }
   ],
   "source": [
    "sorted_df = df.sort_values(by='genre')\n",
    "sorted_df['genre'].unique()# Просмотр уникальных названий жанров"
   ]
  },
  {
   "cell_type": "markdown",
   "metadata": {
    "id": "qej-Qmuo_Zct"
   },
   "source": [
    "Есть следующие неявные дубликаты:\n",
    "* *hip*,\n",
    "* *hop*,\n",
    "* *hip-hop*.\n",
    "\n",
    "С помощью функции очистим от неявных дубликатов"
   ]
  },
  {
   "cell_type": "code",
   "execution_count": 105,
   "metadata": {
    "id": "ErNDkmns_Zct"
   },
   "outputs": [],
   "source": [
    "def replace_wrong_genres(wrong_genres, correct_genre):\n",
    "    for wrong_genre in wrong_genres:\n",
    "        df['genre'] = df['genre'].replace(wrong_genre, correct_genre)# Функция для замены неявных дубликатов"
   ]
  },
  {
   "cell_type": "markdown",
   "metadata": {
    "id": "aDoBJxbA_Zct"
   },
   "source": [
    "Вызовем `replace_wrong_genres()` и передаем ей такие аргументы, чтобы она устранила неявные дубликаты: вместо `hip`, `hop` и `hip-hop` в таблице должно быть значение `hiphop`:"
   ]
  },
  {
   "cell_type": "code",
   "execution_count": 106,
   "metadata": {
    "id": "YN5i2hpmSo09"
   },
   "outputs": [],
   "source": [
    "replace_wrong_genres(['hip','hop','hip-hop'], 'hiphop')# Устранение неявных дубликатов"
   ]
  },
  {
   "cell_type": "markdown",
   "metadata": {
    "id": "zQKF16_RG15m"
   },
   "source": [
    "Проверим, что названия были изменены, выведем обновленный список"
   ]
  },
  {
   "cell_type": "code",
   "execution_count": 107,
   "metadata": {
    "id": "wvixALnFG15m"
   },
   "outputs": [
    {
     "data": {
      "text/plain": [
       "array(['acid', 'acoustic', 'action', 'adult', 'africa', 'afrikaans',\n",
       "       'alternative', 'alternativepunk', 'ambient', 'americana',\n",
       "       'animated', 'anime', 'arabesk', 'arabic', 'arena',\n",
       "       'argentinetango', 'art', 'audiobook', 'author', 'avantgarde',\n",
       "       'axé', 'baile', 'balkan', 'beats', 'bigroom', 'black', 'bluegrass',\n",
       "       'blues', 'bollywood', 'bossa', 'brazilian', 'breakbeat', 'breaks',\n",
       "       'broadway', 'cantautori', 'cantopop', 'canzone', 'caribbean',\n",
       "       'caucasian', 'celtic', 'chamber', 'chanson', 'children', 'chill',\n",
       "       'chinese', 'choral', 'christian', 'christmas', 'classical',\n",
       "       'classicmetal', 'club', 'colombian', 'comedy', 'conjazz',\n",
       "       'contemporary', 'country', 'cuban', 'dance', 'dancehall',\n",
       "       'dancepop', 'dark', 'death', 'deep', 'deutschrock', 'deutschspr',\n",
       "       'dirty', 'disco', 'dnb', 'documentary', 'downbeat', 'downtempo',\n",
       "       'drum', 'dub', 'dubstep', 'eastern', 'easy', 'electronic',\n",
       "       'electropop', 'emo', 'entehno', 'epicmetal', 'estrada', 'ethnic',\n",
       "       'eurofolk', 'european', 'experimental', 'extrememetal', 'fado',\n",
       "       'fairytail', 'film', 'fitness', 'flamenco', 'folk', 'folklore',\n",
       "       'folkmetal', 'folkrock', 'folktronica', 'forró', 'frankreich',\n",
       "       'französisch', 'french', 'funk', 'future', 'gangsta', 'garage',\n",
       "       'german', 'ghazal', 'gitarre', 'glitch', 'gospel', 'gothic',\n",
       "       'grime', 'grunge', 'gypsy', 'handsup', \"hard'n'heavy\", 'hardcore',\n",
       "       'hardstyle', 'hardtechno', 'hiphop', 'historisch', 'holiday',\n",
       "       'horror', 'house', 'hymn', 'idm', 'independent', 'indian', 'indie',\n",
       "       'indipop', 'industrial', 'inspirational', 'instrumental',\n",
       "       'international', 'irish', 'jam', 'japanese', 'jazz', 'jewish',\n",
       "       'jpop', 'jungle', 'k-pop', 'karadeniz', 'karaoke', 'kayokyoku',\n",
       "       'korean', 'laiko', 'latin', 'latino', 'leftfield', 'local',\n",
       "       'lounge', 'loungeelectronic', 'lovers', 'malaysian', 'mandopop',\n",
       "       'marschmusik', 'meditative', 'mediterranean', 'melodic', 'metal',\n",
       "       'metalcore', 'mexican', 'middle', 'minimal', 'miscellaneous',\n",
       "       'modern', 'mood', 'mpb', 'muslim', 'native', 'neoklassik', 'neue',\n",
       "       'new', 'newage', 'newwave', 'nu', 'nujazz', 'numetal', 'oceania',\n",
       "       'old', 'opera', 'orchestral', 'other', 'piano', 'podcasts', 'pop',\n",
       "       'popdance', 'popelectronic', 'popeurodance', 'poprussian', 'post',\n",
       "       'posthardcore', 'postrock', 'power', 'progmetal', 'progressive',\n",
       "       'psychedelic', 'punjabi', 'punk', 'quebecois', 'ragga', 'ram',\n",
       "       'rancheras', 'rap', 'rave', 'reggae', 'reggaeton', 'regional',\n",
       "       'relax', 'religious', 'retro', 'rhythm', 'rnb', 'rnr', 'rock',\n",
       "       'rockabilly', 'rockalternative', 'rockindie', 'rockother',\n",
       "       'romance', 'roots', 'ruspop', 'rusrap', 'rusrock', 'russian',\n",
       "       'salsa', 'samba', 'scenic', 'schlager', 'self', 'sertanejo',\n",
       "       'shanson', 'shoegazing', 'showtunes', 'singer', 'ska', 'skarock',\n",
       "       'slow', 'smooth', 'soft', 'soul', 'soulful', 'sound', 'soundtrack',\n",
       "       'southern', 'specialty', 'speech', 'spiritual', 'sport',\n",
       "       'stonerrock', 'surf', 'swing', 'synthpop', 'synthrock',\n",
       "       'sängerportrait', 'tango', 'tanzorchester', 'taraftar', 'tatar',\n",
       "       'tech', 'techno', 'teen', 'thrash', 'top', 'traditional',\n",
       "       'tradjazz', 'trance', 'tribal', 'trip', 'triphop', 'tropical',\n",
       "       'türk', 'türkçe', 'ukrrock', 'unknown', 'urban', 'uzbek',\n",
       "       'variété', 'vi', 'videogame', 'vocal', 'western', 'world',\n",
       "       'worldbeat', 'ïîï', 'электроника'], dtype=object)"
      ]
     },
     "execution_count": 107,
     "metadata": {},
     "output_type": "execute_result"
    }
   ],
   "source": [
    "df['genre'].sort_values().unique()# Проверка на неявные дубликаты"
   ]
  },
  {
   "cell_type": "markdown",
   "metadata": {
    "id": "jz6a9-7HQUDd"
   },
   "source": [
    "**Выводы**\n",
    "\n",
    "Предобработка обнаружила три проблемы в данных:\n",
    "\n",
    "- нарушения в стиле заголовков,\n",
    "- пропущенные значения,\n",
    "- дубликаты — явные и неявные.\n",
    "\n",
    "Были исправлены заголовки, чтобы упростить работу с таблицей. Без дубликатов исследование станет более точным.\n",
    "\n",
    "Пропущенные значения вы заменили на `'unknown'`. Ещё предстоит увидеть, не повредят ли исследованию пропуски в колонке `genre`.\n",
    "\n",
    "Теперь можно перейти к проверке гипотез. "
   ]
  },
  {
   "cell_type": "markdown",
   "metadata": {
    "id": "WttZHXH0SqKk"
   },
   "source": [
    "## Проверка гипотез"
   ]
  },
  {
   "cell_type": "markdown",
   "metadata": {
    "id": "Im936VVi_Zcu"
   },
   "source": [
    "### Сравнение поведения пользователей двух столиц"
   ]
  },
  {
   "cell_type": "markdown",
   "metadata": {
    "id": "nwt_MuaL_Zcu"
   },
   "source": [
    "Первая гипотеза утверждает, что пользователи по-разному слушают музыку в Москве и Санкт-Петербурге. Проверим это предположение по данным о трёх днях недели — понедельнике, среде и пятнице. Для этого:\n",
    "\n",
    "* Разделим пользователей Москвы и Санкт-Петербурга\n",
    "* Сравним, сколько треков послушала каждая группа пользователей в понедельник, среду и пятницу.\n"
   ]
  },
  {
   "cell_type": "markdown",
   "metadata": {
    "id": "8Dw_YMmT_Zcu"
   },
   "source": [
    "Оцените активность пользователей в каждом городе. Сгруппируем данные по городу и посчитайте прослушивания в каждой группе.\n",
    "\n"
   ]
  },
  {
   "cell_type": "code",
   "execution_count": 108,
   "metadata": {
    "id": "0_Qs96oh_Zcu"
   },
   "outputs": [
    {
     "data": {
      "text/plain": [
       "city\n",
       "Moscow              42741\n",
       "Saint-Petersburg    18512\n",
       "Name: user_id, dtype: int64"
      ]
     },
     "execution_count": 108,
     "metadata": {},
     "output_type": "execute_result"
    }
   ],
   "source": [
    "df.groupby('city')['user_id'].count()# Подсчёт прослушиваний в каждом городе"
   ]
  },
  {
   "cell_type": "markdown",
   "metadata": {
    "id": "dzli3w8o_Zcu"
   },
   "source": [
    "В Москве прослушиваний больше, чем в Петербурге. Из этого не следует, что московские пользователи чаще слушают музыку. Просто самих пользователей в Москве больше.\n",
    "\n",
    "Теперь сгруппируем данные по дню недели и подсчитаем прослушивания в понедельник, среду и пятницу. В данных есть информация только о прослушиваниях только за эти дни.\n"
   ]
  },
  {
   "cell_type": "code",
   "execution_count": 109,
   "metadata": {
    "id": "uZMKjiJz_Zcu"
   },
   "outputs": [
    {
     "data": {
      "text/plain": [
       "city\n",
       "Moscow              42741\n",
       "Saint-Petersburg    18512\n",
       "Name: day, dtype: int64"
      ]
     },
     "execution_count": 109,
     "metadata": {},
     "output_type": "execute_result"
    }
   ],
   "source": [
    "df.groupby('city')['day'].count()# Подсчёт прослушиваний в каждый из трёх дней"
   ]
  },
  {
   "cell_type": "markdown",
   "metadata": {
    "id": "cC2tNrlL_Zcu"
   },
   "source": [
    "В среднем пользователи из двух городов менее активны по средам. Но картина может измениться, если рассмотреть каждый город в отдельности."
   ]
  },
  {
   "cell_type": "markdown",
   "metadata": {
    "id": "POzs8bGa_Zcu"
   },
   "source": [
    "Теперь напишием функцию, которая объединит расчеты\n",
    "\n",
    "Создадим функцию `number_tracks()`, которая посчитает прослушивания для заданного дня и города. Ей понадобятся два параметра:\n",
    "* день недели,\n",
    "* название города.\n",
    "\n",
    "В функции сохраним в переменную строки исходной таблицы, у которых значение:\n",
    "  * в колонке `day` равно параметру `day`,\n",
    "  * в колонке `city` равно параметру `city`.\n",
    "\n",
    "Для этого применим последовательную фильтрацию с логической индексацией.\n",
    "\n",
    "Затем посчитаем значения в столбце `user_id` получившейся таблицы. Результат сохраним в новую переменную. Верните эту переменную из функции."
   ]
  },
  {
   "cell_type": "code",
   "execution_count": 110,
   "metadata": {
    "id": "Nz3GdQB1_Zcu"
   },
   "outputs": [],
   "source": [
    "# <создание функции number_tracks()>\n",
    "def number_tracks(day,city):             # Объявляется функция с двумя параметрами: day, city.\n",
    "    track_list = df[(df['day'] == day)  # В переменной track_list сохраняются те строки таблицы df, для которых \n",
    "     & (df['city'] == city)]           # значение в столбце 'day' равно параметру day и одновременно значение\n",
    "                                       # в столбце 'city' равно параметру city (используйте последовательную фильтраци                         # с помощью логической индексации).\n",
    "    track_list_count = track_list['user_id'].count()    # В переменной track_list_count сохраняется число значений столбца 'user_id',\n",
    "                                                  # рассчитанное методом count() для таблицы track_list.\n",
    "    return track_list_count              # Функция возвращает число - значение track_list_count.\n"
   ]
  },
  {
   "cell_type": "markdown",
   "metadata": {
    "id": "ytf7xFrFJQ2r"
   },
   "source": [
    "Вызовием `number_tracks()`, меняя значение параметров — так, чтобы получить данные для каждого города в каждый из трёх дней."
   ]
  },
  {
   "cell_type": "code",
   "execution_count": 111,
   "metadata": {
    "id": "rJcRATNQ_Zcu"
   },
   "outputs": [
    {
     "data": {
      "text/plain": [
       "15740"
      ]
     },
     "execution_count": 111,
     "metadata": {},
     "output_type": "execute_result"
    }
   ],
   "source": [
    "number_tracks('Monday','Moscow')# количество прослушиваний в Москве по понедельникам"
   ]
  },
  {
   "cell_type": "code",
   "execution_count": 112,
   "metadata": {
    "id": "hq_ncZ5T_Zcu"
   },
   "outputs": [
    {
     "data": {
      "text/plain": [
       "5614"
      ]
     },
     "execution_count": 112,
     "metadata": {},
     "output_type": "execute_result"
    }
   ],
   "source": [
    "number_tracks('Monday', 'Saint-Petersburg')# количество прослушиваний в Санкт-Петербурге по понедельникам"
   ]
  },
  {
   "cell_type": "code",
   "execution_count": 113,
   "metadata": {
    "id": "_NTy2VPU_Zcu"
   },
   "outputs": [
    {
     "data": {
      "text/plain": [
       "11056"
      ]
     },
     "execution_count": 113,
     "metadata": {},
     "output_type": "execute_result"
    }
   ],
   "source": [
    "number_tracks('Wednesday', 'Moscow')# количество прослушиваний в Москве по средам"
   ]
  },
  {
   "cell_type": "code",
   "execution_count": 114,
   "metadata": {
    "id": "j2y3TAwo_Zcu"
   },
   "outputs": [
    {
     "data": {
      "text/plain": [
       "7003"
      ]
     },
     "execution_count": 114,
     "metadata": {},
     "output_type": "execute_result"
    }
   ],
   "source": [
    "number_tracks('Wednesday', 'Saint-Petersburg')# количество прослушиваний в Санкт-Петербурге по средам"
   ]
  },
  {
   "cell_type": "code",
   "execution_count": 115,
   "metadata": {
    "id": "vYDw5u_K_Zcu"
   },
   "outputs": [
    {
     "data": {
      "text/plain": [
       "15945"
      ]
     },
     "execution_count": 115,
     "metadata": {},
     "output_type": "execute_result"
    }
   ],
   "source": [
    "number_tracks('Friday', 'Moscow')# количество прослушиваний в Москве по пятницам"
   ]
  },
  {
   "cell_type": "code",
   "execution_count": 116,
   "metadata": {
    "id": "8_yzFtW3_Zcu"
   },
   "outputs": [
    {
     "data": {
      "text/plain": [
       "5895"
      ]
     },
     "execution_count": 116,
     "metadata": {},
     "output_type": "execute_result"
    }
   ],
   "source": [
    "number_tracks('Friday', 'Saint-Petersburg')# количество прослушиваний в Санкт-Петербурге по пятницам"
   ]
  },
  {
   "cell_type": "markdown",
   "metadata": {
    "id": "7QXffbO-_Zcu"
   },
   "source": [
    "Создадим c помощью конструктора `pd.DataFrame` таблицу, где\n",
    "* названия колонок — `['city', 'monday', 'wednesday', 'friday']`;\n",
    "* данные — результаты, которые вы получили с помощью `number_tracks`."
   ]
  },
  {
   "cell_type": "code",
   "execution_count": 117,
   "metadata": {
    "id": "APAcLpOr_Zcu"
   },
   "outputs": [
    {
     "data": {
      "text/html": [
       "<div>\n",
       "<style scoped>\n",
       "    .dataframe tbody tr th:only-of-type {\n",
       "        vertical-align: middle;\n",
       "    }\n",
       "\n",
       "    .dataframe tbody tr th {\n",
       "        vertical-align: top;\n",
       "    }\n",
       "\n",
       "    .dataframe thead th {\n",
       "        text-align: right;\n",
       "    }\n",
       "</style>\n",
       "<table border=\"1\" class=\"dataframe\">\n",
       "  <thead>\n",
       "    <tr style=\"text-align: right;\">\n",
       "      <th></th>\n",
       "      <th>city</th>\n",
       "      <th>monday</th>\n",
       "      <th>wednesday</th>\n",
       "      <th>friday</th>\n",
       "    </tr>\n",
       "  </thead>\n",
       "  <tbody>\n",
       "    <tr>\n",
       "      <th>0</th>\n",
       "      <td>Moscow</td>\n",
       "      <td>15740</td>\n",
       "      <td>11056</td>\n",
       "      <td>15945</td>\n",
       "    </tr>\n",
       "    <tr>\n",
       "      <th>1</th>\n",
       "      <td>Saint-Petersburg</td>\n",
       "      <td>5614</td>\n",
       "      <td>7003</td>\n",
       "      <td>5895</td>\n",
       "    </tr>\n",
       "  </tbody>\n",
       "</table>\n",
       "</div>"
      ],
      "text/plain": [
       "               city  monday  wednesday  friday\n",
       "0            Moscow   15740      11056   15945\n",
       "1  Saint-Petersburg    5614       7003    5895"
      ]
     },
     "execution_count": 117,
     "metadata": {},
     "output_type": "execute_result"
    }
   ],
   "source": [
    "number_track_values = [\n",
    "    ['Moscow', 15740, 11056, 15945],\n",
    "    ['Saint-Petersburg', 5614, 7003, 5895],\n",
    "]\n",
    "\n",
    "columns_name = ['city', 'monday', 'wednesday', 'friday']\n",
    "\n",
    "two_cities_table = pd.DataFrame(data=number_track_values, columns=columns_name)\n",
    "two_cities_table# Таблица с результатами"
   ]
  },
  {
   "cell_type": "markdown",
   "metadata": {
    "id": "-EgPIHYu_Zcu"
   },
   "source": [
    "**Выводы**\n",
    "\n",
    "Данные показывают разницу поведения пользователей:\n",
    "\n",
    "- В Москве пик прослушиваний приходится на понедельник и пятницу, а в среду заметен спад.\n",
    "- В Петербурге, наоборот, больше слушают музыку по средам. Активность в понедельник и пятницу здесь почти в равной мере уступает среде.\n",
    "\n",
    "Значит, данные говорят в пользу первой гипотезы."
   ]
  },
  {
   "cell_type": "markdown",
   "metadata": {
    "id": "atZAxtq4_Zcu"
   },
   "source": [
    "### Музыка в начале и в конце недели"
   ]
  },
  {
   "cell_type": "markdown",
   "metadata": {
    "id": "eXrQqXFH_Zcu"
   },
   "source": [
    "Согласно второй гипотезе, утром в понедельник в Москве преобладают одни жанры, а в Петербурге — другие. Так же и вечером пятницы преобладают разные жанры — в зависимости от города."
   ]
  },
  {
   "cell_type": "markdown",
   "metadata": {
    "id": "S8UcW6Hw_Zcu"
   },
   "source": [
    "Сохраним таблицы с данными в две переменные:\n",
    "* по Москве — в `moscow_general`;\n",
    "* по Санкт-Петербургу — в `spb_general`."
   ]
  },
  {
   "cell_type": "code",
   "execution_count": 118,
   "metadata": {
    "id": "qeaFfM_P_Zcu"
   },
   "outputs": [],
   "source": [
    "moscow_general = df[df['city'] == 'Moscow']\n"
   ]
  },
  {
   "cell_type": "code",
   "execution_count": 119,
   "metadata": {
    "id": "ORaVRKto_Zcu"
   },
   "outputs": [],
   "source": [
    "spb_general = df[df['city'] == 'Saint-Petersburg']\n",
    "\n"
   ]
  },
  {
   "cell_type": "markdown",
   "metadata": {
    "id": "MEJV-CX2_Zcu"
   },
   "source": [
    "Создадим функцию `genre_weekday()` с четырьмя параметрами:\n",
    "* таблица (датафрейм) с данными,\n",
    "* день недели,\n",
    "* начальная временная метка в формате 'hh:mm', \n",
    "* последняя временная метка в формате 'hh:mm'.\n",
    "\n",
    "Функция должна вернуть информацию о топ-10 жанров тех треков, которые прослушивали в указанный день, в промежутке между двумя отметками времени."
   ]
  },
  {
   "cell_type": "code",
   "execution_count": 120,
   "metadata": {
    "id": "laJT9BYl_Zcu"
   },
   "outputs": [],
   "source": [
    "def genre_weekday(table, day, time1, time2):\n",
    "    genre_df = table[(table['day'] == day) & (table['time'] > time1) & (table['time'] < time2)]\n",
    "    genre_df_count = genre_df.groupby('genre')['user_id'].count()\n",
    "    genre_df_sorted = genre_df_count.sort_values(ascending=False)\n",
    "    return genre_df_sorted.head(10)\n",
    "                     \n"
   ]
  },
  {
   "cell_type": "markdown",
   "metadata": {
    "id": "la2s2_PF_Zcu"
   },
   "source": [
    "Cравним результаты функции `genre_weekday()` для Москвы и Санкт-Петербурга в понедельник утром (с 7:00 до 11:00) и в пятницу вечером (с 17:00 до 23:00):"
   ]
  },
  {
   "cell_type": "code",
   "execution_count": 121,
   "metadata": {
    "id": "yz7itPUQ_Zcu"
   },
   "outputs": [
    {
     "data": {
      "text/plain": [
       "genre\n",
       "pop            781\n",
       "dance          549\n",
       "electronic     480\n",
       "rock           474\n",
       "hiphop         286\n",
       "ruspop         186\n",
       "world          181\n",
       "rusrap         175\n",
       "alternative    164\n",
       "unknown        161\n",
       "Name: user_id, dtype: int64"
      ]
     },
     "execution_count": 121,
     "metadata": {},
     "output_type": "execute_result"
    }
   ],
   "source": [
    "genre_weekday(moscow_general, 'Monday', '07:00', '11:00')\n"
   ]
  },
  {
   "cell_type": "code",
   "execution_count": 122,
   "metadata": {
    "id": "kwUcHPdy_Zcu"
   },
   "outputs": [
    {
     "data": {
      "text/plain": [
       "genre\n",
       "pop            218\n",
       "dance          182\n",
       "rock           162\n",
       "electronic     147\n",
       "hiphop          80\n",
       "ruspop          64\n",
       "alternative     58\n",
       "rusrap          55\n",
       "jazz            44\n",
       "classical       40\n",
       "Name: user_id, dtype: int64"
      ]
     },
     "execution_count": 122,
     "metadata": {},
     "output_type": "execute_result"
    }
   ],
   "source": [
    "genre_weekday(spb_general, 'Monday', '07:00', '11:00')# вызов функции для утра понедельника в Петербурге (вместо df — таблица spb_general)"
   ]
  },
  {
   "cell_type": "code",
   "execution_count": 123,
   "metadata": {
    "id": "EzXVRE1o_Zcu"
   },
   "outputs": [
    {
     "data": {
      "text/plain": [
       "genre\n",
       "pop            717\n",
       "dance          524\n",
       "rock           518\n",
       "electronic     485\n",
       "hiphop         238\n",
       "alternative    182\n",
       "classical      172\n",
       "world          172\n",
       "ruspop         149\n",
       "rusrap         133\n",
       "Name: user_id, dtype: int64"
      ]
     },
     "execution_count": 123,
     "metadata": {},
     "output_type": "execute_result"
    }
   ],
   "source": [
    "genre_weekday(moscow_general, 'Monday', '17:00', '23:00')# вызов функции для вечера пятницы в Москве"
   ]
  },
  {
   "cell_type": "code",
   "execution_count": 124,
   "metadata": {
    "id": "JZaEKu5v_Zcu"
   },
   "outputs": [
    {
     "data": {
      "text/plain": [
       "genre\n",
       "pop            263\n",
       "rock           208\n",
       "electronic     192\n",
       "dance          191\n",
       "hiphop         104\n",
       "alternative     72\n",
       "classical       71\n",
       "jazz            57\n",
       "rusrap          54\n",
       "ruspop          53\n",
       "Name: user_id, dtype: int64"
      ]
     },
     "execution_count": 124,
     "metadata": {},
     "output_type": "execute_result"
    }
   ],
   "source": [
    "genre_weekday(spb_general, 'Monday', '17:00', '23:00')# вызов функции для вечера пятницы в Петербурге"
   ]
  },
  {
   "cell_type": "markdown",
   "metadata": {
    "id": "wrCe4MNX_Zcu"
   },
   "source": [
    "**Выводы**\n",
    "\n",
    "Если сравнить топ-10 жанров в понедельник утром, можно сделать такие выводы:\n",
    "\n",
    "1. В Москве и Петербурге слушают похожую музыку. Единственное отличие — в московский рейтинг вошёл жанр “world”, а в петербургский — джаз и классика.\n",
    "\n",
    "2. В Москве пропущенных значений оказалось так много, что значение `'unknown'` заняло десятое место среди самых популярных жанров. Значит, пропущенные значения занимают существенную долю в данных и угрожают достоверности исследования.\n",
    "\n",
    "Вечер пятницы не меняет эту картину. Некоторые жанры поднимаются немного выше, другие спускаются, но в целом топ-10 остаётся тем же самым.\n",
    "\n",
    "Таким образом, вторая гипотеза подтвердилась лишь частично:\n",
    "* Пользователи слушают похожую музыку в начале недели и в конце.\n",
    "* Разница между Москвой и Петербургом не слишком выражена. В Москве чаще слушают русскую популярную музыку, в Петербурге — джаз.\n",
    "\n",
    "Однако пропуски в данных ставят под сомнение этот результат. В Москве их так много, что рейтинг топ-10 мог бы выглядеть иначе, если бы не утерянные  данные о жанрах."
   ]
  },
  {
   "cell_type": "markdown",
   "metadata": {
    "id": "JolODAqr_Zcu"
   },
   "source": [
    "### Жанровые предпочтения в Москве и Петербурге\n",
    "\n",
    "Гипотеза: Петербург — столица рэпа, музыку этого жанра там слушают чаще, чем в Москве.  А Москва — город контрастов, в котором, тем не менее, преобладает поп-музыка."
   ]
  },
  {
   "cell_type": "markdown",
   "metadata": {
    "id": "DlegSvaT_Zcu"
   },
   "source": [
    "Сгруппируем таблицу `moscow_general` по жанру и посчитаем прослушивания треков каждого жанра методом `count()`. Затем отсортируем результат в порядке убывания и сохраним его в таблице `moscow_genres`."
   ]
  },
  {
   "cell_type": "code",
   "execution_count": 125,
   "metadata": {
    "id": "r19lIPke_Zcu"
   },
   "outputs": [],
   "source": [
    "moscow_genres = moscow_general.groupby('genre')['genre'].count().sort_values(ascending=False)"
   ]
  },
  {
   "cell_type": "markdown",
   "metadata": {
    "id": "6kMuomxTiIr8"
   },
   "source": [
    "Выведем на экран первые десять строк `moscow_genres`:"
   ]
  },
  {
   "cell_type": "code",
   "execution_count": 126,
   "metadata": {
    "id": "WhCSooF8_Zcv"
   },
   "outputs": [
    {
     "data": {
      "text/plain": [
       "genre\n",
       "pop            5892\n",
       "dance          4435\n",
       "rock           3965\n",
       "electronic     3786\n",
       "hiphop         2096\n",
       "classical      1616\n",
       "world          1432\n",
       "alternative    1379\n",
       "ruspop         1372\n",
       "rusrap         1161\n",
       "Name: genre, dtype: int64"
      ]
     },
     "execution_count": 126,
     "metadata": {},
     "output_type": "execute_result"
    }
   ],
   "source": [
    "moscow_genres.head(10)# просмотр первых 10 строк moscow_genres"
   ]
  },
  {
   "cell_type": "markdown",
   "metadata": {
    "id": "cnPG2vnN_Zcv"
   },
   "source": [
    "Повторим для Петербурга:\n"
   ]
  },
  {
   "cell_type": "code",
   "execution_count": 127,
   "metadata": {
    "id": "gluLIpE7_Zcv"
   },
   "outputs": [],
   "source": [
    "spb_genres = spb_general.groupby('genre')['genre'].count().sort_values(ascending=False)\n"
   ]
  },
  {
   "cell_type": "markdown",
   "metadata": {
    "id": "5Doha_ODgyQ8"
   },
   "source": [
    "Выведем на экран первые десять строк `spb_genres`:"
   ]
  },
  {
   "cell_type": "code",
   "execution_count": 128,
   "metadata": {
    "id": "uaGJHjVU_Zcv"
   },
   "outputs": [
    {
     "data": {
      "text/plain": [
       "genre\n",
       "pop            2431\n",
       "dance          1932\n",
       "rock           1879\n",
       "electronic     1736\n",
       "hiphop          960\n",
       "alternative     649\n",
       "classical       646\n",
       "rusrap          564\n",
       "ruspop          538\n",
       "world           515\n",
       "Name: genre, dtype: int64"
      ]
     },
     "execution_count": 128,
     "metadata": {},
     "output_type": "execute_result"
    }
   ],
   "source": [
    "spb_genres.head(10)# просмотр первых 10 строк spb_genres"
   ]
  },
  {
   "cell_type": "markdown",
   "metadata": {
    "id": "RY51YJYu_Zcv"
   },
   "source": [
    "**Выводы**"
   ]
  },
  {
   "cell_type": "markdown",
   "metadata": {
    "id": "nVhnJEm__Zcv"
   },
   "source": [
    "Гипотеза частично подтвердилась:\n",
    "* Поп-музыка — самый популярный жанр в Москве, как и предполагала гипотеза. Более того, в топ-10 жанров встречается близкий жанр — русская популярная музыка.\n",
    "* Вопреки ожиданиям, рэп одинаково популярен в Москве и Петербурге. \n"
   ]
  },
  {
   "cell_type": "markdown",
   "metadata": {
    "id": "ykKQ0N65_Zcv"
   },
   "source": [
    "## Итоги исследования"
   ]
  },
  {
   "cell_type": "markdown",
   "metadata": {
    "id": "tjUwbHb3_Zcv"
   },
   "source": [
    "Были проверены три гипотезы и установлено:\n",
    "\n",
    "1. День недели по-разному влияет на активность пользователей в Москве и Петербурге. \n",
    "\n",
    "Первая гипотеза полностью подтвердилась.\n",
    "\n",
    "2. Музыкальные предпочтения не сильно меняются в течение недели — будь то Москва или Петербург. Небольшие различия заметны в начале недели, по понедельникам:\n",
    "* в Москве слушают музыку жанра “world”,\n",
    "* в Петербурге — джаз и классику.\n",
    "\n",
    "Таким образом, вторая гипотеза подтвердилась лишь отчасти. Этот результат мог оказаться иным, если бы не пропуски в данных.\n",
    "\n",
    "3. Во вкусах пользователей Москвы и Петербурга больше общего чем различий. Вопреки ожиданиям, предпочтения жанров в Петербурге напоминают московские.\n",
    "\n",
    "Третья гипотеза не подтвердилась. Если различия в предпочтениях и существуют, на основной массе пользователей они незаметны.\n"
   ]
  }
 ],
 "metadata": {
  "ExecuteTimeLog": [
   {
    "duration": 696,
    "start_time": "2022-01-11T10:31:33.053Z"
   },
   {
    "duration": 439,
    "start_time": "2022-01-11T10:33:00.458Z"
   },
   {
    "duration": 677,
    "start_time": "2022-01-11T10:35:42.950Z"
   },
   {
    "duration": 372,
    "start_time": "2022-01-11T10:36:06.236Z"
   },
   {
    "duration": 412,
    "start_time": "2022-01-11T10:39:13.218Z"
   },
   {
    "duration": 1397,
    "start_time": "2022-01-11T10:45:05.053Z"
   },
   {
    "duration": 489,
    "start_time": "2022-01-11T10:45:37.685Z"
   },
   {
    "duration": 412,
    "start_time": "2022-01-11T11:24:02.221Z"
   },
   {
    "duration": 371,
    "start_time": "2022-01-11T11:24:35.037Z"
   },
   {
    "duration": 850,
    "start_time": "2022-01-11T11:54:27.965Z"
   },
   {
    "duration": 3003,
    "start_time": "2022-01-11T11:54:33.994Z"
   },
   {
    "duration": 224,
    "start_time": "2022-01-11T11:55:02.566Z"
   },
   {
    "duration": 27,
    "start_time": "2022-01-11T11:55:09.078Z"
   },
   {
    "duration": 37,
    "start_time": "2022-01-11T12:04:36.152Z"
   },
   {
    "duration": 6,
    "start_time": "2022-01-11T12:22:44.845Z"
   },
   {
    "duration": 193,
    "start_time": "2022-01-11T12:32:01.946Z"
   },
   {
    "duration": 149,
    "start_time": "2022-01-11T12:32:33.141Z"
   },
   {
    "duration": 28,
    "start_time": "2022-01-11T12:32:57.008Z"
   },
   {
    "duration": 7,
    "start_time": "2022-01-11T12:33:23.258Z"
   },
   {
    "duration": 33,
    "start_time": "2022-01-11T12:36:10.531Z"
   },
   {
    "duration": 7,
    "start_time": "2022-01-11T12:36:13.137Z"
   },
   {
    "duration": 5,
    "start_time": "2022-01-11T12:36:54.633Z"
   },
   {
    "duration": 31,
    "start_time": "2022-01-11T12:37:25.937Z"
   },
   {
    "duration": 5,
    "start_time": "2022-01-11T12:37:28.721Z"
   },
   {
    "duration": 16,
    "start_time": "2022-01-11T12:37:44.070Z"
   },
   {
    "duration": 6,
    "start_time": "2022-01-11T12:37:46.030Z"
   },
   {
    "duration": 33,
    "start_time": "2022-01-11T12:41:51.232Z"
   },
   {
    "duration": 379,
    "start_time": "2022-01-11T12:54:18.863Z"
   },
   {
    "duration": 129,
    "start_time": "2022-01-11T12:54:44.365Z"
   },
   {
    "duration": 48,
    "start_time": "2022-01-11T12:55:22.952Z"
   },
   {
    "duration": 103,
    "start_time": "2022-01-11T12:58:50.124Z"
   },
   {
    "duration": 118,
    "start_time": "2022-01-11T13:00:04.850Z"
   },
   {
    "duration": 92,
    "start_time": "2022-01-11T13:00:34.074Z"
   },
   {
    "duration": 19,
    "start_time": "2022-01-11T13:05:21.258Z"
   },
   {
    "duration": 512,
    "start_time": "2022-01-11T13:09:35.340Z"
   },
   {
    "duration": 84,
    "start_time": "2022-01-11T13:16:07.799Z"
   },
   {
    "duration": 596,
    "start_time": "2022-01-11T13:16:45.340Z"
   },
   {
    "duration": 122,
    "start_time": "2022-01-11T13:17:35.765Z"
   },
   {
    "duration": 75,
    "start_time": "2022-01-11T13:18:45.306Z"
   },
   {
    "duration": 566,
    "start_time": "2022-01-11T13:19:03.259Z"
   },
   {
    "duration": 101,
    "start_time": "2022-01-11T13:20:38.239Z"
   },
   {
    "duration": 425,
    "start_time": "2022-01-11T13:21:37.640Z"
   },
   {
    "duration": 89,
    "start_time": "2022-01-11T13:30:14.338Z"
   },
   {
    "duration": 100,
    "start_time": "2022-01-11T13:30:34.634Z"
   },
   {
    "duration": 93,
    "start_time": "2022-01-11T13:31:41.714Z"
   },
   {
    "duration": 5,
    "start_time": "2022-01-11T13:54:15.815Z"
   },
   {
    "duration": 762,
    "start_time": "2022-01-11T13:55:38.811Z"
   },
   {
    "duration": 4,
    "start_time": "2022-01-11T13:56:04.804Z"
   },
   {
    "duration": 18,
    "start_time": "2022-01-11T13:56:06.561Z"
   },
   {
    "duration": 9,
    "start_time": "2022-01-11T13:57:14.825Z"
   },
   {
    "duration": 7,
    "start_time": "2022-01-11T13:57:43.537Z"
   },
   {
    "duration": 4,
    "start_time": "2022-01-11T14:00:07.715Z"
   },
   {
    "duration": 13,
    "start_time": "2022-01-11T14:00:09.139Z"
   },
   {
    "duration": 8,
    "start_time": "2022-01-11T14:00:12.299Z"
   },
   {
    "duration": 12,
    "start_time": "2022-01-11T14:00:21.455Z"
   },
   {
    "duration": 3,
    "start_time": "2022-01-11T14:03:55.948Z"
   },
   {
    "duration": 330,
    "start_time": "2022-01-11T14:03:55.974Z"
   },
   {
    "duration": 24,
    "start_time": "2022-01-11T14:03:56.307Z"
   },
   {
    "duration": 51,
    "start_time": "2022-01-11T14:03:56.360Z"
   },
   {
    "duration": 5,
    "start_time": "2022-01-11T14:03:56.414Z"
   },
   {
    "duration": 64,
    "start_time": "2022-01-11T14:03:56.422Z"
   },
   {
    "duration": 7,
    "start_time": "2022-01-11T14:03:56.490Z"
   },
   {
    "duration": 82,
    "start_time": "2022-01-11T14:03:56.500Z"
   },
   {
    "duration": 108,
    "start_time": "2022-01-11T14:03:56.589Z"
   },
   {
    "duration": 32,
    "start_time": "2022-01-11T14:03:56.700Z"
   },
   {
    "duration": 151,
    "start_time": "2022-01-11T14:03:56.735Z"
   },
   {
    "duration": 113,
    "start_time": "2022-01-11T14:03:56.889Z"
   },
   {
    "duration": 97,
    "start_time": "2022-01-11T14:03:57.005Z"
   },
   {
    "duration": 89,
    "start_time": "2022-01-11T14:03:57.104Z"
   },
   {
    "duration": 3,
    "start_time": "2022-01-11T14:03:57.196Z"
   },
   {
    "duration": 15,
    "start_time": "2022-01-11T14:03:57.202Z"
   },
   {
    "duration": 8,
    "start_time": "2022-01-11T14:03:57.220Z"
   },
   {
    "duration": 4,
    "start_time": "2022-01-11T14:03:57.231Z"
   },
   {
    "duration": 6,
    "start_time": "2022-01-11T14:03:57.262Z"
   },
   {
    "duration": 7,
    "start_time": "2022-01-11T14:03:57.275Z"
   },
   {
    "duration": 7,
    "start_time": "2022-01-11T14:03:57.284Z"
   },
   {
    "duration": 4,
    "start_time": "2022-01-11T14:03:57.294Z"
   },
   {
    "duration": 5,
    "start_time": "2022-01-11T14:03:57.300Z"
   },
   {
    "duration": 3,
    "start_time": "2022-01-11T14:03:57.310Z"
   },
   {
    "duration": 46,
    "start_time": "2022-01-11T14:03:57.315Z"
   },
   {
    "duration": 17,
    "start_time": "2022-01-11T14:03:57.364Z"
   },
   {
    "duration": 5,
    "start_time": "2022-01-11T14:03:57.384Z"
   },
   {
    "duration": 6,
    "start_time": "2022-01-11T14:03:57.391Z"
   },
   {
    "duration": 5,
    "start_time": "2022-01-11T14:03:57.399Z"
   },
   {
    "duration": 7,
    "start_time": "2022-01-11T14:03:57.406Z"
   },
   {
    "duration": 7,
    "start_time": "2022-01-11T14:03:57.415Z"
   },
   {
    "duration": 6,
    "start_time": "2022-01-11T14:03:57.425Z"
   },
   {
    "duration": 18,
    "start_time": "2022-01-11T14:03:57.461Z"
   },
   {
    "duration": 7,
    "start_time": "2022-01-11T14:03:57.482Z"
   },
   {
    "duration": 5,
    "start_time": "2022-01-11T14:03:57.492Z"
   },
   {
    "duration": 6,
    "start_time": "2022-01-11T14:03:57.499Z"
   },
   {
    "duration": 10,
    "start_time": "2022-01-11T14:03:57.508Z"
   },
   {
    "duration": 5,
    "start_time": "2022-01-11T14:03:57.520Z"
   },
   {
    "duration": 13,
    "start_time": "2022-01-11T14:05:21.415Z"
   },
   {
    "duration": 9,
    "start_time": "2022-01-11T14:05:27.739Z"
   },
   {
    "duration": 442,
    "start_time": "2022-01-11T14:06:44.914Z"
   },
   {
    "duration": 79,
    "start_time": "2022-01-11T14:07:00.304Z"
   },
   {
    "duration": 17,
    "start_time": "2022-01-11T14:09:11.239Z"
   },
   {
    "duration": 15,
    "start_time": "2022-01-11T14:20:13.066Z"
   },
   {
    "duration": 11,
    "start_time": "2022-01-11T14:20:21.659Z"
   },
   {
    "duration": 78,
    "start_time": "2022-01-11T14:24:15.103Z"
   },
   {
    "duration": 387,
    "start_time": "2022-01-11T14:29:35.384Z"
   },
   {
    "duration": 368,
    "start_time": "2022-01-11T14:30:27.816Z"
   },
   {
    "duration": 513,
    "start_time": "2022-01-11T14:32:36.832Z"
   },
   {
    "duration": 541,
    "start_time": "2022-01-11T14:36:26.306Z"
   },
   {
    "duration": 434,
    "start_time": "2022-01-11T14:37:04.881Z"
   },
   {
    "duration": 56,
    "start_time": "2022-01-11T14:37:45.363Z"
   },
   {
    "duration": 455,
    "start_time": "2022-01-11T14:37:56.297Z"
   },
   {
    "duration": 22,
    "start_time": "2022-01-11T14:38:22.643Z"
   },
   {
    "duration": 131,
    "start_time": "2022-01-11T15:08:42.992Z"
   },
   {
    "duration": 5,
    "start_time": "2022-01-11T15:09:12.871Z"
   },
   {
    "duration": 425,
    "start_time": "2022-01-11T15:10:14.385Z"
   },
   {
    "duration": 377,
    "start_time": "2022-01-11T15:12:55.216Z"
   },
   {
    "duration": 339,
    "start_time": "2022-01-11T15:13:37.428Z"
   },
   {
    "duration": 751,
    "start_time": "2022-01-11T15:15:03.178Z"
   },
   {
    "duration": 5,
    "start_time": "2022-01-11T15:16:52.558Z"
   },
   {
    "duration": 29,
    "start_time": "2022-01-11T15:16:56.046Z"
   },
   {
    "duration": 20,
    "start_time": "2022-01-11T15:17:50.519Z"
   },
   {
    "duration": 24,
    "start_time": "2022-01-11T15:18:43.312Z"
   },
   {
    "duration": 17,
    "start_time": "2022-01-11T15:19:53.432Z"
   },
   {
    "duration": 19,
    "start_time": "2022-01-11T15:20:36.617Z"
   },
   {
    "duration": 20,
    "start_time": "2022-01-11T15:21:05.441Z"
   },
   {
    "duration": 19,
    "start_time": "2022-01-11T15:21:32.517Z"
   },
   {
    "duration": 18,
    "start_time": "2022-01-11T15:22:06.473Z"
   },
   {
    "duration": 19,
    "start_time": "2022-01-11T15:22:23.216Z"
   },
   {
    "duration": 32,
    "start_time": "2022-01-11T15:39:34.197Z"
   },
   {
    "duration": 12,
    "start_time": "2022-01-11T15:44:46.437Z"
   },
   {
    "duration": 7,
    "start_time": "2022-01-11T15:44:57.891Z"
   },
   {
    "duration": 17,
    "start_time": "2022-01-11T15:46:02.870Z"
   },
   {
    "duration": 12,
    "start_time": "2022-01-11T15:46:19.519Z"
   },
   {
    "duration": 10,
    "start_time": "2022-01-11T17:07:03.971Z"
   },
   {
    "duration": 7,
    "start_time": "2022-01-11T17:07:42.354Z"
   },
   {
    "duration": 170,
    "start_time": "2022-01-11T17:23:17.097Z"
   },
   {
    "duration": 8,
    "start_time": "2022-01-11T17:25:30.110Z"
   },
   {
    "duration": 7,
    "start_time": "2022-01-11T17:27:28.506Z"
   },
   {
    "duration": 5576,
    "start_time": "2022-01-11T17:28:31.652Z"
   },
   {
    "duration": 6,
    "start_time": "2022-01-11T17:31:10.479Z"
   },
   {
    "duration": 6215,
    "start_time": "2022-01-11T17:31:22.568Z"
   },
   {
    "duration": 6,
    "start_time": "2022-01-11T17:33:48.998Z"
   },
   {
    "duration": 6841,
    "start_time": "2022-01-11T17:33:56.376Z"
   },
   {
    "duration": 12,
    "start_time": "2022-01-11T17:38:32.551Z"
   },
   {
    "duration": 855,
    "start_time": "2022-01-11T17:38:58.975Z"
   },
   {
    "duration": 37,
    "start_time": "2022-01-11T17:42:57.766Z"
   },
   {
    "duration": 15,
    "start_time": "2022-01-11T17:43:44.634Z"
   },
   {
    "duration": 27,
    "start_time": "2022-01-11T17:44:44.224Z"
   },
   {
    "duration": 15,
    "start_time": "2022-01-11T17:45:01.931Z"
   },
   {
    "duration": 9,
    "start_time": "2022-01-11T17:45:20.088Z"
   },
   {
    "duration": 5,
    "start_time": "2022-01-11T17:45:23.216Z"
   },
   {
    "duration": 32,
    "start_time": "2022-01-11T17:45:26.076Z"
   },
   {
    "duration": 12,
    "start_time": "2022-01-11T17:46:16.988Z"
   },
   {
    "duration": 18,
    "start_time": "2022-01-11T17:48:34.378Z"
   },
   {
    "duration": 5,
    "start_time": "2022-01-11T17:48:37.595Z"
   },
   {
    "duration": 25,
    "start_time": "2022-01-11T17:48:39.719Z"
   },
   {
    "duration": 29,
    "start_time": "2022-01-11T17:48:48.227Z"
   },
   {
    "duration": 24,
    "start_time": "2022-01-11T17:49:33.123Z"
   },
   {
    "duration": 19,
    "start_time": "2022-01-11T17:50:18.100Z"
   },
   {
    "duration": 68,
    "start_time": "2022-01-11T17:56:41.055Z"
   },
   {
    "duration": 70,
    "start_time": "2022-01-11T17:57:09.185Z"
   },
   {
    "duration": 380,
    "start_time": "2022-01-11T17:59:15.997Z"
   },
   {
    "duration": 19,
    "start_time": "2022-01-11T17:59:49.991Z"
   },
   {
    "duration": 354,
    "start_time": "2022-01-11T18:12:24.550Z"
   },
   {
    "duration": 279,
    "start_time": "2022-01-11T18:12:50.672Z"
   },
   {
    "duration": 2420,
    "start_time": "2022-01-11T18:13:08.864Z"
   },
   {
    "duration": -33586,
    "start_time": "2022-01-11T18:13:44.872Z"
   },
   {
    "duration": 297,
    "start_time": "2022-01-11T18:13:31.151Z"
   },
   {
    "duration": 997,
    "start_time": "2022-01-11T18:13:42.253Z"
   },
   {
    "duration": 198,
    "start_time": "2022-01-11T18:13:43.253Z"
   },
   {
    "duration": 25,
    "start_time": "2022-01-11T18:13:43.455Z"
   },
   {
    "duration": 38,
    "start_time": "2022-01-11T18:13:43.484Z"
   },
   {
    "duration": 5,
    "start_time": "2022-01-11T18:13:43.524Z"
   },
   {
    "duration": 54,
    "start_time": "2022-01-11T18:13:43.532Z"
   },
   {
    "duration": 6,
    "start_time": "2022-01-11T18:13:43.589Z"
   },
   {
    "duration": 34,
    "start_time": "2022-01-11T18:13:43.599Z"
   },
   {
    "duration": 108,
    "start_time": "2022-01-11T18:13:43.638Z"
   },
   {
    "duration": 42,
    "start_time": "2022-01-11T18:13:43.748Z"
   },
   {
    "duration": 99,
    "start_time": "2022-01-11T18:13:43.793Z"
   },
   {
    "duration": 104,
    "start_time": "2022-01-11T18:13:43.895Z"
   },
   {
    "duration": 96,
    "start_time": "2022-01-11T18:13:44.001Z"
   },
   {
    "duration": 80,
    "start_time": "2022-01-11T18:13:44.099Z"
   },
   {
    "duration": 4,
    "start_time": "2022-01-11T18:13:44.182Z"
   },
   {
    "duration": 17,
    "start_time": "2022-01-11T18:13:44.189Z"
   },
   {
    "duration": 11,
    "start_time": "2022-01-11T18:13:44.209Z"
   },
   {
    "duration": 81,
    "start_time": "2022-01-11T18:13:44.223Z"
   },
   {
    "duration": 21,
    "start_time": "2022-01-11T18:13:44.307Z"
   },
   {
    "duration": 35,
    "start_time": "2022-01-11T18:13:44.331Z"
   },
   {
    "duration": 27,
    "start_time": "2022-01-11T18:13:44.369Z"
   },
   {
    "duration": 19,
    "start_time": "2022-01-11T18:13:44.398Z"
   },
   {
    "duration": 56,
    "start_time": "2022-01-11T18:13:44.424Z"
   },
   {
    "duration": 28,
    "start_time": "2022-01-11T18:13:44.484Z"
   },
   {
    "duration": 55,
    "start_time": "2022-01-11T18:13:44.515Z"
   },
   {
    "duration": 20,
    "start_time": "2022-01-11T18:13:44.572Z"
   },
   {
    "duration": 14,
    "start_time": "2022-01-11T18:13:44.594Z"
   },
   {
    "duration": 54,
    "start_time": "2022-01-11T18:13:44.611Z"
   },
   {
    "duration": 13,
    "start_time": "2022-01-11T18:13:44.667Z"
   },
   {
    "duration": 6,
    "start_time": "2022-01-11T18:13:44.682Z"
   },
   {
    "duration": 33,
    "start_time": "2022-01-11T18:13:44.691Z"
   },
   {
    "duration": 50,
    "start_time": "2022-01-11T18:13:44.726Z"
   },
   {
    "duration": 29,
    "start_time": "2022-01-11T18:13:44.778Z"
   },
   {
    "duration": 55,
    "start_time": "2022-01-11T18:13:44.810Z"
   },
   {
    "duration": 72,
    "start_time": "2022-01-11T18:13:44.869Z"
   },
   {
    "duration": 19,
    "start_time": "2022-01-11T18:13:44.944Z"
   },
   {
    "duration": 6,
    "start_time": "2022-01-11T18:13:44.967Z"
   },
   {
    "duration": 4,
    "start_time": "2022-01-11T18:13:44.977Z"
   },
   {
    "duration": 19,
    "start_time": "2022-01-11T18:13:59.636Z"
   },
   {
    "duration": 324,
    "start_time": "2022-01-11T18:14:10.532Z"
   },
   {
    "duration": 291,
    "start_time": "2022-01-11T18:14:28.305Z"
   },
   {
    "duration": 11,
    "start_time": "2022-01-11T18:15:12.895Z"
   },
   {
    "duration": 7,
    "start_time": "2022-01-11T18:15:55.206Z"
   },
   {
    "duration": 7,
    "start_time": "2022-01-11T18:16:18.708Z"
   },
   {
    "duration": 7,
    "start_time": "2022-01-11T18:17:12.334Z"
   },
   {
    "duration": 7,
    "start_time": "2022-01-11T18:17:14.488Z"
   },
   {
    "duration": 6,
    "start_time": "2022-01-11T18:17:53.020Z"
   },
   {
    "duration": 8,
    "start_time": "2022-01-11T18:17:54.943Z"
   },
   {
    "duration": 450,
    "start_time": "2022-01-11T18:21:13.300Z"
   },
   {
    "duration": 32,
    "start_time": "2022-01-11T18:22:31.422Z"
   },
   {
    "duration": 19,
    "start_time": "2022-01-11T18:23:07.454Z"
   },
   {
    "duration": 17,
    "start_time": "2022-01-11T18:23:31.306Z"
   },
   {
    "duration": 7,
    "start_time": "2022-01-11T18:23:38.010Z"
   },
   {
    "duration": 12,
    "start_time": "2022-01-11T18:24:45.691Z"
   },
   {
    "duration": 6,
    "start_time": "2022-01-11T18:25:14.812Z"
   },
   {
    "duration": 360,
    "start_time": "2022-01-11T18:27:00.389Z"
   },
   {
    "duration": 7,
    "start_time": "2022-01-11T18:27:02.441Z"
   },
   {
    "duration": 780,
    "start_time": "2022-01-13T09:33:33.511Z"
   },
   {
    "duration": 176,
    "start_time": "2022-01-13T09:33:34.294Z"
   },
   {
    "duration": 25,
    "start_time": "2022-01-13T09:33:34.473Z"
   },
   {
    "duration": 42,
    "start_time": "2022-01-13T09:33:34.501Z"
   },
   {
    "duration": 4,
    "start_time": "2022-01-13T09:33:34.546Z"
   },
   {
    "duration": 26,
    "start_time": "2022-01-13T09:33:34.553Z"
   },
   {
    "duration": 14,
    "start_time": "2022-01-13T09:33:34.581Z"
   },
   {
    "duration": 28,
    "start_time": "2022-01-13T09:33:34.624Z"
   },
   {
    "duration": 95,
    "start_time": "2022-01-13T09:33:34.655Z"
   },
   {
    "duration": 26,
    "start_time": "2022-01-13T09:33:34.752Z"
   },
   {
    "duration": 99,
    "start_time": "2022-01-13T09:33:34.781Z"
   },
   {
    "duration": 99,
    "start_time": "2022-01-13T09:33:34.883Z"
   },
   {
    "duration": 88,
    "start_time": "2022-01-13T09:33:34.984Z"
   },
   {
    "duration": 78,
    "start_time": "2022-01-13T09:33:35.074Z"
   },
   {
    "duration": 4,
    "start_time": "2022-01-13T09:33:35.154Z"
   },
   {
    "duration": 15,
    "start_time": "2022-01-13T09:33:35.160Z"
   },
   {
    "duration": 8,
    "start_time": "2022-01-13T09:33:35.177Z"
   },
   {
    "duration": 75,
    "start_time": "2022-01-13T09:33:35.188Z"
   },
   {
    "duration": 13,
    "start_time": "2022-01-13T09:33:35.266Z"
   },
   {
    "duration": 5,
    "start_time": "2022-01-13T09:33:35.282Z"
   },
   {
    "duration": 49,
    "start_time": "2022-01-13T09:33:35.289Z"
   },
   {
    "duration": 17,
    "start_time": "2022-01-13T09:33:35.340Z"
   },
   {
    "duration": 18,
    "start_time": "2022-01-13T09:33:35.362Z"
   },
   {
    "duration": 49,
    "start_time": "2022-01-13T09:33:35.382Z"
   },
   {
    "duration": 19,
    "start_time": "2022-01-13T09:33:35.434Z"
   },
   {
    "duration": 17,
    "start_time": "2022-01-13T09:33:35.455Z"
   },
   {
    "duration": 48,
    "start_time": "2022-01-13T09:33:35.475Z"
   },
   {
    "duration": 13,
    "start_time": "2022-01-13T09:33:35.526Z"
   },
   {
    "duration": 11,
    "start_time": "2022-01-13T09:33:35.542Z"
   },
   {
    "duration": 6,
    "start_time": "2022-01-13T09:33:35.555Z"
   },
   {
    "duration": 27,
    "start_time": "2022-01-13T09:33:35.564Z"
   },
   {
    "duration": 47,
    "start_time": "2022-01-13T09:33:35.593Z"
   },
   {
    "duration": 21,
    "start_time": "2022-01-13T09:33:35.643Z"
   },
   {
    "duration": 16,
    "start_time": "2022-01-13T09:33:35.667Z"
   },
   {
    "duration": 46,
    "start_time": "2022-01-13T09:33:35.685Z"
   },
   {
    "duration": 7,
    "start_time": "2022-01-13T09:33:35.734Z"
   },
   {
    "duration": 12,
    "start_time": "2022-01-13T09:33:35.744Z"
   },
   {
    "duration": 6,
    "start_time": "2022-01-13T09:33:35.759Z"
   }
  ],
  "colab": {
   "collapsed_sections": [
    "E0vqbgi9ay0H",
    "VUC88oWjTJw2"
   ],
   "name": "yandex_music_project_2021.2.ipynb",
   "provenance": []
  },
  "kernelspec": {
   "display_name": "Python 3 (ipykernel)",
   "language": "python",
   "name": "python3"
  },
  "language_info": {
   "codemirror_mode": {
    "name": "ipython",
    "version": 3
   },
   "file_extension": ".py",
   "mimetype": "text/x-python",
   "name": "python",
   "nbconvert_exporter": "python",
   "pygments_lexer": "ipython3",
   "version": "3.9.7"
  },
  "toc": {
   "base_numbering": 1,
   "nav_menu": {},
   "number_sections": true,
   "sideBar": true,
   "skip_h1_title": true,
   "title_cell": "Table of Contents",
   "title_sidebar": "Contents",
   "toc_cell": false,
   "toc_position": {
    "height": "calc(100% - 180px)",
    "left": "10px",
    "top": "150px",
    "width": "224px"
   },
   "toc_section_display": true,
   "toc_window_display": false
  }
 },
 "nbformat": 4,
 "nbformat_minor": 1
}
