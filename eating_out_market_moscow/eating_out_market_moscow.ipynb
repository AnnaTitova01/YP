{
 "cells": [
  {
   "cell_type": "markdown",
   "metadata": {},
   "source": [
    "**Описание проекта**"
   ]
  },
  {
   "cell_type": "markdown",
   "metadata": {},
   "source": [
    "Перед открытием кафе, нужно провести анализ рынка на основе открытых данных о заведениях общественного питсания в Москве"
   ]
  },
  {
   "cell_type": "markdown",
   "metadata": {},
   "source": [
    "# Загрузка и подготовка данных"
   ]
  },
  {
   "cell_type": "markdown",
   "metadata": {},
   "source": [
    "Импортирую библиотеки"
   ]
  },
  {
   "cell_type": "code",
   "execution_count": 1,
   "metadata": {},
   "outputs": [],
   "source": [
    "import pandas as pd\n",
    "import seaborn as sns\n",
    "import matplotlib.pyplot as plt\n",
    "import numpy as np"
   ]
  },
  {
   "cell_type": "markdown",
   "metadata": {},
   "source": [
    "Загружаю данные. Изучаю методом head() и info()"
   ]
  },
  {
   "cell_type": "code",
   "execution_count": 2,
   "metadata": {},
   "outputs": [
    {
     "name": "stdout",
     "output_type": "stream",
     "text": [
      "<class 'pandas.core.frame.DataFrame'>\n",
      "RangeIndex: 15366 entries, 0 to 15365\n",
      "Data columns (total 6 columns):\n",
      " #   Column       Non-Null Count  Dtype \n",
      "---  ------       --------------  ----- \n",
      " 0   id           15366 non-null  int64 \n",
      " 1   object_name  15366 non-null  object\n",
      " 2   chain        15366 non-null  object\n",
      " 3   object_type  15366 non-null  object\n",
      " 4   address      15366 non-null  object\n",
      " 5   number       15366 non-null  int64 \n",
      "dtypes: int64(2), object(4)\n",
      "memory usage: 720.4+ KB\n"
     ]
    },
    {
     "data": {
      "text/html": [
       "<div>\n",
       "<style scoped>\n",
       "    .dataframe tbody tr th:only-of-type {\n",
       "        vertical-align: middle;\n",
       "    }\n",
       "\n",
       "    .dataframe tbody tr th {\n",
       "        vertical-align: top;\n",
       "    }\n",
       "\n",
       "    .dataframe thead th {\n",
       "        text-align: right;\n",
       "    }\n",
       "</style>\n",
       "<table border=\"1\" class=\"dataframe\">\n",
       "  <thead>\n",
       "    <tr style=\"text-align: right;\">\n",
       "      <th></th>\n",
       "      <th>id</th>\n",
       "      <th>object_name</th>\n",
       "      <th>chain</th>\n",
       "      <th>object_type</th>\n",
       "      <th>address</th>\n",
       "      <th>number</th>\n",
       "    </tr>\n",
       "  </thead>\n",
       "  <tbody>\n",
       "    <tr>\n",
       "      <th>0</th>\n",
       "      <td>151635</td>\n",
       "      <td>СМЕТАНА</td>\n",
       "      <td>нет</td>\n",
       "      <td>кафе</td>\n",
       "      <td>город Москва, улица Егора Абакумова, дом 9</td>\n",
       "      <td>48</td>\n",
       "    </tr>\n",
       "    <tr>\n",
       "      <th>1</th>\n",
       "      <td>77874</td>\n",
       "      <td>Родник</td>\n",
       "      <td>нет</td>\n",
       "      <td>кафе</td>\n",
       "      <td>город Москва, улица Талалихина, дом 2/1, корпус 1</td>\n",
       "      <td>35</td>\n",
       "    </tr>\n",
       "    <tr>\n",
       "      <th>2</th>\n",
       "      <td>24309</td>\n",
       "      <td>Кафе «Академия»</td>\n",
       "      <td>нет</td>\n",
       "      <td>кафе</td>\n",
       "      <td>город Москва, Абельмановская улица, дом 6</td>\n",
       "      <td>95</td>\n",
       "    </tr>\n",
       "    <tr>\n",
       "      <th>3</th>\n",
       "      <td>21894</td>\n",
       "      <td>ПИЦЦЕТОРИЯ</td>\n",
       "      <td>да</td>\n",
       "      <td>кафе</td>\n",
       "      <td>город Москва, Абрамцевская улица, дом 1</td>\n",
       "      <td>40</td>\n",
       "    </tr>\n",
       "    <tr>\n",
       "      <th>4</th>\n",
       "      <td>119365</td>\n",
       "      <td>Кафе «Вишневая метель»</td>\n",
       "      <td>нет</td>\n",
       "      <td>кафе</td>\n",
       "      <td>город Москва, Абрамцевская улица, дом 9, корпус 1</td>\n",
       "      <td>50</td>\n",
       "    </tr>\n",
       "  </tbody>\n",
       "</table>\n",
       "</div>"
      ],
      "text/plain": [
       "       id             object_name chain object_type  \\\n",
       "0  151635                 СМЕТАНА   нет        кафе   \n",
       "1   77874                  Родник   нет        кафе   \n",
       "2   24309         Кафе «Академия»   нет        кафе   \n",
       "3   21894              ПИЦЦЕТОРИЯ    да        кафе   \n",
       "4  119365  Кафе «Вишневая метель»   нет        кафе   \n",
       "\n",
       "                                             address  number  \n",
       "0         город Москва, улица Егора Абакумова, дом 9      48  \n",
       "1  город Москва, улица Талалихина, дом 2/1, корпус 1      35  \n",
       "2          город Москва, Абельмановская улица, дом 6      95  \n",
       "3            город Москва, Абрамцевская улица, дом 1      40  \n",
       "4  город Москва, Абрамцевская улица, дом 9, корпус 1      50  "
      ]
     },
     "execution_count": 2,
     "metadata": {},
     "output_type": "execute_result"
    }
   ],
   "source": [
    "rest_data = pd.read_csv('rest_data.csv')\n",
    "\n",
    "rest_data.info()\n",
    "rest_data.head()"
   ]
  },
  {
   "cell_type": "markdown",
   "metadata": {},
   "source": [
    "Таблица в пяти колонках и содержит более 15 тыс строк. Пропусков нет. Тип в колонке идентификатора и кол-ва посадочных мест целочисленный. Остальные колонки строковые значения - это информация о названии, адресе, наименовании объекта, принадлежности к сети. Изменение типа данных не потребуется. Однако нужно проверить на дубликаты\n"
   ]
  },
  {
   "cell_type": "markdown",
   "metadata": {},
   "source": [
    "## Предобработка данных"
   ]
  },
  {
   "cell_type": "markdown",
   "metadata": {},
   "source": [
    "Проверяю на дубликаты"
   ]
  },
  {
   "cell_type": "code",
   "execution_count": 3,
   "metadata": {},
   "outputs": [
    {
     "data": {
      "text/plain": [
       "0"
      ]
     },
     "execution_count": 3,
     "metadata": {},
     "output_type": "execute_result"
    }
   ],
   "source": [
    "rest_data.duplicated().sum()"
   ]
  },
  {
   "cell_type": "markdown",
   "metadata": {},
   "source": [
    "Дубликатов не обнаружено"
   ]
  },
  {
   "cell_type": "markdown",
   "metadata": {},
   "source": [
    "## Общий вывод по шагу 1"
   ]
  },
  {
   "cell_type": "markdown",
   "metadata": {},
   "source": [
    " - Таблица с данными не содержит пропусков и дубликатов (были применены методы head(),info(), duplicated())\n",
    " - Тип данных соответсвуют необходимым для анализа (содержит строковые и целочисленные значения)\n",
    " - Данные готовы для дальнейшего анализа"
   ]
  },
  {
   "cell_type": "markdown",
   "metadata": {},
   "source": [
    "# Исследовательский анализ данных(EDA)"
   ]
  },
  {
   "cell_type": "markdown",
   "metadata": {},
   "source": [
    "## График соотношения количества видов объектов"
   ]
  },
  {
   "cell_type": "markdown",
   "metadata": {},
   "source": [
    "Посчитаю объекты общепита по количеству заведений"
   ]
  },
  {
   "cell_type": "code",
   "execution_count": 4,
   "metadata": {
    "scrolled": false
   },
   "outputs": [
    {
     "data": {
      "text/plain": [
       "кафе                                 6099\n",
       "столовая                             2587\n",
       "ресторан                             2285\n",
       "предприятие быстрого обслуживания    1923\n",
       "бар                                   856\n",
       "буфет                                 585\n",
       "кафетерий                             398\n",
       "закусочная                            360\n",
       "магазин (отдел кулинарии)             273\n",
       "Name: object_type, dtype: int64"
      ]
     },
     "execution_count": 4,
     "metadata": {},
     "output_type": "execute_result"
    }
   ],
   "source": [
    "rest_data['object_type'].value_counts()"
   ]
  },
  {
   "cell_type": "markdown",
   "metadata": {},
   "source": [
    "Построю график"
   ]
  },
  {
   "cell_type": "code",
   "execution_count": 5,
   "metadata": {},
   "outputs": [
    {
     "data": {
      "image/png": "[encoded data removed]",
      "text/plain": [
       "<Figure size 864x360 with 1 Axes>"
      ]
     },
     "metadata": {
      "needs_background": "light"
     },
     "output_type": "display_data"
    }
   ],
   "source": [
    "#сохраняем в переменной сводную таблицу с видами и количеством, сортирую значения\n",
    "rd_count = rest_data.pivot_table(index='object_type', values='id',aggfunc='count').sort_values(by='id', ascending=False).reset_index()\n",
    "#строим график\n",
    "plt.figure(figsize=(12, 5))\n",
    "sns.set_palette('Set2', 9)\n",
    "ax = sns.barplot(x='id', y='object_type', data=rd_count)\n",
    "ax.set_title('Виды объектов общественного питания по количеству')\n",
    "ax.set_ylabel('Вид объекта', color='grey')\n",
    "ax.set_xlabel('Количество', color='grey')\n",
    "plt.show()"
   ]
  },
  {
   "cell_type": "markdown",
   "metadata": {},
   "source": [
    "Очевидно, что лидирующее место по количеству заведений у кафе. Реже встречаются столовая, ресторан и предприятие быстрого обслуживания."
   ]
  },
  {
   "cell_type": "markdown",
   "metadata": {},
   "source": [
    "## График соотношения сетевых и несетевых объектов"
   ]
  },
  {
   "cell_type": "markdown",
   "metadata": {},
   "source": [
    "Построю график столбчатая диаграмма по принадлежности к сети. Для полсчета количества обозначим аргумент estimator"
   ]
  },
  {
   "cell_type": "code",
   "execution_count": 6,
   "metadata": {},
   "outputs": [
    {
     "data": {
      "image/png": "[encoded data removed]",
      "text/plain": [
       "<Figure size 432x288 with 1 Axes>"
      ]
     },
     "metadata": {
      "needs_background": "light"
     },
     "output_type": "display_data"
    }
   ],
   "source": [
    "ax=sns.barplot(x='chain', y='id', data=rest_data, estimator=len)\n",
    "sns.set_style('whitegrid')\n",
    "ax.set_title('Соотношение сетевых и несетевых объектов')\n",
    "ax.set_ylabel('Количество', color='grey')\n",
    "ax.set_xlabel('Принадлежность к сети', color='grey')\n",
    "plt.show()"
   ]
  },
  {
   "cell_type": "markdown",
   "metadata": {},
   "source": [
    "Количество несетевых зведений первышает сетевые почти в четыре раза"
   ]
  },
  {
   "cell_type": "markdown",
   "metadata": {},
   "source": [
    "## Характерные виды объектов с сетевым распространением"
   ]
  },
  {
   "cell_type": "markdown",
   "metadata": {},
   "source": [
    "Построю график соотношения количетсва заведений с указанием доли заведений в сети. Используем параметр hue"
   ]
  },
  {
   "cell_type": "markdown",
   "metadata": {},
   "source": [
    "Сначала расчитаю долю сетевых заведений по каждому типу объекта, используя сводную таблицу. Заменю значения в колоке сеть на числовые 0 и 1. Среднее арифметическое и будет доля сетевых"
   ]
  },
  {
   "cell_type": "code",
   "execution_count": 7,
   "metadata": {
    "scrolled": false
   },
   "outputs": [
    {
     "data": {
      "text/html": [
       "<style type=\"text/css\">\n",
       "#T_24cd4_row3_col1, #T_24cd4_row6_col0 {\n",
       "  background-color: #a5cfb5;\n",
       "}\n",
       "</style>\n",
       "<table id=\"T_24cd4_\">\n",
       "  <thead>\n",
       "    <tr>\n",
       "      <th class=\"blank level0\" >&nbsp;</th>\n",
       "      <th class=\"col_heading level0 col0\" >Доля сетевых</th>\n",
       "      <th class=\"col_heading level0 col1\" >Количество заведений</th>\n",
       "    </tr>\n",
       "    <tr>\n",
       "      <th class=\"blank level1\" >&nbsp;</th>\n",
       "      <th class=\"col_heading level1 col0\" >chain</th>\n",
       "      <th class=\"col_heading level1 col1\" >chain</th>\n",
       "    </tr>\n",
       "    <tr>\n",
       "      <th class=\"index_name level0\" >object_type</th>\n",
       "      <th class=\"blank col0\" >&nbsp;</th>\n",
       "      <th class=\"blank col1\" >&nbsp;</th>\n",
       "    </tr>\n",
       "  </thead>\n",
       "  <tbody>\n",
       "    <tr>\n",
       "      <th id=\"T_24cd4_level0_row0\" class=\"row_heading level0 row0\" >бар</th>\n",
       "      <td id=\"T_24cd4_row0_col0\" class=\"data row0 col0\" >0.043224</td>\n",
       "      <td id=\"T_24cd4_row0_col1\" class=\"data row0 col1\" >856</td>\n",
       "    </tr>\n",
       "    <tr>\n",
       "      <th id=\"T_24cd4_level0_row1\" class=\"row_heading level0 row1\" >буфет</th>\n",
       "      <td id=\"T_24cd4_row1_col0\" class=\"data row1 col0\" >0.018803</td>\n",
       "      <td id=\"T_24cd4_row1_col1\" class=\"data row1 col1\" >585</td>\n",
       "    </tr>\n",
       "    <tr>\n",
       "      <th id=\"T_24cd4_level0_row2\" class=\"row_heading level0 row2\" >закусочная</th>\n",
       "      <td id=\"T_24cd4_row2_col0\" class=\"data row2 col0\" >0.155556</td>\n",
       "      <td id=\"T_24cd4_row2_col1\" class=\"data row2 col1\" >360</td>\n",
       "    </tr>\n",
       "    <tr>\n",
       "      <th id=\"T_24cd4_level0_row3\" class=\"row_heading level0 row3\" >кафе</th>\n",
       "      <td id=\"T_24cd4_row3_col0\" class=\"data row3 col0\" >0.228890</td>\n",
       "      <td id=\"T_24cd4_row3_col1\" class=\"data row3 col1\" >6099</td>\n",
       "    </tr>\n",
       "    <tr>\n",
       "      <th id=\"T_24cd4_level0_row4\" class=\"row_heading level0 row4\" >кафетерий</th>\n",
       "      <td id=\"T_24cd4_row4_col0\" class=\"data row4 col0\" >0.130653</td>\n",
       "      <td id=\"T_24cd4_row4_col1\" class=\"data row4 col1\" >398</td>\n",
       "    </tr>\n",
       "    <tr>\n",
       "      <th id=\"T_24cd4_level0_row5\" class=\"row_heading level0 row5\" >магазин (отдел кулинарии)</th>\n",
       "      <td id=\"T_24cd4_row5_col0\" class=\"data row5 col0\" >0.285714</td>\n",
       "      <td id=\"T_24cd4_row5_col1\" class=\"data row5 col1\" >273</td>\n",
       "    </tr>\n",
       "    <tr>\n",
       "      <th id=\"T_24cd4_level0_row6\" class=\"row_heading level0 row6\" >предприятие быстрого обслуживания</th>\n",
       "      <td id=\"T_24cd4_row6_col0\" class=\"data row6 col0\" >0.411336</td>\n",
       "      <td id=\"T_24cd4_row6_col1\" class=\"data row6 col1\" >1923</td>\n",
       "    </tr>\n",
       "    <tr>\n",
       "      <th id=\"T_24cd4_level0_row7\" class=\"row_heading level0 row7\" >ресторан</th>\n",
       "      <td id=\"T_24cd4_row7_col0\" class=\"data row7 col0\" >0.238074</td>\n",
       "      <td id=\"T_24cd4_row7_col1\" class=\"data row7 col1\" >2285</td>\n",
       "    </tr>\n",
       "    <tr>\n",
       "      <th id=\"T_24cd4_level0_row8\" class=\"row_heading level0 row8\" >столовая</th>\n",
       "      <td id=\"T_24cd4_row8_col0\" class=\"data row8 col0\" >0.001160</td>\n",
       "      <td id=\"T_24cd4_row8_col1\" class=\"data row8 col1\" >2587</td>\n",
       "    </tr>\n",
       "  </tbody>\n",
       "</table>\n"
      ],
      "text/plain": [
       "<pandas.io.formats.style.Styler at 0x229647bc220>"
      ]
     },
     "execution_count": 7,
     "metadata": {},
     "output_type": "execute_result"
    }
   ],
   "source": [
    "#замена значений\n",
    "rest_data['chain'] = rest_data['chain'].replace('нет',0)\n",
    "rest_data['chain'] = rest_data['chain'].replace('да',1)\n",
    "#построение сводной таблицы с расчетом доли и общего количества заведений\n",
    "net_percent = rest_data.pivot_table(index=['object_type'], values=['chain'],aggfunc=[np.mean, len])\n",
    "\n",
    "#для наглядности переименовываю колонки\n",
    "net_percent = net_percent.rename(columns={'mean':'Доля сетевых', 'len':'Количество заведений'})\n",
    "\n",
    "#подсвечу максимальные значения\n",
    "net_percent.style.format({'Доля сетевых': '{:.2f}'}).highlight_max(color='#a5cfb5', subset=['Доля сетевых','Количество заведений'])\n"
   ]
  },
  {
   "cell_type": "markdown",
   "metadata": {},
   "source": [
    "Самая большая доля сетевых заведений в сегменте предприятие быстрого обслуживания. Доля сетевых в кафе - 23%"
   ]
  },
  {
   "cell_type": "markdown",
   "metadata": {},
   "source": [
    "Строю график"
   ]
  },
  {
   "cell_type": "code",
   "execution_count": 8,
   "metadata": {},
   "outputs": [
    {
     "data": {
      "text/plain": [
       "<Figure size 1080x504 with 0 Axes>"
      ]
     },
     "metadata": {},
     "output_type": "display_data"
    },
    {
     "data": {
      "image/png": "[encoded data removed]",
      "text/plain": [
       "<Figure size 432x288 with 1 Axes>"
      ]
     },
     "metadata": {},
     "output_type": "display_data"
    }
   ],
   "source": [
    "plt.figure(figsize=(15, 7))\n",
    "net_percent.plot(kind='barh', y='Доля сетевых')\n",
    "plt.title('Распределение видов объектов по принадлежности к сети')\n",
    "plt.ylabel('Вид объекта', color='grey')\n",
    "plt.xlabel('Доля сетевых', color='grey')\n",
    "plt.show()"
   ]
  },
  {
   "cell_type": "markdown",
   "metadata": {},
   "source": [
    "Из предприятий быстрого обслуживания 41% сетевые, а вот сетевых столовых практически не встречается"
   ]
  },
  {
   "cell_type": "markdown",
   "metadata": {},
   "source": [
    "## Характерные особенности для сетевых заведений"
   ]
  },
  {
   "cell_type": "markdown",
   "metadata": {},
   "source": [
    "Чтобы исследовать сетевые заведения, сделаю срез с помощью query\n"
   ]
  },
  {
   "cell_type": "code",
   "execution_count": 9,
   "metadata": {},
   "outputs": [
    {
     "data": {
      "text/plain": [
       "кафе                                 1396\n",
       "предприятие быстрого обслуживания     791\n",
       "ресторан                              544\n",
       "магазин (отдел кулинарии)              78\n",
       "закусочная                             56\n",
       "кафетерий                              52\n",
       "бар                                    37\n",
       "буфет                                  11\n",
       "столовая                                3\n",
       "Name: object_type, dtype: int64"
      ]
     },
     "execution_count": 9,
     "metadata": {},
     "output_type": "execute_result"
    }
   ],
   "source": [
    "net_rest = rest_data.query('chain == 1')\n",
    "net_rest['object_type'].value_counts()"
   ]
  },
  {
   "cell_type": "markdown",
   "metadata": {},
   "source": [
    "Построю диаграмму рассеивания заведений по количеству посадочных мест"
   ]
  },
  {
   "cell_type": "markdown",
   "metadata": {},
   "source": [
    "С помощью сводной таблицы считаю среднее количество посадочных мест по типу заведений среди сетевых"
   ]
  },
  {
   "cell_type": "code",
   "execution_count": 10,
   "metadata": {},
   "outputs": [],
   "source": [
    "net_rest_pivot = net_rest.pivot_table(index='object_name', values='number', aggfunc=['mean','count']).reset_index()\n",
    "net_rest_pivot['mean'] = round(net_rest_pivot['mean'],1)\n",
    "net_rest_pivot.columns =['object_name','avg_number','count_number']"
   ]
  },
  {
   "cell_type": "markdown",
   "metadata": {},
   "source": [
    "График"
   ]
  },
  {
   "cell_type": "code",
   "execution_count": 11,
   "metadata": {},
   "outputs": [
    {
     "data": {
      "image/png": "[encoded data removed]",
      "text/plain": [
       "<Figure size 1440x360 with 1 Axes>"
      ]
     },
     "metadata": {},
     "output_type": "display_data"
    }
   ],
   "source": [
    "plt.figure(figsize=(20, 5))\n",
    "ax = sns.scatterplot(data=net_rest_pivot, x='avg_number', y='count_number')\n",
    "ax.set_title('График сетевых заведений по среднему количеству посадочных мест')\n",
    "ax.set_ylabel('Количество заведений', color='grey')\n",
    "ax.set_xlabel('Количество посадочных мест', color='grey')\n",
    "plt.xticks(rotation=45)\n",
    "plt.show()"
   ]
  },
  {
   "cell_type": "markdown",
   "metadata": {},
   "source": [
    "Можно сделать вывод, что для сетевых заведений в целом характерно небольшое количество посадочных мест. "
   ]
  },
  {
   "cell_type": "markdown",
   "metadata": {},
   "source": [
    "## Среднее количество посадочных мест по объектам"
   ]
  },
  {
   "cell_type": "markdown",
   "metadata": {},
   "source": [
    "Сначала считаю среднее количество посадочных мест по объектам"
   ]
  },
  {
   "cell_type": "code",
   "execution_count": 12,
   "metadata": {},
   "outputs": [
    {
     "data": {
      "text/plain": [
       "object_type\n",
       "столовая                             130.246618\n",
       "ресторан                              96.834136\n",
       "буфет                                 51.129915\n",
       "бар                                   43.494159\n",
       "кафе                                  39.716019\n",
       "предприятие быстрого обслуживания     20.552262\n",
       "кафетерий                              9.123116\n",
       "закусочная                             7.608333\n",
       "магазин (отдел кулинарии)              5.589744\n",
       "Name: number, dtype: float64"
      ]
     },
     "execution_count": 12,
     "metadata": {},
     "output_type": "execute_result"
    }
   ],
   "source": [
    "rest_data.groupby('object_type')['number'].mean().sort_values(ascending=False)"
   ]
  },
  {
   "cell_type": "markdown",
   "metadata": {},
   "source": [
    "В среднем самое большое количество посадочных мест предоставляют столовые(130). Для сравнения предприятия быстрого обслуживания в среднем имеет 20 посадочных мест. "
   ]
  },
  {
   "cell_type": "markdown",
   "metadata": {},
   "source": [
    "Для наглядности построю столбчатую диаграмму. Barplot сам аггрегирует данные: по умолчанию считает среднее"
   ]
  },
  {
   "cell_type": "code",
   "execution_count": 13,
   "metadata": {},
   "outputs": [
    {
     "data": {
      "image/png": "[encoded data removed]",
      "text/plain": [
       "<Figure size 864x360 with 1 Axes>"
      ]
     },
     "metadata": {},
     "output_type": "display_data"
    }
   ],
   "source": [
    "plt.figure(figsize=(12, 5))\n",
    "ax = sns.barplot(y='object_type', x='number', data=rest_data)\n",
    "ax.set_title('Среднее количество посадочных мест по объектам')\n",
    "ax.set_ylabel('Вид объекта', color='grey')\n",
    "ax.set_xlabel('Количество посадочных мест', color='grey')\n",
    "plt.show()"
   ]
  },
  {
   "cell_type": "markdown",
   "metadata": {},
   "source": [
    "График подтверждает выводы, сделанные ранее. По среднему количеству посадочных мест лидер - столовая. Примерно на 30% меньше у ресторана. Остальные объекты имеют посадочных мест меньше, чем в столовых, в размере более чем 50%"
   ]
  },
  {
   "cell_type": "markdown",
   "metadata": {},
   "source": [
    "## Топ-10 улиц по количеству объектов общепита"
   ]
  },
  {
   "cell_type": "markdown",
   "metadata": {},
   "source": [
    "Выделяю улицу из адреса в отдельный столбец. Проверяю, что столбец добавился"
   ]
  },
  {
   "cell_type": "code",
   "execution_count": 14,
   "metadata": {
    "scrolled": true
   },
   "outputs": [
    {
     "data": {
      "text/html": [
       "<div>\n",
       "<style scoped>\n",
       "    .dataframe tbody tr th:only-of-type {\n",
       "        vertical-align: middle;\n",
       "    }\n",
       "\n",
       "    .dataframe tbody tr th {\n",
       "        vertical-align: top;\n",
       "    }\n",
       "\n",
       "    .dataframe thead th {\n",
       "        text-align: right;\n",
       "    }\n",
       "</style>\n",
       "<table border=\"1\" class=\"dataframe\">\n",
       "  <thead>\n",
       "    <tr style=\"text-align: right;\">\n",
       "      <th></th>\n",
       "      <th>id</th>\n",
       "      <th>object_name</th>\n",
       "      <th>chain</th>\n",
       "      <th>object_type</th>\n",
       "      <th>address</th>\n",
       "      <th>number</th>\n",
       "      <th>street</th>\n",
       "    </tr>\n",
       "  </thead>\n",
       "  <tbody>\n",
       "    <tr>\n",
       "      <th>0</th>\n",
       "      <td>151635</td>\n",
       "      <td>СМЕТАНА</td>\n",
       "      <td>0</td>\n",
       "      <td>кафе</td>\n",
       "      <td>город Москва, улица Егора Абакумова, дом 9</td>\n",
       "      <td>48</td>\n",
       "      <td>улица Егора Абакумова</td>\n",
       "    </tr>\n",
       "    <tr>\n",
       "      <th>1</th>\n",
       "      <td>77874</td>\n",
       "      <td>Родник</td>\n",
       "      <td>0</td>\n",
       "      <td>кафе</td>\n",
       "      <td>город Москва, улица Талалихина, дом 2/1, корпус 1</td>\n",
       "      <td>35</td>\n",
       "      <td>улица Талалихина</td>\n",
       "    </tr>\n",
       "    <tr>\n",
       "      <th>2</th>\n",
       "      <td>24309</td>\n",
       "      <td>Кафе «Академия»</td>\n",
       "      <td>0</td>\n",
       "      <td>кафе</td>\n",
       "      <td>город Москва, Абельмановская улица, дом 6</td>\n",
       "      <td>95</td>\n",
       "      <td>Абельмановская улица</td>\n",
       "    </tr>\n",
       "    <tr>\n",
       "      <th>3</th>\n",
       "      <td>21894</td>\n",
       "      <td>ПИЦЦЕТОРИЯ</td>\n",
       "      <td>1</td>\n",
       "      <td>кафе</td>\n",
       "      <td>город Москва, Абрамцевская улица, дом 1</td>\n",
       "      <td>40</td>\n",
       "      <td>Абрамцевская улица</td>\n",
       "    </tr>\n",
       "    <tr>\n",
       "      <th>4</th>\n",
       "      <td>119365</td>\n",
       "      <td>Кафе «Вишневая метель»</td>\n",
       "      <td>0</td>\n",
       "      <td>кафе</td>\n",
       "      <td>город Москва, Абрамцевская улица, дом 9, корпус 1</td>\n",
       "      <td>50</td>\n",
       "      <td>Абрамцевская улица</td>\n",
       "    </tr>\n",
       "    <tr>\n",
       "      <th>...</th>\n",
       "      <td>...</td>\n",
       "      <td>...</td>\n",
       "      <td>...</td>\n",
       "      <td>...</td>\n",
       "      <td>...</td>\n",
       "      <td>...</td>\n",
       "      <td>...</td>\n",
       "    </tr>\n",
       "    <tr>\n",
       "      <th>15361</th>\n",
       "      <td>208537</td>\n",
       "      <td>Шоколадница</td>\n",
       "      <td>1</td>\n",
       "      <td>кафе</td>\n",
       "      <td>город Москва, 3-й Крутицкий переулок, дом 18</td>\n",
       "      <td>50</td>\n",
       "      <td>3-й Крутицкий переулок</td>\n",
       "    </tr>\n",
       "    <tr>\n",
       "      <th>15362</th>\n",
       "      <td>209264</td>\n",
       "      <td>Шоколадница</td>\n",
       "      <td>1</td>\n",
       "      <td>кафе</td>\n",
       "      <td>город Москва, улица Земляной Вал, дом 33</td>\n",
       "      <td>10</td>\n",
       "      <td>улица Земляной Вал</td>\n",
       "    </tr>\n",
       "    <tr>\n",
       "      <th>15363</th>\n",
       "      <td>209186</td>\n",
       "      <td>Шоколадница</td>\n",
       "      <td>1</td>\n",
       "      <td>кафе</td>\n",
       "      <td>город Москва, улица Земляной Вал, дом 33</td>\n",
       "      <td>20</td>\n",
       "      <td>улица Земляной Вал</td>\n",
       "    </tr>\n",
       "    <tr>\n",
       "      <th>15364</th>\n",
       "      <td>221900</td>\n",
       "      <td>Шоколадница</td>\n",
       "      <td>1</td>\n",
       "      <td>кафе</td>\n",
       "      <td>город Москва, поселение Московский, Киевское ш...</td>\n",
       "      <td>36</td>\n",
       "      <td>Киевское шоссе</td>\n",
       "    </tr>\n",
       "    <tr>\n",
       "      <th>15365</th>\n",
       "      <td>222535</td>\n",
       "      <td>Шоколадница</td>\n",
       "      <td>1</td>\n",
       "      <td>кафе</td>\n",
       "      <td>город Москва, Ходынский бульвар, дом 4</td>\n",
       "      <td>10</td>\n",
       "      <td>Ходынский бульвар</td>\n",
       "    </tr>\n",
       "  </tbody>\n",
       "</table>\n",
       "<p>15366 rows × 7 columns</p>\n",
       "</div>"
      ],
      "text/plain": [
       "           id             object_name  chain object_type  \\\n",
       "0      151635                 СМЕТАНА      0        кафе   \n",
       "1       77874                  Родник      0        кафе   \n",
       "2       24309         Кафе «Академия»      0        кафе   \n",
       "3       21894              ПИЦЦЕТОРИЯ      1        кафе   \n",
       "4      119365  Кафе «Вишневая метель»      0        кафе   \n",
       "...       ...                     ...    ...         ...   \n",
       "15361  208537             Шоколадница      1        кафе   \n",
       "15362  209264             Шоколадница      1        кафе   \n",
       "15363  209186             Шоколадница      1        кафе   \n",
       "15364  221900             Шоколадница      1        кафе   \n",
       "15365  222535             Шоколадница      1        кафе   \n",
       "\n",
       "                                                 address  number  \\\n",
       "0             город Москва, улица Егора Абакумова, дом 9      48   \n",
       "1      город Москва, улица Талалихина, дом 2/1, корпус 1      35   \n",
       "2              город Москва, Абельмановская улица, дом 6      95   \n",
       "3                город Москва, Абрамцевская улица, дом 1      40   \n",
       "4      город Москва, Абрамцевская улица, дом 9, корпус 1      50   \n",
       "...                                                  ...     ...   \n",
       "15361       город Москва, 3-й Крутицкий переулок, дом 18      50   \n",
       "15362           город Москва, улица Земляной Вал, дом 33      10   \n",
       "15363           город Москва, улица Земляной Вал, дом 33      20   \n",
       "15364  город Москва, поселение Московский, Киевское ш...      36   \n",
       "15365             город Москва, Ходынский бульвар, дом 4      10   \n",
       "\n",
       "                       street  \n",
       "0       улица Егора Абакумова  \n",
       "1            улица Талалихина  \n",
       "2        Абельмановская улица  \n",
       "3          Абрамцевская улица  \n",
       "4          Абрамцевская улица  \n",
       "...                       ...  \n",
       "15361  3-й Крутицкий переулок  \n",
       "15362      улица Земляной Вал  \n",
       "15363      улица Земляной Вал  \n",
       "15364          Киевское шоссе  \n",
       "15365       Ходынский бульвар  \n",
       "\n",
       "[15366 rows x 7 columns]"
      ]
     },
     "execution_count": 14,
     "metadata": {},
     "output_type": "execute_result"
    }
   ],
   "source": [
    "words = ['улица','ул','переулок','шоссе','проспект','площадь','проезд',\n",
    "         'село','аллея','бульвар','набережная','тупик','линия']\n",
    "\n",
    "str_pat = r\".*,\\s*\\b([^,]*?(?:{})\\b[^,]*)[,$]+\".format(\"|\".join(words))\n",
    "\n",
    "rest_data[\"street\"] = rest_data[\"address\"].str.extract(str_pat)\n",
    "\n",
    "rest_data"
   ]
  },
  {
   "cell_type": "markdown",
   "metadata": {},
   "source": [
    "Нахожу 10-ку улиц с наибольшим количеством заведений"
   ]
  },
  {
   "cell_type": "code",
   "execution_count": 15,
   "metadata": {},
   "outputs": [
    {
     "data": {
      "text/html": [
       "<div>\n",
       "<style scoped>\n",
       "    .dataframe tbody tr th:only-of-type {\n",
       "        vertical-align: middle;\n",
       "    }\n",
       "\n",
       "    .dataframe tbody tr th {\n",
       "        vertical-align: top;\n",
       "    }\n",
       "\n",
       "    .dataframe thead th {\n",
       "        text-align: right;\n",
       "    }\n",
       "</style>\n",
       "<table border=\"1\" class=\"dataframe\">\n",
       "  <thead>\n",
       "    <tr style=\"text-align: right;\">\n",
       "      <th></th>\n",
       "      <th>street</th>\n",
       "      <th>id</th>\n",
       "    </tr>\n",
       "  </thead>\n",
       "  <tbody>\n",
       "    <tr>\n",
       "      <th>0</th>\n",
       "      <td>проспект Мира</td>\n",
       "      <td>204</td>\n",
       "    </tr>\n",
       "    <tr>\n",
       "      <th>1</th>\n",
       "      <td>Профсоюзная улица</td>\n",
       "      <td>182</td>\n",
       "    </tr>\n",
       "    <tr>\n",
       "      <th>2</th>\n",
       "      <td>Ленинградский проспект</td>\n",
       "      <td>171</td>\n",
       "    </tr>\n",
       "    <tr>\n",
       "      <th>3</th>\n",
       "      <td>Пресненская набережная</td>\n",
       "      <td>167</td>\n",
       "    </tr>\n",
       "    <tr>\n",
       "      <th>4</th>\n",
       "      <td>Варшавское шоссе</td>\n",
       "      <td>164</td>\n",
       "    </tr>\n",
       "    <tr>\n",
       "      <th>5</th>\n",
       "      <td>Ленинский проспект</td>\n",
       "      <td>147</td>\n",
       "    </tr>\n",
       "    <tr>\n",
       "      <th>6</th>\n",
       "      <td>проспект Вернадского</td>\n",
       "      <td>132</td>\n",
       "    </tr>\n",
       "    <tr>\n",
       "      <th>7</th>\n",
       "      <td>Кутузовский проспект</td>\n",
       "      <td>114</td>\n",
       "    </tr>\n",
       "    <tr>\n",
       "      <th>8</th>\n",
       "      <td>Каширское шоссе</td>\n",
       "      <td>112</td>\n",
       "    </tr>\n",
       "    <tr>\n",
       "      <th>9</th>\n",
       "      <td>Кировоградская улица</td>\n",
       "      <td>110</td>\n",
       "    </tr>\n",
       "  </tbody>\n",
       "</table>\n",
       "</div>"
      ],
      "text/plain": [
       "                   street   id\n",
       "0           проспект Мира  204\n",
       "1       Профсоюзная улица  182\n",
       "2  Ленинградский проспект  171\n",
       "3  Пресненская набережная  167\n",
       "4        Варшавское шоссе  164\n",
       "5      Ленинский проспект  147\n",
       "6    проспект Вернадского  132\n",
       "7    Кутузовский проспект  114\n",
       "8         Каширское шоссе  112\n",
       "9    Кировоградская улица  110"
      ]
     },
     "execution_count": 15,
     "metadata": {},
     "output_type": "execute_result"
    }
   ],
   "source": [
    "top_ten = rest_data.groupby('street')['id'].count().sort_values(ascending=False).to_frame().head(10).reset_index()\n",
    "top_ten"
   ]
  },
  {
   "cell_type": "markdown",
   "metadata": {},
   "source": [
    "Больше всего объектов на улице Мира - 204, почти в два раза меньше на Кировоградской улице, она на 10 месте."
   ]
  },
  {
   "cell_type": "markdown",
   "metadata": {},
   "source": [
    "Пстрою график"
   ]
  },
  {
   "cell_type": "code",
   "execution_count": 16,
   "metadata": {},
   "outputs": [
    {
     "data": {
      "image/png": "[encoded data removed]",
      "text/plain": [
       "<Figure size 864x360 with 1 Axes>"
      ]
     },
     "metadata": {},
     "output_type": "display_data"
    }
   ],
   "source": [
    "plt.figure(figsize=(12, 5))\n",
    "ax = sns.barplot(y='street', x='id', data=top_ten)\n",
    "ax.set_title('Топ-10 улиц по количеству заведений')\n",
    "ax.set_ylabel('Улица', color='grey')\n",
    "ax.set_xlabel('Количество объектов', color='grey')\n",
    "plt.show()"
   ]
  },
  {
   "cell_type": "markdown",
   "metadata": {},
   "source": [
    "Можно сказать, что хит-парад \"ровный\", без резких перепадов. Есть явный лидер - проспект Мира"
   ]
  },
  {
   "cell_type": "markdown",
   "metadata": {},
   "source": [
    "Для того, чтобы сказать, через какие районы проходят топ_10 улиц с наибольшим количеством заведений, введу данные из внешнего источника (в этом случае таблица улиц по районас от мосгаз). Импортирую источник через google sheets"
   ]
  },
  {
   "cell_type": "code",
   "execution_count": 17,
   "metadata": {
    "scrolled": true
   },
   "outputs": [
    {
     "data": {
      "text/html": [
       "<div>\n",
       "<style scoped>\n",
       "    .dataframe tbody tr th:only-of-type {\n",
       "        vertical-align: middle;\n",
       "    }\n",
       "\n",
       "    .dataframe tbody tr th {\n",
       "        vertical-align: top;\n",
       "    }\n",
       "\n",
       "    .dataframe thead th {\n",
       "        text-align: right;\n",
       "    }\n",
       "</style>\n",
       "<table border=\"1\" class=\"dataframe\">\n",
       "  <thead>\n",
       "    <tr style=\"text-align: right;\">\n",
       "      <th></th>\n",
       "      <th>streetname</th>\n",
       "      <th>areaid</th>\n",
       "      <th>okrug</th>\n",
       "      <th>area</th>\n",
       "    </tr>\n",
       "  </thead>\n",
       "  <tbody>\n",
       "    <tr>\n",
       "      <th>0</th>\n",
       "      <td>Выставочный переулок</td>\n",
       "      <td>17</td>\n",
       "      <td>ЦАО</td>\n",
       "      <td>Пресненский район</td>\n",
       "    </tr>\n",
       "    <tr>\n",
       "      <th>1</th>\n",
       "      <td>улица Гашека</td>\n",
       "      <td>17</td>\n",
       "      <td>ЦАО</td>\n",
       "      <td>Пресненский район</td>\n",
       "    </tr>\n",
       "    <tr>\n",
       "      <th>2</th>\n",
       "      <td>Большая Никитская улица</td>\n",
       "      <td>17</td>\n",
       "      <td>ЦАО</td>\n",
       "      <td>Пресненский район</td>\n",
       "    </tr>\n",
       "    <tr>\n",
       "      <th>3</th>\n",
       "      <td>Глубокий переулок</td>\n",
       "      <td>17</td>\n",
       "      <td>ЦАО</td>\n",
       "      <td>Пресненский район</td>\n",
       "    </tr>\n",
       "    <tr>\n",
       "      <th>4</th>\n",
       "      <td>Большой Гнездниковский переулок</td>\n",
       "      <td>17</td>\n",
       "      <td>ЦАО</td>\n",
       "      <td>Пресненский район</td>\n",
       "    </tr>\n",
       "    <tr>\n",
       "      <th>...</th>\n",
       "      <td>...</td>\n",
       "      <td>...</td>\n",
       "      <td>...</td>\n",
       "      <td>...</td>\n",
       "    </tr>\n",
       "    <tr>\n",
       "      <th>4393</th>\n",
       "      <td>Вознесенский проезд</td>\n",
       "      <td>17</td>\n",
       "      <td>ЦАО</td>\n",
       "      <td>Пресненский район</td>\n",
       "    </tr>\n",
       "    <tr>\n",
       "      <th>4394</th>\n",
       "      <td>Волков переулок</td>\n",
       "      <td>17</td>\n",
       "      <td>ЦАО</td>\n",
       "      <td>Пресненский район</td>\n",
       "    </tr>\n",
       "    <tr>\n",
       "      <th>4395</th>\n",
       "      <td>Поварская улица</td>\n",
       "      <td>17</td>\n",
       "      <td>ЦАО</td>\n",
       "      <td>Пресненский район</td>\n",
       "    </tr>\n",
       "    <tr>\n",
       "      <th>4396</th>\n",
       "      <td>Кудринская площадь</td>\n",
       "      <td>17</td>\n",
       "      <td>ЦАО</td>\n",
       "      <td>Пресненский район</td>\n",
       "    </tr>\n",
       "    <tr>\n",
       "      <th>4397</th>\n",
       "      <td>Вспольный переулок</td>\n",
       "      <td>17</td>\n",
       "      <td>ЦАО</td>\n",
       "      <td>Пресненский район</td>\n",
       "    </tr>\n",
       "  </tbody>\n",
       "</table>\n",
       "<p>4398 rows × 4 columns</p>\n",
       "</div>"
      ],
      "text/plain": [
       "                           streetname  areaid okrug               area\n",
       "0                Выставочный переулок      17   ЦАО  Пресненский район\n",
       "1                        улица Гашека      17   ЦАО  Пресненский район\n",
       "2             Большая Никитская улица      17   ЦАО  Пресненский район\n",
       "3                   Глубокий переулок      17   ЦАО  Пресненский район\n",
       "4     Большой Гнездниковский переулок      17   ЦАО  Пресненский район\n",
       "...                               ...     ...   ...                ...\n",
       "4393              Вознесенский проезд      17   ЦАО  Пресненский район\n",
       "4394                  Волков переулок      17   ЦАО  Пресненский район\n",
       "4395                  Поварская улица      17   ЦАО  Пресненский район\n",
       "4396               Кудринская площадь      17   ЦАО  Пресненский район\n",
       "4397               Вспольный переулок      17   ЦАО  Пресненский район\n",
       "\n",
       "[4398 rows x 4 columns]"
      ]
     },
     "execution_count": 17,
     "metadata": {},
     "output_type": "execute_result"
    }
   ],
   "source": [
    "from io import BytesIO\n",
    "import requests\n",
    "spreadsheet_id = '1mDxpD-1TlMQUwuG3POwGlimbf4NoUPfJLR3aopYa1Ks'\n",
    "file_name = 'https://docs.google.com/spreadsheets/d/{}/export?format=csv'.format(spreadsheet_id)\n",
    "r = requests.get(file_name)\n",
    "streets = pd.read_csv(BytesIO(r.content))\n",
    "streets"
   ]
  },
  {
   "cell_type": "markdown",
   "metadata": {},
   "source": [
    "Объеденяю таблицы с помощью merge() "
   ]
  },
  {
   "cell_type": "code",
   "execution_count": 18,
   "metadata": {},
   "outputs": [
    {
     "data": {
      "text/html": [
       "<div>\n",
       "<style scoped>\n",
       "    .dataframe tbody tr th:only-of-type {\n",
       "        vertical-align: middle;\n",
       "    }\n",
       "\n",
       "    .dataframe tbody tr th {\n",
       "        vertical-align: top;\n",
       "    }\n",
       "\n",
       "    .dataframe thead th {\n",
       "        text-align: right;\n",
       "    }\n",
       "</style>\n",
       "<table border=\"1\" class=\"dataframe\">\n",
       "  <thead>\n",
       "    <tr style=\"text-align: right;\">\n",
       "      <th></th>\n",
       "      <th>street</th>\n",
       "      <th>area</th>\n",
       "    </tr>\n",
       "  </thead>\n",
       "  <tbody>\n",
       "    <tr>\n",
       "      <th>0</th>\n",
       "      <td>Варшавское шоссе</td>\n",
       "      <td>[Район Чертаново Центральное, Район Чертаново Северное, Район Чертаново Южное, Донской район, Район Нагатино-Садовники, Нагорный район, Район Северное Бутово, Район Южное Бутово]</td>\n",
       "    </tr>\n",
       "    <tr>\n",
       "      <th>1</th>\n",
       "      <td>Каширское шоссе</td>\n",
       "      <td>[Район Москворечье-Сабурово, Район Нагатино-Садовники, Район Орехово-Борисово Южное, Район Орехово-Борисово Северное]</td>\n",
       "    </tr>\n",
       "    <tr>\n",
       "      <th>2</th>\n",
       "      <td>Кировоградская улица</td>\n",
       "      <td>[Район Чертаново Центральное, Район Чертаново Северное, Район Чертаново Южное]</td>\n",
       "    </tr>\n",
       "    <tr>\n",
       "      <th>3</th>\n",
       "      <td>Кутузовский проспект</td>\n",
       "      <td>[Район Дорогомилово, Район Фили-Давыдково]</td>\n",
       "    </tr>\n",
       "    <tr>\n",
       "      <th>4</th>\n",
       "      <td>Ленинградский проспект</td>\n",
       "      <td>[Район Аэропорт, Район Беговой, Хорошевский район, Район Сокол]</td>\n",
       "    </tr>\n",
       "    <tr>\n",
       "      <th>5</th>\n",
       "      <td>Ленинский проспект</td>\n",
       "      <td>[Район Проспект Вернадского, Район Тропарево-Никулино, Донской район, Район Гагаринский, Ломоносовский район, Обручевский район, Район Теплый Стан, Район Якиманка]</td>\n",
       "    </tr>\n",
       "    <tr>\n",
       "      <th>6</th>\n",
       "      <td>Пресненская набережная</td>\n",
       "      <td>[Пресненский район]</td>\n",
       "    </tr>\n",
       "    <tr>\n",
       "      <th>7</th>\n",
       "      <td>Профсоюзная улица</td>\n",
       "      <td>[Академический район, Район Черемушки, Район Ясенево, Район Коньково, Обручевский район, Район Теплый Стан]</td>\n",
       "    </tr>\n",
       "    <tr>\n",
       "      <th>8</th>\n",
       "      <td>проспект Вернадского</td>\n",
       "      <td>[Район Проспект Вернадского, Район Раменки, Район Тропарево-Никулино, Район Гагаринский, Ломоносовский район]</td>\n",
       "    </tr>\n",
       "    <tr>\n",
       "      <th>9</th>\n",
       "      <td>проспект Мира</td>\n",
       "      <td>[Алексеевский район, Ярославский Район, Район Марьина роща, Останкинский район, Район Ростокино, Район Свиблово, Мещанский район]</td>\n",
       "    </tr>\n",
       "  </tbody>\n",
       "</table>\n",
       "</div>"
      ],
      "text/plain": [
       "                   street  \\\n",
       "0        Варшавское шоссе   \n",
       "1         Каширское шоссе   \n",
       "2    Кировоградская улица   \n",
       "3    Кутузовский проспект   \n",
       "4  Ленинградский проспект   \n",
       "5      Ленинский проспект   \n",
       "6  Пресненская набережная   \n",
       "7       Профсоюзная улица   \n",
       "8    проспект Вернадского   \n",
       "9           проспект Мира   \n",
       "\n",
       "                                                                                                                                                                                 area  \n",
       "0  [Район Чертаново Центральное, Район Чертаново Северное, Район Чертаново Южное, Донской район, Район Нагатино-Садовники, Нагорный район, Район Северное Бутово, Район Южное Бутово]  \n",
       "1                                                               [Район Москворечье-Сабурово, Район Нагатино-Садовники, Район Орехово-Борисово Южное, Район Орехово-Борисово Северное]  \n",
       "2                                                                                                      [Район Чертаново Центральное, Район Чертаново Северное, Район Чертаново Южное]  \n",
       "3                                                                                                                                          [Район Дорогомилово, Район Фили-Давыдково]  \n",
       "4                                                                                                                     [Район Аэропорт, Район Беговой, Хорошевский район, Район Сокол]  \n",
       "5                 [Район Проспект Вернадского, Район Тропарево-Никулино, Донской район, Район Гагаринский, Ломоносовский район, Обручевский район, Район Теплый Стан, Район Якиманка]  \n",
       "6                                                                                                                                                                 [Пресненский район]  \n",
       "7                                                                         [Академический район, Район Черемушки, Район Ясенево, Район Коньково, Обручевский район, Район Теплый Стан]  \n",
       "8                                                                       [Район Проспект Вернадского, Район Раменки, Район Тропарево-Никулино, Район Гагаринский, Ломоносовский район]  \n",
       "9                                                   [Алексеевский район, Ярославский Район, Район Марьина роща, Останкинский район, Район Ростокино, Район Свиблово, Мещанский район]  "
      ]
     },
     "execution_count": 18,
     "metadata": {},
     "output_type": "execute_result"
    }
   ],
   "source": [
    "top_ten_district = top_ten.merge(streets[['streetname','area']], left_on='street',right_on='streetname')\n",
    "pd.set_option('max_colwidth',200)\n",
    "top_ten_district.groupby('street')['area'].apply(list).reset_index()"
   ]
  },
  {
   "cell_type": "markdown",
   "metadata": {},
   "source": [
    " Таким образом, только Пресненская набережная располагается в одном районе (Пресненском). Все остальные улицы из топ-10 растянулись как минимум на 3 района"
   ]
  },
  {
   "cell_type": "markdown",
   "metadata": {},
   "source": [
    "Проанализировав карты, можно сказать, что большинство улиц - те, что идут от центра Москвы к периферии. Все они пролегают вдоль веток метро, которые имеют то же направление. На этих улицах много станций метро. Исключение составляют Пресненская набережная - короткий отрезок по сравнению с остальными, однако он находится в Сити. Там деловой и выставочный центр, также есть станции метро. Другим исключением можно назвать Кировоградскую улицу. Относительно небольшой отрезок в Северном Чертаново, улица расположена паралелльно Варшваскому шоссе, есть 2 станции метро, рядом Битцевский парк. Предполагаю, что места, расположенные рядом со станциями транспортных путей, имеют большую \"проходимость\", а также места, имеющие привлекательность, например, достопримечательности"
   ]
  },
  {
   "cell_type": "markdown",
   "metadata": {},
   "source": [
    "## Число улиц с одним объектом общепита"
   ]
  },
  {
   "cell_type": "markdown",
   "metadata": {},
   "source": [
    "Находим число улиц с одним объектом питания. Применяю группировку и срез"
   ]
  },
  {
   "cell_type": "code",
   "execution_count": 19,
   "metadata": {},
   "outputs": [
    {
     "data": {
      "text/html": [
       "<div>\n",
       "<style scoped>\n",
       "    .dataframe tbody tr th:only-of-type {\n",
       "        vertical-align: middle;\n",
       "    }\n",
       "\n",
       "    .dataframe tbody tr th {\n",
       "        vertical-align: top;\n",
       "    }\n",
       "\n",
       "    .dataframe thead th {\n",
       "        text-align: right;\n",
       "    }\n",
       "</style>\n",
       "<table border=\"1\" class=\"dataframe\">\n",
       "  <thead>\n",
       "    <tr style=\"text-align: right;\">\n",
       "      <th></th>\n",
       "      <th>0</th>\n",
       "    </tr>\n",
       "  </thead>\n",
       "  <tbody>\n",
       "    <tr>\n",
       "      <th>street</th>\n",
       "      <td>551</td>\n",
       "    </tr>\n",
       "    <tr>\n",
       "      <th>id</th>\n",
       "      <td>551</td>\n",
       "    </tr>\n",
       "  </tbody>\n",
       "</table>\n",
       "</div>"
      ],
      "text/plain": [
       "          0\n",
       "street  551\n",
       "id      551"
      ]
     },
     "execution_count": 19,
     "metadata": {},
     "output_type": "execute_result"
    }
   ],
   "source": [
    "one_at_street = rest_data.groupby('street')['id'].count().reset_index()\n",
    "one_at_street[one_at_street['id'] == 1].count().to_frame()"
   ]
  },
  {
   "cell_type": "markdown",
   "metadata": {},
   "source": [
    "Число таких улиц - 551. Довольно много. Посмотрю, какие это улицы"
   ]
  },
  {
   "cell_type": "code",
   "execution_count": 20,
   "metadata": {},
   "outputs": [
    {
     "data": {
      "text/plain": [
       "street                    id\n",
       "1-й Балтийский переулок   1     1\n",
       "Стрельбищенский переулок  1     1\n",
       "Старомарьинское шоссе     1     1\n",
       "Старомонетный переулок    1     1\n",
       "Староникольская улица     1     1\n",
       "                               ..\n",
       "Гольяновская улица        1     1\n",
       "Глинищевский переулок     1     1\n",
       "Глинистый переулок        1     1\n",
       "Глебовская улица          1     1\n",
       "шоссе Фрезер              1     1\n",
       "Length: 551, dtype: int64"
      ]
     },
     "execution_count": 20,
     "metadata": {},
     "output_type": "execute_result"
    }
   ],
   "source": [
    "one_at_street[one_at_street['id'] == 1].value_counts()"
   ]
  },
  {
   "cell_type": "markdown",
   "metadata": {},
   "source": [
    "Судя по карте, это чаще малые улочки, переулки, вдали от транспортных узлов и мест интереса. Скорее всего, проходимость там низкая."
   ]
  },
  {
   "cell_type": "markdown",
   "metadata": {},
   "source": [
    "Посмотрю эти улицы по районам. Объеденяю таблицы с указанием района. Так как улиц больше 500, делаю группировку по районам"
   ]
  },
  {
   "cell_type": "code",
   "execution_count": 21,
   "metadata": {
    "scrolled": true
   },
   "outputs": [
    {
     "data": {
      "text/html": [
       "<div>\n",
       "<style scoped>\n",
       "    .dataframe tbody tr th:only-of-type {\n",
       "        vertical-align: middle;\n",
       "    }\n",
       "\n",
       "    .dataframe tbody tr th {\n",
       "        vertical-align: top;\n",
       "    }\n",
       "\n",
       "    .dataframe thead th {\n",
       "        text-align: right;\n",
       "    }\n",
       "</style>\n",
       "<table border=\"1\" class=\"dataframe\">\n",
       "  <thead>\n",
       "    <tr style=\"text-align: right;\">\n",
       "      <th></th>\n",
       "      <th>id</th>\n",
       "    </tr>\n",
       "    <tr>\n",
       "      <th>area</th>\n",
       "      <th></th>\n",
       "    </tr>\n",
       "  </thead>\n",
       "  <tbody>\n",
       "    <tr>\n",
       "      <th>Таганский район</th>\n",
       "      <td>27</td>\n",
       "    </tr>\n",
       "    <tr>\n",
       "      <th>Район Хамовники</th>\n",
       "      <td>26</td>\n",
       "    </tr>\n",
       "    <tr>\n",
       "      <th>Басманный район</th>\n",
       "      <td>25</td>\n",
       "    </tr>\n",
       "    <tr>\n",
       "      <th>Тверской район</th>\n",
       "      <td>20</td>\n",
       "    </tr>\n",
       "    <tr>\n",
       "      <th>Пресненский район</th>\n",
       "      <td>19</td>\n",
       "    </tr>\n",
       "    <tr>\n",
       "      <th>Район Марьина роща</th>\n",
       "      <td>18</td>\n",
       "    </tr>\n",
       "    <tr>\n",
       "      <th>Мещанский район</th>\n",
       "      <td>17</td>\n",
       "    </tr>\n",
       "    <tr>\n",
       "      <th>Район Арбат</th>\n",
       "      <td>17</td>\n",
       "    </tr>\n",
       "    <tr>\n",
       "      <th>Район Замоскворечье</th>\n",
       "      <td>14</td>\n",
       "    </tr>\n",
       "    <tr>\n",
       "      <th>Район Лефортово</th>\n",
       "      <td>12</td>\n",
       "    </tr>\n",
       "  </tbody>\n",
       "</table>\n",
       "</div>"
      ],
      "text/plain": [
       "                     id\n",
       "area                   \n",
       "Таганский район      27\n",
       "Район Хамовники      26\n",
       "Басманный район      25\n",
       "Тверской район       20\n",
       "Пресненский район    19\n",
       "Район Марьина роща   18\n",
       "Мещанский район      17\n",
       "Район Арбат          17\n",
       "Район Замоскворечье  14\n",
       "Район Лефортово      12"
      ]
     },
     "execution_count": 21,
     "metadata": {},
     "output_type": "execute_result"
    }
   ],
   "source": [
    "one_at_street_merged = one_at_street[one_at_street['id'] == 1].merge(streets[['streetname','area']], left_on='street',right_on='streetname')\n",
    "one_at_street_merged.groupby('area')['id'].count().sort_values(ascending=False).head(10).to_frame()"
   ]
  },
  {
   "cell_type": "markdown",
   "metadata": {},
   "source": [
    "Итак, больше всего улочек с одним заведением в Таганском районе, на одну меньше в Хамовниках и еще на одну в Басманном. "
   ]
  },
  {
   "cell_type": "markdown",
   "metadata": {},
   "source": [
    "## Распределение количества посадочных мест для улиц с большим количеством объектов"
   ]
  },
  {
   "cell_type": "markdown",
   "metadata": {},
   "source": [
    "Объеденяю таблицы - присоеденю к десятке улиц с наибольшим количеством заведений сведения о количестве посадочных мест из изначальной таблицы"
   ]
  },
  {
   "cell_type": "code",
   "execution_count": 22,
   "metadata": {},
   "outputs": [
    {
     "data": {
      "text/html": [
       "<div>\n",
       "<style scoped>\n",
       "    .dataframe tbody tr th:only-of-type {\n",
       "        vertical-align: middle;\n",
       "    }\n",
       "\n",
       "    .dataframe tbody tr th {\n",
       "        vertical-align: top;\n",
       "    }\n",
       "\n",
       "    .dataframe thead th {\n",
       "        text-align: right;\n",
       "    }\n",
       "</style>\n",
       "<table border=\"1\" class=\"dataframe\">\n",
       "  <thead>\n",
       "    <tr style=\"text-align: right;\">\n",
       "      <th></th>\n",
       "      <th>street</th>\n",
       "      <th>id_x</th>\n",
       "      <th>id_y</th>\n",
       "      <th>object_name</th>\n",
       "      <th>chain</th>\n",
       "      <th>object_type</th>\n",
       "      <th>address</th>\n",
       "      <th>number</th>\n",
       "    </tr>\n",
       "  </thead>\n",
       "  <tbody>\n",
       "    <tr>\n",
       "      <th>0</th>\n",
       "      <td>проспект Мира</td>\n",
       "      <td>204</td>\n",
       "      <td>149899</td>\n",
       "      <td>Сухарева Башня</td>\n",
       "      <td>0</td>\n",
       "      <td>кафе</td>\n",
       "      <td>город Москва, проспект Мира, дом 5, корпус 1</td>\n",
       "      <td>10</td>\n",
       "    </tr>\n",
       "    <tr>\n",
       "      <th>1</th>\n",
       "      <td>проспект Мира</td>\n",
       "      <td>204</td>\n",
       "      <td>69300</td>\n",
       "      <td>Ваби-Саби</td>\n",
       "      <td>1</td>\n",
       "      <td>кафе</td>\n",
       "      <td>город Москва, проспект Мира, дом 29</td>\n",
       "      <td>64</td>\n",
       "    </tr>\n",
       "    <tr>\n",
       "      <th>2</th>\n",
       "      <td>проспект Мира</td>\n",
       "      <td>204</td>\n",
       "      <td>71378</td>\n",
       "      <td>Шоколадница</td>\n",
       "      <td>1</td>\n",
       "      <td>кафе</td>\n",
       "      <td>город Москва, проспект Мира, дом 29</td>\n",
       "      <td>40</td>\n",
       "    </tr>\n",
       "    <tr>\n",
       "      <th>3</th>\n",
       "      <td>проспект Мира</td>\n",
       "      <td>204</td>\n",
       "      <td>146123</td>\n",
       "      <td>Джаганнат</td>\n",
       "      <td>1</td>\n",
       "      <td>кафе</td>\n",
       "      <td>город Москва, проспект Мира, дом 31</td>\n",
       "      <td>25</td>\n",
       "    </tr>\n",
       "    <tr>\n",
       "      <th>4</th>\n",
       "      <td>проспект Мира</td>\n",
       "      <td>204</td>\n",
       "      <td>137644</td>\n",
       "      <td>Krispy Creme</td>\n",
       "      <td>1</td>\n",
       "      <td>кафе</td>\n",
       "      <td>город Москва, проспект Мира, дом 40</td>\n",
       "      <td>36</td>\n",
       "    </tr>\n",
       "  </tbody>\n",
       "</table>\n",
       "</div>"
      ],
      "text/plain": [
       "          street  id_x    id_y     object_name  chain object_type  \\\n",
       "0  проспект Мира   204  149899  Сухарева Башня      0        кафе   \n",
       "1  проспект Мира   204   69300       Ваби-Саби      1        кафе   \n",
       "2  проспект Мира   204   71378     Шоколадница      1        кафе   \n",
       "3  проспект Мира   204  146123       Джаганнат      1        кафе   \n",
       "4  проспект Мира   204  137644    Krispy Creme      1        кафе   \n",
       "\n",
       "                                        address  number  \n",
       "0  город Москва, проспект Мира, дом 5, корпус 1      10  \n",
       "1           город Москва, проспект Мира, дом 29      64  \n",
       "2           город Москва, проспект Мира, дом 29      40  \n",
       "3           город Москва, проспект Мира, дом 31      25  \n",
       "4           город Москва, проспект Мира, дом 40      36  "
      ]
     },
     "execution_count": 22,
     "metadata": {},
     "output_type": "execute_result"
    }
   ],
   "source": [
    "top_ten_seats = top_ten.merge(rest_data, on='street', how='left')\n",
    "top_ten_seats.head()"
   ]
  },
  {
   "cell_type": "markdown",
   "metadata": {},
   "source": [
    "Строю график распределения"
   ]
  },
  {
   "cell_type": "code",
   "execution_count": 23,
   "metadata": {},
   "outputs": [
    {
     "data": {
      "image/png": "[encoded data removed]",
      "text/plain": [
       "<Figure size 432x288 with 1 Axes>"
      ]
     },
     "metadata": {},
     "output_type": "display_data"
    }
   ],
   "source": [
    "ax = sns.boxplot(y='street', x='number', data=top_ten_seats)\n",
    "ax.set_title('Распределение количества посадочных мест')\n",
    "ax.set_ylabel('Улица', color='grey')\n",
    "ax.set_xlabel('Количество посадочных мест', color='grey')\n",
    "plt.xlim(0,300)\n",
    "plt.show()"
   ]
  },
  {
   "cell_type": "markdown",
   "metadata": {},
   "source": [
    "Анализируя график \"ящик с усами\" можно заметить скошенность наборов данных в этой десятке - медиана чаще меньше среднего. Среднее \"едет\" в ту сторону, где есть дополнительные значения. Значит там есть выбросы, заведения с большим количеством посадочных мест на Каширском шоссе, Кутузовском проспекте, Профсоюзной улице и других"
   ]
  },
  {
   "cell_type": "markdown",
   "metadata": {},
   "source": [
    "## Общий вывод по шагу 2"
   ]
  },
  {
   "cell_type": "markdown",
   "metadata": {},
   "source": [
    "Исследовательский анализ показал следующее:\n",
    "\n",
    "    - Среди объектов предприятий общественного питания наиболее часто встречается кафе, реже рестораны и предприятия быстрого обслуживания\n",
    "    - Количество несетевых заведений в пять раз превышает количество сетевых\n",
    "    - Принадлежность сети часто характерна ресторанам быстрого питания\n",
    "    - По количеству посадочных мест в среднем лидируют столовые (130) и рестораны(100). Кафе в среднем имеют 50 посадочных мест\n",
    "    - Улицы с наибольшим количеством заведений - те, что расположены рядом с транпортными узлами и вдоль транспортных путей,т.е. перемещения людей, их деловой активности, а также рядом с местами интереса - достопримечательностями, парками. \n",
    "    \n",
    "Рекомендации:\n",
    "- Предположу, что логичнее выбрать место, где можно организовать около 100 посадочных мест. Ресторанов в целом меньше, соответственно и конкуренция ниже. К тому же из-за довольно оригинальной специфики (роботы-официанты), нужна соответсвующая площадь. Для передвижений роботу нужна разметка, к примеру. В маленьком кафе идея может смотреться несоразмерно замыслу.\n",
    "- По расположению: возможно, один из переулков, улочек рядом с основными магистралями. Аренда так или иначе будет высокая, расположение лучше выбрать выгодное. Располагаться вдали от людных мест для такого проекта, не думаю, что имеет смысл\n",
    "- Конкуренция довольно высокая. Есть сетевые заведения с настроенной корпоративной политикой и отлаженным сервисом, есть рестораны быстрого питания, где скорость обслуживания высокая. Чтобы удержать посетителя, нужно что-то предложить помимо интересной особенности в обслуживании, возможно, оригинальное меню (Курица по-клингонски и тп) соответсвующее идее, также уютную обстановку.\n",
    "    "
   ]
  },
  {
   "cell_type": "markdown",
   "metadata": {},
   "source": [
    "# Презентация"
   ]
  },
  {
   "cell_type": "markdown",
   "metadata": {},
   "source": [
    "Презентация подготавливается для инвесторов. Инвесторов, как правило, интересует окупаемость (сроки, проценты) вложенных средств. Так как потенциально они вместе учредителями бизнеса идут на риск, им нужно убедиться, что бизнес-план был подготовлен соответственно (бизнес-план содержит анализ рынка), что учредители верно оценили ситуацию и приняли решение. Концепция ресторана, как правило, живет три года. Даже если бизнес успешен, все равно нужно производить обновление бизнеса. Более точные расчеты, предполагаю, произведут маркетологи. Своей презентацией я постараюсь убедить, что мы с партнерами изучали рынок и подготовили отчет"
   ]
  },
  {
   "cell_type": "markdown",
   "metadata": {},
   "source": [
    "Сама по себе идея заведения общественного питания с роботами не новая. Изучив внешние источники, можно сказать, что подобные заведения уже открылись по всему миру: к примеру в Китае есть ресторан с метной кухней, где робот развозит мясо и овощи, которые гости добавляют в свой бульон, на круизных лайнерах и не только есть кафе с поваром-роботом, который может приготовить пиццу или робот-бариста. В Москве сеть Шоколадница запускала роботов-официантов, а ресторан быстрого питания KFC запустил объект полностью автоматизированный: заказы и оплату принимают терминалы, а заказ на кухне собирает автоматизированная рука. Это было призвано в том числе, чтобы предложить пользователяи более гигиентичный сервис. Таким образом, для мира вообще и для Москвы в частности использование роботов в общепите не новость. Однако проект дорогой, один робот стоит тысячи долларов, а функионал имеет относительно слабый. Тем не менее одно только наличие их может привлечь посетителей и удерживать их, так как в настоящее время таких точек мало."
   ]
  },
  {
   "cell_type": "markdown",
   "metadata": {},
   "source": [
    "Презентация: <https://drive.google.com/file/d/1KrGUx-5hGkw1r8Jo7rhjAhfDSKFbYcNR/view?usp=sharing>"
   ]
  }
 ],
 "metadata": {
  "ExecuteTimeLog": [
   {
    "duration": 1936,
    "start_time": "2022-04-28T07:28:51.048Z"
   },
   {
    "duration": 87,
    "start_time": "2022-04-28T07:32:07.715Z"
   },
   {
    "duration": 114,
    "start_time": "2022-04-28T07:37:10.229Z"
   },
   {
    "duration": 99,
    "start_time": "2022-04-28T07:37:24.374Z"
   },
   {
    "duration": 43,
    "start_time": "2022-04-28T07:49:10.791Z"
   },
   {
    "duration": 10,
    "start_time": "2022-04-28T10:23:59.288Z"
   },
   {
    "duration": 6,
    "start_time": "2022-04-28T10:25:02.954Z"
   },
   {
    "duration": 9,
    "start_time": "2022-04-28T10:25:51.462Z"
   },
   {
    "duration": 694,
    "start_time": "2022-04-28T10:38:06.583Z"
   },
   {
    "duration": 164,
    "start_time": "2022-04-28T10:38:31.569Z"
   },
   {
    "duration": 660,
    "start_time": "2022-04-28T10:39:01.347Z"
   },
   {
    "duration": 23,
    "start_time": "2022-04-28T10:46:06.277Z"
   },
   {
    "duration": 3,
    "start_time": "2022-04-28T10:47:24.145Z"
   },
   {
    "duration": 104,
    "start_time": "2022-04-28T10:47:24.151Z"
   },
   {
    "duration": 42,
    "start_time": "2022-04-28T10:47:24.257Z"
   },
   {
    "duration": 10,
    "start_time": "2022-04-28T10:47:24.301Z"
   },
   {
    "duration": 309,
    "start_time": "2022-04-28T10:47:24.315Z"
   },
   {
    "duration": 678,
    "start_time": "2022-04-28T10:47:24.626Z"
   },
   {
    "duration": 32,
    "start_time": "2022-04-28T10:48:28.128Z"
   },
   {
    "duration": 283,
    "start_time": "2022-04-28T10:48:49.602Z"
   },
   {
    "duration": 131,
    "start_time": "2022-04-28T10:49:11.512Z"
   },
   {
    "duration": 25,
    "start_time": "2022-04-28T10:49:33.082Z"
   },
   {
    "duration": 20,
    "start_time": "2022-04-28T10:49:50.649Z"
   },
   {
    "duration": 275,
    "start_time": "2022-04-28T10:51:47.723Z"
   },
   {
    "duration": 262,
    "start_time": "2022-04-28T10:52:46.020Z"
   },
   {
    "duration": 477,
    "start_time": "2022-04-28T10:53:52.249Z"
   },
   {
    "duration": 265,
    "start_time": "2022-04-28T10:54:54.696Z"
   },
   {
    "duration": 14,
    "start_time": "2022-04-28T10:56:26.569Z"
   },
   {
    "duration": 19,
    "start_time": "2022-04-28T10:56:35.183Z"
   },
   {
    "duration": 27,
    "start_time": "2022-04-28T10:57:23.803Z"
   },
   {
    "duration": 19,
    "start_time": "2022-04-28T10:57:46.042Z"
   },
   {
    "duration": 25,
    "start_time": "2022-04-28T10:58:01.453Z"
   },
   {
    "duration": 21,
    "start_time": "2022-04-28T10:59:02.513Z"
   },
   {
    "duration": 24,
    "start_time": "2022-04-28T10:59:26.252Z"
   },
   {
    "duration": 42,
    "start_time": "2022-04-28T10:59:57.744Z"
   },
   {
    "duration": 265,
    "start_time": "2022-04-28T11:00:14.820Z"
   },
   {
    "duration": 23,
    "start_time": "2022-04-28T11:00:34.631Z"
   },
   {
    "duration": 17,
    "start_time": "2022-04-28T11:02:05.861Z"
   },
   {
    "duration": 21,
    "start_time": "2022-04-28T11:02:21.001Z"
   },
   {
    "duration": 271,
    "start_time": "2022-04-28T11:03:00.202Z"
   },
   {
    "duration": 248,
    "start_time": "2022-04-28T11:03:15.958Z"
   },
   {
    "duration": 261,
    "start_time": "2022-04-28T11:04:39.175Z"
   },
   {
    "duration": 261,
    "start_time": "2022-04-28T11:11:49.650Z"
   },
   {
    "duration": 21,
    "start_time": "2022-04-28T11:12:12.847Z"
   },
   {
    "duration": 256,
    "start_time": "2022-04-28T11:12:20.797Z"
   },
   {
    "duration": 264,
    "start_time": "2022-04-28T11:17:30.342Z"
   },
   {
    "duration": 272,
    "start_time": "2022-04-28T11:18:29.602Z"
   },
   {
    "duration": 272,
    "start_time": "2022-04-28T11:19:49.614Z"
   },
   {
    "duration": 285,
    "start_time": "2022-04-28T11:21:53.687Z"
   },
   {
    "duration": 272,
    "start_time": "2022-04-28T11:22:32.855Z"
   },
   {
    "duration": 363,
    "start_time": "2022-04-28T11:22:47.120Z"
   },
   {
    "duration": 373,
    "start_time": "2022-04-28T11:26:03.386Z"
   },
   {
    "duration": 318,
    "start_time": "2022-04-28T11:26:21.525Z"
   },
   {
    "duration": 333,
    "start_time": "2022-04-28T11:26:32.190Z"
   },
   {
    "duration": 335,
    "start_time": "2022-04-28T11:35:51.958Z"
   },
   {
    "duration": 11,
    "start_time": "2022-04-28T11:41:36.324Z"
   },
   {
    "duration": 1926,
    "start_time": "2022-04-28T11:42:54.592Z"
   },
   {
    "duration": 1945,
    "start_time": "2022-04-28T11:45:41.395Z"
   },
   {
    "duration": 1917,
    "start_time": "2022-04-28T11:49:00.967Z"
   },
   {
    "duration": 2116,
    "start_time": "2022-04-28T11:49:41.111Z"
   },
   {
    "duration": 2011,
    "start_time": "2022-04-28T11:50:08.624Z"
   },
   {
    "duration": 1918,
    "start_time": "2022-04-28T11:50:17.992Z"
   },
   {
    "duration": 2126,
    "start_time": "2022-04-28T11:51:35.765Z"
   },
   {
    "duration": 2357,
    "start_time": "2022-04-28T11:53:08.206Z"
   },
   {
    "duration": 4392,
    "start_time": "2022-04-28T11:53:37.113Z"
   },
   {
    "duration": 2012,
    "start_time": "2022-04-28T11:57:04.765Z"
   },
   {
    "duration": 48,
    "start_time": "2022-04-28T13:28:42.922Z"
   },
   {
    "duration": 1359,
    "start_time": "2022-04-28T13:28:49.766Z"
   },
   {
    "duration": 313,
    "start_time": "2022-04-28T13:28:51.127Z"
   },
   {
    "duration": 28,
    "start_time": "2022-04-28T13:28:51.443Z"
   },
   {
    "duration": 9,
    "start_time": "2022-04-28T13:28:51.474Z"
   },
   {
    "duration": 216,
    "start_time": "2022-04-28T13:28:51.485Z"
   },
   {
    "duration": 1283,
    "start_time": "2022-04-28T13:28:51.702Z"
   },
   {
    "duration": 1311,
    "start_time": "2022-04-28T13:29:08.708Z"
   },
   {
    "duration": 236,
    "start_time": "2022-04-28T13:29:57.398Z"
   },
   {
    "duration": 1624,
    "start_time": "2022-04-28T13:34:29.109Z"
   },
   {
    "duration": 2106,
    "start_time": "2022-04-28T13:35:16.482Z"
   },
   {
    "duration": 1665,
    "start_time": "2022-04-28T13:37:40.477Z"
   },
   {
    "duration": 3,
    "start_time": "2022-04-28T13:54:13.129Z"
   },
   {
    "duration": 304,
    "start_time": "2022-04-28T13:54:13.134Z"
   },
   {
    "duration": 20,
    "start_time": "2022-04-28T13:54:13.440Z"
   },
   {
    "duration": 7,
    "start_time": "2022-04-28T13:54:13.462Z"
   },
   {
    "duration": 235,
    "start_time": "2022-04-28T13:54:13.471Z"
   },
   {
    "duration": 1614,
    "start_time": "2022-04-28T13:54:13.708Z"
   },
   {
    "duration": 1717,
    "start_time": "2022-04-28T13:54:15.324Z"
   },
   {
    "duration": 140,
    "start_time": "2022-04-28T13:54:17.042Z"
   },
   {
    "duration": 17,
    "start_time": "2022-04-28T14:04:41.291Z"
   },
   {
    "duration": 6,
    "start_time": "2022-04-28T14:06:25.243Z"
   },
   {
    "duration": 233,
    "start_time": "2022-04-28T14:12:38.782Z"
   },
   {
    "duration": 143,
    "start_time": "2022-04-28T14:13:57.915Z"
   },
   {
    "duration": 178,
    "start_time": "2022-04-28T14:14:29.833Z"
   },
   {
    "duration": 186,
    "start_time": "2022-04-28T14:21:26.158Z"
   },
   {
    "duration": 222,
    "start_time": "2022-04-28T14:22:27.285Z"
   },
   {
    "duration": 214,
    "start_time": "2022-04-28T14:23:07.258Z"
   },
   {
    "duration": 221,
    "start_time": "2022-04-28T14:24:00.165Z"
   },
   {
    "duration": 184,
    "start_time": "2022-04-28T14:26:10.781Z"
   },
   {
    "duration": 8,
    "start_time": "2022-04-28T14:33:07.613Z"
   },
   {
    "duration": 11,
    "start_time": "2022-04-28T14:35:12.860Z"
   },
   {
    "duration": 8,
    "start_time": "2022-04-28T14:35:23.381Z"
   },
   {
    "duration": 7,
    "start_time": "2022-04-28T14:35:42.644Z"
   },
   {
    "duration": 12,
    "start_time": "2022-04-28T14:41:49.848Z"
   },
   {
    "duration": 436,
    "start_time": "2022-04-28T14:42:10.070Z"
   },
   {
    "duration": 423,
    "start_time": "2022-04-28T14:44:51.286Z"
   },
   {
    "duration": 12,
    "start_time": "2022-04-28T14:59:45.027Z"
   },
   {
    "duration": 156,
    "start_time": "2022-04-28T15:00:38.096Z"
   },
   {
    "duration": 91,
    "start_time": "2022-04-28T15:00:49.715Z"
   },
   {
    "duration": 2,
    "start_time": "2022-04-28T15:06:44.987Z"
   },
   {
    "duration": 82,
    "start_time": "2022-04-28T15:06:44.991Z"
   },
   {
    "duration": 19,
    "start_time": "2022-04-28T15:06:45.075Z"
   },
   {
    "duration": 7,
    "start_time": "2022-04-28T15:06:45.096Z"
   },
   {
    "duration": 212,
    "start_time": "2022-04-28T15:06:45.104Z"
   },
   {
    "duration": 1489,
    "start_time": "2022-04-28T15:06:45.322Z"
   },
   {
    "duration": 1641,
    "start_time": "2022-04-28T15:06:46.813Z"
   },
   {
    "duration": 7,
    "start_time": "2022-04-28T15:06:48.455Z"
   },
   {
    "duration": 199,
    "start_time": "2022-04-28T15:06:48.464Z"
   },
   {
    "duration": 8,
    "start_time": "2022-04-28T15:06:48.665Z"
   },
   {
    "duration": 448,
    "start_time": "2022-04-28T15:06:48.674Z"
   },
   {
    "duration": 86,
    "start_time": "2022-04-28T15:06:49.124Z"
   },
   {
    "duration": 50175,
    "start_time": "2022-04-28T15:06:49.212Z"
   },
   {
    "duration": 132,
    "start_time": "2022-04-28T18:27:10.985Z"
   },
   {
    "duration": 1874,
    "start_time": "2022-04-28T18:27:15.797Z"
   },
   {
    "duration": 106,
    "start_time": "2022-04-28T18:27:17.674Z"
   },
   {
    "duration": 47,
    "start_time": "2022-04-28T18:27:17.782Z"
   },
   {
    "duration": 16,
    "start_time": "2022-04-28T18:27:17.832Z"
   },
   {
    "duration": 377,
    "start_time": "2022-04-28T18:27:17.850Z"
   },
   {
    "duration": 2112,
    "start_time": "2022-04-28T18:27:18.230Z"
   },
   {
    "duration": 3411,
    "start_time": "2022-04-28T18:27:20.344Z"
   },
   {
    "duration": 9,
    "start_time": "2022-04-28T18:27:23.757Z"
   },
   {
    "duration": 397,
    "start_time": "2022-04-28T18:27:23.768Z"
   },
   {
    "duration": 12,
    "start_time": "2022-04-28T18:27:24.169Z"
   },
   {
    "duration": 870,
    "start_time": "2022-04-28T18:27:24.183Z"
   },
   {
    "duration": 186,
    "start_time": "2022-04-28T18:27:25.055Z"
   },
   {
    "duration": 20,
    "start_time": "2022-04-28T18:27:25.244Z"
   },
   {
    "duration": 18,
    "start_time": "2022-04-28T18:28:02.289Z"
   },
   {
    "duration": 18,
    "start_time": "2022-04-28T18:29:08.880Z"
   },
   {
    "duration": 106,
    "start_time": "2022-04-28T18:33:49.238Z"
   },
   {
    "duration": 13,
    "start_time": "2022-04-28T18:33:58.735Z"
   },
   {
    "duration": 19,
    "start_time": "2022-04-28T18:34:14.785Z"
   },
   {
    "duration": 398,
    "start_time": "2022-04-28T18:34:19.486Z"
   },
   {
    "duration": 19,
    "start_time": "2022-04-28T18:56:02.149Z"
   },
   {
    "duration": 27,
    "start_time": "2022-04-28T18:56:09.706Z"
   },
   {
    "duration": 20,
    "start_time": "2022-04-28T18:56:17.785Z"
   },
   {
    "duration": 22,
    "start_time": "2022-04-28T18:57:04.066Z"
   },
   {
    "duration": 21,
    "start_time": "2022-04-28T18:57:13.682Z"
   },
   {
    "duration": 21,
    "start_time": "2022-04-28T18:57:24.934Z"
   },
   {
    "duration": 19,
    "start_time": "2022-04-28T18:58:57.453Z"
   },
   {
    "duration": 17,
    "start_time": "2022-04-28T18:59:07.904Z"
   },
   {
    "duration": 16,
    "start_time": "2022-04-28T18:59:13.138Z"
   },
   {
    "duration": 15,
    "start_time": "2022-04-28T18:59:19.672Z"
   },
   {
    "duration": 22,
    "start_time": "2022-04-28T19:00:05.796Z"
   },
   {
    "duration": 19,
    "start_time": "2022-04-28T19:00:41.913Z"
   },
   {
    "duration": 23,
    "start_time": "2022-04-28T19:01:04.757Z"
   },
   {
    "duration": 21,
    "start_time": "2022-04-28T19:01:43.229Z"
   },
   {
    "duration": 22,
    "start_time": "2022-04-28T19:01:49.378Z"
   },
   {
    "duration": 19,
    "start_time": "2022-04-28T19:02:17.605Z"
   },
   {
    "duration": 31,
    "start_time": "2022-04-28T19:02:28.507Z"
   },
   {
    "duration": 24,
    "start_time": "2022-04-28T19:03:09.618Z"
   },
   {
    "duration": 25,
    "start_time": "2022-04-28T19:05:35.124Z"
   },
   {
    "duration": 117,
    "start_time": "2022-04-28T19:05:48.900Z"
   },
   {
    "duration": 26,
    "start_time": "2022-04-28T19:05:56.520Z"
   },
   {
    "duration": 19,
    "start_time": "2022-04-28T19:06:04.900Z"
   },
   {
    "duration": 102,
    "start_time": "2022-04-28T19:08:09.842Z"
   },
   {
    "duration": 18,
    "start_time": "2022-04-28T19:08:14.236Z"
   },
   {
    "duration": 17,
    "start_time": "2022-04-28T19:08:38.866Z"
   },
   {
    "duration": 13,
    "start_time": "2022-04-28T19:09:14.192Z"
   },
   {
    "duration": 18,
    "start_time": "2022-04-28T19:09:33.114Z"
   },
   {
    "duration": 15,
    "start_time": "2022-04-28T19:18:34.778Z"
   },
   {
    "duration": 17,
    "start_time": "2022-04-28T19:22:17.738Z"
   },
   {
    "duration": 34,
    "start_time": "2022-04-28T19:24:43.942Z"
   },
   {
    "duration": 34,
    "start_time": "2022-04-28T19:27:44.314Z"
   },
   {
    "duration": 35,
    "start_time": "2022-04-28T19:31:36.251Z"
   },
   {
    "duration": 532,
    "start_time": "2022-04-28T19:31:53.771Z"
   },
   {
    "duration": 458,
    "start_time": "2022-04-28T19:33:16.404Z"
   },
   {
    "duration": 453,
    "start_time": "2022-04-28T19:33:55.380Z"
   },
   {
    "duration": 462,
    "start_time": "2022-04-28T19:34:10.706Z"
   },
   {
    "duration": 455,
    "start_time": "2022-04-28T19:34:55.250Z"
   },
   {
    "duration": 462,
    "start_time": "2022-04-28T19:35:12.338Z"
   },
   {
    "duration": 34,
    "start_time": "2022-04-28T19:46:14.283Z"
   },
   {
    "duration": 73,
    "start_time": "2022-04-29T07:54:49.060Z"
   },
   {
    "duration": 1782,
    "start_time": "2022-04-29T07:54:54.228Z"
   },
   {
    "duration": 96,
    "start_time": "2022-04-29T07:54:56.014Z"
   },
   {
    "duration": 26,
    "start_time": "2022-04-29T07:54:56.112Z"
   },
   {
    "duration": 40,
    "start_time": "2022-04-29T07:54:56.141Z"
   },
   {
    "duration": 347,
    "start_time": "2022-04-29T07:54:56.185Z"
   },
   {
    "duration": 2038,
    "start_time": "2022-04-29T07:54:56.535Z"
   },
   {
    "duration": 2590,
    "start_time": "2022-04-29T07:54:58.575Z"
   },
   {
    "duration": 16,
    "start_time": "2022-04-29T07:55:01.168Z"
   },
   {
    "duration": 375,
    "start_time": "2022-04-29T07:55:01.187Z"
   },
   {
    "duration": 11,
    "start_time": "2022-04-29T07:55:01.565Z"
   },
   {
    "duration": 897,
    "start_time": "2022-04-29T07:55:01.579Z"
   },
   {
    "duration": 154,
    "start_time": "2022-04-29T07:55:02.482Z"
   },
   {
    "duration": 21,
    "start_time": "2022-04-29T07:55:02.638Z"
   },
   {
    "duration": 398,
    "start_time": "2022-04-29T07:55:02.662Z"
   },
   {
    "duration": 28,
    "start_time": "2022-04-29T07:55:03.062Z"
   },
   {
    "duration": 14,
    "start_time": "2022-04-29T07:55:03.093Z"
   },
   {
    "duration": 26,
    "start_time": "2022-04-29T07:55:03.110Z"
   },
   {
    "duration": 543,
    "start_time": "2022-04-29T07:55:03.138Z"
   },
   {
    "duration": 2109,
    "start_time": "2022-04-29T07:55:12.911Z"
   },
   {
    "duration": 4,
    "start_time": "2022-04-29T09:57:43.846Z"
   },
   {
    "duration": 96,
    "start_time": "2022-04-29T09:57:43.853Z"
   },
   {
    "duration": 46,
    "start_time": "2022-04-29T09:57:43.951Z"
   },
   {
    "duration": 9,
    "start_time": "2022-04-29T09:57:44.000Z"
   },
   {
    "duration": 375,
    "start_time": "2022-04-29T09:57:44.011Z"
   },
   {
    "duration": 2061,
    "start_time": "2022-04-29T09:57:44.389Z"
   },
   {
    "duration": 2606,
    "start_time": "2022-04-29T09:57:46.453Z"
   },
   {
    "duration": 20,
    "start_time": "2022-04-29T09:57:49.062Z"
   },
   {
    "duration": 339,
    "start_time": "2022-04-29T09:57:49.085Z"
   },
   {
    "duration": 11,
    "start_time": "2022-04-29T09:57:49.426Z"
   },
   {
    "duration": 832,
    "start_time": "2022-04-29T09:57:49.439Z"
   },
   {
    "duration": 157,
    "start_time": "2022-04-29T09:57:50.273Z"
   },
   {
    "duration": 18,
    "start_time": "2022-04-29T09:57:50.432Z"
   },
   {
    "duration": 410,
    "start_time": "2022-04-29T09:57:50.453Z"
   },
   {
    "duration": 28,
    "start_time": "2022-04-29T09:57:50.865Z"
   },
   {
    "duration": 14,
    "start_time": "2022-04-29T09:57:50.895Z"
   },
   {
    "duration": 26,
    "start_time": "2022-04-29T09:57:50.911Z"
   },
   {
    "duration": 549,
    "start_time": "2022-04-29T09:57:50.939Z"
   },
   {
    "duration": 359,
    "start_time": "2022-04-29T09:58:38.032Z"
   },
   {
    "duration": 350,
    "start_time": "2022-04-29T09:58:49.108Z"
   },
   {
    "duration": 369,
    "start_time": "2022-04-29T09:59:03.187Z"
   },
   {
    "duration": 350,
    "start_time": "2022-04-29T09:59:21.267Z"
   },
   {
    "duration": 362,
    "start_time": "2022-04-29T09:59:34.548Z"
   },
   {
    "duration": 347,
    "start_time": "2022-04-29T10:04:18.086Z"
   },
   {
    "duration": 346,
    "start_time": "2022-04-29T10:04:31.505Z"
   },
   {
    "duration": 352,
    "start_time": "2022-04-29T10:04:40.517Z"
   },
   {
    "duration": 114,
    "start_time": "2022-04-29T10:04:48.464Z"
   },
   {
    "duration": 348,
    "start_time": "2022-04-29T10:04:54.705Z"
   },
   {
    "duration": 5,
    "start_time": "2022-04-29T10:05:06.883Z"
   },
   {
    "duration": 136,
    "start_time": "2022-04-29T10:05:06.891Z"
   },
   {
    "duration": 25,
    "start_time": "2022-04-29T10:05:07.030Z"
   },
   {
    "duration": 30,
    "start_time": "2022-04-29T10:05:07.057Z"
   },
   {
    "duration": 449,
    "start_time": "2022-04-29T10:05:07.090Z"
   },
   {
    "duration": 1902,
    "start_time": "2022-04-29T10:05:07.542Z"
   },
   {
    "duration": 2460,
    "start_time": "2022-04-29T10:05:09.447Z"
   },
   {
    "duration": 9,
    "start_time": "2022-04-29T10:05:11.909Z"
   },
   {
    "duration": 348,
    "start_time": "2022-04-29T10:05:11.921Z"
   },
   {
    "duration": 17,
    "start_time": "2022-04-29T10:05:12.271Z"
   },
   {
    "duration": 810,
    "start_time": "2022-04-29T10:05:12.292Z"
   },
   {
    "duration": 150,
    "start_time": "2022-04-29T10:05:13.104Z"
   },
   {
    "duration": 31,
    "start_time": "2022-04-29T10:05:13.256Z"
   },
   {
    "duration": 380,
    "start_time": "2022-04-29T10:05:13.289Z"
   },
   {
    "duration": 28,
    "start_time": "2022-04-29T10:05:13.671Z"
   },
   {
    "duration": 15,
    "start_time": "2022-04-29T10:05:13.701Z"
   },
   {
    "duration": 25,
    "start_time": "2022-04-29T10:05:13.718Z"
   },
   {
    "duration": 462,
    "start_time": "2022-04-29T10:05:13.745Z"
   },
   {
    "duration": 348,
    "start_time": "2022-04-29T10:06:03.425Z"
   },
   {
    "duration": 430,
    "start_time": "2022-04-29T10:06:14.305Z"
   },
   {
    "duration": 345,
    "start_time": "2022-04-29T10:06:22.792Z"
   },
   {
    "duration": 522,
    "start_time": "2022-04-29T10:06:56.234Z"
   },
   {
    "duration": 522,
    "start_time": "2022-04-29T10:07:03.913Z"
   },
   {
    "duration": 529,
    "start_time": "2022-04-29T10:07:22.068Z"
   },
   {
    "duration": 517,
    "start_time": "2022-04-29T10:07:33.954Z"
   },
   {
    "duration": 535,
    "start_time": "2022-04-29T10:07:42.574Z"
   },
   {
    "duration": 4,
    "start_time": "2022-04-29T10:08:03.871Z"
   },
   {
    "duration": 93,
    "start_time": "2022-04-29T10:08:03.877Z"
   },
   {
    "duration": 26,
    "start_time": "2022-04-29T10:08:03.973Z"
   },
   {
    "duration": 9,
    "start_time": "2022-04-29T10:08:04.001Z"
   },
   {
    "duration": 381,
    "start_time": "2022-04-29T10:08:04.013Z"
   },
   {
    "duration": 1960,
    "start_time": "2022-04-29T10:08:04.396Z"
   },
   {
    "duration": 2464,
    "start_time": "2022-04-29T10:08:06.359Z"
   },
   {
    "duration": 8,
    "start_time": "2022-04-29T10:08:08.825Z"
   },
   {
    "duration": 346,
    "start_time": "2022-04-29T10:08:08.835Z"
   },
   {
    "duration": 10,
    "start_time": "2022-04-29T10:08:09.184Z"
   },
   {
    "duration": 898,
    "start_time": "2022-04-29T10:08:09.198Z"
   },
   {
    "duration": 153,
    "start_time": "2022-04-29T10:08:10.099Z"
   },
   {
    "duration": 33,
    "start_time": "2022-04-29T10:08:10.255Z"
   },
   {
    "duration": 495,
    "start_time": "2022-04-29T10:08:10.291Z"
   },
   {
    "duration": 27,
    "start_time": "2022-04-29T10:08:10.789Z"
   },
   {
    "duration": 20,
    "start_time": "2022-04-29T10:08:10.819Z"
   },
   {
    "duration": 69,
    "start_time": "2022-04-29T10:08:10.842Z"
   },
   {
    "duration": 672,
    "start_time": "2022-04-29T10:08:10.913Z"
   },
   {
    "duration": 5587,
    "start_time": "2022-04-30T08:53:00.558Z"
   },
   {
    "duration": 177,
    "start_time": "2022-04-30T08:53:06.147Z"
   },
   {
    "duration": 27,
    "start_time": "2022-04-30T08:53:06.325Z"
   },
   {
    "duration": 10,
    "start_time": "2022-04-30T08:53:06.353Z"
   },
   {
    "duration": 258,
    "start_time": "2022-04-30T08:53:06.366Z"
   },
   {
    "duration": 2799,
    "start_time": "2022-04-30T08:53:06.626Z"
   },
   {
    "duration": 3593,
    "start_time": "2022-04-30T08:53:09.427Z"
   },
   {
    "duration": 8,
    "start_time": "2022-04-30T08:53:13.023Z"
   },
   {
    "duration": 226,
    "start_time": "2022-04-30T08:53:13.033Z"
   },
   {
    "duration": 9,
    "start_time": "2022-04-30T08:53:13.261Z"
   },
   {
    "duration": 461,
    "start_time": "2022-04-30T08:53:13.272Z"
   },
   {
    "duration": 101,
    "start_time": "2022-04-30T08:53:13.735Z"
   },
   {
    "duration": 16,
    "start_time": "2022-04-30T08:53:13.837Z"
   },
   {
    "duration": 377,
    "start_time": "2022-04-30T08:53:13.856Z"
   },
   {
    "duration": 14,
    "start_time": "2022-04-30T08:53:14.235Z"
   },
   {
    "duration": 73,
    "start_time": "2022-04-30T08:53:14.250Z"
   },
   {
    "duration": 20,
    "start_time": "2022-04-30T08:53:14.324Z"
   },
   {
    "duration": 1204,
    "start_time": "2022-04-30T08:53:14.346Z"
   },
   {
    "duration": 102,
    "start_time": "2022-04-30T09:02:09.810Z"
   },
   {
    "duration": 10,
    "start_time": "2022-04-30T09:02:17.613Z"
   },
   {
    "duration": 208,
    "start_time": "2022-04-30T09:02:24.688Z"
   },
   {
    "duration": 1814,
    "start_time": "2022-04-30T09:02:29.442Z"
   },
   {
    "duration": 47,
    "start_time": "2022-04-30T18:22:47.315Z"
   },
   {
    "duration": 1354,
    "start_time": "2022-04-30T18:22:57.427Z"
   },
   {
    "duration": 72,
    "start_time": "2022-04-30T18:22:58.784Z"
   },
   {
    "duration": 19,
    "start_time": "2022-04-30T18:22:58.858Z"
   },
   {
    "duration": 7,
    "start_time": "2022-04-30T18:22:58.892Z"
   },
   {
    "duration": 196,
    "start_time": "2022-04-30T18:22:58.901Z"
   },
   {
    "duration": 203,
    "start_time": "2022-04-30T18:22:59.099Z"
   },
   {
    "duration": 1606,
    "start_time": "2022-04-30T18:22:59.303Z"
   },
   {
    "duration": 7,
    "start_time": "2022-04-30T18:23:00.910Z"
   },
   {
    "duration": 227,
    "start_time": "2022-04-30T18:23:00.918Z"
   },
   {
    "duration": 10,
    "start_time": "2022-04-30T18:23:01.148Z"
   },
   {
    "duration": 436,
    "start_time": "2022-04-30T18:23:01.159Z"
   },
   {
    "duration": 100,
    "start_time": "2022-04-30T18:23:01.597Z"
   },
   {
    "duration": 14,
    "start_time": "2022-04-30T18:23:01.698Z"
   },
   {
    "duration": 234,
    "start_time": "2022-04-30T18:23:01.714Z"
   },
   {
    "duration": 14,
    "start_time": "2022-04-30T18:23:01.950Z"
   },
   {
    "duration": 13,
    "start_time": "2022-04-30T18:23:01.966Z"
   },
   {
    "duration": 21,
    "start_time": "2022-04-30T18:23:01.992Z"
   },
   {
    "duration": 323,
    "start_time": "2022-04-30T18:23:02.014Z"
   },
   {
    "duration": 193,
    "start_time": "2022-04-30T18:23:35.934Z"
   },
   {
    "duration": 462,
    "start_time": "2022-04-30T18:28:14.426Z"
   },
   {
    "duration": 4,
    "start_time": "2022-04-30T18:30:59.921Z"
   },
   {
    "duration": 16,
    "start_time": "2022-04-30T18:39:18.375Z"
   },
   {
    "duration": 16,
    "start_time": "2022-04-30T18:40:12.360Z"
   },
   {
    "duration": 16,
    "start_time": "2022-04-30T18:40:48.672Z"
   },
   {
    "duration": 126,
    "start_time": "2022-04-30T18:47:07.237Z"
   },
   {
    "duration": 19,
    "start_time": "2022-04-30T18:47:13.449Z"
   },
   {
    "duration": 16,
    "start_time": "2022-04-30T18:48:02.889Z"
   },
   {
    "duration": 15,
    "start_time": "2022-04-30T18:48:08.909Z"
   },
   {
    "duration": 4,
    "start_time": "2022-04-30T18:48:23.398Z"
   },
   {
    "duration": 65,
    "start_time": "2022-04-30T18:48:23.413Z"
   },
   {
    "duration": 26,
    "start_time": "2022-04-30T18:48:23.480Z"
   },
   {
    "duration": 8,
    "start_time": "2022-04-30T18:48:23.509Z"
   },
   {
    "duration": 225,
    "start_time": "2022-04-30T18:48:23.519Z"
   },
   {
    "duration": 331,
    "start_time": "2022-04-30T18:48:23.918Z"
   },
   {
    "duration": 19,
    "start_time": "2022-04-30T18:48:24.358Z"
   },
   {
    "duration": 812,
    "start_time": "2022-04-30T18:48:24.379Z"
   },
   {
    "duration": 8,
    "start_time": "2022-04-30T18:48:25.193Z"
   },
   {
    "duration": 311,
    "start_time": "2022-04-30T18:48:25.204Z"
   },
   {
    "duration": 10,
    "start_time": "2022-04-30T18:48:25.518Z"
   },
   {
    "duration": 771,
    "start_time": "2022-04-30T18:48:25.530Z"
   },
   {
    "duration": 102,
    "start_time": "2022-04-30T18:48:26.304Z"
   },
   {
    "duration": 13,
    "start_time": "2022-04-30T18:48:26.408Z"
   },
   {
    "duration": 229,
    "start_time": "2022-04-30T18:48:26.423Z"
   },
   {
    "duration": 15,
    "start_time": "2022-04-30T18:48:26.653Z"
   },
   {
    "duration": 27,
    "start_time": "2022-04-30T18:48:26.669Z"
   },
   {
    "duration": 18,
    "start_time": "2022-04-30T18:48:26.697Z"
   },
   {
    "duration": 342,
    "start_time": "2022-04-30T18:48:26.716Z"
   },
   {
    "duration": 19,
    "start_time": "2022-04-30T18:48:59.598Z"
   },
   {
    "duration": 27,
    "start_time": "2022-04-30T18:51:20.612Z"
   },
   {
    "duration": 87,
    "start_time": "2022-04-30T18:51:59.926Z"
   },
   {
    "duration": 26,
    "start_time": "2022-04-30T18:52:08.720Z"
   },
   {
    "duration": 26,
    "start_time": "2022-04-30T18:52:15.874Z"
   },
   {
    "duration": 28,
    "start_time": "2022-04-30T18:52:33.049Z"
   },
   {
    "duration": 21,
    "start_time": "2022-04-30T18:52:39.105Z"
   },
   {
    "duration": 26,
    "start_time": "2022-04-30T18:52:54.037Z"
   },
   {
    "duration": 28,
    "start_time": "2022-04-30T18:53:21.494Z"
   },
   {
    "duration": 28,
    "start_time": "2022-04-30T18:53:38.582Z"
   },
   {
    "duration": 27,
    "start_time": "2022-04-30T19:03:06.281Z"
   },
   {
    "duration": 30,
    "start_time": "2022-04-30T19:06:33.404Z"
   },
   {
    "duration": 30,
    "start_time": "2022-04-30T19:07:13.677Z"
   },
   {
    "duration": 33,
    "start_time": "2022-04-30T19:07:21.325Z"
   },
   {
    "duration": 30,
    "start_time": "2022-04-30T19:07:30.937Z"
   },
   {
    "duration": 34,
    "start_time": "2022-04-30T19:08:38.342Z"
   },
   {
    "duration": 31,
    "start_time": "2022-04-30T19:08:57.682Z"
   },
   {
    "duration": 182,
    "start_time": "2022-04-30T19:16:42.331Z"
   },
   {
    "duration": 100,
    "start_time": "2022-04-30T19:16:53.759Z"
   },
   {
    "duration": 41,
    "start_time": "2022-04-30T19:17:14.756Z"
   },
   {
    "duration": 39,
    "start_time": "2022-04-30T19:17:59.952Z"
   },
   {
    "duration": 48,
    "start_time": "2022-04-30T19:20:06.666Z"
   },
   {
    "duration": 38,
    "start_time": "2022-04-30T19:20:38.846Z"
   },
   {
    "duration": 44,
    "start_time": "2022-04-30T19:23:22.960Z"
   },
   {
    "duration": 32,
    "start_time": "2022-04-30T19:23:59.693Z"
   },
   {
    "duration": 139,
    "start_time": "2022-04-30T19:35:10.199Z"
   },
   {
    "duration": 134,
    "start_time": "2022-04-30T19:36:25.111Z"
   },
   {
    "duration": 35,
    "start_time": "2022-04-30T19:36:35.329Z"
   },
   {
    "duration": 34,
    "start_time": "2022-04-30T19:37:16.589Z"
   },
   {
    "duration": 35,
    "start_time": "2022-04-30T19:37:28.426Z"
   },
   {
    "duration": 38,
    "start_time": "2022-04-30T19:38:31.790Z"
   },
   {
    "duration": 36,
    "start_time": "2022-04-30T19:38:40.270Z"
   },
   {
    "duration": 62,
    "start_time": "2022-04-30T19:40:00.699Z"
   },
   {
    "duration": 39,
    "start_time": "2022-04-30T19:41:34.273Z"
   },
   {
    "duration": 34,
    "start_time": "2022-04-30T19:44:17.443Z"
   },
   {
    "duration": 43,
    "start_time": "2022-04-30T19:44:34.243Z"
   },
   {
    "duration": 33,
    "start_time": "2022-04-30T19:45:13.823Z"
   },
   {
    "duration": 47,
    "start_time": "2022-04-30T19:46:32.720Z"
   },
   {
    "duration": 2314,
    "start_time": "2022-04-30T19:48:09.030Z"
   },
   {
    "duration": 2162,
    "start_time": "2022-04-30T19:48:27.190Z"
   },
   {
    "duration": 43,
    "start_time": "2022-04-30T19:48:42.770Z"
   },
   {
    "duration": 38,
    "start_time": "2022-04-30T19:50:19.403Z"
   },
   {
    "duration": 35,
    "start_time": "2022-04-30T19:50:48.683Z"
   },
   {
    "duration": 33,
    "start_time": "2022-04-30T19:51:19.548Z"
   },
   {
    "duration": 35,
    "start_time": "2022-04-30T19:51:32.268Z"
   },
   {
    "duration": 34,
    "start_time": "2022-04-30T19:52:35.884Z"
   },
   {
    "duration": 217,
    "start_time": "2022-04-30T19:56:38.605Z"
   },
   {
    "duration": 528,
    "start_time": "2022-04-30T19:57:44.140Z"
   },
   {
    "duration": 23,
    "start_time": "2022-04-30T20:01:03.617Z"
   },
   {
    "duration": 34,
    "start_time": "2022-04-30T20:02:58.511Z"
   },
   {
    "duration": 28,
    "start_time": "2022-04-30T20:03:31.091Z"
   },
   {
    "duration": 35,
    "start_time": "2022-04-30T20:04:49.137Z"
   },
   {
    "duration": 212,
    "start_time": "2022-04-30T20:05:37.785Z"
   },
   {
    "duration": 15,
    "start_time": "2022-04-30T20:07:08.423Z"
   },
   {
    "duration": 287,
    "start_time": "2022-04-30T20:07:48.846Z"
   },
   {
    "duration": 265,
    "start_time": "2022-04-30T20:08:16.427Z"
   },
   {
    "duration": 193,
    "start_time": "2022-04-30T20:08:24.967Z"
   },
   {
    "duration": 190,
    "start_time": "2022-04-30T20:08:50.440Z"
   },
   {
    "duration": 192,
    "start_time": "2022-04-30T20:09:18.636Z"
   },
   {
    "duration": 196,
    "start_time": "2022-04-30T20:09:52.332Z"
   },
   {
    "duration": 199,
    "start_time": "2022-04-30T20:10:10.588Z"
   },
   {
    "duration": 32,
    "start_time": "2022-04-30T20:11:37.950Z"
   },
   {
    "duration": 2131,
    "start_time": "2022-04-30T20:11:55.834Z"
   },
   {
    "duration": 2181,
    "start_time": "2022-04-30T20:12:06.770Z"
   },
   {
    "duration": 221,
    "start_time": "2022-04-30T20:12:43.874Z"
   },
   {
    "duration": 189,
    "start_time": "2022-04-30T20:13:25.847Z"
   },
   {
    "duration": 204,
    "start_time": "2022-04-30T20:15:56.189Z"
   },
   {
    "duration": 212,
    "start_time": "2022-04-30T20:16:46.646Z"
   },
   {
    "duration": 280,
    "start_time": "2022-04-30T20:17:02.714Z"
   },
   {
    "duration": 10,
    "start_time": "2022-04-30T20:22:09.133Z"
   },
   {
    "duration": 23,
    "start_time": "2022-04-30T20:26:41.225Z"
   },
   {
    "duration": 8,
    "start_time": "2022-04-30T20:27:38.434Z"
   },
   {
    "duration": 9,
    "start_time": "2022-04-30T20:27:55.882Z"
   },
   {
    "duration": 2,
    "start_time": "2022-04-30T20:28:11.102Z"
   },
   {
    "duration": 65,
    "start_time": "2022-04-30T20:28:11.109Z"
   },
   {
    "duration": 18,
    "start_time": "2022-04-30T20:28:11.176Z"
   },
   {
    "duration": 6,
    "start_time": "2022-04-30T20:28:11.195Z"
   },
   {
    "duration": 219,
    "start_time": "2022-04-30T20:28:11.203Z"
   },
   {
    "duration": 193,
    "start_time": "2022-04-30T20:28:11.424Z"
   },
   {
    "duration": 39,
    "start_time": "2022-04-30T20:28:11.619Z"
   },
   {
    "duration": 226,
    "start_time": "2022-04-30T20:28:11.660Z"
   },
   {
    "duration": 10,
    "start_time": "2022-04-30T20:28:11.892Z"
   },
   {
    "duration": 17,
    "start_time": "2022-04-30T20:28:11.904Z"
   },
   {
    "duration": 175,
    "start_time": "2022-04-30T20:28:11.922Z"
   },
   {
    "duration": 8,
    "start_time": "2022-04-30T20:28:12.098Z"
   },
   {
    "duration": 440,
    "start_time": "2022-04-30T20:28:12.108Z"
   },
   {
    "duration": 98,
    "start_time": "2022-04-30T20:28:12.550Z"
   },
   {
    "duration": 13,
    "start_time": "2022-04-30T20:28:12.649Z"
   },
   {
    "duration": 221,
    "start_time": "2022-04-30T20:28:12.663Z"
   },
   {
    "duration": 14,
    "start_time": "2022-04-30T20:28:12.886Z"
   },
   {
    "duration": 9,
    "start_time": "2022-04-30T20:28:12.902Z"
   },
   {
    "duration": 18,
    "start_time": "2022-04-30T20:28:12.912Z"
   },
   {
    "duration": 262,
    "start_time": "2022-04-30T20:28:12.932Z"
   },
   {
    "duration": 17,
    "start_time": "2022-04-30T20:28:45.311Z"
   },
   {
    "duration": 152,
    "start_time": "2022-04-30T20:29:07.374Z"
   },
   {
    "duration": 9,
    "start_time": "2022-04-30T20:29:13.605Z"
   },
   {
    "duration": 22,
    "start_time": "2022-04-30T20:29:33.044Z"
   },
   {
    "duration": 17,
    "start_time": "2022-04-30T20:31:10.604Z"
   },
   {
    "duration": 304,
    "start_time": "2022-04-30T20:31:21.593Z"
   },
   {
    "duration": 204,
    "start_time": "2022-04-30T20:31:41.101Z"
   },
   {
    "duration": 203,
    "start_time": "2022-04-30T20:33:40.798Z"
   },
   {
    "duration": 144,
    "start_time": "2022-04-30T20:35:00.011Z"
   },
   {
    "duration": 208,
    "start_time": "2022-04-30T20:35:11.335Z"
   },
   {
    "duration": 34,
    "start_time": "2022-04-30T20:39:08.250Z"
   },
   {
    "duration": 195,
    "start_time": "2022-04-30T20:39:13.367Z"
   },
   {
    "duration": 23,
    "start_time": "2022-04-30T20:40:19.659Z"
   },
   {
    "duration": 20,
    "start_time": "2022-04-30T20:40:33.030Z"
   },
   {
    "duration": 215,
    "start_time": "2022-04-30T20:40:35.567Z"
   },
   {
    "duration": 239,
    "start_time": "2022-04-30T20:41:14.893Z"
   },
   {
    "duration": 231,
    "start_time": "2022-04-30T20:41:42.301Z"
   },
   {
    "duration": 241,
    "start_time": "2022-04-30T20:42:26.321Z"
   },
   {
    "duration": 238,
    "start_time": "2022-04-30T20:46:26.284Z"
   },
   {
    "duration": 325,
    "start_time": "2022-04-30T20:47:13.208Z"
   },
   {
    "duration": 11,
    "start_time": "2022-04-30T20:47:48.198Z"
   },
   {
    "duration": 185,
    "start_time": "2022-04-30T20:47:58.437Z"
   },
   {
    "duration": 239,
    "start_time": "2022-04-30T20:48:07.442Z"
   },
   {
    "duration": 13,
    "start_time": "2022-04-30T20:48:21.065Z"
   },
   {
    "duration": 240,
    "start_time": "2022-04-30T20:48:26.151Z"
   },
   {
    "duration": 28,
    "start_time": "2022-04-30T20:54:40.989Z"
   },
   {
    "duration": 28,
    "start_time": "2022-04-30T20:55:45.895Z"
   },
   {
    "duration": 29,
    "start_time": "2022-04-30T20:56:03.807Z"
   },
   {
    "duration": 29,
    "start_time": "2022-04-30T20:57:14.336Z"
   },
   {
    "duration": 254,
    "start_time": "2022-04-30T20:57:20.836Z"
   },
   {
    "duration": 8,
    "start_time": "2022-04-30T20:57:56.790Z"
   },
   {
    "duration": 440,
    "start_time": "2022-04-30T20:58:09.503Z"
   },
   {
    "duration": 86,
    "start_time": "2022-04-30T20:58:18.413Z"
   },
   {
    "duration": 13,
    "start_time": "2022-04-30T20:58:24.892Z"
   },
   {
    "duration": 76,
    "start_time": "2022-04-30T21:45:42.711Z"
   },
   {
    "duration": 75,
    "start_time": "2022-05-04T06:19:25.782Z"
   },
   {
    "duration": 1864,
    "start_time": "2022-05-04T06:19:33.239Z"
   },
   {
    "duration": 94,
    "start_time": "2022-05-04T06:19:35.106Z"
   },
   {
    "duration": 27,
    "start_time": "2022-05-04T06:19:35.202Z"
   },
   {
    "duration": 9,
    "start_time": "2022-05-04T06:19:35.232Z"
   },
   {
    "duration": 349,
    "start_time": "2022-05-04T06:19:35.243Z"
   },
   {
    "duration": 329,
    "start_time": "2022-05-04T06:19:35.594Z"
   },
   {
    "duration": 131,
    "start_time": "2022-05-04T06:19:35.925Z"
   },
   {
    "duration": 367,
    "start_time": "2022-05-04T06:19:36.058Z"
   },
   {
    "duration": 12,
    "start_time": "2022-05-04T06:19:36.427Z"
   },
   {
    "duration": 61,
    "start_time": "2022-05-04T06:19:36.443Z"
   },
   {
    "duration": 472,
    "start_time": "2022-05-04T06:19:36.506Z"
   },
   {
    "duration": 10,
    "start_time": "2022-05-04T06:19:36.981Z"
   },
   {
    "duration": 807,
    "start_time": "2022-05-04T06:19:36.993Z"
   },
   {
    "duration": 153,
    "start_time": "2022-05-04T06:19:37.803Z"
   },
   {
    "duration": 26,
    "start_time": "2022-05-04T06:19:37.959Z"
   },
   {
    "duration": 400,
    "start_time": "2022-05-04T06:19:37.987Z"
   },
   {
    "duration": 2740,
    "start_time": "2022-05-04T06:19:38.389Z"
   },
   {
    "duration": 0,
    "start_time": "2022-05-04T06:19:41.131Z"
   },
   {
    "duration": 0,
    "start_time": "2022-05-04T06:19:41.133Z"
   },
   {
    "duration": 0,
    "start_time": "2022-05-04T06:19:41.135Z"
   },
   {
    "duration": 0,
    "start_time": "2022-05-04T06:19:41.137Z"
   },
   {
    "duration": 21,
    "start_time": "2022-05-04T06:45:21.417Z"
   },
   {
    "duration": 68,
    "start_time": "2022-05-04T06:51:16.737Z"
   },
   {
    "duration": 3,
    "start_time": "2022-05-04T06:51:22.254Z"
   },
   {
    "duration": 87,
    "start_time": "2022-05-04T06:51:22.265Z"
   },
   {
    "duration": 35,
    "start_time": "2022-05-04T06:51:22.355Z"
   },
   {
    "duration": 10,
    "start_time": "2022-05-04T06:51:22.392Z"
   },
   {
    "duration": 592,
    "start_time": "2022-05-04T06:51:22.405Z"
   },
   {
    "duration": 473,
    "start_time": "2022-05-04T06:51:23.000Z"
   },
   {
    "duration": 63,
    "start_time": "2022-05-04T06:51:23.475Z"
   },
   {
    "duration": 373,
    "start_time": "2022-05-04T06:51:23.540Z"
   },
   {
    "duration": 13,
    "start_time": "2022-05-04T06:51:23.918Z"
   },
   {
    "duration": 71,
    "start_time": "2022-05-04T06:51:23.933Z"
   },
   {
    "duration": 437,
    "start_time": "2022-05-04T06:51:24.006Z"
   },
   {
    "duration": 13,
    "start_time": "2022-05-04T06:51:24.446Z"
   },
   {
    "duration": 793,
    "start_time": "2022-05-04T06:51:24.461Z"
   },
   {
    "duration": 156,
    "start_time": "2022-05-04T06:51:25.256Z"
   },
   {
    "duration": 18,
    "start_time": "2022-05-04T06:51:25.414Z"
   },
   {
    "duration": 394,
    "start_time": "2022-05-04T06:51:25.434Z"
   },
   {
    "duration": 64,
    "start_time": "2022-05-04T06:51:25.830Z"
   },
   {
    "duration": 0,
    "start_time": "2022-05-04T06:51:25.897Z"
   },
   {
    "duration": 0,
    "start_time": "2022-05-04T06:51:25.898Z"
   },
   {
    "duration": 0,
    "start_time": "2022-05-04T06:51:25.900Z"
   },
   {
    "duration": 0,
    "start_time": "2022-05-04T06:51:25.901Z"
   },
   {
    "duration": 67,
    "start_time": "2022-05-04T06:53:14.762Z"
   },
   {
    "duration": 319,
    "start_time": "2022-05-04T07:18:48.089Z"
   },
   {
    "duration": 277,
    "start_time": "2022-05-04T07:21:33.687Z"
   },
   {
    "duration": 26,
    "start_time": "2022-05-04T07:24:13.809Z"
   },
   {
    "duration": 232,
    "start_time": "2022-05-04T07:24:38.349Z"
   },
   {
    "duration": 244,
    "start_time": "2022-05-04T07:32:52.831Z"
   },
   {
    "duration": 245,
    "start_time": "2022-05-04T07:33:13.748Z"
   },
   {
    "duration": 258,
    "start_time": "2022-05-04T08:09:30.056Z"
   },
   {
    "duration": 4,
    "start_time": "2022-05-04T08:11:23.562Z"
   },
   {
    "duration": 84,
    "start_time": "2022-05-04T08:11:23.696Z"
   },
   {
    "duration": 26,
    "start_time": "2022-05-04T08:11:23.783Z"
   },
   {
    "duration": 9,
    "start_time": "2022-05-04T08:11:23.811Z"
   },
   {
    "duration": 392,
    "start_time": "2022-05-04T08:11:23.823Z"
   },
   {
    "duration": 330,
    "start_time": "2022-05-04T08:11:24.218Z"
   },
   {
    "duration": 158,
    "start_time": "2022-05-04T08:11:24.551Z"
   },
   {
    "duration": 375,
    "start_time": "2022-05-04T08:11:24.711Z"
   },
   {
    "duration": 12,
    "start_time": "2022-05-04T08:11:25.089Z"
   },
   {
    "duration": 44,
    "start_time": "2022-05-04T08:11:25.104Z"
   },
   {
    "duration": 452,
    "start_time": "2022-05-04T08:11:25.150Z"
   },
   {
    "duration": 11,
    "start_time": "2022-05-04T08:11:25.605Z"
   },
   {
    "duration": 894,
    "start_time": "2022-05-04T08:11:25.618Z"
   },
   {
    "duration": 158,
    "start_time": "2022-05-04T08:11:26.514Z"
   },
   {
    "duration": 20,
    "start_time": "2022-05-04T08:11:26.682Z"
   },
   {
    "duration": 396,
    "start_time": "2022-05-04T08:11:26.705Z"
   },
   {
    "duration": 241,
    "start_time": "2022-05-04T08:11:27.103Z"
   },
   {
    "duration": 19,
    "start_time": "2022-05-04T08:11:27.346Z"
   },
   {
    "duration": 15,
    "start_time": "2022-05-04T08:11:27.366Z"
   },
   {
    "duration": 27,
    "start_time": "2022-05-04T08:11:27.383Z"
   },
   {
    "duration": 439,
    "start_time": "2022-05-04T08:11:27.412Z"
   },
   {
    "duration": 253,
    "start_time": "2022-05-04T08:13:52.223Z"
   },
   {
    "duration": 237,
    "start_time": "2022-05-04T08:13:55.908Z"
   },
   {
    "duration": 272,
    "start_time": "2022-05-04T08:14:12.004Z"
   },
   {
    "duration": 2665,
    "start_time": "2022-05-04T08:14:54.761Z"
   },
   {
    "duration": 751,
    "start_time": "2022-05-04T08:15:47.661Z"
   },
   {
    "duration": 736,
    "start_time": "2022-05-04T08:19:08.277Z"
   },
   {
    "duration": 19,
    "start_time": "2022-05-04T08:21:14.585Z"
   },
   {
    "duration": 26,
    "start_time": "2022-05-04T08:21:22.889Z"
   },
   {
    "duration": 12,
    "start_time": "2022-05-04T08:22:26.430Z"
   },
   {
    "duration": 12,
    "start_time": "2022-05-04T08:22:34.630Z"
   },
   {
    "duration": 17,
    "start_time": "2022-05-04T08:22:46.555Z"
   },
   {
    "duration": 22,
    "start_time": "2022-05-04T08:23:19.867Z"
   },
   {
    "duration": 18,
    "start_time": "2022-05-04T08:27:54.502Z"
   },
   {
    "duration": 32,
    "start_time": "2022-05-04T08:28:05.666Z"
   },
   {
    "duration": 28,
    "start_time": "2022-05-04T08:28:29.966Z"
   },
   {
    "duration": 17,
    "start_time": "2022-05-04T08:39:46.279Z"
   },
   {
    "duration": 22,
    "start_time": "2022-05-04T08:42:09.369Z"
   },
   {
    "duration": 24,
    "start_time": "2022-05-04T08:42:35.837Z"
   },
   {
    "duration": 24,
    "start_time": "2022-05-04T08:42:50.289Z"
   },
   {
    "duration": 11,
    "start_time": "2022-05-04T08:43:15.338Z"
   },
   {
    "duration": 24,
    "start_time": "2022-05-04T08:43:34.209Z"
   },
   {
    "duration": 16,
    "start_time": "2022-05-04T08:46:06.945Z"
   },
   {
    "duration": 17,
    "start_time": "2022-05-04T08:46:54.448Z"
   },
   {
    "duration": 23,
    "start_time": "2022-05-04T08:47:05.870Z"
   },
   {
    "duration": 17,
    "start_time": "2022-05-04T08:47:10.832Z"
   },
   {
    "duration": 21,
    "start_time": "2022-05-04T08:47:25.025Z"
   },
   {
    "duration": 59,
    "start_time": "2022-05-04T08:58:51.773Z"
   },
   {
    "duration": 1519,
    "start_time": "2022-05-04T09:27:08.493Z"
   },
   {
    "duration": 97,
    "start_time": "2022-05-04T09:27:10.015Z"
   },
   {
    "duration": 26,
    "start_time": "2022-05-04T09:27:10.114Z"
   },
   {
    "duration": 9,
    "start_time": "2022-05-04T09:27:10.143Z"
   },
   {
    "duration": 335,
    "start_time": "2022-05-04T09:27:10.181Z"
   },
   {
    "duration": 319,
    "start_time": "2022-05-04T09:27:10.518Z"
   },
   {
    "duration": 132,
    "start_time": "2022-05-04T09:27:10.839Z"
   },
   {
    "duration": 372,
    "start_time": "2022-05-04T09:27:10.973Z"
   },
   {
    "duration": 12,
    "start_time": "2022-05-04T09:27:11.347Z"
   },
   {
    "duration": 66,
    "start_time": "2022-05-04T09:27:11.361Z"
   },
   {
    "duration": 445,
    "start_time": "2022-05-04T09:27:11.429Z"
   },
   {
    "duration": 11,
    "start_time": "2022-05-04T09:27:11.876Z"
   },
   {
    "duration": 771,
    "start_time": "2022-05-04T09:27:11.889Z"
   },
   {
    "duration": 148,
    "start_time": "2022-05-04T09:27:12.664Z"
   },
   {
    "duration": 18,
    "start_time": "2022-05-04T09:27:12.814Z"
   },
   {
    "duration": 394,
    "start_time": "2022-05-04T09:27:12.834Z"
   },
   {
    "duration": 1417,
    "start_time": "2022-05-04T09:27:13.230Z"
   },
   {
    "duration": 26,
    "start_time": "2022-05-04T09:27:14.650Z"
   },
   {
    "duration": 20,
    "start_time": "2022-05-04T09:27:14.679Z"
   },
   {
    "duration": 15,
    "start_time": "2022-05-04T09:27:14.701Z"
   },
   {
    "duration": 20,
    "start_time": "2022-05-04T09:27:14.719Z"
   },
   {
    "duration": 63,
    "start_time": "2022-05-04T09:27:14.741Z"
   },
   {
    "duration": 444,
    "start_time": "2022-05-04T09:27:14.807Z"
   },
   {
    "duration": 1586,
    "start_time": "2022-05-04T15:21:44.537Z"
   },
   {
    "duration": 88,
    "start_time": "2022-05-04T15:21:46.126Z"
   },
   {
    "duration": 20,
    "start_time": "2022-05-04T15:21:46.216Z"
   },
   {
    "duration": 6,
    "start_time": "2022-05-04T15:21:46.239Z"
   },
   {
    "duration": 226,
    "start_time": "2022-05-04T15:21:46.247Z"
   },
   {
    "duration": 201,
    "start_time": "2022-05-04T15:21:46.475Z"
   },
   {
    "duration": 76,
    "start_time": "2022-05-04T15:21:46.678Z"
   },
   {
    "duration": 253,
    "start_time": "2022-05-04T15:21:46.757Z"
   },
   {
    "duration": 9,
    "start_time": "2022-05-04T15:21:47.012Z"
   },
   {
    "duration": 33,
    "start_time": "2022-05-04T15:21:47.024Z"
   },
   {
    "duration": 311,
    "start_time": "2022-05-04T15:21:47.059Z"
   },
   {
    "duration": 8,
    "start_time": "2022-05-04T15:21:47.372Z"
   },
   {
    "duration": 442,
    "start_time": "2022-05-04T15:21:47.382Z"
   },
   {
    "duration": 94,
    "start_time": "2022-05-04T15:21:47.826Z"
   },
   {
    "duration": 14,
    "start_time": "2022-05-04T15:21:47.921Z"
   },
   {
    "duration": 252,
    "start_time": "2022-05-04T15:21:47.937Z"
   },
   {
    "duration": 1261,
    "start_time": "2022-05-04T15:21:48.190Z"
   },
   {
    "duration": 16,
    "start_time": "2022-05-04T15:21:49.452Z"
   },
   {
    "duration": 14,
    "start_time": "2022-05-04T15:21:49.470Z"
   },
   {
    "duration": 10,
    "start_time": "2022-05-04T15:21:49.485Z"
   },
   {
    "duration": 14,
    "start_time": "2022-05-04T15:21:49.496Z"
   },
   {
    "duration": 18,
    "start_time": "2022-05-04T15:21:49.512Z"
   },
   {
    "duration": 301,
    "start_time": "2022-05-04T15:21:49.532Z"
   },
   {
    "duration": 137,
    "start_time": "2022-05-04T15:25:27.579Z"
   },
   {
    "duration": 38,
    "start_time": "2022-05-04T15:26:39.737Z"
   },
   {
    "duration": 38,
    "start_time": "2022-05-04T15:27:00.595Z"
   },
   {
    "duration": 1423,
    "start_time": "2022-05-04T21:05:05.432Z"
   },
   {
    "duration": 83,
    "start_time": "2022-05-04T21:05:06.857Z"
   },
   {
    "duration": 20,
    "start_time": "2022-05-04T21:05:06.941Z"
   },
   {
    "duration": 7,
    "start_time": "2022-05-04T21:05:06.963Z"
   },
   {
    "duration": 223,
    "start_time": "2022-05-04T21:05:06.971Z"
   },
   {
    "duration": 213,
    "start_time": "2022-05-04T21:05:07.196Z"
   },
   {
    "duration": 78,
    "start_time": "2022-05-04T21:05:07.411Z"
   },
   {
    "duration": 258,
    "start_time": "2022-05-04T21:05:07.490Z"
   },
   {
    "duration": 9,
    "start_time": "2022-05-04T21:05:07.750Z"
   },
   {
    "duration": 38,
    "start_time": "2022-05-04T21:05:07.761Z"
   },
   {
    "duration": 320,
    "start_time": "2022-05-04T21:05:07.808Z"
   },
   {
    "duration": 10,
    "start_time": "2022-05-04T21:05:08.130Z"
   },
   {
    "duration": 491,
    "start_time": "2022-05-04T21:05:08.142Z"
   },
   {
    "duration": 100,
    "start_time": "2022-05-04T21:05:08.635Z"
   },
   {
    "duration": 13,
    "start_time": "2022-05-04T21:05:08.737Z"
   },
   {
    "duration": 260,
    "start_time": "2022-05-04T21:05:08.752Z"
   },
   {
    "duration": 1161,
    "start_time": "2022-05-04T21:05:09.014Z"
   },
   {
    "duration": 17,
    "start_time": "2022-05-04T21:05:10.177Z"
   },
   {
    "duration": 15,
    "start_time": "2022-05-04T21:05:10.195Z"
   },
   {
    "duration": 12,
    "start_time": "2022-05-04T21:05:10.211Z"
   },
   {
    "duration": 14,
    "start_time": "2022-05-04T21:05:10.224Z"
   },
   {
    "duration": 18,
    "start_time": "2022-05-04T21:05:10.240Z"
   },
   {
    "duration": 320,
    "start_time": "2022-05-04T21:05:10.260Z"
   },
   {
    "duration": 68,
    "start_time": "2022-05-04T21:07:09.968Z"
   },
   {
    "duration": 66,
    "start_time": "2022-05-04T21:11:36.091Z"
   },
   {
    "duration": 12,
    "start_time": "2022-05-04T21:11:54.679Z"
   },
   {
    "duration": 119,
    "start_time": "2022-05-04T21:12:17.193Z"
   },
   {
    "duration": 13,
    "start_time": "2022-05-04T21:12:20.388Z"
   },
   {
    "duration": 13,
    "start_time": "2022-05-04T21:12:35.527Z"
   },
   {
    "duration": 67,
    "start_time": "2022-05-05T02:11:14.384Z"
   },
   {
    "duration": 1775,
    "start_time": "2022-05-05T02:11:28.356Z"
   },
   {
    "duration": 106,
    "start_time": "2022-05-05T02:11:30.133Z"
   },
   {
    "duration": 27,
    "start_time": "2022-05-05T02:11:30.242Z"
   },
   {
    "duration": 10,
    "start_time": "2022-05-05T02:11:30.292Z"
   },
   {
    "duration": 332,
    "start_time": "2022-05-05T02:11:30.304Z"
   },
   {
    "duration": 310,
    "start_time": "2022-05-05T02:11:30.639Z"
   },
   {
    "duration": 123,
    "start_time": "2022-05-05T02:11:30.951Z"
   },
   {
    "duration": 352,
    "start_time": "2022-05-05T02:11:31.076Z"
   },
   {
    "duration": 12,
    "start_time": "2022-05-05T02:11:31.431Z"
   },
   {
    "duration": 59,
    "start_time": "2022-05-05T02:11:31.447Z"
   },
   {
    "duration": 453,
    "start_time": "2022-05-05T02:11:31.509Z"
   },
   {
    "duration": 13,
    "start_time": "2022-05-05T02:11:31.964Z"
   },
   {
    "duration": 761,
    "start_time": "2022-05-05T02:11:31.979Z"
   },
   {
    "duration": 155,
    "start_time": "2022-05-05T02:11:32.743Z"
   },
   {
    "duration": 22,
    "start_time": "2022-05-05T02:11:32.901Z"
   },
   {
    "duration": 391,
    "start_time": "2022-05-05T02:11:32.925Z"
   },
   {
    "duration": 1336,
    "start_time": "2022-05-05T02:11:33.319Z"
   },
   {
    "duration": 22,
    "start_time": "2022-05-05T02:11:34.657Z"
   },
   {
    "duration": 18,
    "start_time": "2022-05-05T02:11:34.681Z"
   },
   {
    "duration": 13,
    "start_time": "2022-05-05T02:11:34.701Z"
   },
   {
    "duration": 17,
    "start_time": "2022-05-05T02:11:34.717Z"
   },
   {
    "duration": 25,
    "start_time": "2022-05-05T02:11:34.736Z"
   },
   {
    "duration": 446,
    "start_time": "2022-05-05T02:11:34.763Z"
   },
   {
    "duration": 22,
    "start_time": "2022-05-05T02:15:41.667Z"
   },
   {
    "duration": 105,
    "start_time": "2022-05-05T02:17:45.138Z"
   },
   {
    "duration": 12,
    "start_time": "2022-05-05T02:18:02.604Z"
   },
   {
    "duration": 33,
    "start_time": "2022-05-05T02:18:28.865Z"
   },
   {
    "duration": 37,
    "start_time": "2022-05-05T02:18:36.595Z"
   },
   {
    "duration": 41,
    "start_time": "2022-05-05T02:18:41.777Z"
   },
   {
    "duration": 41,
    "start_time": "2022-05-05T02:19:54.518Z"
   },
   {
    "duration": 40103,
    "start_time": "2022-05-05T02:20:31.463Z"
   },
   {
    "duration": 40,
    "start_time": "2022-05-05T02:24:14.974Z"
   },
   {
    "duration": 44,
    "start_time": "2022-05-05T02:24:38.361Z"
   },
   {
    "duration": 41,
    "start_time": "2022-05-05T02:26:28.813Z"
   },
   {
    "duration": 36,
    "start_time": "2022-05-05T02:27:00.379Z"
   },
   {
    "duration": 40978,
    "start_time": "2022-05-05T02:30:58.635Z"
   },
   {
    "duration": 38,
    "start_time": "2022-05-05T02:34:08.912Z"
   },
   {
    "duration": 34,
    "start_time": "2022-05-05T02:34:25.579Z"
   },
   {
    "duration": 227,
    "start_time": "2022-05-05T02:38:36.876Z"
   },
   {
    "duration": 40,
    "start_time": "2022-05-05T02:38:54.811Z"
   },
   {
    "duration": 331,
    "start_time": "2022-05-05T02:39:37.463Z"
   },
   {
    "duration": 1109,
    "start_time": "2022-05-05T02:40:29.716Z"
   },
   {
    "duration": 41,
    "start_time": "2022-05-05T02:41:04.153Z"
   },
   {
    "duration": 39812,
    "start_time": "2022-05-05T02:41:39.608Z"
   },
   {
    "duration": 41,
    "start_time": "2022-05-05T02:42:58.050Z"
   },
   {
    "duration": 460,
    "start_time": "2022-05-05T02:43:12.054Z"
   },
   {
    "duration": 33,
    "start_time": "2022-05-05T02:44:34.886Z"
   },
   {
    "duration": 459,
    "start_time": "2022-05-05T02:44:47.424Z"
   },
   {
    "duration": 36,
    "start_time": "2022-05-05T02:45:42.188Z"
   },
   {
    "duration": 459,
    "start_time": "2022-05-05T02:46:04.365Z"
   },
   {
    "duration": 441,
    "start_time": "2022-05-05T02:47:36.953Z"
   },
   {
    "duration": 458,
    "start_time": "2022-05-05T02:49:02.083Z"
   },
   {
    "duration": 448,
    "start_time": "2022-05-05T02:49:30.951Z"
   },
   {
    "duration": 35,
    "start_time": "2022-05-05T02:51:11.069Z"
   },
   {
    "duration": 578,
    "start_time": "2022-05-05T02:51:35.373Z"
   },
   {
    "duration": 460,
    "start_time": "2022-05-05T02:53:51.658Z"
   },
   {
    "duration": 41,
    "start_time": "2022-05-05T02:55:17.884Z"
   },
   {
    "duration": 42,
    "start_time": "2022-05-05T02:55:34.860Z"
   },
   {
    "duration": 45,
    "start_time": "2022-05-05T02:55:53.090Z"
   },
   {
    "duration": 3312,
    "start_time": "2022-05-05T03:02:21.648Z"
   },
   {
    "duration": 12,
    "start_time": "2022-05-05T03:02:41.261Z"
   },
   {
    "duration": 43,
    "start_time": "2022-05-05T03:04:31.146Z"
   },
   {
    "duration": 46,
    "start_time": "2022-05-05T03:04:49.498Z"
   },
   {
    "duration": 1983,
    "start_time": "2022-05-05T11:08:29.593Z"
   },
   {
    "duration": 102,
    "start_time": "2022-05-05T11:08:31.579Z"
   },
   {
    "duration": 41,
    "start_time": "2022-05-05T11:08:31.683Z"
   },
   {
    "duration": 10,
    "start_time": "2022-05-05T11:08:31.726Z"
   },
   {
    "duration": 349,
    "start_time": "2022-05-05T11:08:31.739Z"
   },
   {
    "duration": 341,
    "start_time": "2022-05-05T11:08:32.090Z"
   },
   {
    "duration": 138,
    "start_time": "2022-05-05T11:08:32.433Z"
   },
   {
    "duration": 390,
    "start_time": "2022-05-05T11:08:32.574Z"
   },
   {
    "duration": 13,
    "start_time": "2022-05-05T11:08:32.967Z"
   },
   {
    "duration": 71,
    "start_time": "2022-05-05T11:08:32.982Z"
   },
   {
    "duration": 617,
    "start_time": "2022-05-05T11:08:33.056Z"
   },
   {
    "duration": 11,
    "start_time": "2022-05-05T11:08:33.676Z"
   },
   {
    "duration": 845,
    "start_time": "2022-05-05T11:08:33.689Z"
   },
   {
    "duration": 154,
    "start_time": "2022-05-05T11:08:34.537Z"
   },
   {
    "duration": 31,
    "start_time": "2022-05-05T11:08:34.693Z"
   },
   {
    "duration": 393,
    "start_time": "2022-05-05T11:08:34.726Z"
   },
   {
    "duration": 1060,
    "start_time": "2022-05-05T11:08:35.125Z"
   },
   {
    "duration": 26,
    "start_time": "2022-05-05T11:08:36.187Z"
   },
   {
    "duration": 20,
    "start_time": "2022-05-05T11:08:36.215Z"
   },
   {
    "duration": 20,
    "start_time": "2022-05-05T11:08:36.237Z"
   },
   {
    "duration": 25,
    "start_time": "2022-05-05T11:08:36.259Z"
   },
   {
    "duration": 65,
    "start_time": "2022-05-05T11:08:36.286Z"
   },
   {
    "duration": 445,
    "start_time": "2022-05-05T11:08:36.353Z"
   },
   {
    "duration": 10,
    "start_time": "2022-05-05T11:09:45.735Z"
   },
   {
    "duration": 4,
    "start_time": "2022-05-05T11:10:49.244Z"
   },
   {
    "duration": 387,
    "start_time": "2022-05-05T11:11:06.086Z"
   },
   {
    "duration": 48,
    "start_time": "2022-05-05T11:14:08.720Z"
   },
   {
    "duration": 564,
    "start_time": "2022-05-05T11:14:11.806Z"
   },
   {
    "duration": 54,
    "start_time": "2022-05-05T11:45:55.255Z"
   },
   {
    "duration": 1447,
    "start_time": "2022-05-05T11:46:06.039Z"
   },
   {
    "duration": 255,
    "start_time": "2022-05-05T11:46:07.488Z"
   },
   {
    "duration": 19,
    "start_time": "2022-05-05T11:46:07.745Z"
   },
   {
    "duration": 6,
    "start_time": "2022-05-05T11:46:07.766Z"
   },
   {
    "duration": 234,
    "start_time": "2022-05-05T11:46:07.774Z"
   },
   {
    "duration": 232,
    "start_time": "2022-05-05T11:46:08.009Z"
   },
   {
    "duration": 106,
    "start_time": "2022-05-05T11:46:08.243Z"
   },
   {
    "duration": 253,
    "start_time": "2022-05-05T11:46:08.351Z"
   },
   {
    "duration": 10,
    "start_time": "2022-05-05T11:46:08.605Z"
   },
   {
    "duration": 35,
    "start_time": "2022-05-05T11:46:08.617Z"
   },
   {
    "duration": 404,
    "start_time": "2022-05-05T11:46:08.654Z"
   },
   {
    "duration": 9,
    "start_time": "2022-05-05T11:46:09.060Z"
   },
   {
    "duration": 507,
    "start_time": "2022-05-05T11:46:09.071Z"
   },
   {
    "duration": 96,
    "start_time": "2022-05-05T11:46:09.580Z"
   },
   {
    "duration": 14,
    "start_time": "2022-05-05T11:46:09.678Z"
   },
   {
    "duration": 344,
    "start_time": "2022-05-05T11:46:09.693Z"
   },
   {
    "duration": 1222,
    "start_time": "2022-05-05T11:46:10.039Z"
   },
   {
    "duration": 17,
    "start_time": "2022-05-05T11:46:11.262Z"
   },
   {
    "duration": 15,
    "start_time": "2022-05-05T11:46:11.280Z"
   },
   {
    "duration": 11,
    "start_time": "2022-05-05T11:46:11.296Z"
   },
   {
    "duration": 16,
    "start_time": "2022-05-05T11:46:11.332Z"
   },
   {
    "duration": 22,
    "start_time": "2022-05-05T11:46:11.351Z"
   },
   {
    "duration": 332,
    "start_time": "2022-05-05T11:46:11.374Z"
   },
   {
    "duration": 248,
    "start_time": "2022-05-05T11:47:16.116Z"
   },
   {
    "duration": 287,
    "start_time": "2022-05-05T11:52:08.354Z"
   },
   {
    "duration": 1231,
    "start_time": "2022-05-06T07:12:55.589Z"
   },
   {
    "duration": 76,
    "start_time": "2022-05-06T07:12:56.821Z"
   },
   {
    "duration": 17,
    "start_time": "2022-05-06T07:12:56.899Z"
   },
   {
    "duration": 6,
    "start_time": "2022-05-06T07:12:56.918Z"
   },
   {
    "duration": 202,
    "start_time": "2022-05-06T07:12:56.926Z"
   },
   {
    "duration": 188,
    "start_time": "2022-05-06T07:12:57.130Z"
   },
   {
    "duration": 84,
    "start_time": "2022-05-06T07:12:57.320Z"
   },
   {
    "duration": 215,
    "start_time": "2022-05-06T07:12:57.406Z"
   },
   {
    "duration": 8,
    "start_time": "2022-05-06T07:12:57.622Z"
   },
   {
    "duration": 32,
    "start_time": "2022-05-06T07:12:57.632Z"
   },
   {
    "duration": 214,
    "start_time": "2022-05-06T07:12:57.665Z"
   },
   {
    "duration": 8,
    "start_time": "2022-05-06T07:12:57.881Z"
   },
   {
    "duration": 783,
    "start_time": "2022-05-06T07:12:57.890Z"
   },
   {
    "duration": 201,
    "start_time": "2022-05-06T07:12:58.677Z"
   },
   {
    "duration": 80,
    "start_time": "2022-05-06T07:12:58.880Z"
   },
   {
    "duration": 392,
    "start_time": "2022-05-06T07:12:58.962Z"
   },
   {
    "duration": 1404,
    "start_time": "2022-05-06T07:12:59.356Z"
   },
   {
    "duration": 15,
    "start_time": "2022-05-06T07:13:00.763Z"
   },
   {
    "duration": 72,
    "start_time": "2022-05-06T07:13:00.780Z"
   },
   {
    "duration": 12,
    "start_time": "2022-05-06T07:13:00.854Z"
   },
   {
    "duration": 88,
    "start_time": "2022-05-06T07:13:00.867Z"
   },
   {
    "duration": 29,
    "start_time": "2022-05-06T07:13:00.957Z"
   },
   {
    "duration": 575,
    "start_time": "2022-05-06T07:13:00.987Z"
   },
   {
    "duration": 152,
    "start_time": "2022-05-06T07:14:03.461Z"
   }
  ],
  "kernelspec": {
   "display_name": "Python 3 (ipykernel)",
   "language": "python",
   "name": "python3"
  },
  "language_info": {
   "codemirror_mode": {
    "name": "ipython",
    "version": 3
   },
   "file_extension": ".py",
   "mimetype": "text/x-python",
   "name": "python",
   "nbconvert_exporter": "python",
   "pygments_lexer": "ipython3",
   "version": "3.9.7"
  },
  "toc": {
   "base_numbering": 1,
   "nav_menu": {},
   "number_sections": true,
   "sideBar": true,
   "skip_h1_title": false,
   "title_cell": "Table of Contents",
   "title_sidebar": "Contents",
   "toc_cell": true,
   "toc_position": {
    "height": "calc(100% - 180px)",
    "left": "10px",
    "top": "150px",
    "width": "165px"
   },
   "toc_section_display": true,
   "toc_window_display": true
  }
 },
 "nbformat": 4,
 "nbformat_minor": 2
}
